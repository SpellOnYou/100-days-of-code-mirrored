{
  "nbformat": 4,
  "nbformat_minor": 0,
  "metadata": {
    "kernelspec": {
      "display_name": "Python 3",
      "language": "python",
      "name": "python3"
    },
    "language_info": {
      "codemirror_mode": {
        "name": "ipython",
        "version": 3
      },
      "file_extension": ".py",
      "mimetype": "text/x-python",
      "name": "python",
      "nbconvert_exporter": "python",
      "pygments_lexer": "ipython3",
      "version": "3.8.0"
    },
    "colab": {
      "name": "assignment2.ipynb",
      "provenance": [],
      "include_colab_link": true
    }
  },
  "cells": [
    {
      "cell_type": "markdown",
      "metadata": {
        "id": "view-in-github",
        "colab_type": "text"
      },
      "source": [
        "<a href=\"https://colab.research.google.com/github/SpellOnYou/10000-days-of-code/blob/master/assignment2/assignment2.ipynb\" target=\"_parent\"><img src=\"https://colab.research.google.com/assets/colab-badge.svg\" alt=\"Open In Colab\"/></a>"
      ]
    },
    {
      "cell_type": "markdown",
      "metadata": {
        "id": "wT4S4RCF8ueT"
      },
      "source": [
        "# Assignment 2: Naive Bayes and Text Classification\n",
        "\n",
        "Only use the already imported library `numpy`. Make sure that the `liar.txt` dataset is in the same directory as the notebook.\n",
        "\n",
        "List your team members (name and immatriculation number) in the following cell:"
      ]
    },
    {
      "cell_type": "markdown",
      "metadata": {
        "id": "KdTspmEP8ueg"
      },
      "source": [
        "* *Fabia Bayer, 3130760, M.Sc. Technische Kybernetik*\n",
        "* *Tobias Ziegler, 3257258, M.Sc. Technische Kybernetik.*\n",
        "* *Jiwon Kim, 3567919, M.Sc. Computational Linguistics*\n"
      ]
    },
    {
      "cell_type": "code",
      "metadata": {
        "id": "WLXn266t8ueh",
        "outputId": "a3403266-e17e-492a-a877-5f587a3e5846",
        "colab": {
          "base_uri": "https://localhost:8080/"
        }
      },
      "source": [
        "# Load required packages and dataset. Do not modify.\n",
        "import numpy as np\n",
        "\n",
        "\n",
        "def load_liar_dataset():\n",
        "    import string\n",
        "    \n",
        "    with open('liar.txt', mode='r', encoding='utf-8') as f:\n",
        "        rows = [l.strip().split('\\t')[:2] for l in f]\n",
        "    \n",
        "    y, X = zip(*rows)\n",
        "    X =[x.translate(str.maketrans('', '', string.punctuation)).lower().split() for x in X]\n",
        "    \n",
        "    return X, y\n",
        "    \n",
        "\n",
        "X, y = load_liar_dataset()\n",
        "\n",
        "print('Sample:')\n",
        "print(f'{y[0]}: {X[0]}')\n",
        "print(f'{y[2]}: {X[2]}')"
      ],
      "execution_count": 1,
      "outputs": [
        {
          "output_type": "stream",
          "text": [
            "Sample:\n",
            "real: ['thanks', 'to', 'our', 'reforms', 'the', 'average', 'family', 'will', 'have', 'an', 'extra', '322', 'to', 'spend']\n",
            "real: ['winning', 'enough', 'pledged', 'delegates', 'is', 'not', 'impossible']\n"
          ],
          "name": "stdout"
        }
      ]
    },
    {
      "cell_type": "markdown",
      "metadata": {
        "id": "wBmbmbAy8uei"
      },
      "source": [
        "## Task 2: Fake News Classification with Naive Bayes\n",
        "\n",
        "Implement a Naive Bayes classifier with Laplace smoothing to detect whether a text message is fake or real (not fake).\n",
        "\n",
        "A text message is represented by a list of string tokens as shown above.\n",
        "The classification target is binary and the two possible labels are the strings `'fake'` and `'real'`.\n",
        "\n",
        "Fill out the methods in `NaiveBayesFakeNewsClassifier` to train (`fit`) and predict (`predict`). Feel free to introduce new fields and methods based on your needs, but the methods `fit` and `predict` are required and their interface should not be changed.\n",
        "\n",
        "Hint: Try to map the text messages to word frequency vectors by counting how often each word occurs in a message."
      ]
    },
    {
      "cell_type": "code",
      "metadata": {
        "id": "LXPDPYAz8uej"
      },
      "source": [
        "# Implement your solution here.\n",
        "class NaiveBayesFakeNewsClassifier(object):\n",
        "    def __init__(self):\n",
        "        pass\n",
        "\n",
        "    def _count(self, ls):\n",
        "        \"\"\"\n",
        "        get list composed of tokens and return word count dict\n",
        "        \"\"\"\n",
        "        \n",
        "        d = {}\n",
        "        for token in ls:\n",
        "            if token in d.keys(): d[token] +=1\n",
        "            else: d[token] = 1\n",
        "\n",
        "        return d        \n",
        "\n",
        "    def _word_freq(self):\n",
        "        \"\"\"\n",
        "        Returns\n",
        "        ---\n",
        "        (d1, d2)\n",
        "        d1(dict): word freq dict 'real' label\n",
        "        d2(dict): word freq dict 'fake' label\n",
        "        \"\"\"\n",
        "        ls_real, ls_fake = [], [] #initialize empty list for each label\n",
        "        \n",
        "        #split docs using label and append unpacked string sequence\n",
        "        for doc, c in zip(self.x, self.y):\n",
        "            if c == 'real':\n",
        "                ls_real += doc\n",
        "            else: ls_fake += doc\n",
        "\n",
        "        self.tot_wc = len(set(ls_real + ls_fake)) #save total word count for smoothing\n",
        "         \n",
        "        return self._count(ls_real), self._count(ls_fake)\n",
        "\n",
        "        #funciton which initialize real, fake probability for each text\n",
        "    def _prob_init(self):\n",
        "        self.real_p = 1\n",
        "        self.fake_p = 1\n",
        "\n",
        "    #probability with laplace smoothing / return probability for p(token|label)\n",
        "    def _laplace_p(self, token):\n",
        "        \n",
        "        #count token frequency in label, if else assign 0\n",
        "        real_cnt = self.real_freq.get(token) if token in self.real_freq.keys() else 0\n",
        "        real_p = (real_cnt+1)/(self.real_wc + self.tot_wc) #smoothing\n",
        "\n",
        "        fake_cnt = self.fake_freq.get(token) if token in self.fake_freq.keys() else 0\n",
        "        fake_p = (fake_cnt+1)/(self.fake_wc + self.tot_wc)        \n",
        "        return real_p, fake_p\n",
        "\n",
        "    def fit(self, X, y):\n",
        "        \"\"\"\n",
        "        X is a list of `n` text messages. Each text message is a list of strings with at least length one.\n",
        "        y is a list of `n` labels either the string 'fake' or the string 'real'.\n",
        "        \"\"\"\n",
        "        self.x, self.y = map(lambda x: np.array(x, dtype='object'),(X, y)) #assign np array to make slicing easy\n",
        "        self.real_freq, self.fake_freq = self._word_freq() #word probability in class real\n",
        "\n",
        "        self.real_wc = len(self.real_freq.keys()) # unique words count in real clas\n",
        "        self.fake_wc = len(self.fake_freq.keys()) # unique words count in fake clas\n",
        "\n",
        "\n",
        "        pass\n",
        "\n",
        "    def predict(self, X):\n",
        "        \"\"\"\n",
        "        X is a list of `n` text messages. Each text message is a list of strings with at least length one.\n",
        "        The method returns a list of `n` strings, i.e. classification labels ('fake' or 'real').\n",
        "        \"\"\"\n",
        "        pred = [] #predict resultss\n",
        "\n",
        "        #iterate X\n",
        "        for text in X:\n",
        "            self._prob_init() #initialize probabilty for each label \n",
        "            for token in text:\n",
        "                # probability whether real/fake\n",
        "                wd_real_p, wd_fake_p = self._laplace_p(token)\n",
        "                self.real_p *= wd_real_p\n",
        "                self.fake_p *= wd_fake_p\n",
        "            guess = 'real' if self.real_p > self.fake_p else 'fake'\n",
        "            # if guess == 'fake': print('yes')\n",
        "            pred.append(guess)\n",
        "\n",
        "        return pred\n"
      ],
      "execution_count": 2,
      "outputs": []
    },
    {
      "cell_type": "code",
      "metadata": {
        "id": "Q7lonoGm8uej",
        "outputId": "c58b4c83-e561-4e81-9242-ff19646b3348",
        "colab": {
          "base_uri": "https://localhost:8080/",
          "height": 561
        }
      },
      "source": [
        "# The following code will evaluate your classifier.\n",
        "class RealClassifier(object):\n",
        "    \"\"\"\n",
        "    This classifier is a primitive baseline, which just predicts the most common class each time.\n",
        "    Naive Bayes should definitely beat this.\n",
        "    \"\"\"\n",
        "    def fit(self, X, y): pass\n",
        "    def predict(self, X): return len(X)*['real']\n",
        "\n",
        "    \n",
        "def train_evaluate(classifier, X, y):\n",
        "    from sklearn.metrics import confusion_matrix\n",
        "    from sklearn.model_selection import train_test_split\n",
        "    \n",
        "    # Apply train-test split.\n",
        "    X_train, X_test, y_train, y_test = train_test_split(X, y, test_size=0.3, random_state=2020)\n",
        "    # Inititialize and train classifier.\n",
        "    classifier.fit(X_train, y_train)\n",
        "    # Evaluate classifier on test data.\n",
        "    yhat_test = classifier.predict(X_test)\n",
        "    cmatrix = confusion_matrix(y_test, yhat_test, labels=['real', 'fake'])\n",
        "    \n",
        "    return cmatrix\n",
        "\n",
        "\n",
        "def plot_confusion_matrix(cmatrix, classifier_name):\n",
        "    import matplotlib.pyplot as plt\n",
        "    \n",
        "    fig, ax = plt.subplots(1, 1)\n",
        "    ax.matshow(cmatrix, cmap='Greens')\n",
        "    for x in (0, 1):\n",
        "        for y in (0, 1):\n",
        "            ax.text(x, y, cmatrix[y, x])\n",
        "    ax.set_xlabel('predicted label')\n",
        "    ax.set_ylabel('true label')\n",
        "    ax.set_xticklabels(['', 'real', 'fake'])\n",
        "    ax.set_yticklabels(['', 'real', 'fake'])\n",
        "    ax.set_title(classifier_name)\n",
        "\n",
        "    \n",
        "    \n",
        "real_classifier = RealClassifier()\n",
        "your_classifier = NaiveBayesFakeNewsClassifier()\n",
        "real_cmatrix = train_evaluate(real_classifier, X, y)\n",
        "your_cmatrix = train_evaluate(your_classifier, X, y)\n",
        "\n",
        "plot_confusion_matrix(real_cmatrix, 'RealClassifier')\n",
        "plot_confusion_matrix(your_cmatrix, 'NaiveBayesFakeNewsClassifier')"
      ],
      "execution_count": 4,
      "outputs": [
        {
          "output_type": "display_data",
          "data": {
            "image/png": "[encoded data removed]",
            "text/plain": [
              "<Figure size 432x288 with 1 Axes>"
            ]
          },
          "metadata": {
            "tags": [],
            "needs_background": "light"
          }
        },
        {
          "output_type": "display_data",
          "data": {
            "image/png": "[encoded data removed]",
            "text/plain": [
              "<Figure size 432x288 with 1 Axes>"
            ]
          },
          "metadata": {
            "tags": [],
            "needs_background": "light"
          }
        }
      ]
    }
  ]
}