{
  "nbformat": 4,
  "nbformat_minor": 0,
  "metadata": {
    "colab": {
      "name": "00_copy_matmul.ipynb",
      "provenance": [],
      "collapsed_sections": [],
      "toc_visible": true
    },
    "kernelspec": {
      "name": "python3",
      "display_name": "Python 3"
    }
  },
  "cells": [
    {
      "cell_type": "markdown",
      "metadata": {
        "id": "g5tu7tUSEOqn",
        "colab_type": "text"
      },
      "source": [
        "# Set-up (for colab)"
      ]
    },
    {
      "cell_type": "code",
      "metadata": {
        "id": "eGNdNhnAA7Ra",
        "colab_type": "code",
        "colab": {
          "base_uri": "https://localhost:8080/",
          "height": 155
        },
        "outputId": "761c6325-abbd-4d1b-e69c-61ece1432b1e"
      },
      "source": [
        "!git clone https://github.com/fastai/course-v3/"
      ],
      "execution_count": null,
      "outputs": [
        {
          "output_type": "stream",
          "text": [
            "Cloning into 'course-v3'...\n",
            "remote: Enumerating objects: 4, done.\u001b[K\n",
            "remote: Counting objects:  25% (1/4)\u001b[K\rremote: Counting objects:  50% (2/4)\u001b[K\rremote: Counting objects:  75% (3/4)\u001b[K\rremote: Counting objects: 100% (4/4)\u001b[K\rremote: Counting objects: 100% (4/4), done.\u001b[K\n",
            "remote: Compressing objects: 100% (4/4), done.\u001b[K\n",
            "remote: Total 5495 (delta 0), reused 2 (delta 0), pack-reused 5491\u001b[K\n",
            "Receiving objects: 100% (5495/5495), 258.01 MiB | 13.75 MiB/s, done.\n",
            "Resolving deltas: 100% (2987/2987), done.\n",
            "Checking out files: 100% (860/860), done.\n"
          ],
          "name": "stdout"
        }
      ]
    },
    {
      "cell_type": "code",
      "metadata": {
        "id": "7GrUn0sJCM6q",
        "colab_type": "code",
        "colab": {
          "base_uri": "https://localhost:8080/",
          "height": 35
        },
        "outputId": "31606397-e439-49f0-b3eb-718f0e942564"
      },
      "source": [
        "%cd /content/course-v3/nbs/dl2/"
      ],
      "execution_count": null,
      "outputs": [
        {
          "output_type": "stream",
          "text": [
            "/content/course-v3/nbs/dl2\n"
          ],
          "name": "stdout"
        }
      ]
    },
    {
      "cell_type": "markdown",
      "metadata": {
        "id": "hWt0wRa6Ca4K",
        "colab_type": "text"
      },
      "source": [
        "# Export package #[^0]"
      ]
    },
    {
      "cell_type": "code",
      "metadata": {
        "id": "vO3nrA8CCejs",
        "colab_type": "code",
        "colab": {}
      },
      "source": [
        "## export\n",
        "mode = 'Test'"
      ],
      "execution_count": null,
      "outputs": []
    },
    {
      "cell_type": "code",
      "metadata": {
        "id": "J1bzkFrPCQ-_",
        "colab_type": "code",
        "colab": {
          "base_uri": "https://localhost:8080/",
          "height": 86
        },
        "outputId": "64e98c49-e513-46be-94d7-7c5cd19271d5"
      },
      "source": [
        "!python notebook2script.py ./00_exports.ipynb"
      ],
      "execution_count": null,
      "outputs": [
        {
          "output_type": "stream",
          "text": [
            "Traceback (most recent call last):\n",
            "  File \"notebook2script.py\", line 3, in <module>\n",
            "    import json,fire,re\n",
            "ModuleNotFoundError: No module named 'fire'\n"
          ],
          "name": "stdout"
        }
      ]
    },
    {
      "cell_type": "markdown",
      "metadata": {
        "id": "njuDF-LiD38x",
        "colab_type": "text"
      },
      "source": [
        "I think this command function the file is existed (should go through on code)"
      ]
    },
    {
      "cell_type": "markdown",
      "metadata": {
        "id": "fWJISag7HFdD",
        "colab_type": "text"
      },
      "source": [
        "# run test at console"
      ]
    },
    {
      "cell_type": "code",
      "metadata": {
        "id": "QioRVw61JWQw",
        "colab_type": "code",
        "colab": {}
      },
      "source": [
        "import operator\n",
        "\n",
        "def test(a, b, cmp, cname = None):\n",
        "    if cname is None: cname = cmp.__name__\n",
        "    assert cmp(a,b), f\"{cname}:\\n{a}\\n{b}\"\n",
        "\n",
        "def test_eq(a,b): test(a, b, operator.eq, \"==\")"
      ],
      "execution_count": null,
      "outputs": []
    },
    {
      "cell_type": "code",
      "metadata": {
        "id": "r4ef7fMeKROf",
        "colab_type": "code",
        "colab": {}
      },
      "source": [
        "from exp.nb_00 import *\n",
        "test_eq(TEST, 'test')"
      ],
      "execution_count": null,
      "outputs": []
    },
    {
      "cell_type": "markdown",
      "metadata": {
        "id": "vMKN7-gwHGZe",
        "colab_type": "text"
      },
      "source": [
        "# get data\n",
        "\n",
        "- Use basic library, no pytorch(except tensor)/tf\n",
        "- URL- http://deeplearning.net/data/mnist/mnist.pkl.gz\n",
        "- load data as pickle, and assign tensor values\n",
        "- size of data check, type check, visualize"
      ]
    },
    {
      "cell_type": "markdown",
      "metadata": {
        "id": "HzHFp3HCNJRO",
        "colab_type": "text"
      },
      "source": [
        "[4]: [Link](https://queirozf.com/entries/matplotlib-pylab-pyplot-etc-what-s-the-different-between-these) TL;DR: Matplotlib is the toolkit, PyPlot is an interactive way to use Matplotlib and PyLab is the same thing as PyPlot but with some extra shortcuts. "
      ]
    },
    {
      "cell_type": "code",
      "metadata": {
        "id": "sALe9nKqSHRC",
        "colab_type": "code",
        "colab": {}
      },
      "source": [
        "# help(Path)"
      ],
      "execution_count": null,
      "outputs": []
    },
    {
      "cell_type": "code",
      "metadata": {
        "id": "UKLDYe3bSeAV",
        "colab_type": "code",
        "colab": {
          "base_uri": "https://localhost:8080/",
          "height": 35
        },
        "outputId": "b842eb8a-3811-46cb-90d9-c58effab08ab"
      },
      "source": [
        "import os\n",
        "os.path.abspath('.')"
      ],
      "execution_count": null,
      "outputs": [
        {
          "output_type": "execute_result",
          "data": {
            "text/plain": [
              "'/content/course-v3/nbs/dl2'"
            ]
          },
          "metadata": {
            "tags": []
          },
          "execution_count": 5
        }
      ]
    },
    {
      "cell_type": "code",
      "metadata": {
        "id": "Kj5SdV-pST7l",
        "colab_type": "code",
        "colab": {
          "base_uri": "https://localhost:8080/",
          "height": 35
        },
        "outputId": "3188e1f0-9aba-46d1-ffcd-808c451b4d65"
      },
      "source": [
        "Path('.').suffix # [^2]: I'm on way to transfer from os.path to pathlib but don't know method like os.path.abspath()"
      ],
      "execution_count": null,
      "outputs": [
        {
          "output_type": "execute_result",
          "data": {
            "text/plain": [
              "''"
            ]
          },
          "metadata": {
            "tags": []
          },
          "execution_count": 23
        }
      ]
    },
    {
      "cell_type": "code",
      "metadata": {
        "id": "wbzoVq_YORdv",
        "colab_type": "code",
        "colab": {}
      },
      "source": [
        "from pathlib import Path\n",
        "data_path = Path(os.path.abspath('.'))/'data'\n",
        "Path.mkdir(data_path)"
      ],
      "execution_count": null,
      "outputs": []
    },
    {
      "cell_type": "code",
      "metadata": {
        "id": "kSWkGzIpQbSK",
        "colab_type": "code",
        "colab": {}
      },
      "source": [
        "data = data_path/'mnist.pkl.gz'"
      ],
      "execution_count": null,
      "outputs": []
    },
    {
      "cell_type": "code",
      "metadata": {
        "id": "UAobHl1HOcYe",
        "colab_type": "code",
        "colab": {
          "base_uri": "https://localhost:8080/",
          "height": 69
        },
        "outputId": "02faa656-7668-4c85-bc2f-2f6d4d89dbe8"
      },
      "source": [
        "!curl -o data http://deeplearning.net/data/mnist/mnist.pkl.gz # [^1]"
      ],
      "execution_count": null,
      "outputs": [
        {
          "output_type": "stream",
          "text": [
            "  % Total    % Received % Xferd  Average Speed   Time    Time     Time  Current\n",
            "                                 Dload  Upload   Total   Spent    Left  Speed\n",
            "100 15.4M  100 15.4M    0     0  5750k      0  0:00:02  0:00:02 --:--:-- 5748k\n"
          ],
          "name": "stdout"
        }
      ]
    },
    {
      "cell_type": "code",
      "metadata": {
        "id": "3psbKLasOb1J",
        "colab_type": "code",
        "colab": {
          "base_uri": "https://localhost:8080/",
          "height": 69
        },
        "outputId": "03a6b76b-3dda-40ef-9e1f-4b6159afc8be"
      },
      "source": [
        "!curl -O http://deeplearning.net/data/mnist/mnist.pkl.gz"
      ],
      "execution_count": 9,
      "outputs": [
        {
          "output_type": "stream",
          "text": [
            "  % Total    % Received % Xferd  Average Speed   Time    Time     Time  Current\n",
            "                                 Dload  Upload   Total   Spent    Left  Speed\n",
            "100 15.4M  100 15.4M    0     0  3064k      0  0:00:05  0:00:05 --:--:-- 3335k\n"
          ],
          "name": "stdout"
        }
      ]
    },
    {
      "cell_type": "code",
      "metadata": {
        "id": "AU-Y_76jNpqV",
        "colab_type": "code",
        "colab": {
          "base_uri": "https://localhost:8080/",
          "height": 52
        },
        "outputId": "e5da2cdc-b2b9-46d2-83c0-5c0980372cab"
      },
      "source": [
        "!gunzip -k mnist.pkl.gz"
      ],
      "execution_count": 11,
      "outputs": [
        {
          "output_type": "stream",
          "text": [
            "gzip: mnist.pkl already exists; do you wish to overwrite (y or n)? n\n",
            "\tnot overwritten\n"
          ],
          "name": "stdout"
        }
      ]
    },
    {
      "cell_type": "code",
      "metadata": {
        "id": "TwEEKQNaRx3C",
        "colab_type": "code",
        "colab": {}
      },
      "source": [
        "import pickle\n",
        "with open('mnist.pkl', 'rb') as f:\n",
        "    (train_x, train_y), (valid_x, valid_y), _ = pickle.load(f, encoding = 'latin-1')"
      ],
      "execution_count": 13,
      "outputs": []
    },
    {
      "cell_type": "code",
      "metadata": {
        "id": "JaO5HoKgLgE5",
        "colab_type": "code",
        "colab": {
          "base_uri": "https://localhost:8080/",
          "height": 183
        },
        "outputId": "3f5040c9-f26e-4eac-8610-3311ea59a82c"
      },
      "source": [
        "with open('mnist.pkl', 'rb') as f:\n",
        "    a, b= pickle.load(f, encoding = 'latin-1')"
      ],
      "execution_count": 15,
      "outputs": [
        {
          "output_type": "error",
          "ename": "ValueError",
          "evalue": "ignored",
          "traceback": [
            "\u001b[0;31m---------------------------------------------------------------------------\u001b[0m",
            "\u001b[0;31mValueError\u001b[0m                                Traceback (most recent call last)",
            "\u001b[0;32m<ipython-input-15-f86de7c64d4a>\u001b[0m in \u001b[0;36m<module>\u001b[0;34m()\u001b[0m\n\u001b[1;32m      1\u001b[0m \u001b[0;32mwith\u001b[0m \u001b[0mopen\u001b[0m\u001b[0;34m(\u001b[0m\u001b[0;34m'mnist.pkl'\u001b[0m\u001b[0;34m,\u001b[0m \u001b[0;34m'rb'\u001b[0m\u001b[0;34m)\u001b[0m \u001b[0;32mas\u001b[0m \u001b[0mf\u001b[0m\u001b[0;34m:\u001b[0m\u001b[0;34m\u001b[0m\u001b[0;34m\u001b[0m\u001b[0m\n\u001b[0;32m----> 2\u001b[0;31m     \u001b[0ma\u001b[0m\u001b[0;34m,\u001b[0m \u001b[0mb\u001b[0m\u001b[0;34m=\u001b[0m \u001b[0mpickle\u001b[0m\u001b[0;34m.\u001b[0m\u001b[0mload\u001b[0m\u001b[0;34m(\u001b[0m\u001b[0mf\u001b[0m\u001b[0;34m,\u001b[0m \u001b[0mencoding\u001b[0m \u001b[0;34m=\u001b[0m \u001b[0;34m'latin-1'\u001b[0m\u001b[0;34m)\u001b[0m\u001b[0;34m\u001b[0m\u001b[0;34m\u001b[0m\u001b[0m\n\u001b[0m",
            "\u001b[0;31mValueError\u001b[0m: too many values to unpack (expected 2)"
          ]
        }
      ]
    },
    {
      "cell_type": "markdown",
      "metadata": {
        "id": "AfWy_KsmT882",
        "colab_type": "text"
      },
      "source": [
        "[^3] Interpretation of this value,  why not `expected 3 and given 2?`"
      ]
    },
    {
      "cell_type": "code",
      "metadata": {
        "id": "X9UryZoYTd0A",
        "colab_type": "code",
        "colab": {}
      },
      "source": [
        "help(pickle.load) #should be binary encoding"
      ],
      "execution_count": null,
      "outputs": []
    },
    {
      "cell_type": "code",
      "metadata": {
        "id": "tYLxjJgcUp1P",
        "colab_type": "code",
        "colab": {}
      },
      "source": [
        "from torch import tensor\n",
        "train_x, train_y, valid_x, valid_y = map(tensor, (train_x, train_y, valid_x, valid_y))"
      ],
      "execution_count": null,
      "outputs": []
    },
    {
      "cell_type": "markdown",
      "metadata": {
        "id": "-aUCRzixvAD3",
        "colab_type": "text"
      },
      "source": [
        "[^5] method와 instance의 차이가 object.method()? object.mothod... <br/> 이거 뭐 callable이랑 관계있었던거같은데...."
      ]
    },
    {
      "cell_type": "code",
      "metadata": {
        "id": "PZfVkYhqVCDK",
        "colab_type": "code",
        "colab": {
          "base_uri": "https://localhost:8080/",
          "height": 35
        },
        "outputId": "4464626f-55c8-47f9-c067-3fec46dceecc"
      },
      "source": [
        "train_x.dtype"
      ],
      "execution_count": null,
      "outputs": [
        {
          "output_type": "execute_result",
          "data": {
            "text/plain": [
              "torch.float32"
            ]
          },
          "metadata": {
            "tags": []
          },
          "execution_count": 11
        }
      ]
    },
    {
      "cell_type": "code",
      "metadata": {
        "id": "cHB1B425u5AW",
        "colab_type": "code",
        "colab": {
          "base_uri": "https://localhost:8080/",
          "height": 35
        },
        "outputId": "8295be90-e010-4052-9c10-ae8d7352aedd"
      },
      "source": [
        "train_x.type()"
      ],
      "execution_count": null,
      "outputs": [
        {
          "output_type": "execute_result",
          "data": {
            "text/plain": [
              "'torch.FloatTensor'"
            ]
          },
          "metadata": {
            "tags": []
          },
          "execution_count": 10
        }
      ]
    },
    {
      "cell_type": "code",
      "metadata": {
        "id": "fUOtbCB8VDf9",
        "colab_type": "code",
        "colab": {}
      },
      "source": [
        "test_eq(len(train_x), 50000)"
      ],
      "execution_count": null,
      "outputs": []
    },
    {
      "cell_type": "code",
      "metadata": {
        "id": "XTjvg-y-VUe_",
        "colab_type": "code",
        "colab": {}
      },
      "source": [
        "test_eq(len(valid_x), 10000)"
      ],
      "execution_count": null,
      "outputs": []
    },
    {
      "cell_type": "code",
      "metadata": {
        "id": "JD7xqZTOVa_x",
        "colab_type": "code",
        "colab": {
          "base_uri": "https://localhost:8080/",
          "height": 282
        },
        "outputId": "037f4acc-d3ed-4b56-a5e3-a32d2b69884d"
      },
      "source": [
        "import matplotlib.pyplot as plt\n",
        "plt.imshow(train_x[0].view(28, -1)) # [^4] plt.show, plt.plot, what is pyplot"
      ],
      "execution_count": null,
      "outputs": [
        {
          "output_type": "execute_result",
          "data": {
            "text/plain": [
              "<matplotlib.image.AxesImage at 0x7f055173eda0>"
            ]
          },
          "metadata": {
            "tags": []
          },
          "execution_count": 12
        },
        {
          "output_type": "display_data",
          "data": {
            "image/png": "[encoded data removed]",
            "text/plain": [
              "<Figure size 432x288 with 1 Axes>"
            ]
          },
          "metadata": {
            "tags": [],
            "needs_background": "light"
          }
        }
      ]
    },
    {
      "cell_type": "markdown",
      "metadata": {
        "id": "YVfDZFgJEO7q",
        "colab_type": "text"
      },
      "source": [
        "\n",
        "# Initial Python Model\n",
        "\n",
        "- Initialization of parameter(1 hidden layer)\n"
      ]
    },
    {
      "cell_type": "code",
      "metadata": {
        "id": "NeOWn-oOXAU7",
        "colab_type": "code",
        "colab": {
          "base_uri": "https://localhost:8080/",
          "height": 35
        },
        "outputId": "45717136-8643-420b-f7ab-c3b4817e1abd"
      },
      "source": [
        "from torch import randn, zeros\n",
        "w = randn(train_x.shape[1], 10); w.shape\n",
        "# help(randn)"
      ],
      "execution_count": null,
      "outputs": [
        {
          "output_type": "execute_result",
          "data": {
            "text/plain": [
              "torch.Size([784, 10])"
            ]
          },
          "metadata": {
            "tags": []
          },
          "execution_count": 13
        }
      ]
    },
    {
      "cell_type": "code",
      "metadata": {
        "id": "k9ZB_4Y-Yfr-",
        "colab_type": "code",
        "colab": {
          "base_uri": "https://localhost:8080/",
          "height": 35
        },
        "outputId": "aaaec8c1-fb52-4365-f4a2-551737f91640"
      },
      "source": [
        "b = zeros(10); b.shape"
      ],
      "execution_count": null,
      "outputs": [
        {
          "output_type": "execute_result",
          "data": {
            "text/plain": [
              "torch.Size([10])"
            ]
          },
          "metadata": {
            "tags": []
          },
          "execution_count": 14
        }
      ]
    },
    {
      "cell_type": "markdown",
      "metadata": {
        "id": "RoGhZkCzX0fP",
        "colab_type": "text"
      },
      "source": [
        "[^5]: * Be cautious"
      ]
    },
    {
      "cell_type": "markdown",
      "metadata": {
        "id": "gh4pyDu1W_zI",
        "colab_type": "text"
      },
      "source": [
        "\n",
        "# Matrix multiplication\n",
        "- use valid data only for amount of 5\n",
        "- by the book(3 loop)\n",
        "- check the time #[^6] timeit && time 차이"
      ]
    },
    {
      "cell_type": "code",
      "metadata": {
        "id": "_3RzjC8S1rBO",
        "colab_type": "code",
        "colab": {}
      },
      "source": [
        "import torch"
      ],
      "execution_count": null,
      "outputs": []
    },
    {
      "cell_type": "code",
      "metadata": {
        "id": "D0D6KpYzEPPA",
        "colab_type": "code",
        "colab": {}
      },
      "source": [
        "def matmul(a, b):\n",
        "    ar, ac = a.shape\n",
        "    br, bc = b.shape\n",
        "    assert ac == br\n",
        "    out = torch.zeros(ar, bc)\n",
        "    for i in range(a.shape[0]):\n",
        "        for j in range(b.shape[1]):\n",
        "            for k in range(a.shape[1]): #br = ac\n",
        "                out[i, j] += a[i, k] * b[k, j]\n",
        "    return out"
      ],
      "execution_count": null,
      "outputs": []
    },
    {
      "cell_type": "code",
      "metadata": {
        "id": "SxEk0Nxe0ju0",
        "colab_type": "code",
        "colab": {}
      },
      "source": [
        "m1 = valid_x[:5,]"
      ],
      "execution_count": null,
      "outputs": []
    },
    {
      "cell_type": "code",
      "metadata": {
        "id": "7yA2igyUDlNb",
        "colab_type": "code",
        "colab": {
          "base_uri": "https://localhost:8080/",
          "height": 35
        },
        "outputId": "b2cd9549-5e66-4a89-e272-5fa7ba10c4cd"
      },
      "source": [
        "# import gc\n",
        "gc.collect()"
      ],
      "execution_count": null,
      "outputs": [
        {
          "output_type": "execute_result",
          "data": {
            "text/plain": [
              "140"
            ]
          },
          "metadata": {
            "tags": []
          },
          "execution_count": 71
        }
      ]
    },
    {
      "cell_type": "code",
      "metadata": {
        "id": "rWQWHz9w0gT4",
        "colab_type": "code",
        "colab": {
          "base_uri": "https://localhost:8080/",
          "height": 35
        },
        "outputId": "aeb21817-d1b9-46d9-b858-d1a5be79a018"
      },
      "source": [
        "%timeit -n 10 matmul(m1, w)"
      ],
      "execution_count": null,
      "outputs": [
        {
          "output_type": "stream",
          "text": [
            "10 loops, best of 3: 703 ms per loop\n"
          ],
          "name": "stdout"
        }
      ]
    },
    {
      "cell_type": "code",
      "metadata": {
        "id": "QmIIfZOOS8xu",
        "colab_type": "code",
        "colab": {}
      },
      "source": [
        "t1 =  matmul(m1, w)"
      ],
      "execution_count": null,
      "outputs": []
    },
    {
      "cell_type": "code",
      "metadata": {
        "id": "Gj2AMyoX26LM",
        "colab_type": "code",
        "colab": {
          "base_uri": "https://localhost:8080/",
          "height": 35
        },
        "outputId": "facc67ca-f0db-4c54-e674-da37b9efafb3"
      },
      "source": [
        "c.shape "
      ],
      "execution_count": null,
      "outputs": [
        {
          "output_type": "execute_result",
          "data": {
            "text/plain": [
              "torch.Size([5, 10])"
            ]
          },
          "metadata": {
            "tags": []
          },
          "execution_count": 46
        }
      ]
    },
    {
      "cell_type": "markdown",
      "metadata": {
        "id": "MUcOMtw33I3M",
        "colab_type": "text"
      },
      "source": [
        "# Elementwise ops\n",
        "- a,b로 1)더하기 2) 대소비교하기\n",
        "- m을 이용해 Frobenius norm 만들기\n",
        " "
      ]
    },
    {
      "cell_type": "markdown",
      "metadata": {
        "id": "bbRQyiZEXiGb",
        "colab_type": "text"
      },
      "source": [
        "Frobenius norm:\n",
        "\n",
        "$$\\| A \\|_F = \\left( \\sum_{i,j=1}^n | a_{ij} |^2 \\right)^{1/2}$$\n",
        "\n",
        "*Hint*: you don't normally need to write equations in LaTeX yourself, instead, you can click 'edit' in Wikipedia and copy the LaTeX from there (which is what I did for the above equation). Or on arxiv.org, click \"Download: Other formats\" in the top right, then \"Download source\"; rename the downloaded file to end in `.tgz` if it doesn't already, and you should find the source there, including the equations to copy and paste."
      ]
    },
    {
      "cell_type": "code",
      "metadata": {
        "id": "ULKYi5ut3gRu",
        "colab_type": "code",
        "colab": {}
      },
      "source": [
        "a = tensor([10., 6, -4])\n",
        "b = tensor([2., 8, 7])"
      ],
      "execution_count": null,
      "outputs": []
    },
    {
      "cell_type": "code",
      "metadata": {
        "id": "TAxfZhNtAmEL",
        "colab_type": "code",
        "colab": {
          "base_uri": "https://localhost:8080/",
          "height": 35
        },
        "outputId": "ba7cb59f-477b-4549-eb84-ba5b008ab3fd"
      },
      "source": [
        "a + b"
      ],
      "execution_count": null,
      "outputs": [
        {
          "output_type": "execute_result",
          "data": {
            "text/plain": [
              "tensor([12., 14.,  3.])"
            ]
          },
          "metadata": {
            "tags": []
          },
          "execution_count": 50
        }
      ]
    },
    {
      "cell_type": "code",
      "metadata": {
        "id": "L39VG6i5AnRs",
        "colab_type": "code",
        "colab": {
          "base_uri": "https://localhost:8080/",
          "height": 35
        },
        "outputId": "52205b43-76b9-44f5-a229-e1342c6da0a1"
      },
      "source": [
        "a < b"
      ],
      "execution_count": null,
      "outputs": [
        {
          "output_type": "execute_result",
          "data": {
            "text/plain": [
              "tensor([False,  True,  True])"
            ]
          },
          "metadata": {
            "tags": []
          },
          "execution_count": 51
        }
      ]
    },
    {
      "cell_type": "code",
      "metadata": {
        "id": "LXQ_9gLLAqA7",
        "colab_type": "code",
        "colab": {
          "base_uri": "https://localhost:8080/",
          "height": 35
        },
        "outputId": "99769a96-cb74-41d9-edbf-61fe897153e1"
      },
      "source": [
        "(a<b).sum()"
      ],
      "execution_count": null,
      "outputs": [
        {
          "output_type": "execute_result",
          "data": {
            "text/plain": [
              "tensor(2)"
            ]
          },
          "metadata": {
            "tags": []
          },
          "execution_count": 52
        }
      ]
    },
    {
      "cell_type": "code",
      "metadata": {
        "id": "yLGGDQpg3giF",
        "colab_type": "code",
        "colab": {
          "base_uri": "https://localhost:8080/",
          "height": 69
        },
        "outputId": "1df8d0ca-86a2-4dc8-ef05-63b1240325c6"
      },
      "source": [
        "m = tensor([[1., 2, 3], [4,5,6], [7,8,9]]); m"
      ],
      "execution_count": null,
      "outputs": [
        {
          "output_type": "execute_result",
          "data": {
            "text/plain": [
              "tensor([[1., 2., 3.],\n",
              "        [4., 5., 6.],\n",
              "        [7., 8., 9.]])"
            ]
          },
          "metadata": {
            "tags": []
          },
          "execution_count": 48
        }
      ]
    },
    {
      "cell_type": "code",
      "metadata": {
        "id": "1ByIn-oIBbmi",
        "colab_type": "code",
        "colab": {
          "base_uri": "https://localhost:8080/",
          "height": 69
        },
        "outputId": "1383a83e-1b30-4e05-a4b6-d6f8162cf0ee"
      },
      "source": [
        "m * m.T # !! symmetric!!!!!!!!!!!!! \n",
        "# [^7]"
      ],
      "execution_count": null,
      "outputs": [
        {
          "output_type": "execute_result",
          "data": {
            "text/plain": [
              "tensor([[ 1.,  8., 21.],\n",
              "        [ 8., 25., 48.],\n",
              "        [21., 48., 81.]])"
            ]
          },
          "metadata": {
            "tags": []
          },
          "execution_count": 58
        }
      ]
    },
    {
      "cell_type": "code",
      "metadata": {
        "id": "rbmVBwzDAx3r",
        "colab_type": "code",
        "colab": {
          "base_uri": "https://localhost:8080/",
          "height": 35
        },
        "outputId": "a4b91c28-c474-4758-8875-22a8b3da1b4e"
      },
      "source": [
        "(m * m.T).sum(dim=0)"
      ],
      "execution_count": null,
      "outputs": [
        {
          "output_type": "execute_result",
          "data": {
            "text/plain": [
              "tensor([ 30.,  81., 150.])"
            ]
          },
          "metadata": {
            "tags": []
          },
          "execution_count": 56
        }
      ]
    },
    {
      "cell_type": "code",
      "metadata": {
        "id": "yp-F95yUBUoa",
        "colab_type": "code",
        "colab": {
          "base_uri": "https://localhost:8080/",
          "height": 35
        },
        "outputId": "43314e07-c833-43e3-8e71-6d7a285e54bc"
      },
      "source": [
        "(m* m.T).sum(dim=1).sqrt()"
      ],
      "execution_count": null,
      "outputs": [
        {
          "output_type": "execute_result",
          "data": {
            "text/plain": [
              "tensor([ 5.4772,  9.0000, 12.2474])"
            ]
          },
          "metadata": {
            "tags": []
          },
          "execution_count": 59
        }
      ]
    },
    {
      "cell_type": "markdown",
      "metadata": {
        "id": "1wClNFjl3_vu",
        "colab_type": "text"
      },
      "source": [
        "# Elementwise matmul\n",
        "- elementwise operation을 이용해 sigma를 하나 줄여보기 (i.e. 2 for loop)\n",
        "- time을 이용해 시간재기 (여기는 timeit을 사용했네??)\n",
        "- 가까운지 확인해보는 함수 만들기\n",
        "    - torch.allclose사용 (`rtol: 1e-3, atol=1e-5`)\n",
        "    - 그리고 export함"
      ]
    },
    {
      "cell_type": "code",
      "metadata": {
        "id": "W7Arac0uCYAN",
        "colab_type": "code",
        "colab": {
          "base_uri": "https://localhost:8080/",
          "height": 35
        },
        "outputId": "bbb32dcb-5983-4778-c3b4-8c25622d3612"
      },
      "source": [
        "m[0].shape, m[0,].shape"
      ],
      "execution_count": null,
      "outputs": [
        {
          "output_type": "execute_result",
          "data": {
            "text/plain": [
              "(torch.Size([3]), torch.Size([3]))"
            ]
          },
          "metadata": {
            "tags": []
          },
          "execution_count": 60
        }
      ]
    },
    {
      "cell_type": "code",
      "metadata": {
        "id": "AfkBrFzYByho",
        "colab_type": "code",
        "colab": {}
      },
      "source": [
        "def matmul2(a,b):\n",
        "    ar, ac = a.shape\n",
        "    br, bc = b.shape\n",
        "    assert ac == br\n",
        "    c = torch.zeros(ar, bc)\n",
        "    for i in range(ar):\n",
        "        for j in range(bc):\n",
        "            c[i,j] = (a[i] * b[:,j]).sum()\n",
        "    return c"
      ],
      "execution_count": null,
      "outputs": []
    },
    {
      "cell_type": "code",
      "metadata": {
        "id": "pE3j2GtTENhP",
        "colab_type": "code",
        "colab": {}
      },
      "source": [
        "# m1.shape, w.shape"
      ],
      "execution_count": null,
      "outputs": []
    },
    {
      "cell_type": "code",
      "metadata": {
        "id": "44YQmFucDQ_r",
        "colab_type": "code",
        "colab": {
          "base_uri": "https://localhost:8080/",
          "height": 35
        },
        "outputId": "fe4e7b1e-aa84-497b-fca9-72d5c41a8def"
      },
      "source": [
        "%timeit -n 10 matmul2(m1, w)"
      ],
      "execution_count": null,
      "outputs": [
        {
          "output_type": "stream",
          "text": [
            "10 loops, best of 3: 1.01 ms per loop\n"
          ],
          "name": "stdout"
        }
      ]
    },
    {
      "cell_type": "code",
      "metadata": {
        "id": "5Cmr8wcrCkLj",
        "colab_type": "code",
        "colab": {}
      },
      "source": [
        "#export\n",
        "def test_all(a,b): torch.allclose(a, b, rtol=1e-3, atol=1e-5)\n",
        "def test_near(a,b): test_all(a,b)"
      ],
      "execution_count": null,
      "outputs": []
    },
    {
      "cell_type": "code",
      "metadata": {
        "id": "QoPlYREhEy-O",
        "colab_type": "code",
        "colab": {}
      },
      "source": [
        "test_near(t1, matmul2(m1, w))"
      ],
      "execution_count": null,
      "outputs": []
    },
    {
      "cell_type": "markdown",
      "metadata": {
        "id": "GHgSxtUvC613",
        "colab_type": "text"
      },
      "source": [
        "[^8]\n",
        "\n",
        "\n",
        "allclose(input, other, rtol=1e-05, atol=1e-08, equal_nan=False) -> bool\n",
        "\n",
        "This function checks if all :attr:`input` and :attr:`other` satisfy the condition:\n",
        "\n",
        ".. math::\n",
        "    \\lvert \\text{input} - \\text{other} \\rvert \\leq \\texttt{atol} + \\texttt{rtol} \\times \\lvert \\text{other} \\rvert\n",
        "\n",
        "elementwise, for all elements of :attr:`input` and :attr:`other`. The behaviour of this function is analogous to\n",
        "`numpy.allclose <https://docs.scipy.org/doc/numpy/reference/generated/numpy.allclose.html>`_\n",
        "\n",
        "Args:\n",
        "    input (Tensor): first tensor to compare\n",
        "    other (Tensor): second tensor to compare\n",
        "    atol (float, optional): absolute tolerance. Default: 1e-08\n",
        "    rtol (float, optional): relative tolerance. Default: 1e-05\n",
        "    equal_nan (bool, optional): if ``True``, then two ``NaN`` s will be compared as equal. Default: ``False``\n",
        "\n",
        "Example::\n",
        "\n",
        "    >>> torch.allclose(torch.tensor([10000., 1e-07]), torch.tensor([10000.1, 1e-08]))\n",
        "    False\n",
        "    >>> torch.allclose(torch.tensor([10000., 1e-08]), torch.tensor([10000.1, 1e-09]))\n",
        "    True\n",
        "    >>> torch.allclose(torch.tensor([1.0, float('nan')]), torch.tensor([1.0, float('nan')]))\n",
        "    False\n",
        "    >>> torch.allclose(torch.tensor([1.0, float('nan')]), torch.tensor([1.0, float('nan')]), equal_nan=True)\n",
        "    True"
      ]
    },
    {
      "cell_type": "markdown",
      "metadata": {
        "id": "ehI7cRKg5HNp",
        "colab_type": "text"
      },
      "source": [
        "# Broadcasting\n",
        "\n",
        "## Broadcasting with a scalar"
      ]
    },
    {
      "cell_type": "markdown",
      "metadata": {
        "id": "2numC8bmXiGr",
        "colab_type": "text"
      },
      "source": [
        "The term **broadcasting** describes how arrays with different shapes are treated during arithmetic operations.  The term broadcasting was first used by Numpy.\n",
        "\n",
        "From the [Numpy Documentation](https://docs.scipy.org/doc/numpy-1.10.0/user/basics.broadcasting.html):\n",
        "\n",
        "    The term broadcasting describes how numpy treats arrays with \n",
        "    different shapes during arithmetic operations. Subject to certain \n",
        "    constraints, the smaller array is “broadcast” across the larger \n",
        "    array so that they have compatible shapes. Broadcasting provides a \n",
        "    means of vectorizing array operations so that looping occurs in C\n",
        "    instead of Python. It does this without making needless copies of \n",
        "    data and usually leads to efficient algorithm implementations.\n",
        "    \n",
        "In addition to the efficiency of broadcasting, it allows developers to write less code, which typically leads to fewer errors.\n",
        "\n",
        "*This section was adapted from [Chapter 4](http://nbviewer.jupyter.org/github/fastai/numerical-linear-algebra/blob/master/nbs/4.%20Compressed%20Sensing%20of%20CT%20Scans%20with%20Robust%20Regression.ipynb#4.-Compressed-Sensing-of-CT-Scans-with-Robust-Regression) of the fast.ai [Computational Linear Algebra](https://github.com/fastai/numerical-linear-algebra) course.*"
      ]
    },
    {
      "cell_type": "markdown",
      "metadata": {
        "id": "NziHJOJwFSAe",
        "colab_type": "text"
      },
      "source": [
        "\n",
        "\n",
        "    Broadcasting provides a \n",
        "    means of vectorizing array operations so that looping occurs in C\n",
        "    instead of Python. It does this without making needless copies of \n",
        "    data and usually leads to efficient algorithm implementations."
      ]
    },
    {
      "cell_type": "markdown",
      "metadata": {
        "id": "U7xNrsZK5wUN",
        "colab_type": "text"
      },
      "source": [
        "- a(vector) 확인하고, 스칼라와 대소비교 및 덧뺄셈\n",
        "- m(matrix) check, operation with scalar"
      ]
    },
    {
      "cell_type": "code",
      "metadata": {
        "id": "XIIZpJOUFW8i",
        "colab_type": "code",
        "colab": {
          "base_uri": "https://localhost:8080/",
          "height": 35
        },
        "outputId": "4ce9e4b7-065c-41bb-b1f0-6bfea0933e3e"
      },
      "source": [
        "a"
      ],
      "execution_count": null,
      "outputs": [
        {
          "output_type": "execute_result",
          "data": {
            "text/plain": [
              "tensor([10.,  6., -4.])"
            ]
          },
          "metadata": {
            "tags": []
          },
          "execution_count": 92
        }
      ]
    },
    {
      "cell_type": "code",
      "metadata": {
        "id": "Y2DfL1yjFYdQ",
        "colab_type": "code",
        "colab": {
          "base_uri": "https://localhost:8080/",
          "height": 35
        },
        "outputId": "aec3c240-9f47-477f-cd0e-6e0bedab1e2a"
      },
      "source": [
        "a+3"
      ],
      "execution_count": null,
      "outputs": [
        {
          "output_type": "execute_result",
          "data": {
            "text/plain": [
              "tensor([13.,  9., -1.])"
            ]
          },
          "metadata": {
            "tags": []
          },
          "execution_count": 93
        }
      ]
    },
    {
      "cell_type": "code",
      "metadata": {
        "id": "_Et2uWE1FZUm",
        "colab_type": "code",
        "colab": {
          "base_uri": "https://localhost:8080/",
          "height": 69
        },
        "outputId": "e3fa3fd7-bca3-460b-9a43-9a50ce95b3d8"
      },
      "source": [
        "m"
      ],
      "execution_count": null,
      "outputs": [
        {
          "output_type": "execute_result",
          "data": {
            "text/plain": [
              "tensor([[1., 2., 3.],\n",
              "        [4., 5., 6.],\n",
              "        [7., 8., 9.]])"
            ]
          },
          "metadata": {
            "tags": []
          },
          "execution_count": 96
        }
      ]
    },
    {
      "cell_type": "code",
      "metadata": {
        "id": "xcGvybFCFZtR",
        "colab_type": "code",
        "colab": {
          "base_uri": "https://localhost:8080/",
          "height": 69
        },
        "outputId": "f3e6fff7-d25a-4483-d91f-1b0ab986dadf"
      },
      "source": [
        "m<4"
      ],
      "execution_count": null,
      "outputs": [
        {
          "output_type": "execute_result",
          "data": {
            "text/plain": [
              "tensor([[ True,  True,  True],\n",
              "        [False, False, False],\n",
              "        [False, False, False]])"
            ]
          },
          "metadata": {
            "tags": []
          },
          "execution_count": 100
        }
      ]
    },
    {
      "cell_type": "code",
      "metadata": {
        "id": "xtXaMEa-FbTh",
        "colab_type": "code",
        "colab": {
          "base_uri": "https://localhost:8080/",
          "height": 35
        },
        "outputId": "7d5525c2-15b0-45a4-e954-0a65ff24d7a3"
      },
      "source": [
        "(m<4).sum()"
      ],
      "execution_count": null,
      "outputs": [
        {
          "output_type": "execute_result",
          "data": {
            "text/plain": [
              "tensor(3)"
            ]
          },
          "metadata": {
            "tags": []
          },
          "execution_count": 102
        }
      ]
    },
    {
      "cell_type": "code",
      "metadata": {
        "id": "e5y3BsyZFpHu",
        "colab_type": "code",
        "colab": {
          "base_uri": "https://localhost:8080/",
          "height": 35
        },
        "outputId": "38fc3122-1fef-4c25-8f2b-5b234719acda"
      },
      "source": [
        "m.mean()"
      ],
      "execution_count": null,
      "outputs": [
        {
          "output_type": "execute_result",
          "data": {
            "text/plain": [
              "tensor(5.)"
            ]
          },
          "metadata": {
            "tags": []
          },
          "execution_count": 104
        }
      ]
    },
    {
      "cell_type": "code",
      "metadata": {
        "id": "fyTQ2bOdF1yx",
        "colab_type": "code",
        "colab": {
          "base_uri": "https://localhost:8080/",
          "height": 35
        },
        "outputId": "71b38503-14bc-4b13-ec0d-d07526a75ffe"
      },
      "source": [
        "m.mean().shape"
      ],
      "execution_count": null,
      "outputs": [
        {
          "output_type": "execute_result",
          "data": {
            "text/plain": [
              "torch.Size([])"
            ]
          },
          "metadata": {
            "tags": []
          },
          "execution_count": 105
        }
      ]
    },
    {
      "cell_type": "code",
      "metadata": {
        "id": "gCmdXoogF5Q9",
        "colab_type": "code",
        "colab": {
          "base_uri": "https://localhost:8080/",
          "height": 35
        },
        "outputId": "e1d94d96-55b0-457c-9500-fa23f938ad72"
      },
      "source": [
        "torch.tensor(1).shape"
      ],
      "execution_count": null,
      "outputs": [
        {
          "output_type": "execute_result",
          "data": {
            "text/plain": [
              "torch.Size([])"
            ]
          },
          "metadata": {
            "tags": []
          },
          "execution_count": 107
        }
      ]
    },
    {
      "cell_type": "markdown",
      "metadata": {
        "id": "ItTayxbF5uit",
        "colab_type": "text"
      },
      "source": [
        "## Broadcasting a vector to a matrix\n"
      ]
    },
    {
      "cell_type": "markdown",
      "metadata": {
        "id": "sNn7JV4X6EW3",
        "colab_type": "text"
      },
      "source": [
        "- m, c 크기 확인\n",
        "- m과 c broadcasting 어떻게 되는지 확인해보기\n",
        "- transitivity check "
      ]
    },
    {
      "cell_type": "code",
      "metadata": {
        "id": "9_AYX8hA6JD_",
        "colab_type": "code",
        "colab": {
          "base_uri": "https://localhost:8080/",
          "height": 35
        },
        "outputId": "f7ed373a-e1db-432c-b9f6-36e7f7f36166"
      },
      "source": [
        "c = tensor([10.,20,30]); c"
      ],
      "execution_count": 23,
      "outputs": [
        {
          "output_type": "execute_result",
          "data": {
            "text/plain": [
              "tensor([10., 20., 30.])"
            ]
          },
          "metadata": {
            "tags": []
          },
          "execution_count": 23
        }
      ]
    },
    {
      "cell_type": "code",
      "metadata": {
        "id": "OHCd0ntjGMLE",
        "colab_type": "code",
        "colab": {
          "base_uri": "https://localhost:8080/",
          "height": 69
        },
        "outputId": "18bb15af-a166-4787-f139-9b1da1ac98a7"
      },
      "source": [
        "m, c"
      ],
      "execution_count": null,
      "outputs": [
        {
          "output_type": "execute_result",
          "data": {
            "text/plain": [
              "(tensor([[1., 2., 3.],\n",
              "         [4., 5., 6.],\n",
              "         [7., 8., 9.]]), tensor([10., 20., 30.]))"
            ]
          },
          "metadata": {
            "tags": []
          },
          "execution_count": 109
        }
      ]
    },
    {
      "cell_type": "code",
      "metadata": {
        "id": "qo8bCTP1GF71",
        "colab_type": "code",
        "colab": {
          "base_uri": "https://localhost:8080/",
          "height": 35
        },
        "outputId": "e95edfce-23d1-477f-e7f9-39eee4dac21b"
      },
      "source": [
        "m.shape, c.shape"
      ],
      "execution_count": null,
      "outputs": [
        {
          "output_type": "execute_result",
          "data": {
            "text/plain": [
              "(torch.Size([3, 3]), torch.Size([3]))"
            ]
          },
          "metadata": {
            "tags": []
          },
          "execution_count": 108
        }
      ]
    },
    {
      "cell_type": "code",
      "metadata": {
        "id": "7lUP_fgjGn7g",
        "colab_type": "code",
        "colab": {
          "base_uri": "https://localhost:8080/",
          "height": 69
        },
        "outputId": "633a49b1-48b5-4974-c0eb-7c51f9bb09f7"
      },
      "source": [
        "m+c"
      ],
      "execution_count": null,
      "outputs": [
        {
          "output_type": "execute_result",
          "data": {
            "text/plain": [
              "tensor([[11., 22., 33.],\n",
              "        [14., 25., 36.],\n",
              "        [17., 28., 39.]])"
            ]
          },
          "metadata": {
            "tags": []
          },
          "execution_count": 110
        }
      ]
    },
    {
      "cell_type": "code",
      "metadata": {
        "id": "3ThkNvqRGoxp",
        "colab_type": "code",
        "colab": {
          "base_uri": "https://localhost:8080/",
          "height": 69
        },
        "outputId": "1ab0af2c-a07b-404d-cca3-d5b12c16e24a"
      },
      "source": [
        "c+m"
      ],
      "execution_count": null,
      "outputs": [
        {
          "output_type": "execute_result",
          "data": {
            "text/plain": [
              "tensor([[11., 22., 33.],\n",
              "        [14., 25., 36.],\n",
              "        [17., 28., 39.]])"
            ]
          },
          "metadata": {
            "tags": []
          },
          "execution_count": 111
        }
      ]
    },
    {
      "cell_type": "code",
      "metadata": {
        "id": "u5F2HG3gGtS-",
        "colab_type": "code",
        "colab": {
          "base_uri": "https://localhost:8080/",
          "height": 35
        },
        "outputId": "ee2bde87-0c85-4917-ff76-0caf30110a9f"
      },
      "source": [
        "c.stride()"
      ],
      "execution_count": null,
      "outputs": [
        {
          "output_type": "execute_result",
          "data": {
            "text/plain": [
              "(1,)"
            ]
          },
          "metadata": {
            "tags": []
          },
          "execution_count": 112
        }
      ]
    },
    {
      "cell_type": "code",
      "metadata": {
        "id": "g2vNfvBbG0I3",
        "colab_type": "code",
        "colab": {
          "base_uri": "https://localhost:8080/",
          "height": 449
        },
        "outputId": "09b2b038-6e61-4884-c592-1c6924f1c7f4"
      },
      "source": [
        "help(c.stride)"
      ],
      "execution_count": null,
      "outputs": [
        {
          "output_type": "stream",
          "text": [
            "Help on built-in function stride:\n",
            "\n",
            "stride(...) method of torch.Tensor instance\n",
            "    stride(dim) -> tuple or int\n",
            "    \n",
            "    Returns the stride of :attr:`self` tensor.\n",
            "    \n",
            "    Stride is the jump necessary to go from one element to the next one in the\n",
            "    specified dimension :attr:`dim`. A tuple of all strides is returned when no\n",
            "    argument is passed in. Otherwise, an integer value is returned as the stride in\n",
            "    the particular dimension :attr:`dim`.\n",
            "    \n",
            "    Args:\n",
            "        dim (int, optional): the desired dimension in which stride is required\n",
            "    \n",
            "    Example::\n",
            "    \n",
            "        >>> x = torch.tensor([[1, 2, 3, 4, 5], [6, 7, 8, 9, 10]])\n",
            "        >>> x.stride()\n",
            "        (5, 1)\n",
            "        >>>x.stride(0)\n",
            "        5\n",
            "        >>> x.stride(-1)\n",
            "        1\n",
            "\n"
          ],
          "name": "stdout"
        }
      ]
    },
    {
      "cell_type": "code",
      "metadata": {
        "id": "Jcm5vVUFPwp6",
        "colab_type": "code",
        "colab": {
          "base_uri": "https://localhost:8080/",
          "height": 69
        },
        "outputId": "1b3ab3e5-81bf-4719-d184-2e984e104758"
      },
      "source": [
        "m = tensor([[1., 2, 3], [4,5,6], [7,8,9]]); m"
      ],
      "execution_count": 18,
      "outputs": [
        {
          "output_type": "execute_result",
          "data": {
            "text/plain": [
              "tensor([[1., 2., 3.],\n",
              "        [4., 5., 6.],\n",
              "        [7., 8., 9.]])"
            ]
          },
          "metadata": {
            "tags": []
          },
          "execution_count": 18
        }
      ]
    },
    {
      "cell_type": "markdown",
      "metadata": {
        "id": "QgIta5N5HXpB",
        "colab_type": "text"
      },
      "source": [
        "[^8]\n",
        "\n",
        "why 3,1??"
      ]
    },
    {
      "cell_type": "code",
      "metadata": {
        "id": "c7iVeYjDHC87",
        "colab_type": "code",
        "colab": {
          "base_uri": "https://localhost:8080/",
          "height": 35
        },
        "outputId": "062a8a55-f1d0-4561-dd9d-1f66e41350ea"
      },
      "source": [
        "m.stride()"
      ],
      "execution_count": 19,
      "outputs": [
        {
          "output_type": "execute_result",
          "data": {
            "text/plain": [
              "(3, 1)"
            ]
          },
          "metadata": {
            "tags": []
          },
          "execution_count": 19
        }
      ]
    },
    {
      "cell_type": "markdown",
      "metadata": {
        "id": "S60HLJDi67iR",
        "colab_type": "text"
      },
      "source": [
        "- torch tensor의 expand_as()에 대해 알아보자!\n",
        "    - 값\n",
        "    - 메모리\n",
        "    - stride\n",
        "    - shape\n",
        "    - unsqueeze, shaping etc.\n"
      ]
    },
    {
      "cell_type": "code",
      "metadata": {
        "id": "eg2r3s9iHj7z",
        "colab_type": "code",
        "colab": {
          "base_uri": "https://localhost:8080/",
          "height": 69
        },
        "outputId": "401a744f-cfa5-4621-df7f-6e3cc3dfafc3"
      },
      "source": [
        "mc = c.expand_as(m); mc"
      ],
      "execution_count": null,
      "outputs": [
        {
          "output_type": "execute_result",
          "data": {
            "text/plain": [
              "tensor([[10., 20., 30.],\n",
              "        [10., 20., 30.],\n",
              "        [10., 20., 30.]])"
            ]
          },
          "metadata": {
            "tags": []
          },
          "execution_count": 117
        }
      ]
    },
    {
      "cell_type": "code",
      "metadata": {
        "id": "bdpFuQ25HmSH",
        "colab_type": "code",
        "colab": {
          "base_uri": "https://localhost:8080/",
          "height": 86
        },
        "outputId": "c59744cf-766e-4537-a1eb-2ef7a8deb39d"
      },
      "source": [
        "mc.storage()"
      ],
      "execution_count": null,
      "outputs": [
        {
          "output_type": "execute_result",
          "data": {
            "text/plain": [
              " 10.0\n",
              " 20.0\n",
              " 30.0\n",
              "[torch.FloatStorage of size 3]"
            ]
          },
          "metadata": {
            "tags": []
          },
          "execution_count": 118
        }
      ]
    },
    {
      "cell_type": "code",
      "metadata": {
        "id": "hlHN_VqLHswb",
        "colab_type": "code",
        "colab": {
          "base_uri": "https://localhost:8080/",
          "height": 35
        },
        "outputId": "4d4d6246-7eea-48b4-e46a-b6bdf24334ca"
      },
      "source": [
        "mc.stride()"
      ],
      "execution_count": null,
      "outputs": [
        {
          "output_type": "execute_result",
          "data": {
            "text/plain": [
              "(0, 1)"
            ]
          },
          "metadata": {
            "tags": []
          },
          "execution_count": 119
        }
      ]
    },
    {
      "cell_type": "code",
      "metadata": {
        "id": "kj9dmoZTHwlJ",
        "colab_type": "code",
        "colab": {
          "base_uri": "https://localhost:8080/",
          "height": 35
        },
        "outputId": "573ddf3c-165f-4764-ebb7-9c67079f5564"
      },
      "source": [
        "c.stride()"
      ],
      "execution_count": null,
      "outputs": [
        {
          "output_type": "execute_result",
          "data": {
            "text/plain": [
              "(1,)"
            ]
          },
          "metadata": {
            "tags": []
          },
          "execution_count": 120
        }
      ]
    },
    {
      "cell_type": "code",
      "metadata": {
        "id": "mLsVEKSoHxjC",
        "colab_type": "code",
        "colab": {
          "base_uri": "https://localhost:8080/",
          "height": 69
        },
        "outputId": "6013ccf6-23d5-403e-c951-712bfc5fd0d5"
      },
      "source": [
        "m + mc"
      ],
      "execution_count": null,
      "outputs": [
        {
          "output_type": "execute_result",
          "data": {
            "text/plain": [
              "tensor([[11., 22., 33.],\n",
              "        [14., 25., 36.],\n",
              "        [17., 28., 39.]])"
            ]
          },
          "metadata": {
            "tags": []
          },
          "execution_count": 121
        }
      ]
    },
    {
      "cell_type": "code",
      "metadata": {
        "id": "q9rgALrlLRQB",
        "colab_type": "code",
        "colab": {
          "base_uri": "https://localhost:8080/",
          "height": 35
        },
        "outputId": "0ecaa681-5b7e-4708-ed66-1b6e3347289e"
      },
      "source": [
        "# shape\n",
        "mc.shape"
      ],
      "execution_count": null,
      "outputs": [
        {
          "output_type": "execute_result",
          "data": {
            "text/plain": [
              "torch.Size([3, 3])"
            ]
          },
          "metadata": {
            "tags": []
          },
          "execution_count": 122
        }
      ]
    },
    {
      "cell_type": "code",
      "metadata": {
        "id": "gkMvPyPlLSll",
        "colab_type": "code",
        "colab": {
          "base_uri": "https://localhost:8080/",
          "height": 69
        },
        "outputId": "05416ff9-4499-4daa-faf3-df0a9bed6462"
      },
      "source": [
        "# unsqeeze\n",
        "\n",
        "mc.unsqueeze(0), mc.unsqueeze(0).shape"
      ],
      "execution_count": null,
      "outputs": [
        {
          "output_type": "execute_result",
          "data": {
            "text/plain": [
              "(tensor([[[10., 20., 30.],\n",
              "          [10., 20., 30.],\n",
              "          [10., 20., 30.]]]), torch.Size([1, 3, 3]))"
            ]
          },
          "metadata": {
            "tags": []
          },
          "execution_count": 125
        }
      ]
    },
    {
      "cell_type": "code",
      "metadata": {
        "id": "oVKzM_AzLZ4_",
        "colab_type": "code",
        "colab": {
          "base_uri": "https://localhost:8080/",
          "height": 207
        },
        "outputId": "d1b5d2b0-a299-48ba-a300-6a350778984f"
      },
      "source": [
        "mc.unsqueeze(-1)"
      ],
      "execution_count": null,
      "outputs": [
        {
          "output_type": "execute_result",
          "data": {
            "text/plain": [
              "tensor([[[10.],\n",
              "         [20.],\n",
              "         [30.]],\n",
              "\n",
              "        [[10.],\n",
              "         [20.],\n",
              "         [30.]],\n",
              "\n",
              "        [[10.],\n",
              "         [20.],\n",
              "         [30.]]])"
            ]
          },
          "metadata": {
            "tags": []
          },
          "execution_count": 124
        }
      ]
    },
    {
      "cell_type": "markdown",
      "metadata": {
        "id": "Qzfa9xo4LBwx",
        "colab_type": "text"
      },
      "source": [
        "- reshaping c to row vector, column vector\n",
        "    - use squeeze\n",
        "    - use None\n",
        "- what if calculate c&m when `c` with `expand_as`, reshaped with `None`"
      ]
    },
    {
      "cell_type": "code",
      "metadata": {
        "id": "Gn_7n1PFLuIB",
        "colab_type": "code",
        "colab": {
          "base_uri": "https://localhost:8080/",
          "height": 35
        },
        "outputId": "33fae4a8-a966-451b-8cc1-9b88cf3a72bc"
      },
      "source": [
        "c, c.shape"
      ],
      "execution_count": null,
      "outputs": [
        {
          "output_type": "execute_result",
          "data": {
            "text/plain": [
              "(tensor([10., 20., 30.]), torch.Size([3]))"
            ]
          },
          "metadata": {
            "tags": []
          },
          "execution_count": 126
        }
      ]
    },
    {
      "cell_type": "code",
      "metadata": {
        "id": "J_4BAP8XLy8f",
        "colab_type": "code",
        "colab": {
          "base_uri": "https://localhost:8080/",
          "height": 35
        },
        "outputId": "f4439346-6915-4cdf-a8d1-4e98b14c0a55"
      },
      "source": [
        "c.unsqueeze(0) # (1,3)"
      ],
      "execution_count": null,
      "outputs": [
        {
          "output_type": "execute_result",
          "data": {
            "text/plain": [
              "tensor([[10., 20., 30.]])"
            ]
          },
          "metadata": {
            "tags": []
          },
          "execution_count": 127
        }
      ]
    },
    {
      "cell_type": "code",
      "metadata": {
        "id": "9DZD8qHoL47z",
        "colab_type": "code",
        "colab": {
          "base_uri": "https://localhost:8080/",
          "height": 69
        },
        "outputId": "428e1c69-f15f-4278-a72d-2d346d771b64"
      },
      "source": [
        "c.unsqueeze(-1) # (3, 1)"
      ],
      "execution_count": null,
      "outputs": [
        {
          "output_type": "execute_result",
          "data": {
            "text/plain": [
              "tensor([[10.],\n",
              "        [20.],\n",
              "        [30.]])"
            ]
          },
          "metadata": {
            "tags": []
          },
          "execution_count": 128
        }
      ]
    },
    {
      "cell_type": "code",
      "metadata": {
        "id": "5Le53RkLL8_j",
        "colab_type": "code",
        "colab": {
          "base_uri": "https://localhost:8080/",
          "height": 35
        },
        "outputId": "6b410909-05a5-48c8-f574-a446f945864d"
      },
      "source": [
        "c[None,], c[None,].shape"
      ],
      "execution_count": null,
      "outputs": [
        {
          "output_type": "execute_result",
          "data": {
            "text/plain": [
              "(tensor([[10., 20., 30.]]), torch.Size([1, 3]))"
            ]
          },
          "metadata": {
            "tags": []
          },
          "execution_count": 129
        }
      ]
    },
    {
      "cell_type": "code",
      "metadata": {
        "id": "aJ4rm-tlMF-u",
        "colab_type": "code",
        "colab": {
          "base_uri": "https://localhost:8080/",
          "height": 35
        },
        "outputId": "d2cad01a-207b-4148-8917-7b13c50939f1"
      },
      "source": [
        "c[None]"
      ],
      "execution_count": null,
      "outputs": [
        {
          "output_type": "execute_result",
          "data": {
            "text/plain": [
              "tensor([[10., 20., 30.]])"
            ]
          },
          "metadata": {
            "tags": []
          },
          "execution_count": 130
        }
      ]
    },
    {
      "cell_type": "code",
      "metadata": {
        "id": "vUS3JoQgMLG-",
        "colab_type": "code",
        "colab": {
          "base_uri": "https://localhost:8080/",
          "height": 35
        },
        "outputId": "2c1a58c8-773b-4e4c-f78c-7e73b2f60783"
      },
      "source": [
        "c[None:]"
      ],
      "execution_count": null,
      "outputs": [
        {
          "output_type": "execute_result",
          "data": {
            "text/plain": [
              "tensor([10., 20., 30.])"
            ]
          },
          "metadata": {
            "tags": []
          },
          "execution_count": 131
        }
      ]
    },
    {
      "cell_type": "code",
      "metadata": {
        "id": "vimCR8vZMX89",
        "colab_type": "code",
        "colab": {
          "base_uri": "https://localhost:8080/",
          "height": 35
        },
        "outputId": "dd131fe4-c5cb-4012-aab7-1032343cad50"
      },
      "source": [
        "c[None, ...]"
      ],
      "execution_count": null,
      "outputs": [
        {
          "output_type": "execute_result",
          "data": {
            "text/plain": [
              "tensor([[10., 20., 30.]])"
            ]
          },
          "metadata": {
            "tags": []
          },
          "execution_count": 135
        }
      ]
    },
    {
      "cell_type": "markdown",
      "metadata": {
        "id": "fCSrf4y-MlZ9",
        "colab_type": "text"
      },
      "source": [
        "[^9]: check the result of **c[None, -1]** since don't understand why that value came out."
      ]
    },
    {
      "cell_type": "code",
      "metadata": {
        "id": "KnnDNlSGSkoj",
        "colab_type": "code",
        "colab": {
          "base_uri": "https://localhost:8080/",
          "height": 35
        },
        "outputId": "5e132397-d5c9-429f-a08b-2e7b7bd8535d"
      },
      "source": [
        "c[None, -1]"
      ],
      "execution_count": 28,
      "outputs": [
        {
          "output_type": "execute_result",
          "data": {
            "text/plain": [
              "tensor([30.])"
            ]
          },
          "metadata": {
            "tags": []
          },
          "execution_count": 28
        }
      ]
    },
    {
      "cell_type": "code",
      "metadata": {
        "id": "gvjmJr24MNiD",
        "colab_type": "code",
        "colab": {
          "base_uri": "https://localhost:8080/",
          "height": 69
        },
        "outputId": "b99c47a2-8453-4704-dd2e-1c8f0dd9189c"
      },
      "source": [
        "c[:, None]"
      ],
      "execution_count": null,
      "outputs": [
        {
          "output_type": "execute_result",
          "data": {
            "text/plain": [
              "tensor([[10.],\n",
              "        [20.],\n",
              "        [30.]])"
            ]
          },
          "metadata": {
            "tags": []
          },
          "execution_count": 133
        }
      ]
    },
    {
      "cell_type": "code",
      "metadata": {
        "id": "QyITK7PeMQCc",
        "colab_type": "code",
        "colab": {
          "base_uri": "https://localhost:8080/",
          "height": 69
        },
        "outputId": "45d99e49-b97f-4e0f-ff9a-f0e603fc2ca9"
      },
      "source": [
        "c[..., None]"
      ],
      "execution_count": null,
      "outputs": [
        {
          "output_type": "execute_result",
          "data": {
            "text/plain": [
              "tensor([[10.],\n",
              "        [20.],\n",
              "        [30.]])"
            ]
          },
          "metadata": {
            "tags": []
          },
          "execution_count": 134
        }
      ]
    },
    {
      "cell_type": "markdown",
      "metadata": {
        "id": "Hv92dBlQXiHj",
        "colab_type": "text"
      },
      "source": [
        "You can always skip trailling ':'s. And '...' means '*all preceding dimensions*'"
      ]
    },
    {
      "cell_type": "markdown",
      "metadata": {
        "id": "A1_D5CrP6DYY",
        "colab_type": "text"
      },
      "source": [
        "## Matmul with broadcasting\n",
        "\n",
        "- do the matrix multiplication using broadcasting \n",
        "- compare time\n",
        "- check if that value is simmilar with first matmul value"
      ]
    },
    {
      "cell_type": "code",
      "metadata": {
        "id": "plovrHRh8QW1",
        "colab_type": "code",
        "colab": {}
      },
      "source": [
        "def matmul(a,b):\n",
        "    ar, ac = a.shape\n",
        "    br, bc = b.shape\n",
        "    assert ac == br\n",
        "    c = torch.zeros(ar, bc)\n",
        "    for i in range(ar):\n",
        "        c[i,] = (a[i][:, None] * b).sum(dim=0)\n",
        "    return c"
      ],
      "execution_count": null,
      "outputs": []
    },
    {
      "cell_type": "code",
      "metadata": {
        "id": "MIMqUb76N-na",
        "colab_type": "code",
        "colab": {
          "base_uri": "https://localhost:8080/",
          "height": 35
        },
        "outputId": "444f02f3-fc6c-4349-90c2-32324526e66d"
      },
      "source": [
        "%timeit -n 10 matmul(m1, w)"
      ],
      "execution_count": null,
      "outputs": [
        {
          "output_type": "stream",
          "text": [
            "10 loops, best of 3: 386 µs per loop\n"
          ],
          "name": "stdout"
        }
      ]
    },
    {
      "cell_type": "code",
      "metadata": {
        "id": "-ajpjYglTOdj",
        "colab_type": "code",
        "colab": {}
      },
      "source": [
        "test_near(matmul(m1, w), t1)"
      ],
      "execution_count": null,
      "outputs": []
    },
    {
      "cell_type": "markdown",
      "metadata": {
        "id": "LgmvfSG4TLxS",
        "colab_type": "text"
      },
      "source": [
        "---"
      ]
    },
    {
      "cell_type": "markdown",
      "metadata": {
        "id": "JoRVOYb7R7pX",
        "colab_type": "text"
      },
      "source": [
        "[^13]\n",
        "\n",
        "여기서 좀 헤맸는데, (이하참고)<br/>\n",
        "`@` 기호를 사용하면 안되는건가?\n",
        "1. None을 써서 expand해서 sum한거랑\n",
        "2. None 안쓰고 걍 matmul한거랑 같음 ㅋㅋㅋㅋㅋㅋㅋ"
      ]
    },
    {
      "cell_type": "code",
      "metadata": {
        "id": "NpRIV9P1RZaY",
        "colab_type": "code",
        "colab": {
          "base_uri": "https://localhost:8080/",
          "height": 52
        },
        "outputId": "3e06bd66-e3e7-460c-8a20-e86cb2998d1d"
      },
      "source": [
        "(m1[0][:, None] *w).sum(dim=0)"
      ],
      "execution_count": null,
      "outputs": [
        {
          "output_type": "execute_result",
          "data": {
            "text/plain": [
              "tensor([ -3.7722, -15.7509,  -0.0308,  -8.1866,   3.8230,   5.2652,   0.5891,\n",
              "         -8.2998,  17.3111,  -5.5104])"
            ]
          },
          "metadata": {
            "tags": []
          },
          "execution_count": 173
        }
      ]
    },
    {
      "cell_type": "code",
      "metadata": {
        "id": "8sCAvhJtSL08",
        "colab_type": "code",
        "colab": {
          "base_uri": "https://localhost:8080/",
          "height": 52
        },
        "outputId": "313dfac0-94ba-4697-e75f-9de136185808"
      },
      "source": [
        "m1[0]@w"
      ],
      "execution_count": null,
      "outputs": [
        {
          "output_type": "execute_result",
          "data": {
            "text/plain": [
              "tensor([ -3.7722, -15.7509,  -0.0308,  -8.1866,   3.8230,   5.2652,   0.5891,\n",
              "         -8.2998,  17.3111,  -5.5104])"
            ]
          },
          "metadata": {
            "tags": []
          },
          "execution_count": 175
        }
      ]
    },
    {
      "cell_type": "code",
      "metadata": {
        "id": "U4MDpxhvRzFV",
        "colab_type": "code",
        "colab": {
          "base_uri": "https://localhost:8080/",
          "height": 52
        },
        "outputId": "bdc0b4da-c6d2-4094-aa55-9a425212afe1"
      },
      "source": [
        "(m1[0][None] @ w)"
      ],
      "execution_count": null,
      "outputs": [
        {
          "output_type": "execute_result",
          "data": {
            "text/plain": [
              "tensor([[ -3.7722, -15.7509,  -0.0308,  -8.1866,   3.8230,   5.2652,   0.5891,\n",
              "          -8.2998,  17.3111,  -5.5104]])"
            ]
          },
          "metadata": {
            "tags": []
          },
          "execution_count": 174
        }
      ]
    },
    {
      "cell_type": "code",
      "metadata": {
        "id": "w0-QlvrPRBaE",
        "colab_type": "code",
        "colab": {
          "base_uri": "https://localhost:8080/",
          "height": 52
        },
        "outputId": "5acbdccd-0c2d-4b7b-cf09-234cb2c4c84c"
      },
      "source": [
        "(m1[0][None] @ w).sum(dim=0)"
      ],
      "execution_count": null,
      "outputs": [
        {
          "output_type": "execute_result",
          "data": {
            "text/plain": [
              "tensor([ -3.7722, -15.7509,  -0.0308,  -8.1866,   3.8230,   5.2652,   0.5891,\n",
              "         -8.2998,  17.3111,  -5.5104])"
            ]
          },
          "metadata": {
            "tags": []
          },
          "execution_count": 168
        }
      ]
    },
    {
      "cell_type": "code",
      "metadata": {
        "id": "wsybR5CGO42q",
        "colab_type": "code",
        "colab": {
          "base_uri": "https://localhost:8080/",
          "height": 69
        },
        "outputId": "a163603c-9e4c-4c0d-968a-7eb969b7a7ba"
      },
      "source": [
        "a, m"
      ],
      "execution_count": null,
      "outputs": [
        {
          "output_type": "execute_result",
          "data": {
            "text/plain": [
              "(tensor([10.,  6., -4.]), tensor([[1., 2., 3.],\n",
              "         [4., 5., 6.],\n",
              "         [7., 8., 9.]]))"
            ]
          },
          "metadata": {
            "tags": []
          },
          "execution_count": 146
        }
      ]
    },
    {
      "cell_type": "code",
      "metadata": {
        "id": "YWmO1IhhPEsq",
        "colab_type": "code",
        "colab": {
          "base_uri": "https://localhost:8080/",
          "height": 69
        },
        "outputId": "2f2afe14-bb6f-4bb4-90d7-6b57e9c11b06"
      },
      "source": [
        "a*m"
      ],
      "execution_count": null,
      "outputs": [
        {
          "output_type": "execute_result",
          "data": {
            "text/plain": [
              "tensor([[ 10.,  12., -12.],\n",
              "        [ 40.,  30., -24.],\n",
              "        [ 70.,  48., -36.]])"
            ]
          },
          "metadata": {
            "tags": []
          },
          "execution_count": 150
        }
      ]
    },
    {
      "cell_type": "code",
      "metadata": {
        "id": "kJjzY_S4OwPm",
        "colab_type": "code",
        "colab": {
          "base_uri": "https://localhost:8080/",
          "height": 35
        },
        "outputId": "1daec1cd-d2f8-4cbb-8db9-9b92fe7abb50"
      },
      "source": [
        "(a * m).sum(dim=1)"
      ],
      "execution_count": null,
      "outputs": [
        {
          "output_type": "execute_result",
          "data": {
            "text/plain": [
              "tensor([10., 46., 82.])"
            ]
          },
          "metadata": {
            "tags": []
          },
          "execution_count": 149
        }
      ]
    },
    {
      "cell_type": "markdown",
      "metadata": {
        "id": "U5Ymncot6D42",
        "colab_type": "text"
      },
      "source": [
        "## Broadcasting Rules\n",
        "\n",
        "1. inserting axis as **1st**(using `None`), inserting axis to the 2nd dim\n",
        "2. use 1, do matmul and return 3by3 matrix with dim=[3] vector(ex.,c)"
      ]
    },
    {
      "cell_type": "code",
      "metadata": {
        "id": "NDH9j5bT8sZY",
        "colab_type": "code",
        "colab": {
          "base_uri": "https://localhost:8080/",
          "height": 35
        },
        "outputId": "f3f0963c-0ac6-4662-8394-9101ffa3fa8a"
      },
      "source": [
        "w[None].shape, w[:, None].shape, w[..., None].shape"
      ],
      "execution_count": null,
      "outputs": [
        {
          "output_type": "execute_result",
          "data": {
            "text/plain": [
              "(torch.Size([1, 784, 10]), torch.Size([784, 1, 10]), torch.Size([784, 10, 1]))"
            ]
          },
          "metadata": {
            "tags": []
          },
          "execution_count": 192
        }
      ]
    },
    {
      "cell_type": "code",
      "metadata": {
        "id": "xjalMVjAUGrg",
        "colab_type": "code",
        "colab": {
          "base_uri": "https://localhost:8080/",
          "height": 35
        },
        "outputId": "ce008ba5-7f32-438e-d15e-c471972596ae"
      },
      "source": [
        "c"
      ],
      "execution_count": null,
      "outputs": [
        {
          "output_type": "execute_result",
          "data": {
            "text/plain": [
              "tensor([10., 20., 30.])"
            ]
          },
          "metadata": {
            "tags": []
          },
          "execution_count": 193
        }
      ]
    },
    {
      "cell_type": "code",
      "metadata": {
        "id": "IgPpei8FUOUr",
        "colab_type": "code",
        "colab": {
          "base_uri": "https://localhost:8080/",
          "height": 69
        },
        "outputId": "d2c8f8eb-9fbd-468c-e44b-eed09cac6f59"
      },
      "source": [
        "c[:, None] * c[None]"
      ],
      "execution_count": null,
      "outputs": [
        {
          "output_type": "execute_result",
          "data": {
            "text/plain": [
              "tensor([[100., 200., 300.],\n",
              "        [200., 400., 600.],\n",
              "        [300., 600., 900.]])"
            ]
          },
          "metadata": {
            "tags": []
          },
          "execution_count": 194
        }
      ]
    },
    {
      "cell_type": "code",
      "metadata": {
        "id": "haf-2UzPUjQo",
        "colab_type": "code",
        "colab": {
          "base_uri": "https://localhost:8080/",
          "height": 69
        },
        "outputId": "15d7ff94-9933-4e3b-ebc4-227cf578320e"
      },
      "source": [
        "c.expand_as(m) * c.expand_as(m).T"
      ],
      "execution_count": null,
      "outputs": [
        {
          "output_type": "execute_result",
          "data": {
            "text/plain": [
              "tensor([[100., 200., 300.],\n",
              "        [200., 400., 600.],\n",
              "        [300., 600., 900.]])"
            ]
          },
          "metadata": {
            "tags": []
          },
          "execution_count": 195
        }
      ]
    },
    {
      "cell_type": "markdown",
      "metadata": {
        "id": "8N65MPRHXiIA",
        "colab_type": "text"
      },
      "source": [
        "When operating on two arrays/tensors, Numpy/PyTorch compares their shapes element-wise. It starts with the **trailing dimensions**, and works its way forward. Two dimensions are **compatible** when\n",
        "\n",
        "- they are equal, or\n",
        "- one of them is 1, in which case that dimension is broadcasted to make it the same size\n",
        "\n",
        "Arrays do not need to have the same number of dimensions. For example, if you have a `256*256*3` array of RGB values, and you want to scale each color in the image by a different value, you can multiply the image by a one-dimensional array with 3 values. Lining up the sizes of the trailing axes of these arrays according to the broadcast rules, shows that they are compatible:\n",
        "\n",
        "    Image  (3d array): 256 x 256 x 3\n",
        "    Scale  (1d array):             3\n",
        "    Result (3d array): 256 x 256 x 3\n",
        "\n",
        "The [numpy documentation](https://docs.scipy.org/doc/numpy-1.13.0/user/basics.broadcasting.html#general-broadcasting-rules) includes several examples of what dimensions can and can not be broadcast together."
      ]
    },
    {
      "cell_type": "markdown",
      "metadata": {
        "id": "4CkDdJRD9KFU",
        "colab_type": "text"
      },
      "source": [
        "# Einstein summation\n",
        "\n",
        "- do the ein_sum using torch.einsum()\n",
        "- check the time with broadcasting\n",
        "- compare value with the first thing"
      ]
    },
    {
      "cell_type": "code",
      "metadata": {
        "id": "y8qneaxuVdNN",
        "colab_type": "code",
        "colab": {
          "base_uri": "https://localhost:8080/",
          "height": 35
        },
        "outputId": "d937c8a8-f293-445b-9621-68396cbfdd25"
      },
      "source": [
        "torch.einsum('ij,jk->ik', m1, w).shape"
      ],
      "execution_count": null,
      "outputs": [
        {
          "output_type": "execute_result",
          "data": {
            "text/plain": [
              "torch.Size([5, 10])"
            ]
          },
          "metadata": {
            "tags": []
          },
          "execution_count": 203
        }
      ]
    },
    {
      "cell_type": "markdown",
      "metadata": {
        "id": "rIoLnxTOXiID",
        "colab_type": "text"
      },
      "source": [
        "[^14] this means they somewhat transfer string to index, arithmetic...check out the **source code**!\n",
        "\n",
        "Einstein summation (`einsum`) is a compact representation for combining products and sums in a general way. From the numpy docs:\n",
        "\n",
        "\"The subscripts string is a comma-separated list of subscript labels, where each label refers to a dimension of the corresponding operand. Whenever a label is repeated it is summed, so `np.einsum('i,i', a, b)` is equivalent to `np.inner(a,b)`. If a label appears only once, it is not summed, so `np.einsum('i', a)` produces a view of a with no changes.\""
      ]
    },
    {
      "cell_type": "code",
      "metadata": {
        "id": "fz6MYxbcWsvc",
        "colab_type": "code",
        "colab": {
          "base_uri": "https://localhost:8080/",
          "height": 35
        },
        "outputId": "e753c777-2554-412f-fb43-977d0bb8b1c8"
      },
      "source": [
        "%timeit -n 10 torch.einsum('ij,jk->ik', m1, w)"
      ],
      "execution_count": null,
      "outputs": [
        {
          "output_type": "stream",
          "text": [
            "10 loops, best of 3: 56.5 µs per loop\n"
          ],
          "name": "stdout"
        }
      ]
    },
    {
      "cell_type": "code",
      "metadata": {
        "id": "a1S-_PquXGeC",
        "colab_type": "code",
        "colab": {}
      },
      "source": [
        "test_near(torch.einsum('ij,jk->ik', m1, w), t1)"
      ],
      "execution_count": null,
      "outputs": []
    },
    {
      "cell_type": "code",
      "metadata": {
        "id": "kUYdwiOpVrPD",
        "colab_type": "code",
        "colab": {
          "base_uri": "https://localhost:8080/",
          "height": 35
        },
        "outputId": "0765a83e-c838-458e-a747-4f387b541d23"
      },
      "source": [
        "a = torch.randn(3,5,4)  \n",
        "l = torch.randn(2,5)  \n",
        "r = torch.randn(2,4)  \n",
        "torch.einsum('bn,anm,bm-> ba', l, a, r).shape"
      ],
      "execution_count": null,
      "outputs": [
        {
          "output_type": "execute_result",
          "data": {
            "text/plain": [
              "torch.Size([2, 3])"
            ]
          },
          "metadata": {
            "tags": []
          },
          "execution_count": 202
        }
      ]
    },
    {
      "cell_type": "markdown",
      "metadata": {
        "id": "hOWOIOGp91Uy",
        "colab_type": "text"
      },
      "source": [
        "# pytorch op : Using general lib given by pytorch\n",
        "\n",
        "- do the pytorch matmul(hint: default of tensor)"
      ]
    },
    {
      "cell_type": "code",
      "metadata": {
        "id": "P0ZhEB2yXNVU",
        "colab_type": "code",
        "colab": {
          "base_uri": "https://localhost:8080/",
          "height": 35
        },
        "outputId": "eb89c7b9-ad1d-4166-ecdb-678197f2d95b"
      },
      "source": [
        "%timeit -n 10 m1.matmul(w)"
      ],
      "execution_count": null,
      "outputs": [
        {
          "output_type": "stream",
          "text": [
            "10 loops, best of 3: 11 µs per loop\n"
          ],
          "name": "stdout"
        }
      ]
    },
    {
      "cell_type": "markdown",
      "metadata": {
        "id": "7MKxXxnN-GvI",
        "colab_type": "text"
      },
      "source": [
        "# export : save all the script you defined at this notebook"
      ]
    },
    {
      "cell_type": "code",
      "metadata": {
        "id": "A_kz90qCXfNq",
        "colab_type": "code",
        "colab": {}
      },
      "source": [
        "!pip install fire"
      ],
      "execution_count": null,
      "outputs": []
    },
    {
      "cell_type": "code",
      "metadata": {
        "id": "onvtm1AOXUFN",
        "colab_type": "code",
        "colab": {
          "base_uri": "https://localhost:8080/",
          "height": 35
        },
        "outputId": "c54b74af-f06a-413c-d164-14ad1ec6890e"
      },
      "source": [
        "!python3 notebook2script.py 01_matmul.ipynb"
      ],
      "execution_count": null,
      "outputs": [
        {
          "output_type": "stream",
          "text": [
            "Converted 01_matmul.ipynb to exp/nb_01.py\n"
          ],
          "name": "stdout"
        }
      ]
    },
    {
      "cell_type": "code",
      "metadata": {
        "id": "Pj5Kpv3OXnKp",
        "colab_type": "code",
        "colab": {
          "base_uri": "https://localhost:8080/",
          "height": 466
        },
        "outputId": "b4354065-aaf2-4670-f633-cdd3d9a92a37"
      },
      "source": [
        "!cat exp/nb_01.py"
      ],
      "execution_count": null,
      "outputs": [
        {
          "output_type": "stream",
          "text": [
            "\n",
            "#################################################\n",
            "### THIS FILE WAS AUTOGENERATED! DO NOT EDIT! ###\n",
            "#################################################\n",
            "# file to edit: dev_nb/01_matmul.ipynb\n",
            "\n",
            "from exp.nb_00 import *\n",
            "import operator\n",
            "\n",
            "def test(a,b,cmp,cname=None):\n",
            "    if cname is None: cname=cmp.__name__\n",
            "    assert cmp(a,b),f\"{cname}:\\n{a}\\n{b}\"\n",
            "\n",
            "def test_eq(a,b): test(a,b,operator.eq,'==')\n",
            "\n",
            "from pathlib import Path\n",
            "from IPython.core.debugger import set_trace\n",
            "from fastai import datasets\n",
            "import pickle, gzip, math, torch, matplotlib as mpl\n",
            "import matplotlib.pyplot as plt\n",
            "from torch import tensor\n",
            "\n",
            "MNIST_URL='http://deeplearning.net/data/mnist/mnist.pkl'\n",
            "\n",
            "def near(a,b): return torch.allclose(a, b, rtol=1e-3, atol=1e-5)\n",
            "def test_near(a,b): test(a,b,near)"
          ],
          "name": "stdout"
        }
      ]
    },
    {
      "cell_type": "markdown",
      "metadata": {
        "id": "9QoO_BCeL86Q",
        "colab_type": "text"
      },
      "source": [
        "# Question List"
      ]
    },
    {
      "cell_type": "markdown",
      "metadata": {
        "id": "eCwM0ou4LBva",
        "colab_type": "text"
      },
      "source": [
        "[1]: gzip does remove zip file after you unzip, so you should give `-k` arg\n",
        "\n",
        "[2]: pathlib.resolve / pathlib.absolute, but issues are depends on python [versions](https://discuss.python.org/t/pathlib-absolute-vs-resolve/2573/2)\n",
        "\n",
        "[3]: expected means number of values I gave\n",
        "\n",
        "[5]: The last value of b (since this is categorial) should be defined using value, and the shape of tensor.\n",
        "\n",
        "[6]: See the stackoverflow [answer1](https://stackoverflow.com/a/17579466/7934832), [answer2](https://stackoverflow.com/a/14650555/7934832) and jupyter built-in magic method [document](https://ipython.readthedocs.io/en/stable/interactive/magics.html)\n",
        "\n",
        "[7]: refer to [this](https://www.amazon.com/Linear-Algebra-4th-Stephen-Friedberg/dp/0130084514) book I used at class and answer later\n",
        "\n",
        "[8]: *Unsolved* question\n",
        "\n",
        "    Stride is the jump necessary to go from one element to the next one in the specified dimension :attr:`dim`.\n",
        "\n",
        "~~~python\n",
        "import torch\n",
        "s = torch.randn(10, 4, 6)\n",
        "s.stride()\n",
        ">>> (24, 6, 1)\n",
        "~~~    \n",
        "\n",
        "\n",
        "\n",
        "[9]: See below\n",
        "\n",
        "~~~python\n",
        "c = torch.tensor([10., 20., 30])\n",
        "c[-1], c[-1].shape\n",
        ">>> (tensor(30.), torch.Size([]))\n",
        "c[None, -1]\n",
        ">>> (tensor([30.]), torch.Size([1]))\n",
        "~~~"
      ]
    }
  ]
}