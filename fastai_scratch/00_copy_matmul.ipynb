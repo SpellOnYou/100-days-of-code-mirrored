{
  "nbformat": 4,
  "nbformat_minor": 0,
  "metadata": {
    "colab": {
      "name": "00_copy_matmul.ipynb",
      "provenance": [],
      "collapsed_sections": [],
      "include_colab_link": true
    },
    "kernelspec": {
      "name": "python3",
      "display_name": "Python 3"
    }
  },
  "cells": [
    {
      "cell_type": "markdown",
      "metadata": {
        "id": "view-in-github",
        "colab_type": "text"
      },
      "source": [
        "<a href=\"https://colab.research.google.com/github/SpellOnYou/10000-days-of-code/blob/master/fastai_scratch%20/00_copy_matmul.ipynb\" target=\"_parent\"><img src=\"https://colab.research.google.com/assets/colab-badge.svg\" alt=\"Open In Colab\"/></a>"
      ]
    },
    {
      "cell_type": "markdown",
      "metadata": {
        "id": "g5tu7tUSEOqn"
      },
      "source": [
        "- Last visited : 2021-03-02 - colab updated python version.. (finally..)\n",
        "\n",
        "# Set-up (for colab)"
      ]
    },
    {
      "cell_type": "code",
      "metadata": {
        "colab": {
          "base_uri": "https://localhost:8080/",
          "height": 35
        },
        "id": "bWcs2oIJraXQ",
        "outputId": "c22f441b-d39d-4f53-fd2a-9953a7fc9f90"
      },
      "source": [
        "import torch, sys\n",
        "torch.sys.version"
      ],
      "execution_count": 4,
      "outputs": [
        {
          "output_type": "execute_result",
          "data": {
            "application/vnd.google.colaboratory.intrinsic+json": {
              "type": "string"
            },
            "text/plain": [
              "'3.7.10 (default, Feb 20 2021, 21:17:23) \\n[GCC 7.5.0]'"
            ]
          },
          "metadata": {
            "tags": []
          },
          "execution_count": 4
        }
      ]
    },
    {
      "cell_type": "code",
      "metadata": {
        "colab": {
          "base_uri": "https://localhost:8080/"
        },
        "id": "BEKg_-ivdZSz",
        "outputId": "0707ce9b-34c9-4606-f400-bea687cb0dd7"
      },
      "source": [
        "!python --version"
      ],
      "execution_count": 5,
      "outputs": [
        {
          "output_type": "stream",
          "text": [
            "Python 3.7.10\n"
          ],
          "name": "stdout"
        }
      ]
    },
    {
      "cell_type": "code",
      "metadata": {
        "id": "eGNdNhnAA7Ra",
        "colab": {
          "base_uri": "https://localhost:8080/"
        },
        "outputId": "20ded5d2-f553-4a0f-f9c7-833e1444c860"
      },
      "source": [
        "!git clone https://github.com/fastai/course-v3/"
      ],
      "execution_count": 6,
      "outputs": [
        {
          "output_type": "stream",
          "text": [
            "Cloning into 'course-v3'...\n",
            "remote: Enumerating objects: 5890, done.\u001b[K\n",
            "remote: Total 5890 (delta 0), reused 0 (delta 0), pack-reused 5890\u001b[K\n",
            "Receiving objects: 100% (5890/5890), 263.03 MiB | 34.71 MiB/s, done.\n",
            "Resolving deltas: 100% (3249/3249), done.\n"
          ],
          "name": "stdout"
        }
      ]
    },
    {
      "cell_type": "code",
      "metadata": {
        "id": "7GrUn0sJCM6q",
        "colab": {
          "base_uri": "https://localhost:8080/"
        },
        "outputId": "5bdb2532-2561-402c-ac94-4b5f3eb9a8f8"
      },
      "source": [
        "%cd /content/course-v3/nbs/dl2/"
      ],
      "execution_count": 7,
      "outputs": [
        {
          "output_type": "stream",
          "text": [
            "/content/course-v3/nbs/dl2\n"
          ],
          "name": "stdout"
        }
      ]
    },
    {
      "cell_type": "markdown",
      "metadata": {
        "id": "hWt0wRa6Ca4K"
      },
      "source": [
        "# Export package #[^0]"
      ]
    },
    {
      "cell_type": "code",
      "metadata": {
        "colab": {
          "base_uri": "https://localhost:8080/"
        },
        "id": "snVbza8PoLe_",
        "outputId": "b227f04f-e6fb-4a70-968f-90316eedc404"
      },
      "source": [
        "!pip install -q fire"
      ],
      "execution_count": 8,
      "outputs": [
        {
          "output_type": "stream",
          "text": [
            "\u001b[?25l\r\u001b[K     |███▊                            | 10kB 16.8MB/s eta 0:00:01\r\u001b[K     |███████▌                        | 20kB 12.3MB/s eta 0:00:01\r\u001b[K     |███████████▏                    | 30kB 9.5MB/s eta 0:00:01\r\u001b[K     |███████████████                 | 40kB 7.5MB/s eta 0:00:01\r\u001b[K     |██████████████████▊             | 51kB 4.3MB/s eta 0:00:01\r\u001b[K     |██████████████████████▍         | 61kB 4.9MB/s eta 0:00:01\r\u001b[K     |██████████████████████████▏     | 71kB 5.3MB/s eta 0:00:01\r\u001b[K     |██████████████████████████████  | 81kB 5.6MB/s eta 0:00:01\r\u001b[K     |████████████████████████████████| 92kB 4.1MB/s \n",
            "\u001b[?25h  Building wheel for fire (setup.py) ... \u001b[?25l\u001b[?25hdone\n"
          ],
          "name": "stdout"
        }
      ]
    },
    {
      "cell_type": "code",
      "metadata": {
        "id": "vO3nrA8CCejs"
      },
      "source": [
        "## export\n",
        "mode = 'Test'"
      ],
      "execution_count": 9,
      "outputs": []
    },
    {
      "cell_type": "code",
      "metadata": {
        "id": "J1bzkFrPCQ-_",
        "colab": {
          "base_uri": "https://localhost:8080/"
        },
        "outputId": "13dd5faf-c71c-4283-80ef-84398d7a3676"
      },
      "source": [
        "!python notebook2script.py ./00_exports.ipynb"
      ],
      "execution_count": 10,
      "outputs": [
        {
          "output_type": "stream",
          "text": [
            "Converted 00_exports.ipynb to exp/nb_00.py\n"
          ],
          "name": "stdout"
        }
      ]
    },
    {
      "cell_type": "markdown",
      "metadata": {
        "id": "fWJISag7HFdD"
      },
      "source": [
        "# run test at console"
      ]
    },
    {
      "cell_type": "code",
      "metadata": {
        "id": "QioRVw61JWQw"
      },
      "source": [
        "import operator\n",
        "\n",
        "def test(a, b, cmp, cname = None):\n",
        "    if cname is None: cname = cmp.__name__\n",
        "    assert cmp(a,b), f\"{cname}:\\n{a}\\n{b}\"\n",
        "\n",
        "def test_eq(a,b): test(a, b, operator.eq, \"==\")"
      ],
      "execution_count": 11,
      "outputs": []
    },
    {
      "cell_type": "code",
      "metadata": {
        "id": "r4ef7fMeKROf"
      },
      "source": [
        "from exp.nb_00 import *\n",
        "test_eq(TEST, 'test')"
      ],
      "execution_count": null,
      "outputs": []
    },
    {
      "cell_type": "markdown",
      "metadata": {
        "id": "vMKN7-gwHGZe"
      },
      "source": [
        "# get data\n",
        "\n",
        "- Use basic library, no pytorch(except tensor)/tf\n",
        "- URL- http://deeplearning.net/data/mnist/mnist.pkl.gz\n",
        "- load data as pickle, and assign tensor values\n",
        "- size of data check, type check, visualize"
      ]
    },
    {
      "cell_type": "markdown",
      "metadata": {
        "id": "HzHFp3HCNJRO"
      },
      "source": [
        "[4]: [Link](https://queirozf.com/entries/matplotlib-pylab-pyplot-etc-what-s-the-different-between-these) TL;DR: Matplotlib is the toolkit, PyPlot is an interactive way to use Matplotlib and PyLab is the same thing as PyPlot but with some extra shortcuts. "
      ]
    },
    {
      "cell_type": "code",
      "metadata": {
        "id": "wbzoVq_YORdv"
      },
      "source": [
        "from pathlib import Path\n",
        "data_path = Path('.').absolute()/'data'\n",
        "Path.mkdir(data_path, exist_ok=True)\n",
        "\n",
        "from google import colab\n",
        "# colab.files.upload()\n",
        "\n",
        "## 2021-02-16: http://deeplearning.net/data/mnist/mnist.pkl.gz does not work"
      ],
      "execution_count": 18,
      "outputs": []
    },
    {
      "cell_type": "code",
      "metadata": {
        "id": "kSWkGzIpQbSK"
      },
      "source": [
        "data = data_path/'mnist.pkl.gz'"
      ],
      "execution_count": 19,
      "outputs": []
    },
    {
      "cell_type": "code",
      "metadata": {
        "id": "XFV1pbJ5qxj_"
      },
      "source": [
        "!gunzip {data}"
      ],
      "execution_count": 21,
      "outputs": []
    },
    {
      "cell_type": "code",
      "metadata": {
        "id": "TwEEKQNaRx3C"
      },
      "source": [
        "import pickle\n",
        "with open(data_path/'mnist.pkl', 'rb') as f:\n",
        "    (train_x, train_y), (valid_x, valid_y), _ = pickle.load(f, encoding = 'latin-1')"
      ],
      "execution_count": 22,
      "outputs": []
    },
    {
      "cell_type": "code",
      "metadata": {
        "id": "X9UryZoYTd0A"
      },
      "source": [
        "# help(pickle.load) #should be binary encoding"
      ],
      "execution_count": 23,
      "outputs": []
    },
    {
      "cell_type": "code",
      "metadata": {
        "id": "tYLxjJgcUp1P"
      },
      "source": [
        "from torch import tensor\n",
        "train_x, train_y, valid_x, valid_y = map(tensor, (train_x, train_y, valid_x, valid_y))"
      ],
      "execution_count": 24,
      "outputs": []
    },
    {
      "cell_type": "markdown",
      "metadata": {
        "id": "-aUCRzixvAD3"
      },
      "source": [
        "Q. dtype vs type()\n",
        "\n",
        " - dtype is a datatype, like torch.float32 or torch.float64\n",
        " - tensortype is a type of tensor, like torch.FloatTensor, torch.DoubleTensor."
      ]
    },
    {
      "cell_type": "code",
      "metadata": {
        "id": "PZfVkYhqVCDK",
        "colab": {
          "base_uri": "https://localhost:8080/"
        },
        "outputId": "a8d6dfb4-ba80-4cc3-8d88-e427ec881980"
      },
      "source": [
        "train_x.dtype, train_x.type()"
      ],
      "execution_count": null,
      "outputs": [
        {
          "output_type": "execute_result",
          "data": {
            "text/plain": [
              "(torch.float32, 'torch.FloatTensor')"
            ]
          },
          "metadata": {
            "tags": []
          },
          "execution_count": 34
        }
      ]
    },
    {
      "cell_type": "code",
      "metadata": {
        "id": "fUOtbCB8VDf9"
      },
      "source": [
        "test_eq(len(train_x), 50000)"
      ],
      "execution_count": null,
      "outputs": []
    },
    {
      "cell_type": "code",
      "metadata": {
        "colab": {
          "base_uri": "https://localhost:8080/"
        },
        "id": "isHC6Yeiscyh",
        "outputId": "525e8c3d-80ed-46be-f3df-3deb71c18673"
      },
      "source": [
        "train_x.shape"
      ],
      "execution_count": null,
      "outputs": [
        {
          "output_type": "execute_result",
          "data": {
            "text/plain": [
              "torch.Size([50000, 784])"
            ]
          },
          "metadata": {
            "tags": []
          },
          "execution_count": 37
        }
      ]
    },
    {
      "cell_type": "code",
      "metadata": {
        "id": "3isSF9pRswXd"
      },
      "source": [
        "??torch.tensor.view"
      ],
      "execution_count": null,
      "outputs": []
    },
    {
      "cell_type": "code",
      "metadata": {
        "id": "XTjvg-y-VUe_"
      },
      "source": [
        "test_eq(len(valid_x), 10000)"
      ],
      "execution_count": null,
      "outputs": []
    },
    {
      "cell_type": "code",
      "metadata": {
        "id": "JD7xqZTOVa_x",
        "colab": {
          "base_uri": "https://localhost:8080/",
          "height": 282
        },
        "outputId": "0e1e0566-b55b-45da-8e17-30d427a94b26"
      },
      "source": [
        "import matplotlib.pyplot as plt\n",
        "plt.imshow(train_x[10].view(28, -1))"
      ],
      "execution_count": 25,
      "outputs": [
        {
          "output_type": "execute_result",
          "data": {
            "text/plain": [
              "<matplotlib.image.AxesImage at 0x7f20ec2de210>"
            ]
          },
          "metadata": {
            "tags": []
          },
          "execution_count": 25
        },
        {
          "output_type": "display_data",
          "data": {
            "image/png": "[encoded data removed]",
            "text/plain": [
              "<Figure size 432x288 with 1 Axes>"
            ]
          },
          "metadata": {
            "tags": [],
            "needs_background": "light"
          }
        }
      ]
    },
    {
      "cell_type": "markdown",
      "metadata": {
        "id": "YVfDZFgJEO7q"
      },
      "source": [
        "\n",
        "# Initial Python Model\n",
        "\n",
        "- Initialization of parameter(1 hidden layer)\n"
      ]
    },
    {
      "cell_type": "code",
      "metadata": {
        "id": "NeOWn-oOXAU7",
        "colab": {
          "base_uri": "https://localhost:8080/"
        },
        "outputId": "950535de-afef-4210-d9a6-1139b4df609f"
      },
      "source": [
        "from torch import randn, zeros\n",
        "w = randn(train_x.shape[1], 10)\n",
        "b = zeros(10); b.shape, w.shape"
      ],
      "execution_count": 51,
      "outputs": [
        {
          "output_type": "execute_result",
          "data": {
            "text/plain": [
              "(torch.Size([10]), torch.Size([784, 10]))"
            ]
          },
          "metadata": {
            "tags": []
          },
          "execution_count": 51
        }
      ]
    },
    {
      "cell_type": "markdown",
      "metadata": {
        "id": "RoGhZkCzX0fP"
      },
      "source": [
        "[^5]: * Be cautious"
      ]
    },
    {
      "cell_type": "code",
      "metadata": {
        "id": "l-gEqYInlMpa"
      },
      "source": [
        "m1 = valid_x[:5,]"
      ],
      "execution_count": null,
      "outputs": []
    },
    {
      "cell_type": "markdown",
      "metadata": {
        "id": "gh4pyDu1W_zI"
      },
      "source": [
        "\n",
        "# Matrix multiplication (1st)\n",
        "- use valid data only for amount of 5\n",
        "- by the book(3 loop)"
      ]
    },
    {
      "cell_type": "code",
      "metadata": {
        "id": "D0D6KpYzEPPA"
      },
      "source": [
        "def matmul(a, b):\n",
        "    ar, ac = a.shape\n",
        "    br, bc = b.shape\n",
        "    assert ac == br\n",
        "    out = torch.zeros(ar, bc)\n",
        "    for i in range(a.shape[0]):\n",
        "        for j in range(b.shape[1]):\n",
        "            for k in range(a.shape[1]): #br = ac\n",
        "                out[i, j] += a[i, k] * b[k, j]\n",
        "    return out"
      ],
      "execution_count": null,
      "outputs": []
    },
    {
      "cell_type": "code",
      "metadata": {
        "id": "7yA2igyUDlNb",
        "colab": {
          "base_uri": "https://localhost:8080/"
        },
        "outputId": "ea280aad-636d-4a00-c901-0fd1166c8e24"
      },
      "source": [
        "import gc\n",
        "gc.collect()"
      ],
      "execution_count": null,
      "outputs": [
        {
          "output_type": "execute_result",
          "data": {
            "text/plain": [
              "2997"
            ]
          },
          "metadata": {
            "tags": []
          },
          "execution_count": 51
        }
      ]
    },
    {
      "cell_type": "code",
      "metadata": {
        "id": "rWQWHz9w0gT4",
        "colab": {
          "base_uri": "https://localhost:8080/"
        },
        "outputId": "3133eb15-6f4d-4da7-e62a-734b5d52a640"
      },
      "source": [
        "%timeit -n 10 matmul(m1, w)"
      ],
      "execution_count": null,
      "outputs": [
        {
          "output_type": "stream",
          "text": [
            "10 loops, best of 3: 1.02 s per loop\n"
          ],
          "name": "stdout"
        }
      ]
    },
    {
      "cell_type": "code",
      "metadata": {
        "id": "QmIIfZOOS8xu"
      },
      "source": [
        "t1 =  matmul(m1, w)"
      ],
      "execution_count": null,
      "outputs": []
    },
    {
      "cell_type": "code",
      "metadata": {
        "id": "Gj2AMyoX26LM",
        "colab": {
          "base_uri": "https://localhost:8080/",
          "height": 35
        },
        "outputId": "facc67ca-f0db-4c54-e674-da37b9efafb3"
      },
      "source": [
        "c.shape "
      ],
      "execution_count": null,
      "outputs": [
        {
          "output_type": "execute_result",
          "data": {
            "text/plain": [
              "torch.Size([5, 10])"
            ]
          },
          "metadata": {
            "tags": []
          },
          "execution_count": 46
        }
      ]
    },
    {
      "cell_type": "markdown",
      "metadata": {
        "id": "MUcOMtw33I3M"
      },
      "source": [
        "# Elementwise ops (2nd)\n",
        "- a, b 1) addition 2) comparison\n",
        "- m 1) Frobenius Norm\n",
        " "
      ]
    },
    {
      "cell_type": "code",
      "metadata": {
        "id": "ULKYi5ut3gRu"
      },
      "source": [
        "a = tensor([10., 6, -4])\n",
        "b = tensor([2., 8, 7])"
      ],
      "execution_count": 31,
      "outputs": []
    },
    {
      "cell_type": "code",
      "metadata": {
        "id": "TAxfZhNtAmEL",
        "colab": {
          "base_uri": "https://localhost:8080/"
        },
        "outputId": "76a79075-df47-45e7-b36d-7dc438625846"
      },
      "source": [
        "a + b"
      ],
      "execution_count": null,
      "outputs": [
        {
          "output_type": "execute_result",
          "data": {
            "text/plain": [
              "tensor([12., 14.,  3.])"
            ]
          },
          "metadata": {
            "tags": []
          },
          "execution_count": 54
        }
      ]
    },
    {
      "cell_type": "code",
      "metadata": {
        "id": "L39VG6i5AnRs",
        "colab": {
          "base_uri": "https://localhost:8080/"
        },
        "outputId": "63448dad-8965-4b67-898d-014f419909e0"
      },
      "source": [
        "a < b"
      ],
      "execution_count": null,
      "outputs": [
        {
          "output_type": "execute_result",
          "data": {
            "text/plain": [
              "tensor([False,  True,  True])"
            ]
          },
          "metadata": {
            "tags": []
          },
          "execution_count": 55
        }
      ]
    },
    {
      "cell_type": "code",
      "metadata": {
        "id": "LXQ_9gLLAqA7",
        "colab": {
          "base_uri": "https://localhost:8080/"
        },
        "outputId": "5877c3f9-836a-4995-e3c4-43cbf8aef417"
      },
      "source": [
        "(a<b).sum()"
      ],
      "execution_count": null,
      "outputs": [
        {
          "output_type": "execute_result",
          "data": {
            "text/plain": [
              "tensor(2)"
            ]
          },
          "metadata": {
            "tags": []
          },
          "execution_count": 56
        }
      ]
    },
    {
      "cell_type": "markdown",
      "metadata": {
        "id": "bbRQyiZEXiGb"
      },
      "source": [
        "Frobenius norm:\n",
        "\n",
        "$$\\| A \\|_F = \\left( \\sum_{i,j=1}^n | a_{ij} |^2 \\right)^{1/2}$$\n",
        "\n",
        "*Hint*: you don't normally need to write equations in LaTeX yourself, instead, you can click 'edit' in Wikipedia and copy the LaTeX from there (which is what I did for the above equation). Or on arxiv.org, click \"Download: Other formats\" in the top right, then \"Download source\"; rename the downloaded file to end in `.tgz` if it doesn't already, and you should find the source there, including the equations to copy and paste."
      ]
    },
    {
      "cell_type": "code",
      "metadata": {
        "id": "yLGGDQpg3giF",
        "colab": {
          "base_uri": "https://localhost:8080/"
        },
        "outputId": "579171ad-58b8-4838-c4a2-9415a95dbbfb"
      },
      "source": [
        "m = tensor([[1., 2, 3], [4,5,6], [7,8,9]]); m"
      ],
      "execution_count": 29,
      "outputs": [
        {
          "output_type": "execute_result",
          "data": {
            "text/plain": [
              "tensor([[1., 2., 3.],\n",
              "        [4., 5., 6.],\n",
              "        [7., 8., 9.]])"
            ]
          },
          "metadata": {
            "tags": []
          },
          "execution_count": 29
        }
      ]
    },
    {
      "cell_type": "code",
      "metadata": {
        "id": "1ByIn-oIBbmi",
        "colab": {
          "base_uri": "https://localhost:8080/"
        },
        "outputId": "08a19ee0-038f-4968-9a52-d97db2f95de1"
      },
      "source": [
        "m * m.T # !! symmetric!!!!!!!!!!!!! \n",
        "# [^7]"
      ],
      "execution_count": null,
      "outputs": [
        {
          "output_type": "execute_result",
          "data": {
            "text/plain": [
              "tensor([[ 1.,  8., 21.],\n",
              "        [ 8., 25., 48.],\n",
              "        [21., 48., 81.]])"
            ]
          },
          "metadata": {
            "tags": []
          },
          "execution_count": 58
        }
      ]
    },
    {
      "cell_type": "code",
      "metadata": {
        "id": "rbmVBwzDAx3r",
        "colab": {
          "base_uri": "https://localhost:8080/"
        },
        "outputId": "4a9ded21-f93b-473c-96e9-60d65059fab2"
      },
      "source": [
        "(m * m.T).sum(dim=0).shape, (m * m.T).sum(dim=1).shape #automatically squeezed"
      ],
      "execution_count": null,
      "outputs": [
        {
          "output_type": "execute_result",
          "data": {
            "text/plain": [
              "(torch.Size([3]), torch.Size([3]))"
            ]
          },
          "metadata": {
            "tags": []
          },
          "execution_count": 60
        }
      ]
    },
    {
      "cell_type": "code",
      "metadata": {
        "colab": {
          "base_uri": "https://localhost:8080/"
        },
        "id": "0TgH6qvIfmsk",
        "outputId": "f057c1b2-f7ac-4cb1-aa87-e7790c75e7b0"
      },
      "source": [
        "# both them are 1-dim?\n",
        "(m * m.T).sum(dim=0), (m * m.T).sum(dim=1)"
      ],
      "execution_count": 30,
      "outputs": [
        {
          "output_type": "execute_result",
          "data": {
            "text/plain": [
              "(tensor([ 30.,  81., 150.]), tensor([ 30.,  81., 150.]))"
            ]
          },
          "metadata": {
            "tags": []
          },
          "execution_count": 30
        }
      ]
    },
    {
      "cell_type": "code",
      "metadata": {
        "id": "yp-F95yUBUoa",
        "colab": {
          "base_uri": "https://localhost:8080/"
        },
        "outputId": "adfd3736-f3a4-469d-ba2b-974ee223b8d8"
      },
      "source": [
        "(m* m.T).sum(dim=1).sqrt() #equal to (m* m.T).sum(dim=0).sqrt()"
      ],
      "execution_count": null,
      "outputs": [
        {
          "output_type": "execute_result",
          "data": {
            "text/plain": [
              "(tensor([ 5.4772,  9.0000, 12.2474]), tensor([ 5.4772,  9.0000, 12.2474]))"
            ]
          },
          "metadata": {
            "tags": []
          },
          "execution_count": 61
        }
      ]
    },
    {
      "cell_type": "markdown",
      "metadata": {
        "id": "1wClNFjl3_vu"
      },
      "source": [
        "## Elementwise matmul\n",
        "- 3 loop -> 2 loop using elementwise operation\n",
        "- check time\n",
        "- compare with previous result\n",
        "    - TIP: torch.allclose (`rtol: 1e-3, atol=1e-5`)"
      ]
    },
    {
      "cell_type": "code",
      "metadata": {
        "id": "W7Arac0uCYAN",
        "colab": {
          "base_uri": "https://localhost:8080/"
        },
        "outputId": "de65e7ac-e4be-41cf-848e-bfaf6aa6b93b"
      },
      "source": [
        "m[0].shape, m[0,].shape, m[0, :].shape # last: trailing colon"
      ],
      "execution_count": null,
      "outputs": [
        {
          "output_type": "execute_result",
          "data": {
            "text/plain": [
              "(torch.Size([3]), torch.Size([3]), torch.Size([3]))"
            ]
          },
          "metadata": {
            "tags": []
          },
          "execution_count": 62
        }
      ]
    },
    {
      "cell_type": "code",
      "metadata": {
        "id": "AfkBrFzYByho"
      },
      "source": [
        "def matmul2(a,b):\n",
        "    ar, ac = a.shape\n",
        "    br, bc = b.shape\n",
        "    assert ac == br\n",
        "    c = torch.zeros(ar, bc)\n",
        "    for i in range(ar):\n",
        "        for j in range(bc):\n",
        "            c[i,j] = (a[i] * b[:,j]).sum()\n",
        "    return c"
      ],
      "execution_count": null,
      "outputs": []
    },
    {
      "cell_type": "markdown",
      "metadata": {
        "id": "CR8hfzlzyZ2Q"
      },
      "source": [
        "## quick review - implementation"
      ]
    },
    {
      "cell_type": "code",
      "metadata": {
        "id": "pE3j2GtTENhP",
        "colab": {
          "base_uri": "https://localhost:8080/"
        },
        "outputId": "0d64ac6b-adb7-496a-d241-ce048137d810"
      },
      "source": [
        "m1.shape, w.shape"
      ],
      "execution_count": null,
      "outputs": [
        {
          "output_type": "execute_result",
          "data": {
            "text/plain": [
              "(torch.Size([5, 784]), torch.Size([784, 10]))"
            ]
          },
          "metadata": {
            "tags": []
          },
          "execution_count": 63
        }
      ]
    },
    {
      "cell_type": "code",
      "metadata": {
        "id": "2h6Z-Z7EyffB"
      },
      "source": [
        "zero = torch.zeros(m1.shape[0], w.shape[1])\n",
        "for i in range(m1.shape[0]):\n",
        "    for j in range(w.shape[1]):\n",
        "        for k in range(m1.shape[1]):\n",
        "            # print(i, j, k)\n",
        "            zero[i, j] += m1[i, k] * w[k, j]"
      ],
      "execution_count": null,
      "outputs": []
    },
    {
      "cell_type": "code",
      "metadata": {
        "id": "lbwpeAO70Kms",
        "colab": {
          "base_uri": "https://localhost:8080/"
        },
        "outputId": "5ad8e10f-9e97-4a3f-8d1a-a4591b1f8953"
      },
      "source": [
        "torch.matmul(m1, w) == zero"
      ],
      "execution_count": null,
      "outputs": [
        {
          "output_type": "execute_result",
          "data": {
            "text/plain": [
              "tensor([[ True,  True,  True,  True,  True,  True,  True,  True,  True,  True],\n",
              "        [False, False,  True,  True,  True,  True,  True,  True,  True,  True],\n",
              "        [ True,  True,  True,  True,  True,  True,  True,  True,  True,  True],\n",
              "        [False, False,  True,  True,  True,  True,  True,  True,  True,  True],\n",
              "        [ True,  True,  True,  True,  True,  True,  True,  True,  True,  True]])"
            ]
          },
          "metadata": {
            "tags": []
          },
          "execution_count": 74
        }
      ]
    },
    {
      "cell_type": "code",
      "metadata": {
        "colab": {
          "base_uri": "https://localhost:8080/",
          "height": 215
        },
        "id": "zZ1tUE_yhA28",
        "outputId": "a5fb3733-e9ab-432a-ccd6-664fd4028405"
      },
      "source": [
        "# q) what if we multiply list & list?\n",
        "a, b = list(range(10)) , list(range(10, 20))\n",
        "print(a,b)\n",
        "print(a*b)"
      ],
      "execution_count": 39,
      "outputs": [
        {
          "output_type": "stream",
          "text": [
            "[0, 1, 2, 3, 4, 5, 6, 7, 8, 9] [10, 11, 12, 13, 14, 15, 16, 17, 18, 19]\n"
          ],
          "name": "stdout"
        },
        {
          "output_type": "error",
          "ename": "TypeError",
          "evalue": "ignored",
          "traceback": [
            "\u001b[0;31m---------------------------------------------------------------------------\u001b[0m",
            "\u001b[0;31mTypeError\u001b[0m                                 Traceback (most recent call last)",
            "\u001b[0;32m<ipython-input-39-d94b1825d864>\u001b[0m in \u001b[0;36m<module>\u001b[0;34m()\u001b[0m\n\u001b[1;32m      1\u001b[0m \u001b[0ma\u001b[0m\u001b[0;34m,\u001b[0m \u001b[0mb\u001b[0m \u001b[0;34m=\u001b[0m \u001b[0mlist\u001b[0m\u001b[0;34m(\u001b[0m\u001b[0mrange\u001b[0m\u001b[0;34m(\u001b[0m\u001b[0;36m10\u001b[0m\u001b[0;34m)\u001b[0m\u001b[0;34m)\u001b[0m \u001b[0;34m,\u001b[0m \u001b[0mlist\u001b[0m\u001b[0;34m(\u001b[0m\u001b[0mrange\u001b[0m\u001b[0;34m(\u001b[0m\u001b[0;36m10\u001b[0m\u001b[0;34m,\u001b[0m \u001b[0;36m20\u001b[0m\u001b[0;34m)\u001b[0m\u001b[0;34m)\u001b[0m\u001b[0;34m\u001b[0m\u001b[0;34m\u001b[0m\u001b[0m\n\u001b[1;32m      2\u001b[0m \u001b[0mprint\u001b[0m\u001b[0;34m(\u001b[0m\u001b[0ma\u001b[0m\u001b[0;34m,\u001b[0m\u001b[0mb\u001b[0m\u001b[0;34m)\u001b[0m\u001b[0;34m\u001b[0m\u001b[0;34m\u001b[0m\u001b[0m\n\u001b[0;32m----> 3\u001b[0;31m \u001b[0mprint\u001b[0m\u001b[0;34m(\u001b[0m\u001b[0ma\u001b[0m\u001b[0;34m*\u001b[0m\u001b[0mb\u001b[0m\u001b[0;34m)\u001b[0m\u001b[0;34m\u001b[0m\u001b[0;34m\u001b[0m\u001b[0m\n\u001b[0m",
            "\u001b[0;31mTypeError\u001b[0m: can't multiply sequence by non-int of type 'list'"
          ]
        }
      ]
    },
    {
      "cell_type": "code",
      "metadata": {
        "colab": {
          "base_uri": "https://localhost:8080/"
        },
        "id": "KrSeXquLhHKN",
        "outputId": "ef091510-dd05-4314-abd7-9a2488e3ae40"
      },
      "source": [
        "import numpy as np\n",
        "np.array(a) * np.array(b)"
      ],
      "execution_count": 38,
      "outputs": [
        {
          "output_type": "execute_result",
          "data": {
            "text/plain": [
              "array([  0,  11,  24,  39,  56,  75,  96, 119, 144, 171])"
            ]
          },
          "metadata": {
            "tags": []
          },
          "execution_count": 38
        }
      ]
    },
    {
      "cell_type": "markdown",
      "metadata": {
        "id": "27WrCG8yyaX1"
      },
      "source": [
        "## end"
      ]
    },
    {
      "cell_type": "code",
      "metadata": {
        "id": "44YQmFucDQ_r",
        "colab": {
          "base_uri": "https://localhost:8080/"
        },
        "outputId": "d6a57a73-f036-4cfd-8799-4452f1a30b6d"
      },
      "source": [
        "%timeit -n 10 matmul2(m1, w)"
      ],
      "execution_count": null,
      "outputs": [
        {
          "output_type": "stream",
          "text": [
            "10 loops, best of 3: 1.23 ms per loop\n"
          ],
          "name": "stdout"
        }
      ]
    },
    {
      "cell_type": "code",
      "metadata": {
        "id": "5Cmr8wcrCkLj"
      },
      "source": [
        "#export\n",
        "def test_all(a,b): torch.allclose(a, b, rtol=1e-3, atol=1e-5)\n",
        "def test_near(a,b): test_all(a,b)"
      ],
      "execution_count": null,
      "outputs": []
    },
    {
      "cell_type": "code",
      "metadata": {
        "id": "QoPlYREhEy-O"
      },
      "source": [
        "test_near(t1, matmul2(m1, w)) # classic vs elementwise"
      ],
      "execution_count": null,
      "outputs": []
    },
    {
      "cell_type": "markdown",
      "metadata": {
        "id": "GHgSxtUvC613"
      },
      "source": [
        "[^8]\n",
        "\n",
        "\n",
        "allclose(input, other, rtol=1e-05, atol=1e-08, equal_nan=False) -> bool\n",
        "\n",
        "This function checks if all :attr:`input` and :attr:`other` satisfy the condition:\n",
        "\n",
        ".. math::\n",
        "$$\n",
        "    \\lvert \\text{input} - \\text{other} \\rvert \\leq \\texttt{atol} + \\texttt{rtol} \\times \\lvert \\text{other} \\rvert\n",
        "$$\n",
        "\n",
        "elementwise, for all elements of :attr:`input` and :attr:`other`. The behaviour of this function is analogous to\n",
        "`numpy.allclose <https://docs.scipy.org/doc/numpy/reference/generated/numpy.allclose.html>`_\n",
        "\n",
        "Args:\n",
        "    input (Tensor): first tensor to compare\n",
        "    other (Tensor): second tensor to compare\n",
        "    atol (float, optional): absolute tolerance. Default: 1e-08\n",
        "    rtol (float, optional): relative tolerance. Default: 1e-05\n",
        "    equal_nan (bool, optional): if ``True``, then two ``NaN`` s will be compared as equal. Default: ``False``\n",
        "\n",
        "Example::\n",
        "\n",
        "    >>> torch.allclose(torch.tensor([10000., 1e-07]), torch.tensor([10000.1, 1e-08]))\n",
        "    False\n",
        "    >>> torch.allclose(torch.tensor([10000., 1e-08]), torch.tensor([10000.1, 1e-09]))\n",
        "    True\n",
        "    >>> torch.allclose(torch.tensor([1.0, float('nan')]), torch.tensor([1.0, float('nan')]))\n",
        "    False\n",
        "    >>> torch.allclose(torch.tensor([1.0, float('nan')]), torch.tensor([1.0, float('nan')]), equal_nan=True)\n",
        "    True"
      ]
    },
    {
      "cell_type": "markdown",
      "metadata": {
        "id": "ehI7cRKg5HNp"
      },
      "source": [
        "# Broadcasting\n"
      ]
    },
    {
      "cell_type": "markdown",
      "metadata": {
        "id": "rLznmIv-lSDe"
      },
      "source": [
        "\n",
        "## Broadcasting with a scalar"
      ]
    },
    {
      "cell_type": "markdown",
      "metadata": {
        "id": "2numC8bmXiGr"
      },
      "source": [
        "The term **broadcasting** describes how arrays with different shapes are treated during arithmetic operations.  The term broadcasting was first used by Numpy.\n",
        "\n",
        "From the [Numpy Documentation](https://docs.scipy.org/doc/numpy-1.10.0/user/basics.broadcasting.html):\n",
        "\n",
        "    The term broadcasting describes how numpy treats arrays with \n",
        "    different shapes during arithmetic operations. Subject to certain \n",
        "    constraints, the smaller array is “broadcast” across the larger \n",
        "    array so that they have compatible shapes. Broadcasting provides a \n",
        "    means of vectorizing array operations so that looping occurs in C\n",
        "    instead of Python. It does this without making needless copies of \n",
        "    data and usually leads to efficient algorithm implementations.\n",
        "    \n",
        "In addition to the efficiency of broadcasting, it allows developers to write less code, which typically leads to fewer errors.\n",
        "\n",
        "*This section was adapted from [Chapter 4](http://nbviewer.jupyter.org/github/fastai/numerical-linear-algebra/blob/master/nbs/4.%20Compressed%20Sensing%20of%20CT%20Scans%20with%20Robust%20Regression.ipynb#4.-Compressed-Sensing-of-CT-Scans-with-Robust-Regression) of the fast.ai [Computational Linear Algebra](https://github.com/fastai/numerical-linear-algebra) course.*"
      ]
    },
    {
      "cell_type": "markdown",
      "metadata": {
        "id": "NziHJOJwFSAe"
      },
      "source": [
        "\n",
        "\n",
        "    Broadcasting provides a \n",
        "    means of vectorizing array operations so that looping occurs in C\n",
        "    instead of Python. It does this without making needless copies of \n",
        "    data and usually leads to efficient algorithm implementations."
      ]
    },
    {
      "cell_type": "markdown",
      "metadata": {
        "id": "U7xNrsZK5wUN"
      },
      "source": [
        "- a(vector) 확인하고, 스칼라와 대소비교 및 덧뺄셈\n",
        "- m(matrix) check, operation with scalar"
      ]
    },
    {
      "cell_type": "code",
      "metadata": {
        "id": "XIIZpJOUFW8i",
        "colab": {
          "base_uri": "https://localhost:8080/"
        },
        "outputId": "2c74884a-84b9-40f3-8311-2c9998cf508b"
      },
      "source": [
        "a"
      ],
      "execution_count": null,
      "outputs": [
        {
          "output_type": "execute_result",
          "data": {
            "text/plain": [
              "tensor([10.,  6., -4.])"
            ]
          },
          "metadata": {
            "tags": []
          },
          "execution_count": 77
        }
      ]
    },
    {
      "cell_type": "code",
      "metadata": {
        "id": "Y2DfL1yjFYdQ",
        "colab": {
          "base_uri": "https://localhost:8080/"
        },
        "outputId": "0cef9503-06b3-4fc5-b671-183bdf855194"
      },
      "source": [
        "a+3"
      ],
      "execution_count": null,
      "outputs": [
        {
          "output_type": "execute_result",
          "data": {
            "text/plain": [
              "tensor([13.,  9., -1.])"
            ]
          },
          "metadata": {
            "tags": []
          },
          "execution_count": 78
        }
      ]
    },
    {
      "cell_type": "code",
      "metadata": {
        "id": "_Et2uWE1FZUm",
        "colab": {
          "base_uri": "https://localhost:8080/"
        },
        "outputId": "095c52b0-2bd8-42ef-f25a-12ce1add6e82"
      },
      "source": [
        "m"
      ],
      "execution_count": null,
      "outputs": [
        {
          "output_type": "execute_result",
          "data": {
            "text/plain": [
              "tensor([[1., 2., 3.],\n",
              "        [4., 5., 6.],\n",
              "        [7., 8., 9.]])"
            ]
          },
          "metadata": {
            "tags": []
          },
          "execution_count": 79
        }
      ]
    },
    {
      "cell_type": "code",
      "metadata": {
        "id": "xcGvybFCFZtR",
        "colab": {
          "base_uri": "https://localhost:8080/"
        },
        "outputId": "7332cb8c-006b-4089-b21c-e1cece47b29f"
      },
      "source": [
        "m<4"
      ],
      "execution_count": null,
      "outputs": [
        {
          "output_type": "execute_result",
          "data": {
            "text/plain": [
              "tensor([[ True,  True,  True],\n",
              "        [False, False, False],\n",
              "        [False, False, False]])"
            ]
          },
          "metadata": {
            "tags": []
          },
          "execution_count": 80
        }
      ]
    },
    {
      "cell_type": "code",
      "metadata": {
        "id": "xtXaMEa-FbTh",
        "colab": {
          "base_uri": "https://localhost:8080/"
        },
        "outputId": "52f10cc7-6973-4fda-f633-27c821e46db0"
      },
      "source": [
        "(m<4).sum()"
      ],
      "execution_count": null,
      "outputs": [
        {
          "output_type": "execute_result",
          "data": {
            "text/plain": [
              "tensor(3)"
            ]
          },
          "metadata": {
            "tags": []
          },
          "execution_count": 81
        }
      ]
    },
    {
      "cell_type": "code",
      "metadata": {
        "id": "e5y3BsyZFpHu",
        "colab": {
          "base_uri": "https://localhost:8080/"
        },
        "outputId": "d6e51fc2-f760-4d76-ce8e-79b64ac5ab2a"
      },
      "source": [
        "m.mean()"
      ],
      "execution_count": null,
      "outputs": [
        {
          "output_type": "execute_result",
          "data": {
            "text/plain": [
              "tensor(5.)"
            ]
          },
          "metadata": {
            "tags": []
          },
          "execution_count": 82
        }
      ]
    },
    {
      "cell_type": "code",
      "metadata": {
        "id": "fyTQ2bOdF1yx",
        "colab": {
          "base_uri": "https://localhost:8080/"
        },
        "outputId": "86582a41-9baf-4613-aa23-ba2b33af8293"
      },
      "source": [
        "m.mean().shape"
      ],
      "execution_count": null,
      "outputs": [
        {
          "output_type": "execute_result",
          "data": {
            "text/plain": [
              "torch.Size([])"
            ]
          },
          "metadata": {
            "tags": []
          },
          "execution_count": 83
        }
      ]
    },
    {
      "cell_type": "code",
      "metadata": {
        "id": "gCmdXoogF5Q9",
        "colab": {
          "base_uri": "https://localhost:8080/"
        },
        "outputId": "0157e3ad-62f1-4f3f-f05c-d12a9b32810f"
      },
      "source": [
        "torch.tensor(1).shape"
      ],
      "execution_count": null,
      "outputs": [
        {
          "output_type": "execute_result",
          "data": {
            "text/plain": [
              "torch.Size([])"
            ]
          },
          "metadata": {
            "tags": []
          },
          "execution_count": 84
        }
      ]
    },
    {
      "cell_type": "markdown",
      "metadata": {
        "id": "ItTayxbF5uit"
      },
      "source": [
        "## Broadcasting a vector to a matrix\n"
      ]
    },
    {
      "cell_type": "markdown",
      "metadata": {
        "id": "sNn7JV4X6EW3"
      },
      "source": [
        "- m / c sizes\n",
        "- m / c broadcasting\n",
        "- transitivity check "
      ]
    },
    {
      "cell_type": "code",
      "metadata": {
        "id": "9_AYX8hA6JD_",
        "colab": {
          "base_uri": "https://localhost:8080/"
        },
        "outputId": "f998c38d-170c-4613-d491-0861d54bb353"
      },
      "source": [
        "c = tensor([10.,20,30]); c"
      ],
      "execution_count": 41,
      "outputs": [
        {
          "output_type": "execute_result",
          "data": {
            "text/plain": [
              "tensor([10., 20., 30.])"
            ]
          },
          "metadata": {
            "tags": []
          },
          "execution_count": 41
        }
      ]
    },
    {
      "cell_type": "code",
      "metadata": {
        "id": "OHCd0ntjGMLE",
        "colab": {
          "base_uri": "https://localhost:8080/",
          "height": 69
        },
        "outputId": "18bb15af-a166-4787-f139-9b1da1ac98a7"
      },
      "source": [
        "m, c"
      ],
      "execution_count": null,
      "outputs": [
        {
          "output_type": "execute_result",
          "data": {
            "text/plain": [
              "(tensor([[1., 2., 3.],\n",
              "         [4., 5., 6.],\n",
              "         [7., 8., 9.]]), tensor([10., 20., 30.]))"
            ]
          },
          "metadata": {
            "tags": []
          },
          "execution_count": 109
        }
      ]
    },
    {
      "cell_type": "code",
      "metadata": {
        "id": "qo8bCTP1GF71",
        "colab": {
          "base_uri": "https://localhost:8080/",
          "height": 35
        },
        "outputId": "e95edfce-23d1-477f-e7f9-39eee4dac21b"
      },
      "source": [
        "m.shape, c.shape"
      ],
      "execution_count": null,
      "outputs": [
        {
          "output_type": "execute_result",
          "data": {
            "text/plain": [
              "(torch.Size([3, 3]), torch.Size([3]))"
            ]
          },
          "metadata": {
            "tags": []
          },
          "execution_count": 108
        }
      ]
    },
    {
      "cell_type": "code",
      "metadata": {
        "id": "7lUP_fgjGn7g",
        "colab": {
          "base_uri": "https://localhost:8080/",
          "height": 69
        },
        "outputId": "633a49b1-48b5-4974-c0eb-7c51f9bb09f7"
      },
      "source": [
        "m+c"
      ],
      "execution_count": null,
      "outputs": [
        {
          "output_type": "execute_result",
          "data": {
            "text/plain": [
              "tensor([[11., 22., 33.],\n",
              "        [14., 25., 36.],\n",
              "        [17., 28., 39.]])"
            ]
          },
          "metadata": {
            "tags": []
          },
          "execution_count": 110
        }
      ]
    },
    {
      "cell_type": "code",
      "metadata": {
        "id": "3ThkNvqRGoxp",
        "colab": {
          "base_uri": "https://localhost:8080/",
          "height": 69
        },
        "outputId": "1ab0af2c-a07b-404d-cca3-d5b12c16e24a"
      },
      "source": [
        "c+m"
      ],
      "execution_count": null,
      "outputs": [
        {
          "output_type": "execute_result",
          "data": {
            "text/plain": [
              "tensor([[11., 22., 33.],\n",
              "        [14., 25., 36.],\n",
              "        [17., 28., 39.]])"
            ]
          },
          "metadata": {
            "tags": []
          },
          "execution_count": 111
        }
      ]
    },
    {
      "cell_type": "markdown",
      "metadata": {
        "id": "WbGO5gMuj1EN"
      },
      "source": [
        "- Jeremy used this fn to check actual memory"
      ]
    },
    {
      "cell_type": "code",
      "metadata": {
        "id": "u5F2HG3gGtS-",
        "colab": {
          "base_uri": "https://localhost:8080/",
          "height": 35
        },
        "outputId": "ee2bde87-0c85-4917-ff76-0caf30110a9f"
      },
      "source": [
        "c.stride()"
      ],
      "execution_count": null,
      "outputs": [
        {
          "output_type": "execute_result",
          "data": {
            "text/plain": [
              "(1,)"
            ]
          },
          "metadata": {
            "tags": []
          },
          "execution_count": 112
        }
      ]
    },
    {
      "cell_type": "code",
      "metadata": {
        "id": "g2vNfvBbG0I3",
        "colab": {
          "base_uri": "https://localhost:8080/",
          "height": 449
        },
        "outputId": "09b2b038-6e61-4884-c592-1c6924f1c7f4"
      },
      "source": [
        "help(c.stride)"
      ],
      "execution_count": null,
      "outputs": [
        {
          "output_type": "stream",
          "text": [
            "Help on built-in function stride:\n",
            "\n",
            "stride(...) method of torch.Tensor instance\n",
            "    stride(dim) -> tuple or int\n",
            "    \n",
            "    Returns the stride of :attr:`self` tensor.\n",
            "    \n",
            "    Stride is the jump necessary to go from one element to the next one in the\n",
            "    specified dimension :attr:`dim`. A tuple of all strides is returned when no\n",
            "    argument is passed in. Otherwise, an integer value is returned as the stride in\n",
            "    the particular dimension :attr:`dim`.\n",
            "    \n",
            "    Args:\n",
            "        dim (int, optional): the desired dimension in which stride is required\n",
            "    \n",
            "    Example::\n",
            "    \n",
            "        >>> x = torch.tensor([[1, 2, 3, 4, 5], [6, 7, 8, 9, 10]])\n",
            "        >>> x.stride()\n",
            "        (5, 1)\n",
            "        >>>x.stride(0)\n",
            "        5\n",
            "        >>> x.stride(-1)\n",
            "        1\n",
            "\n"
          ],
          "name": "stdout"
        }
      ]
    },
    {
      "cell_type": "code",
      "metadata": {
        "id": "Jcm5vVUFPwp6",
        "colab": {
          "base_uri": "https://localhost:8080/"
        },
        "outputId": "75819317-fee9-4495-8804-4a3f9e05ef8d"
      },
      "source": [
        "m = tensor([[1., 2, 3], [4,5,6], [7,8,9]]); m"
      ],
      "execution_count": null,
      "outputs": [
        {
          "output_type": "execute_result",
          "data": {
            "text/plain": [
              "tensor([[1., 2., 3.],\n",
              "        [4., 5., 6.],\n",
              "        [7., 8., 9.]])"
            ]
          },
          "metadata": {
            "tags": []
          },
          "execution_count": 87
        }
      ]
    },
    {
      "cell_type": "code",
      "metadata": {
        "id": "c7iVeYjDHC87",
        "colab": {
          "base_uri": "https://localhost:8080/",
          "height": 35
        },
        "outputId": "062a8a55-f1d0-4561-dd9d-1f66e41350ea"
      },
      "source": [
        "m.stride()"
      ],
      "execution_count": null,
      "outputs": [
        {
          "output_type": "execute_result",
          "data": {
            "text/plain": [
              "(3, 1)"
            ]
          },
          "metadata": {
            "tags": []
          },
          "execution_count": 19
        }
      ]
    },
    {
      "cell_type": "markdown",
      "metadata": {
        "id": "S60HLJDi67iR"
      },
      "source": [
        "- expand_as()\n",
        "    - how does value change\n",
        "    - amount of memory\n",
        "    - stride\n",
        "    - shape\n",
        "    - unsqueeze, shaping etc.\n"
      ]
    },
    {
      "cell_type": "code",
      "metadata": {
        "id": "eg2r3s9iHj7z",
        "colab": {
          "base_uri": "https://localhost:8080/"
        },
        "outputId": "c5cb7446-49f5-482c-9f44-53a54a78d0ba"
      },
      "source": [
        "mc = c.expand_as(m); mc"
      ],
      "execution_count": 42,
      "outputs": [
        {
          "output_type": "execute_result",
          "data": {
            "text/plain": [
              "tensor([[10., 20., 30.],\n",
              "        [10., 20., 30.],\n",
              "        [10., 20., 30.]])"
            ]
          },
          "metadata": {
            "tags": []
          },
          "execution_count": 42
        }
      ]
    },
    {
      "cell_type": "code",
      "metadata": {
        "id": "bdpFuQ25HmSH",
        "colab": {
          "base_uri": "https://localhost:8080/"
        },
        "outputId": "82e022e9-a42f-4b0a-f3f9-3ebec7461c34"
      },
      "source": [
        "mc.storage()"
      ],
      "execution_count": 43,
      "outputs": [
        {
          "output_type": "execute_result",
          "data": {
            "text/plain": [
              " 10.0\n",
              " 20.0\n",
              " 30.0\n",
              "[torch.FloatStorage of size 3]"
            ]
          },
          "metadata": {
            "tags": []
          },
          "execution_count": 43
        }
      ]
    },
    {
      "cell_type": "code",
      "metadata": {
        "colab": {
          "base_uri": "https://localhost:8080/"
        },
        "id": "Uzba3Wg-j_b7",
        "outputId": "fcdd5881-f550-41b0-e3c7-9c4c03a92eff"
      },
      "source": [
        "mc.shape"
      ],
      "execution_count": 44,
      "outputs": [
        {
          "output_type": "execute_result",
          "data": {
            "text/plain": [
              "torch.Size([3, 3])"
            ]
          },
          "metadata": {
            "tags": []
          },
          "execution_count": 44
        }
      ]
    },
    {
      "cell_type": "code",
      "metadata": {
        "id": "hlHN_VqLHswb",
        "colab": {
          "base_uri": "https://localhost:8080/"
        },
        "outputId": "bf3cae65-8a04-4dce-bd38-1d6c5f6a46a0"
      },
      "source": [
        "mc.stride(), c.stride(), m.stride()"
      ],
      "execution_count": 46,
      "outputs": [
        {
          "output_type": "execute_result",
          "data": {
            "text/plain": [
              "((0, 1), (1,), (3, 1))"
            ]
          },
          "metadata": {
            "tags": []
          },
          "execution_count": 46
        }
      ]
    },
    {
      "cell_type": "code",
      "metadata": {
        "id": "mLsVEKSoHxjC",
        "colab": {
          "base_uri": "https://localhost:8080/",
          "height": 69
        },
        "outputId": "6013ccf6-23d5-403e-c951-712bfc5fd0d5"
      },
      "source": [
        "m + mc"
      ],
      "execution_count": null,
      "outputs": [
        {
          "output_type": "execute_result",
          "data": {
            "text/plain": [
              "tensor([[11., 22., 33.],\n",
              "        [14., 25., 36.],\n",
              "        [17., 28., 39.]])"
            ]
          },
          "metadata": {
            "tags": []
          },
          "execution_count": 121
        }
      ]
    },
    {
      "cell_type": "code",
      "metadata": {
        "id": "q9rgALrlLRQB",
        "colab": {
          "base_uri": "https://localhost:8080/"
        },
        "outputId": "3cd12365-29e5-4836-b418-d35ee045cad8"
      },
      "source": [
        "# shape\n",
        "mc.shape"
      ],
      "execution_count": null,
      "outputs": [
        {
          "output_type": "execute_result",
          "data": {
            "text/plain": [
              "torch.Size([3, 3])"
            ]
          },
          "metadata": {
            "tags": []
          },
          "execution_count": 91
        }
      ]
    },
    {
      "cell_type": "code",
      "metadata": {
        "id": "gkMvPyPlLSll",
        "colab": {
          "base_uri": "https://localhost:8080/"
        },
        "outputId": "993c79bb-e505-4e09-88ab-8c0392fd2174"
      },
      "source": [
        "# unsqeeze\n",
        "print(mc.unsqueeze(0).stride(), mc.unsqueeze(-1).stride(), mc.unsqueeze(0).shape, sep = '\\n')"
      ],
      "execution_count": 49,
      "outputs": [
        {
          "output_type": "stream",
          "text": [
            "(0, 0, 1)\n",
            "(0, 1, 1)\n",
            "torch.Size([1, 3, 3])\n"
          ],
          "name": "stdout"
        }
      ]
    },
    {
      "cell_type": "code",
      "metadata": {
        "id": "oVKzM_AzLZ4_",
        "colab": {
          "base_uri": "https://localhost:8080/",
          "height": 207
        },
        "outputId": "d1b5d2b0-a299-48ba-a300-6a350778984f"
      },
      "source": [
        "mc.unsqueeze(-1)"
      ],
      "execution_count": null,
      "outputs": [
        {
          "output_type": "execute_result",
          "data": {
            "text/plain": [
              "tensor([[[10.],\n",
              "         [20.],\n",
              "         [30.]],\n",
              "\n",
              "        [[10.],\n",
              "         [20.],\n",
              "         [30.]],\n",
              "\n",
              "        [[10.],\n",
              "         [20.],\n",
              "         [30.]]])"
            ]
          },
          "metadata": {
            "tags": []
          },
          "execution_count": 124
        }
      ]
    },
    {
      "cell_type": "markdown",
      "metadata": {
        "id": "Qzfa9xo4LBwx"
      },
      "source": [
        "- reshaping c to row vector, column vector\n",
        "    - use squeeze\n",
        "    - use None\n",
        "- what if calculate c&m when `c`  `expand_as` and reshaped with `None`"
      ]
    },
    {
      "cell_type": "code",
      "metadata": {
        "id": "Gn_7n1PFLuIB",
        "colab": {
          "base_uri": "https://localhost:8080/",
          "height": 35
        },
        "outputId": "33fae4a8-a966-451b-8cc1-9b88cf3a72bc"
      },
      "source": [
        "c, c.shape"
      ],
      "execution_count": null,
      "outputs": [
        {
          "output_type": "execute_result",
          "data": {
            "text/plain": [
              "(tensor([10., 20., 30.]), torch.Size([3]))"
            ]
          },
          "metadata": {
            "tags": []
          },
          "execution_count": 126
        }
      ]
    },
    {
      "cell_type": "code",
      "metadata": {
        "id": "J_4BAP8XLy8f",
        "colab": {
          "base_uri": "https://localhost:8080/",
          "height": 35
        },
        "outputId": "f4439346-6915-4cdf-a8d1-4e98b14c0a55"
      },
      "source": [
        "c.unsqueeze(0) # (1,3)"
      ],
      "execution_count": null,
      "outputs": [
        {
          "output_type": "execute_result",
          "data": {
            "text/plain": [
              "tensor([[10., 20., 30.]])"
            ]
          },
          "metadata": {
            "tags": []
          },
          "execution_count": 127
        }
      ]
    },
    {
      "cell_type": "code",
      "metadata": {
        "id": "9DZD8qHoL47z",
        "colab": {
          "base_uri": "https://localhost:8080/",
          "height": 69
        },
        "outputId": "428e1c69-f15f-4278-a72d-2d346d771b64"
      },
      "source": [
        "c.unsqueeze(-1) # (3, 1)"
      ],
      "execution_count": null,
      "outputs": [
        {
          "output_type": "execute_result",
          "data": {
            "text/plain": [
              "tensor([[10.],\n",
              "        [20.],\n",
              "        [30.]])"
            ]
          },
          "metadata": {
            "tags": []
          },
          "execution_count": 128
        }
      ]
    },
    {
      "cell_type": "code",
      "metadata": {
        "id": "5Le53RkLL8_j",
        "colab": {
          "base_uri": "https://localhost:8080/",
          "height": 35
        },
        "outputId": "6b410909-05a5-48c8-f574-a446f945864d"
      },
      "source": [
        "c[None,], c[None,].shape"
      ],
      "execution_count": null,
      "outputs": [
        {
          "output_type": "execute_result",
          "data": {
            "text/plain": [
              "(tensor([[10., 20., 30.]]), torch.Size([1, 3]))"
            ]
          },
          "metadata": {
            "tags": []
          },
          "execution_count": 129
        }
      ]
    },
    {
      "cell_type": "code",
      "metadata": {
        "id": "aJ4rm-tlMF-u",
        "colab": {
          "base_uri": "https://localhost:8080/",
          "height": 35
        },
        "outputId": "d2cad01a-207b-4148-8917-7b13c50939f1"
      },
      "source": [
        "c[None]"
      ],
      "execution_count": null,
      "outputs": [
        {
          "output_type": "execute_result",
          "data": {
            "text/plain": [
              "tensor([[10., 20., 30.]])"
            ]
          },
          "metadata": {
            "tags": []
          },
          "execution_count": 130
        }
      ]
    },
    {
      "cell_type": "code",
      "metadata": {
        "id": "vUS3JoQgMLG-",
        "colab": {
          "base_uri": "https://localhost:8080/"
        },
        "outputId": "4d548c36-eb4a-4733-ee7a-b45e6ebf84b6"
      },
      "source": [
        "c[None:] == c[0:]"
      ],
      "execution_count": null,
      "outputs": [
        {
          "output_type": "execute_result",
          "data": {
            "text/plain": [
              "tensor([True, True, True])"
            ]
          },
          "metadata": {
            "tags": []
          },
          "execution_count": 93
        }
      ]
    },
    {
      "cell_type": "code",
      "metadata": {
        "id": "vimCR8vZMX89",
        "colab": {
          "base_uri": "https://localhost:8080/",
          "height": 35
        },
        "outputId": "dd131fe4-c5cb-4012-aab7-1032343cad50"
      },
      "source": [
        "c[None, ...]"
      ],
      "execution_count": null,
      "outputs": [
        {
          "output_type": "execute_result",
          "data": {
            "text/plain": [
              "tensor([[10., 20., 30.]])"
            ]
          },
          "metadata": {
            "tags": []
          },
          "execution_count": 135
        }
      ]
    },
    {
      "cell_type": "code",
      "metadata": {
        "id": "KnnDNlSGSkoj",
        "colab": {
          "base_uri": "https://localhost:8080/",
          "height": 35
        },
        "outputId": "5e132397-d5c9-429f-a08b-2e7b7bd8535d"
      },
      "source": [
        "c[None, -1]"
      ],
      "execution_count": null,
      "outputs": [
        {
          "output_type": "execute_result",
          "data": {
            "text/plain": [
              "tensor([30.])"
            ]
          },
          "metadata": {
            "tags": []
          },
          "execution_count": 28
        }
      ]
    },
    {
      "cell_type": "code",
      "metadata": {
        "id": "gvjmJr24MNiD",
        "colab": {
          "base_uri": "https://localhost:8080/",
          "height": 69
        },
        "outputId": "b99c47a2-8453-4704-dd2e-1c8f0dd9189c"
      },
      "source": [
        "c[:, None]"
      ],
      "execution_count": null,
      "outputs": [
        {
          "output_type": "execute_result",
          "data": {
            "text/plain": [
              "tensor([[10.],\n",
              "        [20.],\n",
              "        [30.]])"
            ]
          },
          "metadata": {
            "tags": []
          },
          "execution_count": 133
        }
      ]
    },
    {
      "cell_type": "code",
      "metadata": {
        "id": "QyITK7PeMQCc",
        "colab": {
          "base_uri": "https://localhost:8080/",
          "height": 69
        },
        "outputId": "45d99e49-b97f-4e0f-ff9a-f0e603fc2ca9"
      },
      "source": [
        "c[..., None]"
      ],
      "execution_count": null,
      "outputs": [
        {
          "output_type": "execute_result",
          "data": {
            "text/plain": [
              "tensor([[10.],\n",
              "        [20.],\n",
              "        [30.]])"
            ]
          },
          "metadata": {
            "tags": []
          },
          "execution_count": 134
        }
      ]
    },
    {
      "cell_type": "markdown",
      "metadata": {
        "id": "Hv92dBlQXiHj"
      },
      "source": [
        "You can always skip trailling ':'s. And '...' means '*all preceding dimensions*'"
      ]
    },
    {
      "cell_type": "markdown",
      "metadata": {
        "id": "A1_D5CrP6DYY"
      },
      "source": [
        "## Matmul with broadcasting\n",
        "\n",
        "- do the matrix multiplication using broadcasting \n",
        "- compare time /  value"
      ]
    },
    {
      "cell_type": "code",
      "metadata": {
        "id": "plovrHRh8QW1"
      },
      "source": [
        "def matmul(a,b):\n",
        "    ar, ac = a.shape\n",
        "    br, bc = b.shape\n",
        "    assert ac == br\n",
        "    c = torch.zeros(ar, bc)\n",
        "    for i in range(ar):\n",
        "        c[i,] = (a[i][:, None] * b).sum(dim=0)\n",
        "    return c"
      ],
      "execution_count": null,
      "outputs": []
    },
    {
      "cell_type": "code",
      "metadata": {
        "colab": {
          "base_uri": "https://localhost:8080/"
        },
        "id": "5Itc2rILlc-u",
        "outputId": "8c84ad56-bdfc-49ae-b1c8-74a548b52682"
      },
      "source": [
        "m1.shape, w.shape"
      ],
      "execution_count": 52,
      "outputs": [
        {
          "output_type": "execute_result",
          "data": {
            "text/plain": [
              "(torch.Size([5, 784]), torch.Size([784, 10]))"
            ]
          },
          "metadata": {
            "tags": []
          },
          "execution_count": 52
        }
      ]
    },
    {
      "cell_type": "code",
      "metadata": {
        "id": "MIMqUb76N-na",
        "colab": {
          "base_uri": "https://localhost:8080/",
          "height": 35
        },
        "outputId": "444f02f3-fc6c-4349-90c2-32324526e66d"
      },
      "source": [
        "%timeit -n 10 matmul(m1, w)"
      ],
      "execution_count": null,
      "outputs": [
        {
          "output_type": "stream",
          "text": [
            "10 loops, best of 3: 386 µs per loop\n"
          ],
          "name": "stdout"
        }
      ]
    },
    {
      "cell_type": "code",
      "metadata": {
        "id": "-ajpjYglTOdj"
      },
      "source": [
        "test_near(matmul(m1, w), t1)"
      ],
      "execution_count": null,
      "outputs": []
    },
    {
      "cell_type": "markdown",
      "metadata": {
        "id": "LgmvfSG4TLxS"
      },
      "source": [
        "---"
      ]
    },
    {
      "cell_type": "markdown",
      "metadata": {
        "id": "JoRVOYb7R7pX"
      },
      "source": [
        "[^13]\n",
        "\n",
        "여기서 좀 헤맸는데, (이하참고)<br/>\n",
        "`@` 기호를 사용하면 안되는건가? [reference](https://github.com/python/cpython/commit/c8555769ea6ca6ce7718172d8e9830593ac2ae94)\n",
        "\n",
        "inplace matrix multiplication(*) vs matrix multiplication(@)\n",
        "\n",
        "1. None을 써서 expand해서 sum한거랑\n",
        "2. None 안쓰고 걍 matmul한거랑 같음 ㅋㅋㅋㅋㅋㅋㅋ"
      ]
    },
    {
      "cell_type": "code",
      "metadata": {
        "id": "NpRIV9P1RZaY",
        "colab": {
          "base_uri": "https://localhost:8080/"
        },
        "outputId": "c128d840-5822-48f4-9634-eccbf10f94f6"
      },
      "source": [
        "(m1[0][:, None] *w).sum(dim=0)"
      ],
      "execution_count": 54,
      "outputs": [
        {
          "output_type": "execute_result",
          "data": {
            "text/plain": [
              "tensor([ -4.4675,   4.8971,  -0.6982,  -4.5368, -10.2655,  -9.0662,   4.7055,\n",
              "         -8.2181, -10.8724,   7.6668])"
            ]
          },
          "metadata": {
            "tags": []
          },
          "execution_count": 54
        }
      ]
    },
    {
      "cell_type": "code",
      "metadata": {
        "colab": {
          "base_uri": "https://localhost:8080/"
        },
        "id": "CrilNgL8mHY8",
        "outputId": "a7d3d2d7-9e7d-4c64-8c55-1dff9a033768"
      },
      "source": [
        "(m1[0][:, None]).shape, w.shape"
      ],
      "execution_count": 59,
      "outputs": [
        {
          "output_type": "execute_result",
          "data": {
            "text/plain": [
              "(torch.Size([784, 1]), torch.Size([784, 10]))"
            ]
          },
          "metadata": {
            "tags": []
          },
          "execution_count": 59
        }
      ]
    },
    {
      "cell_type": "code",
      "metadata": {
        "colab": {
          "base_uri": "https://localhost:8080/"
        },
        "id": "iVAvuJKxmA-t",
        "outputId": "54a66973-a849-4953-927e-25568a7ce9d3"
      },
      "source": [
        "(m1[0][:, None] *w)"
      ],
      "execution_count": 53,
      "outputs": [
        {
          "output_type": "execute_result",
          "data": {
            "text/plain": [
              "tensor([[-0., -0., 0.,  ..., 0., -0., -0.],\n",
              "        [-0., 0., -0.,  ..., -0., 0., 0.],\n",
              "        [-0., -0., 0.,  ..., -0., 0., -0.],\n",
              "        ...,\n",
              "        [0., 0., 0.,  ..., -0., -0., -0.],\n",
              "        [0., 0., -0.,  ..., 0., -0., -0.],\n",
              "        [-0., -0., 0.,  ..., -0., -0., -0.]])"
            ]
          },
          "metadata": {
            "tags": []
          },
          "execution_count": 53
        }
      ]
    },
    {
      "cell_type": "code",
      "metadata": {
        "id": "8sCAvhJtSL08",
        "colab": {
          "base_uri": "https://localhost:8080/",
          "height": 52
        },
        "outputId": "313dfac0-94ba-4697-e75f-9de136185808"
      },
      "source": [
        "m1[0]@w"
      ],
      "execution_count": null,
      "outputs": [
        {
          "output_type": "execute_result",
          "data": {
            "text/plain": [
              "tensor([ -3.7722, -15.7509,  -0.0308,  -8.1866,   3.8230,   5.2652,   0.5891,\n",
              "         -8.2998,  17.3111,  -5.5104])"
            ]
          },
          "metadata": {
            "tags": []
          },
          "execution_count": 175
        }
      ]
    },
    {
      "cell_type": "code",
      "metadata": {
        "id": "U4MDpxhvRzFV",
        "colab": {
          "base_uri": "https://localhost:8080/",
          "height": 164
        },
        "outputId": "0173827a-e0ca-4a6a-dc34-ac7a6920c3f5"
      },
      "source": [
        "(m1[0][:, None] @ w)"
      ],
      "execution_count": 61,
      "outputs": [
        {
          "output_type": "error",
          "ename": "RuntimeError",
          "evalue": "ignored",
          "traceback": [
            "\u001b[0;31m---------------------------------------------------------------------------\u001b[0m",
            "\u001b[0;31mRuntimeError\u001b[0m                              Traceback (most recent call last)",
            "\u001b[0;32m<ipython-input-61-7e291de86f0e>\u001b[0m in \u001b[0;36m<module>\u001b[0;34m()\u001b[0m\n\u001b[0;32m----> 1\u001b[0;31m \u001b[0;34m(\u001b[0m\u001b[0mm1\u001b[0m\u001b[0;34m[\u001b[0m\u001b[0;36m0\u001b[0m\u001b[0;34m]\u001b[0m\u001b[0;34m[\u001b[0m\u001b[0;34m:\u001b[0m\u001b[0;34m,\u001b[0m \u001b[0;32mNone\u001b[0m\u001b[0;34m]\u001b[0m \u001b[0;34m@\u001b[0m \u001b[0mw\u001b[0m\u001b[0;34m)\u001b[0m\u001b[0;34m\u001b[0m\u001b[0;34m\u001b[0m\u001b[0m\n\u001b[0m",
            "\u001b[0;31mRuntimeError\u001b[0m: mat1 and mat2 shapes cannot be multiplied (784x1 and 784x10)"
          ]
        }
      ]
    },
    {
      "cell_type": "code",
      "metadata": {
        "id": "w0-QlvrPRBaE",
        "colab": {
          "base_uri": "https://localhost:8080/",
          "height": 52
        },
        "outputId": "5acbdccd-0c2d-4b7b-cf09-234cb2c4c84c"
      },
      "source": [
        "(m1[0][None] @ w).sum(dim=0)"
      ],
      "execution_count": null,
      "outputs": [
        {
          "output_type": "execute_result",
          "data": {
            "text/plain": [
              "tensor([ -3.7722, -15.7509,  -0.0308,  -8.1866,   3.8230,   5.2652,   0.5891,\n",
              "         -8.2998,  17.3111,  -5.5104])"
            ]
          },
          "metadata": {
            "tags": []
          },
          "execution_count": 168
        }
      ]
    },
    {
      "cell_type": "code",
      "metadata": {
        "id": "wsybR5CGO42q",
        "colab": {
          "base_uri": "https://localhost:8080/",
          "height": 69
        },
        "outputId": "a163603c-9e4c-4c0d-968a-7eb969b7a7ba"
      },
      "source": [
        "a, m"
      ],
      "execution_count": null,
      "outputs": [
        {
          "output_type": "execute_result",
          "data": {
            "text/plain": [
              "(tensor([10.,  6., -4.]), tensor([[1., 2., 3.],\n",
              "         [4., 5., 6.],\n",
              "         [7., 8., 9.]]))"
            ]
          },
          "metadata": {
            "tags": []
          },
          "execution_count": 146
        }
      ]
    },
    {
      "cell_type": "code",
      "metadata": {
        "id": "YWmO1IhhPEsq",
        "colab": {
          "base_uri": "https://localhost:8080/",
          "height": 69
        },
        "outputId": "2f2afe14-bb6f-4bb4-90d7-6b57e9c11b06"
      },
      "source": [
        "a*m"
      ],
      "execution_count": null,
      "outputs": [
        {
          "output_type": "execute_result",
          "data": {
            "text/plain": [
              "tensor([[ 10.,  12., -12.],\n",
              "        [ 40.,  30., -24.],\n",
              "        [ 70.,  48., -36.]])"
            ]
          },
          "metadata": {
            "tags": []
          },
          "execution_count": 150
        }
      ]
    },
    {
      "cell_type": "code",
      "metadata": {
        "id": "kJjzY_S4OwPm",
        "colab": {
          "base_uri": "https://localhost:8080/",
          "height": 35
        },
        "outputId": "1daec1cd-d2f8-4cbb-8db9-9b92fe7abb50"
      },
      "source": [
        "(a * m).sum(dim=1)"
      ],
      "execution_count": null,
      "outputs": [
        {
          "output_type": "execute_result",
          "data": {
            "text/plain": [
              "tensor([10., 46., 82.])"
            ]
          },
          "metadata": {
            "tags": []
          },
          "execution_count": 149
        }
      ]
    },
    {
      "cell_type": "code",
      "metadata": {
        "colab": {
          "base_uri": "https://localhost:8080/"
        },
        "id": "yyq0vPawp7T8",
        "outputId": "82eaa8e5-71ab-41a9-c44a-a6da1ea50c49"
      },
      "source": [
        "(m1[..., None] * w).shape"
      ],
      "execution_count": 67,
      "outputs": [
        {
          "output_type": "execute_result",
          "data": {
            "text/plain": [
              "torch.Size([5, 784, 10])"
            ]
          },
          "metadata": {
            "tags": []
          },
          "execution_count": 67
        }
      ]
    },
    {
      "cell_type": "markdown",
      "metadata": {
        "id": "U5Ymncot6D42"
      },
      "source": [
        "## Broadcasting Rules\n",
        "\n",
        "1. inserting axis as **1st**(using `None`), inserting axis to the 2nd dim\n",
        "2. use 1, do matmul and return 3by3 matrix with dim=[3] vector(ex.,c)"
      ]
    },
    {
      "cell_type": "code",
      "metadata": {
        "id": "NDH9j5bT8sZY",
        "colab": {
          "base_uri": "https://localhost:8080/",
          "height": 35
        },
        "outputId": "f3f0963c-0ac6-4662-8394-9101ffa3fa8a"
      },
      "source": [
        "w[None].shape, w[:, None].shape, w[..., None].shape"
      ],
      "execution_count": null,
      "outputs": [
        {
          "output_type": "execute_result",
          "data": {
            "text/plain": [
              "(torch.Size([1, 784, 10]), torch.Size([784, 1, 10]), torch.Size([784, 10, 1]))"
            ]
          },
          "metadata": {
            "tags": []
          },
          "execution_count": 192
        }
      ]
    },
    {
      "cell_type": "code",
      "metadata": {
        "id": "xjalMVjAUGrg",
        "colab": {
          "base_uri": "https://localhost:8080/",
          "height": 35
        },
        "outputId": "ce008ba5-7f32-438e-d15e-c471972596ae"
      },
      "source": [
        "c"
      ],
      "execution_count": null,
      "outputs": [
        {
          "output_type": "execute_result",
          "data": {
            "text/plain": [
              "tensor([10., 20., 30.])"
            ]
          },
          "metadata": {
            "tags": []
          },
          "execution_count": 193
        }
      ]
    },
    {
      "cell_type": "code",
      "metadata": {
        "id": "IgPpei8FUOUr",
        "colab": {
          "base_uri": "https://localhost:8080/",
          "height": 69
        },
        "outputId": "d2c8f8eb-9fbd-468c-e44b-eed09cac6f59"
      },
      "source": [
        "c[:, None] * c[None]"
      ],
      "execution_count": null,
      "outputs": [
        {
          "output_type": "execute_result",
          "data": {
            "text/plain": [
              "tensor([[100., 200., 300.],\n",
              "        [200., 400., 600.],\n",
              "        [300., 600., 900.]])"
            ]
          },
          "metadata": {
            "tags": []
          },
          "execution_count": 194
        }
      ]
    },
    {
      "cell_type": "code",
      "metadata": {
        "id": "haf-2UzPUjQo",
        "colab": {
          "base_uri": "https://localhost:8080/",
          "height": 69
        },
        "outputId": "15d7ff94-9933-4e3b-ebc4-227cf578320e"
      },
      "source": [
        "c.expand_as(m) * c.expand_as(m).T"
      ],
      "execution_count": null,
      "outputs": [
        {
          "output_type": "execute_result",
          "data": {
            "text/plain": [
              "tensor([[100., 200., 300.],\n",
              "        [200., 400., 600.],\n",
              "        [300., 600., 900.]])"
            ]
          },
          "metadata": {
            "tags": []
          },
          "execution_count": 195
        }
      ]
    },
    {
      "cell_type": "markdown",
      "metadata": {
        "id": "8N65MPRHXiIA"
      },
      "source": [
        "When operating on two arrays/tensors, Numpy/PyTorch compares their shapes element-wise. It starts with the **trailing dimensions**, and works its way forward. Two dimensions are **compatible** when\n",
        "\n",
        "- they are equal, or\n",
        "- one of them is 1, in which case that dimension is broadcasted to make it the same size\n",
        "\n",
        "Arrays do not need to have the same number of dimensions. For example, if you have a `256*256*3` array of RGB values, and you want to scale each color in the image by a different value, you can multiply the image by a one-dimensional array with 3 values. Lining up the sizes of the trailing axes of these arrays according to the broadcast rules, shows that they are compatible:\n",
        "\n",
        "    Image  (3d array): 256 x 256 x 3\n",
        "    Scale  (1d array):             3\n",
        "    Result (3d array): 256 x 256 x 3\n",
        "\n",
        "The [numpy documentation](https://docs.scipy.org/doc/numpy-1.13.0/user/basics.broadcasting.html#general-broadcasting-rules) includes several examples of what dimensions can and can not be broadcast together."
      ]
    },
    {
      "cell_type": "markdown",
      "metadata": {
        "id": "4CkDdJRD9KFU"
      },
      "source": [
        "# Einstein summation\n",
        "\n",
        "- do the ein_sum using torch.einsum()\n",
        "- check the time with broadcasting\n",
        "- compare value with the first thing"
      ]
    },
    {
      "cell_type": "code",
      "metadata": {
        "colab": {
          "base_uri": "https://localhost:8080/"
        },
        "id": "O7_x5k2ArjFJ",
        "outputId": "8a81e35e-62cc-458a-f633-7b75c4954043"
      },
      "source": [
        "torch.allclose(torch.einsum('ij,jk->ik', m1, w)[0], #slice 0th row, calculation finished\n",
        "               (m1[0][:, None] *w).sum(dim=0)) #slice 0th first, and calculate (each category's probability)"
      ],
      "execution_count": 72,
      "outputs": [
        {
          "output_type": "execute_result",
          "data": {
            "text/plain": [
              "True"
            ]
          },
          "metadata": {
            "tags": []
          },
          "execution_count": 72
        }
      ]
    },
    {
      "cell_type": "code",
      "metadata": {
        "id": "y8qneaxuVdNN",
        "colab": {
          "base_uri": "https://localhost:8080/",
          "height": 35
        },
        "outputId": "d937c8a8-f293-445b-9621-68396cbfdd25"
      },
      "source": [
        "torch.einsum('ij,jk->ik', m1, w).shape"
      ],
      "execution_count": null,
      "outputs": [
        {
          "output_type": "execute_result",
          "data": {
            "text/plain": [
              "torch.Size([5, 10])"
            ]
          },
          "metadata": {
            "tags": []
          },
          "execution_count": 203
        }
      ]
    },
    {
      "cell_type": "markdown",
      "metadata": {
        "id": "rIoLnxTOXiID"
      },
      "source": [
        "[^14] this means they somewhat transfer string to index, arithmetic...check out the **source code**!\n",
        "\n",
        "Einstein summation (`einsum`) is a compact representation for combining products and sums in a general way. From the numpy docs:\n",
        "\n",
        "\"The subscripts string is a comma-separated list of subscript labels, where each label refers to a dimension of the corresponding operand. Whenever a label is repeated it is summed, so `np.einsum('i,i', a, b)` is equivalent to `np.inner(a,b)`. If a label appears only once, it is not summed, so `np.einsum('i', a)` produces a view of a with no changes.\""
      ]
    },
    {
      "cell_type": "code",
      "metadata": {
        "id": "fz6MYxbcWsvc",
        "colab": {
          "base_uri": "https://localhost:8080/",
          "height": 35
        },
        "outputId": "e753c777-2554-412f-fb43-977d0bb8b1c8"
      },
      "source": [
        "%timeit -n 10 torch.einsum('ij,jk->ik', m1, w)"
      ],
      "execution_count": null,
      "outputs": [
        {
          "output_type": "stream",
          "text": [
            "10 loops, best of 3: 56.5 µs per loop\n"
          ],
          "name": "stdout"
        }
      ]
    },
    {
      "cell_type": "code",
      "metadata": {
        "id": "a1S-_PquXGeC"
      },
      "source": [
        "test_near(torch.einsum('ij,jk->ik', m1, w), t1)"
      ],
      "execution_count": null,
      "outputs": []
    },
    {
      "cell_type": "code",
      "metadata": {
        "id": "kUYdwiOpVrPD",
        "colab": {
          "base_uri": "https://localhost:8080/",
          "height": 35
        },
        "outputId": "0765a83e-c838-458e-a747-4f387b541d23"
      },
      "source": [
        "a = torch.randn(3,5,4)  \n",
        "l = torch.randn(2,5)  \n",
        "r = torch.randn(2,4)  \n",
        "torch.einsum('bn,anm,bm-> ba', l, a, r).shape"
      ],
      "execution_count": null,
      "outputs": [
        {
          "output_type": "execute_result",
          "data": {
            "text/plain": [
              "torch.Size([2, 3])"
            ]
          },
          "metadata": {
            "tags": []
          },
          "execution_count": 202
        }
      ]
    },
    {
      "cell_type": "markdown",
      "metadata": {
        "id": "hOWOIOGp91Uy"
      },
      "source": [
        "# pytorch op : Using general lib given by pytorch\n",
        "\n",
        "- do the pytorch matmul(hint: default of tensor)"
      ]
    },
    {
      "cell_type": "code",
      "metadata": {
        "id": "P0ZhEB2yXNVU",
        "colab": {
          "base_uri": "https://localhost:8080/",
          "height": 35
        },
        "outputId": "eb89c7b9-ad1d-4166-ecdb-678197f2d95b"
      },
      "source": [
        "%timeit -n 10 m1.matmul(w)"
      ],
      "execution_count": null,
      "outputs": [
        {
          "output_type": "stream",
          "text": [
            "10 loops, best of 3: 11 µs per loop\n"
          ],
          "name": "stdout"
        }
      ]
    },
    {
      "cell_type": "markdown",
      "metadata": {
        "id": "7MKxXxnN-GvI"
      },
      "source": [
        "# export : save all the script you defined at this notebook"
      ]
    },
    {
      "cell_type": "code",
      "metadata": {
        "id": "A_kz90qCXfNq"
      },
      "source": [
        "!pip install fire"
      ],
      "execution_count": null,
      "outputs": []
    },
    {
      "cell_type": "code",
      "metadata": {
        "id": "onvtm1AOXUFN",
        "colab": {
          "base_uri": "https://localhost:8080/",
          "height": 35
        },
        "outputId": "c54b74af-f06a-413c-d164-14ad1ec6890e"
      },
      "source": [
        "!python3 notebook2script.py 01_matmul.ipynb"
      ],
      "execution_count": null,
      "outputs": [
        {
          "output_type": "stream",
          "text": [
            "Converted 01_matmul.ipynb to exp/nb_01.py\n"
          ],
          "name": "stdout"
        }
      ]
    },
    {
      "cell_type": "code",
      "metadata": {
        "id": "Pj5Kpv3OXnKp",
        "colab": {
          "base_uri": "https://localhost:8080/",
          "height": 466
        },
        "outputId": "b4354065-aaf2-4670-f633-cdd3d9a92a37"
      },
      "source": [
        "!cat exp/nb_01.py"
      ],
      "execution_count": null,
      "outputs": [
        {
          "output_type": "stream",
          "text": [
            "\n",
            "#################################################\n",
            "### THIS FILE WAS AUTOGENERATED! DO NOT EDIT! ###\n",
            "#################################################\n",
            "# file to edit: dev_nb/01_matmul.ipynb\n",
            "\n",
            "from exp.nb_00 import *\n",
            "import operator\n",
            "\n",
            "def test(a,b,cmp,cname=None):\n",
            "    if cname is None: cname=cmp.__name__\n",
            "    assert cmp(a,b),f\"{cname}:\\n{a}\\n{b}\"\n",
            "\n",
            "def test_eq(a,b): test(a,b,operator.eq,'==')\n",
            "\n",
            "from pathlib import Path\n",
            "from IPython.core.debugger import set_trace\n",
            "from fastai import datasets\n",
            "import pickle, gzip, math, torch, matplotlib as mpl\n",
            "import matplotlib.pyplot as plt\n",
            "from torch import tensor\n",
            "\n",
            "MNIST_URL='http://deeplearning.net/data/mnist/mnist.pkl'\n",
            "\n",
            "def near(a,b): return torch.allclose(a, b, rtol=1e-3, atol=1e-5)\n",
            "def test_near(a,b): test(a,b,near)"
          ],
          "name": "stdout"
        }
      ]
    },
    {
      "cell_type": "markdown",
      "metadata": {
        "id": "9QoO_BCeL86Q"
      },
      "source": [
        "# ~~Question List~~ -> all solved"
      ]
    },
    {
      "cell_type": "markdown",
      "metadata": {
        "id": "eCwM0ou4LBva"
      },
      "source": [
        "[1]: ~~gzip does remove zip file after you unzip, so you should give `-k` arg~~\n",
        "\n",
        "[2]: ~~pathlib.resolve / pathlib.absolute, but issues are depends on python [versions](https://discuss.python.org/t/pathlib-absolute-vs-resolve/2573/2)~~\n",
        "\n",
        "[3]: ~~expected means number of values I gave~~\n",
        "\n",
        "[5]: ~~The last value of b (since this is categorial) should be defined using value, and the shape of tensor.~~ -> ??\n",
        "\n",
        "[6]: ~~See the stackoverflow [answer1](https://stackoverflow.com/a/17579466/7934832), [answer2](https://stackoverflow.com/a/14650555/7934832) and jupyter built-in magic method [document](https://ipython.readthedocs.io/en/stable/interactive/magics.html)~~ -> keep\n",
        "\n",
        "[7]: ~~refer to [this](https://www.amazon.com/Linear-Algebra-4th-Stephen-Friedberg/dp/0130084514) book I used at class and answer later~~ -> no need\n",
        "\n",
        "[8]: ~~*Unsolved* question~~ -> solved\n",
        "\n",
        "    Stride is the jump necessary to go from one element to the next one in the specified dimension :attr:`dim`.\n",
        "\n",
        "~~~python\n",
        "import torch\n",
        "s = torch.randn(10, 4, 6)\n",
        "s.stride()\n",
        ">>> (24, 6, 1)\n",
        "~~~    \n",
        "\n",
        "\n",
        "\n",
        "[9]: ~~See below~~ -> they are different\n",
        "\n",
        "~~~python\n",
        "c = torch.tensor([10., 20., 30])\n",
        "c[-1], c[-1].shape\n",
        ">>> (tensor(30.), torch.Size([]))\n",
        "c[None, -1]\n",
        ">>> (tensor([30.]), torch.Size([1]))\n",
        "~~~"
      ]
    },
    {
      "cell_type": "code",
      "metadata": {
        "id": "-CeV5JIWtclr"
      },
      "source": [
        ""
      ],
      "execution_count": null,
      "outputs": []
    }
  ]
}