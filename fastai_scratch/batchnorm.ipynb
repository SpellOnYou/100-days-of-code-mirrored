{
  "nbformat": 4,
  "nbformat_minor": 0,
  "metadata": {
    "colab": {
      "name": "batchnorm.ipynb",
      "provenance": [],
      "collapsed_sections": []
    },
    "kernelspec": {
      "name": "python3",
      "display_name": "Python 3"
    },
    "language_info": {
      "name": "python"
    },
    "accelerator": "GPU"
  },
  "cells": [
    {
      "cell_type": "code",
      "metadata": {
        "id": "1CvLp0VjbpfK",
        "colab": {
          "base_uri": "https://localhost:8080/"
        },
        "outputId": "ddda70a5-89ad-4698-a4b6-fdbbeb2a557d"
      },
      "source": [
        "!pip install -qq ipdb\n",
        "import ipdb"
      ],
      "execution_count": 13,
      "outputs": [
        {
          "output_type": "stream",
          "name": "stdout",
          "text": [
            "\u001b[K     |████████████████████████████████| 788 kB 2.8 MB/s \n",
            "\u001b[K     |████████████████████████████████| 370 kB 57.8 MB/s \n",
            "\u001b[?25h  Building wheel for ipdb (setup.py) ... \u001b[?25l\u001b[?25hdone\n",
            "\u001b[31mERROR: pip's dependency resolver does not currently take into account all the packages that are installed. This behaviour is the source of the following dependency conflicts.\n",
            "jupyter-console 5.2.0 requires prompt-toolkit<2.0.0,>=1.0.0, but you have prompt-toolkit 3.0.20 which is incompatible.\n",
            "google-colab 1.0.0 requires ipython~=5.5.0, but you have ipython 7.28.0 which is incompatible.\u001b[0m\n"
          ]
        }
      ]
    },
    {
      "cell_type": "code",
      "metadata": {
        "colab": {
          "base_uri": "https://localhost:8080/"
        },
        "id": "T97JGhBRpb0-",
        "outputId": "e826d319-8829-42bc-c5a8-3aa158170a7c"
      },
      "source": [
        "import torch\n",
        "[attr for attr in dir(torch) if 'cuda' in attr]"
      ],
      "execution_count": 6,
      "outputs": [
        {
          "output_type": "execute_result",
          "data": {
            "text/plain": [
              "['_weight_norm_cuda_interface', 'cuda', 'has_cuda']"
            ]
          },
          "metadata": {},
          "execution_count": 6
        }
      ]
    },
    {
      "cell_type": "code",
      "metadata": {
        "colab": {
          "base_uri": "https://localhost:8080/"
        },
        "id": "d1Sik4ZyqAoI",
        "outputId": "5fc43a3e-98e0-41d2-8d80-d87fe710bea8"
      },
      "source": [
        "torch.has_cuda"
      ],
      "execution_count": 7,
      "outputs": [
        {
          "output_type": "execute_result",
          "data": {
            "text/plain": [
              "True"
            ]
          },
          "metadata": {},
          "execution_count": 7
        }
      ]
    },
    {
      "cell_type": "code",
      "metadata": {
        "id": "GVUc71JK05Wu",
        "colab": {
          "base_uri": "https://localhost:8080/"
        },
        "outputId": "29e303d8-afde-42ec-cc6f-8196c07cdf00"
      },
      "source": [
        "!git clone https://github.com/fastai/course-v3"
      ],
      "execution_count": 10,
      "outputs": [
        {
          "output_type": "stream",
          "name": "stdout",
          "text": [
            "/content/course-v3/nbs/dl2\n"
          ]
        }
      ]
    },
    {
      "cell_type": "code",
      "metadata": {
        "colab": {
          "base_uri": "https://localhost:8080/"
        },
        "id": "OeKuaNFavaN1",
        "outputId": "77e91035-fc26-4a06-98ca-6c64e4661f21"
      },
      "source": [
        "%cd /content/course-v3/nbs/dl2\n",
        "%load_ext autoreload\n",
        "%autoreload 2\n",
        "%matplotlib inline\n",
        "from exp.nb_06 import *"
      ],
      "execution_count": 1,
      "outputs": [
        {
          "output_type": "stream",
          "name": "stdout",
          "text": [
            "/content/course-v3/nbs/dl2\n"
          ]
        }
      ]
    },
    {
      "cell_type": "code",
      "metadata": {
        "id": "Hy58lWVn1TVO"
      },
      "source": [
        "def get_data():\n",
        "    path = Path('/content/mnist.pkl.gz')\n",
        "    with gzip.open(path, 'rb') as f:\n",
        "        ((x_train, y_train), (x_valid, y_valid), _) = pickle.load(f, encoding='latin-1')\n",
        "    return map(tensor, (x_train,y_train,x_valid,y_valid))\n",
        "\n",
        "x_train, y_train, x_valid, y_valid = get_data()\n",
        "x_train, x_valid = normalize_to(x_train, x_valid)"
      ],
      "execution_count": 2,
      "outputs": []
    },
    {
      "cell_type": "code",
      "metadata": {
        "colab": {
          "base_uri": "https://localhost:8080/"
        },
        "id": "b_wrqyNl1IBZ",
        "outputId": "41726d5a-718c-4b1d-afb1-040f25341180"
      },
      "source": [
        "train_ds, valid_ds = Dataset(x_train, y_train), Dataset(x_valid, y_valid)\n",
        "nh, bs = 50, 512\n",
        "c = y_train.max().item()+1\n",
        "loss_func = F.cross_entropy\n",
        "\n",
        "data = DataBunch(*get_dls(train_ds, valid_ds, bs), c)\n",
        "mnist_view = view_tfm(1, 28, 28)\n",
        "cbfs = [Recorder,\n",
        "        partial(AvgStatsCallback, accuracy),\n",
        "        CudaCallback,\n",
        "        partial(BatchTransformXCallback, mnist_view)]\n",
        "nfs = [8, 16, 32, 64, 64]\n",
        "learn, run = get_learn_run(nfs, data, 0.4, conv_layer, cbs=cbfs)\n",
        "\n",
        "%time run.fit(2, learn)"
      ],
      "execution_count": 3,
      "outputs": [
        {
          "output_type": "stream",
          "name": "stdout",
          "text": [
            "train: [0.807903515625, tensor(0.7342, device='cuda:0')]\n",
            "valid: [0.176360302734375, tensor(0.9467, device='cuda:0')]\n",
            "train: [0.133546220703125, tensor(0.9588, device='cuda:0')]\n",
            "valid: [0.09966256103515625, tensor(0.9705, device='cuda:0')]\n",
            "CPU times: user 3.67 s, sys: 888 ms, total: 4.56 s\n",
            "Wall time: 4.48 s\n"
          ]
        }
      ]
    },
    {
      "cell_type": "code",
      "metadata": {
        "id": "ZFVipSF0zLG5",
        "colab": {
          "base_uri": "https://localhost:8080/"
        },
        "outputId": "f3abe4a4-c846-4382-c821-ebb816a5e146"
      },
      "source": [
        "class BatchNorm(nn.Module):\n",
        "    def __init__(self, nf, mom=0.1, eps=1e-6):\n",
        "        super().__init__()\n",
        "\n",
        "        self.mom, self.eps = mom, eps\n",
        "        self.mults = nn.Parameter(torch.ones (nf, 1, 1))\n",
        "        self.adds  = nn.Parameter(torch.zeros(nf, 1, 1))\n",
        "        self.register_buffer('vars',  torch.ones (1, nf, 1, 1))\n",
        "        self.register_buffer('means', torch.zeros(1, nf, 1, 1))\n",
        "\n",
        "    def update_stats(self, x):\n",
        "        '''first get stats of last 2 batches and then save current m, v with lerp'''\n",
        "        m = x.mean((0, 2, 3), keepdim=True)\n",
        "        v = x.var ((0, 2, 3), keepdim=True)\n",
        "        self.means.lerp_(m, self.mom) # linear interpolation\n",
        "        self.vars.lerp_ (v, self.mom)\n",
        "        # if len(self.means[0])==8: print(f\"Training time:\\nmean: {m}\\nvarience: {v}\")\n",
        "        return m, v\n",
        "    \n",
        "    def forward(self, x):\n",
        "        if self.training:\n",
        "            with torch.no_grad():\n",
        "                m, v = self.update_stats(x)\n",
        "        else:\n",
        "            m, v = self.means, self.vars # Q. does this mean and variance does not change during inference time? => A. Yes\n",
        "            # if len(self.means[0])==8: print(f\"Inference time:\\nmean: {m}\\nvarience: {v}\")\n",
        "            # ipdb.set_trace()\n",
        "        x = (x-m) / (v+self.eps).sqrt()\n",
        "        return x*self.mults + self.adds\n",
        "\n",
        "def conv_layer(ni, nf, ks=3, stride=2, bn=True, **kwargs):\n",
        "    layers = [nn.Conv2d(ni, nf, ks, padding=ks//2, stride=stride, bias=not bn),\n",
        "              GeneralRelu(**kwargs)]\n",
        "    if bn: layers.append(BatchNorm(nf))\n",
        "    return nn.Sequential(*layers)\n",
        "\n",
        "learn, run = get_learn_run(nfs, data, 0.9, conv_layer, cbs=cbfs)\n",
        "run.fit(2, learn)"
      ],
      "execution_count": 13,
      "outputs": [
        {
          "output_type": "stream",
          "name": "stdout",
          "text": [
            "train: [0.27310265625, tensor(0.9150, device='cuda:0')]\n",
            "valid: [0.15903707275390624, tensor(0.9478, device='cuda:0')]\n",
            "train: [0.087125087890625, tensor(0.9739, device='cuda:0')]\n",
            "valid: [0.11197086181640625, tensor(0.9653, device='cuda:0')]\n"
          ]
        }
      ]
    },
    {
      "cell_type": "code",
      "metadata": {
        "id": "0DF7otO3AJUk"
      },
      "source": [
        "def init_cnn_(m, f):\n",
        "    if isinstance(m, nn.Conv2d):\n",
        "        f(m.weight, a=0.1)\n",
        "        if getattr(m, 'bias', None) is not None: m.bias.data.zero_()\n",
        "    for l in m.children(): init_cnn_(l, f)\n",
        "\n",
        "def init_cnn(m, uniform =False):\n",
        "    f = init.kaiming_uniform_ if uniform else init.kaiming_normal_\n",
        "    init_cnn_(m, f)\n",
        "\n",
        "def get_learn_run(nfs, data, lr, layer, cbs=None, opt_func=None, uniform=False, **kwargs):\n",
        "    model = get_cnn_model(data, nfs, layer, **kwargs)\n",
        "    init_cnn(model, uniform=uniform)\n",
        "    return get_runner(model, data, lr=lr, cbs=cbs, opt_func=opt_func)"
      ],
      "execution_count": 5,
      "outputs": []
    },
    {
      "cell_type": "code",
      "metadata": {
        "id": "TDOMcyzBD1hv",
        "colab": {
          "base_uri": "https://localhost:8080/",
          "height": 579
        },
        "outputId": "6d762c31-ae41-44e4-ed40-4c9ac4f6ea10"
      },
      "source": [
        "learn, run = get_learn_run(nfs, data, 0.9, conv_layer, cbs=cbfs)\n",
        "with Hooks(learn.model, append_stats) as hooks:\n",
        "    run.fit(1, learn)\n",
        "    fig, (ax0, ax1) = plt.subplots(1, 2, figsize=(10, 4))\n",
        "    for h in hooks[:-1]:\n",
        "        # print(h.stats)\n",
        "        means, stds = h.stats\n",
        "        ax0.plot(means[:20])\n",
        "        ax0.title.set_text('means, batch 20')\n",
        "        ax1.plot(stds[:20])\n",
        "        ax1.title.set_text('stds, batch 20')\n",
        "        h.remove()\n",
        "    plt.legend(range(5))\n",
        "    # all batches\n",
        "    fit, (ax0, ax1) = plt.subplots(1, 2, figsize=(10, 4))\n",
        "    ax0.title.set_text('means, all batch')\n",
        "    ax1.title.set_text('stds, all batch')\n",
        "    for h in hooks[:-1]:\n",
        "        means, stds = h.stats\n",
        "        ax0.plot(means)\n",
        "        \n",
        "        ax1.plot(stds)"
      ],
      "execution_count": 6,
      "outputs": [
        {
          "output_type": "stream",
          "name": "stdout",
          "text": [
            "train: [0.2858837890625, tensor(0.9105, device='cuda:0')]\n",
            "valid: [0.16273243408203125, tensor(0.9468, device='cuda:0')]\n"
          ]
        },
        {
          "output_type": "display_data",
          "data": {
            "image/png": "[encoded data removed]",
            "text/plain": [
              "<Figure size 720x288 with 2 Axes>"
            ]
          },
          "metadata": {
            "needs_background": "light"
          }
        },
        {
          "output_type": "display_data",
          "data": {
            "image/png": "[encoded data removed]",
            "text/plain": [
              "<Figure size 720x288 with 2 Axes>"
            ]
          },
          "metadata": {
            "needs_background": "light"
          }
        }
      ]
    },
    {
      "cell_type": "code",
      "metadata": {
        "colab": {
          "base_uri": "https://localhost:8080/"
        },
        "id": "9c6gYLo9G9X3",
        "outputId": "a11e9b61-aa94-45d6-fee4-abf55338ba81"
      },
      "source": [
        "learn.model"
      ],
      "execution_count": 7,
      "outputs": [
        {
          "output_type": "execute_result",
          "data": {
            "text/plain": [
              "Sequential(\n",
              "  (0): Sequential(\n",
              "    (0): Conv2d(1, 8, kernel_size=(5, 5), stride=(2, 2), padding=(2, 2), bias=False)\n",
              "    (1): GeneralRelu()\n",
              "    (2): BatchNorm()\n",
              "  )\n",
              "  (1): Sequential(\n",
              "    (0): Conv2d(8, 16, kernel_size=(3, 3), stride=(2, 2), padding=(1, 1), bias=False)\n",
              "    (1): GeneralRelu()\n",
              "    (2): BatchNorm()\n",
              "  )\n",
              "  (2): Sequential(\n",
              "    (0): Conv2d(16, 32, kernel_size=(3, 3), stride=(2, 2), padding=(1, 1), bias=False)\n",
              "    (1): GeneralRelu()\n",
              "    (2): BatchNorm()\n",
              "  )\n",
              "  (3): Sequential(\n",
              "    (0): Conv2d(32, 64, kernel_size=(3, 3), stride=(2, 2), padding=(1, 1), bias=False)\n",
              "    (1): GeneralRelu()\n",
              "    (2): BatchNorm()\n",
              "  )\n",
              "  (4): Sequential(\n",
              "    (0): Conv2d(64, 64, kernel_size=(3, 3), stride=(2, 2), padding=(1, 1), bias=False)\n",
              "    (1): GeneralRelu()\n",
              "    (2): BatchNorm()\n",
              "  )\n",
              "  (5): AdaptiveAvgPool2d(output_size=1)\n",
              "  (6): Lambda()\n",
              "  (7): Linear(in_features=64, out_features=10, bias=True)\n",
              ")"
            ]
          },
          "metadata": {},
          "execution_count": 7
        }
      ]
    },
    {
      "cell_type": "code",
      "metadata": {
        "id": "7D-gvfRyEFHn",
        "colab": {
          "base_uri": "https://localhost:8080/"
        },
        "outputId": "fb421f86-c079-420d-8263-295f47fe9751"
      },
      "source": [
        "import inspect\n",
        "print(inspect.getsource(conv_layer))"
      ],
      "execution_count": null,
      "outputs": [
        {
          "output_type": "stream",
          "name": "stdout",
          "text": [
            "def conv_layer(ni, nf, ks=3, stride=2, bn=True, **kwargs):\n",
            "    layers = [nn.Conv2d(ni, nf, ks, padding=ks//2, stride=stride, bias=not bn),\n",
            "              GeneralRelu(**kwargs)]\n",
            "    if bn: layers.append(BatchNorm(nf))\n",
            "    return nn.Sequential(*layers)\n",
            "\n"
          ]
        }
      ]
    },
    {
      "cell_type": "markdown",
      "metadata": {
        "id": "pmIRyUHmAu3U"
      },
      "source": [
        "---"
      ]
    },
    {
      "cell_type": "code",
      "metadata": {
        "id": "ambMqnHHAvZ8"
      },
      "source": [
        "def conv_layer(ni, nf, ks=3, stride=2, bn=True, **kwargs):\n",
        "    layers = [nn.Conv2d(ni, nf, ks, padding=ks//2, stride=stride, bias = not bn)]\n",
        "    if bn: layers.append(nn.BatchNorm2d(nf))\n",
        "    return nn.Sequential(*layers)\n",
        "\n",
        "learn, run = get_learn_run(nfs, data, 1., conv_layer, cbs=cbfs)\n",
        "run.fit(3, learn)"
      ],
      "execution_count": null,
      "outputs": []
    },
    {
      "cell_type": "code",
      "metadata": {
        "id": "ILr3_nzfZr0u"
      },
      "source": [
        "def test(*x): \n",
        "    ls = [1, 2, 3, 5]\n",
        "    return x"
      ],
      "execution_count": null,
      "outputs": []
    },
    {
      "cell_type": "code",
      "metadata": {
        "colab": {
          "base_uri": "https://localhost:8080/"
        },
        "id": "VtI-SzsxZ5K0",
        "outputId": "ccc8c9a4-1aab-468b-9abf-69d724813a05"
      },
      "source": [
        "print(test([3, 4, 5]), len(test([3, 4, 5])), type(test([3, 4, 5])), sep='\\n')"
      ],
      "execution_count": null,
      "outputs": [
        {
          "output_type": "stream",
          "name": "stdout",
          "text": [
            "([3, 4, 5],)\n",
            "1\n",
            "<class 'tuple'>\n"
          ]
        }
      ]
    },
    {
      "cell_type": "markdown",
      "metadata": {
        "id": "BpNg9YhHZxEb"
      },
      "source": [
        "---"
      ]
    },
    {
      "cell_type": "code",
      "metadata": {
        "id": "UowWWdqObWVj"
      },
      "source": [
        "sched = combine_scheds([0.3, 0.7], [sched_lin(0.6, 2.), sched_lin(2., 0.1)])\n",
        "learn, run = get_learn_run(nfs, data, 0.9, conv_layer, cbs=cbfs+[partial(ParamScheduler, 'lr', sched)])\n",
        "run.fit(1, learn)\n",
        "run.recorder.plot_lr()"
      ],
      "execution_count": null,
      "outputs": []
    },
    {
      "cell_type": "markdown",
      "metadata": {
        "id": "tIcc-7MlAvpN"
      },
      "source": [
        "---"
      ]
    },
    {
      "cell_type": "code",
      "metadata": {
        "colab": {
          "base_uri": "https://localhost:8080/"
        },
        "id": "gZK2zWRAcoNx",
        "collapsed": true,
        "outputId": "0eb8ecf0-7bff-4b19-b684-863d54c55e13"
      },
      "source": [
        "class LayerNorm(nn.Module):\n",
        "    __constants__ = ['eps']\n",
        "    def __init__(self, eps = 1e-6):\n",
        "        super().__init__()\n",
        "        self.eps = eps\n",
        "        self.mult = nn.Parameter(tensor(1.))\n",
        "        self.add  = nn.Parameter(tensor(0.))\n",
        "    def forward(self, x):\n",
        "        m = x.mean((1, 2, 3), keepdim=True)\n",
        "        v = x.var ((1, 2, 3), keepdim=True)\n",
        "        res = (x-m) / (v + self.eps).sqrt()\n",
        "        return res * self.mult + self.add\n",
        "\n",
        "def conv_ln(ni, nf, ks=3, stride=2, bn=True, **kwargs):\n",
        "    layers = [nn.Conv2d(ni, nf, ks, padding=ks//2, stride=stride, bias = True),\n",
        "              GeneralRelu(**kwargs)]\n",
        "    if bn: layers.append(LayerNorm())\n",
        "    return nn.Sequential(*layers)\n",
        "\n",
        "learn, run = get_learn_run(nfs, data, 1., conv_ln, cbs=cbfs)\n",
        "run.fit(3, learn)"
      ],
      "execution_count": 10,
      "outputs": [
        {
          "output_type": "stream",
          "name": "stdout",
          "text": [
            "train: [nan, tensor(0.1100, device='cuda:0')]\n",
            "valid: [nan, tensor(0.0991, device='cuda:0')]\n",
            "train: [nan, tensor(0.0986, device='cuda:0')]\n",
            "valid: [nan, tensor(0.0991, device='cuda:0')]\n",
            "train: [nan, tensor(0.0986, device='cuda:0')]\n",
            "valid: [nan, tensor(0.0991, device='cuda:0')]\n"
          ]
        }
      ]
    },
    {
      "cell_type": "markdown",
      "metadata": {
        "id": "LM8k7bmrcoSs"
      },
      "source": [
        "---"
      ]
    },
    {
      "cell_type": "code",
      "metadata": {
        "id": "3LPMbZJBcoWJ",
        "colab": {
          "base_uri": "https://localhost:8080/"
        },
        "outputId": "f7239e5c-a024-43c4-8010-5fbeaf5fa6f4"
      },
      "source": [
        "class InstanceNorm(nn.Module):\n",
        "    __constants__ = ['eps']\n",
        "    def __init__(self, nf, eps = 1e-0):\n",
        "        super().__init__()\n",
        "        self.eps = eps\n",
        "        self.mults = nn.Parameter(torch.ones (nf, 1, 1))\n",
        "        self.adds  = nn.Parameter(torch.zeros(nf, 1, 1))\n",
        "    \n",
        "    def forward(self, x):\n",
        "        m = x.mean((2, 3), keepdim = True)\n",
        "        v = x.mean((2, 3), keepdim = True)\n",
        "        res = (x-m) / (v+self.eps).sqrt()\n",
        "        return res * self.mults + self.adds\n",
        "\n",
        "def conv_in(ni, nf, ks = 3, stride = 2, bn = True, **kwargs):\n",
        "    layers = [nn.Conv2d(ni, nf, ks, padding=ks//2, stride=stride, bias = True),\n",
        "              GeneralRelu(**kwargs)]\n",
        "    if bn: layers.append(InstanceNorm(nf))\n",
        "    return nn.Sequential(*layers)\n",
        "learn, run = get_learn_run(nfs, data, 0.1, conv_in, cbs=cbfs)\n",
        "run.fit(3, learn)"
      ],
      "execution_count": 12,
      "outputs": [
        {
          "output_type": "stream",
          "name": "stdout",
          "text": [
            "train: [2.30267015625, tensor(0.1056, device='cuda:0')]\n",
            "valid: [2.30191015625, tensor(0.1064, device='cuda:0')]\n",
            "train: [2.3012403125, tensor(0.1136, device='cuda:0')]\n",
            "valid: [2.301962109375, tensor(0.1064, device='cuda:0')]\n",
            "train: [2.3011203125, tensor(0.1136, device='cuda:0')]\n",
            "valid: [2.3019740234375, tensor(0.1064, device='cuda:0')]\n"
          ]
        }
      ]
    },
    {
      "cell_type": "markdown",
      "metadata": {
        "id": "h_aRckkr3MG5"
      },
      "source": [
        "---"
      ]
    },
    {
      "cell_type": "code",
      "metadata": {
        "colab": {
          "base_uri": "https://localhost:8080/"
        },
        "id": "wmAmgFUf5tlG",
        "outputId": "ccd2eb33-94ab-4e32-8dde-96731dbeeace"
      },
      "source": [
        "class RunningBatchNorm(nn.Module):\n",
        "    def __init__(self, nf, mom=0.1, eps=1e-5):\n",
        "        super().__init__()\n",
        "        self.mon, self.eps = mom, eps\n",
        "        self.mults = nn.Parameter(torch.ones (nf,1,1))\n",
        "        self.adds  = nn.Parameter(torch.zeros(nf,1,1))\n",
        "        self.register_buffer('sums', torch.zeros(1, nf, 1, 1))\n",
        "        self.register_buffer('sqrs', torch.zeros(1, nf, 1, 1))\n",
        "        self.register_buffer('batch', tensor(0.))\n",
        "        self.register_buffer('count', tensor(0.))\n",
        "        self.register_buffer('step', tensor(0.))\n",
        "        self.register_buffer('dbias', tensor(0.))\n",
        "\n",
        "    def update_stats(self, x):\n",
        "        bs, nc, *_ = x.shape\n",
        "        self.sums.detach_()\n",
        "        self.sqrs.detach_()\n",
        "        dims = (0, 2, 3)\n",
        "        s = x.sum(dims, keepdim=True)\n",
        "        ss = (x*x).sum(dims, keepdim=True)\n",
        "        c = self.count.new_tensor(x.numel()/nc)\n",
        "        mom1 = 1 - (1-self.mon)/ math.sqrt(bs-1)\n",
        "        self.mom1 = self.dbias.new_tensor(mom1)\n",
        "        self.sums.lerp_(s, self.mom1)\n",
        "        self.sqrs.lerp_(ss, self.mom1)\n",
        "        self.count.lerp_(c, self.mom1)\n",
        "        self.dbias = self.dbias*(1-self.mom1) + self.mom1\n",
        "        self.batch += bs\n",
        "        self.step += 1\n",
        "    \n",
        "    def forward(self, x):\n",
        "        if self.training: self.update_stats(x)\n",
        "        sums = self.sums\n",
        "        sqrs = self.sqrs\n",
        "        c = self.count\n",
        "        if self.step < 100:\n",
        "            sums = sums / self.dbias\n",
        "            sqrs = sqrs / self.dbias\n",
        "            c  = c / self.dbias\n",
        "        means = sums/c\n",
        "        vars = (sqrs/c).sub_(means*means)\n",
        "        if bool(self.batch < 20): vars.clamp_min_(0.01)\n",
        "        x = (x-means).div_((vars.add_(self.eps)).sqrt())\n",
        "        return x.mul_(self.mults).add_(self.adds)\n",
        "\n",
        "def conv_rbn(ni, nf, ks=3, stride=2, bn =True, **kwargs):\n",
        "    layers = [nn.Conv2d(ni, nf, ks, padding=ks//2, stride=stride, bias = not bn),\n",
        "              GeneralRelu(**kwargs)]\n",
        "    if bn: layers.append(RunningBatchNorm(nf))\n",
        "    return nn.Sequential(*layers)\n",
        "\n",
        "learn, run = get_learn_run(nfs, data, 0.4, conv_rbn, cbs = cbfs)\n",
        "run.fit(1, learn)"
      ],
      "execution_count": 19,
      "outputs": [
        {
          "output_type": "stream",
          "name": "stdout",
          "text": [
            "train: [0.30008443359375, tensor(0.9127, device='cuda:0')]\n",
            "valid: [0.11257803955078124, tensor(0.9666, device='cuda:0')]\n"
          ]
        }
      ]
    },
    {
      "cell_type": "code",
      "metadata": {
        "id": "OG1gtZDX3MPM"
      },
      "source": [
        ""
      ],
      "execution_count": null,
      "outputs": []
    }
  ]
}