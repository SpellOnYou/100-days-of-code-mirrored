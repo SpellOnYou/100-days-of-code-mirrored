{
  "nbformat": 4,
  "nbformat_minor": 0,
  "metadata": {
    "colab": {
      "name": "anneal.ipynb",
      "provenance": [],
      "collapsed_sections": []
    },
    "kernelspec": {
      "name": "python3",
      "display_name": "Python 3"
    },
    "language_info": {
      "name": "python"
    },
    "accelerator": "GPU"
  },
  "cells": [
    {
      "cell_type": "code",
      "metadata": {
        "colab": {
          "base_uri": "https://localhost:8080/"
        },
        "id": "khFCMjhkiiVO",
        "outputId": "973ea538-46aa-4b6b-c174-dcdd2ce5c4b1"
      },
      "source": [
        "# !git clone https://github.com/fastai/course-v3\n",
        "%cd /content/course-v3/nbs/dl2\n",
        "%load_ext autoreload\n",
        "%autoreload 2\n",
        "%matplotlib inline\n",
        "from exp.nb_06 import *\n",
        "\n",
        "def get_data():\n",
        "    path = Path('/content/mnist.pkl.gz')\n",
        "    with gzip.open(path, 'rb') as f:\n",
        "        ((x_train, y_train), (x_valid, y_valid), _) = pickle.load(f, encoding='latin-1')\n",
        "    return map(tensor, (x_train,y_train,x_valid,y_valid))\n",
        "\n",
        "x_train, y_train, x_valid, y_valid = get_data()\n",
        "x_train, x_valid = normalize_to(x_train, x_valid)\n",
        "\n",
        "train_ds, valid_ds = Dataset(x_train, y_train), Dataset(x_valid, y_valid)\n",
        "nh, bs = 50, 512\n",
        "c = y_train.max().item()+1\n",
        "loss_func = F.cross_entropy\n",
        "\n",
        "data = DataBunch(*get_dls(train_ds, valid_ds, bs), c)\n",
        "mnist_view = view_tfm(1, 28, 28)\n",
        "cbfs = [Recorder,\n",
        "        partial(AvgStatsCallback, accuracy),\n",
        "        CudaCallback,\n",
        "        partial(BatchTransformXCallback, mnist_view)]\n",
        "nfs = [8, 16, 32, 64, 64]\n",
        "learn, run = get_learn_run(nfs, data, 0.4, conv_layer, cbs=cbfs)\n",
        "\n",
        "%time run.fit(2, learn)"
      ],
      "execution_count": 4,
      "outputs": [
        {
          "output_type": "stream",
          "name": "stdout",
          "text": [
            "/content/course-v3/nbs/dl2\n",
            "train: [1.1259634375, tensor(0.6354, device='cuda:0')]\n",
            "valid: [0.1831650390625, tensor(0.9414, device='cuda:0')]\n",
            "train: [0.2151898828125, tensor(0.9358, device='cuda:0')]\n",
            "valid: [0.1320376708984375, tensor(0.9605, device='cuda:0')]\n",
            "CPU times: user 3.83 s, sys: 904 ms, total: 4.73 s\n",
            "Wall time: 4.65 s\n"
          ]
        }
      ]
    },
    {
      "cell_type": "code",
      "metadata": {
        "colab": {
          "base_uri": "https://localhost:8080/"
        },
        "id": "VdSZhmuciuJZ",
        "outputId": "ee30a7eb-f95b-4a86-b5f4-61a5723c18ec"
      },
      "source": [
        "learn.model"
      ],
      "execution_count": 7,
      "outputs": [
        {
          "output_type": "execute_result",
          "data": {
            "text/plain": [
              "Sequential(\n",
              "  (0): Sequential(\n",
              "    (0): Conv2d(1, 8, kernel_size=(5, 5), stride=(2, 2), padding=(2, 2))\n",
              "    (1): GeneralRelu()\n",
              "  )\n",
              "  (1): Sequential(\n",
              "    (0): Conv2d(8, 16, kernel_size=(3, 3), stride=(2, 2), padding=(1, 1))\n",
              "    (1): GeneralRelu()\n",
              "  )\n",
              "  (2): Sequential(\n",
              "    (0): Conv2d(16, 32, kernel_size=(3, 3), stride=(2, 2), padding=(1, 1))\n",
              "    (1): GeneralRelu()\n",
              "  )\n",
              "  (3): Sequential(\n",
              "    (0): Conv2d(32, 64, kernel_size=(3, 3), stride=(2, 2), padding=(1, 1))\n",
              "    (1): GeneralRelu()\n",
              "  )\n",
              "  (4): Sequential(\n",
              "    (0): Conv2d(64, 64, kernel_size=(3, 3), stride=(2, 2), padding=(1, 1))\n",
              "    (1): GeneralRelu()\n",
              "  )\n",
              "  (5): AdaptiveAvgPool2d(output_size=1)\n",
              "  (6): Lambda()\n",
              "  (7): Linear(in_features=64, out_features=10, bias=True)\n",
              ")"
            ]
          },
          "metadata": {},
          "execution_count": 7
        }
      ]
    },
    {
      "cell_type": "code",
      "metadata": {
        "colab": {
          "base_uri": "https://localhost:8080/"
        },
        "id": "1rSlAkpzjIQu",
        "outputId": "3ddeeee8-509a-47dd-eb1f-bdb3e55812c3"
      },
      "source": [
        "[(i, getattr(learn.opt.param_groups[-1], i)) for i in dir(learn.opt.param_groups[-1]) if i.startswith('__')]"
      ],
      "execution_count": 21,
      "outputs": [
        {
          "output_type": "execute_result",
          "data": {
            "text/plain": [
              "[('__class__', dict),\n",
              " ('__contains__', <function dict.__contains__>),\n",
              " ('__delattr__',\n",
              "  <method-wrapper '__delattr__' of dict object at 0x7f3c7a321820>),\n",
              " ('__delitem__',\n",
              "  <method-wrapper '__delitem__' of dict object at 0x7f3c7a321820>),\n",
              " ('__dir__', <function dict.__dir__>),\n",
              " ('__doc__',\n",
              "  \"dict() -> new empty dictionary\\ndict(mapping) -> new dictionary initialized from a mapping object's\\n    (key, value) pairs\\ndict(iterable) -> new dictionary initialized as if via:\\n    d = {}\\n    for k, v in iterable:\\n        d[k] = v\\ndict(**kwargs) -> new dictionary initialized with the name=value pairs\\n    in the keyword argument list.  For example:  dict(one=1, two=2)\"),\n",
              " ('__eq__', <method-wrapper '__eq__' of dict object at 0x7f3c7a321820>),\n",
              " ('__format__', <function dict.__format__>),\n",
              " ('__ge__', <method-wrapper '__ge__' of dict object at 0x7f3c7a321820>),\n",
              " ('__getattribute__',\n",
              "  <method-wrapper '__getattribute__' of dict object at 0x7f3c7a321820>),\n",
              " ('__getitem__', <function dict.__getitem__>),\n",
              " ('__gt__', <method-wrapper '__gt__' of dict object at 0x7f3c7a321820>),\n",
              " ('__hash__', None),\n",
              " ('__init__', <method-wrapper '__init__' of dict object at 0x7f3c7a321820>),\n",
              " ('__init_subclass__', <function dict.__init_subclass__>),\n",
              " ('__iter__', <method-wrapper '__iter__' of dict object at 0x7f3c7a321820>),\n",
              " ('__le__', <method-wrapper '__le__' of dict object at 0x7f3c7a321820>),\n",
              " ('__len__', <method-wrapper '__len__' of dict object at 0x7f3c7a321820>),\n",
              " ('__lt__', <method-wrapper '__lt__' of dict object at 0x7f3c7a321820>),\n",
              " ('__ne__', <method-wrapper '__ne__' of dict object at 0x7f3c7a321820>),\n",
              " ('__new__', <function dict.__new__>),\n",
              " ('__reduce__', <function dict.__reduce__>),\n",
              " ('__reduce_ex__', <function dict.__reduce_ex__>),\n",
              " ('__repr__', <method-wrapper '__repr__' of dict object at 0x7f3c7a321820>),\n",
              " ('__setattr__',\n",
              "  <method-wrapper '__setattr__' of dict object at 0x7f3c7a321820>),\n",
              " ('__setitem__',\n",
              "  <method-wrapper '__setitem__' of dict object at 0x7f3c7a321820>),\n",
              " ('__sizeof__', <function dict.__sizeof__>),\n",
              " ('__str__', <method-wrapper '__str__' of dict object at 0x7f3c7a321820>),\n",
              " ('__subclasshook__', <function dict.__subclasshook__>)]"
            ]
          },
          "metadata": {},
          "execution_count": 21
        }
      ]
    },
    {
      "cell_type": "code",
      "metadata": {
        "colab": {
          "base_uri": "https://localhost:8080/"
        },
        "id": "aN4J-_jqiqkJ",
        "outputId": "56dcf0ec-3a59-4f18-aa65-1391a9bc7789"
      },
      "source": [
        "learn.opt.param_groups[-1].keys()"
      ],
      "execution_count": 22,
      "outputs": [
        {
          "output_type": "execute_result",
          "data": {
            "text/plain": [
              "dict_keys(['params', 'lr', 'momentum', 'dampening', 'weight_decay', 'nesterov'])"
            ]
          },
          "metadata": {},
          "execution_count": 22
        }
      ]
    },
    {
      "cell_type": "code",
      "metadata": {
        "colab": {
          "base_uri": "https://localhost:8080/"
        },
        "id": "iPJMgGfblous",
        "outputId": "c2218e77-58e2-4c99-c63b-705e1f498ce7"
      },
      "source": [
        "run.in_train"
      ],
      "execution_count": 26,
      "outputs": [
        {
          "output_type": "execute_result",
          "data": {
            "text/plain": [
              "False"
            ]
          },
          "metadata": {},
          "execution_count": 26
        }
      ]
    },
    {
      "cell_type": "code",
      "metadata": {
        "id": "ZhbASzOlhV_Q"
      },
      "source": [
        "class Recorder(Callback):\n",
        "    def begin_fit(self):\n",
        "        self.lrs, self.losses = [], []\n",
        "    \n",
        "    def after_batch(self):\n",
        "        if not self.in_train: return\n",
        "        self.lrs.apppend(self.opt.param_groups[-1]['lr'])\n",
        "        self.losses.apppend(self.loss.detach().cpu())\n",
        "    \n",
        "    def plot_lr(self): plt.plot(self.lrs)\n",
        "\n",
        "    def plot_loss(self): plt.plot(self.losses)"
      ],
      "execution_count": 23,
      "outputs": []
    },
    {
      "cell_type": "code",
      "metadata": {
        "id": "LIgEv-qihPoA"
      },
      "source": [
        "class ParamScheduler(Callback):\n",
        "    def __init__(self, pname, sched_func): self.pname, self.sched_func = pname, sched_func\n",
        "\n",
        "    def set_param(self):\n",
        "        for pg in self.opt.param_groups:\n",
        "            pg[self.pname] = self.sched_func(self.n_epochs / self.epochs)\n",
        "\n",
        "    def begin_batch(self):\n",
        "        if not self.in_train: return\n",
        "        self.set_param()"
      ],
      "execution_count": 27,
      "outputs": []
    },
    {
      "cell_type": "code",
      "metadata": {
        "id": "_KAIlot9kuh5"
      },
      "source": [
        "??CudaCallback"
      ],
      "execution_count": 24,
      "outputs": []
    },
    {
      "cell_type": "code",
      "metadata": {
        "id": "56QfXnksg4em"
      },
      "source": [
        "def annealer(f):\n",
        "    def _inner(start, end): return partial(f, start, end)\n",
        "    return _inner"
      ],
      "execution_count": 22,
      "outputs": []
    },
    {
      "cell_type": "code",
      "metadata": {
        "id": "gJoXoX3rhM62"
      },
      "source": [
        "@annealer\n",
        "def sched_lin(start, end, pos):\n",
        "    return start + pos * (end-start)"
      ],
      "execution_count": 23,
      "outputs": []
    },
    {
      "cell_type": "code",
      "metadata": {
        "id": "EAkw5hCqowNF"
      },
      "source": [
        "@annealer\n",
        "def sched_exp(start, end, pos):\n",
        "    return start * (end / start) ** pos"
      ],
      "execution_count": 24,
      "outputs": []
    },
    {
      "cell_type": "code",
      "metadata": {
        "id": "dBnuGU3doyb0"
      },
      "source": [
        "@annealer\n",
        "def sched_cos(start, end, pos):\n",
        "    return start + ( 1+ math.cos(math.pi*(1-pos))) * (end-start) / 2"
      ],
      "execution_count": 25,
      "outputs": []
    },
    {
      "cell_type": "code",
      "metadata": {
        "colab": {
          "base_uri": "https://localhost:8080/",
          "height": 428
        },
        "id": "c6z03kYBoc43",
        "outputId": "4bc46a0f-2a96-4e54-faac-09b1b0390b73"
      },
      "source": [
        "schedulers = [sched_lin, sched_cos, sched_exp]\n",
        "\n",
        "fig, axes = plt.subplots(1, 3, figsize=(15,7))\n",
        "for ax, sched_fn in zip(axes, schedulers):\n",
        "    poses = torch.linspace(0.01, 1, 100)\n",
        "    f = sched_fn(1e-2, 2)\n",
        "    ax.plot(poses, [f(point) for point in poses])"
      ],
      "execution_count": 34,
      "outputs": [
        {
          "output_type": "display_data",
          "data": {
            "image/png": "[encoded data removed]",
            "text/plain": [
              "<Figure size 1080x504 with 3 Axes>"
            ]
          },
          "metadata": {
            "needs_background": "light"
          }
        }
      ]
    },
    {
      "cell_type": "code",
      "metadata": {
        "collapsed": true,
        "id": "G3Lgt0IAvtVn"
      },
      "source": [
        "!pip install -qq ipdb\n",
        "import ipdb"
      ],
      "execution_count": 35,
      "outputs": []
    },
    {
      "cell_type": "code",
      "metadata": {
        "id": "NjRB7Hmtp3Fn"
      },
      "source": [
        "def combine_sched(percentages, schedulers):\n",
        "    assert sum(percentages) == 1.\n",
        "    pctgs = torch.tensor([0] + percentages)\n",
        "    assert all(percentages) > 0.\n",
        "    pctgs = torch.cumsum(pctgs, dim=0)\n",
        "    def _inner(pos):\n",
        "        # pick up sched function index corresponded to positioned percentage\n",
        "        # ipdb.set_trace()\n",
        "        idx = (pctgs < pos).nonzero().max()\n",
        "        if idx == len(pctgs): idx -= 1\n",
        "        act_pos = (pos - pctgs[idx]) / (pctgs[idx+1]- pctgs[idx])\n",
        "        # print(idx, act_pos, schedulers[idx])\n",
        "        return schedulers[idx](act_pos)\n",
        "        # return idx\n",
        "    return _inner"
      ],
      "execution_count": 44,
      "outputs": []
    },
    {
      "cell_type": "code",
      "metadata": {
        "id": "ftoya2UBtW1e"
      },
      "source": [
        "scheds = [sched_lin(0.01, 0.1), sched_cos(0.1, 0.9), sched_cos(0.9, 0.3)]\n",
        "f = combine_sched([0.1, 0.3, 0.6], scheds)"
      ],
      "execution_count": 45,
      "outputs": []
    },
    {
      "cell_type": "code",
      "metadata": {
        "colab": {
          "base_uri": "https://localhost:8080/",
          "height": 609
        },
        "id": "1hd58-R1ufEj",
        "outputId": "4658578d-c52f-4df4-d080-a082766dfeff"
      },
      "source": [
        "plt.figure(figsize=(20,10))\n",
        "points = torch.linspace(0.01, 1, 100)\n",
        "plt.plot(points , [f(o) for o in points])"
      ],
      "execution_count": 52,
      "outputs": [
        {
          "output_type": "execute_result",
          "data": {
            "text/plain": [
              "[<matplotlib.lines.Line2D at 0x7fcbf82d2090>]"
            ]
          },
          "metadata": {},
          "execution_count": 52
        },
        {
          "output_type": "display_data",
          "data": {
            "image/png": "[encoded data removed]",
            "text/plain": [
              "<Figure size 1440x720 with 1 Axes>"
            ]
          },
          "metadata": {
            "needs_background": "light"
          }
        }
      ]
    },
    {
      "cell_type": "code",
      "metadata": {
        "id": "yxGtv9JwznR1"
      },
      "source": [
        ""
      ],
      "execution_count": null,
      "outputs": []
    }
  ]
}