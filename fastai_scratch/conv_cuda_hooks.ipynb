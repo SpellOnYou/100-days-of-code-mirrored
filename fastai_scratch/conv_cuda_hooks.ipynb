{
  "nbformat": 4,
  "nbformat_minor": 0,
  "metadata": {
    "colab": {
      "name": "conv-cuda-hooks.ipynb",
      "provenance": [],
      "collapsed_sections": []
    },
    "kernelspec": {
      "name": "python3",
      "display_name": "Python 3"
    },
    "language_info": {
      "name": "python"
    },
    "accelerator": "GPU"
  },
  "cells": [
    {
      "cell_type": "code",
      "metadata": {
        "colab": {
          "base_uri": "https://localhost:8080/"
        },
        "id": "j2zEkVsLPovR",
        "outputId": "d335cf65-7490-4ca0-acd0-ecc25a9700c7"
      },
      "source": [
        "# !git clone https://github.com/fastai/course-v3/\n",
        "# %load_ext autoreload\n",
        "# %autoreload 2\n",
        "# %matplotlib inline\n",
        "%cd /content/course-v3/nbs/dl2/\n",
        "from exp.nb_05b import *"
      ],
      "execution_count": 2,
      "outputs": [
        {
          "output_type": "stream",
          "name": "stdout",
          "text": [
            "/content/course-v3/nbs/dl2\n"
          ]
        }
      ]
    },
    {
      "cell_type": "code",
      "metadata": {
        "id": "3DOxqS_QPs55"
      },
      "source": [
        "def get_data():\n",
        "    # path = datasets.download_data(MNIST_URL, ext='.gz')\n",
        "    path = '/content/mnist.pkl.gz'\n",
        "    with gzip.open(path, 'rb') as f:\n",
        "        ((x_train, y_train), (x_valid, y_valid), _) = pickle.load(f, encoding='latin-1')\n",
        "    return map(tensor, (x_train,y_train,x_valid,y_valid))"
      ],
      "execution_count": 3,
      "outputs": []
    },
    {
      "cell_type": "code",
      "metadata": {
        "colab": {
          "base_uri": "https://localhost:8080/",
          "height": 35
        },
        "id": "k1Dg0SsrS5c7",
        "outputId": "2ead0aa9-8b58-474c-e5ed-0c067c7c7561"
      },
      "source": [
        "import inspect; inspect.getsource(normalize)"
      ],
      "execution_count": 4,
      "outputs": [
        {
          "output_type": "execute_result",
          "data": {
            "application/vnd.google.colaboratory.intrinsic+json": {
              "type": "string"
            },
            "text/plain": [
              "'def normalize(x, m, s): return (x-m)/s\\n'"
            ]
          },
          "metadata": {},
          "execution_count": 4
        }
      ]
    },
    {
      "cell_type": "code",
      "metadata": {
        "id": "sGR4_j94PvMW"
      },
      "source": [
        "x_train, y_train, x_valid, y_valid = get_data()\n",
        "def normalize_to(x_train, x_valid):\n",
        "    m, s = x_train.mean(), x_train.std()\n",
        "    return (x_train-m)/s, (x_valid-m)/s\n",
        "x_train, x_valid = normalize_to(x_train, x_valid)\n",
        "\n",
        "train_ds, valid_ds = Dataset(x_train, y_train), Dataset(x_valid, y_valid)\n",
        "nh, bs = 50, 512\n",
        "c = y_train.max().item()+1"
      ],
      "execution_count": 5,
      "outputs": []
    },
    {
      "cell_type": "code",
      "metadata": {
        "id": "2_QGsWUaQBGo"
      },
      "source": [
        "# cnn\n",
        "class Lambda(nn.Module):\n",
        "    def __init__(self, func):\n",
        "        super().__init__()\n",
        "        self.func = func\n",
        "    def forward(self, x): return self.func(x)\n",
        "\n",
        "def mnist_view(x): return x.view(-1, 1, 28, 28)\n",
        "\n",
        "def flatten(x): return x.view(x.shape[0], -1)\n",
        "\n",
        "def get_cnn_model(data):\n",
        "    return nn.Sequential(\n",
        "        Lambda(mnist_view),\n",
        "        nn.Conv2d(in_channels=1, out_channels=8, kernel_size=5, stride=2, padding=2), nn.ReLU(),\n",
        "        nn.Conv2d(in_channels=8, out_channels=16, kernel_size=3, stride=2, padding=1), nn.ReLU(),\n",
        "        nn.Conv2d(in_channels=16, out_channels=32, kernel_size=3, stride=2, padding=1), nn.ReLU(),\n",
        "        nn.Conv2d(in_channels=32, out_channels=32, kernel_size=3, stride=2, padding=1), nn.ReLU(),\n",
        "        nn.AdaptiveAvgPool2d(1),\n",
        "        Lambda(flatten),\n",
        "        nn.Linear(32, data.c)\n",
        "    )\n",
        "\n",
        "# cuda\n",
        "class CudaCallback(Callback):\n",
        "    def begin_fit(self):\n",
        "        self.model = self.model.cuda()\n",
        "    def begin_batch(self):\n",
        "        self.run.xb, self.run.yb = self.xb.cuda(), self.yb.cuda()    "
      ],
      "execution_count": 12,
      "outputs": []
    },
    {
      "cell_type": "code",
      "metadata": {
        "id": "7KhphVJ_QO0_"
      },
      "source": [
        "device = torch.device('cuda', 0)\n",
        "torch.cuda.set_device(device)"
      ],
      "execution_count": 13,
      "outputs": []
    },
    {
      "cell_type": "code",
      "metadata": {
        "colab": {
          "base_uri": "https://localhost:8080/"
        },
        "id": "c9bezfyoT4kE",
        "outputId": "5fe3cd83-a037-4615-9eba-967ec3fc6538"
      },
      "source": [
        "loss_func = F.cross_entropy\n",
        "data = DataBunch(*get_dls(train_ds, valid_ds, bs), c)\n",
        "\n",
        "cbfs = [Recorder,\n",
        "        partial(AvgStatsCallback, accuracy),\n",
        "        CudaCallback]\n",
        "\n",
        "nfs = [8, 16, 32, 64, 64]\n",
        "model = get_cnn_model(data)\n",
        "opt = optim.SGD(model.parameters(), lr=0.4)\n",
        "learn = Learner(model, opt, loss_func, data)\n",
        "run = Runner(cb_funcs=cbfs)\n",
        "run.fit(3, learn)"
      ],
      "execution_count": 14,
      "outputs": [
        {
          "output_type": "stream",
          "name": "stdout",
          "text": [
            "train: [1.87353046875, tensor(0.3653, device='cuda:0')]\n",
            "valid: [1.05581533203125, tensor(0.6204, device='cuda:0')]\n",
            "train: [0.371524140625, tensor(0.8862, device='cuda:0')]\n",
            "valid: [0.2044984619140625, tensor(0.9372, device='cuda:0')]\n",
            "train: [0.1766173828125, tensor(0.9459, device='cuda:0')]\n",
            "valid: [0.1392503173828125, tensor(0.9591, device='cuda:0')]\n"
          ]
        }
      ]
    },
    {
      "cell_type": "markdown",
      "metadata": {
        "id": "DgqEN9a2Ra_Q"
      },
      "source": [
        "---"
      ]
    },
    {
      "cell_type": "markdown",
      "metadata": {
        "id": "c8lOV8cOWU1R"
      },
      "source": [
        "- A5"
      ]
    },
    {
      "cell_type": "code",
      "metadata": {
        "colab": {
          "base_uri": "https://localhost:8080/"
        },
        "id": "CJFqhc2hYvse",
        "outputId": "16015d2d-4233-40bd-f2a1-21061df95296"
      },
      "source": [
        "xb = next(iter(data.train_dl))[0].view(-1, 1, 28, 28)\n",
        "model = nn.Sequential(\n",
        "        Lambda(mnist_view),\n",
        "        nn.Conv2d(in_channels=1, out_channels=8, kernel_size=5, stride=2, padding=2), nn.ReLU(),\n",
        "        nn.Conv2d(in_channels=8, out_channels=16, kernel_size=3, stride=2, padding=1), nn.ReLU(),\n",
        "        nn.Conv2d(in_channels=16, out_channels=32, kernel_size=3, stride=2, padding=1), nn.ReLU(),\n",
        "        nn.Conv2d(in_channels=32, out_channels=32, kernel_size=3, stride=2, padding=1), nn.ReLU(),\n",
        "        nn.AdaptiveAvgPool2d(1),\n",
        "        # Lambda(flatten),\n",
        "        # nn.Linear(32, data.c)\n",
        "    )\n",
        "model(xb).shape"
      ],
      "execution_count": 40,
      "outputs": [
        {
          "output_type": "execute_result",
          "data": {
            "text/plain": [
              "torch.Size([512, 32, 1, 1])"
            ]
          },
          "metadata": {},
          "execution_count": 40
        }
      ]
    },
    {
      "cell_type": "code",
      "metadata": {
        "colab": {
          "base_uri": "https://localhost:8080/"
        },
        "id": "YFaHN7nSZRrd",
        "outputId": "63707e91-c291-4adf-8f30-bda8ee8fc014"
      },
      "source": [
        "flatten(model(xb)).shape"
      ],
      "execution_count": 37,
      "outputs": [
        {
          "output_type": "execute_result",
          "data": {
            "text/plain": [
              "torch.Size([512, 32])"
            ]
          },
          "metadata": {},
          "execution_count": 37
        }
      ]
    },
    {
      "cell_type": "code",
      "metadata": {
        "colab": {
          "base_uri": "https://localhost:8080/"
        },
        "id": "GkAKwjytZVKs",
        "outputId": "3694ec36-017b-4d9a-eebd-94da15081586"
      },
      "source": [
        "print(inspect.getsource(flatten))"
      ],
      "execution_count": 38,
      "outputs": [
        {
          "output_type": "stream",
          "name": "stdout",
          "text": [
            "def flatten(x): return x.view(x.shape[0], -1)\n",
            "\n"
          ]
        }
      ]
    },
    {
      "cell_type": "code",
      "metadata": {
        "colab": {
          "base_uri": "https://localhost:8080/"
        },
        "id": "65F8q-9fYQ3b",
        "outputId": "f44584d4-7ee4-4a1f-cf46-dc23bcb98967"
      },
      "source": [
        "nfs"
      ],
      "execution_count": 18,
      "outputs": [
        {
          "output_type": "execute_result",
          "data": {
            "text/plain": [
              "[8, 16, 32, 64, 64]"
            ]
          },
          "metadata": {},
          "execution_count": 18
        }
      ]
    },
    {
      "cell_type": "code",
      "metadata": {
        "id": "mjPWk-k2RbhF"
      },
      "source": [
        "def conv2d(ni, nf, ks, stride=2, **kwargs):\n",
        "    return nn.Sequential(\n",
        "        nn.Conv2d(ni, nf, ks, stride, padding=ks//2, **kwargs), nn.ReLU()\n",
        "        )\n",
        "def get_cnn_layers(nfs, data, **kwargs):\n",
        "    nfs = [1] + nfs\n",
        "    return [conv2d(nfs[i], nfs[i+1], 5 if i==0 else 3, **kwargs) for i in range(len(nfs)-1)] + [\n",
        "              nn.MaxPool2d(1), Lambda(flatten), nn.Linear(nfs[-1], data.c)]\n",
        "\n",
        "# we need to unpack the list since list is not a module subclass\n",
        "def get_cnn_model(nfs, data, **kwargs):\n",
        "    return nn.Sequential(*get_cnn_layers(nfs, data, **kwargs))"
      ],
      "execution_count": 49,
      "outputs": []
    },
    {
      "cell_type": "code",
      "metadata": {
        "colab": {
          "base_uri": "https://localhost:8080/"
        },
        "id": "hn64Z1YtRblV",
        "outputId": "eb183187-725e-4184-877e-c626ea3c471c"
      },
      "source": [
        "get_cnn_model(nfs, data)"
      ],
      "execution_count": 50,
      "outputs": [
        {
          "output_type": "execute_result",
          "data": {
            "text/plain": [
              "Sequential(\n",
              "  (0): Sequential(\n",
              "    (0): Conv2d(1, 8, kernel_size=(5, 5), stride=(2, 2), padding=(2, 2))\n",
              "    (1): ReLU()\n",
              "  )\n",
              "  (1): Sequential(\n",
              "    (0): Conv2d(8, 16, kernel_size=(3, 3), stride=(2, 2), padding=(1, 1))\n",
              "    (1): ReLU()\n",
              "  )\n",
              "  (2): Sequential(\n",
              "    (0): Conv2d(16, 32, kernel_size=(3, 3), stride=(2, 2), padding=(1, 1))\n",
              "    (1): ReLU()\n",
              "  )\n",
              "  (3): Sequential(\n",
              "    (0): Conv2d(32, 64, kernel_size=(3, 3), stride=(2, 2), padding=(1, 1))\n",
              "    (1): ReLU()\n",
              "  )\n",
              "  (4): Sequential(\n",
              "    (0): Conv2d(64, 64, kernel_size=(3, 3), stride=(2, 2), padding=(1, 1))\n",
              "    (1): ReLU()\n",
              "  )\n",
              "  (5): MaxPool2d(kernel_size=1, stride=1, padding=0, dilation=1, ceil_mode=False)\n",
              "  (6): Lambda()\n",
              "  (7): Linear(in_features=64, out_features=10, bias=True)\n",
              ")"
            ]
          },
          "metadata": {},
          "execution_count": 50
        }
      ]
    },
    {
      "cell_type": "code",
      "metadata": {
        "id": "CikkOESBRbqa"
      },
      "source": [
        "|"
      ],
      "execution_count": null,
      "outputs": []
    }
  ]
}