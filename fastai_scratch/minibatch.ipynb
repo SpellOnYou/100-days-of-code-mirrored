{
  "nbformat": 4,
  "nbformat_minor": 0,
  "metadata": {
    "colab": {
      "name": "minibatch.ipynb",
      "provenance": [],
      "collapsed_sections": []
    },
    "kernelspec": {
      "name": "python3",
      "display_name": "Python 3"
    },
    "language_info": {
      "name": "python"
    }
  },
  "cells": [
    {
      "cell_type": "code",
      "metadata": {
        "id": "70gryhdPEefI"
      },
      "source": [
        "import gzip, pickle\n",
        "from torch import tensor"
      ],
      "execution_count": null,
      "outputs": []
    },
    {
      "cell_type": "code",
      "metadata": {
        "id": "tMPtL0ZLEnU3"
      },
      "source": [
        "from torch.functional import F"
      ],
      "execution_count": null,
      "outputs": []
    },
    {
      "cell_type": "code",
      "metadata": {
        "id": "3D4B1QDOCeSO"
      },
      "source": [
        "from torch import nn\n",
        "import torch"
      ],
      "execution_count": null,
      "outputs": []
    },
    {
      "cell_type": "code",
      "metadata": {
        "id": "-ZosG17cuMcc"
      },
      "source": [
        "def get_data():\n",
        "    # path = datasets.download_data(MNIST_URL, ext='.gz')\n",
        "    path = '/content/mnist.pkl.gz'\n",
        "    with gzip.open(path, 'rb') as f:\n",
        "        ((x_train, y_train), (x_valid, y_valid), _) = pickle.load(f, encoding='latin-1')\n",
        "    return map(tensor, (x_train,y_train,x_valid,y_valid))"
      ],
      "execution_count": null,
      "outputs": []
    },
    {
      "cell_type": "code",
      "metadata": {
        "id": "3P1OtuBREQHd"
      },
      "source": [
        "x_train, y_train, x_valid, y_valid = get_data()\n",
        "nh, bs = 50, 512\n",
        "c = y_train.max().item()+1\n",
        "loss_func = F.cross_entropy"
      ],
      "execution_count": null,
      "outputs": []
    },
    {
      "cell_type": "code",
      "metadata": {
        "id": "Rz-UCON9EbjW"
      },
      "source": [
        "class DummyModule():\n",
        "    def __init__(self, n_in, nh, n_out):\n",
        "        self._modules = {}\n",
        "        self.l1 = nn.Linear(n_in,nh)\n",
        "        self.l2 = nn.Linear(nh,n_out)\n",
        "        \n",
        "    def __setattr__(self,k,v):\n",
        "        if not k.startswith(\"_\"): self._modules[k] = v\n",
        "        super().__setattr__(k,v)\n",
        "        \n",
        "    def __repr__(self): return f'{self._modules}'\n",
        "    \n",
        "    def parameters(self):\n",
        "        for l in self._modules.values():\n",
        "            for p in l.parameters(): yield p\n",
        "\n",
        "    def __call__(self, x): return self.l2(F.relu(self.l1(x)))\n",
        "\n",
        "    def zero_grad(self):\n",
        "        for p in self.parameters():\n",
        "            p.grad.data.zero_()"
      ],
      "execution_count": null,
      "outputs": []
    },
    {
      "cell_type": "code",
      "metadata": {
        "id": "myVBrhLfEqIK"
      },
      "source": [
        "def fit():\n",
        "    for epoch in range(epochs):\n",
        "        for i in range((n-1)//bs + 1):\n",
        "            start_i = i*bs\n",
        "            end_i = start_i+bs\n",
        "            xb = x_train[start_i:end_i]\n",
        "            yb = y_train[start_i:end_i]\n",
        "            loss = loss_func(model(xb), yb)\n",
        "\n",
        "            loss.backward()\n",
        "            with torch.no_grad():\n",
        "                for p in model.parameters(): p -= p.grad * lr\n",
        "            model.zero_grad()"
      ],
      "execution_count": null,
      "outputs": []
    },
    {
      "cell_type": "code",
      "metadata": {
        "id": "aUPf5V-OE0T3"
      },
      "source": [
        "epochs, n, lr = 1, x_train.shape[0], 0.5\n",
        "model = DummyModule(x_train.shape[1], nh, 10)\n",
        "fit()"
      ],
      "execution_count": null,
      "outputs": []
    },
    {
      "cell_type": "markdown",
      "metadata": {
        "id": "DL0CgtxgEQL4"
      },
      "source": [
        "---"
      ]
    },
    {
      "cell_type": "code",
      "metadata": {
        "id": "OURGZrmbFcoY"
      },
      "source": [
        "#  A8\n",
        "class Optimizer():\n",
        "    def __init__(self, params, lr): self.params, self.lr = list(params), lr\n",
        "    def zero_grad(self):\n",
        "        for p in self.params:\n",
        "            p.grad.data.zero_()\n",
        "\n",
        "    def step(self):\n",
        "        with torch.no_grad():\n",
        "            for p in self.params:\n",
        "                p -= p.grad * self.lr\n",
        "\n",
        "def fit():\n",
        "    for epoch in range(epochs):\n",
        "        for i in range((n-1)//bs + 1):\n",
        "            start_i = i*bs\n",
        "            end_i = start_i+bs\n",
        "            xb = x_train[start_i:end_i]\n",
        "            yb = y_train[start_i:end_i]\n",
        "            loss = loss_func(model(xb), yb)\n",
        "\n",
        "            loss.backward()\n",
        "            opt.step()\n",
        "            opt.zero_grad()"
      ],
      "execution_count": null,
      "outputs": []
    },
    {
      "cell_type": "code",
      "metadata": {
        "id": "SznWFtPtE6N1",
        "colab": {
          "base_uri": "https://localhost:8080/"
        },
        "outputId": "43d4b61d-be44-4d77-f73a-cc96f01046c8"
      },
      "source": [
        "model = nn.Sequential(nn.Linear(x_train.shape[1], nh), nn.ReLU(), nn.Linear(nh, c))\n",
        "# accuracy-before train\n",
        "print((model(x_train[:bs]).max(-1).indices == y_train[:bs]).sum()/ bs)\n",
        "opt = Optimizer(model.parameters(), 0.9)\n",
        "fit()\n",
        "print((model(x_train[:bs]).max(-1).indices == y_train[:bs]).sum()/ bs)"
      ],
      "execution_count": null,
      "outputs": [
        {
          "output_type": "stream",
          "name": "stdout",
          "text": [
            "tensor(0.1250)\n",
            "tensor(0.9062)\n"
          ]
        }
      ]
    },
    {
      "cell_type": "code",
      "metadata": {
        "id": "O5bKbn-JGQnd"
      },
      "source": [
        "from torch import optim\n",
        "def get_model(model_func, lr=0.9):\n",
        "    model = nn.Sequential(*model_func())\n",
        "    return model, optim.SGD(model.parameters(), lr=lr)"
      ],
      "execution_count": null,
      "outputs": []
    },
    {
      "cell_type": "code",
      "metadata": {
        "id": "XHz791e0Gwtq"
      },
      "source": [
        "def get_layers():\n",
        "    return nn.Linear(x_train.shape[1], nh), nn.ReLU(), nn.Linear(nh, c)"
      ],
      "execution_count": null,
      "outputs": []
    },
    {
      "cell_type": "code",
      "metadata": {
        "id": "PGHeD6_NH-Tf",
        "colab": {
          "base_uri": "https://localhost:8080/"
        },
        "outputId": "48649c8d-e34f-4fa6-f09e-64393b5ea04d"
      },
      "source": [
        "epochs = 100\n",
        "model, opt = get_model(get_layers, lr = 0.001)\n",
        "print((model(x_train[:bs]).max(-1).indices == y_train[:bs]).sum()/ bs)\n",
        "fit()\n",
        "print((model(x_train[:bs]).max(-1).indices == y_train[:bs]).sum()/ bs)"
      ],
      "execution_count": null,
      "outputs": [
        {
          "output_type": "stream",
          "name": "stdout",
          "text": [
            "tensor(0.0586)\n",
            "tensor(0.8574)\n"
          ]
        }
      ]
    },
    {
      "cell_type": "markdown",
      "metadata": {
        "id": "R5GMtO3_IORf"
      },
      "source": [
        "----"
      ]
    },
    {
      "cell_type": "markdown",
      "metadata": {
        "id": "f75BBskYjkqH"
      },
      "source": [
        "10\n",
        "```python3\n",
        "class Dataset():\n",
        "    def __init__(self, x, y): self.x, self.y = x, y\n",
        "    def __len__(self): return len(self.x)\n",
        "    def __getitem__(self, i): return self.x[i], self.y[i]\n",
        "\n",
        "train_ds = Dataset(x_train, y_train)\n",
        "for epoch in range(epochs):\n",
        "    for i in range((n-1)//bs +1):\n",
        "        xb, yb = train_ds[i*bs:(i+1)*bs]\n",
        "        pred = model(xb)\n",
        "        loss = loss_func(pred, yb)\n",
        "\n",
        "        loss.backward()\n",
        "        opt.step()\n",
        "        opt.zero_grad()\n",
        "model = nn.Sequential(nn.Linear(x_train.shape[1], nh), nn.ReLU(), nn.Linear(nh, c))\n",
        "loss,acc = loss_func(model(xb), yb), accuracy(model(xb), yb)\n",
        "```\n",
        "\n",
        "\n",
        "A11\n",
        "```python3\n",
        "class DataLoader():\n",
        "    def __init__(self, ds, bs): self.ds, self.bs = ds, bs\n",
        "    def __iter__(self):\n",
        "        for i in range(0, len(self.ds), self.bs): yield self.ds[i:i+self.bs]\n",
        "\n",
        "loss_func = F.cross_entropy\n",
        "model, opt = get_model(get_layers, lr = 0.001)\n",
        "train_dl = DataLoader(train_ds, bs)\n",
        "\n",
        "for epoch in range(epochs):\n",
        "    for xb, yb in train_dl:\n",
        "        pred = model(xb)\n",
        "        loss = loss_func(pred, yb)\n",
        "        opt.step()\n",
        "        opt.zero_grad()\n",
        "```"
      ]
    },
    {
      "cell_type": "code",
      "metadata": {
        "id": "Iyvhnl15jrlg"
      },
      "source": [
        "class Sampler():\n",
        "    def __init__(self, ds, bs, shuffle=False):\n",
        "        self.n, self.bs, self.shuffle = len(ds), bs, shuffle\n",
        "    def __iter__(self):\n",
        "        self.idxs = torch.randperm(self.n) if self.shuffle else torch.arange(self.n)\n",
        "        for i in range(0, self.n, self.bs): yield self.idxs[i:i+self.bs]\n",
        "\n",
        "small_ds = Dataset(*train_ds[:50])\n",
        "os = Sampler(small_ds, 10, True)\n",
        "[o for o in os]\n",
        "\n",
        "os = Sampler(small_ds, 10, True)\n",
        "[o for o in os]\n",
        "\n",
        "def collate(batch):\n",
        "    # ipdb.set_trace()\n",
        "    xs, ys = zip(*batch)\n",
        "    return torch.stack(xs), torch.stack(ys)\n",
        "\n",
        "class DataLoader():\n",
        "    def __init__(self, ds, sampler, collate_fn = collate):\n",
        "        self.ds, self.sampler, self.collate_fn = ds, sampler, collate_fn\n",
        "    def __iter__(self):\n",
        "        # ipdb.set_trace()\n",
        "        for s in self.sampler: yield self.collate_fn([self.ds[i] for i in s])        "
      ],
      "execution_count": 45,
      "outputs": []
    },
    {
      "cell_type": "code",
      "metadata": {
        "id": "aZsdL3CAsqdD",
        "outputId": "8c774778-7196-44a1-8077-fdd4ed9b72d2",
        "colab": {
          "base_uri": "https://localhost:8080/"
        }
      },
      "source": [
        "train_samp = Sampler(small_ds, bs, shuffle=True)\n",
        "train_dl = DataLoader(small_ds, sampler=train_samp, collate_fn=collate)\n",
        "next(iter(train_dl))\n",
        "\n",
        "# unpacking test list\n",
        "test_list = [('x1', 'y1'), ('x2', 'y2'), ('x3', 'y2')]\n",
        "list(zip(*test_list))\n",
        "for i in zip(*test_list):\n",
        "    print(i)\n",
        "    break"
      ],
      "execution_count": 46,
      "outputs": [
        {
          "output_type": "execute_result",
          "data": {
            "text/plain": [
              "(tensor([[0., 0., 0.,  ..., 0., 0., 0.],\n",
              "         [0., 0., 0.,  ..., 0., 0., 0.],\n",
              "         [0., 0., 0.,  ..., 0., 0., 0.],\n",
              "         ...,\n",
              "         [0., 0., 0.,  ..., 0., 0., 0.],\n",
              "         [0., 0., 0.,  ..., 0., 0., 0.],\n",
              "         [0., 0., 0.,  ..., 0., 0., 0.]]),\n",
              " tensor([4, 2, 8, 9, 9, 5, 4, 9, 6, 3, 5, 5, 1, 5, 7, 4, 0, 8, 3, 1, 2, 1, 3, 0,\n",
              "         3, 0, 3, 7, 6, 1, 8, 1, 6, 6, 0, 2, 3, 9, 9, 6, 2, 1, 8, 9, 4, 7, 9, 3,\n",
              "         7, 1]))"
            ]
          },
          "metadata": {},
          "execution_count": 46
        }
      ]
    },
    {
      "cell_type": "code",
      "metadata": {
        "id": "T_b7O4QEAM_n"
      },
      "source": [
        ""
      ],
      "execution_count": null,
      "outputs": []
    }
  ]
}