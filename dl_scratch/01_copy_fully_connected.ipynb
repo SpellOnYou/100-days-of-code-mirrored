{
  "nbformat": 4,
  "nbformat_minor": 0,
  "metadata": {
    "colab": {
      "name": "01_copy_fully_connected.ipynb",
      "provenance": [],
      "collapsed_sections": [],
      "toc_visible": true
    },
    "kernelspec": {
      "name": "python3",
      "display_name": "Python 3"
    }
  },
  "cells": [
    {
      "cell_type": "markdown",
      "metadata": {
        "id": "_Q37CBY1k3CT",
        "colab_type": "text"
      },
      "source": [
        "[course video and other materials](https://course.fast.ai/videos/?lesson=8)"
      ]
    },
    {
      "cell_type": "markdown",
      "metadata": {
        "id": "ehBEk5n22Aaf",
        "colab_type": "text"
      },
      "source": [
        "# Setting"
      ]
    },
    {
      "cell_type": "code",
      "metadata": {
        "id": "rRBxdIU8OaOP",
        "colab_type": "code",
        "colab": {}
      },
      "source": [
        "%load_ext autoreload\n",
        "%autoreload 2\n",
        "%matplotlib inline"
      ],
      "execution_count": null,
      "outputs": []
    },
    {
      "cell_type": "code",
      "metadata": {
        "id": "3OK9-KtMOrvw",
        "colab_type": "code",
        "colab": {
          "base_uri": "https://localhost:8080/",
          "height": 121
        },
        "outputId": "8b11f7f6-71c5-4d81-831c-5c5ddfc9b97a"
      },
      "source": [
        "!git clone https://github.com/fastai/course-v3.git"
      ],
      "execution_count": null,
      "outputs": [
        {
          "output_type": "stream",
          "text": [
            "Cloning into 'course-v3'...\n",
            "remote: Enumerating objects: 5498, done.\u001b[K\n",
            "remote: Total 5498 (delta 0), reused 0 (delta 0), pack-reused 5498\u001b[K\n",
            "Receiving objects: 100% (5498/5498), 258.00 MiB | 31.68 MiB/s, done.\n",
            "Resolving deltas: 100% (2992/2992), done.\n",
            "Checking out files: 100% (860/860), done.\n"
          ],
          "name": "stdout"
        }
      ]
    },
    {
      "cell_type": "code",
      "metadata": {
        "id": "TUeeU7yNPICJ",
        "colab_type": "code",
        "colab": {
          "base_uri": "https://localhost:8080/",
          "height": 35
        },
        "outputId": "9667e140-e96b-46a7-f743-8e9900944cf0"
      },
      "source": [
        "%cd /content/course-v3/nbs/dl2/"
      ],
      "execution_count": null,
      "outputs": [
        {
          "output_type": "stream",
          "text": [
            "/content/course-v3/nbs/dl2\n"
          ],
          "name": "stdout"
        }
      ]
    },
    {
      "cell_type": "code",
      "metadata": {
        "id": "PRubeqxKPWgW",
        "colab_type": "code",
        "colab": {}
      },
      "source": [
        "from exp.nb_01 import *"
      ],
      "execution_count": null,
      "outputs": []
    },
    {
      "cell_type": "code",
      "metadata": {
        "id": "Kv2o-ZqJv2pK",
        "colab_type": "code",
        "colab": {
          "base_uri": "https://localhost:8080/",
          "height": 35
        },
        "outputId": "f87044b8-5bc1-474c-8ff7-ced867839673"
      },
      "source": [
        "MNIST_URL"
      ],
      "execution_count": null,
      "outputs": [
        {
          "output_type": "execute_result",
          "data": {
            "application/vnd.google.colaboratory.intrinsic": {
              "type": "string"
            },
            "text/plain": [
              "'http://deeplearning.net/data/mnist/mnist.pkl'"
            ]
          },
          "metadata": {
            "tags": []
          },
          "execution_count": 10
        }
      ]
    },
    {
      "cell_type": "code",
      "metadata": {
        "id": "1LuZ3hSVPay7",
        "colab_type": "code",
        "colab": {}
      },
      "source": [
        "def get_data():\n",
        "    data = datasets.download_data(MNIST_URL, ext=\".gz\")\n",
        "    with gzip.open(data, 'rb') as f:\n",
        "        ((train_x, train_y),(valid_x, valid_y), _) = pickle.load(f, encoding='latin-1')\n",
        "    return(map(tensor, (train_x, train_y, valid_x, valid_y)))"
      ],
      "execution_count": null,
      "outputs": []
    },
    {
      "cell_type": "code",
      "metadata": {
        "id": "-xj7SSSzQ22I",
        "colab_type": "code",
        "colab": {
          "base_uri": "https://localhost:8080/",
          "height": 35
        },
        "outputId": "2d35f879-fada-4dda-eb06-75b62bf87118"
      },
      "source": [
        "train_x, train_y, valid_x, valid_y = get_data()"
      ],
      "execution_count": null,
      "outputs": [
        {
          "output_type": "stream",
          "text": [
            "Downloading http://deeplearning.net/data/mnist/mnist.pkl.gz\n"
          ],
          "name": "stdout"
        },
        {
          "output_type": "display_data",
          "data": {
            "text/html": [
              ""
            ],
            "text/plain": [
              "<IPython.core.display.HTML object>"
            ]
          },
          "metadata": {
            "tags": []
          }
        }
      ]
    },
    {
      "cell_type": "code",
      "metadata": {
        "id": "_k2LYJJcRW8A",
        "colab_type": "code",
        "colab": {}
      },
      "source": [
        "train_mean, train_std = train_x.mean(), train_x.std()"
      ],
      "execution_count": null,
      "outputs": []
    },
    {
      "cell_type": "code",
      "metadata": {
        "id": "u-gOPIAhRdkV",
        "colab_type": "code",
        "colab": {
          "base_uri": "https://localhost:8080/",
          "height": 35
        },
        "outputId": "047eae85-f935-4e1b-c815-ae29b3e97308"
      },
      "source": [
        "train_x.mean(), train_x.std(), valid_x.mean(), valid_x.std()"
      ],
      "execution_count": null,
      "outputs": [
        {
          "output_type": "execute_result",
          "data": {
            "text/plain": [
              "(tensor(0.1304), tensor(0.3073), tensor(0.1287), tensor(0.3050))"
            ]
          },
          "metadata": {
            "tags": []
          },
          "execution_count": 9
        }
      ]
    },
    {
      "cell_type": "code",
      "metadata": {
        "id": "7JskvrNhRKzZ",
        "colab_type": "code",
        "colab": {}
      },
      "source": [
        "def normalize(x, m, n): return((x-m)/n)"
      ],
      "execution_count": null,
      "outputs": []
    },
    {
      "cell_type": "code",
      "metadata": {
        "id": "LZ91uisJSJtj",
        "colab_type": "code",
        "colab": {}
      },
      "source": [
        "# important!!!\n",
        "train_x = normalize(train_x, train_mean, train_std)\n",
        "valid_x = normalize(valid_x, train_mean, train_std)"
      ],
      "execution_count": null,
      "outputs": []
    },
    {
      "cell_type": "code",
      "metadata": {
        "id": "VOeQILDfT2UO",
        "colab_type": "code",
        "colab": {
          "base_uri": "https://localhost:8080/",
          "height": 35
        },
        "outputId": "f3d59646-3179-4c87-959b-382868a84d08"
      },
      "source": [
        "train_x.mean(), train_x.std()"
      ],
      "execution_count": null,
      "outputs": [
        {
          "output_type": "execute_result",
          "data": {
            "text/plain": [
              "(tensor(0.0001), tensor(1.))"
            ]
          },
          "metadata": {
            "tags": []
          },
          "execution_count": 12
        }
      ]
    },
    {
      "cell_type": "code",
      "metadata": {
        "id": "ewylnQQkT0X0",
        "colab_type": "code",
        "colab": {
          "base_uri": "https://localhost:8080/",
          "height": 35
        },
        "outputId": "1dc3c2f1-e1dc-420a-d9b7-0dfea125648a"
      },
      "source": [
        "valid_x.std(), valid_x.mean()"
      ],
      "execution_count": null,
      "outputs": [
        {
          "output_type": "execute_result",
          "data": {
            "text/plain": [
              "(tensor(0.9924), tensor(-0.0057))"
            ]
          },
          "metadata": {
            "tags": []
          },
          "execution_count": 13
        }
      ]
    },
    {
      "cell_type": "code",
      "metadata": {
        "id": "UTGlvtTURg6G",
        "colab_type": "code",
        "colab": {}
      },
      "source": [
        "def test_near_zero(x, tol=1e-3): assert x.abs() < tol, f\"Not near zero, value: {x}\""
      ],
      "execution_count": null,
      "outputs": []
    },
    {
      "cell_type": "code",
      "metadata": {
        "id": "rcyHG0FpSLW9",
        "colab_type": "code",
        "colab": {}
      },
      "source": [
        "test_near_zero(train_x.mean())"
      ],
      "execution_count": null,
      "outputs": []
    },
    {
      "cell_type": "code",
      "metadata": {
        "id": "h8-xBzD1SMTG",
        "colab_type": "code",
        "colab": {}
      },
      "source": [
        "test_near_zero(1-train_x.std())"
      ],
      "execution_count": null,
      "outputs": []
    },
    {
      "cell_type": "markdown",
      "metadata": {
        "id": "3kFKSzFcSMe4",
        "colab_type": "text"
      },
      "source": [
        "# Foundation version"
      ]
    },
    {
      "cell_type": "markdown",
      "metadata": {
        "id": "FX-yyMgs2igz",
        "colab_type": "text"
      },
      "source": [
        "## Set Parameters with Adequate method"
      ]
    },
    {
      "cell_type": "code",
      "metadata": {
        "id": "6kpOR6h5gxDF",
        "colab_type": "code",
        "colab": {}
      },
      "source": [
        "# m, n = train_x.shape\n",
        "nh = 80"
      ],
      "execution_count": null,
      "outputs": []
    },
    {
      "cell_type": "code",
      "metadata": {
        "id": "SM6y2gxCglG-",
        "colab_type": "code",
        "colab": {}
      },
      "source": [
        "w1, b1 = torch.randn(n, nh), torch.zeros(nh)"
      ],
      "execution_count": null,
      "outputs": []
    },
    {
      "cell_type": "code",
      "metadata": {
        "id": "Q6xq54eoh29P",
        "colab_type": "code",
        "colab": {}
      },
      "source": [
        "w2, b2 = torch.randn(nh, 1), torch.zeros(1)"
      ],
      "execution_count": null,
      "outputs": []
    },
    {
      "cell_type": "code",
      "metadata": {
        "id": "zC8rn3Q_iP3m",
        "colab_type": "code",
        "colab": {}
      },
      "source": [
        "def describe(x, var: str=''): return(f\"{var} mean: {x.mean()}, std: {x.std()}\")"
      ],
      "execution_count": null,
      "outputs": []
    },
    {
      "cell_type": "code",
      "metadata": {
        "id": "okqvYyXYh6Qg",
        "colab_type": "code",
        "colab": {
          "base_uri": "https://localhost:8080/",
          "height": 35
        },
        "outputId": "350fa69c-8f1f-4768-dead-95406168817a"
      },
      "source": [
        "describe(w1)"
      ],
      "execution_count": null,
      "outputs": [
        {
          "output_type": "execute_result",
          "data": {
            "application/vnd.google.colaboratory.intrinsic": {
              "type": "string"
            },
            "text/plain": [
              "'mean: -0.004014730919152498, std: 1.0009307861328125'"
            ]
          },
          "metadata": {
            "tags": []
          },
          "execution_count": 59
        }
      ]
    },
    {
      "cell_type": "code",
      "metadata": {
        "id": "jDRy_OpLh-qH",
        "colab_type": "code",
        "colab": {
          "base_uri": "https://localhost:8080/",
          "height": 35
        },
        "outputId": "158df020-1f09-457f-de65-7d04d7695741"
      },
      "source": [
        "describe(w2)"
      ],
      "execution_count": null,
      "outputs": [
        {
          "output_type": "execute_result",
          "data": {
            "application/vnd.google.colaboratory.intrinsic": {
              "type": "string"
            },
            "text/plain": [
              "'mean: 0.054591961205005646, std: 0.8732153177261353'"
            ]
          },
          "metadata": {
            "tags": []
          },
          "execution_count": 60
        }
      ]
    },
    {
      "cell_type": "code",
      "metadata": {
        "id": "nXqnNkBQiNSh",
        "colab_type": "code",
        "colab": {}
      },
      "source": [
        "# standard version of xavier\n",
        "w1 = w1/math.sqrt(n)"
      ],
      "execution_count": null,
      "outputs": []
    },
    {
      "cell_type": "code",
      "metadata": {
        "id": "kPdt3piwi3dI",
        "colab_type": "code",
        "colab": {
          "base_uri": "https://localhost:8080/",
          "height": 35
        },
        "outputId": "0d645246-2ed3-4b84-f5dc-44058fddaa6c"
      },
      "source": [
        "describe(w1)"
      ],
      "execution_count": null,
      "outputs": [
        {
          "output_type": "execute_result",
          "data": {
            "application/vnd.google.colaboratory.intrinsic": {
              "type": "string"
            },
            "text/plain": [
              "'mean: -0.00014338297478388995, std: 0.03574752435088158'"
            ]
          },
          "metadata": {
            "tags": []
          },
          "execution_count": 63
        }
      ]
    },
    {
      "cell_type": "code",
      "metadata": {
        "id": "Eiih8OiOjIoe",
        "colab_type": "code",
        "colab": {
          "base_uri": "https://localhost:8080/",
          "height": 35
        },
        "outputId": "7a328f4d-6f23-46f8-d2ed-fd40b188ab82"
      },
      "source": [
        "w2 = w2/math.sqrt(nh)\n",
        "describe(w2)"
      ],
      "execution_count": null,
      "outputs": [
        {
          "output_type": "execute_result",
          "data": {
            "application/vnd.google.colaboratory.intrinsic": {
              "type": "string"
            },
            "text/plain": [
              "'mean: 0.00301930820569396, std: 0.11207561939954758'"
            ]
          },
          "metadata": {
            "tags": []
          },
          "execution_count": 66
        }
      ]
    },
    {
      "cell_type": "code",
      "metadata": {
        "id": "eS6Vme2VjUqv",
        "colab_type": "code",
        "colab": {}
      },
      "source": [
        "def relu(x): return(x.clamp_min(0.))"
      ],
      "execution_count": null,
      "outputs": []
    },
    {
      "cell_type": "code",
      "metadata": {
        "id": "SezT3DnVjxyw",
        "colab_type": "code",
        "colab": {}
      },
      "source": [
        "def lin(x, a, b): return(x@a + b)"
      ],
      "execution_count": null,
      "outputs": []
    },
    {
      "cell_type": "code",
      "metadata": {
        "id": "bqr-eyl4j7LD",
        "colab_type": "code",
        "colab": {
          "base_uri": "https://localhost:8080/",
          "height": 35
        },
        "outputId": "80840148-072a-4bb0-85cf-65a8decfc5dc"
      },
      "source": [
        "describe(t1)\n",
        "t1 = lin(valid_x, w1, b1)"
      ],
      "execution_count": null,
      "outputs": [
        {
          "output_type": "execute_result",
          "data": {
            "application/vnd.google.colaboratory.intrinsic": {
              "type": "string"
            },
            "text/plain": [
              "'mean: -0.008880119770765305, std: 1.0219519138336182'"
            ]
          },
          "metadata": {
            "tags": []
          },
          "execution_count": 72
        }
      ]
    },
    {
      "cell_type": "code",
      "metadata": {
        "id": "ubDXLWCmkBrf",
        "colab_type": "code",
        "colab": {}
      },
      "source": [
        "a1 = relu(t1)"
      ],
      "execution_count": null,
      "outputs": []
    },
    {
      "cell_type": "code",
      "metadata": {
        "id": "5ObvJ4cXkV_S",
        "colab_type": "code",
        "colab": {
          "base_uri": "https://localhost:8080/",
          "height": 35
        },
        "outputId": "fe5e4dd1-e6f6-46da-f7c1-3531e5a09833"
      },
      "source": [
        "describe(a1)"
      ],
      "execution_count": null,
      "outputs": [
        {
          "output_type": "execute_result",
          "data": {
            "application/vnd.google.colaboratory.intrinsic": {
              "type": "string"
            },
            "text/plain": [
              "'mean: 0.3990243077278137, std: 0.605105996131897'"
            ]
          },
          "metadata": {
            "tags": []
          },
          "execution_count": 76
        }
      ]
    },
    {
      "cell_type": "markdown",
      "metadata": {
        "id": "RNbHxxTzkaqy",
        "colab_type": "text"
      },
      "source": [
        "---"
      ]
    },
    {
      "cell_type": "code",
      "metadata": {
        "id": "_Zae8jGFUIra",
        "colab_type": "code",
        "colab": {
          "base_uri": "https://localhost:8080/",
          "height": 35
        },
        "outputId": "50f2c9f2-168a-4258-c2ab-648b98dba4c2"
      },
      "source": [
        "torch.random.initial_seed()"
      ],
      "execution_count": null,
      "outputs": [
        {
          "output_type": "execute_result",
          "data": {
            "text/plain": [
              "16253574395535731340"
            ]
          },
          "metadata": {
            "tags": []
          },
          "execution_count": 25
        }
      ]
    },
    {
      "cell_type": "code",
      "metadata": {
        "id": "JkP4yTlLkeGq",
        "colab_type": "code",
        "colab": {
          "base_uri": "https://localhost:8080/",
          "height": 35
        },
        "outputId": "b81f2115-f2f9-4d15-ede3-8aaab6c3ce25"
      },
      "source": [
        "## Using kaiming initialization\n",
        "w1, b1 = torch.randn(n, nh)*math.sqrt(2/n), torch.zeros(nh)\n",
        "w1.shape"
      ],
      "execution_count": null,
      "outputs": [
        {
          "output_type": "execute_result",
          "data": {
            "text/plain": [
              "torch.Size([784, 80])"
            ]
          },
          "metadata": {
            "tags": []
          },
          "execution_count": 19
        }
      ]
    },
    {
      "cell_type": "markdown",
      "metadata": {
        "id": "fobi_R3inWuz",
        "colab_type": "text"
      },
      "source": [
        "[^1] TODO: Regarding pytorch library, </br>why initialize with zeros?<br/>\n",
        "uniform vs normal diff?"
      ]
    },
    {
      "cell_type": "code",
      "metadata": {
        "id": "eNyPqx3umyqs",
        "colab_type": "code",
        "colab": {}
      },
      "source": [
        "# Initializing parameters\n",
        "from torch.nn import init\n",
        "w1 = torch.zeros(n, nh)\n",
        "init.kaiming_uniform_(w1, mode='fan_out')\n",
        "b1 = torch.zeros(nh)"
      ],
      "execution_count": null,
      "outputs": []
    },
    {
      "cell_type": "markdown",
      "metadata": {
        "id": "KMJQasL-QD7H",
        "colab_type": "text"
      },
      "source": [
        "[^4]: in-place function, I understood they don't return value.</br>Inspect inner code"
      ]
    },
    {
      "cell_type": "code",
      "metadata": {
        "id": "8fHYb3zMSCcp",
        "colab_type": "code",
        "colab": {}
      },
      "source": [
        "w2= torch.zeros(nh, 1)\n",
        "init.kaiming_uniform_(w2, mode='fan_out')\n",
        "b2 = torch.zeros(1)"
      ],
      "execution_count": null,
      "outputs": []
    },
    {
      "cell_type": "markdown",
      "metadata": {
        "id": "iA_IOZdnnHdh",
        "colab_type": "text"
      },
      "source": [
        "[^2]: find yourself, why they are transposing when linear, and then why we should defind fan_out, fan_in conversly?"
      ]
    },
    {
      "cell_type": "code",
      "metadata": {
        "id": "nu-CkcdBnIND",
        "colab_type": "code",
        "colab": {
          "base_uri": "https://localhost:8080/",
          "height": 35
        },
        "outputId": "1bd4a61e-0540-4d7b-b025-56766baf145e"
      },
      "source": [
        "describe(w1)"
      ],
      "execution_count": null,
      "outputs": [
        {
          "output_type": "execute_result",
          "data": {
            "application/vnd.google.colaboratory.intrinsic": {
              "type": "string"
            },
            "text/plain": [
              "'mean: -8.060170512180775e-05, std: 0.05042649805545807'"
            ]
          },
          "metadata": {
            "tags": []
          },
          "execution_count": 116
        }
      ]
    },
    {
      "cell_type": "code",
      "metadata": {
        "id": "P6cxARvIpZB2",
        "colab_type": "code",
        "colab": {}
      },
      "source": [
        "# to make relu with -0.5\n",
        "def relu(x): return(x.clamp_min(0.)-0.5)"
      ],
      "execution_count": null,
      "outputs": []
    },
    {
      "cell_type": "code",
      "metadata": {
        "id": "sET92W2ip6FR",
        "colab_type": "code",
        "colab": {
          "base_uri": "https://localhost:8080/",
          "height": 69
        },
        "outputId": "a99cb36e-1558-45eb-ec15-a7d196859344"
      },
      "source": [
        "l1 = lin(train_x, w1, b1); print(describe(l1, 'linear_1'))\n",
        "a1 = relu(l1); print(describe(a1, 'activation_1'))\n",
        "l2 = lin(a1, w2, b2); print(describe(l2, 'linear_2'))"
      ],
      "execution_count": null,
      "outputs": [
        {
          "output_type": "stream",
          "text": [
            "linear_1 mean: 0.05869802460074425, std: 1.4556964635849\n",
            "activation_1 mean: 0.10449501127004623, std: 0.8618189692497253\n",
            "linear_2 mean: -0.8571696877479553, std: 1.0907652378082275\n"
          ],
          "name": "stdout"
        }
      ]
    },
    {
      "cell_type": "markdown",
      "metadata": {
        "id": "E3BsH2jbS0Dp",
        "colab_type": "text"
      },
      "source": [
        "[^3] still there are lots of shortage.... why mean changed again?"
      ]
    },
    {
      "cell_type": "code",
      "metadata": {
        "id": "He8zWBEQp_V2",
        "colab_type": "code",
        "colab": {}
      },
      "source": [
        "def model(x):\n",
        "    return(lin(relu(lin(x, w1, b1)), w2, b2))\n",
        "\n",
        "preds = model(train_x)"
      ],
      "execution_count": null,
      "outputs": []
    },
    {
      "cell_type": "code",
      "metadata": {
        "id": "-ald-xYyrgdA",
        "colab_type": "code",
        "colab": {
          "base_uri": "https://localhost:8080/",
          "height": 35
        },
        "outputId": "97860bc1-b974-4704-f796-984ed758b666"
      },
      "source": [
        "describe(preds)"
      ],
      "execution_count": null,
      "outputs": [
        {
          "output_type": "execute_result",
          "data": {
            "application/vnd.google.colaboratory.intrinsic": {
              "type": "string"
            },
            "text/plain": [
              "' mean: -0.8571696877479553, std: 1.0907652378082275'"
            ]
          },
          "metadata": {
            "tags": []
          },
          "execution_count": 30
        }
      ]
    },
    {
      "cell_type": "code",
      "metadata": {
        "id": "tlqIP8Rurhd6",
        "colab_type": "code",
        "colab": {
          "base_uri": "https://localhost:8080/",
          "height": 35
        },
        "outputId": "703c5f94-e80c-4af8-edef-dcd6bcaec23d"
      },
      "source": [
        "%timeit -n 10 model(valid_x)"
      ],
      "execution_count": null,
      "outputs": [
        {
          "output_type": "stream",
          "text": [
            "10 loops, best of 3: 17.6 ms per loop\n"
          ],
          "name": "stdout"
        }
      ]
    },
    {
      "cell_type": "markdown",
      "metadata": {
        "id": "P6qxnh0UrnqE",
        "colab_type": "text"
      },
      "source": [
        "## Loss Function: MSE"
      ]
    },
    {
      "cell_type": "code",
      "metadata": {
        "id": "fms7DSd56aKG",
        "colab_type": "code",
        "colab": {}
      },
      "source": [
        "train_y, valid_y = train_y.float(), valid_y.float()"
      ],
      "execution_count": null,
      "outputs": []
    },
    {
      "cell_type": "code",
      "metadata": {
        "id": "FRh3Vf3-6G3I",
        "colab_type": "code",
        "colab": {}
      },
      "source": [
        "def mse(inp, trg): return(((inp.squeeze(-1)-trg).pow(2)).sum()/inp.shape[0])"
      ],
      "execution_count": null,
      "outputs": []
    },
    {
      "cell_type": "code",
      "metadata": {
        "id": "KHoboJB0rpIm",
        "colab_type": "code",
        "colab": {}
      },
      "source": [
        "# def mse(output, targ): return (output.squeeze(-1) - targ).pow(2).mean()"
      ],
      "execution_count": null,
      "outputs": []
    },
    {
      "cell_type": "markdown",
      "metadata": {
        "id": "EM1sEs3c7Tr0",
        "colab_type": "text"
      },
      "source": [
        "## GRADIENT AND BACKWARD PASS"
      ]
    },
    {
      "cell_type": "code",
      "metadata": {
        "id": "aWjquyzd8Kjr",
        "colab_type": "code",
        "colab": {}
      },
      "source": [
        "def mse_grad(inp, trg): inp.g= (inp.squeeze(-1)-trg).unsqueeze(-1)*(2/inp.shape[0])"
      ],
      "execution_count": null,
      "outputs": []
    },
    {
      "cell_type": "code",
      "metadata": {
        "id": "VRJGe-dtVUFV",
        "colab_type": "code",
        "colab": {}
      },
      "source": [
        "mse_grad(preds, train_y)"
      ],
      "execution_count": null,
      "outputs": []
    },
    {
      "cell_type": "code",
      "metadata": {
        "id": "0AFMVEDc4w8B",
        "colab_type": "code",
        "colab": {}
      },
      "source": [
        "def lin_grad(x, y, w, b):\n",
        "    # inp: activation, output: preds\n",
        "    x.g = y.g.view(x.shape[0], -1) @ w.t()\n",
        "    w.g = x.t() @ y.g.view(x.shape[0], -1)\n",
        "    b.g = y.g.sum(0)"
      ],
      "execution_count": null,
      "outputs": []
    },
    {
      "cell_type": "code",
      "metadata": {
        "id": "rRpLzr-rVDTg",
        "colab_type": "code",
        "colab": {
          "base_uri": "https://localhost:8080/",
          "height": 35
        },
        "outputId": "c4f76d0b-83c9-49df-9e8d-7ee8e1ec9e67"
      },
      "source": [
        "%timeit -n 10 lin_grad(a1, preds, w2, b2)"
      ],
      "execution_count": null,
      "outputs": [
        {
          "output_type": "stream",
          "text": [
            "10 loops, best of 3: 7.78 ms per loop\n"
          ],
          "name": "stdout"
        }
      ]
    },
    {
      "cell_type": "code",
      "metadata": {
        "id": "S0l00H9UVP3u",
        "colab_type": "code",
        "colab": {}
      },
      "source": [
        "def lin_grad(x,y,w,b):\n",
        "    x.g = y.g @ w.t()\n",
        "    w.g = x.t() @ y.g\n",
        "    b.g = y.g.sum(0)"
      ],
      "execution_count": null,
      "outputs": []
    },
    {
      "cell_type": "code",
      "metadata": {
        "id": "hUFEcQMdXiMM",
        "colab_type": "code",
        "colab": {
          "base_uri": "https://localhost:8080/",
          "height": 35
        },
        "outputId": "81a9b12e-dd60-4c0d-f9f7-33e196dbbe79"
      },
      "source": [
        "preds.g.shape, w2.t().shape"
      ],
      "execution_count": null,
      "outputs": [
        {
          "output_type": "execute_result",
          "data": {
            "text/plain": [
              "(torch.Size([50000, 1]), torch.Size([1, 80]))"
            ]
          },
          "metadata": {
            "tags": []
          },
          "execution_count": 44
        }
      ]
    },
    {
      "cell_type": "code",
      "metadata": {
        "id": "wxxBDg4XXT90",
        "colab_type": "code",
        "colab": {
          "base_uri": "https://localhost:8080/",
          "height": 35
        },
        "outputId": "5687547a-e80e-4c81-f793-2b463fd3f5fc"
      },
      "source": [
        "%timeit -n 10 lin_grad(a1, preds, w2, b2)"
      ],
      "execution_count": null,
      "outputs": [
        {
          "output_type": "stream",
          "text": [
            "10 loops, best of 3: 7.92 ms per loop\n"
          ],
          "name": "stdout"
        }
      ]
    },
    {
      "cell_type": "code",
      "metadata": {
        "id": "J_nHVswcYQTH",
        "colab_type": "code",
        "colab": {}
      },
      "source": [
        "def relu_grad(inp, out): inp.g = out.g* (inp>0).float()"
      ],
      "execution_count": null,
      "outputs": []
    },
    {
      "cell_type": "code",
      "metadata": {
        "id": "KW3awYDZaBbT",
        "colab_type": "code",
        "colab": {
          "base_uri": "https://localhost:8080/",
          "height": 35
        },
        "outputId": "95500311-caf2-47c4-d5ed-fcd3fca3f34d"
      },
      "source": [
        "def init_params():\n",
        "    w1, b1 = torch.zeros(train_x.shape[1], nh), torch.zeros(nh)\n",
        "    w2, b2 = torch.zeros(nh, 1), torch.zeros(1)\n",
        "    init.kaiming_uniform_(w2, mode='fan_out')\n",
        "    init.kaiming_uniform_(w1, mode='fan_out')\n",
        "    return(w1, w2, b1, b2)\n",
        "\n",
        "w1, w2, b1, b2 = init_params()\n",
        "w1.shape, w2.shape, b1.shape, b2.shape"
      ],
      "execution_count": null,
      "outputs": [
        {
          "output_type": "execute_result",
          "data": {
            "text/plain": [
              "(torch.Size([784, 80]), torch.Size([80, 1]), torch.Size([80]), torch.Size([1]))"
            ]
          },
          "metadata": {
            "tags": []
          },
          "execution_count": 50
        }
      ]
    },
    {
      "cell_type": "code",
      "metadata": {
        "id": "4-LZcgsy8Swv",
        "colab_type": "code",
        "colab": {
          "base_uri": "https://localhost:8080/",
          "height": 86
        },
        "outputId": "559ac820-36b0-4bbb-eb93-0eb78af6173e"
      },
      "source": [
        "def fwd_n_bwd(inp, trg):\n",
        "    lin1 = lin(inp, w1, b1)\n",
        "    a1 = relu(lin1)\n",
        "    lin2 = lin(a1, w2, b2)\n",
        "    loss = mse(lin2, trg)\n",
        "    #backward\n",
        "    mse_grad(lin2, trg); print(f\"done mse\") #lin2=pred, output: lin2.g\n",
        "    lin_grad(a1, lin2, w2, b2);print(f\"done lin2, \")  #out: a1.g\n",
        "    relu_grad(lin1, a1);print(\"done relu\") # out: lin1.g\n",
        "    lin_grad(inp, lin1, w1, b1);print(f\"done lin1\")\n",
        "fwd_n_bwd(valid_x, valid_y)"
      ],
      "execution_count": null,
      "outputs": [
        {
          "output_type": "stream",
          "text": [
            "done mse\n",
            "done lin2, \n",
            "done relu\n",
            "done lin1\n"
          ],
          "name": "stdout"
        }
      ]
    },
    {
      "cell_type": "markdown",
      "metadata": {
        "id": "7S9SxRceg0Nb",
        "colab_type": "text"
      },
      "source": [
        "---"
      ]
    },
    {
      "cell_type": "markdown",
      "metadata": {
        "id": "wvOplwSpg1NJ",
        "colab_type": "text"
      },
      "source": [
        "[^5]: Why do we need to save train_x's gradient???</br>it's not parameter"
      ]
    },
    {
      "cell_type": "code",
      "metadata": {
        "id": "b4JPjWC2hEfo",
        "colab_type": "code",
        "colab": {}
      },
      "source": [
        "w1g = w1.g.clone()\n",
        "w2g = w2.g.clone()\n",
        "b1g = b1.g.clone()\n",
        "b2g = b2.g.clone()\n",
        "xvg = valid_x.g.clone()"
      ],
      "execution_count": null,
      "outputs": []
    },
    {
      "cell_type": "code",
      "metadata": {
        "id": "LPmm8B6I7t71",
        "colab_type": "code",
        "colab": {}
      },
      "source": [
        "w1g.shape, w2g.shape, b1g.shape, b2g.shape, xvg.shape"
      ],
      "execution_count": null,
      "outputs": []
    },
    {
      "cell_type": "markdown",
      "metadata": {
        "id": "mhrEiuF2hZj-",
        "colab_type": "text"
      },
      "source": [
        "[^6]: What is clone? what is copy?? what's difference from extend_as"
      ]
    },
    {
      "cell_type": "code",
      "metadata": {
        "id": "apCAzaK_hplr",
        "colab_type": "code",
        "colab": {}
      },
      "source": [
        "w12 = w1.clone().requires_grad_(True)\n",
        "w22 = w2.clone().requires_grad_(True)\n",
        "b12 = b1.clone().requires_grad_(True)\n",
        "b22 = b2.clone().requires_grad_(True)\n",
        "xv2 = valid_x.clone().requires_grad_(True)"
      ],
      "execution_count": null,
      "outputs": []
    },
    {
      "cell_type": "code",
      "metadata": {
        "id": "4Q3PaGp-iFty",
        "colab_type": "code",
        "colab": {}
      },
      "source": [
        "def forward(inp):\n",
        "    lin1 = lin(inp, w12, b12)\n",
        "    a1 = relu(lin1)\n",
        "    lin2 = lin(a1, w22, b22)\n",
        "    return(lin2)"
      ],
      "execution_count": null,
      "outputs": []
    },
    {
      "cell_type": "code",
      "metadata": {
        "id": "z2YEc1q0ixQP",
        "colab_type": "code",
        "colab": {}
      },
      "source": [
        "y2 = forward(xv2)"
      ],
      "execution_count": null,
      "outputs": []
    },
    {
      "cell_type": "code",
      "metadata": {
        "id": "jnGhDNk4i-Cx",
        "colab_type": "code",
        "colab": {}
      },
      "source": [
        "loss = mse(y2, valid_y)"
      ],
      "execution_count": null,
      "outputs": []
    },
    {
      "cell_type": "code",
      "metadata": {
        "id": "gI2HgytCjIXT",
        "colab_type": "code",
        "colab": {
          "base_uri": "https://localhost:8080/",
          "height": 52
        },
        "outputId": "35c76195-ad03-48f0-d850-fd6cfddd5b9d"
      },
      "source": [
        "%time loss.backward()"
      ],
      "execution_count": null,
      "outputs": [
        {
          "output_type": "stream",
          "text": [
            "CPU times: user 45.8 ms, sys: 4.9 ms, total: 50.7 ms\n",
            "Wall time: 144 ms\n"
          ],
          "name": "stdout"
        }
      ]
    },
    {
      "cell_type": "code",
      "metadata": {
        "id": "504sHfSvkNGD",
        "colab_type": "code",
        "colab": {}
      },
      "source": [
        "test_near(w1g, w12.grad)\n",
        "test_near(w2g, w22.grad)\n",
        "test_near(b1g, b12.grad)\n",
        "test_near(b2g, b22.grad)\n",
        "test_near(xvg, xv2.grad)"
      ],
      "execution_count": null,
      "outputs": []
    },
    {
      "cell_type": "markdown",
      "metadata": {
        "id": "kTQNaurul-f5",
        "colab_type": "text"
      },
      "source": [
        "[^8]: why he does not use xt.g, w1.g, b1.g...kind of that?"
      ]
    },
    {
      "cell_type": "markdown",
      "metadata": {
        "id": "DMWRm_vFj--a",
        "colab_type": "text"
      },
      "source": [
        "[^7]: Why cloned tensor does not have same attribute?<br/>\n",
        "w12 is cloned tensor of w1, and w1 had w1.g"
      ]
    },
    {
      "cell_type": "markdown",
      "metadata": {
        "id": "2_6v6Fnr8cKT",
        "colab_type": "text"
      },
      "source": [
        "# Refactoring"
      ]
    },
    {
      "cell_type": "markdown",
      "metadata": {
        "id": "LL5Gvw428bOQ",
        "colab_type": "text"
      },
      "source": [
        "## Layers as classes"
      ]
    },
    {
      "cell_type": "code",
      "metadata": {
        "id": "JjmGT1Ia94h1",
        "colab_type": "code",
        "colab": {}
      },
      "source": [
        "class Relu():\n",
        "    def __call__(self, inp):\n",
        "        self.inp = inp\n",
        "        self.out = inp.clamp_min_(0.) - 0.5\n",
        "        return(self.out)\n",
        "\n",
        "    def backward(self):\n",
        "        self.inp.g = self.out.g * (self.inp>0).float()\n",
        "\n",
        "class Lin():\n",
        "    def __init__(self, w, b):\n",
        "        self.w = w\n",
        "        self.b = b\n",
        "\n",
        "    def __call__(self, inp):\n",
        "        self.inp = inp\n",
        "        self.out = self.inp @ self.w + self.b\n",
        "        return(self.out)\n",
        "        \n",
        "    def backward(self):\n",
        "        # self.inp.g = self.out.g.view(self.inp.shape[0], -1) @ self.w.t()\n",
        "        self.inp.g = self.out.g @ self.w.t()\n",
        "        # self.w.g = self.inp.t() @ self.out.g.view(self.inp.shape[0], -1)\n",
        "        self.w.g = self.inp.t() @ self.out.g\n",
        "        self.b.g = self.out.g.sum(0)\n",
        "\n",
        "class Mse():\n",
        "    def __call__(self, inp, trg):\n",
        "        self.inp, self.trg = inp, trg\n",
        "        self.out = (self.inp.squeeze()-self.trg).pow(2).sum() / self.inp.shape[0]\n",
        "        return(self.out)\n",
        "\n",
        "    def backward(self):\n",
        "        self.inp.g = 2. * (self.inp.squeeze()-self.trg).unsqueeze(-1) / self.inp.shape[0]\n",
        "\n",
        "class Model():\n",
        "    def __init__(self, w1, w2, b1, b2):\n",
        "        self.layers = [Lin(w1, b1), Relu(), Lin(w2, b2)]\n",
        "        self.loss = Mse()\n",
        "\n",
        "    def __call__(self, inp, out):\n",
        "        for l in self.layers: inp = l(inp)\n",
        "        return(self.loss(inp, out))\n",
        "\n",
        "    def backward(self):\n",
        "        self.loss.backward()\n",
        "        for l in reversed(self.layers): l.backward()\n",
        "\n",
        "init_grad()"
      ],
      "execution_count": null,
      "outputs": []
    },
    {
      "cell_type": "code",
      "metadata": {
        "id": "CE7_cZ8rXSmI",
        "colab_type": "code",
        "colab": {}
      },
      "source": [
        "model = Model(w1, w2, b1, b2)"
      ],
      "execution_count": null,
      "outputs": []
    },
    {
      "cell_type": "code",
      "metadata": {
        "id": "6OyUIKiTU-RU",
        "colab_type": "code",
        "colab": {
          "base_uri": "https://localhost:8080/",
          "height": 52
        },
        "outputId": "7747bb3a-a983-4ccf-f6b0-5c3dc5963576"
      },
      "source": [
        "%time loss = model(train_x, train_y)"
      ],
      "execution_count": null,
      "outputs": [
        {
          "output_type": "stream",
          "text": [
            "CPU times: user 520 ms, sys: 2.4 ms, total: 522 ms\n",
            "Wall time: 524 ms\n"
          ],
          "name": "stdout"
        }
      ]
    },
    {
      "cell_type": "code",
      "metadata": {
        "id": "rAvuLkxXVCZd",
        "colab_type": "code",
        "colab": {
          "base_uri": "https://localhost:8080/",
          "height": 52
        },
        "outputId": "43ed8099-3595-41a5-b36c-1ed5ee316db1"
      },
      "source": [
        "%time model.backward()"
      ],
      "execution_count": null,
      "outputs": [
        {
          "output_type": "stream",
          "text": [
            "CPU times: user 193 ms, sys: 130 ms, total: 323 ms\n",
            "Wall time: 324 ms\n"
          ],
          "name": "stdout"
        }
      ]
    },
    {
      "cell_type": "code",
      "metadata": {
        "id": "sF58SsYPKlCx",
        "colab_type": "code",
        "colab": {}
      },
      "source": [
        "test_near(w1g, w1.g)\n",
        "test_near(w2g, w2.g)\n",
        "test_near(b1g, b1.g)\n",
        "test_near(b2g, b2.g)"
      ],
      "execution_count": null,
      "outputs": []
    },
    {
      "cell_type": "markdown",
      "metadata": {
        "id": "oSe-9kYv8mXP",
        "colab_type": "text"
      },
      "source": [
        "## Module.forward()"
      ]
    },
    {
      "cell_type": "markdown",
      "metadata": {
        "id": "lB06HJiKYOql",
        "colab_type": "text"
      },
      "source": [
        "Which use only backwards"
      ]
    },
    {
      "cell_type": "markdown",
      "metadata": {
        "id": "ClD0qCCycKN7",
        "colab_type": "text"
      },
      "source": [
        "[^9]: I can see that this way removed function __call__, but why? how?"
      ]
    },
    {
      "cell_type": "markdown",
      "metadata": {
        "id": "8cfzIbc3cRIO",
        "colab_type": "text"
      },
      "source": [
        "Seems like used at module once....?"
      ]
    },
    {
      "cell_type": "code",
      "metadata": {
        "id": "LYpcJgFzYQtX",
        "colab_type": "code",
        "colab": {}
      },
      "source": [
        ""
      ],
      "execution_count": null,
      "outputs": []
    },
    {
      "cell_type": "code",
      "metadata": {
        "id": "tmG-ZH0JbilF",
        "colab_type": "code",
        "colab": {}
      },
      "source": [
        "class Module():\n",
        "    def __call__(self, *args):\n",
        "        self.args = args\n",
        "        self.out = self.forward(*args)\n",
        "        return self.out\n",
        "\n",
        "    # def forward(self): raise Exception(\"Not implemented\")\n",
        "    def backward(self): self.bwd(self.out, *self.args)\n",
        "\n",
        "class Relu(Module):\n",
        "    def forward(self, inp):\n",
        "        return inp.clamp_min_(0.) - 0.5\n",
        "    def bwd(self, out, inp):\n",
        "        inp.g = (inp>0).float() * out.g\n",
        "\n",
        "class Lin(Module):\n",
        "    def __init__(self, w, b):\n",
        "        self.w, self.b = w, b\n",
        "    def forward(self, inp):\n",
        "        return inp @ self.w + self.b\n",
        "    def bwd(self, out, inp):\n",
        "        # inp.g = out.g @ self.w.t()\n",
        "        inp.g = torch.einsum(\"ia, ka -> ik\", out.g, self.w)# [^10]: don't know why I can't do this\n",
        "        # self.w.g = inp.t() @ out.g\n",
        "        self.w.g = torch.einsum(\"bi, bj ->ij\", inp, out.g)\n",
        "        self.b.g = out.g.sum(0)\n",
        "\n",
        "class Mse(Module):\n",
        "    def forward(self, inp, trg):\n",
        "        return (inp.squeeze()-trg).pow(2).sum() / inp.shape[0]\n",
        "    # def bwd(self, trg, inp):\n",
        "    def bwd(self, out, inp, trg):        \n",
        "        inp.g = 2. * (inp.squeeze()-trg).unsqueeze(-1) / inp.shape[0]\n",
        "\n",
        "\n",
        "class Model():\n",
        "    # def __init__(self, w1, w2, b1, b2):\n",
        "    def __init__(self):\n",
        "        self.layers = [Lin(w1, b1), Relu(), Lin(w2, b2)]\n",
        "        self.loss = Mse()\n",
        "    def __call__(self, inp, trg):\n",
        "        for l in self.layers: inp = l(inp)\n",
        "        return self.loss(inp, trg)\n",
        "    def backwards(self):\n",
        "        self.loss.backward()\n",
        "        for r in reversed(self.layers): r.backward()   \n"
      ],
      "execution_count": null,
      "outputs": []
    },
    {
      "cell_type": "code",
      "metadata": {
        "id": "A--bHz3yYsBX",
        "colab_type": "code",
        "colab": {}
      },
      "source": [
        "def init_grad(): w1.g, w2.g, b1.g, b2.g = [None]*4             "
      ],
      "execution_count": null,
      "outputs": []
    },
    {
      "cell_type": "code",
      "metadata": {
        "id": "0C4rRTb_cerr",
        "colab_type": "code",
        "colab": {
          "base_uri": "https://localhost:8080/",
          "height": 35
        },
        "outputId": "9c613a3b-3698-44f3-ed93-e49713a9fab9"
      },
      "source": [
        "init_grad()\n",
        "m = Model()\n",
        "m(train_x, train_y)"
      ],
      "execution_count": null,
      "outputs": [
        {
          "output_type": "execute_result",
          "data": {
            "text/plain": [
              "tensor(36.6717)"
            ]
          },
          "metadata": {
            "tags": []
          },
          "execution_count": 149
        }
      ]
    },
    {
      "cell_type": "code",
      "metadata": {
        "id": "YPcipzCXclv4",
        "colab_type": "code",
        "colab": {
          "base_uri": "https://localhost:8080/",
          "height": 52
        },
        "outputId": "b2472da2-1c3a-481a-aa93-8bae5ed26f9f"
      },
      "source": [
        "%time m.backwards()"
      ],
      "execution_count": null,
      "outputs": [
        {
          "output_type": "stream",
          "text": [
            "CPU times: user 183 ms, sys: 132 ms, total: 315 ms\n",
            "Wall time: 315 ms\n"
          ],
          "name": "stdout"
        }
      ]
    },
    {
      "cell_type": "code",
      "metadata": {
        "id": "Cs2T29d1mMoM",
        "colab_type": "code",
        "colab": {
          "base_uri": "https://localhost:8080/",
          "height": 35
        },
        "outputId": "043c63d1-612e-4f61-e858-ca4ed3156467"
      },
      "source": [
        "init_grad()\n",
        "model= Model()\n",
        "model(valid_x, valid_y)"
      ],
      "execution_count": null,
      "outputs": [
        {
          "output_type": "execute_result",
          "data": {
            "text/plain": [
              "tensor(37.3602)"
            ]
          },
          "metadata": {
            "tags": []
          },
          "execution_count": 131
        }
      ]
    },
    {
      "cell_type": "code",
      "metadata": {
        "id": "Kq3ezKR3lE-j",
        "colab_type": "code",
        "colab": {
          "base_uri": "https://localhost:8080/",
          "height": 35
        },
        "outputId": "ac8d8aff-c06e-45f4-a1d8-f892afceffca"
      },
      "source": [
        "%timeit -n 10 model.backwards()"
      ],
      "execution_count": null,
      "outputs": [
        {
          "output_type": "stream",
          "text": [
            "10 loops, best of 3: 48.1 ms per loop\n"
          ],
          "name": "stdout"
        }
      ]
    },
    {
      "cell_type": "markdown",
      "metadata": {
        "id": "jqulG22d8rH5",
        "colab_type": "text"
      },
      "source": [
        "## without einsum"
      ]
    },
    {
      "cell_type": "code",
      "metadata": {
        "id": "0uxIQ7yNnp2c",
        "colab_type": "code",
        "colab": {
          "base_uri": "https://localhost:8080/",
          "height": 183
        },
        "outputId": "b68a8b4f-d564-43cc-91c2-244d9534961b"
      },
      "source": [
        "# del Lin\n",
        "Lin"
      ],
      "execution_count": null,
      "outputs": [
        {
          "output_type": "error",
          "ename": "NameError",
          "evalue": "ignored",
          "traceback": [
            "\u001b[0;31m---------------------------------------------------------------------------\u001b[0m",
            "\u001b[0;31mNameError\u001b[0m                                 Traceback (most recent call last)",
            "\u001b[0;32m<ipython-input-153-9506a9e8269c>\u001b[0m in \u001b[0;36m<module>\u001b[0;34m()\u001b[0m\n\u001b[1;32m      1\u001b[0m \u001b[0;31m# del Lin\u001b[0m\u001b[0;34m\u001b[0m\u001b[0;34m\u001b[0m\u001b[0;34m\u001b[0m\u001b[0m\n\u001b[0;32m----> 2\u001b[0;31m \u001b[0mLin\u001b[0m\u001b[0;34m\u001b[0m\u001b[0;34m\u001b[0m\u001b[0m\n\u001b[0m",
            "\u001b[0;31mNameError\u001b[0m: name 'Lin' is not defined"
          ]
        }
      ]
    },
    {
      "cell_type": "code",
      "metadata": {
        "id": "I1DZ1NbrnuxS",
        "colab_type": "code",
        "colab": {
          "base_uri": "https://localhost:8080/",
          "height": 35
        },
        "outputId": "d532fbc0-51c3-445a-d722-6d4be83d9c08"
      },
      "source": [
        "import gc; gc.collect()"
      ],
      "execution_count": null,
      "outputs": [
        {
          "output_type": "execute_result",
          "data": {
            "text/plain": [
              "846"
            ]
          },
          "metadata": {
            "tags": []
          },
          "execution_count": 154
        }
      ]
    },
    {
      "cell_type": "code",
      "metadata": {
        "id": "M6zdguEAY3p3",
        "colab_type": "code",
        "colab": {}
      },
      "source": [
        "class Lin(Module):\n",
        "    def __init__(self, w, b):\n",
        "        self.w, self.b = w, b\n",
        "    def forward(self, inp):\n",
        "        return inp @ self.w + self.b\n",
        "    def bwd(self, out, inp):\n",
        "        inp.g = out.g @ self.w.t()\n",
        "        self.w.g = inp.t() @ out.g\n",
        "        self.b.g = out.g.sum(0)"
      ],
      "execution_count": null,
      "outputs": []
    },
    {
      "cell_type": "code",
      "metadata": {
        "id": "uwbDq_kNdMLa",
        "colab_type": "code",
        "colab": {
          "base_uri": "https://localhost:8080/",
          "height": 35
        },
        "outputId": "eaade57e-c555-4c31-91a8-06268cb76536"
      },
      "source": [
        "init_grad()\n",
        "m2= Model()\n",
        "m2(valid_x, valid_y)"
      ],
      "execution_count": null,
      "outputs": [
        {
          "output_type": "execute_result",
          "data": {
            "text/plain": [
              "tensor(37.3602)"
            ]
          },
          "metadata": {
            "tags": []
          },
          "execution_count": 158
        }
      ]
    },
    {
      "cell_type": "code",
      "metadata": {
        "id": "wjWUZ1MydODl",
        "colab_type": "code",
        "colab": {
          "base_uri": "https://localhost:8080/",
          "height": 52
        },
        "outputId": "47122b31-fbb5-49b6-feed-04903d9f1d6c"
      },
      "source": [
        "%time m2.backwards()"
      ],
      "execution_count": null,
      "outputs": [
        {
          "output_type": "stream",
          "text": [
            "CPU times: user 45.6 ms, sys: 1.03 ms, total: 46.6 ms\n",
            "Wall time: 46.6 ms\n"
          ],
          "name": "stdout"
        }
      ]
    },
    {
      "cell_type": "markdown",
      "metadata": {
        "id": "iXApLhqodULk",
        "colab_type": "text"
      },
      "source": [
        "> ??? Without einsum is the best speed\n",
        "---"
      ]
    },
    {
      "cell_type": "markdown",
      "metadata": {
        "id": "ZnR7d7-4mA9S",
        "colab_type": "text"
      },
      "source": [
        "[^10]: Check since jeremy's result is little bit different with me."
      ]
    },
    {
      "cell_type": "markdown",
      "metadata": {
        "id": "oKXwaIIj81bN",
        "colab_type": "text"
      },
      "source": [
        "## nn.Linear and nn.Module"
      ]
    },
    {
      "cell_type": "code",
      "metadata": {
        "id": "ihjz7ug9l4IY",
        "colab_type": "code",
        "colab": {}
      },
      "source": [
        "from torch import nn"
      ],
      "execution_count": null,
      "outputs": []
    },
    {
      "cell_type": "code",
      "metadata": {
        "id": "CgzBOvhWmfsJ",
        "colab_type": "code",
        "colab": {}
      },
      "source": [
        "inp, out = train_x.shape[0], 1"
      ],
      "execution_count": null,
      "outputs": []
    },
    {
      "cell_type": "code",
      "metadata": {
        "id": "IiltjGwomnX_",
        "colab_type": "code",
        "colab": {
          "base_uri": "https://localhost:8080/",
          "height": 35
        },
        "outputId": "48f85528-b822-46cc-92c6-04c2b7b0f043"
      },
      "source": [
        "inp, out"
      ],
      "execution_count": null,
      "outputs": [
        {
          "output_type": "execute_result",
          "data": {
            "text/plain": [
              "(50000, 1)"
            ]
          },
          "metadata": {
            "tags": []
          },
          "execution_count": 162
        }
      ]
    },
    {
      "cell_type": "code",
      "metadata": {
        "id": "QJ6Oeg2tmLbb",
        "colab_type": "code",
        "colab": {}
      },
      "source": [
        "class Model(nn.Module):\n",
        "    def __init__(self, n_in, nh, n_out):\n",
        "        super().__init__()\n",
        "        self.layers = [nn.Linear(n_in, nh), nn.ReLU(), nn.Linear(nh, n_out)]\n",
        "        self.loss = mse\n",
        "    def __call__(self, x, y):\n",
        "        for l in self.layers: x = l(x);\n",
        "        return self.loss(x.squeeze(), y)"
      ],
      "execution_count": null,
      "outputs": []
    },
    {
      "cell_type": "code",
      "metadata": {
        "id": "JCucQv8bsQR2",
        "colab_type": "code",
        "colab": {
          "base_uri": "https://localhost:8080/",
          "height": 35
        },
        "outputId": "d4082aa2-a76a-430f-e52f-079b9f185444"
      },
      "source": [
        "inp, nh, out"
      ],
      "execution_count": null,
      "outputs": [
        {
          "output_type": "execute_result",
          "data": {
            "text/plain": [
              "(784, 80, 1)"
            ]
          },
          "metadata": {
            "tags": []
          },
          "execution_count": 197
        }
      ]
    },
    {
      "cell_type": "code",
      "metadata": {
        "id": "8VEdWQN_p5_x",
        "colab_type": "code",
        "colab": {}
      },
      "source": [
        "m3 = Model(inp, nh, out)"
      ],
      "execution_count": null,
      "outputs": []
    },
    {
      "cell_type": "code",
      "metadata": {
        "id": "-3ozMjcAq-Ij",
        "colab_type": "code",
        "colab": {}
      },
      "source": [
        "loss = m3(train_x, train_y)"
      ],
      "execution_count": null,
      "outputs": []
    },
    {
      "cell_type": "code",
      "metadata": {
        "id": "lv9AaMjBq03o",
        "colab_type": "code",
        "colab": {
          "base_uri": "https://localhost:8080/",
          "height": 52
        },
        "outputId": "a6369090-2f8a-406d-9649-443d33bb8730"
      },
      "source": [
        "%time loss.backward()"
      ],
      "execution_count": null,
      "outputs": [
        {
          "output_type": "stream",
          "text": [
            "CPU times: user 90.5 ms, sys: 822 µs, total: 91.3 ms\n",
            "Wall time: 91.5 ms\n"
          ],
          "name": "stdout"
        }
      ]
    },
    {
      "cell_type": "markdown",
      "metadata": {
        "id": "tcnLDLouqAbQ",
        "colab_type": "text"
      },
      "source": [
        "[^11]: what's difference bw nn.ReLU / nn.functional.relu ????"
      ]
    },
    {
      "cell_type": "markdown",
      "metadata": {
        "id": "HrpX-olbsuIx",
        "colab_type": "text"
      },
      "source": [
        "[^12]: why did jeremy input the squeezed tensor at loss? ***(Solved), answers are below.***"
      ]
    },
    {
      "cell_type": "code",
      "metadata": {
        "id": "kCUDCXhPtAPj",
        "colab_type": "code",
        "colab": {}
      },
      "source": [
        "layers = [nn.Linear(inp, nh), nn.ReLU(), nn.Linear(nh, out)]"
      ],
      "execution_count": null,
      "outputs": []
    },
    {
      "cell_type": "code",
      "metadata": {
        "id": "AI-mi8WBt0fh",
        "colab_type": "code",
        "colab": {}
      },
      "source": [
        "x = train_x.clone()"
      ],
      "execution_count": null,
      "outputs": []
    },
    {
      "cell_type": "code",
      "metadata": {
        "id": "3-m_Yz7vteFx",
        "colab_type": "code",
        "colab": {}
      },
      "source": [
        "for l in layers: x = l(x)"
      ],
      "execution_count": null,
      "outputs": []
    },
    {
      "cell_type": "code",
      "metadata": {
        "id": "xUvstvs7t7KR",
        "colab_type": "code",
        "colab": {
          "base_uri": "https://localhost:8080/",
          "height": 35
        },
        "outputId": "14db6ee1-8d60-436f-d11e-b508ddf9df26"
      },
      "source": [
        "x.shape"
      ],
      "execution_count": null,
      "outputs": [
        {
          "output_type": "execute_result",
          "data": {
            "text/plain": [
              "torch.Size([50000, 1])"
            ]
          },
          "metadata": {
            "tags": []
          },
          "execution_count": 210
        }
      ]
    }
  ]
}