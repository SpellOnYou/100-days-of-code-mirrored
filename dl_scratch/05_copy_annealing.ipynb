{
  "nbformat": 4,
  "nbformat_minor": 0,
  "metadata": {
    "colab": {
      "name": "05-copy-annealing",
      "provenance": [],
      "collapsed_sections": []
    },
    "kernelspec": {
      "name": "python3",
      "display_name": "Python 3"
    },
    "language_info": {
      "name": "python"
    }
  },
  "cells": [
    {
      "cell_type": "markdown",
      "metadata": {
        "id": "i-s6YliGodFA"
      },
      "source": [
        "- My own practice to implement(or copy) re-usable/probable codes from scratch. "
      ]
    },
    {
      "cell_type": "code",
      "metadata": {
        "id": "V0pJJh0qy04k"
      },
      "source": [
        "import gzip, pickle, pathlib, torch\n",
        "data_path = pathlib.Path(\"/content/mnist.pkl.gz\")\n",
        "\n",
        "def get_data(data_path):\n",
        "    with gzip.open(data_path) as f:\n",
        "        (x_train, y_train), (x_valid, y_valid), (x_test, y_test)= pickle.load(f, encoding='latin-1')\n",
        "        return map(torch.tensor, (x_train, y_train, x_valid, y_valid, x_test, y_test))"
      ],
      "execution_count": 3,
      "outputs": []
    },
    {
      "cell_type": "code",
      "metadata": {
        "id": "3m6bTFdN29ep"
      },
      "source": [
        "x_train, y_train, x_valid, y_valid, x_test, y_test = get_data(data_path)"
      ],
      "execution_count": 4,
      "outputs": []
    },
    {
      "cell_type": "code",
      "metadata": {
        "id": "JdIjP9xd3NXY"
      },
      "source": [
        "def print_size(): [print(i) for i in map(lambda x: print(x.shape), (x_train, y_train, x_valid, y_valid, x_test, y_test))]"
      ],
      "execution_count": 6,
      "outputs": []
    },
    {
      "cell_type": "code",
      "metadata": {
        "colab": {
          "base_uri": "https://localhost:8080/",
          "height": 282
        },
        "id": "bTmFBuduYNZT",
        "outputId": "80d8a575-a6cb-4395-f0d9-9206a9c0eec1"
      },
      "source": [
        "import matplotlib.pyplot as plt\n",
        "plt.imshow(x_train[-1].view(28, -1))"
      ],
      "execution_count": 7,
      "outputs": [
        {
          "output_type": "execute_result",
          "data": {
            "text/plain": [
              "<matplotlib.image.AxesImage at 0x7fb40f750310>"
            ]
          },
          "metadata": {},
          "execution_count": 7
        },
        {
          "output_type": "display_data",
          "data": {
            "image/png": "[encoded data removed]",
            "text/plain": [
              "<Figure size 432x288 with 1 Axes>"
            ]
          },
          "metadata": {
            "needs_background": "light"
          }
        }
      ]
    },
    {
      "cell_type": "markdown",
      "metadata": {
        "id": "4TsnPk7i3f4J"
      },
      "source": [
        "`Learner`"
      ]
    },
    {
      "cell_type": "code",
      "metadata": {
        "colab": {
          "base_uri": "https://localhost:8080/"
        },
        "id": "Wr3gebBP3hUE",
        "outputId": "4f6e66b0-b01a-4375-f7a3-28f8b87fc7b4"
      },
      "source": [
        "# !git clone https://github.com/fastai/course-v3\n",
        "# !cat course-v3/nbs/dl2/exp/nb_01.py\n",
        "# !cat course-v3/nbs/dl2/exp/nb_02.py\n",
        "# !cat course-v3/nbs/dl2/exp/nb_03.py\n",
        "# !cat course-v3/nbs/dl2/exp/nb_04.py"
      ],
      "execution_count": null,
      "outputs": [
        {
          "output_type": "stream",
          "name": "stdout",
          "text": [
            "\n",
            "#################################################\n",
            "### THIS FILE WAS AUTOGENERATED! DO NOT EDIT! ###\n",
            "#################################################\n",
            "# file to edit: dev_nb/01_matmul.ipynb\n",
            "\n",
            "from exp.nb_00 import *\n",
            "import operator\n",
            "\n",
            "def test(a,b,cmp,cname=None):\n",
            "    if cname is None: cname=cmp.__name__\n",
            "    assert cmp(a,b),f\"{cname}:\\n{a}\\n{b}\"\n",
            "\n",
            "def test_eq(a,b): test(a,b,operator.eq,'==')\n",
            "\n",
            "from pathlib import Path\n",
            "from IPython.core.debugger import set_trace\n",
            "from fastai import datasets\n",
            "import pickle, gzip, math, torch, matplotlib as mpl\n",
            "import matplotlib.pyplot as plt\n",
            "from torch import tensor\n",
            "\n",
            "MNIST_URL='http://deeplearning.net/data/mnist/mnist.pkl'\n",
            "\n",
            "def near(a,b): return torch.allclose(a, b, rtol=1e-3, atol=1e-5)\n",
            "def test_near(a,b): test(a,b,near)\n",
            "#################################################\n",
            "### THIS FILE WAS AUTOGENERATED! DO NOT EDIT! ###\n",
            "#################################################\n",
            "# file to edit: dev_nb/02_fully_connected.ipynb\n",
            "\n",
            "from exp.nb_01 import *\n",
            "\n",
            "def get_data():\n",
            "    path = datasets.download_data(MNIST_URL, ext='.gz')\n",
            "    with gzip.open(path, 'rb') as f:\n",
            "        ((x_train, y_train), (x_valid, y_valid), _) = pickle.load(f, encoding='latin-1')\n",
            "    return map(tensor, (x_train,y_train,x_valid,y_valid))\n",
            "\n",
            "def normalize(x, m, s): return (x-m)/s\n",
            "\n",
            "def test_near_zero(a,tol=1e-3): assert a.abs()<tol, f\"Near zero: {a}\"\n",
            "\n",
            "from torch.nn import init\n",
            "\n",
            "def mse(output, targ): return (output.squeeze(-1) - targ).pow(2).mean()\n",
            "\n",
            "from torch import nn\n",
            "#################################################\n",
            "### THIS FILE WAS AUTOGENERATED! DO NOT EDIT! ###\n",
            "#################################################\n",
            "# file to edit: dev_nb/03_minibatch_training.ipynb\n",
            "\n",
            "from exp.nb_02 import *\n",
            "import torch.nn.functional as F\n",
            "\n",
            "def accuracy(out, yb): return (torch.argmax(out, dim=1)==yb).float().mean()\n",
            "\n",
            "from torch import optim\n",
            "\n",
            "class Dataset():\n",
            "    def __init__(self, x, y): self.x,self.y = x,y\n",
            "    def __len__(self): return len(self.x)\n",
            "    def __getitem__(self, i): return self.x[i],self.y[i]\n",
            "\n",
            "from torch.utils.data import DataLoader, SequentialSampler, RandomSampler\n",
            "\n",
            "def get_dls(train_ds, valid_ds, bs, **kwargs):\n",
            "    return (DataLoader(train_ds, batch_size=bs, shuffle=True, **kwargs),\n",
            "            DataLoader(valid_ds, batch_size=bs*2, **kwargs))\n",
            "#################################################\n",
            "### THIS FILE WAS AUTOGENERATED! DO NOT EDIT! ###\n",
            "#################################################\n",
            "# file to edit: dev_nb/04_callbacks.ipynb\n",
            "\n",
            "from exp.nb_03 import *\n",
            "\n",
            "class DataBunch():\n",
            "    def __init__(self, train_dl, valid_dl, c=None):\n",
            "        self.train_dl,self.valid_dl,self.c = train_dl,valid_dl,c\n",
            "\n",
            "    @property\n",
            "    def train_ds(self): return self.train_dl.dataset\n",
            "\n",
            "    @property\n",
            "    def valid_ds(self): return self.valid_dl.dataset\n",
            "\n",
            "def get_model(data, lr=0.5, nh=50):\n",
            "    m = data.train_ds.x.shape[1]\n",
            "    model = nn.Sequential(nn.Linear(m,nh), nn.ReLU(), nn.Linear(nh,data.c))\n",
            "    return model, optim.SGD(model.parameters(), lr=lr)\n",
            "\n",
            "class Learner():\n",
            "    def __init__(self, model, opt, loss_func, data):\n",
            "        self.model,self.opt,self.loss_func,self.data = model,opt,loss_func,data\n",
            "\n",
            "import re\n",
            "\n",
            "_camel_re1 = re.compile('(.)([A-Z][a-z]+)')\n",
            "_camel_re2 = re.compile('([a-z0-9])([A-Z])')\n",
            "def camel2snake(name):\n",
            "    s1 = re.sub(_camel_re1, r'\\1_\\2', name)\n",
            "    return re.sub(_camel_re2, r'\\1_\\2', s1).lower()\n",
            "\n",
            "class Callback():\n",
            "    _order=0\n",
            "    def set_runner(self, run): self.run=run\n",
            "    def __getattr__(self, k): return getattr(self.run, k)\n",
            "    @property\n",
            "    def name(self):\n",
            "        name = re.sub(r'Callback$', '', self.__class__.__name__)\n",
            "        return camel2snake(name or 'callback')\n",
            "\n",
            "class TrainEvalCallback(Callback):\n",
            "    def begin_fit(self):\n",
            "        self.run.n_epochs=0.\n",
            "        self.run.n_iter=0\n",
            "\n",
            "    def after_batch(self):\n",
            "        if not self.in_train: return\n",
            "        self.run.n_epochs += 1./self.iters\n",
            "        self.run.n_iter   += 1\n",
            "\n",
            "    def begin_epoch(self):\n",
            "        self.run.n_epochs=self.epoch\n",
            "        self.model.train()\n",
            "        self.run.in_train=True\n",
            "\n",
            "    def begin_validate(self):\n",
            "        self.model.eval()\n",
            "        self.run.in_train=False\n",
            "\n",
            "from typing import *\n",
            "\n",
            "def listify(o):\n",
            "    if o is None: return []\n",
            "    if isinstance(o, list): return o\n",
            "    if isinstance(o, str): return [o]\n",
            "    if isinstance(o, Iterable): return list(o)\n",
            "    return [o]\n",
            "\n",
            "class Runner():\n",
            "    def __init__(self, cbs=None, cb_funcs=None):\n",
            "        cbs = listify(cbs)\n",
            "        for cbf in listify(cb_funcs):\n",
            "            cb = cbf()\n",
            "            setattr(self, cb.name, cb)\n",
            "            cbs.append(cb)\n",
            "        self.stop,self.cbs = False,[TrainEvalCallback()]+cbs\n",
            "\n",
            "    @property\n",
            "    def opt(self):       return self.learn.opt\n",
            "    @property\n",
            "    def model(self):     return self.learn.model\n",
            "    @property\n",
            "    def loss_func(self): return self.learn.loss_func\n",
            "    @property\n",
            "    def data(self):      return self.learn.data\n",
            "\n",
            "    def one_batch(self, xb, yb):\n",
            "        self.xb,self.yb = xb,yb\n",
            "        if self('begin_batch'): return\n",
            "        self.pred = self.model(self.xb)\n",
            "        if self('after_pred'): return\n",
            "        self.loss = self.loss_func(self.pred, self.yb)\n",
            "        if self('after_loss') or not self.in_train: return\n",
            "        self.loss.backward()\n",
            "        if self('after_backward'): return\n",
            "        self.opt.step()\n",
            "        if self('after_step'): return\n",
            "        self.opt.zero_grad()\n",
            "\n",
            "    def all_batches(self, dl):\n",
            "        self.iters = len(dl)\n",
            "        for xb,yb in dl:\n",
            "            if self.stop: break\n",
            "            self.one_batch(xb, yb)\n",
            "            self('after_batch')\n",
            "        self.stop=False\n",
            "\n",
            "    def fit(self, epochs, learn):\n",
            "        self.epochs,self.learn,self.loss = epochs,learn,tensor(0.)\n",
            "\n",
            "        try:\n",
            "            for cb in self.cbs: cb.set_runner(self)\n",
            "            if self('begin_fit'): return\n",
            "            for epoch in range(epochs):\n",
            "                self.epoch = epoch\n",
            "                if not self('begin_epoch'): self.all_batches(self.data.train_dl)\n",
            "\n",
            "                with torch.no_grad():\n",
            "                    if not self('begin_validate'): self.all_batches(self.data.valid_dl)\n",
            "                if self('after_epoch'): break\n",
            "\n",
            "        finally:\n",
            "            self('after_fit')\n",
            "            self.learn = None\n",
            "\n",
            "    def __call__(self, cb_name):\n",
            "        for cb in sorted(self.cbs, key=lambda x: x._order):\n",
            "            f = getattr(cb, cb_name, None)\n",
            "            if f and f(): return True\n",
            "        return False\n",
            "\n",
            "class AvgStats():\n",
            "    def __init__(self, metrics, in_train): self.metrics,self.in_train = listify(metrics),in_train\n",
            "\n",
            "    def reset(self):\n",
            "        self.tot_loss,self.count = 0.,0\n",
            "        self.tot_mets = [0.] * len(self.metrics)\n",
            "\n",
            "    @property\n",
            "    def all_stats(self): return [self.tot_loss.item()] + self.tot_mets\n",
            "    @property\n",
            "    def avg_stats(self): return [o/self.count for o in self.all_stats]\n",
            "\n",
            "    def __repr__(self):\n",
            "        if not self.count: return \"\"\n",
            "        return f\"{'train' if self.in_train else 'valid'}: {self.avg_stats}\"\n",
            "\n",
            "    def accumulate(self, run):\n",
            "        bn = run.xb.shape[0]\n",
            "        self.tot_loss += run.loss * bn\n",
            "        self.count += bn\n",
            "        for i,m in enumerate(self.metrics):\n",
            "            self.tot_mets[i] += m(run.pred, run.yb) * bn\n",
            "\n",
            "class AvgStatsCallback(Callback):\n",
            "    def __init__(self, metrics):\n",
            "        self.train_stats,self.valid_stats = AvgStats(metrics,True),AvgStats(metrics,False)\n",
            "\n",
            "    def begin_epoch(self):\n",
            "        self.train_stats.reset()\n",
            "        self.valid_stats.reset()\n",
            "\n",
            "    def after_loss(self):\n",
            "        stats = self.train_stats if self.in_train else self.valid_stats\n",
            "        with torch.no_grad(): stats.accumulate(self.run)\n",
            "\n",
            "    def after_epoch(self):\n",
            "        print(self.train_stats)\n",
            "        print(self.valid_stats)\n",
            "\n",
            "from functools import partial"
          ]
        }
      ]
    },
    {
      "cell_type": "code",
      "metadata": {
        "id": "mJ0HwTM64mbt"
      },
      "source": [
        "def accuracy(out, yb): return (torch.argmax(out, dim=1)==yb).float().mean()\n",
        "\n",
        "class Dataset():\n",
        "    def __init__(self, x, y): self.x,self.y = x,y\n",
        "    def __len__(self): return len(self.x)\n",
        "    def __getitem__(self, i): return self.x[i],self.y[i]\n",
        "\n",
        "from torch.utils.data import DataLoader, SequentialSampler, RandomSampler\n",
        "\n",
        "def get_dls(train_ds, valid_ds, bs, **kwargs):\n",
        "    return (DataLoader(train_ds, batch_size=bs, shuffle=True, **kwargs),\n",
        "            DataLoader(valid_ds, batch_size=bs*2, **kwargs))\n",
        "    \n",
        "class DataBunch():\n",
        "    def __init__(self, train_dl, valid_dl, c=None):\n",
        "        self.train_dl,self.valid_dl,self.c = train_dl,valid_dl,c\n",
        "\n",
        "    @property\n",
        "    def train_ds(self): return self.train_dl.dataset\n",
        "\n",
        "    @property\n",
        "    def valid_ds(self): return self.valid_dl.dataset\n",
        "\n",
        "def get_model(data, lr=0.5, nh=50):\n",
        "    m = data.train_ds.x.shape[1]\n",
        "    model = nn.Sequential(nn.Linear(m,nh), nn.ReLU(), nn.Linear(nh,data.c))\n",
        "    return model, optim.SGD(model.parameters(), lr=lr)\n",
        "\n",
        "class Learner():\n",
        "    def __init__(self, model, opt, loss_func, data):\n",
        "        self.model,self.opt,self.loss_func,self.data = model,opt,loss_func,data\n",
        "\n",
        "# ---\n",
        "import re\n",
        "\n",
        "_camel_re1 = re.compile('(.)([A-Z][a-z]+)')\n",
        "_camel_re2 = re.compile('([a-z0-9])([A-Z])')\n",
        "def camel2snake(name):\n",
        "    s1 = re.sub(_camel_re1, r'\\1_\\2', name)\n",
        "    return re.sub(_camel_re2, r'\\1_\\2', s1).lower()\n",
        "\n",
        "class Callback():\n",
        "    _order=0\n",
        "    def set_runner(self, run): self.run=run\n",
        "    def __getattr__(self, k): return getattr(self.run, k)\n",
        "    @property\n",
        "    def name(self):\n",
        "        name = re.sub(r'Callback$', '', self.__class__.__name__)\n",
        "        return camel2snake(name or 'callback')\n",
        "\n",
        "class TrainEvalCallback(Callback):\n",
        "    def begin_fit(self):\n",
        "        self.run.n_epochs=0.\n",
        "        self.run.n_iter=0\n",
        "\n",
        "    def after_batch(self):\n",
        "        if not self.in_train: return\n",
        "        self.run.n_epochs += 1./self.iters\n",
        "        self.run.n_iter   += 1\n",
        "\n",
        "    def begin_epoch(self):\n",
        "        self.run.n_epochs=self.epoch\n",
        "        self.model.train()\n",
        "        self.run.in_train=True\n",
        "\n",
        "    def begin_validate(self):\n",
        "        self.model.eval()\n",
        "        self.run.in_train=False\n",
        "\n",
        "from typing import *\n",
        "\n",
        "def listify(o):\n",
        "    if o is None: return []\n",
        "    if isinstance(o, list): return o\n",
        "    if isinstance(o, str): return [o]\n",
        "    if isinstance(o, Iterable): return list(o)\n",
        "    return [o]\n",
        "\n",
        "class Runner():\n",
        "    def __init__(self, cbs=None, cb_funcs=None):\n",
        "        cbs = listify(cbs)\n",
        "        for cbf in listify(cb_funcs):\n",
        "            cb = cbf()\n",
        "            setattr(self, cb.name, cb)\n",
        "            cbs.append(cb)\n",
        "        self.stop,self.cbs = False,[TrainEvalCallback()]+cbs\n",
        "\n",
        "    @property\n",
        "    def opt(self):       return self.learn.opt\n",
        "    @property\n",
        "    def model(self):     return self.learn.model\n",
        "    @property\n",
        "    def loss_func(self): return self.learn.loss_func\n",
        "    @property\n",
        "    def data(self):      return self.learn.data\n",
        "\n",
        "    def one_batch(self, xb, yb):\n",
        "        self.xb,self.yb = xb,yb\n",
        "        if self('begin_batch'): return\n",
        "        self.pred = self.model(self.xb)\n",
        "        if self('after_pred'): return\n",
        "        self.loss = self.loss_func(self.pred, self.yb)\n",
        "        if self('after_loss') or not self.in_train: return\n",
        "        self.loss.backward()\n",
        "        if self('after_backward'): return\n",
        "        self.opt.step()\n",
        "        if self('after_step'): return\n",
        "        self.opt.zero_grad()\n",
        "\n",
        "    def all_batches(self, dl):\n",
        "        self.iters = len(dl)\n",
        "        for xb,yb in dl:\n",
        "            if self.stop: break\n",
        "            self.one_batch(xb, yb)\n",
        "            self('after_batch')\n",
        "        self.stop=False\n",
        "\n",
        "    def fit(self, epochs, learn):\n",
        "        self.epochs,self.learn,self.loss = epochs,learn,tensor(0.)\n",
        "\n",
        "        try:\n",
        "            for cb in self.cbs: cb.set_runner(self)\n",
        "            if self('begin_fit'): return\n",
        "            for epoch in range(epochs):\n",
        "                self.epoch = epoch\n",
        "                if not self('begin_epoch'): self.all_batches(self.data.train_dl)\n",
        "\n",
        "                with torch.no_grad():\n",
        "                    if not self('begin_validate'): self.all_batches(self.data.valid_dl)\n",
        "                if self('after_epoch'): break\n",
        "\n",
        "        finally:\n",
        "            self('after_fit')\n",
        "            self.learn = None\n",
        "\n",
        "    def __call__(self, cb_name):\n",
        "        for cb in sorted(self.cbs, key=lambda x: x._order):\n",
        "            f = getattr(cb, cb_name, None)\n",
        "            if f and f(): return True\n",
        "        return False\n",
        "\n",
        "class AvgStats():\n",
        "    def __init__(self, metrics, in_train): self.metrics,self.in_train = listify(metrics),in_train\n",
        "\n",
        "    def reset(self):\n",
        "        self.tot_loss,self.count = 0.,0\n",
        "        self.tot_mets = [0.] * len(self.metrics)\n",
        "\n",
        "    @property\n",
        "    def all_stats(self): return [self.tot_loss.item()] + self.tot_mets\n",
        "    @property\n",
        "    def avg_stats(self): return [o/self.count for o in self.all_stats]\n",
        "\n",
        "    def __repr__(self):\n",
        "        if not self.count: return \"\"\n",
        "        return f\"{'train' if self.in_train else 'valid'}: {self.avg_stats}\"\n",
        "\n",
        "    def accumulate(self, run):\n",
        "        bn = run.xb.shape[0]\n",
        "        self.tot_loss += run.loss * bn\n",
        "        self.count += bn\n",
        "        for i,m in enumerate(self.metrics):\n",
        "            self.tot_mets[i] += m(run.pred, run.yb) * bn\n",
        "\n",
        "class AvgStatsCallback(Callback):\n",
        "    def __init__(self, metrics):\n",
        "        self.train_stats,self.valid_stats = AvgStats(metrics,True),AvgStats(metrics,False)\n",
        "\n",
        "    def begin_epoch(self):\n",
        "        self.train_stats.reset()\n",
        "        self.valid_stats.reset()\n",
        "\n",
        "    def after_loss(self):\n",
        "        stats = self.train_stats if self.in_train else self.valid_stats\n",
        "        with torch.no_grad(): stats.accumulate(self.run)\n",
        "\n",
        "    def after_epoch(self):\n",
        "        print(self.train_stats)\n",
        "        print(self.valid_stats)\n",
        "\n",
        "# ---\n",
        "\n",
        "from functools import partial\n",
        "from torch.functional import F\n",
        "from torch import nn, optim, tensor"
      ],
      "execution_count": 66,
      "outputs": []
    },
    {
      "cell_type": "code",
      "metadata": {
        "id": "VQw7BLyQajp1"
      },
      "source": [
        "#A0\n",
        "x_train, y_train, x_valid, y_valid, x_test, y_test = get_data(data_path)\n",
        "train_ds, valid_ds = Dataset(x_train, y_train), Dataset(x_valid, y_valid)\n",
        "nh, bs = 50, 512\n",
        "c = y_train.max().item()+1\n",
        "loss_func = F.cross_entropy\n",
        "data = DataBunch(*get_dls(train_ds, valid_ds, bs), c=c)"
      ],
      "execution_count": 9,
      "outputs": []
    },
    {
      "cell_type": "code",
      "metadata": {
        "id": "jcMU-QaccO1p"
      },
      "source": [
        "def create_learner(model_func, loss_func, data):\n",
        "    return Learner(*model_func(data), loss_func, data)"
      ],
      "execution_count": 10,
      "outputs": []
    },
    {
      "cell_type": "code",
      "metadata": {
        "id": "h6mwefXOcwnO"
      },
      "source": [
        "learn = create_learner(get_model, loss_func, data)"
      ],
      "execution_count": 11,
      "outputs": []
    },
    {
      "cell_type": "code",
      "metadata": {
        "id": "OmQ76VkhdXaJ"
      },
      "source": [
        "run = Runner(\n",
        "     [\n",
        "      AvgStatsCallback([accuracy])\n",
        "     ]\n",
        "    )"
      ],
      "execution_count": 12,
      "outputs": []
    },
    {
      "cell_type": "code",
      "metadata": {
        "colab": {
          "base_uri": "https://localhost:8080/"
        },
        "id": "AeiigvJFeOAC",
        "outputId": "4c0dd6ec-39d3-4115-8f5a-b36873b9daa7"
      },
      "source": [
        "run.fit(epochs = 3, learn = learn)"
      ],
      "execution_count": 30,
      "outputs": [
        {
          "output_type": "stream",
          "name": "stdout",
          "text": [
            "train: [0.2091234765625, tensor(0.9397)]\n",
            "valid: [0.1933284912109375, tensor(0.9451)]\n",
            "train: [0.18344703125, tensor(0.9466)]\n",
            "valid: [0.167803759765625, tensor(0.9531)]\n",
            "train: [0.164496171875, tensor(0.9523)]\n",
            "valid: [0.156703564453125, tensor(0.9570)]\n"
          ]
        }
      ]
    },
    {
      "cell_type": "code",
      "metadata": {
        "id": "vqWYldop5C71"
      },
      "source": [
        "# Why this attribute is \"None\"??\n",
        "run.learn"
      ],
      "execution_count": 31,
      "outputs": []
    },
    {
      "cell_type": "markdown",
      "metadata": {
        "id": "GpM14Zqk43WE"
      },
      "source": [
        "---"
      ]
    },
    {
      "cell_type": "code",
      "metadata": {
        "colab": {
          "base_uri": "https://localhost:8080/"
        },
        "id": "ZC2m2cPXeq-M",
        "outputId": "23d783fb-3497-4fd3-ac6e-4b4325994300"
      },
      "source": [
        "# How can I know which parameters function `get_model` requires?\n",
        "getmodel_params = inspect.signature(get_model).parameters\n",
        "getmodel_params.items(), getmodel_params.values()"
      ],
      "execution_count": 18,
      "outputs": [
        {
          "output_type": "execute_result",
          "data": {
            "text/plain": [
              "(odict_items([('data', <Parameter \"data\">), ('lr', <Parameter \"lr=0.5\">), ('nh', <Parameter \"nh=50\">)]),\n",
              " odict_values([<Parameter \"data\">, <Parameter \"lr=0.5\">, <Parameter \"nh=50\">]))"
            ]
          },
          "metadata": {},
          "execution_count": 18
        }
      ]
    },
    {
      "cell_type": "code",
      "metadata": {
        "id": "KF2wxve14GiH"
      },
      "source": [
        "run.learn"
      ],
      "execution_count": 29,
      "outputs": []
    },
    {
      "cell_type": "code",
      "metadata": {
        "id": "HkUR6BN9ZA7L"
      },
      "source": [
        "# A1\n",
        "class Recorder(Callback):\n",
        "    \n",
        "    def begin_fit(self):\n",
        "        \"\"\"when beginning fitting, intialize learning rate list and loss list to trace status of learning\"\"\"\n",
        "        self.lrs, self.losses = [], []\n",
        "\n",
        "    def after_batch(self):\n",
        "        \"\"\"when it's training phase, record learning rate & loss\"\"\"\n",
        "        if not self.in_train: return\n",
        "        # print(self.opt.params_group[-1])\n",
        "        self.lrs.append(self.opt.param_groups[-1]['lr'])\n",
        "        self.losses.append(self.loss.detach().cpu())\n",
        "    \n",
        "    def plot_lr  (self): plt.plot(self.lrs)\n",
        "    def plot_loss(self): plt.plot(self.losses)"
      ],
      "execution_count": 82,
      "outputs": []
    },
    {
      "cell_type": "code",
      "metadata": {
        "colab": {
          "base_uri": "https://localhost:8080/"
        },
        "id": "g58uOivh7J1l",
        "outputId": "27e4bf75-08b2-40c5-de5c-02d818a8387b"
      },
      "source": [
        "for layer_i, pg in enumerate(learn.opt.param_groups):\n",
        "    print(layer_i+1, pg.keys(), sep='\\t|\\t')"
      ],
      "execution_count": 39,
      "outputs": [
        {
          "output_type": "stream",
          "name": "stdout",
          "text": [
            "1\t|\tdict_keys(['params', 'lr', 'momentum', 'dampening', 'weight_decay', 'nesterov'])\n"
          ]
        }
      ]
    },
    {
      "cell_type": "code",
      "metadata": {
        "id": "sYwTJJ4w5-YD"
      },
      "source": [
        "class ParamScheduler(Callback):\n",
        "    _order = 1\n",
        "    def __init__(self, pname, sched_func): self.pname, self.sched_func = pname, sched_func\n",
        "\n",
        "    def set_params(self):\n",
        "        for pg in self.opt.param_groups:\n",
        "            pg[self.pname] = self.sched_func(self.n_epochs / self.epochs)\n",
        "    \n",
        "    def begin_batch(self):\n",
        "        if self.in_train: self.set_params()"
      ],
      "execution_count": 71,
      "outputs": []
    },
    {
      "cell_type": "markdown",
      "metadata": {
        "id": "AM2lMj9y-v8T"
      },
      "source": [
        "---"
      ]
    },
    {
      "cell_type": "code",
      "metadata": {
        "id": "ku4uonm7-zaR"
      },
      "source": [
        "def annealer(func):\n",
        "    def _inner(start, end): return partial(func, start, end)\n",
        "    return _inner"
      ],
      "execution_count": 41,
      "outputs": []
    },
    {
      "cell_type": "code",
      "metadata": {
        "id": "6A0DJ45SEPAx"
      },
      "source": [
        ""
      ],
      "execution_count": null,
      "outputs": []
    },
    {
      "cell_type": "code",
      "metadata": {
        "id": "Im1NfmlO_OUM"
      },
      "source": [
        "import math\n",
        "\n",
        "@annealer\n",
        "def sched_lin(start, end, pos): return start + (end-start) * pos\n",
        "\n",
        "@annealer\n",
        "def sched_no(start, end, pos): return start\n",
        "\n",
        "@annealer\n",
        "def sched_exp(start, end, pos): return start * pow(end/start, pos)\n",
        "\n",
        "@annealer\n",
        "def sched_cos(start, end, pos): return start + (end-start)/2 * (1+ math.cos(((1-pos)*math.pi)))"
      ],
      "execution_count": 56,
      "outputs": []
    },
    {
      "cell_type": "code",
      "metadata": {
        "colab": {
          "base_uri": "https://localhost:8080/"
        },
        "id": "ypXUE-cFDh_h",
        "outputId": "1b79397b-410f-4ed7-8ebc-8d39a94d42f4"
      },
      "source": [
        "annealings = \"NO LINEAR COS EXP\".split()\n",
        "a = torch.arange(0, 100); a"
      ],
      "execution_count": 57,
      "outputs": [
        {
          "output_type": "execute_result",
          "data": {
            "text/plain": [
              "tensor([ 0,  1,  2,  3,  4,  5,  6,  7,  8,  9, 10, 11, 12, 13, 14, 15, 16, 17,\n",
              "        18, 19, 20, 21, 22, 23, 24, 25, 26, 27, 28, 29, 30, 31, 32, 33, 34, 35,\n",
              "        36, 37, 38, 39, 40, 41, 42, 43, 44, 45, 46, 47, 48, 49, 50, 51, 52, 53,\n",
              "        54, 55, 56, 57, 58, 59, 60, 61, 62, 63, 64, 65, 66, 67, 68, 69, 70, 71,\n",
              "        72, 73, 74, 75, 76, 77, 78, 79, 80, 81, 82, 83, 84, 85, 86, 87, 88, 89,\n",
              "        90, 91, 92, 93, 94, 95, 96, 97, 98, 99])"
            ]
          },
          "metadata": {},
          "execution_count": 57
        }
      ]
    },
    {
      "cell_type": "code",
      "metadata": {
        "colab": {
          "base_uri": "https://localhost:8080/"
        },
        "id": "leh4FdnlDkth",
        "outputId": "cf32454a-0c2f-4102-dbf6-2894efb4669b"
      },
      "source": [
        "p = torch.linspace(0.01, 1, 100); p"
      ],
      "execution_count": 58,
      "outputs": [
        {
          "output_type": "execute_result",
          "data": {
            "text/plain": [
              "tensor([0.0100, 0.0200, 0.0300, 0.0400, 0.0500, 0.0600, 0.0700, 0.0800, 0.0900,\n",
              "        0.1000, 0.1100, 0.1200, 0.1300, 0.1400, 0.1500, 0.1600, 0.1700, 0.1800,\n",
              "        0.1900, 0.2000, 0.2100, 0.2200, 0.2300, 0.2400, 0.2500, 0.2600, 0.2700,\n",
              "        0.2800, 0.2900, 0.3000, 0.3100, 0.3200, 0.3300, 0.3400, 0.3500, 0.3600,\n",
              "        0.3700, 0.3800, 0.3900, 0.4000, 0.4100, 0.4200, 0.4300, 0.4400, 0.4500,\n",
              "        0.4600, 0.4700, 0.4800, 0.4900, 0.5000, 0.5100, 0.5200, 0.5300, 0.5400,\n",
              "        0.5500, 0.5600, 0.5700, 0.5800, 0.5900, 0.6000, 0.6100, 0.6200, 0.6300,\n",
              "        0.6400, 0.6500, 0.6600, 0.6700, 0.6800, 0.6900, 0.7000, 0.7100, 0.7200,\n",
              "        0.7300, 0.7400, 0.7500, 0.7600, 0.7700, 0.7800, 0.7900, 0.8000, 0.8100,\n",
              "        0.8200, 0.8300, 0.8400, 0.8500, 0.8600, 0.8700, 0.8800, 0.8900, 0.9000,\n",
              "        0.9100, 0.9200, 0.9300, 0.9400, 0.9500, 0.9600, 0.9700, 0.9800, 0.9900,\n",
              "        1.0000])"
            ]
          },
          "metadata": {},
          "execution_count": 58
        }
      ]
    },
    {
      "cell_type": "code",
      "metadata": {
        "id": "L7iyssqCDnP_"
      },
      "source": [
        "fns = [sched_no, sched_lin, sched_cos, sched_exp]"
      ],
      "execution_count": 59,
      "outputs": []
    },
    {
      "cell_type": "code",
      "metadata": {
        "colab": {
          "base_uri": "https://localhost:8080/",
          "height": 282
        },
        "id": "lictYz2sDt9O",
        "outputId": "278a0c62-34c0-45ff-d353-d43a9a3db0ba"
      },
      "source": [
        "for fn, aname in zip(fns, annealings):\n",
        "    f = fn(2, 1e-2)\n",
        "    plt.plot(a, [f(tmp) for tmp in p], label=aname)\n",
        "plt.legend()"
      ],
      "execution_count": 60,
      "outputs": [
        {
          "output_type": "execute_result",
          "data": {
            "text/plain": [
              "<matplotlib.legend.Legend at 0x7fb40a908850>"
            ]
          },
          "metadata": {},
          "execution_count": 60
        },
        {
          "output_type": "display_data",
          "data": {
            "image/png": "[encoded data removed]",
            "text/plain": [
              "<Figure size 432x288 with 1 Axes>"
            ]
          },
          "metadata": {
            "needs_background": "light"
          }
        }
      ]
    },
    {
      "cell_type": "code",
      "metadata": {
        "id": "fk0wXqayEdOe"
      },
      "source": [
        "#A4\n",
        "\n",
        "def combine_scheds(points, schedulers):\n",
        "    assert sum(points) ==1.\n",
        "    points = tensor([0]+listify(points))#add 0\n",
        "    assert torch.all(points >= 0)\n",
        "    points = torch.cumsum(points, 0) #make cumulative sum with its dimension 0\n",
        "    def _inner(pos):\n",
        "        idx = (pos>=points).nonzero().max() #threshold where current position belongs\n",
        "        if idx ==2: idx =1 #prevent last case (when pos = 1)\n",
        "        actual_pos = (pos-points[idx]) / (points[idx+1]-points[idx])\n",
        "        return schedulers[idx](actual_pos)\n",
        "    return _inner"
      ],
      "execution_count": 78,
      "outputs": []
    },
    {
      "cell_type": "code",
      "metadata": {
        "id": "x6Kv3j-tGWMV"
      },
      "source": [
        "# 0~30% will be linear annealer from 0.3 through 0.6 and rest will be 0.6 to 0.2\n",
        "sched = combine_scheds(points=[0.3, 0.7], schedulers=[sched_lin(0.3, 0.6), sched_lin(0.6, 0.2)])"
      ],
      "execution_count": 79,
      "outputs": []
    },
    {
      "cell_type": "code",
      "metadata": {
        "id": "l_pGSo9KGte4"
      },
      "source": [
        "cbfs = [Recorder,\n",
        "        partial(AvgStatsCallback, accuracy),\n",
        "        partial(ParamScheduler, 'lr', sched)]"
      ],
      "execution_count": 83,
      "outputs": []
    },
    {
      "cell_type": "code",
      "metadata": {
        "id": "gHdb7z3FG6vj"
      },
      "source": [
        "def get_model_func(lr=0.5): return partial(get_model, lr=lr)\n",
        "\n",
        "learn = create_learner(get_model_func(0.3), loss_func, data)"
      ],
      "execution_count": 67,
      "outputs": []
    },
    {
      "cell_type": "code",
      "metadata": {
        "colab": {
          "base_uri": "https://localhost:8080/"
        },
        "id": "dzxYOKjbG_JJ",
        "outputId": "95aa6de5-5b8e-41b0-a7b8-ed7b0d971a26"
      },
      "source": [
        "run = Runner(cb_funcs=cbfs)\n",
        "run.fit(3, learn)"
      ],
      "execution_count": 84,
      "outputs": [
        {
          "output_type": "stream",
          "name": "stdout",
          "text": [
            "train: [0.77514765625, tensor(0.7838)]\n",
            "valid: [0.315703515625, tensor(0.9093)]\n",
            "train: [0.3076575390625, tensor(0.9100)]\n",
            "valid: [0.2414768310546875, tensor(0.9319)]\n",
            "train: [0.24628341796875, tensor(0.9301)]\n",
            "valid: [0.21478974609375, tensor(0.9408)]\n"
          ]
        }
      ]
    },
    {
      "cell_type": "code",
      "metadata": {
        "colab": {
          "base_uri": "https://localhost:8080/",
          "height": 265
        },
        "id": "HwT80OerHZ4b",
        "outputId": "05aac9aa-5905-48ff-eb75-e4971aaa76cd"
      },
      "source": [
        "run.recorder.plot_lr()"
      ],
      "execution_count": 85,
      "outputs": [
        {
          "output_type": "display_data",
          "data": {
            "image/png": "[encoded data removed]",
            "text/plain": [
              "<Figure size 432x288 with 1 Axes>"
            ]
          },
          "metadata": {
            "needs_background": "light"
          }
        }
      ]
    }
  ]
}