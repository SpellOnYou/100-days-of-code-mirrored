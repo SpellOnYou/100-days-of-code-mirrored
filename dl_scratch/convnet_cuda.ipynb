{
  "nbformat": 4,
  "nbformat_minor": 0,
  "metadata": {
    "colab": {
      "name": "convnet-cuda.ipynb",
      "provenance": []
    },
    "kernelspec": {
      "name": "python3",
      "display_name": "Python 3"
    },
    "accelerator": "GPU"
  },
  "cells": [
    {
      "cell_type": "code",
      "metadata": {
        "colab": {
          "base_uri": "https://localhost:8080/"
        },
        "id": "hKkNm8ZNkOt5",
        "outputId": "34b0ac23-314b-4dfa-b677-3533cac46a53"
      },
      "source": [
        "!git clone https://github.com/fastai/course-v3/"
      ],
      "execution_count": 1,
      "outputs": [
        {
          "output_type": "stream",
          "name": "stdout",
          "text": [
            "Cloning into 'course-v3'...\n",
            "remote: Enumerating objects: 5893, done.\u001b[K\n",
            "remote: Counting objects: 100% (3/3), done.\u001b[K\n",
            "remote: Compressing objects: 100% (3/3), done.\u001b[K\n",
            "remote: Total 5893 (delta 0), reused 2 (delta 0), pack-reused 5890\u001b[K\n",
            "Receiving objects: 100% (5893/5893), 263.03 MiB | 21.55 MiB/s, done.\n",
            "Resolving deltas: 100% (3249/3249), done.\n"
          ]
        }
      ]
    },
    {
      "cell_type": "code",
      "metadata": {
        "colab": {
          "base_uri": "https://localhost:8080/"
        },
        "id": "abbNtAJPkZ5Q",
        "outputId": "81d179d5-38cf-46b3-e4ca-cb9cd62975a9"
      },
      "source": [
        "%load_ext autoreload\n",
        "%autoreload 2\n",
        "%matplotlib inline\n",
        "%cd /content/course-v3/nbs/dl2/\n",
        "from exp.nb_06 import *"
      ],
      "execution_count": 1,
      "outputs": [
        {
          "output_type": "stream",
          "name": "stdout",
          "text": [
            "/content/course-v3/nbs/dl2\n"
          ]
        }
      ]
    },
    {
      "cell_type": "code",
      "metadata": {
        "id": "YPsk3MZIkfjw"
      },
      "source": [
        "def get_data():\n",
        "    # path = datasets.download_data(MNIST_URL, ext='.gz')\n",
        "    path = '/content/mnist.pkl.gz'\n",
        "    with gzip.open(path, 'rb') as f:\n",
        "        ((x_train, y_train), (x_valid, y_valid), _) = pickle.load(f, encoding='latin-1')\n",
        "    return map(tensor, (x_train,y_train,x_valid,y_valid))"
      ],
      "execution_count": 2,
      "outputs": []
    },
    {
      "cell_type": "code",
      "metadata": {
        "id": "LOAyzA1LkgEB"
      },
      "source": [
        "x_train, y_train, x_valid, y_valid = get_data()\n",
        "x_train, x_valid = normalize_to(x_train, x_valid)\n",
        "\n",
        "train_ds, valid_ds = Dataset(x_train, y_train), Dataset(x_valid, y_valid)\n",
        "nh, bs = 50, 512\n",
        "c = y_train.max().item()+1\n",
        "loss_func = F.cross_entropy\n",
        "\n",
        "data = DataBunch(*get_dls(train_ds, valid_ds, bs), c)\n",
        "mnist_view = view_tfm(1, 28, 28)\n",
        "cbfs = [Recorder,\n",
        "        partial(AvgStatsCallback, accuracy),\n",
        "        partial(BatchTransformXCallback, mnist_view)]\n",
        "\n",
        "nfs = [8, 16, 32, 64, 64]\n",
        "learn, run = get_learn_run(nfs, data, 0.4, conv_layer, cbs=cbfs)\n",
        "\n",
        "# %time run.fit(4, learn)"
      ],
      "execution_count": 3,
      "outputs": []
    },
    {
      "cell_type": "code",
      "metadata": {
        "id": "mh8GETHfkn_x"
      },
      "source": [
        "??get_cnn_model\n",
        "# ??get_learn_run"
      ],
      "execution_count": 12,
      "outputs": []
    },
    {
      "cell_type": "code",
      "metadata": {
        "id": "-8I9rQE1lX1J"
      },
      "source": [
        "??Lambda"
      ],
      "execution_count": null,
      "outputs": []
    },
    {
      "cell_type": "code",
      "metadata": {
        "id": "YBtyMuuKlFim"
      },
      "source": [
        "class Lambda(nn.Module):\n",
        "    def __init__(self, func):\n",
        "        super().__init__()\n",
        "        self.func = func\n",
        "    def forward(self, x): return self.func(x)"
      ],
      "execution_count": 7,
      "outputs": []
    },
    {
      "cell_type": "code",
      "metadata": {
        "id": "alXHOybmnykn"
      },
      "source": [
        "def mnist_view(x): return x.view(-1, 1, 28, 28)"
      ],
      "execution_count": 5,
      "outputs": []
    },
    {
      "cell_type": "code",
      "metadata": {
        "id": "_XAxsVEtqVDr"
      },
      "source": [
        "def flatten(x): return x.view(x.shape[0], -1)"
      ],
      "execution_count": 6,
      "outputs": []
    },
    {
      "cell_type": "code",
      "metadata": {
        "id": "L0Kz6k8Llw_G"
      },
      "source": [
        "def get_cnn_model(data):\n",
        "    return nn.Sequential(\n",
        "        Lambda(mnist_view),\n",
        "        nn.Conv2d(in_channels=1, out_channels=8, kernel_size=5, stride=2, padding=2), nn.ReLU(),\n",
        "        nn.Conv2d(in_channels=8, out_channels=16, kernel_size=3, stride=2, padding=1), nn.ReLU(),\n",
        "        nn.Conv2d(in_channels=16, out_channels=32, kernel_size=3, stride=2, padding=1), nn.ReLU(),\n",
        "        nn.Conv2d(in_channels=32, out_channels=32, kernel_size=3, stride=2, padding=1), nn.ReLU(),\n",
        "        nn.AdaptiveAvgPool2d(1),\n",
        "        Lambda(flatten),\n",
        "        nn.Linear(32, data.c)\n",
        "    )"
      ],
      "execution_count": 7,
      "outputs": []
    },
    {
      "cell_type": "code",
      "metadata": {
        "colab": {
          "base_uri": "https://localhost:8080/"
        },
        "id": "mzNMAi4XoTdL",
        "outputId": "dd7006f4-189b-43d8-93da-9b288f3dbdb8"
      },
      "source": [
        "xb, yb = next(iter(data.train_dl))\n",
        "get_cnn_model(data)(xb).shape"
      ],
      "execution_count": 14,
      "outputs": [
        {
          "output_type": "execute_result",
          "data": {
            "text/plain": [
              "torch.Size([512, 10])"
            ]
          },
          "metadata": {},
          "execution_count": 14
        }
      ]
    },
    {
      "cell_type": "markdown",
      "metadata": {
        "id": "rioDCPDPoPDX"
      },
      "source": [
        "---"
      ]
    },
    {
      "cell_type": "code",
      "metadata": {
        "id": "F6XVe0bUk5bt"
      },
      "source": [
        "class CudaCallback(Callback):\n",
        "    def begin_fit(self):\n",
        "        self.model = self.model.cuda()\n",
        "    def begin_batch(self):\n",
        "        self.run.xb, self.run.vb = self.xb.cuda(), self.yb.cuda()\n",
        "        "
      ],
      "execution_count": 11,
      "outputs": []
    },
    {
      "cell_type": "code",
      "metadata": {
        "colab": {
          "base_uri": "https://localhost:8080/"
        },
        "id": "PYPB1XgwlN0T",
        "outputId": "ebd5d5a7-9574-4a7e-d7dc-818e0677a7b0"
      },
      "source": [
        "loss_func = F.cross_entropy\n",
        "data = DataBunch(*get_dls(train_ds, valid_ds, bs), c)\n",
        "model = get_cnn_model(data)\n",
        "opt = optim.SGD(model.parameters(), lr=0.4)\n",
        "learn = Learner(model, opt, loss_func, data)\n",
        "\n",
        "cbfs = [Recorder,\n",
        "        partial(AvgStatsCallback, accuracy),\n",
        "        CudaCallback,\n",
        "        partial(BatchTransformXCallback, mnist_view)]\n",
        "\n",
        "\n",
        "run = Runner(cb_funcs=cbfs)\n",
        "%time run.fit(3, learn)"
      ],
      "execution_count": 8,
      "outputs": [
        {
          "output_type": "stream",
          "name": "stdout",
          "text": [
            "train: [2.31050140625, tensor(0.1333, device='cuda:0')]\n",
            "valid: [2.2949103515625, tensor(0.1064, device='cuda:0')]\n",
            "train: [1.46553796875, tensor(0.5190, device='cuda:0')]\n",
            "valid: [0.34649287109375, tensor(0.9001, device='cuda:0')]\n",
            "train: [0.27712203125, tensor(0.9160, device='cuda:0')]\n",
            "valid: [0.236508251953125, tensor(0.9326, device='cuda:0')]\n",
            "CPU times: user 4.45 s, sys: 888 ms, total: 5.34 s\n",
            "Wall time: 5.26 s\n"
          ]
        }
      ]
    },
    {
      "cell_type": "code",
      "metadata": {
        "id": "dyyHXCR4liG6"
      },
      "source": [
        ""
      ],
      "execution_count": null,
      "outputs": []
    }
  ]
}