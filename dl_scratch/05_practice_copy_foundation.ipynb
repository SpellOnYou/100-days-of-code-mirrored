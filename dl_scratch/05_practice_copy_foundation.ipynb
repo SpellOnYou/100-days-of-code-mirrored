{
  "nbformat": 4,
  "nbformat_minor": 0,
  "metadata": {
    "colab": {
      "name": "practice-copy-foundation",
      "provenance": [],
      "collapsed_sections": []
    },
    "kernelspec": {
      "name": "python3",
      "display_name": "Python 3"
    },
    "language_info": {
      "name": "python"
    }
  },
  "cells": [
    {
      "cell_type": "markdown",
      "metadata": {
        "id": "i-s6YliGodFA"
      },
      "source": [
        "- My own practice to implement(or copy) re-usable/probable codes from scratch. "
      ]
    },
    {
      "cell_type": "code",
      "metadata": {
        "id": "TGCJvPZ1nj4b"
      },
      "source": [
        "from time import sleep"
      ],
      "execution_count": 1,
      "outputs": []
    },
    {
      "cell_type": "code",
      "metadata": {
        "id": "jpIxiGVVnpM1"
      },
      "source": [
        "def show_calculation(cb=None):\n",
        "    '''\n",
        "    Parameters\n",
        "    ---\n",
        "    cb(function or class): handles \n",
        "    '''\n",
        "    res = 0\n",
        "    for i in range(5):\n",
        "        res += pow(i,2)\n",
        "        sleep(1)\n",
        "        # print(cb(i))\n",
        "        if cb: cb(i)\n",
        "    return res\n"
      ],
      "execution_count": 15,
      "outputs": []
    },
    {
      "cell_type": "code",
      "metadata": {
        "id": "YZ8ml0XfqAPI"
      },
      "source": [
        "def show_progress(x): lambda x: print(f\"Wow! you've reached {x}th iteration\")"
      ],
      "execution_count": 16,
      "outputs": []
    },
    {
      "cell_type": "markdown",
      "metadata": {
        "id": "fk2admR8qafJ"
      },
      "source": [
        "- Above show_process funtion returns nothing"
      ]
    },
    {
      "cell_type": "code",
      "metadata": {
        "id": "QyHSEUEWqNWY"
      },
      "source": [
        "show_progress(10)"
      ],
      "execution_count": 23,
      "outputs": []
    },
    {
      "cell_type": "code",
      "metadata": {
        "colab": {
          "base_uri": "https://localhost:8080/"
        },
        "id": "jN5QPgxcpT7j",
        "outputId": "20508a78-6068-425c-904b-2a8f6e93583b"
      },
      "source": [
        "show_calculation(show_progress)"
      ],
      "execution_count": 17,
      "outputs": [
        {
          "output_type": "execute_result",
          "data": {
            "text/plain": [
              "30"
            ]
          },
          "metadata": {},
          "execution_count": 17
        }
      ]
    },
    {
      "cell_type": "markdown",
      "metadata": {
        "id": "ljX8Zo-JpoAz"
      },
      "source": [
        "---"
      ]
    },
    {
      "cell_type": "code",
      "metadata": {
        "id": "MbZ-DNDdqhIV"
      },
      "source": [
        "# Q2.a\n",
        "def show_progress(x): print(f\"Wow! you've reached {x}th iteration\")"
      ],
      "execution_count": 24,
      "outputs": []
    },
    {
      "cell_type": "code",
      "metadata": {
        "colab": {
          "base_uri": "https://localhost:8080/"
        },
        "id": "4wHXx7AeqkdE",
        "outputId": "8c5f7ada-6908-446b-bd9a-eb87ce9ad5c4"
      },
      "source": [
        "show_calculation(show_progress)"
      ],
      "execution_count": 25,
      "outputs": [
        {
          "output_type": "stream",
          "name": "stdout",
          "text": [
            "Wow! you've reached 0th iteration\n",
            "Wow! you've reached 1th iteration\n",
            "Wow! you've reached 2th iteration\n",
            "Wow! you've reached 3th iteration\n",
            "Wow! you've reached 4th iteration\n"
          ]
        },
        {
          "output_type": "execute_result",
          "data": {
            "text/plain": [
              "30"
            ]
          },
          "metadata": {},
          "execution_count": 25
        }
      ]
    },
    {
      "cell_type": "code",
      "metadata": {
        "colab": {
          "base_uri": "https://localhost:8080/"
        },
        "id": "X2DjfOLEqoN4",
        "outputId": "f47b9f0b-c364-4e9a-8169-c036fee9c7f8"
      },
      "source": [
        "# Q2.b\n",
        "show_calculation(lambda x: print(f\"Wow! you've reached {x}th iteration\"))"
      ],
      "execution_count": 26,
      "outputs": [
        {
          "output_type": "stream",
          "name": "stdout",
          "text": [
            "Wow! you've reached 0th iteration\n",
            "Wow! you've reached 1th iteration\n",
            "Wow! you've reached 2th iteration\n",
            "Wow! you've reached 3th iteration\n",
            "Wow! you've reached 4th iteration\n"
          ]
        },
        {
          "output_type": "execute_result",
          "data": {
            "text/plain": [
              "30"
            ]
          },
          "metadata": {},
          "execution_count": 26
        }
      ]
    },
    {
      "cell_type": "markdown",
      "metadata": {
        "id": "YFGFoLMzqy4b"
      },
      "source": [
        "---"
      ]
    },
    {
      "cell_type": "code",
      "metadata": {
        "colab": {
          "base_uri": "https://localhost:8080/"
        },
        "id": "-s9cC8rTvJX4",
        "outputId": "a10841bd-6fdf-412a-bfdf-6818cfdc4175"
      },
      "source": [
        "# Q3.a - lambda\n",
        "def show_progress(exclamation, status): print(f\"{exclamation} you've reached {status}th iteration\")\n",
        "show_calculation(cb = lambda x: show_progress(\"Great!\", x))"
      ],
      "execution_count": 27,
      "outputs": [
        {
          "output_type": "stream",
          "name": "stdout",
          "text": [
            "Great! you've reached 0th iteration\n",
            "Great! you've reached 1th iteration\n",
            "Great! you've reached 2th iteration\n",
            "Great! you've reached 3th iteration\n",
            "Great! you've reached 4th iteration\n"
          ]
        },
        {
          "output_type": "execute_result",
          "data": {
            "text/plain": [
              "30"
            ]
          },
          "metadata": {},
          "execution_count": 27
        }
      ]
    },
    {
      "cell_type": "code",
      "metadata": {
        "id": "5x3xE3PVwaqf"
      },
      "source": [
        "# Q3.b - decorator\n",
        "def make_show_progress(exclamation):\n",
        "    def _inner(status): print(f\"{exclamation} you've reached {status}th iteration\")\n",
        "    return _inner"
      ],
      "execution_count": 29,
      "outputs": []
    },
    {
      "cell_type": "code",
      "metadata": {
        "colab": {
          "base_uri": "https://localhost:8080/"
        },
        "id": "MCepAmT9xGmB",
        "outputId": "7631b0f9-3ce2-436a-e279-b513f4d7e70f"
      },
      "source": [
        "show_calculation(make_show_progress(\"Fantastic!\"))"
      ],
      "execution_count": 31,
      "outputs": [
        {
          "output_type": "stream",
          "name": "stdout",
          "text": [
            "Fantastic! you've reached 0th iteration\n",
            "Fantastic! you've reached 1th iteration\n",
            "Fantastic! you've reached 2th iteration\n",
            "Fantastic! you've reached 3th iteration\n",
            "Fantastic! you've reached 4th iteration\n"
          ]
        },
        {
          "output_type": "execute_result",
          "data": {
            "text/plain": [
              "30"
            ]
          },
          "metadata": {},
          "execution_count": 31
        }
      ]
    },
    {
      "cell_type": "code",
      "metadata": {
        "colab": {
          "base_uri": "https://localhost:8080/"
        },
        "id": "EAIwW9yswxua",
        "outputId": "a400e5c6-fad7-41f8-faf6-2068aa2bee8b"
      },
      "source": [
        "# Q3.c - partial\n",
        "from functools import partial\n",
        "show_calculation(partial(show_progress, \"Wonderful!\"))"
      ],
      "execution_count": 33,
      "outputs": [
        {
          "output_type": "stream",
          "name": "stdout",
          "text": [
            "Wonderful! you've reached 0th iteration\n",
            "Wonderful! you've reached 1th iteration\n",
            "Wonderful! you've reached 2th iteration\n",
            "Wonderful! you've reached 3th iteration\n",
            "Wonderful! you've reached 4th iteration\n"
          ]
        },
        {
          "output_type": "execute_result",
          "data": {
            "text/plain": [
              "30"
            ]
          },
          "metadata": {},
          "execution_count": 33
        }
      ]
    }
  ]
}