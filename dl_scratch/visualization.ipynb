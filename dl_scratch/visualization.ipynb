{
  "nbformat": 4,
  "nbformat_minor": 0,
  "metadata": {
    "colab": {
      "name": "visualization.ipynb",
      "provenance": [],
      "collapsed_sections": []
    },
    "kernelspec": {
      "name": "python3",
      "display_name": "Python 3"
    },
    "language_info": {
      "name": "python"
    },
    "accelerator": "GPU"
  },
  "cells": [
    {
      "cell_type": "markdown",
      "metadata": {
        "id": "Mlzu0RKNNcix"
      },
      "source": [
        "1. torch summary\n",
        "2. tensorboard"
      ]
    },
    {
      "cell_type": "code",
      "metadata": {
        "id": "Hf12B_IGKG1x"
      },
      "source": [
        "from torchsummary import summary"
      ],
      "execution_count": 3,
      "outputs": []
    },
    {
      "cell_type": "code",
      "metadata": {
        "id": "40Wkf77IKLKI",
        "colab": {
          "base_uri": "https://localhost:8080/"
        },
        "outputId": "74f32dfd-92bf-41c5-a926-320bda8f8f05"
      },
      "source": [
        "!git clone https://github.com/fastai/course-v3\n",
        "%cd /content/course-v3/nbs/dl2\n",
        "from exp.nb_08 import *\n",
        "path = datasets.untar_data(datasets.URLs.IMAGENETTE_160)\n",
        "\n",
        "tfms = [make_rgb, ResizeFixed(128), to_byte_tensor, to_float_tensor]\n",
        "bs = 128\n",
        "il = ImageList.from_files(path, tfms=tfms)\n",
        "sd = SplitData.split_by_func(il, partial(grandparent_splitter, valid_name='val'))\n",
        "ll = label_by_func(sd, parent_labeler, proc_y=CategoryProcessor())\n",
        "data = ll.to_databunch(bs, c_in=3, c_out=10, num_workers=2)\n",
        "\n",
        "nfs = [32, 64, 128, 256]\n",
        "\n",
        "cbfs = [partial(AvgStatsCallback, accuracy),\n",
        "        CudaCallback,\n",
        "        partial(BatchTransformXCallback, norm_imagenette)]\n",
        "\n",
        "learn, run= get_learn_run(nfs, data, 0.4, conv_layer, cbs=cbfs)        "
      ],
      "execution_count": 2,
      "outputs": [
        {
          "output_type": "stream",
          "name": "stdout",
          "text": [
            "Cloning into 'course-v3'...\n",
            "remote: Enumerating objects: 5893, done.\u001b[K\n",
            "remote: Counting objects:  33% (1/3)\u001b[K\rremote: Counting objects:  66% (2/3)\u001b[K\rremote: Counting objects: 100% (3/3)\u001b[K\rremote: Counting objects: 100% (3/3), done.\u001b[K\n",
            "remote: Compressing objects: 100% (3/3), done.\u001b[K\n",
            "remote: Total 5893 (delta 0), reused 2 (delta 0), pack-reused 5890\u001b[K\n",
            "Receiving objects: 100% (5893/5893), 263.03 MiB | 40.17 MiB/s, done.\n",
            "Resolving deltas: 100% (3249/3249), done.\n",
            "/content/course-v3/nbs/dl2\n"
          ]
        }
      ]
    },
    {
      "cell_type": "code",
      "metadata": {
        "colab": {
          "base_uri": "https://localhost:8080/"
        },
        "id": "An2a8x8SLgxq",
        "outputId": "bb31d863-2591-4b24-9fb8-0760989b213f"
      },
      "source": [
        "next(iter(learn.data.train_dl))[1].shape"
      ],
      "execution_count": 12,
      "outputs": [
        {
          "output_type": "execute_result",
          "data": {
            "text/plain": [
              "torch.Size([128])"
            ]
          },
          "metadata": {},
          "execution_count": 12
        }
      ]
    },
    {
      "cell_type": "code",
      "metadata": {
        "colab": {
          "base_uri": "https://localhost:8080/"
        },
        "id": "AGrfHO-CK_-q",
        "outputId": "9df2e694-b9e4-4d5f-ac91-2f5040c3ed69"
      },
      "source": [
        "summary(learn.model.cuda(), input_size = learn.data.train_ds[0][0].shape, batch_size=128)"
      ],
      "execution_count": 17,
      "outputs": [
        {
          "output_type": "stream",
          "name": "stdout",
          "text": [
            "----------------------------------------------------------------\n",
            "        Layer (type)               Output Shape         Param #\n",
            "================================================================\n",
            "            Conv2d-1        [128, 16, 128, 128]             432\n",
            "       GeneralRelu-2        [128, 16, 128, 128]               0\n",
            "       BatchNorm2d-3        [128, 16, 128, 128]              32\n",
            "            Conv2d-4          [128, 32, 64, 64]           4,608\n",
            "       GeneralRelu-5          [128, 32, 64, 64]               0\n",
            "       BatchNorm2d-6          [128, 32, 64, 64]              64\n",
            "            Conv2d-7          [128, 64, 32, 32]          18,432\n",
            "       GeneralRelu-8          [128, 64, 32, 32]               0\n",
            "       BatchNorm2d-9          [128, 64, 32, 32]             128\n",
            "           Conv2d-10          [128, 32, 16, 16]          18,432\n",
            "      GeneralRelu-11          [128, 32, 16, 16]               0\n",
            "      BatchNorm2d-12          [128, 32, 16, 16]              64\n",
            "           Conv2d-13            [128, 64, 8, 8]          18,432\n",
            "      GeneralRelu-14            [128, 64, 8, 8]               0\n",
            "      BatchNorm2d-15            [128, 64, 8, 8]             128\n",
            "           Conv2d-16           [128, 128, 4, 4]          73,728\n",
            "      GeneralRelu-17           [128, 128, 4, 4]               0\n",
            "      BatchNorm2d-18           [128, 128, 4, 4]             256\n",
            "           Conv2d-19           [128, 256, 2, 2]         294,912\n",
            "      GeneralRelu-20           [128, 256, 2, 2]               0\n",
            "      BatchNorm2d-21           [128, 256, 2, 2]             512\n",
            "AdaptiveAvgPool2d-22           [128, 256, 1, 1]               0\n",
            "           Lambda-23                 [128, 256]               0\n",
            "           Linear-24                  [128, 10]           2,570\n",
            "================================================================\n",
            "Total params: 432,730\n",
            "Trainable params: 432,730\n",
            "Non-trainable params: 0\n",
            "----------------------------------------------------------------\n",
            "Input size (MB): 24.00\n",
            "Forward/backward pass size (MB): 1389.51\n",
            "Params size (MB): 1.65\n",
            "Estimated Total Size (MB): 1415.16\n",
            "----------------------------------------------------------------\n"
          ]
        }
      ]
    },
    {
      "cell_type": "code",
      "metadata": {
        "colab": {
          "base_uri": "https://localhost:8080/"
        },
        "id": "grhwaaLSMoJR",
        "outputId": "ea294c63-8ccb-459e-df48-db250b71e840"
      },
      "source": [
        "import inspect; inspect.getfullargspec(summary)"
      ],
      "execution_count": 22,
      "outputs": [
        {
          "output_type": "execute_result",
          "data": {
            "text/plain": [
              "FullArgSpec(args=['model', 'input_size', 'batch_size', 'device'], varargs=None, varkw=None, defaults=(-1, 'cuda'), kwonlyargs=[], kwonlydefaults=None, annotations={})"
            ]
          },
          "metadata": {},
          "execution_count": 22
        }
      ]
    }
  ]
}