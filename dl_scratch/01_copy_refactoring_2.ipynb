{
  "nbformat": 4,
  "nbformat_minor": 0,
  "metadata": {
    "colab": {
      "name": "01_copy_refactoring_2.ipynb",
      "provenance": []
    },
    "kernelspec": {
      "name": "python3",
      "display_name": "Python 3"
    }
  },
  "cells": [
    {
      "cell_type": "markdown",
      "metadata": {
        "id": "JqCyOgG3fpZF",
        "colab_type": "text"
      },
      "source": [
        "lessons from scratching the code second\n",
        "\n",
        "- First I just tried to replicate the same code Jeremy wrote(as he and many expert advised), I didn't understand what these or those codes function\n",
        "- Second, I started to feel myself, inheriting module, which controls the whole forward or backward, was quite reasonable.\n",
        "- Feels like getting out of numb state."
      ]
    },
    {
      "cell_type": "code",
      "metadata": {
        "id": "5LDE-pNqqyO6",
        "colab_type": "code",
        "colab": {}
      },
      "source": [
        "from torch import tensor\n",
        "from fastai import datasets\n",
        "import gzip, pickle\n",
        "from math import sqrt"
      ],
      "execution_count": null,
      "outputs": []
    },
    {
      "cell_type": "code",
      "metadata": {
        "id": "A8Kv-Mkmv654",
        "colab_type": "code",
        "colab": {}
      },
      "source": [
        "MNIST_URL = 'http://deeplearning.net/data/mnist/mnist.pkl'"
      ],
      "execution_count": null,
      "outputs": []
    },
    {
      "cell_type": "code",
      "metadata": {
        "id": "28feBDuNsmtk",
        "colab_type": "code",
        "colab": {}
      },
      "source": [
        "def get_data():\n",
        "    path = datasets.download_data(MNIST_URL, ext='.gz')\n",
        "    with gzip.open(path, 'rb') as f:\n",
        "        (x_train, y_train), (x_valid, y_valid), _ = pickle.load(f, encoding='latin-1')\n",
        "    return map(tensor, (x_train, y_train, x_valid, y_valid))"
      ],
      "execution_count": 3,
      "outputs": []
    },
    {
      "cell_type": "code",
      "metadata": {
        "id": "Lv8KeZMooev7",
        "colab_type": "code",
        "colab": {}
      },
      "source": [
        "train_x, train_y, valid_x, valid_y = get_data()"
      ],
      "execution_count": 5,
      "outputs": []
    },
    {
      "cell_type": "code",
      "metadata": {
        "id": "iKLh86xbPbMa",
        "colab_type": "code",
        "colab": {
          "base_uri": "https://localhost:8080/",
          "height": 35
        },
        "outputId": "220ab57b-f13a-4adf-dea3-7118895eed60"
      },
      "source": [
        "del x_train, y_train, x_valid, y_valid\n",
        "import gc\n",
        "gc.collect()"
      ],
      "execution_count": 6,
      "outputs": [
        {
          "output_type": "execute_result",
          "data": {
            "text/plain": [
              "171"
            ]
          },
          "metadata": {
            "tags": []
          },
          "execution_count": 6
        }
      ]
    },
    {
      "cell_type": "markdown",
      "metadata": {
        "id": "8x2lbgLUPOsH",
        "colab_type": "text"
      },
      "source": [
        "Dataset normalize\n",
        "---"
      ]
    },
    {
      "cell_type": "code",
      "metadata": {
        "id": "r93Vv2qbPRz9",
        "colab_type": "code",
        "colab": {}
      },
      "source": [
        "train_m, train_s = train_x.mean(), train_x.std()"
      ],
      "execution_count": 7,
      "outputs": []
    },
    {
      "cell_type": "code",
      "metadata": {
        "id": "Ovd4NzlzPnMR",
        "colab_type": "code",
        "colab": {}
      },
      "source": [
        "def normalize(x, m, s): return((x-m)/s)"
      ],
      "execution_count": 8,
      "outputs": []
    },
    {
      "cell_type": "code",
      "metadata": {
        "id": "40nONi6UPrLH",
        "colab_type": "code",
        "colab": {}
      },
      "source": [
        "train_x = normalize(train_x, train_m, train_s)\n",
        "valid_x = normalize(valid_x, train_m, train_s)"
      ],
      "execution_count": 9,
      "outputs": []
    },
    {
      "cell_type": "code",
      "metadata": {
        "id": "Pnh17kNxP0G1",
        "colab_type": "code",
        "colab": {}
      },
      "source": [
        "def describe(x): return(f\"mean: {x.mean()}, std: {x.std()}, shape:{x.shape}, type: {x.type()}\")"
      ],
      "execution_count": 10,
      "outputs": []
    },
    {
      "cell_type": "code",
      "metadata": {
        "id": "2tuPHJBfQFXq",
        "colab_type": "code",
        "colab": {
          "base_uri": "https://localhost:8080/",
          "height": 35
        },
        "outputId": "f0dff064-b524-42b2-ec10-1b538ae20ae8"
      },
      "source": [
        "describe(train_x)"
      ],
      "execution_count": null,
      "outputs": [
        {
          "output_type": "execute_result",
          "data": {
            "application/vnd.google.colaboratory.intrinsic": {
              "type": "string"
            },
            "text/plain": [
              "'mean: 0.00012300178059376776, std: 1.0, shape:torch.Size([50000, 784]), type: torch.FloatTensor'"
            ]
          },
          "metadata": {
            "tags": []
          },
          "execution_count": 11
        }
      ]
    },
    {
      "cell_type": "code",
      "metadata": {
        "id": "TRZ8L_wXQGbn",
        "colab_type": "code",
        "colab": {
          "base_uri": "https://localhost:8080/",
          "height": 35
        },
        "outputId": "95bccafb-3778-4c73-8d2e-c95c6b35abcd"
      },
      "source": [
        "describe(valid_x)"
      ],
      "execution_count": 12,
      "outputs": [
        {
          "output_type": "execute_result",
          "data": {
            "application/vnd.google.colaboratory.intrinsic": {
              "type": "string"
            },
            "text/plain": [
              "'mean: -0.005747819785028696, std: 0.9924333691596985, shape:torch.Size([10000, 784]), type: torch.FloatTensor'"
            ]
          },
          "metadata": {
            "tags": []
          },
          "execution_count": 12
        }
      ]
    },
    {
      "cell_type": "code",
      "metadata": {
        "id": "ccb8Sx0ZQIRE",
        "colab_type": "code",
        "colab": {}
      },
      "source": [
        "class Module():\n",
        "    def __call__(self, *arg):\n",
        "        self.arg = arg\n",
        "        self.out = self.forward(*arg) #check if i can put *self.arg\n",
        "    # def forward(self)\n",
        "\n",
        "    def backward(self):\n",
        "        self.bwd(self.out, *self.arg)"
      ],
      "execution_count": null,
      "outputs": []
    },
    {
      "cell_type": "code",
      "metadata": {
        "id": "kbjhHA6rQN6n",
        "colab_type": "code",
        "colab": {}
      },
      "source": [
        "class Lin(Module):\n",
        "    def __init__(self, w, b):\n",
        "        self.w, self.b = w, b\n",
        "    def forward(self, x): return x @ self.w + self.b\n",
        "    def bwd(self,y,x):\n",
        "        self.w.g = x.t() @ y.g \n",
        "        self.b.g = y.g.sum(0)\n",
        "        x.g = y.g @ self.w.t()"
      ],
      "execution_count": null,
      "outputs": []
    },
    {
      "cell_type": "code",
      "metadata": {
        "id": "oyokNDXsQOGv",
        "colab_type": "code",
        "colab": {}
      },
      "source": [
        "class Mse(Module):\n",
        "    def forward(self, x, y): return (x.squeeze() - y.float()).pow(2).mean().unsqueeze(-1)\n",
        "    def bwd(self, out, x, y): x.g =  (x.squeeze() - y.float()).unsqueeze(-1)*2/x.shape[0]"
      ],
      "execution_count": 93,
      "outputs": []
    },
    {
      "cell_type": "code",
      "metadata": {
        "id": "QCb7vRSbQOQj",
        "colab_type": "code",
        "colab": {}
      },
      "source": [
        "class Relu(Module):\n",
        "    def forward(self, x): return x.clamp_min(0.)-0.5\n",
        "    def bwd(self, y, x): x.g = (x>0).float() * y.g"
      ],
      "execution_count": null,
      "outputs": []
    },
    {
      "cell_type": "code",
      "metadata": {
        "id": "L-VwzpFAQOZL",
        "colab_type": "code",
        "colab": {}
      },
      "source": [
        "class Model():\n",
        "    def __init__(self, w1, w2, b1, b2):\n",
        "        self.layers = [Lin(w1, b1), Relu(), Lin(w2, b2)]\n",
        "        self.loss = Mse()\n",
        "    def __call__(self, x, y):\n",
        "        for l in self.layers: x = l(x)\n",
        "        return self.loss(x,y)\n",
        "    def backward(self):\n",
        "        self.loss.backward()\n",
        "        for r in reversed(self.layers): r.backward()"
      ],
      "execution_count": null,
      "outputs": []
    },
    {
      "cell_type": "code",
      "metadata": {
        "id": "_ztv4u0fVFPY",
        "colab_type": "code",
        "colab": {}
      },
      "source": [
        "from torch import randn, zeros"
      ],
      "execution_count": null,
      "outputs": []
    },
    {
      "cell_type": "code",
      "metadata": {
        "id": "RgxWCqrJUpHO",
        "colab_type": "code",
        "colab": {}
      },
      "source": [
        "n, nh, c = train_x.shape[1], 68, 1\n",
        "w1 = randn(n, nh) * sqrt(2/n)\n",
        "b1 = zeros(nh)\n",
        "w2 = randn(nh, c) * sqrt(2/nh)\n",
        "b2 = zeros(c)"
      ],
      "execution_count": null,
      "outputs": []
    },
    {
      "cell_type": "code",
      "metadata": {
        "id": "U4I3WpiVUnc0",
        "colab_type": "code",
        "colab": {}
      },
      "source": [
        "model = Model(w1, w2, b1, b2)"
      ],
      "execution_count": null,
      "outputs": []
    },
    {
      "cell_type": "code",
      "metadata": {
        "id": "bCLpfIILVIc3",
        "colab_type": "code",
        "colab": {
          "base_uri": "https://localhost:8080/",
          "height": 35
        },
        "outputId": "6e945152-ec8e-40ae-8752-6906db82c255"
      },
      "source": [
        "model(train_x, train_y)"
      ],
      "execution_count": null,
      "outputs": [
        {
          "output_type": "execute_result",
          "data": {
            "text/plain": [
              "tensor([32.8865])"
            ]
          },
          "metadata": {
            "tags": []
          },
          "execution_count": 99
        }
      ]
    },
    {
      "cell_type": "code",
      "metadata": {
        "id": "LqGtgoctVgPw",
        "colab_type": "code",
        "colab": {}
      },
      "source": [
        "model.backward()"
      ],
      "execution_count": null,
      "outputs": []
    },
    {
      "cell_type": "code",
      "metadata": {
        "id": "zLU-S1zMViOE",
        "colab_type": "code",
        "colab": {}
      },
      "source": [
        ""
      ],
      "execution_count": null,
      "outputs": []
    }
  ]
}
