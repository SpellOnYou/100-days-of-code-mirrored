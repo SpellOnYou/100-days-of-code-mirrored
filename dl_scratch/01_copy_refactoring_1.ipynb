{
  "nbformat": 4,
  "nbformat_minor": 0,
  "metadata": {
    "colab": {
      "name": "01_copy_refactoring_1.ipynb",
      "provenance": []
    },
    "kernelspec": {
      "name": "python3",
      "display_name": "Python 3"
    }
  },
  "cells": [
    {
      "cell_type": "markdown",
      "metadata": {
        "id": "bjJ7JK9Nl68t",
        "colab_type": "text"
      },
      "source": [
        "Re-copy Refactoring part of `01_fully_connected.ipynb`"
      ]
    },
    {
      "cell_type": "markdown",
      "metadata": {
        "id": "f9sSXQEhmLhz",
        "colab_type": "text"
      },
      "source": [
        "Refactoring\n",
        "- Layers as classes\n",
        "- forward module\n",
        "- without einsum\n",
        "- nn.Linear / nn.Module"
      ]
    },
    {
      "cell_type": "code",
      "metadata": {
        "id": "5LDE-pNqqyO6",
        "colab_type": "code",
        "colab": {}
      },
      "source": [
        "from torch import tensor\n",
        "from fastai import datasets\n",
        "import gzip, pickle\n",
        "from math import sqrt"
      ],
      "execution_count": null,
      "outputs": []
    },
    {
      "cell_type": "code",
      "metadata": {
        "id": "A8Kv-Mkmv654",
        "colab_type": "code",
        "colab": {}
      },
      "source": [
        "MNIST_URL = 'http://deeplearning.net/data/mnist/mnist.pkl'"
      ],
      "execution_count": null,
      "outputs": []
    },
    {
      "cell_type": "code",
      "metadata": {
        "id": "28feBDuNsmtk",
        "colab_type": "code",
        "colab": {}
      },
      "source": [
        "def get_data():\n",
        "    path = datasets.download_data(MNIST_URL, ext='.gz')\n",
        "    with gzip.open(path, 'rb') as f:\n",
        "        (x_train, y_train), (x_valid, y_valid), _ = pickle.load(f, encoding='latin-1')\n",
        "    return map(tensor, (x_train, y_train, x_valid, y_valid))"
      ],
      "execution_count": null,
      "outputs": []
    },
    {
      "cell_type": "code",
      "metadata": {
        "id": "Lv8KeZMooev7",
        "colab_type": "code",
        "colab": {}
      },
      "source": [
        "x_train, y_train, x_valid, y_valid = get_data()"
      ],
      "execution_count": null,
      "outputs": []
    },
    {
      "cell_type": "code",
      "metadata": {
        "id": "_IOD9q8TtQXd",
        "colab_type": "code",
        "colab": {}
      },
      "source": [
        "def describe(x): return (x.shape, x.type(), f\"mean: {x.mean()}, std: {x.std()}\")"
      ],
      "execution_count": null,
      "outputs": []
    },
    {
      "cell_type": "code",
      "metadata": {
        "id": "XkyJgtMRtda2",
        "colab_type": "code",
        "colab": {
          "base_uri": "https://localhost:8080/",
          "height": 69
        },
        "outputId": "1739c70a-93a6-46fe-be98-729180bab1ce"
      },
      "source": [
        "describe(x_train)"
      ],
      "execution_count": null,
      "outputs": [
        {
          "output_type": "execute_result",
          "data": {
            "text/plain": [
              "(torch.Size([50000, 784]),\n",
              " 'torch.FloatTensor',\n",
              " 'mean: 0.1304190456867218, std: 0.30728983879089355')"
            ]
          },
          "metadata": {
            "tags": []
          },
          "execution_count": 6
        }
      ]
    },
    {
      "cell_type": "markdown",
      "metadata": {
        "id": "8c8qsFQkudKy",
        "colab_type": "text"
      },
      "source": [
        "Dataset Normalization\n",
        "---"
      ]
    },
    {
      "cell_type": "code",
      "metadata": {
        "id": "7KB4qhWfux_h",
        "colab_type": "code",
        "colab": {}
      },
      "source": [
        "def normalize(x, m, n): return (x-m)/n"
      ],
      "execution_count": null,
      "outputs": []
    },
    {
      "cell_type": "code",
      "metadata": {
        "id": "IvQj7-SVueey",
        "colab_type": "code",
        "colab": {
          "base_uri": "https://localhost:8080/",
          "height": 121
        },
        "outputId": "76536adc-16d0-4db2-f2e5-0211fa0d693a"
      },
      "source": [
        "x_mean, x_std = x_train.mean(), x_train.std()\n",
        "describe(x_train), describe(x_valid)"
      ],
      "execution_count": null,
      "outputs": [
        {
          "output_type": "execute_result",
          "data": {
            "text/plain": [
              "((torch.Size([50000, 784]),\n",
              "  'torch.FloatTensor',\n",
              "  'mean: 0.1304190456867218, std: 0.30728983879089355'),\n",
              " (torch.Size([10000, 784]),\n",
              "  'torch.FloatTensor',\n",
              "  'mean: 0.12865190207958221, std: 0.30496466159820557'))"
            ]
          },
          "metadata": {
            "tags": []
          },
          "execution_count": 14
        }
      ]
    },
    {
      "cell_type": "code",
      "metadata": {
        "id": "BWatIu0qu9D7",
        "colab_type": "code",
        "colab": {}
      },
      "source": [
        "x_train, x_valid = normalize(x_train, x_mean, x_std) , normalize(x_valid, x_mean, x_std)"
      ],
      "execution_count": null,
      "outputs": []
    },
    {
      "cell_type": "code",
      "metadata": {
        "id": "5J96fiyxw1zX",
        "colab_type": "code",
        "colab": {
          "base_uri": "https://localhost:8080/",
          "height": 69
        },
        "outputId": "a0d69541-0698-4e76-b4b0-0381bf3b10cf"
      },
      "source": [
        "describe(x_train)"
      ],
      "execution_count": null,
      "outputs": [
        {
          "output_type": "execute_result",
          "data": {
            "text/plain": [
              "(torch.Size([50000, 784]),\n",
              " 'torch.FloatTensor',\n",
              " 'mean: 0.00012300178059376776, std: 1.0')"
            ]
          },
          "metadata": {
            "tags": []
          },
          "execution_count": 16
        }
      ]
    },
    {
      "cell_type": "code",
      "metadata": {
        "id": "P_fSBsN-xanm",
        "colab_type": "code",
        "colab": {
          "base_uri": "https://localhost:8080/",
          "height": 69
        },
        "outputId": "509ad75d-a6f5-4876-a2b1-86433c686292"
      },
      "source": [
        "describe(x_valid)"
      ],
      "execution_count": null,
      "outputs": [
        {
          "output_type": "execute_result",
          "data": {
            "text/plain": [
              "(torch.Size([10000, 784]),\n",
              " 'torch.FloatTensor',\n",
              " 'mean: -0.005747819785028696, std: 0.9924333691596985')"
            ]
          },
          "metadata": {
            "tags": []
          },
          "execution_count": 17
        }
      ]
    },
    {
      "cell_type": "markdown",
      "metadata": {
        "id": "WQg6JA2UxDsd",
        "colab_type": "text"
      },
      "source": [
        "parameter init with kaiming normalization\n",
        "---"
      ]
    },
    {
      "cell_type": "code",
      "metadata": {
        "id": "JqAol4ZlxqhA",
        "colab_type": "code",
        "colab": {
          "base_uri": "https://localhost:8080/",
          "height": 35
        },
        "outputId": "7da55157-917a-4f05-99fa-cab02c6f4c62"
      },
      "source": [
        "n, c, nh = x_train.shape[1], 1, 80 # int(y_train.max()+1), 80 : when do cross-entropy, softmax\n",
        "n,nh, c"
      ],
      "execution_count": null,
      "outputs": [
        {
          "output_type": "execute_result",
          "data": {
            "text/plain": [
              "(784, 80, 1)"
            ]
          },
          "metadata": {
            "tags": []
          },
          "execution_count": 44
        }
      ]
    },
    {
      "cell_type": "code",
      "metadata": {
        "id": "4u06Mf2RyKhB",
        "colab_type": "code",
        "colab": {}
      },
      "source": [
        "from torch import randn, zeros"
      ],
      "execution_count": null,
      "outputs": []
    },
    {
      "cell_type": "markdown",
      "metadata": {
        "id": "9KRaYXZyzlvp",
        "colab_type": "text"
      },
      "source": [
        "* refered eq.10 of [paper](), mistaken it and at first, I *divided* by sqrt(2/n), not multiplying!!!!!!!!!"
      ]
    },
    {
      "cell_type": "code",
      "metadata": {
        "id": "WjL9BCkKw3Iy",
        "colab_type": "code",
        "colab": {}
      },
      "source": [
        "w1 = randn(n, nh) * sqrt(2/n)\n",
        "b1 = zeros(nh)\n",
        "w2 = randn(nh, c) * sqrt(2/nh)\n",
        "b2 = zeros(c) "
      ],
      "execution_count": null,
      "outputs": []
    },
    {
      "cell_type": "code",
      "metadata": {
        "id": "UWi5Fp0-yuTK",
        "colab_type": "code",
        "colab": {
          "base_uri": "https://localhost:8080/",
          "height": 69
        },
        "outputId": "01258f6f-bceb-4072-85ce-d169422f79f3"
      },
      "source": [
        "describe(w1)"
      ],
      "execution_count": null,
      "outputs": [
        {
          "output_type": "execute_result",
          "data": {
            "text/plain": [
              "(torch.Size([784, 80]),\n",
              " 'torch.FloatTensor',\n",
              " 'mean: 0.00014483169070445, std: 0.050243474543094635')"
            ]
          },
          "metadata": {
            "tags": []
          },
          "execution_count": 47
        }
      ]
    },
    {
      "cell_type": "markdown",
      "metadata": {
        "id": "YyT6cIixzNN9",
        "colab_type": "text"
      },
      "source": [
        "* Why bias is okay without normalization?"
      ]
    },
    {
      "cell_type": "markdown",
      "metadata": {
        "id": "oWad0v7kz9EZ",
        "colab_type": "text"
      },
      "source": [
        "---"
      ]
    },
    {
      "cell_type": "markdown",
      "metadata": {
        "id": "Ab2m5gW20AuB",
        "colab_type": "text"
      },
      "source": [
        "function : loss function, linear computation, activation function\n",
        "---"
      ]
    },
    {
      "cell_type": "code",
      "metadata": {
        "id": "lN-pSlJb0Q8l",
        "colab_type": "code",
        "colab": {}
      },
      "source": [
        "#input: n by 1 FloatTensor, trg: n LongTensor, #output: n by 1 floattensor\n",
        "def mse_loss(pred, trg): return((pred.squeeze() - trg.float()).pow(2).sum(0).unsqueeze(-1)/pred.shape[0])"
      ],
      "execution_count": null,
      "outputs": []
    },
    {
      "cell_type": "code",
      "metadata": {
        "id": "TbU-K9STJUdQ",
        "colab_type": "code",
        "colab": {}
      },
      "source": [
        "def lin(x, w, b): return(x@w+b)"
      ],
      "execution_count": null,
      "outputs": []
    },
    {
      "cell_type": "code",
      "metadata": {
        "id": "FvpYuyvQ0RM7",
        "colab_type": "code",
        "colab": {}
      },
      "source": [
        "def relu(x): return(x.clamp_min(0.))"
      ],
      "execution_count": null,
      "outputs": []
    },
    {
      "cell_type": "code",
      "metadata": {
        "id": "wVZ5SsoLJ9Dm",
        "colab_type": "code",
        "colab": {
          "base_uri": "https://localhost:8080/",
          "height": 35
        },
        "outputId": "dd3c5498-a314-47eb-f889-4a2d175ea318"
      },
      "source": [
        "l1 = lin(x_train, w1, b1); l1.shape"
      ],
      "execution_count": null,
      "outputs": [
        {
          "output_type": "execute_result",
          "data": {
            "text/plain": [
              "torch.Size([50000, 80])"
            ]
          },
          "metadata": {
            "tags": []
          },
          "execution_count": 123
        }
      ]
    },
    {
      "cell_type": "code",
      "metadata": {
        "id": "KeIxcRTdKavS",
        "colab_type": "code",
        "colab": {
          "base_uri": "https://localhost:8080/",
          "height": 69
        },
        "outputId": "be34d19e-1207-40b7-9ef3-31282b0a25f4"
      },
      "source": [
        "a1 = relu(l1); describe(a1)"
      ],
      "execution_count": null,
      "outputs": [
        {
          "output_type": "execute_result",
          "data": {
            "text/plain": [
              "(torch.Size([50000, 80]),\n",
              " 'torch.FloatTensor',\n",
              " 'mean: 0.5839827656745911, std: 0.837601900100708')"
            ]
          },
          "metadata": {
            "tags": []
          },
          "execution_count": 62
        }
      ]
    },
    {
      "cell_type": "code",
      "metadata": {
        "id": "UEo_vUYRKhJC",
        "colab_type": "code",
        "colab": {
          "base_uri": "https://localhost:8080/",
          "height": 69
        },
        "outputId": "d14f4f43-3858-4581-923b-78e2f1211fe7"
      },
      "source": [
        "l2 = lin(a1, w2, b2); describe(l2)"
      ],
      "execution_count": null,
      "outputs": [
        {
          "output_type": "execute_result",
          "data": {
            "text/plain": [
              "(torch.Size([50000, 1]),\n",
              " 'torch.FloatTensor',\n",
              " 'mean: -1.4752967357635498, std: 0.9234262108802795')"
            ]
          },
          "metadata": {
            "tags": []
          },
          "execution_count": 63
        }
      ]
    },
    {
      "cell_type": "markdown",
      "metadata": {
        "id": "BHXJPlswKmv0",
        "colab_type": "text"
      },
      "source": [
        "- I think jeremy advised us to subtract 0.5 at relu. but when I go through l2, mean is near 0.1, which is better not to subtract 0.5\n"
      ]
    },
    {
      "cell_type": "code",
      "metadata": {
        "id": "z7ueDcNDK7EG",
        "colab_type": "code",
        "colab": {
          "base_uri": "https://localhost:8080/",
          "height": 69
        },
        "outputId": "49ed3a04-4e5d-4fed-82aa-a1fc59a761e5"
      },
      "source": [
        "# what if I applied-0.5 and did linear2?\n",
        "describe(lin(relu(l1)-0.5, w2, b2))"
      ],
      "execution_count": null,
      "outputs": [
        {
          "output_type": "execute_result",
          "data": {
            "text/plain": [
              "(torch.Size([50000, 1]),\n",
              " 'torch.FloatTensor',\n",
              " 'mean: -1.0406056642532349, std: 0.9234262108802795')"
            ]
          },
          "metadata": {
            "tags": []
          },
          "execution_count": 64
        }
      ]
    },
    {
      "cell_type": "code",
      "metadata": {
        "id": "8h4dndvvLJeq",
        "colab_type": "code",
        "colab": {}
      },
      "source": [
        "# little better, almost amount of number I subtracted"
      ],
      "execution_count": null,
      "outputs": []
    },
    {
      "cell_type": "code",
      "metadata": {
        "id": "A6pURCd7LRgy",
        "colab_type": "code",
        "colab": {}
      },
      "source": [
        "def relu(x): return(x.clamp_min(0.)-0.5)"
      ],
      "execution_count": null,
      "outputs": []
    },
    {
      "cell_type": "code",
      "metadata": {
        "id": "V-1E5FEYLM2W",
        "colab_type": "code",
        "colab": {}
      },
      "source": [
        "a1 = relu(l1)\n",
        "l2 = lin(a1, w2, b2)"
      ],
      "execution_count": null,
      "outputs": []
    },
    {
      "cell_type": "code",
      "metadata": {
        "id": "P1nLt9pINnKQ",
        "colab_type": "code",
        "colab": {}
      },
      "source": [
        "loss = mse_loss(l2, y_train)"
      ],
      "execution_count": null,
      "outputs": []
    },
    {
      "cell_type": "code",
      "metadata": {
        "id": "mqDXBQOlXqtj",
        "colab_type": "code",
        "colab": {
          "base_uri": "https://localhost:8080/",
          "height": 35
        },
        "outputId": "eb4d8f27-85c4-4bb0-cf50-0a06de59e8aa"
      },
      "source": [
        "loss"
      ],
      "execution_count": null,
      "outputs": [
        {
          "output_type": "execute_result",
          "data": {
            "text/plain": [
              "tensor([37.8519])"
            ]
          },
          "metadata": {
            "tags": []
          },
          "execution_count": 135
        }
      ]
    },
    {
      "cell_type": "code",
      "metadata": {
        "id": "5-OuWKOPffo1",
        "colab_type": "code",
        "colab": {}
      },
      "source": [
        "w1.g, w2.g, b1.g, b2.g = [None]*4"
      ],
      "execution_count": null,
      "outputs": []
    },
    {
      "cell_type": "code",
      "metadata": {
        "id": "aWjquyzd8Kjr",
        "colab_type": "code",
        "colab": {}
      },
      "source": [
        "def mse_grad(inp, trg): inp.g= (inp.squeeze(-1)-trg).unsqueeze(-1)*(2/inp.shape[0])"
      ],
      "execution_count": null,
      "outputs": []
    },
    {
      "cell_type": "code",
      "metadata": {
        "id": "vQQH028efmb5",
        "colab_type": "code",
        "colab": {}
      },
      "source": [
        "mse_grad(l2, y_train)"
      ],
      "execution_count": null,
      "outputs": []
    },
    {
      "cell_type": "code",
      "metadata": {
        "id": "S0l00H9UVP3u",
        "colab_type": "code",
        "colab": {}
      },
      "source": [
        "def lin_grad(x,y,w,b):\n",
        "    x.g = y.g @ w.t()\n",
        "    w.g = x.t() @ y.g\n",
        "    b.g = y.g.sum(0)"
      ],
      "execution_count": null,
      "outputs": []
    },
    {
      "cell_type": "code",
      "metadata": {
        "id": "-MWzWfPqfuIo",
        "colab_type": "code",
        "colab": {}
      },
      "source": [
        "lin_grad(a1, l2, w2, b2)"
      ],
      "execution_count": null,
      "outputs": []
    },
    {
      "cell_type": "code",
      "metadata": {
        "id": "J_nHVswcYQTH",
        "colab_type": "code",
        "colab": {}
      },
      "source": [
        "def relu_grad(inp, out): inp.g = out.g* (inp>0).float()"
      ],
      "execution_count": null,
      "outputs": []
    },
    {
      "cell_type": "code",
      "metadata": {
        "id": "-Ehs0-b8fzPQ",
        "colab_type": "code",
        "colab": {}
      },
      "source": [
        "relu_grad(l1, a1)"
      ],
      "execution_count": null,
      "outputs": []
    },
    {
      "cell_type": "code",
      "metadata": {
        "id": "SbhQQQIXf3ct",
        "colab_type": "code",
        "colab": {}
      },
      "source": [
        "lin_grad(x_train, l1, w1, b1)"
      ],
      "execution_count": null,
      "outputs": []
    },
    {
      "cell_type": "markdown",
      "metadata": {
        "id": "sHTQnHhNjXBm",
        "colab_type": "text"
      },
      "source": [
        "Be cautious not to do deep copy...."
      ]
    },
    {
      "cell_type": "code",
      "metadata": {
        "id": "tuQe_KtYf7yS",
        "colab_type": "code",
        "colab": {}
      },
      "source": [
        "# save value to check the value\n",
        "w1g, w2g, b1g, b2g = w1.g.clone(), w2.g.clone(), b1.g.clone(), b2.g.clone()"
      ],
      "execution_count": null,
      "outputs": []
    },
    {
      "cell_type": "code",
      "metadata": {
        "id": "v4MSE2FxgTlz",
        "colab_type": "code",
        "colab": {}
      },
      "source": [
        "from torch import allclose\n",
        "def test(a,b,cmp,cname=None):\n",
        "    if cname is None: cname=cmp.__name__\n",
        "    assert cmp(a,b),f\"{cname}:\\n{a}\\n{b}\"\n",
        "def near(a,b): return allclose(a, b, rtol=1e-3, atol=1e-5)\n",
        "def test_near(a,b): test(a,b,near)"
      ],
      "execution_count": null,
      "outputs": []
    },
    {
      "cell_type": "code",
      "metadata": {
        "id": "47n_GYvhLdn3",
        "colab_type": "code",
        "colab": {}
      },
      "source": [
        "# be cautious now, the size of y_i is 1"
      ],
      "execution_count": null,
      "outputs": []
    },
    {
      "cell_type": "markdown",
      "metadata": {
        "id": "LfBA_fqVMo45",
        "colab_type": "text"
      },
      "source": [
        "layers as class\n",
        "==="
      ]
    },
    {
      "cell_type": "code",
      "metadata": {
        "id": "C5KpQk5HMwJe",
        "colab_type": "code",
        "colab": {}
      },
      "source": [
        "class Mse():\n",
        "    # def __init__()\n",
        "    def __call__(self, preds, trg):\n",
        "        self.inp, self.out = preds, trg.float()\n",
        "        return((preds.squeeze() - self.out).pow(2).sum().unsqueeze(-1) / preds.shape[0]) \n",
        "    def backward(self):\n",
        "        self.inp.g = ((self.inp.squeeze(-1) - self.out) * 2 / self.inp.shape[0]).unsqueeze(-1)"
      ],
      "execution_count": null,
      "outputs": []
    },
    {
      "cell_type": "code",
      "metadata": {
        "id": "rJOb_HUgPrD-",
        "colab_type": "code",
        "colab": {}
      },
      "source": [
        "class Lin():\n",
        "    def __init__(self, w, b): self.w, self.b = w, b\n",
        "    def __call__(self, x):\n",
        "        self.inp = x\n",
        "        self.out = self.inp @ self.w + self.b\n",
        "        return(self.out)\n",
        "    def backward(self):\n",
        "        self.w.g = self.inp.t() @ self.out.g\n",
        "        self.b.g = self.out.g.sum(0)\n",
        "        self.inp.g = self.out.g @ self.w.t()"
      ],
      "execution_count": null,
      "outputs": []
    },
    {
      "cell_type": "code",
      "metadata": {
        "id": "ePg5QMTnTqiy",
        "colab_type": "code",
        "colab": {}
      },
      "source": [
        "class Relu():\n",
        "    def __call__(self, x):\n",
        "        self.inp, self.out = x, x.clamp_min(0.) - 0.5\n",
        "        return(self.out)\n",
        "    def backward(self):\n",
        "        self.inp.g = (self.inp > 0).float() * self.out.g"
      ],
      "execution_count": null,
      "outputs": []
    },
    {
      "cell_type": "code",
      "metadata": {
        "id": "kYYEP8vYU11O",
        "colab_type": "code",
        "colab": {}
      },
      "source": [
        "class Model():\n",
        "    def __init__(self, w1, b1, w2, b2):\n",
        "        self.layers = [Lin(w1, b1), Relu(), Lin(w2, b2)]\n",
        "        self.loss = Mse()\n",
        "\n",
        "    def __call__(self, x, y):\n",
        "        for l in self.layers: x = l(x)\n",
        "        self.pred = x\n",
        "        return(self.loss(self.pred, y))\n",
        "\n",
        "    def backward(self):\n",
        "        self.loss.backward()\n",
        "        for l in reversed(self.layers): l.backward()"
      ],
      "execution_count": null,
      "outputs": []
    },
    {
      "cell_type": "code",
      "metadata": {
        "id": "RbwTvg8_haHv",
        "colab_type": "code",
        "colab": {}
      },
      "source": [
        "w1.g, w2.g, b1.g, b2.g = [None]*4"
      ],
      "execution_count": null,
      "outputs": []
    },
    {
      "cell_type": "code",
      "metadata": {
        "id": "zrhjDhk3Wob4",
        "colab_type": "code",
        "colab": {}
      },
      "source": [
        "m = Model(w1, b1, w2, b2)"
      ],
      "execution_count": null,
      "outputs": []
    },
    {
      "cell_type": "code",
      "metadata": {
        "id": "Cu1o72TcWyri",
        "colab_type": "code",
        "colab": {
          "base_uri": "https://localhost:8080/",
          "height": 35
        },
        "outputId": "822fa83c-16f0-494f-d386-67d7afe07071"
      },
      "source": [
        "m(x_train, y_train)"
      ],
      "execution_count": null,
      "outputs": [
        {
          "output_type": "execute_result",
          "data": {
            "text/plain": [
              "tensor([37.8519])"
            ]
          },
          "metadata": {
            "tags": []
          },
          "execution_count": 203
        }
      ]
    },
    {
      "cell_type": "code",
      "metadata": {
        "id": "VxyjSN7EW3Xn",
        "colab_type": "code",
        "colab": {}
      },
      "source": [
        "m.backward()"
      ],
      "execution_count": null,
      "outputs": []
    },
    {
      "cell_type": "code",
      "metadata": {
        "id": "WGTIOE0RdCZ5",
        "colab_type": "code",
        "colab": {}
      },
      "source": [
        "test_near(w1g, w1.g)"
      ],
      "execution_count": null,
      "outputs": []
    },
    {
      "cell_type": "code",
      "metadata": {
        "id": "MseGbHjpjkP1",
        "colab_type": "code",
        "colab": {}
      },
      "source": [
        "test_near(w2g, w2.g)"
      ],
      "execution_count": null,
      "outputs": []
    },
    {
      "cell_type": "code",
      "metadata": {
        "id": "I0dmCuNAjoVw",
        "colab_type": "code",
        "colab": {
          "base_uri": "https://localhost:8080/",
          "height": 1000
        },
        "outputId": "c8718e6c-a209-467b-efe9-1eaddd9723c8"
      },
      "source": [
        "test_near(w2g, randn(w2g.shape))"
      ],
      "execution_count": null,
      "outputs": [
        {
          "output_type": "error",
          "ename": "AssertionError",
          "evalue": "ignored",
          "traceback": [
            "\u001b[0;31m---------------------------------------------------------------------------\u001b[0m",
            "\u001b[0;31mAssertionError\u001b[0m                            Traceback (most recent call last)",
            "\u001b[0;32m<ipython-input-208-eb0fe53c518c>\u001b[0m in \u001b[0;36m<module>\u001b[0;34m()\u001b[0m\n\u001b[0;32m----> 1\u001b[0;31m \u001b[0mtest_near\u001b[0m\u001b[0;34m(\u001b[0m\u001b[0mw2g\u001b[0m\u001b[0;34m,\u001b[0m \u001b[0mrandn\u001b[0m\u001b[0;34m(\u001b[0m\u001b[0mw2g\u001b[0m\u001b[0;34m.\u001b[0m\u001b[0mshape\u001b[0m\u001b[0;34m)\u001b[0m\u001b[0;34m)\u001b[0m\u001b[0;34m\u001b[0m\u001b[0;34m\u001b[0m\u001b[0m\n\u001b[0m",
            "\u001b[0;32m<ipython-input-189-17a252fed858>\u001b[0m in \u001b[0;36mtest_near\u001b[0;34m(a, b)\u001b[0m\n\u001b[1;32m      4\u001b[0m     \u001b[0;32massert\u001b[0m \u001b[0mcmp\u001b[0m\u001b[0;34m(\u001b[0m\u001b[0ma\u001b[0m\u001b[0;34m,\u001b[0m\u001b[0mb\u001b[0m\u001b[0;34m)\u001b[0m\u001b[0;34m,\u001b[0m\u001b[0;34mf\"{cname}:\\n{a}\\n{b}\"\u001b[0m\u001b[0;34m\u001b[0m\u001b[0;34m\u001b[0m\u001b[0m\n\u001b[1;32m      5\u001b[0m \u001b[0;32mdef\u001b[0m \u001b[0mnear\u001b[0m\u001b[0;34m(\u001b[0m\u001b[0ma\u001b[0m\u001b[0;34m,\u001b[0m\u001b[0mb\u001b[0m\u001b[0;34m)\u001b[0m\u001b[0;34m:\u001b[0m \u001b[0;32mreturn\u001b[0m \u001b[0mallclose\u001b[0m\u001b[0;34m(\u001b[0m\u001b[0ma\u001b[0m\u001b[0;34m,\u001b[0m \u001b[0mb\u001b[0m\u001b[0;34m,\u001b[0m \u001b[0mrtol\u001b[0m\u001b[0;34m=\u001b[0m\u001b[0;36m1e-3\u001b[0m\u001b[0;34m,\u001b[0m \u001b[0matol\u001b[0m\u001b[0;34m=\u001b[0m\u001b[0;36m1e-5\u001b[0m\u001b[0;34m)\u001b[0m\u001b[0;34m\u001b[0m\u001b[0;34m\u001b[0m\u001b[0m\n\u001b[0;32m----> 6\u001b[0;31m \u001b[0;32mdef\u001b[0m \u001b[0mtest_near\u001b[0m\u001b[0;34m(\u001b[0m\u001b[0ma\u001b[0m\u001b[0;34m,\u001b[0m\u001b[0mb\u001b[0m\u001b[0;34m)\u001b[0m\u001b[0;34m:\u001b[0m \u001b[0mtest\u001b[0m\u001b[0;34m(\u001b[0m\u001b[0ma\u001b[0m\u001b[0;34m,\u001b[0m\u001b[0mb\u001b[0m\u001b[0;34m,\u001b[0m\u001b[0mnear\u001b[0m\u001b[0;34m)\u001b[0m\u001b[0;34m\u001b[0m\u001b[0;34m\u001b[0m\u001b[0m\n\u001b[0m",
            "\u001b[0;32m<ipython-input-189-17a252fed858>\u001b[0m in \u001b[0;36mtest\u001b[0;34m(a, b, cmp, cname)\u001b[0m\n\u001b[1;32m      2\u001b[0m \u001b[0;32mdef\u001b[0m \u001b[0mtest\u001b[0m\u001b[0;34m(\u001b[0m\u001b[0ma\u001b[0m\u001b[0;34m,\u001b[0m\u001b[0mb\u001b[0m\u001b[0;34m,\u001b[0m\u001b[0mcmp\u001b[0m\u001b[0;34m,\u001b[0m\u001b[0mcname\u001b[0m\u001b[0;34m=\u001b[0m\u001b[0;32mNone\u001b[0m\u001b[0;34m)\u001b[0m\u001b[0;34m:\u001b[0m\u001b[0;34m\u001b[0m\u001b[0;34m\u001b[0m\u001b[0m\n\u001b[1;32m      3\u001b[0m     \u001b[0;32mif\u001b[0m \u001b[0mcname\u001b[0m \u001b[0;32mis\u001b[0m \u001b[0;32mNone\u001b[0m\u001b[0;34m:\u001b[0m \u001b[0mcname\u001b[0m\u001b[0;34m=\u001b[0m\u001b[0mcmp\u001b[0m\u001b[0;34m.\u001b[0m\u001b[0m__name__\u001b[0m\u001b[0;34m\u001b[0m\u001b[0;34m\u001b[0m\u001b[0m\n\u001b[0;32m----> 4\u001b[0;31m     \u001b[0;32massert\u001b[0m \u001b[0mcmp\u001b[0m\u001b[0;34m(\u001b[0m\u001b[0ma\u001b[0m\u001b[0;34m,\u001b[0m\u001b[0mb\u001b[0m\u001b[0;34m)\u001b[0m\u001b[0;34m,\u001b[0m\u001b[0;34mf\"{cname}:\\n{a}\\n{b}\"\u001b[0m\u001b[0;34m\u001b[0m\u001b[0;34m\u001b[0m\u001b[0m\n\u001b[0m\u001b[1;32m      5\u001b[0m \u001b[0;32mdef\u001b[0m \u001b[0mnear\u001b[0m\u001b[0;34m(\u001b[0m\u001b[0ma\u001b[0m\u001b[0;34m,\u001b[0m\u001b[0mb\u001b[0m\u001b[0;34m)\u001b[0m\u001b[0;34m:\u001b[0m \u001b[0;32mreturn\u001b[0m \u001b[0mallclose\u001b[0m\u001b[0;34m(\u001b[0m\u001b[0ma\u001b[0m\u001b[0;34m,\u001b[0m \u001b[0mb\u001b[0m\u001b[0;34m,\u001b[0m \u001b[0mrtol\u001b[0m\u001b[0;34m=\u001b[0m\u001b[0;36m1e-3\u001b[0m\u001b[0;34m,\u001b[0m \u001b[0matol\u001b[0m\u001b[0;34m=\u001b[0m\u001b[0;36m1e-5\u001b[0m\u001b[0;34m)\u001b[0m\u001b[0;34m\u001b[0m\u001b[0;34m\u001b[0m\u001b[0m\n\u001b[1;32m      6\u001b[0m \u001b[0;32mdef\u001b[0m \u001b[0mtest_near\u001b[0m\u001b[0;34m(\u001b[0m\u001b[0ma\u001b[0m\u001b[0;34m,\u001b[0m\u001b[0mb\u001b[0m\u001b[0;34m)\u001b[0m\u001b[0;34m:\u001b[0m \u001b[0mtest\u001b[0m\u001b[0;34m(\u001b[0m\u001b[0ma\u001b[0m\u001b[0;34m,\u001b[0m\u001b[0mb\u001b[0m\u001b[0;34m,\u001b[0m\u001b[0mnear\u001b[0m\u001b[0;34m)\u001b[0m\u001b[0;34m\u001b[0m\u001b[0;34m\u001b[0m\u001b[0m\n",
            "\u001b[0;31mAssertionError\u001b[0m: near:\ntensor([[  4.3183],\n        [ -5.9218],\n        [  2.0597],\n        [ -0.5853],\n        [ -3.6965],\n        [-12.9802],\n        [  1.9372],\n        [ -4.5051],\n        [ -5.0956],\n        [  3.3141],\n        [ -2.2027],\n        [  2.4377],\n        [  0.8467],\n        [  3.0445],\n        [ -1.6049],\n        [  3.5699],\n        [-13.8956],\n        [ -3.6870],\n        [ -3.5299],\n        [ -7.6168],\n        [  4.2598],\n        [ -6.8328],\n        [  4.8023],\n        [  3.5893],\n        [  3.8238],\n        [  3.7560],\n        [  1.9547],\n        [ -2.2020],\n        [ -2.2001],\n        [  0.2133],\n        [  5.0066],\n        [ -5.7869],\n        [ -1.9260],\n        [  1.6312],\n        [  2.6049],\n        [ -4.0333],\n        [  4.5903],\n        [ -0.8350],\n        [  0.9231],\n        [  3.9550],\n        [  1.2763],\n        [ -2.4528],\n        [ -9.3225],\n        [  1.8867],\n        [ -1.3710],\n        [  0.8337],\n        [  2.1259],\n        [  0.3263],\n        [ -3.6713],\n        [  3.2263],\n        [  0.1082],\n        [  2.6961],\n        [  4.5403],\n        [ -2.2003],\n        [  4.5110],\n        [  4.9026],\n        [ -3.5164],\n        [ -8.3570],\n        [ -8.5352],\n        [ -4.2053],\n        [ -1.2211],\n        [  2.0113],\n        [  0.8249],\n        [ -1.0100],\n        [  1.2720],\n        [-11.9085],\n        [  4.1824],\n        [  2.5014],\n        [ -2.1380],\n        [  0.6842],\n        [ -2.0397],\n        [  1.7133],\n        [  3.1256],\n        [  5.0037],\n        [ -8.9475],\n        [  2.0204],\n        [  0.9104],\n        [  4.1859],\n        [ -4.9450],\n        [ -8.9877]])\ntensor([[-1.6655],\n        [-1.5374],\n        [-0.2198],\n        [ 1.4120],\n        [ 0.1142],\n        [-0.9544],\n        [ 1.1273],\n        [ 0.1489],\n        [ 0.4759],\n        [-0.5665],\n        [-1.2390],\n        [-0.5545],\n        [-0.6852],\n        [-0.8558],\n        [ 2.6687],\n        [ 0.5273],\n        [-0.8492],\n        [-0.8814],\n        [-0.2808],\n        [ 1.5410],\n        [-0.1233],\n        [ 0.6893],\n        [-0.7413],\n        [-0.9654],\n        [-0.5621],\n        [-1.5354],\n        [ 0.4902],\n        [-0.0300],\n        [ 0.9652],\n        [ 1.3887],\n        [ 0.5043],\n        [ 0.4668],\n        [-0.1371],\n        [-0.6537],\n        [ 0.0603],\n        [-0.0509],\n        [-0.0945],\n        [-1.3034],\n        [-0.9708],\n        [ 1.0683],\n        [-0.7485],\n        [ 0.9655],\n        [-1.7026],\n        [-1.4160],\n        [ 2.3411],\n        [ 1.9628],\n        [-1.0000],\n        [ 0.4202],\n        [ 1.0052],\n        [-0.1711],\n        [ 1.1785],\n        [-0.8762],\n        [-0.4060],\n        [-0.2455],\n        [ 0.9329],\n        [-1.1446],\n        [ 1.0023],\n        [-0.9043],\n        [-0.6699],\n        [-0.9831],\n        [ 0.0424],\n        [ 0.0965],\n        [ 1.5712],\n        [-0.2674],\n        [ 1.4870],\n        [ 0.0575],\n        [ 0.4467],\n        [-1.1754],\n        [-1.4829],\n        [ 0.6394],\n        [-0.9728],\n        [ 0.1028],\n        [-1.3772],\n        [-0.0728],\n        [-0.5116],\n        [ 0.8533],\n        [ 1.5441],\n        [-0.4433],\n        [ 0.0448],\n        [ 0.8814]])"
          ]
        }
      ]
    },
    {
      "cell_type": "code",
      "metadata": {
        "id": "clTrgj7yjs72",
        "colab_type": "code",
        "colab": {}
      },
      "source": [
        ""
      ],
      "execution_count": null,
      "outputs": []
    }
  ]
}