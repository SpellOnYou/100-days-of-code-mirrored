{
  "nbformat": 4,
  "nbformat_minor": 0,
  "metadata": {
    "kernelspec": {
      "display_name": "Python 3",
      "language": "python",
      "name": "python3"
    },
    "colab": {
      "name": "dl4slp-audio.ipynb",
      "provenance": [],
      "collapsed_sections": []
    },
    "accelerator": "GPU"
  },
  "cells": [
    {
      "cell_type": "markdown",
      "source": [
        "# 2021-12-21 Update Note\n",
        "\n",
        "- Being discouraged by the low performance of transformer, and research, I will move back to \"more\" epoch."
      ],
      "metadata": {
        "id": "7Nfe54aqpQ1R"
      }
    },
    {
      "cell_type": "code",
      "source": [
        "from google.colab import drive\n",
        "drive.mount('/gdrive')"
      ],
      "metadata": {
        "colab": {
          "base_uri": "https://localhost:8080/"
        },
        "id": "nmq1O0Lup1h2",
        "outputId": "524f1e2a-a78f-4eb9-f415-0e01a11a9c70"
      },
      "execution_count": 1,
      "outputs": [
        {
          "output_type": "stream",
          "name": "stdout",
          "text": [
            "Mounted at /gdrive\n"
          ]
        }
      ]
    },
    {
      "cell_type": "markdown",
      "source": [
        "- I will use xresnet and their datablock, optimizer from fastai."
      ],
      "metadata": {
        "id": "DxHqVglwqH0W"
      }
    },
    {
      "cell_type": "code",
      "source": [
        "!git clone https://github.com/fastai/course-v3/ /content/course-v3"
      ],
      "metadata": {
        "colab": {
          "base_uri": "https://localhost:8080/"
        },
        "id": "VL3HjY7zp5jZ",
        "outputId": "b2cdc624-fb10-4689-aa66-85b858efb21f"
      },
      "execution_count": 2,
      "outputs": [
        {
          "output_type": "stream",
          "name": "stdout",
          "text": [
            "Cloning into '/content/course-v3'...\n",
            "remote: Enumerating objects: 5893, done.\u001b[K\n",
            "remote: Counting objects: 100% (3/3), done.\u001b[K\n",
            "remote: Compressing objects: 100% (3/3), done.\u001b[K\n",
            "remote: Total 5893 (delta 0), reused 2 (delta 0), pack-reused 5890\u001b[K\n",
            "Receiving objects: 100% (5893/5893), 263.03 MiB | 19.94 MiB/s, done.\n",
            "Resolving deltas: 100% (3249/3249), done.\n"
          ]
        }
      ]
    },
    {
      "cell_type": "code",
      "source": [
        "# restart-run\n",
        "%cd /content/course-v3/nbs/dl2"
      ],
      "metadata": {
        "colab": {
          "base_uri": "https://localhost:8080/"
        },
        "id": "dLHZgcdjqMj6",
        "outputId": "29fde009-18af-4ba6-fe79-7b443ad9e280"
      },
      "execution_count": 3,
      "outputs": [
        {
          "output_type": "stream",
          "name": "stdout",
          "text": [
            "/content/course-v3/nbs/dl2\n"
          ]
        }
      ]
    },
    {
      "cell_type": "markdown",
      "source": [
        "- NOTE: if you do not have installed [nvidia/apex](https://github.com/nvidia/apex),  change `from exp.nb_10c import *` to `from exp.nb_10b import *` in `exp.nb_11`"
      ],
      "metadata": {
        "id": "nb6S4CPyqS_F"
      }
    },
    {
      "cell_type": "code",
      "source": [
        "from exp.nb_12a import *"
      ],
      "metadata": {
        "id": "77V-bw0pqR2J"
      },
      "execution_count": 51,
      "outputs": []
    },
    {
      "cell_type": "markdown",
      "source": [
        "- Local data (which is divided into separate dataset) is saved to `Path('/gdrive/Shareddrives/Dion-Account/2122WS/8-dl4slp/coding-project/data/v1/ser'`\n"
      ],
      "metadata": {
        "id": "_U7CK3KXqnr5"
      }
    },
    {
      "cell_type": "code",
      "source": [
        "root_path = Path('/gdrive/Shareddrives/Dion-Account/2122WS/8-dl4slp/coding-project/ser/data/v1'); root_path.ls()"
      ],
      "metadata": {
        "colab": {
          "base_uri": "https://localhost:8080/"
        },
        "id": "V93zJPFhqnpC",
        "outputId": "d439e451-7bb0-419a-f17a-106911bb5505"
      },
      "execution_count": 5,
      "outputs": [
        {
          "output_type": "execute_result",
          "data": {
            "text/plain": [
              "[PosixPath('/gdrive/Shareddrives/Dion-Account/2122WS/8-dl4slp/coding-project/ser/data/v1/train'),\n",
              " PosixPath('/gdrive/Shareddrives/Dion-Account/2122WS/8-dl4slp/coding-project/ser/data/v1/dev'),\n",
              " PosixPath('/gdrive/Shareddrives/Dion-Account/2122WS/8-dl4slp/coding-project/ser/data/v1/ser.tar-v1.gz')]"
            ]
          },
          "metadata": {},
          "execution_count": 5
        }
      ]
    },
    {
      "cell_type": "markdown",
      "metadata": {
        "id": "D1FVouZFT7-5"
      },
      "source": [
        "features-entry contains a list of a list with 26 items.\n",
        "- length of inner list: 26 (float numbers - represent one preprocessed speech frame (logMel))\n",
        "\n",
        "- length of outer list: number of frames per data-point, e.g. 10 or 15, ..."
      ]
    },
    {
      "cell_type": "code",
      "source": [
        "train_path = root_path/'train'"
      ],
      "metadata": {
        "id": "XxRfMtm7UTb_"
      },
      "execution_count": 13,
      "outputs": []
    },
    {
      "cell_type": "code",
      "source": [
        "# restart-run\n",
        "audios = get_files(train_path)\n",
        "class AudioList(ItemList):\n",
        "    @classmethod\n",
        "    def from_files(cls, path, extensions = None, recurse=True, include=None, **kwargs):\n",
        "        return cls(get_files(path, extensions, recurse=recurse, include=include), path, **kwargs)\n",
        "    \n",
        "    def get(self, fn):\n",
        "        return torch.load(fn)\n",
        "        \n",
        "# al=AudioList.from_files(train_path); al"
      ],
      "metadata": {
        "id": "PSfrsOPbmgil"
      },
      "execution_count": 7,
      "outputs": []
    },
    {
      "cell_type": "code",
      "source": [
        "# al[0].shape, al[0].type()"
      ],
      "metadata": {
        "colab": {
          "base_uri": "https://localhost:8080/"
        },
        "id": "zAEwNikMmgbp",
        "outputId": "04098231-81d2-4fc7-8134-827021d3ccbc"
      },
      "execution_count": null,
      "outputs": [
        {
          "output_type": "execute_result",
          "data": {
            "text/plain": [
              "(torch.Size([614, 26]), 'torch.FloatTensor')"
            ]
          },
          "metadata": {},
          "execution_count": 11
        }
      ]
    },
    {
      "cell_type": "code",
      "source": [
        "class Reshape():\n",
        "    _order=12\n",
        "    def __call__(self, item):\n",
        "        w, h = item.shape\n",
        "        return item.view(h, w)"
      ],
      "metadata": {
        "id": "pkydd2rsRxq0"
      },
      "execution_count": 8,
      "outputs": []
    },
    {
      "cell_type": "code",
      "source": [
        "# Mutants of input tensor\n",
        "class PadorTrim():\n",
        "    \n",
        "    _order = 20\n",
        "    def __init__(self, max_len):\n",
        "        self.max_len = max_len\n",
        "    def __call__(self, ad):\n",
        "        # h - logmel, here 27, w - frames / various\n",
        "        h, w = ad.shape\n",
        "        pad_size = self.max_len - w\n",
        "        if pad_size >0: return torch.cat((ad, torch.zeros(h, pad_size).to(ad.device)), dim=1)\n",
        "        else: return ad[:, :self.max_len]"
      ],
      "metadata": {
        "id": "kswbnzhkRxvu"
      },
      "execution_count": 14,
      "outputs": []
    },
    {
      "cell_type": "code",
      "source": [
        "class DummyChannel():\n",
        "    _order = 30\n",
        "    def __call__(self, item):\n",
        "        return item.unsqueeze(0)"
      ],
      "metadata": {
        "id": "0_CAJYm3S1XY"
      },
      "execution_count": 15,
      "outputs": []
    },
    {
      "cell_type": "code",
      "source": [
        "class SpecAugment():\n",
        "    _order=99\n",
        "    def __init__(self, max_mask_pct=0.2, freq_masks=1, time_masks=1, replace_with_zero=False):\n",
        "        self.max_mask_pct, self.freq_masks, self.time_masks, self.replace_with_zero = \\\n",
        "        max_mask_pct, freq_masks, time_masks, replace_with_zero\n",
        "        if not 0 <= self.max_mask_pct <= 1.0: \n",
        "            raise ValueError( f\"max_mask_pct must be between 0.0 and 1.0, but it's {self.max_mask_pct}\")\n",
        "\n",
        "    def __call__(self, spec):\n",
        "        _, n_mels, n_steps = spec.shape\n",
        "        F = math.ceil(n_mels * self.max_mask_pct) # rounding up in case of small %\n",
        "        T = math.ceil(n_steps * self.max_mask_pct)\n",
        "        fill = 0 if self.replace_with_zero else spec.mean()\n",
        "        for i in range(0, self.freq_masks):\n",
        "            f = random.randint(0, F)\n",
        "            f0 = random.randint(0, n_mels-f)\n",
        "            spec[0][f0:f0+f] = fill\n",
        "        for i in range(0, self.time_masks):\n",
        "            t = random.randint(0, T)\n",
        "            t0 = random.randint(0, n_steps-t)\n",
        "            spec[0][:,t0:t0+t] = fill\n",
        "        return spec"
      ],
      "metadata": {
        "id": "IQnAU2OeOlbQ"
      },
      "execution_count": 128,
      "outputs": []
    },
    {
      "cell_type": "code",
      "source": [
        "masker = SpecAugment(freq_masks=2, time_masks=2, max_mask_pct=0.1)"
      ],
      "metadata": {
        "id": "7gXNkyc7PFr-"
      },
      "execution_count": 129,
      "outputs": []
    },
    {
      "cell_type": "code",
      "source": [
        "tfms = [Reshape(), PadorTrim(250), DummyChannel(), masker]"
      ],
      "metadata": {
        "id": "T5d81cRpRxzm"
      },
      "execution_count": 130,
      "outputs": []
    },
    {
      "cell_type": "code",
      "source": [
        "al=AudioList.from_files(train_path, tfms=tfms)"
      ],
      "metadata": {
        "id": "wnyPo8eSUK6w"
      },
      "execution_count": 131,
      "outputs": []
    },
    {
      "cell_type": "code",
      "source": [
        "def re_labeler(fn, pat, subcl='act'):\n",
        "    assert subcl in ['act', 'val', 'all']\n",
        "    if subcl=='all': return ''.join(re.findall(pat, str(fn)))\n",
        "    else:\n",
        "        return re.findall(pat, str(fn))[0] if pat == 'act' else re.findall(pat, str(fn))[1]\n",
        "\n",
        "label_pat = r'_(\\d+)'\n",
        "emotion_labeler = partial(re_labeler, pat=label_pat, subcl='all')"
      ],
      "metadata": {
        "id": "src5ZbMFRx39"
      },
      "execution_count": 132,
      "outputs": []
    },
    {
      "cell_type": "code",
      "source": [
        "sd = SplitData.split_by_func(al, partial(random_splitter, p_valid=0.2))\n",
        "ll = label_by_func(sd, emotion_labeler, proc_y=CategoryProcessor())"
      ],
      "metadata": {
        "id": "DOSpH2pqRyAk"
      },
      "execution_count": 133,
      "outputs": []
    },
    {
      "cell_type": "code",
      "source": [
        "bs=64\n",
        "c_in = ll.train[0][0].shape[0]\n",
        "c_out = len(uniqueify(ll.train.y))\n",
        "data = ll.to_databunch(bs,c_in=c_in,c_out=c_out)"
      ],
      "metadata": {
        "id": "ZkTlju1wRx7S"
      },
      "execution_count": 134,
      "outputs": []
    },
    {
      "cell_type": "code",
      "source": [
        "ll.train[0][0].shape"
      ],
      "metadata": {
        "colab": {
          "base_uri": "https://localhost:8080/"
        },
        "id": "CS5NB5DvUCBN",
        "outputId": "e669d08f-b5a7-4060-ee91-0f196bd3f095"
      },
      "execution_count": 135,
      "outputs": [
        {
          "output_type": "execute_result",
          "data": {
            "text/plain": [
              "torch.Size([1, 26, 250])"
            ]
          },
          "metadata": {},
          "execution_count": 135
        }
      ]
    },
    {
      "cell_type": "code",
      "source": [
        "c_in, c_out"
      ],
      "metadata": {
        "colab": {
          "base_uri": "https://localhost:8080/"
        },
        "id": "SUR1bKqURyDQ",
        "outputId": "51294ac1-b4c6-45f3-8f72-507f2d72b888"
      },
      "execution_count": 136,
      "outputs": [
        {
          "output_type": "execute_result",
          "data": {
            "text/plain": [
              "(1, 4)"
            ]
          },
          "metadata": {},
          "execution_count": 136
        }
      ]
    },
    {
      "cell_type": "code",
      "source": [
        "opt_func = adam_opt(mom=0.9, mom_sqr=0.99, eps=1e-6, wd=1e-1, )\n",
        "loss_func = LabelSmoothingCrossEntropy()\n",
        "lr = 1e-2\n",
        "pct_start = 0.5\n",
        "phases = create_phases(pct_start)\n",
        "sched_lr  = combine_scheds(phases, cos_1cycle_anneal(lr/10., lr, lr/1e5))\n",
        "sched_mom = combine_scheds(phases, cos_1cycle_anneal(0.95,0.85, 0.95))\n",
        "cbscheds = [ParamScheduler('lr', sched_lr), \n",
        "            ParamScheduler('mom', sched_mom)]"
      ],
      "metadata": {
        "id": "u7pqps96UTU6"
      },
      "execution_count": 138,
      "outputs": []
    },
    {
      "cell_type": "code",
      "source": [
        "from sklearn.metrics import f1_score\n",
        "\n",
        "def multi_f1score(input, target):\n",
        "    with torch.no_grad():\n",
        "        label_convert = {0:[1, 1], 1:[0, 0], 2:[1,0], 3:[0, 1]}\n",
        "        pred_np = np.array(list(map(lambda o: label_convert[int(o)], input.argmax(1))))\n",
        "        targ_np = np.array(list(map(lambda o: label_convert[int(o)], target)))\n",
        "        # print(targ_np)\n",
        "        return (f1_score(targ_np[:, 0], pred_np[:, 0]) + f1_score(targ_np[:, 1], pred_np[:, 1])) /2\n",
        "# multi_f1score.__name__ = 'f1-score'"
      ],
      "metadata": {
        "id": "AkSyVQ81DXkn"
      },
      "execution_count": 139,
      "outputs": []
    },
    {
      "cell_type": "code",
      "source": [
        "multi_f1score.__name__ = 'fscore'"
      ],
      "metadata": {
        "id": "fn8AMt9IKZrf"
      },
      "execution_count": 140,
      "outputs": []
    },
    {
      "cell_type": "code",
      "source": [
        "from exp.nb_09b import *"
      ],
      "metadata": {
        "id": "X8JyQ4G6HCy2"
      },
      "execution_count": 141,
      "outputs": []
    },
    {
      "cell_type": "code",
      "source": [
        "class AvgStatsCallback(Callback):\n",
        "    def __init__(self, metrics):\n",
        "        self.train_stats,self.valid_stats = AvgStats(metrics,True),AvgStats(metrics,False)\n",
        "\n",
        "    def begin_fit(self):\n",
        "        met_names = ['loss'] + [m.__name__ for m in self.train_stats.metrics]\n",
        "        names = ['epoch'] + [f'train_{n}' for n in met_names] + [\n",
        "            f'valid_{n}' for n in met_names] + ['time']\n",
        "        self.logger(names)\n",
        "\n",
        "    def begin_epoch(self):\n",
        "        self.train_stats.reset()\n",
        "        self.valid_stats.reset()\n",
        "        self.start_time = time.time()\n",
        "\n",
        "    def after_loss(self):\n",
        "        stats = self.train_stats if self.in_train else self.valid_stats\n",
        "        print(stats)\n",
        "        with torch.no_grad(): stats.accumulate(self.run)\n",
        "\n",
        "    def after_epoch(self):\n",
        "        stats = [str(self.epoch)]\n",
        "        for o in [self.train_stats, self.valid_stats]:\n",
        "            stats += [f'{v:.6f}' for v in o.avg_stats]\n",
        "        stats += [format_time(time.time() - self.start_time)]\n",
        "        self.logger(stats)"
      ],
      "metadata": {
        "id": "YPAVTZIZMDEj"
      },
      "execution_count": 142,
      "outputs": []
    },
    {
      "cell_type": "code",
      "source": [
        "class Learner():\n",
        "    def __init__(self, model, data, loss_func, opt_func=sgd_opt, lr=1e-2, splitter=param_getter,\n",
        "                 cbs=None, cb_funcs=None):\n",
        "        self.model,self.data,self.loss_func,self.opt_func,self.lr,self.splitter = model,data,loss_func,opt_func,lr,splitter\n",
        "        self.in_train,self.logger,self.opt = False,print,None\n",
        "\n",
        "        # NB: Things marked \"NEW\" are covered in lesson 12\n",
        "        # NEW: avoid need for set_runner\n",
        "        self.cbs = []\n",
        "        self.add_cb(TrainEvalCallback())\n",
        "        self.add_cb(Recorder())\n",
        "        # self.add_cb(LR_Find())\n",
        "        self.add_cbs(cbs)\n",
        "        self.add_cbs(cbf() for cbf in listify(cb_funcs))\n",
        "\n",
        "    def add_cbs(self, cbs):\n",
        "        for cb in listify(cbs): self.add_cb(cb)\n",
        "\n",
        "    def add_cb(self, cb):\n",
        "        cb.set_runner(self)\n",
        "        setattr(self, cb.name, cb)\n",
        "        self.cbs.append(cb)\n",
        "\n",
        "    def remove_cbs(self, cbs):\n",
        "        for cb in listify(cbs): self.cbs.remove(cb)\n",
        "\n",
        "    def one_batch(self, i, xb, yb):\n",
        "        try:\n",
        "            self.iter = i\n",
        "            self.xb,self.yb = xb,yb;                        self('begin_batch')\n",
        "            self.pred = self.model(self.xb);                self('after_pred')\n",
        "            self.loss = self.loss_func(self.pred, self.yb); self('after_loss')\n",
        "            if not self.in_train: return\n",
        "            self.loss.backward();                           self('after_backward')\n",
        "            self.opt.step();                                self('after_step')\n",
        "            self.opt.zero_grad()\n",
        "        except CancelBatchException:                        self('after_cancel_batch')\n",
        "        finally:                                            self('after_batch')\n",
        "\n",
        "    def all_batches(self):\n",
        "        self.iters = len(self.dl)\n",
        "        try:\n",
        "            for i,(xb,yb) in enumerate(self.dl): self.one_batch(i, xb, yb)\n",
        "        except CancelEpochException: self('after_cancel_epoch')\n",
        "\n",
        "    def do_begin_fit(self, epochs):\n",
        "        self.epochs,self.loss = epochs,tensor(0.)\n",
        "        self('begin_fit')\n",
        "\n",
        "    def do_begin_epoch(self, epoch):\n",
        "        self.epoch,self.dl = epoch,self.data.train_dl\n",
        "        return self('begin_epoch')\n",
        "\n",
        "    def fit(self, epochs, cbs=None, reset_opt=False):\n",
        "        # NEW: pass callbacks to fit() and have them removed when done\n",
        "        self.add_cbs(cbs)\n",
        "        # NEW: create optimizer on fit(), optionally replacing existing\n",
        "        if reset_opt or not self.opt: self.opt = self.opt_func(self.splitter(self.model), lr=self.lr)\n",
        "\n",
        "        try:\n",
        "            self.do_begin_fit(epochs)\n",
        "            for epoch in range(epochs):\n",
        "                self.do_begin_epoch(epoch)\n",
        "                if not self('begin_epoch'): self.all_batches()\n",
        "\n",
        "                with torch.no_grad():\n",
        "                    self.dl = self.data.valid_dl\n",
        "                    if not self('begin_validate'): self.all_batches()\n",
        "                self('after_epoch')\n",
        "\n",
        "        except CancelTrainException: self('after_cancel_train')\n",
        "        finally:\n",
        "            self('after_fit')\n",
        "            self.remove_cbs(cbs)\n",
        "\n",
        "    ALL_CBS = {'begin_batch', 'after_pred', 'after_loss', 'after_backward', 'after_step',\n",
        "        'after_cancel_batch', 'after_batch', 'after_cancel_epoch', 'begin_fit',\n",
        "        'begin_epoch', 'begin_epoch', 'begin_validate', 'after_epoch',\n",
        "        'after_cancel_train', 'after_fit'}\n",
        "\n",
        "    def __call__(self, cb_name):\n",
        "        res = False\n",
        "        assert cb_name in self.ALL_CBS\n",
        "        for cb in sorted(self.cbs, key=lambda x: x._order): res = cb(cb_name) and res\n",
        "        return res\n"
      ],
      "metadata": {
        "id": "C086zExEHzrl"
      },
      "execution_count": 143,
      "outputs": []
    },
    {
      "cell_type": "code",
      "source": [
        "def cnn_learner(arch, data, loss_func, opt_func, c_in=None, c_out=None,\n",
        "                lr=1e-2, cuda=True, norm=None, progress=True, mixup=0, xtra_cb=None, **kwargs):\n",
        "    cbfs = [partial(AvgStatsCallback,multi_f1score)]+listify(xtra_cb)\n",
        "    if progress: cbfs.append(ProgressCallback)\n",
        "    if cuda:     cbfs.append(CudaCallback)\n",
        "    if norm:     cbfs.append(partial(BatchTransformXCallback, norm))\n",
        "    if mixup:    cbfs.append(partial(MixUp, mixup))\n",
        "    arch_args = {}\n",
        "    if not c_in : c_in  = data.c_in\n",
        "    if not c_out: c_out = data.c_out\n",
        "    if c_in:  arch_args['c_in' ]=c_in\n",
        "    if c_out: arch_args['c_out']=c_out\n",
        "    return Learner(arch(**arch_args), data, loss_func, opt_func=opt_func, lr=lr, cb_funcs=cbfs, **kwargs)\n"
      ],
      "metadata": {
        "id": "GqDPmafBkbCx"
      },
      "execution_count": 144,
      "outputs": []
    },
    {
      "cell_type": "code",
      "source": [
        "learn = cnn_learner(xresnet50, data, loss_func, opt_func)"
      ],
      "metadata": {
        "id": "HknjfDCWf5_R"
      },
      "execution_count": 148,
      "outputs": []
    },
    {
      "cell_type": "code",
      "source": [
        "learn.cbs"
      ],
      "metadata": {
        "id": "So0hx1sHG4DE",
        "outputId": "dffe08b9-84fc-4aae-b0cb-b0e4e5b79a3e",
        "colab": {
          "base_uri": "https://localhost:8080/"
        }
      },
      "execution_count": 149,
      "outputs": [
        {
          "output_type": "execute_result",
          "data": {
            "text/plain": [
              "[<exp.nb_05b.TrainEvalCallback at 0x7f292a7589d0>,\n",
              " <exp.nb_09.Recorder at 0x7f28d3cc0150>,\n",
              " <__main__.AvgStatsCallback at 0x7f292a370fd0>,\n",
              " <__main__.ProgressCallback at 0x7f292a2c7b10>,\n",
              " <exp.nb_06.CudaCallback at 0x7f292a2c70d0>]"
            ]
          },
          "metadata": {},
          "execution_count": 149
        }
      ]
    },
    {
      "cell_type": "code",
      "source": [
        "learn.fit(5, cbs=cbscheds)"
      ],
      "metadata": {
        "id": "oV6I7Pk2H-ZN",
        "outputId": "fb377a1c-ea32-452c-fec9-16d8ae213eef",
        "colab": {
          "base_uri": "https://localhost:8080/",
          "height": 1000
        }
      },
      "execution_count": 150,
      "outputs": [
        {
          "output_type": "display_data",
          "data": {
            "text/html": [
              "\n",
              "    <div>\n",
              "        <style>\n",
              "            /* Turns off some styling */\n",
              "            progress {\n",
              "                /* gets rid of default border in Firefox and Opera. */\n",
              "                border: none;\n",
              "                /* Needs to be in here for Safari polyfill so background images work as expected. */\n",
              "                background-size: auto;\n",
              "            }\n",
              "            .progress-bar-interrupted, .progress-bar-interrupted::-webkit-progress-bar {\n",
              "                background: #F44336;\n",
              "            }\n",
              "        </style>\n",
              "      <progress value='0' class='' max='5' style='width:300px; height:20px; vertical-align: middle;'></progress>\n",
              "      \n",
              "    </div>\n",
              "    \n"
            ],
            "text/plain": [
              "<IPython.core.display.HTML object>"
            ]
          },
          "metadata": {}
        },
        {
          "output_type": "stream",
          "name": "stdout",
          "text": [
            "['epoch', 'train_loss', 'train_fscore', 'valid_loss', 'valid_fscore', 'time']\n"
          ]
        },
        {
          "output_type": "display_data",
          "data": {
            "text/html": [
              ""
            ],
            "text/plain": [
              "<IPython.core.display.HTML object>"
            ]
          },
          "metadata": {}
        },
        {
          "output_type": "stream",
          "name": "stdout",
          "text": [
            "\n",
            "train: [1.4377012252807617, 0.5163288288288288]\n",
            "train: [2.000795841217041, 0.535845645794752]\n",
            "train: [1.9940147399902344, 0.595608583542134]\n",
            "train: [1.9282273054122925, 0.6112161439781535]\n",
            "train: [1.8740119934082031, 0.6142559340504473]\n",
            "train: [1.8160196940104167, 0.6069857651478595]\n",
            "train: [1.761850220816476, 0.5973347722702028]\n",
            "train: [1.7484617233276367, 0.6086483515606034]\n",
            "train: [1.6973618401421442, 0.6138191108522235]\n",
            "train: [1.6796449661254882, 0.6104715978013993]\n",
            "train: [1.6608472303910689, 0.6102988551441292]\n",
            "train: [1.6504224141438801, 0.6096089673838019]\n",
            "train: [1.635214585524339, 0.6104082775850479]\n",
            "train: [1.6128924233572823, 0.6071395766608634]\n",
            "train: [1.600351079305013, 0.6091410105187729]\n",
            "train: [1.58870267868042, 0.6145870670883967]\n",
            "train: [1.5900897979736328, 0.6108154186215481]\n",
            "train: [1.5719113879733615, 0.6139683699519367]\n",
            "train: [1.561904003745631, 0.615604559436006]\n",
            "train: [1.5501294136047363, 0.6192297895538743]\n",
            "train: [1.5381368001302083, 0.6225369064933575]\n",
            "train: [1.5293312072753906, 0.6199536438438925]\n",
            "train: [1.5279879362686821, 0.6130332381865706]\n",
            "train: [1.5210838317871094, 0.6097563262529075]\n",
            "train: [1.5103929138183594, 0.6065425437910266]\n",
            "train: [1.5012942094069262, 0.6061220706747131]\n",
            "train: [1.491724791350188, 0.6046607594151558]\n",
            "train: [1.482649530683245, 0.6033566072638639]\n",
            "train: [1.4721579716123383, 0.6019883695237486]\n",
            "train: [1.4664595286051432, 0.6022517608692939]\n",
            "train: [1.4586195176647556, 0.6043714921715444]\n",
            "train: [1.4532575607299805, 0.605649239034028]\n",
            "train: [1.4532387473366477, 0.6086952872805372]\n",
            "train: [1.4484933965346392, 0.6119694574231611]\n",
            "train: [1.4457896641322545, 0.6138123468749364]\n",
            "train: [1.4378525416056316, 0.6175531644999803]\n",
            "train: [1.4400354333826013, 0.6163467726666475]\n",
            "train: [1.4372545543469881, 0.6143108388854539]\n",
            "train: [1.4300712194198217, 0.6110768805120933]\n",
            "train: [1.4263038635253906, 0.6076222091386773]\n",
            "train: [1.4214701768828601, 0.6046302943719706]\n",
            "train: [1.421617689586821, 0.6017706709865829]\n",
            "train: [1.4176065311875454, 0.6001475564098262]\n",
            "train: [1.4160388599742542, 0.5985385774399081]\n",
            "train: [1.414891815185547, 0.598898538876916]\n",
            "train: [1.4151709183402683, 0.5991378882471703]\n",
            "train: [1.4131468103287068, 0.5987390428985655]\n",
            "train: [1.4129427274068196, 0.5972334500930807]\n",
            "train: [1.4117641838229433, 0.5978225371391037]\n",
            "train: [1.4096481323242187, 0.5982271975074328]\n",
            "train: [1.405585345099954, 0.5985485846190387]\n",
            "train: [1.402384537916917, 0.598634771511563]\n",
            "train: [1.3988533739773732, 0.5963047984421073]\n",
            "train: [1.3986985948350694, 0.5950638379023077]\n",
            "train: [1.396734619140625, 0.5944700928933176]\n",
            "train: [1.3981879098074776, 0.5942441659098331]\n",
            "train: [1.3985080384371573, 0.5935354288560842]\n",
            "train: [1.3980862847689925, 0.5935682824868894]\n",
            "train: [1.3951123771020921, 0.5946830245034798]\n",
            "train: [1.3944632212320964, 0.5924331997224479]\n",
            "train: [1.392659296754931, 0.5900239425136313]\n",
            "train: [1.3911241100680443, 0.5876050515202221]\n",
            "train: [1.389968024359809, 0.5877577050234285]\n",
            "train: [1.3866208791732788, 0.5884748972677188]\n",
            "train: [1.3821789081280047, 0.5909128380113882]\n",
            "train: [1.3824282559481533, 0.5909072455449215]\n",
            "train: [1.381879436435984, 0.592127989946614]\n",
            "train: [1.3799097397748161, 0.5936960748587984]\n",
            "train: [1.3785979782325635, 0.5955853993683725]\n",
            "train: [1.3785120282854353, 0.5972193112519278]\n",
            "train: [1.3769115394269917, 0.5984414398547874]\n",
            "train: [1.3738597234090169, 0.6011944519741346]\n",
            "train: [1.3717007571703768, 0.6021448942086378]\n",
            "train: [1.370582271266628, 0.6024472750003715]\n",
            "train: [1.3706661987304687, 0.6020801498935141]\n",
            "train: [1.3707592612818669, 0.601467984178541]\n",
            "train: [1.3774205988103694, 0.6011455230567582]\n",
            "train: [1.376378181653145, 0.6020341002669862]\n",
            "train: [1.37873521635804, 0.6007361169014173]\n",
            "train: [1.3781332969665527, 0.6012929531759985]\n",
            "train: [1.3765733506944444, 0.6023642070396162]\n",
            "train: [1.3750541500928926, 0.6024538324058645]\n",
            "train: [1.375633607427758, 0.6038063731565736]\n",
            "train: [1.3750530424572172, 0.6043633000867824]\n",
            "train: [1.3757343067842371, 0.6054890933308076]\n",
            "train: [1.3757530922113463, 0.606511269296904]\n",
            "train: [1.373852959994612, 0.60798543963972]\n",
            "train: [1.373687050559304, 0.6074009189511733]\n",
            "train: [1.3732689846767467, 0.6068886314531635]\n",
            "train: [1.3714944627549914, 0.607775651876489]\n",
            "train: [1.373196276989612, 0.6084838559462223]\n",
            "train: [1.3720616879670515, 0.6087143749999931]\n",
            "train: [1.3709656089864752, 0.6081674936142972]\n",
            "train: [1.371701828976895, 0.6073628663687466]\n",
            "train: [1.3715908652857731, 0.6062597214865924]\n",
            "train: [1.3715116182963054, 0.6050216539039553]\n",
            "train: [1.371358340548486, 0.6055952451903509]\n",
            "train: [1.3714392525809151, 0.6070081667603457]\n"
          ]
        },
        {
          "output_type": "stream",
          "name": "stderr",
          "text": [
            "/usr/local/lib/python3.7/dist-packages/sklearn/metrics/_classification.py:1570: UndefinedMetricWarning: F-score is ill-defined and being set to 0.0 due to no true nor predicted samples. Use `zero_division` parameter to control this behavior.\n",
            "  _warn_prf(average, \"true nor predicted\", \"F-score is\", len(true_sum))\n"
          ]
        },
        {
          "output_type": "stream",
          "name": "stdout",
          "text": [
            "\n",
            "valid: [2.7781753540039062, 0.4251152073732719]\n",
            "valid: [2.8423633575439453, 0.4194416616576504]\n",
            "valid: [3.0784594217936196, 0.42293441059404]\n",
            "valid: [3.339387893676758, 0.43361692120540013]\n",
            "valid: [3.186762809753418, 0.44004039011117324]\n",
            "valid: [3.1095403035481772, 0.4470707244049832]\n",
            "valid: [3.0696822575160434, 0.45329230056463526]\n",
            "valid: [3.1430609226226807, 0.4529530870056277]\n",
            "valid: [3.1926244099934897, 0.45493490774769246]\n",
            "valid: [3.2447296142578126, 0.45469833396897064]\n",
            "valid: [3.2783220464533027, 0.4553826975755815]\n",
            "['0', '1.371317', '0.606991', '3.321879', '0.455953', '00:24']\n",
            "\n",
            "train: [1.5157945156097412, 0.6683673469387754]\n",
            "train: [1.5029711723327637, 0.6174375155467592]\n",
            "train: [1.5144721666971843, 0.5639819127214084]\n",
            "train: [1.4974889755249023, 0.5463838704384922]\n",
            "train: [1.497042751312256, 0.5376199168636143]\n",
            "train: [1.4682437578837078, 0.5426067342822714]\n",
            "train: [1.4411239624023438, 0.5381998453503057]\n",
            "train: [1.4476937055587769, 0.5412711850278379]\n",
            "train: [1.4261017905341253, 0.549411043861402]\n",
            "train: [1.4228270530700684, 0.5546131012175707]\n",
            "train: [1.4120068116621538, 0.5685709353310741]\n",
            "train: [1.4009246826171875, 0.5814289083395934]\n",
            "train: [1.39556884765625, 0.5875095656658479]\n",
            "train: [1.3904707772391183, 0.5883797808292479]\n",
            "train: [1.385559336344401, 0.5891335306577952]\n",
            "train: [1.388114333152771, 0.5915896457759967]\n",
            "train: [1.3795581144445084, 0.5920049094976277]\n",
            "train: [1.3816281424628363, 0.595518966553756]\n",
            "train: [1.370688287835372, 0.5945177932644873]\n",
            "train: [1.3659374237060546, 0.5877351660126104]\n",
            "train: [1.358029501778739, 0.5862851996878402]\n",
            "train: [1.3508004275235264, 0.5849806514892513]\n",
            "train: [1.3460940485415251, 0.5838119915547225]\n",
            "train: [1.3418060938517253, 0.5799698028385087]\n",
            "train: [1.3395457458496094, 0.5740135356419119]\n",
            "train: [1.334075194138747, 0.5715338168383826]\n",
            "train: [1.3293037414550781, 0.5767956264926715]\n",
            "train: [1.330350739615304, 0.5792720904801153]\n",
            "train: [1.3274630842537716, 0.5816309981315297]\n",
            "train: [1.3260214487711588, 0.5790181899687038]\n",
            "train: [1.3253487617738786, 0.5775226709518206]\n",
            "train: [1.319617509841919, 0.5764989185828002]\n",
            "train: [1.3157619129527698, 0.5767366311816073]\n",
            "train: [1.315338695750517, 0.5785080869308791]\n",
            "train: [1.3174313136509486, 0.581319943787799]\n",
            "train: [1.3152634302775066, 0.5840219994335983]\n",
            "train: [1.313328201706345, 0.5843036871365942]\n",
            "train: [1.3133602142333984, 0.5838117706258551]\n",
            "train: [1.310426271878756, 0.5873324284108953]\n",
            "train: [1.3112789154052735, 0.5866841088978061]\n",
            "train: [1.3113956916623, 0.5877899226298136]\n",
            "train: [1.3116967337472099, 0.5892959165354529]\n",
            "train: [1.3097366510435593, 0.5914854816848897]\n",
            "train: [1.309008164839311, 0.594416814715258]\n",
            "train: [1.3059298197428386, 0.5982006920949497]\n",
            "train: [1.3051261901855469, 0.5976398437877257]\n",
            "train: [1.301142266456117, 0.5945081545677837]\n",
            "train: [1.3018170992533367, 0.5918001928868672]\n",
            "train: [1.3000874422034439, 0.5885477896122869]\n",
            "train: [1.2979185485839844, 0.5882660879287643]\n",
            "train: [1.2957678402171415, 0.5908274197187218]\n",
            "train: [1.2949308248666616, 0.5930311151168152]\n",
            "train: [1.2923357981555867, 0.5961455689069112]\n",
            "train: [1.292286343044705, 0.5967367653241645]\n",
            "train: [1.291297080300071, 0.59726935793849]\n",
            "train: [1.291722025190081, 0.5974714152648859]\n",
            "train: [1.2888403106154056, 0.5985332157288009]\n",
            "train: [1.2876815795898438, 0.5997079304001434]\n",
            "train: [1.2863743668895657, 0.6002998384127622]\n",
            "train: [1.2860928853352864, 0.5981825089935507]\n",
            "train: [1.2852704407738857, 0.596578589282073]\n",
            "train: [1.2837157710905998, 0.5955017454509066]\n",
            "train: [1.281858898344494, 0.5961734719170908]\n",
            "train: [1.2839431762695312, 0.5955980025800024]\n",
            "train: [1.282379150390625, 0.5969921067760591]\n",
            "train: [1.2833194154681582, 0.597796326695648]\n",
            "train: [1.2830296986138643, 0.5974478018596003]\n",
            "train: [1.284075007719152, 0.5951400823589738]\n",
            "train: [1.284735527591429, 0.5924912570207367]\n",
            "train: [1.2846609933035715, 0.5903944431449303]\n",
            "train: [1.2845554620447293, 0.5897992683718829]\n",
            "train: [1.2848917643229167, 0.5918859167370532]\n",
            "train: [1.2861948927787885, 0.5930567442042042]\n",
            "train: [1.2859881633036845, 0.5931410302281139]\n",
            "train: [1.2856366984049479, 0.5921026585970022]\n",
            "train: [1.2861656389738385, 0.5896771892771898]\n",
            "train: [1.286503977589793, 0.5873437192865769]\n",
            "train: [1.2842569595728166, 0.5876183396022585]\n",
            "train: [1.284787624697142, 0.58854897911538]\n",
            "train: [1.2847726821899415, 0.5893495978430051]\n",
            "train: [1.2839276349103008, 0.5899916198876427]\n",
            "train: [1.2830077380668827, 0.5887251120292529]\n",
            "train: [1.2843432139201336, 0.5873305588075352]\n",
            "train: [1.2834261031377883, 0.5882196652964451]\n",
            "train: [1.283821195714614, 0.588927311177868]\n",
            "train: [1.2837398440338845, 0.5879403492222643]\n",
            "train: [1.2832906438016343, 0.5882170462083647]\n",
            "train: [1.2821537364612927, 0.588870105620881]\n",
            "train: [1.2823215441757374, 0.5898235102574955]\n",
            "train: [1.2830352783203125, 0.5902476343227602]\n",
            "train: [1.283319829584478, 0.5903181731397262]\n",
            "train: [1.2829934825067935, 0.5910689313002081]\n",
            "train: [1.2832485732211862, 0.592402915765765]\n",
            "train: [1.2828304209607713, 0.5936639616903884]\n",
            "train: [1.2829620361328125, 0.5949355651687509]\n",
            "train: [1.2821645736694336, 0.5957749402920708]\n",
            "train: [1.2816659199822809, 0.5957089636789626]\n",
            "train: [1.281341319181481, 0.5940665714165633]\n",
            "\n",
            "valid: [2.3274738788604736, 0.7135797163730124]\n",
            "valid: [2.3391175270080566, 0.6921330863868773]\n",
            "valid: [2.3682022094726562, 0.70221556045372]\n",
            "valid: [2.2725167274475098, 0.7167124533558971]\n",
            "valid: [2.3448108673095702, 0.7157430224058436]\n",
            "valid: [2.3724023501078286, 0.7129802278847812]\n",
            "valid: [2.3630703517368863, 0.7124580033193265]\n",
            "valid: [2.4095547199249268, 0.7100427020569531]\n",
            "valid: [2.4027928246392145, 0.7154783741600724]\n",
            "valid: [2.4184171676635744, 0.7172638700773986]\n",
            "valid: [2.391842408613725, 0.7177718048921652]\n",
            "['1', '1.281322', '0.594052', '2.400158', '0.717635', '00:24']\n",
            "\n",
            "train: [1.8841071128845215, 0.7057926829268293]\n",
            "train: [1.800976276397705, 0.7311014696685428]\n",
            "train: [1.6940447489420574, 0.7193987184547406]\n",
            "train: [1.5842972993850708, 0.7058689648697194]\n",
            "train: [1.5468679428100587, 0.7036757366189145]\n",
            "train: [1.4965699513753254, 0.6810839181585595]\n",
            "train: [1.5310734340122767, 0.66766605963694]\n",
            "train: [1.5038551092147827, 0.6527825685374626]\n",
            "train: [1.5184241400824652, 0.6359268477089758]\n",
            "train: [1.5420333862304687, 0.6125210788259287]\n",
            "train: [1.5442811792547053, 0.5977873853372487]\n",
            "train: [1.8903684616088867, 0.6005002599209681]\n",
            "train: [1.9218509380634015, 0.6126090654620022]\n",
            "train: [1.9442604609898158, 0.6108658081578209]\n",
            "train: [1.9759944915771483, 0.5900548408607194]\n",
            "train: [1.9669272899627686, 0.5847690668156963]\n",
            "train: [1.9253831751206343, 0.5888377583120468]\n",
            "train: [1.9038893381754558, 0.5915790949714785]\n",
            "train: [1.8774879857113487, 0.5905451923828826]\n",
            "train: [1.8699724197387695, 0.5858000678399912]\n",
            "train: [1.839999789283389, 0.5785537940658998]\n",
            "train: [1.8135181773792615, 0.579407004095437]\n",
            "train: [1.794396276059358, 0.580469575823729]\n",
            "train: [1.7740858395894368, 0.5863865060209942]\n",
            "train: [1.757606201171875, 0.5889293561152713]\n",
            "train: [1.73939455472506, 0.5902067984624861]\n",
            "train: [1.7238393712926794, 0.5847371712680833]\n",
            "train: [1.7094647543770927, 0.5776524021643531]\n",
            "train: [1.6941688800680226, 0.5740760511910383]\n",
            "train: [1.680603281656901, 0.5746448077694223]\n",
            "train: [1.667265122936618, 0.5767134982941572]\n",
            "train: [1.6564565896987915, 0.5790589754155191]\n",
            "train: [1.6443016745827415, 0.5801805649050921]\n",
            "train: [1.6316834618063534, 0.5778006335626746]\n",
            "train: [1.618116215297154, 0.5767551523525637]\n",
            "train: [1.6077717675103083, 0.5767526944168444]\n",
            "train: [1.5993207983068518, 0.5757468076412791]\n",
            "train: [1.590120516325298, 0.5726813458417522]\n",
            "train: [1.5792101346529448, 0.5697782205498986]\n",
            "train: [1.57176513671875, 0.5669091695668954]\n",
            "train: [1.5656379141458652, 0.563027652999197]\n",
            "train: [1.5569029308500744, 0.5597953928628525]\n",
            "train: [1.551732440327489, 0.5568046316462851]\n",
            "train: [1.5461111935702236, 0.5540793719244036]\n",
            "train: [1.538941616482205, 0.5577529642292175]\n",
            "train: [1.533956942350968, 0.5601751806044899]\n",
            "train: [1.5281229222074468, 0.5621540098082274]\n",
            "train: [1.5228999455769856, 0.5640570535564166]\n",
            "train: [1.5205232269909916, 0.5623744043800865]\n",
            "train: [1.5157574462890624, 0.5617616850325167]\n",
            "train: [1.5110415290383732, 0.5608929798276708]\n",
            "train: [1.5057289416973407, 0.5632434395063096]\n",
            "train: [1.50025781595482, 0.5663774704408661]\n",
            "train: [1.495787020082827, 0.5684663040262672]\n",
            "train: [1.4916573264382103, 0.5699802755656307]\n",
            "train: [1.4869530541556222, 0.5695427285426092]\n",
            "train: [1.4812683640864857, 0.567845574933177]\n",
            "train: [1.4759021627491917, 0.5658460713441219]\n",
            "train: [1.4735283285884533, 0.563107245035729]\n",
            "train: [1.4693434397379557, 0.5610350494552014]\n",
            "train: [1.4658030525582735, 0.5613868750903527]\n",
            "train: [1.4623965601767264, 0.5622549129740663]\n",
            "train: [1.45948730953156, 0.5647360475693897]\n",
            "train: [1.4556865692138672, 0.5667075523936467]\n",
            "train: [1.4516837486853966, 0.5673479490234881]\n",
            "train: [1.4473637667569248, 0.565690907269758]\n",
            "train: [1.4453279865321829, 0.5636542650776523]\n",
            "train: [1.4428109561695772, 0.5621237296710297]\n",
            "train: [1.4386412026225657, 0.5627416742375642]\n",
            "train: [1.4350764683314732, 0.5631648397640834]\n",
            "train: [1.431490401147117, 0.5640535409823727]\n",
            "train: [1.428558561537001, 0.5649899647302687]\n",
            "train: [1.4252591067797518, 0.5654926536308285]\n",
            "train: [1.421145671122783, 0.5643956410883875]\n",
            "train: [1.4181617228190104, 0.5634448666419248]\n",
            "train: [1.4155019458971525, 0.56253528203153]\n",
            "train: [1.4133731792499493, 0.5615703471235575]\n",
            "train: [1.411460974277594, 0.5613868440205533]\n",
            "train: [1.4089101477514339, 0.5612611788227586]\n",
            "train: [1.4068296432495118, 0.5617454140874741]\n",
            "train: [1.4049316217869887, 0.5626050083458956]\n",
            "train: [1.4027589007121761, 0.5640371669856618]\n",
            "train: [1.4009699074618787, 0.565029631647185]\n",
            "train: [1.3980733780633836, 0.5676841527512508]\n",
            "train: [1.3963520723230698, 0.5688346034080115]\n",
            "train: [1.395181611526844, 0.569339572897379]\n",
            "train: [1.3934515591325431, 0.5700496315447715]\n",
            "train: [1.3908993981101296, 0.5710202674027234]\n",
            "train: [1.390018934614203, 0.5715047746694502]\n",
            "train: [1.3882869296603733, 0.5724807000782977]\n",
            "train: [1.3871635185493219, 0.5720785820504146]\n",
            "train: [1.3859199026356572, 0.5724974607217405]\n",
            "train: [1.383473878265709, 0.5717774010891801]\n",
            "train: [1.381621665142952, 0.5701084246629258]\n",
            "train: [1.3802432411595396, 0.5686028973857722]\n",
            "train: [1.3778069814046223, 0.5672372422046704]\n",
            "train: [1.3767354119684279, 0.5665390360112895]\n",
            "train: [1.3751784344108737, 0.565958418850122]\n"
          ]
        },
        {
          "output_type": "stream",
          "name": "stderr",
          "text": [
            "/usr/local/lib/python3.7/dist-packages/sklearn/metrics/_classification.py:1570: UndefinedMetricWarning: F-score is ill-defined and being set to 0.0 due to no true nor predicted samples. Use `zero_division` parameter to control this behavior.\n",
            "  _warn_prf(average, \"true nor predicted\", \"F-score is\", len(true_sum))\n"
          ]
        },
        {
          "output_type": "stream",
          "name": "stdout",
          "text": [
            "\n",
            "valid: [1.2676339149475098, 0.5256113797211127]\n",
            "valid: [1.2962448596954346, 0.5311098200232598]\n",
            "valid: [1.2920416196187336, 0.5172780314832355]\n",
            "valid: [1.2937841415405273, 0.532741845381177]\n",
            "valid: [1.273557758331299, 0.5259689312023477]\n",
            "valid: [1.270081599553426, 0.5280510324122129]\n",
            "valid: [1.2706234795706612, 0.5315227336642496]\n",
            "valid: [1.2726699113845825, 0.5302455010983852]\n",
            "valid: [1.2779799567328558, 0.5224134774568682]\n",
            "valid: [1.275590705871582, 0.5193020427024805]\n",
            "valid: [1.2756116173484109, 0.5148406331128758]\n",
            "['2', '1.375111', '0.565948', '1.269967', '0.512669', '00:24']\n",
            "\n",
            "train: [1.1103111505508423, 0.5028368794326241]\n",
            "train: [1.2607805728912354, 0.45034317089910775]\n",
            "train: [1.3125227292378743, 0.47935249193961144]\n",
            "train: [1.260673999786377, 0.5021988678267679]\n",
            "train: [1.2660486221313476, 0.4833124923196667]\n",
            "train: [1.263841946919759, 0.5066650224257181]\n",
            "train: [1.2654598781040736, 0.525788064334826]\n",
            "train: [1.2610968351364136, 0.5468805753254866]\n",
            "train: [1.2586905161539714, 0.5626237177210647]\n",
            "train: [1.2482452392578125, 0.560999503843695]\n",
            "train: [1.2479868802157315, 0.5509807899300546]\n",
            "train: [1.2413794994354248, 0.5457904581451033]\n",
            "train: [1.23962769141564, 0.5384687231136002]\n",
            "train: [1.2459005628313338, 0.5293706897972352]\n",
            "train: [1.239435577392578, 0.5359897880968244]\n",
            "train: [1.2395861148834229, 0.5445329521139688]\n",
            "train: [1.2367587370031021, 0.5494491745409054]\n",
            "train: [1.2330695258246527, 0.5596439173694409]\n",
            "train: [1.2338158456902755, 0.565569091309061]\n",
            "train: [1.230531597137451, 0.5689082838024315]\n",
            "train: [1.2269361586797805, 0.5748607586885184]\n",
            "train: [1.2283606095747515, 0.571041746513699]\n",
            "train: [1.2286814814028533, 0.5649662074403246]\n",
            "train: [1.229909340540568, 0.5608125228710518]\n",
            "train: [1.2296623229980468, 0.5573241213350917]\n",
            "train: [1.230551426227276, 0.5557980804692624]\n",
            "train: [1.2326620596426505, 0.5501853856055466]\n",
            "train: [1.2299225670950753, 0.5508601556685064]\n",
            "train: [1.2291159794248383, 0.5524566200502482]\n",
            "train: [1.2281140645345052, 0.556889384729892]\n",
            "train: [1.2271395037251134, 0.5623792441638878]\n",
            "train: [1.2272260189056396, 0.5646174733695095]\n",
            "train: [1.2276940779252485, 0.5686113363104192]\n",
            "train: [1.226536470301011, 0.5696968699636268]\n",
            "train: [1.2274492536272321, 0.5729490527319975]\n",
            "train: [1.2259053124321833, 0.5761882579216764]\n",
            "train: [1.2265935330777555, 0.5779013609672407]\n",
            "train: [1.226811358803197, 0.5782144527990162]\n",
            "train: [1.2259100889548278, 0.5791851444854883]\n",
            "train: [1.2243117332458495, 0.5818381323608063]\n",
            "train: [1.222658576034918, 0.5834741058026953]\n",
            "train: [1.2221943083263578, 0.5839526134876651]\n",
            "train: [1.2207701039868732, 0.5824620083201651]\n",
            "train: [1.2173323197798296, 0.5846966061702861]\n",
            "train: [1.2155648125542535, 0.5868713069117216]\n",
            "train: [1.2170902749766475, 0.5863620821896618]\n",
            "train: [1.215398666706491, 0.5869017763973691]\n",
            "train: [1.2147960662841797, 0.5885172486483498]\n",
            "train: [1.21579866993184, 0.5876521678660229]\n",
            "train: [1.218243408203125, 0.5875354881450662]\n",
            "train: [1.2210903541714537, 0.586246645461402]\n",
            "train: [1.220343149625338, 0.583268297452906]\n",
            "train: [1.2189631911943544, 0.5818890522735172]\n",
            "train: [1.2185687312373408, 0.579832464885736]\n",
            "train: [1.2186911843039774, 0.5775757707189824]\n",
            "train: [1.2173035485403878, 0.5756292224087016]\n",
            "train: [1.2166003846285636, 0.5741256975098674]\n",
            "train: [1.2177156908758755, 0.5712312889321111]\n",
            "train: [1.2175383486990201, 0.5691224282830634]\n",
            "train: [1.2181231180826824, 0.5665677475476526]\n",
            "train: [1.2187469982710042, 0.564208938774267]\n",
            "train: [1.217928240376134, 0.5618999660775683]\n",
            "train: [1.2165279085673983, 0.5605942207279208]\n",
            "train: [1.2159818410873413, 0.5605551445692655]\n",
            "train: [1.2157089233398437, 0.5605611581589028]\n",
            "train: [1.215179443359375, 0.5604000690753157]\n",
            "train: [1.2143633258876516, 0.5624278801491883]\n",
            "train: [1.215172711540671, 0.5626981772177015]\n",
            "train: [1.2164126410000566, 0.5622863331486747]\n",
            "train: [1.216620853969029, 0.5633227318247652]\n",
            "train: [1.21618759800011, 0.5625004040364517]\n",
            "train: [1.2164729436238606, 0.5610181266651749]\n",
            "train: [1.2154196125187287, 0.5592037883351236]\n",
            "train: [1.215275016990868, 0.5575528862905549]\n",
            "train: [1.2153518676757813, 0.5558561206600585]\n",
            "train: [1.2154476768092106, 0.554593079154552]\n",
            "train: [1.2153778076171875, 0.5531780935496184]\n",
            "train: [1.2147112137232072, 0.5517522755004476]\n",
            "train: [1.2150175843057753, 0.5506752424772351]\n",
            "train: [1.214776611328125, 0.5497408388644078]\n",
            "train: [1.2142920788423515, 0.5486186705925659]\n",
            "train: [1.2143622607719609, 0.5485677653956376]\n",
            "train: [1.2137107389519013, 0.5491979994629487]\n",
            "train: [1.2132423945835658, 0.5504594013678944]\n",
            "train: [1.2141238044289981, 0.5500647709320301]\n",
            "train: [1.2122727327568585, 0.5523159168396359]\n",
            "train: [1.2110639550220008, 0.5542963582770805]\n",
            "train: [1.2106748060746626, 0.5549274340828622]\n",
            "train: [1.210738192783313, 0.5555151611394463]\n",
            "train: [1.210089874267578, 0.5553217494390981]\n",
            "train: [1.2108401623401013, 0.5558575723315593]\n",
            "train: [1.2093548152757727, 0.5574390929156005]\n",
            "train: [1.20858887703188, 0.5577362983988899]\n",
            "train: [1.2083430188767454, 0.5585874379214189]\n",
            "train: [1.2076799894634047, 0.5585664481179661]\n",
            "train: [1.2071179548899333, 0.5598677725098997]\n",
            "train: [1.2083915631795668, 0.5597026011834694]\n",
            "train: [1.2087039558254942, 0.5595370466904703]\n",
            "\n",
            "valid: [1.1807173490524292, 0.704251012145749]\n",
            "valid: [1.210196852684021, 0.6676548247939229]\n",
            "valid: [1.2199395497639973, 0.6711974926235581]\n",
            "valid: [1.194366455078125, 0.6808019656215147]\n",
            "valid: [1.1892147064208984, 0.6817580254331965]\n",
            "valid: [1.1942925453186035, 0.6729927989721082]\n",
            "valid: [1.190171786717006, 0.6738956900746764]\n",
            "valid: [1.1909576654434204, 0.6729500453419526]\n",
            "valid: [1.1898778279622395, 0.6721857545896721]\n",
            "valid: [1.1896777153015137, 0.6730908797544055]\n",
            "valid: [1.1858881170099431, 0.6730030785260698]\n",
            "['3', '1.208703', '0.559528', '1.183545', '0.670545', '00:25']\n",
            "\n",
            "train: [1.1794309616088867, 0.6398176291793314]\n",
            "train: [1.2061946392059326, 0.6574509021317532]\n",
            "train: [1.1795304616292317, 0.6880360511566185]\n",
            "train: [1.1820523738861084, 0.6928662017284448]\n",
            "train: [1.1798171043395995, 0.70639552548532]\n",
            "train: [1.185444672902425, 0.6968299070514389]\n",
            "train: [1.190737043108259, 0.692740315326513]\n",
            "train: [1.1993037462234497, 0.6861191343395041]\n",
            "train: [1.2043609619140625, 0.6824952186589684]\n",
            "train: [1.1995928764343262, 0.6813197708671457]\n",
            "train: [1.1979375319047407, 0.6834266657005951]\n",
            "train: [1.2008744875590007, 0.6806345691475758]\n",
            "train: [1.1941003065842848, 0.6805611844346335]\n",
            "train: [1.1921770913260323, 0.6802991858238379]\n",
            "train: [1.1898323059082032, 0.6759391727621813]\n",
            "train: [1.1921573877334595, 0.6696241485536139]\n",
            "train: [1.1906227784998276, 0.659425647165901]\n",
            "train: [1.1894286473592122, 0.6563092558417178]\n",
            "train: [1.1897086093300266, 0.651266943384203]\n",
            "train: [1.1885793685913086, 0.6462765608847316]\n",
            "train: [1.1843014671688987, 0.6447989198159052]\n",
            "train: [1.181313861500133, 0.6405845749757882]\n",
            "train: [1.1833651998768682, 0.6346917893268629]\n",
            "train: [1.1815586884816487, 0.6312706593645657]\n",
            "train: [1.1815830230712892, 0.6297563177775113]\n",
            "train: [1.1871599784264197, 0.6256950239947547]\n",
            "train: [1.1916119610821758, 0.6243396177081285]\n",
            "train: [1.188955443246024, 0.6269017181961435]\n",
            "train: [1.1844742873619343, 0.6287200123596964]\n",
            "train: [1.1844547271728516, 0.6300522409039355]\n",
            "train: [1.1837344015798261, 0.6297279750683247]\n",
            "train: [1.1814274787902832, 0.6332850961382526]\n",
            "train: [1.1813635392622515, 0.6371222983051155]\n",
            "train: [1.1815422282499426, 0.6383138173145014]\n",
            "train: [1.179438236781529, 0.6403244636963147]\n",
            "train: [1.1809130774603949, 0.6386982668302564]\n",
            "train: [1.1827134828309755, 0.6404815251950687]\n",
            "train: [1.1843124188874896, 0.6422880817030573]\n",
            "train: [1.1822959704276843, 0.6439144632862845]\n",
            "train: [1.182353687286377, 0.6453524868715916]\n",
            "train: [1.182351554312357, 0.646150024063946]\n",
            "train: [1.1813520703996931, 0.6482113871273585]\n",
            "train: [1.1817786638126817, 0.6474587115787086]\n",
            "train: [1.1822914643721147, 0.6476585135882834]\n",
            "train: [1.1818741692437067, 0.6473183149920081]\n",
            "train: [1.1851972497027854, 0.6473857465805998]\n",
            "train: [1.1847221699166806, 0.6484584370321231]\n",
            "train: [1.1865654786427815, 0.6477345607310777]\n",
            "train: [1.1847018806301817, 0.6480656235644515]\n",
            "train: [1.1845872497558594, 0.6488543110931624]\n",
            "train: [1.1861872205547257, 0.6481027817734822]\n",
            "train: [1.1844950455885668, 0.6500584507941884]\n",
            "train: [1.1847082174049233, 0.6508037713369479]\n",
            "train: [1.1850726516158492, 0.6514963357046157]\n",
            "train: [1.1848789561878552, 0.651153730714068]\n",
            "train: [1.1846084594726562, 0.6508392846267421]\n",
            "train: [1.184938397323876, 0.6498844861352083]\n",
            "train: [1.1852330174939385, 0.6497191079810063]\n",
            "train: [1.1840331514002913, 0.6495787613784291]\n",
            "train: [1.1845506032307942, 0.6492387708772385]\n",
            "train: [1.1834649257972591, 0.648750339296373]\n",
            "train: [1.1834967828566028, 0.6489682436590427]\n",
            "train: [1.1852283780536954, 0.6472551458850933]\n",
            "train: [1.185449481010437, 0.6455430585523707]\n",
            "train: [1.1853564922626203, 0.6459557246085075]\n",
            "train: [1.1849951310591265, 0.6457864349734642]\n",
            "train: [1.1850974239520173, 0.6454761896753528]\n",
            "train: [1.184407065896427, 0.6449962011577001]\n",
            "train: [1.1842849289161572, 0.645733623624118]\n",
            "train: [1.1839897155761718, 0.6470256324641197]\n",
            "train: [1.1828672382193552, 0.6475370085327001]\n",
            "train: [1.1822889116075304, 0.6473454863587499]\n",
            "train: [1.182562423078981, 0.6465094189269952]\n",
            "train: [1.1820485914075696, 0.6475896872572023]\n",
            "train: [1.1820682779947917, 0.6472676443786095]\n",
            "train: [1.182468715466951, 0.6465249287425573]\n",
            "train: [1.1823064630681819, 0.646158794424916]\n",
            "train: [1.181938269199469, 0.6467539690807813]\n",
            "train: [1.1810043914408623, 0.6469764186541906]\n",
            "train: [1.1813901901245116, 0.6458810063503062]\n",
            "train: [1.181736887237172, 0.6460500614334519]\n",
            "train: [1.1821692862161777, 0.6455313981078861]\n",
            "train: [1.1811746804110974, 0.6460775284325352]\n",
            "train: [1.1809427170526414, 0.6461196974036201]\n",
            "train: [1.181619711483226, 0.6467086362898001]\n",
            "train: [1.1807143632755723, 0.646827061494378]\n",
            "train: [1.180492620358522, 0.6469495031627186]\n",
            "train: [1.1813590309836648, 0.6469597299718421]\n",
            "train: [1.1818638490826896, 0.6467940199548725]\n",
            "train: [1.1822557237413194, 0.6470329135938057]\n",
            "train: [1.1829584142663976, 0.6455960581671423]\n",
            "train: [1.1828437473462976, 0.6450281704004529]\n",
            "train: [1.183836660077495, 0.644999378861138]\n",
            "train: [1.183010588300989, 0.6447275178567051]\n",
            "train: [1.182807761744449, 0.6449178720286779]\n",
            "train: [1.1850450833638508, 0.6442351140298959]\n",
            "train: [1.1848205881020457, 0.6443562252871433]\n",
            "train: [1.185187359245456, 0.6446952680656666]\n"
          ]
        },
        {
          "output_type": "stream",
          "name": "stderr",
          "text": [
            "/usr/local/lib/python3.7/dist-packages/sklearn/metrics/_classification.py:1570: UndefinedMetricWarning: F-score is ill-defined and being set to 0.0 due to no true nor predicted samples. Use `zero_division` parameter to control this behavior.\n",
            "  _warn_prf(average, \"true nor predicted\", \"F-score is\", len(true_sum))\n"
          ]
        },
        {
          "output_type": "stream",
          "name": "stdout",
          "text": [
            "\n",
            "valid: [1.1776028871536255, 0.6718234981392877]\n",
            "valid: [1.2109631299972534, 0.6336645580584079]\n",
            "valid: [1.2156380812327068, 0.6346043077075881]\n",
            "valid: [1.190412163734436, 0.6462041268380387]\n",
            "valid: [1.1802141189575195, 0.6499330410904169]\n",
            "valid: [1.1813205083211262, 0.6432912734092092]\n",
            "valid: [1.1822780881609236, 0.6447991134716299]\n",
            "valid: [1.1825690269470215, 0.6465411022481108]\n",
            "valid: [1.1844523747762044, 0.6466050747683432]\n",
            "valid: [1.179910659790039, 0.6515654518941029]\n",
            "valid: [1.1750249862670898, 0.6492796509102546]\n",
            "['4', '1.185362', '0.644592', '1.171733', '0.646482', '00:24']\n"
          ]
        }
      ]
    },
    {
      "cell_type": "code",
      "source": [
        "def save_checkpoint(learner, filename):\n",
        "    fname = Path(filename)\n",
        "    fname.parent.mkdir(parents=True, exist_ok = True)\n",
        "    checkpoint_dict = {\n",
        "        'model': learn.model.state_dict(),\n",
        "    }\n",
        "    torch.save(checkpoint_dict, fname)"
      ],
      "metadata": {
        "id": "m74MMR93Wwwj"
      },
      "execution_count": 151,
      "outputs": []
    },
    {
      "cell_type": "code",
      "source": [
        "save_checkpoint(learn, '/gdrive/Shareddrives/Dion-Account/2122WS/8-dl4slp/coding-project/ser/checkpoints/xtesnet50-5epochs.pt')"
      ],
      "metadata": {
        "id": "2RkTAUCAmnsH"
      },
      "execution_count": 152,
      "outputs": []
    },
    {
      "cell_type": "code",
      "source": [
        "(root_path.parent.parent/'checkpoints').ls()"
      ],
      "metadata": {
        "id": "mBWspuVCClZF",
        "outputId": "fbfb9363-dd26-48b7-86d8-0b80282a75a1",
        "colab": {
          "base_uri": "https://localhost:8080/"
        }
      },
      "execution_count": 32,
      "outputs": [
        {
          "output_type": "execute_result",
          "data": {
            "text/plain": [
              "[PosixPath('/gdrive/Shareddrives/Dion-Account/2122WS/8-dl4slp/coding-project/ser/checkpoints/model-v5-8.tar.gz'),\n",
              " PosixPath('/gdrive/Shareddrives/Dion-Account/2122WS/8-dl4slp/coding-project/ser/checkpoints/.ipynb_checkpoints'),\n",
              " PosixPath('/gdrive/Shareddrives/Dion-Account/2122WS/8-dl4slp/coding-project/ser/checkpoints/2021-12-20-v2-2-transformer.pt'),\n",
              " PosixPath('/gdrive/Shareddrives/Dion-Account/2122WS/8-dl4slp/coding-project/ser/checkpoints/xtesnet34-20epochs.pt'),\n",
              " PosixPath('/gdrive/Shareddrives/Dion-Account/2122WS/8-dl4slp/coding-project/ser/checkpoints/xtesnet50-20epochs-f1:0.698.pt'),\n",
              " PosixPath('/gdrive/Shareddrives/Dion-Account/2122WS/8-dl4slp/coding-project/ser/checkpoints/xtesnet50-2epochs.pt')]"
            ]
          },
          "metadata": {},
          "execution_count": 32
        }
      ]
    },
    {
      "cell_type": "code",
      "source": [
        "learn.recorder.plot()"
      ],
      "metadata": {
        "id": "wuYLEUgYDBBq",
        "outputId": "047ed423-db16-4867-fb08-fe71b79fe337",
        "colab": {
          "base_uri": "https://localhost:8080/",
          "height": 269
        }
      },
      "execution_count": 33,
      "outputs": [
        {
          "output_type": "display_data",
          "data": {
            "image/png": "[encoded data removed]",
            "text/plain": [
              "<Figure size 432x288 with 1 Axes>"
            ]
          },
          "metadata": {
            "needs_background": "light"
          }
        }
      ]
    },
    {
      "cell_type": "code",
      "source": [
        "learn.recorder.plot_loss()"
      ],
      "metadata": {
        "id": "ZU68dszWDJ3g",
        "outputId": "40482cc6-7c06-4016-ab17-ee28b16b3770",
        "colab": {
          "base_uri": "https://localhost:8080/",
          "height": 265
        }
      },
      "execution_count": 34,
      "outputs": [
        {
          "output_type": "display_data",
          "data": {
            "image/png": "[encoded data removed]",
            "text/plain": [
              "<Figure size 432x288 with 1 Axes>"
            ]
          },
          "metadata": {
            "needs_background": "light"
          }
        }
      ]
    },
    {
      "cell_type": "code",
      "source": [
        "learn.recorder.plot_lr()"
      ],
      "metadata": {
        "id": "3FLJYScyDR9J",
        "outputId": "7a19722c-1048-4e2a-9160-c973c5748b99",
        "colab": {
          "base_uri": "https://localhost:8080/",
          "height": 265
        }
      },
      "execution_count": 35,
      "outputs": [
        {
          "output_type": "display_data",
          "data": {
            "image/png": "[encoded data removed]",
            "text/plain": [
              "<Figure size 432x288 with 1 Axes>"
            ]
          },
          "metadata": {
            "needs_background": "light"
          }
        }
      ]
    },
    {
      "cell_type": "markdown",
      "source": [
        "---"
      ],
      "metadata": {
        "id": "-TDxL4SxmzBB"
      }
    },
    {
      "cell_type": "markdown",
      "source": [
        "# Let me save the best model\n",
        "1. measure metric and reserve the max values\n",
        "2. when the max value changes, change the checkpoint model"
      ],
      "metadata": {
        "id": "l2-ht7gfzBFk"
      }
    },
    {
      "cell_type": "markdown",
      "source": [
        "# Let me interpret the results"
      ],
      "metadata": {
        "id": "QmWAfbt-n1HJ"
      }
    },
    {
      "cell_type": "code",
      "source": [
        "def get_predictions(learn):\n",
        "    learn.model.eval()\n",
        "    targets, outputs = [],[]\n",
        "    with torch.no_grad():\n",
        "        for xb,yb in progress_bar(learn.data.valid_dl):\n",
        "            out = learn.model(xb)\n",
        "            for _,y,z in zip(xb,yb,out):\n",
        "                targets.append(learn.data.train_ds.proc_y.deproc1(y))\n",
        "                outputs.append(learn.data.train_ds.proc_y.deproc1(z.argmax(-1)))\n",
        "    return targets, outputs"
      ],
      "metadata": {
        "id": "htphjqd07Mwl"
      },
      "execution_count": 153,
      "outputs": []
    },
    {
      "cell_type": "code",
      "source": [
        "trg, pred = get_predictions(learn)"
      ],
      "metadata": {
        "id": "gFlOrpAT9NAe"
      },
      "execution_count": null,
      "outputs": []
    },
    {
      "cell_type": "code",
      "source": [
        "%cd /content"
      ],
      "metadata": {
        "colab": {
          "base_uri": "https://localhost:8080/"
        },
        "id": "6TLhAwYC_ICW",
        "outputId": "acbbc182-76e0-4eb4-d456-42e63d3581c5"
      },
      "execution_count": null,
      "outputs": [
        {
          "output_type": "stream",
          "name": "stdout",
          "text": [
            "/content\n"
          ]
        }
      ]
    },
    {
      "cell_type": "code",
      "source": [
        "import seaborn as sn\n",
        "import pandas as pd"
      ],
      "metadata": {
        "id": "Gbbu1cgXHyUa"
      },
      "execution_count": null,
      "outputs": []
    },
    {
      "cell_type": "code",
      "source": [
        "from IPython.display import display,HTML"
      ],
      "metadata": {
        "id": "MZdSDp6hITvX"
      },
      "execution_count": null,
      "outputs": []
    },
    {
      "cell_type": "code",
      "source": [
        "def cm(true_label, pred_label, clf):\n",
        "    \"\"\"\n",
        "    The function not only calculates confusion matrix, but also visualizes (i.e. sys out write) it as heatmap\n",
        "    Parameters\n",
        "    ----------\n",
        "    true_label : array-like of shape (n_samples,)\n",
        "        Ground truth of target data\n",
        "    pred_label : array-like of shape (n_samples,)\n",
        "        Predictoin from target data\n",
        "    labels: array-like of shape (n_classes), default=None\n",
        "        labels which index confusion matrix\n",
        "    Note\n",
        "    ----------\n",
        "    Please be sure that input is 1-D\n",
        "    \"\"\"\n",
        "    cm_score = confusion_matrix(true_label, pred_label)\n",
        "    df_cm = pd.DataFrame(cm_score, index=clf.labels, columns=clf.labels)\n",
        "    display(HTML(df_cm.to_html()))\n",
        "\n",
        "    plt.figure(figsize=(10, 7))\n",
        "    sn.heatmap(df_cm, annot=True, fmt='d')\n",
        "    img_path = Path('/content/results/cm')\n",
        "    img_path.mkdir(exist_ok=True, parents=True)\n",
        "    fname = img_path / f'ser_{clf.model.name}_epochs:{clf.epochs}'\n",
        "    plt.savefig(fname)\n",
        "    print(f\"Your confusion matrix is saved at : {str(img_path)} named {fname}\")"
      ],
      "metadata": {
        "id": "p1Apfscp-Uy7"
      },
      "execution_count": null,
      "outputs": []
    },
    {
      "cell_type": "code",
      "source": [
        "cm(trg, pred, learn)"
      ],
      "metadata": {
        "colab": {
          "base_uri": "https://localhost:8080/",
          "height": 606
        },
        "id": "ed87MsbKH3aq",
        "outputId": "b105dace-83e9-4be1-f6cf-746688eea57f"
      },
      "execution_count": null,
      "outputs": [
        {
          "output_type": "display_data",
          "data": {
            "text/html": [
              "<table border=\"1\" class=\"dataframe\">\n",
              "  <thead>\n",
              "    <tr style=\"text-align: right;\">\n",
              "      <th></th>\n",
              "      <th>(act:0, val:1)</th>\n",
              "      <th>(act:0, val:0)</th>\n",
              "      <th>(act:1, val:1)</th>\n",
              "      <th>(act:1, val:0)</th>\n",
              "    </tr>\n",
              "  </thead>\n",
              "  <tbody>\n",
              "    <tr>\n",
              "      <th>(act:0, val:1)</th>\n",
              "      <td>92</td>\n",
              "      <td>45</td>\n",
              "      <td>45</td>\n",
              "      <td>77</td>\n",
              "    </tr>\n",
              "    <tr>\n",
              "      <th>(act:0, val:0)</th>\n",
              "      <td>42</td>\n",
              "      <td>39</td>\n",
              "      <td>24</td>\n",
              "      <td>96</td>\n",
              "    </tr>\n",
              "    <tr>\n",
              "      <th>(act:1, val:1)</th>\n",
              "      <td>37</td>\n",
              "      <td>47</td>\n",
              "      <td>351</td>\n",
              "      <td>215</td>\n",
              "    </tr>\n",
              "    <tr>\n",
              "      <th>(act:1, val:0)</th>\n",
              "      <td>37</td>\n",
              "      <td>47</td>\n",
              "      <td>138</td>\n",
              "      <td>242</td>\n",
              "    </tr>\n",
              "  </tbody>\n",
              "</table>"
            ],
            "text/plain": [
              "<IPython.core.display.HTML object>"
            ]
          },
          "metadata": {}
        },
        {
          "output_type": "stream",
          "name": "stdout",
          "text": [
            "Your confusion matrix is saved at : /content/results/cm named /content/results/cm/ser_xresnet50_epochs:30\n"
          ]
        },
        {
          "output_type": "display_data",
          "data": {
            "image/png": "[encoded data removed]",
            "text/plain": [
              "<Figure size 720x504 with 2 Axes>"
            ]
          },
          "metadata": {
            "needs_background": "light"
          }
        }
      ]
    },
    {
      "cell_type": "code",
      "source": [
        "learn.model.name = 'xresnet50'"
      ],
      "metadata": {
        "id": "SF1eBfkG_cKA"
      },
      "execution_count": null,
      "outputs": []
    },
    {
      "cell_type": "code",
      "source": [
        "learn.labels = {'(act:1, val:1)','(act:0, val:0)', '(act:1, val:0)', '(act:0, val:1)'}"
      ],
      "metadata": {
        "id": "O6t7vbKJ-IDH"
      },
      "execution_count": null,
      "outputs": []
    },
    {
      "cell_type": "code",
      "source": [
        "from sklearn.metrics import classification_report"
      ],
      "metadata": {
        "id": "LRNEuvzq9VE8"
      },
      "execution_count": null,
      "outputs": []
    },
    {
      "cell_type": "code",
      "source": [
        "print(classification_report(trg, pred))"
      ],
      "metadata": {
        "colab": {
          "base_uri": "https://localhost:8080/"
        },
        "id": "53Vah5DjBPOb",
        "outputId": "d8e00afd-cc18-4a93-eefa-38f75637923d"
      },
      "execution_count": null,
      "outputs": [
        {
          "output_type": "stream",
          "name": "stdout",
          "text": [
            "              precision    recall  f1-score   support\n",
            "\n",
            "          00       0.44      0.36      0.39       259\n",
            "          01       0.22      0.19      0.21       201\n",
            "          10       0.63      0.54      0.58       650\n",
            "          11       0.38      0.52      0.44       464\n",
            "\n",
            "    accuracy                           0.46      1574\n",
            "   macro avg       0.42      0.40      0.41      1574\n",
            "weighted avg       0.47      0.46      0.46      1574\n",
            "\n"
          ]
        }
      ]
    },
    {
      "cell_type": "code",
      "source": [
        "import numpy as np"
      ],
      "metadata": {
        "id": "IDHwm1fZCjpl"
      },
      "execution_count": null,
      "outputs": []
    },
    {
      "cell_type": "code",
      "source": [
        ""
      ],
      "metadata": {
        "id": "MTGvXAW3nry3"
      },
      "execution_count": null,
      "outputs": []
    },
    {
      "cell_type": "code",
      "source": [
        "print(classification_report(true_act, pred_act))"
      ],
      "metadata": {
        "colab": {
          "base_uri": "https://localhost:8080/"
        },
        "id": "6pUl4n4eDn4o",
        "outputId": "c3280de8-19e9-450b-be04-6aeaa0e6a03c"
      },
      "execution_count": null,
      "outputs": [
        {
          "output_type": "stream",
          "name": "stdout",
          "text": [
            "              precision    recall  f1-score   support\n",
            "\n",
            "           0       0.56      0.47      0.52       460\n",
            "           1       0.80      0.85      0.82      1114\n",
            "\n",
            "    accuracy                           0.74      1574\n",
            "   macro avg       0.68      0.66      0.67      1574\n",
            "weighted avg       0.73      0.74      0.73      1574\n",
            "\n"
          ]
        }
      ]
    },
    {
      "cell_type": "code",
      "source": [
        "print(classification_report(true_val, pred_val))"
      ],
      "metadata": {
        "colab": {
          "base_uri": "https://localhost:8080/"
        },
        "id": "CWmvu5ZFGsOn",
        "outputId": "8bceb249-80ef-4dba-e64f-faa3b6b2bd94"
      },
      "execution_count": null,
      "outputs": [
        {
          "output_type": "stream",
          "name": "stdout",
          "text": [
            "              precision    recall  f1-score   support\n",
            "\n",
            "           0       0.69      0.58      0.63       909\n",
            "           1       0.52      0.64      0.58       665\n",
            "\n",
            "    accuracy                           0.60      1574\n",
            "   macro avg       0.61      0.61      0.60      1574\n",
            "weighted avg       0.62      0.60      0.61      1574\n",
            "\n"
          ]
        }
      ]
    },
    {
      "cell_type": "markdown",
      "source": [
        "# submission - load and predict"
      ],
      "metadata": {
        "id": "96R0ysRfzC5X"
      }
    },
    {
      "cell_type": "code",
      "source": [
        "path2= Path('/gdrive/Shareddrives/Dion-Account/2122WS/8-dl4slp/coding-project/ser/')\n",
        "upload_path =path2/'uploads'\n",
        "upload_path.mkdir(exist_ok=True)"
      ],
      "metadata": {
        "id": "coMQEDlbO23h"
      },
      "execution_count": null,
      "outputs": []
    },
    {
      "cell_type": "code",
      "source": [
        "tfms = [Reshape(), PadorTrim(250), DummyChannel()]"
      ],
      "metadata": {
        "id": "mXqFYroHgqWx"
      },
      "execution_count": null,
      "outputs": []
    },
    {
      "cell_type": "code",
      "source": [
        "st = torch.load('/content/checkpoints/xtesnet50-20epochs-f1:0.698.pt')"
      ],
      "metadata": {
        "id": "BxpOYV0thsjW"
      },
      "execution_count": null,
      "outputs": []
    },
    {
      "cell_type": "code",
      "source": [
        "st.keys()"
      ],
      "metadata": {
        "id": "rCHOD9EkhtkJ",
        "outputId": "fe104687-95b8-4735-eb7c-765ce9f04370",
        "colab": {
          "base_uri": "https://localhost:8080/"
        }
      },
      "execution_count": null,
      "outputs": [
        {
          "output_type": "execute_result",
          "data": {
            "text/plain": [
              "dict_keys(['model'])"
            ]
          },
          "metadata": {},
          "execution_count": 36
        }
      ]
    },
    {
      "cell_type": "code",
      "source": [
        "learn.model.load_state_dict(st['model'])"
      ],
      "metadata": {
        "id": "JEhWdRjsgsRf",
        "outputId": "f084dc64-9e44-4654-8abc-4f0e8a8a4576",
        "colab": {
          "base_uri": "https://localhost:8080/"
        }
      },
      "execution_count": null,
      "outputs": [
        {
          "output_type": "execute_result",
          "data": {
            "text/plain": [
              "<All keys matched successfully>"
            ]
          },
          "metadata": {},
          "execution_count": 37
        }
      ]
    },
    {
      "cell_type": "code",
      "source": [
        "dev_path = (path2/'data/v1/dev')\n",
        "# audios = get_files(dev_path)\n",
        "class AudioList(ItemList):\n",
        "    @classmethod\n",
        "    def from_files(cls, path, extensions = None, recurse=True, include=None, **kwargs):\n",
        "        return cls(get_files(path, extensions, recurse=recurse, include=include), path, **kwargs)\n",
        "    \n",
        "    def get(self, fn):\n",
        "        return torch.load(fn)\n",
        "        \n",
        "al=AudioList.from_files(dev_path, tfms=tfms)"
      ],
      "metadata": {
        "id": "oCUc5zUWQO1_"
      },
      "execution_count": null,
      "outputs": []
    },
    {
      "cell_type": "code",
      "source": [
        "testset=torch.cat([al[idx] for idx, _ in enumerate(al.items)], dim=0)\n",
        "testset.shape"
      ],
      "metadata": {
        "id": "LiU6rB89jeDW",
        "outputId": "dcb35f0b-f15d-40c8-ac9f-77e059839d2d",
        "colab": {
          "base_uri": "https://localhost:8080/"
        }
      },
      "execution_count": null,
      "outputs": [
        {
          "output_type": "execute_result",
          "data": {
            "text/plain": [
              "torch.Size([3342, 26, 250])"
            ]
          },
          "metadata": {},
          "execution_count": 58
        }
      ]
    },
    {
      "cell_type": "code",
      "source": [
        "def get_predictions(learn, dev):\n",
        "    test_n = dev.shape[0]\n",
        "    learn.model.eval()\n",
        "    res = []\n",
        "    with torch.no_grad():        \n",
        "        for i in range((test_n-1)//bs + 1):\n",
        "            xb = dev[i*bs:(i+1)*bs]\n",
        "            out = learn.model(xb)\n",
        "            res += [o.item() for o in out.argmax(1)]\n",
        "    return res"
      ],
      "metadata": {
        "id": "WpHqRqexU_Q-"
      },
      "execution_count": null,
      "outputs": []
    },
    {
      "cell_type": "code",
      "source": [
        "res = get_predictions(learn, testset.unsqueeze(1))"
      ],
      "metadata": {
        "id": "qXtq3XJ_nJIL"
      },
      "execution_count": null,
      "outputs": []
    },
    {
      "cell_type": "code",
      "source": [
        "len(res)"
      ],
      "metadata": {
        "id": "eQ0naIkkp31-",
        "outputId": "7fed0606-d712-4e3f-83a7-c216c7e72e28",
        "colab": {
          "base_uri": "https://localhost:8080/"
        }
      },
      "execution_count": null,
      "outputs": [
        {
          "output_type": "execute_result",
          "data": {
            "text/plain": [
              "3342"
            ]
          },
          "metadata": {},
          "execution_count": 110
        }
      ]
    },
    {
      "cell_type": "code",
      "source": [
        "ser_path  =Path(\"/gdrive/Shareddrives/Dion-Account/2122WS/8-dl4slp/coding-project/ser/\")"
      ],
      "metadata": {
        "id": "wg63QQi_rk3Q"
      },
      "execution_count": null,
      "outputs": []
    },
    {
      "cell_type": "code",
      "source": [
        "(ser_path).exists()"
      ],
      "metadata": {
        "id": "Cd9NjYLYrnxm",
        "outputId": "c8a38f94-6efb-42ec-835d-2613b2bcdaaa",
        "colab": {
          "base_uri": "https://localhost:8080/"
        }
      },
      "execution_count": null,
      "outputs": [
        {
          "output_type": "execute_result",
          "data": {
            "text/plain": [
              "True"
            ]
          },
          "metadata": {},
          "execution_count": 116
        }
      ]
    },
    {
      "cell_type": "code",
      "source": [
        "import json\n",
        "with open(ser_path/'data/v0/ser-dev.json') as f: dev_json = json.load(f)"
      ],
      "metadata": {
        "id": "s_ObGSLwrTv1"
      },
      "execution_count": null,
      "outputs": []
    },
    {
      "cell_type": "code",
      "source": [
        "len(dev_json)"
      ],
      "metadata": {
        "id": "EbTjhj_wr8hd",
        "outputId": "49545311-86d4-4f94-9cc6-138062c63166",
        "colab": {
          "base_uri": "https://localhost:8080/"
        }
      },
      "execution_count": null,
      "outputs": [
        {
          "output_type": "execute_result",
          "data": {
            "text/plain": [
              "3342"
            ]
          },
          "metadata": {},
          "execution_count": 101
        }
      ]
    },
    {
      "cell_type": "code",
      "source": [
        "(ser_path/'checkpoints').ls()"
      ],
      "metadata": {
        "id": "Xh47gV_z4CQc",
        "outputId": "39206531-4cd4-4d9b-dd89-8ea642e6629b",
        "colab": {
          "base_uri": "https://localhost:8080/"
        }
      },
      "execution_count": null,
      "outputs": [
        {
          "output_type": "execute_result",
          "data": {
            "text/plain": [
              "[PosixPath('/gdrive/Shareddrives/Dion-Account/2122WS/8-dl4slp/coding-project/ser/checkpoints/v2.1.pkl'),\n",
              " PosixPath('/gdrive/Shareddrives/Dion-Account/2122WS/8-dl4slp/coding-project/ser/checkpoints/.ipynb_checkpoints'),\n",
              " PosixPath('/gdrive/Shareddrives/Dion-Account/2122WS/8-dl4slp/coding-project/ser/checkpoints/xtesnet34-20epochs.pt'),\n",
              " PosixPath('/gdrive/Shareddrives/Dion-Account/2122WS/8-dl4slp/coding-project/ser/checkpoints/xtesnet50-20epochs-f1:0.698.pt')]"
            ]
          },
          "metadata": {},
          "execution_count": 155
        }
      ]
    },
    {
      "cell_type": "code",
      "source": [
        "!cp '/content/checkpoints/xtesnet50-20epochs-698f1score.pt' /gdrive/Shareddrives/Dion-Account/2122WS/8-dl4slp/coding-project/ser/checkpoints"
      ],
      "metadata": {
        "id": "G588q6X-qr-O",
        "outputId": "17174e68-4134-4f1b-a10c-09d5cd5de082",
        "colab": {
          "base_uri": "https://localhost:8080/"
        }
      },
      "execution_count": null,
      "outputs": [
        {
          "output_type": "stream",
          "name": "stdout",
          "text": [
            "cp: cannot stat '/content/checkpoints/xtesnet50-20epochs-698f1score.pt': No such file or directory\n"
          ]
        }
      ]
    },
    {
      "cell_type": "markdown",
      "source": [
        "---"
      ],
      "metadata": {
        "id": "js1RQZDgwsy-"
      }
    },
    {
      "cell_type": "markdown",
      "source": [
        "# Converting the format"
      ],
      "metadata": {
        "id": "pMg0PQnQyFVO"
      }
    },
    {
      "cell_type": "code",
      "source": [
        "def get_serial(): return ''.join(str(i) for i in np.random.randint(0, 9, 10).tolist())"
      ],
      "metadata": {
        "id": "4jAQgrB1zgGw"
      },
      "execution_count": null,
      "outputs": []
    },
    {
      "cell_type": "code",
      "source": [
        "my_serial = get_serial()"
      ],
      "metadata": {
        "id": "8TZ_0_gR11rc"
      },
      "execution_count": null,
      "outputs": []
    },
    {
      "cell_type": "code",
      "source": [
        "label_dicts = {0:(1, 1), 1:(0, 0), 2:(1,0), 3:(0, 1)}"
      ],
      "metadata": {
        "id": "hJPtSmBczdlW"
      },
      "execution_count": null,
      "outputs": []
    },
    {
      "cell_type": "code",
      "source": [
        "res_dict = {str(i): label_dicts[o] for i, o in enumerate(res)}"
      ],
      "metadata": {
        "id": "2LGwHTAR0PgA"
      },
      "execution_count": null,
      "outputs": []
    }
  ]
}