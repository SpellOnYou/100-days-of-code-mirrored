{
  "nbformat": 4,
  "nbformat_minor": 0,
  "metadata": {
    "colab": {
      "name": "pooling.ipynb",
      "provenance": [],
      "collapsed_sections": []
    },
    "kernelspec": {
      "name": "python3",
      "display_name": "Python 3"
    },
    "language_info": {
      "name": "python"
    }
  },
  "cells": [
    {
      "cell_type": "markdown",
      "source": [
        "Motivated by @Yi-Xuan, I will experiment the model with global pooling, instead of zero padding!"
      ],
      "metadata": {
        "id": "7kPMSMvg_d-B"
      }
    },
    {
      "cell_type": "code",
      "execution_count": 1,
      "metadata": {
        "id": "DO4uoqx_l1cZ",
        "colab": {
          "base_uri": "https://localhost:8080/"
        },
        "outputId": "52cc8bd7-e91d-4ab0-a8bd-1e421748ccb5"
      },
      "outputs": [
        {
          "output_type": "stream",
          "name": "stdout",
          "text": [
            "Mounted at /gdrive\n"
          ]
        }
      ],
      "source": [
        "from google.colab import drive\n",
        "drive.mount('/gdrive')"
      ]
    },
    {
      "cell_type": "code",
      "source": [
        "from pathlib import Path\n",
        "drive_path = Path('/gdrive/Shareddrives/Dion-Account/2122WS/8-dl4slp/coding-project/ser/')"
      ],
      "metadata": {
        "id": "4bMB_Fg6l4ub"
      },
      "execution_count": 13,
      "outputs": []
    },
    {
      "cell_type": "code",
      "source": [
        "Path.ls = lambda x: list(x.iterdir())"
      ],
      "metadata": {
        "id": "CSRvbvrqqL_x"
      },
      "execution_count": 6,
      "outputs": []
    },
    {
      "cell_type": "code",
      "source": [
        "drive_data_path = drive_path/'data'"
      ],
      "metadata": {
        "id": "xw7rlEPZpuNv"
      },
      "execution_count": 14,
      "outputs": []
    },
    {
      "cell_type": "code",
      "source": [
        "(drive_data_path).ls()"
      ],
      "metadata": {
        "colab": {
          "base_uri": "https://localhost:8080/"
        },
        "id": "MCKxWOpFqET8",
        "outputId": "27ec1ce9-41d3-4493-f741-b1e266e394ac"
      },
      "execution_count": 23,
      "outputs": [
        {
          "output_type": "execute_result",
          "data": {
            "text/plain": [
              "[PosixPath('/gdrive/Shareddrives/Dion-Account/2122WS/8-dl4slp/coding-project/ser/data/v0'),\n",
              " PosixPath('/gdrive/Shareddrives/Dion-Account/2122WS/8-dl4slp/coding-project/ser/data/v1'),\n",
              " PosixPath('/gdrive/Shareddrives/Dion-Account/2122WS/8-dl4slp/coding-project/ser/data/v2.1'),\n",
              " PosixPath('/gdrive/Shareddrives/Dion-Account/2122WS/8-dl4slp/coding-project/ser/data/ser-data-v2-1.tar.gz'),\n",
              " PosixPath('/gdrive/Shareddrives/Dion-Account/2122WS/8-dl4slp/coding-project/ser/data/ser.tar.gz')]"
            ]
          },
          "metadata": {},
          "execution_count": 23
        }
      ]
    },
    {
      "cell_type": "code",
      "source": [
        "!tar -xf {drive_data_path/'ser-data-v2-1.tar.gz'} -C {data_path}"
      ],
      "metadata": {
        "id": "4-ZY83sdqZbM"
      },
      "execution_count": 24,
      "outputs": []
    },
    {
      "cell_type": "markdown",
      "source": [
        "@@ In summary: to do global pooling:\n",
        "1. extract features from time frame using channels\n",
        "2. cnn and adaptive pooling!"
      ],
      "metadata": {
        "id": "OIDUCpxo42bU"
      }
    },
    {
      "cell_type": "code",
      "source": [
        "data_path = Path('/content/data'); data_path.mkdir()"
      ],
      "metadata": {
        "id": "mvFRgFrfqtB9"
      },
      "execution_count": 17,
      "outputs": []
    },
    {
      "cell_type": "code",
      "source": [
        "!tar -xf {drive_data_path/'v0/ser.tar.gz'}  -C {data_path}"
      ],
      "metadata": {
        "id": "_JkJ2p3mqPmL"
      },
      "execution_count": 19,
      "outputs": []
    },
    {
      "cell_type": "code",
      "source": [
        "features = [torch.load(path).t() for path in (data_path/'ser/dev').ls()[:100]]"
      ],
      "metadata": {
        "id": "EbYETIBxq-8A"
      },
      "execution_count": 133,
      "outputs": []
    },
    {
      "cell_type": "code",
      "source": [
        "from torch import nn"
      ],
      "metadata": {
        "id": "PegEEtVitVxG"
      },
      "execution_count": 47,
      "outputs": []
    },
    {
      "cell_type": "code",
      "source": [
        "features[0].shape"
      ],
      "metadata": {
        "colab": {
          "base_uri": "https://localhost:8080/"
        },
        "id": "FQmAbwodu-09",
        "outputId": "dfbffc7b-f704-43c7-c7cc-1573441e7652"
      },
      "execution_count": 196,
      "outputs": [
        {
          "output_type": "execute_result",
          "data": {
            "text/plain": [
              "torch.Size([26, 105])"
            ]
          },
          "metadata": {},
          "execution_count": 196
        }
      ]
    },
    {
      "cell_type": "markdown",
      "source": [
        "## TODO: unsqueeze(-1)"
      ],
      "metadata": {
        "id": "kQxaHUDF3Uid"
      }
    },
    {
      "cell_type": "code",
      "source": [
        "t1= features[0].unsqueeze(1); t.shape"
      ],
      "metadata": {
        "colab": {
          "base_uri": "https://localhost:8080/"
        },
        "id": "Oce75KsQ1lwc",
        "outputId": "eb5fe920-9ebc-4c29-8d05-f8b312518f16"
      },
      "execution_count": 136,
      "outputs": [
        {
          "output_type": "execute_result",
          "data": {
            "text/plain": [
              "torch.Size([26, 1, 105])"
            ]
          },
          "metadata": {},
          "execution_count": 136
        }
      ]
    },
    {
      "cell_type": "code",
      "source": [
        "model = nn.Sequential(\n",
        "    nn.Conv1d(1,8, kernel_size=30, stride=1),\n",
        "    nn.Conv1d(8,16, kernel_size=20),\n",
        "    nn.Conv1d(16,32, kernel_size=15),\n",
        "    nn.Conv1d(32,64, kernel_size=10),\n",
        "    nn.Conv1d(64,128, kernel_size=5),\n",
        "    nn.Conv1d(128,128, kernel_size=3), #26, 128, 28\n",
        "    nn.AdaptiveAvgPool2d((128, 1)), #26, 128, 1\n",
        "    )"
      ],
      "metadata": {
        "id": "O3kelMFVtb0m"
      },
      "execution_count": 153,
      "outputs": []
    },
    {
      "cell_type": "code",
      "source": [
        "one_out = model(t1); one_out.shape"
      ],
      "metadata": {
        "colab": {
          "base_uri": "https://localhost:8080/"
        },
        "id": "bRDoROiI0Kay",
        "outputId": "d7fca2c2-fcb6-4008-cdfa-32ebeea84418"
      },
      "execution_count": 154,
      "outputs": [
        {
          "output_type": "execute_result",
          "data": {
            "text/plain": [
              "torch.Size([26, 128, 1])"
            ]
          },
          "metadata": {},
          "execution_count": 154
        }
      ]
    },
    {
      "cell_type": "code",
      "source": [
        "x = one_out"
      ],
      "metadata": {
        "id": "RBYDs94d4hRd"
      },
      "execution_count": 147,
      "outputs": []
    },
    {
      "cell_type": "code",
      "source": [
        "one_out.shape == (26, 128, 1)"
      ],
      "metadata": {
        "colab": {
          "base_uri": "https://localhost:8080/"
        },
        "id": "odieYy1X7vEX",
        "outputId": "1e16436a-c991-48c5-b9d9-fa582ccf7e7e"
      },
      "execution_count": 156,
      "outputs": [
        {
          "output_type": "execute_result",
          "data": {
            "text/plain": [
              "True"
            ]
          },
          "metadata": {},
          "execution_count": 156
        }
      ]
    },
    {
      "cell_type": "code",
      "source": [
        "features[0].shape"
      ],
      "metadata": {
        "colab": {
          "base_uri": "https://localhost:8080/"
        },
        "id": "tVTpJ5u78rhO",
        "outputId": "0550dc01-ddcb-4544-d86f-e56fec9ea6f6"
      },
      "execution_count": 162,
      "outputs": [
        {
          "output_type": "execute_result",
          "data": {
            "text/plain": [
              "torch.Size([26, 105])"
            ]
          },
          "metadata": {},
          "execution_count": 162
        }
      ]
    },
    {
      "cell_type": "code",
      "source": [
        "from collections import Counter"
      ],
      "metadata": {
        "id": "WOrMR4zC83E3"
      },
      "execution_count": 164,
      "outputs": []
    },
    {
      "cell_type": "code",
      "source": [
        "dev_frame_length = sorted([(idx, len(i[1])) for idx, i in enumerate(features)], key = lambda x: x)"
      ],
      "metadata": {
        "id": "COcJQR3N8mAF"
      },
      "execution_count": 175,
      "outputs": []
    },
    {
      "cell_type": "code",
      "source": [
        "dev_frame_length[:10]"
      ],
      "metadata": {
        "colab": {
          "base_uri": "https://localhost:8080/"
        },
        "collapsed": true,
        "id": "hYRrox7B8634",
        "outputId": "10b41219-974f-479b-fb94-1d0d2a719dec"
      },
      "execution_count": 176,
      "outputs": [
        {
          "output_type": "execute_result",
          "data": {
            "text/plain": [
              "[(72, 54),\n",
              " (43, 55),\n",
              " (5, 58),\n",
              " (76, 72),\n",
              " (47, 75),\n",
              " (60, 77),\n",
              " (44, 80),\n",
              " (14, 82),\n",
              " (92, 82),\n",
              " (48, 84)]"
            ]
          },
          "metadata": {},
          "execution_count": 176
        }
      ]
    },
    {
      "cell_type": "code",
      "source": [
        "features[72].shape"
      ],
      "metadata": {
        "colab": {
          "base_uri": "https://localhost:8080/"
        },
        "id": "FCi4TnWR9TYJ",
        "outputId": "51c0599b-c716-429f-ba79-13da9eb5488f"
      },
      "execution_count": 177,
      "outputs": [
        {
          "output_type": "execute_result",
          "data": {
            "text/plain": [
              "torch.Size([26, 54])"
            ]
          },
          "metadata": {},
          "execution_count": 177
        }
      ]
    },
    {
      "cell_type": "markdown",
      "source": [
        "- let me see i can apply this to all dev set"
      ],
      "metadata": {
        "id": "jcXxfT7C7eY-"
      }
    },
    {
      "cell_type": "code",
      "source": [
        "for idx, inst in enumerate(features):\n",
        "    out = model(inst.unsqueeze(1))\n",
        "    assert out.shape == one_out.shape, f\"{idx} data has shape of {inst.shape}\"\n"
      ],
      "metadata": {
        "id": "6lCrY2vo4f2b"
      },
      "execution_count": null,
      "outputs": []
    },
    {
      "cell_type": "code",
      "source": [
        "x = features[72].unsqueeze(1); x.shape"
      ],
      "metadata": {
        "colab": {
          "base_uri": "https://localhost:8080/"
        },
        "id": "C9B5nqn390Oe",
        "outputId": "3a0ffe91-dac5-428b-e9b2-b807be47d1e7"
      },
      "execution_count": 185,
      "outputs": [
        {
          "output_type": "execute_result",
          "data": {
            "text/plain": [
              "torch.Size([26, 1, 54])"
            ]
          },
          "metadata": {},
          "execution_count": 185
        }
      ]
    },
    {
      "cell_type": "code",
      "source": [
        "model"
      ],
      "metadata": {
        "colab": {
          "base_uri": "https://localhost:8080/"
        },
        "id": "pM6XopDv-A-Z",
        "outputId": "74e0bcf3-9678-4dae-c863-b7df88424be1"
      },
      "execution_count": 180,
      "outputs": [
        {
          "output_type": "execute_result",
          "data": {
            "text/plain": [
              "Sequential(\n",
              "  (0): Conv1d(1, 8, kernel_size=(30,), stride=(1,))\n",
              "  (1): Conv1d(8, 16, kernel_size=(20,), stride=(1,))\n",
              "  (2): Conv1d(16, 32, kernel_size=(15,), stride=(1,))\n",
              "  (3): Conv1d(32, 64, kernel_size=(10,), stride=(1,))\n",
              "  (4): Conv1d(64, 128, kernel_size=(5,), stride=(1,))\n",
              "  (5): Conv1d(128, 128, kernel_size=(3,), stride=(1,))\n",
              "  (6): AdaptiveAvgPool2d(output_size=(128, 1))\n",
              ")"
            ]
          },
          "metadata": {},
          "execution_count": 180
        }
      ]
    },
    {
      "cell_type": "code",
      "source": [
        "model = nn.Sequential(\n",
        "    nn.Conv1d(1,8, kernel_size=20, stride=1),\n",
        "    nn.Conv1d(8,16, kernel_size=15),\n",
        "    nn.Conv1d(16,32, kernel_size=7),\n",
        "    nn.Conv1d(32,64, kernel_size=5),\n",
        "    nn.Conv1d(64,128, kernel_size=3),\n",
        "    nn.Conv1d(128,128, kernel_size=3), #26, 128, 28\n",
        "    nn.AdaptiveAvgPool2d((128, 1)), #26, 128, 1\n",
        "    )"
      ],
      "metadata": {
        "id": "d5_YkuiN-biP"
      },
      "execution_count": 193,
      "outputs": []
    },
    {
      "cell_type": "code",
      "source": [
        "for i in range(len(model)):\n",
        "    print(f\"{i+1} layer: {model[:i+1](x).shape}\")"
      ],
      "metadata": {
        "colab": {
          "base_uri": "https://localhost:8080/"
        },
        "id": "6wQSKURO-CWQ",
        "outputId": "0ed9b343-b890-4681-9e2a-37687c7f1948"
      },
      "execution_count": 194,
      "outputs": [
        {
          "output_type": "stream",
          "name": "stdout",
          "text": [
            "1 layer: torch.Size([26, 8, 35])\n",
            "2 layer: torch.Size([26, 16, 21])\n",
            "3 layer: torch.Size([26, 32, 15])\n",
            "4 layer: torch.Size([26, 64, 11])\n",
            "5 layer: torch.Size([26, 128, 9])\n",
            "6 layer: torch.Size([26, 128, 7])\n",
            "7 layer: torch.Size([26, 128, 1])\n"
          ]
        }
      ]
    },
    {
      "cell_type": "code",
      "source": [
        ""
      ],
      "metadata": {
        "id": "PHB8bfNz-KiH"
      },
      "execution_count": null,
      "outputs": []
    }
  ]
}