{
  "nbformat": 4,
  "nbformat_minor": 0,
  "metadata": {
    "kernelspec": {
      "display_name": "Python 3",
      "language": "python",
      "name": "python3"
    },
    "colab": {
      "name": "dl4slp-audio.ipynb",
      "provenance": [],
      "collapsed_sections": []
    },
    "accelerator": "GPU"
  },
  "cells": [
    {
      "cell_type": "markdown",
      "source": [
        "# 2021-12-19 Update Note - (previous story of version 3)\n",
        "\n",
        "- There is a significant loss of information (w.r.t. resolution) when saving image using `plt.imsave` and loading `PIL.open`.\n",
        "- Thus, I will not save it but transform it directly. (Though I can find a way to not loss the information but it takes more memory (of data) and time."
      ],
      "metadata": {
        "id": "7Nfe54aqpQ1R"
      }
    },
    {
      "cell_type": "code",
      "source": [
        "from google.colab import drive\n",
        "drive.mount('/gdrive')"
      ],
      "metadata": {
        "colab": {
          "base_uri": "https://localhost:8080/"
        },
        "id": "nmq1O0Lup1h2",
        "outputId": "40c0c339-21d6-4265-e0a6-b5da46d04245"
      },
      "execution_count": 1,
      "outputs": [
        {
          "output_type": "stream",
          "name": "stdout",
          "text": [
            "Mounted at /gdrive\n"
          ]
        }
      ]
    },
    {
      "cell_type": "markdown",
      "source": [
        "- I will use xresnet and their datablock, optimizer from fastai."
      ],
      "metadata": {
        "id": "DxHqVglwqH0W"
      }
    },
    {
      "cell_type": "code",
      "source": [
        "!git clone https://github.com/fastai/course-v3/ /content/course-v3"
      ],
      "metadata": {
        "colab": {
          "base_uri": "https://localhost:8080/"
        },
        "id": "VL3HjY7zp5jZ",
        "outputId": "ec480ae1-3ade-4052-9f9c-d9b554252558"
      },
      "execution_count": 2,
      "outputs": [
        {
          "output_type": "stream",
          "name": "stdout",
          "text": [
            "Cloning into '/content/course-v3'...\n",
            "remote: Enumerating objects: 5893, done.\u001b[K\n",
            "remote: Counting objects: 100% (3/3), done.\u001b[K\n",
            "remote: Compressing objects: 100% (3/3), done.\u001b[K\n",
            "remote: Total 5893 (delta 0), reused 2 (delta 0), pack-reused 5890\u001b[K\n",
            "Receiving objects: 100% (5893/5893), 263.03 MiB | 28.32 MiB/s, done.\n",
            "Resolving deltas: 100% (3249/3249), done.\n"
          ]
        }
      ]
    },
    {
      "cell_type": "code",
      "source": [
        "# restart-run\n",
        "%cd /content/course-v3/nbs/dl2"
      ],
      "metadata": {
        "colab": {
          "base_uri": "https://localhost:8080/"
        },
        "id": "dLHZgcdjqMj6",
        "outputId": "a8710dec-f322-4ec9-a204-3bb0adaf1fd7"
      },
      "execution_count": 3,
      "outputs": [
        {
          "output_type": "stream",
          "name": "stdout",
          "text": [
            "/content/course-v3/nbs/dl2\n"
          ]
        }
      ]
    },
    {
      "cell_type": "markdown",
      "source": [
        "- NOTE: if you do not have installed [nvidia/apex](https://github.com/nvidia/apex),  change `from exp.nb_10c import *` to `from exp.nb_10b import *` in `exp.nb_11`"
      ],
      "metadata": {
        "id": "nb6S4CPyqS_F"
      }
    },
    {
      "cell_type": "code",
      "source": [
        "from exp.nb_12a import *"
      ],
      "metadata": {
        "id": "77V-bw0pqR2J"
      },
      "execution_count": 4,
      "outputs": []
    },
    {
      "cell_type": "markdown",
      "source": [
        "- Local data (which is divided into separate dataset) is saved to `Path('/gdrive/Shareddrives/Dion-Account/2122WS/8-dl4slp/coding-project/data/v1/ser'`\n"
      ],
      "metadata": {
        "id": "_U7CK3KXqnr5"
      }
    },
    {
      "cell_type": "code",
      "source": [
        "root_path = Path('/gdrive/Shareddrives/Dion-Account/2122WS/8-dl4slp/coding-project/data/ser/v1'); root_path.ls()"
      ],
      "metadata": {
        "colab": {
          "base_uri": "https://localhost:8080/"
        },
        "id": "V93zJPFhqnpC",
        "outputId": "28106832-59f3-4371-eb73-305f1bf150ed"
      },
      "execution_count": 59,
      "outputs": [
        {
          "output_type": "execute_result",
          "data": {
            "text/plain": [
              "[PosixPath('/gdrive/Shareddrives/Dion-Account/2122WS/8-dl4slp/coding-project/data/ser/v1/train'),\n",
              " PosixPath('/gdrive/Shareddrives/Dion-Account/2122WS/8-dl4slp/coding-project/data/ser/v1/dev')]"
            ]
          },
          "metadata": {},
          "execution_count": 59
        }
      ]
    },
    {
      "cell_type": "markdown",
      "metadata": {
        "id": "D1FVouZFT7-5"
      },
      "source": [
        "features-entry contains a list of a list with 26 items.\n",
        "- length of inner list: 26 (float numbers - represent one preprocessed speech frame (logMel))\n",
        "\n",
        "- length of outer list: number of frames per data-point, e.g. 10 or 15, ..."
      ]
    },
    {
      "cell_type": "code",
      "source": [
        "train_path = root_path/'train'"
      ],
      "metadata": {
        "id": "XxRfMtm7UTb_"
      },
      "execution_count": 61,
      "outputs": []
    },
    {
      "cell_type": "code",
      "source": [
        "audios = get_files(train_path)"
      ],
      "metadata": {
        "id": "vR7U0z1HmgoR"
      },
      "execution_count": 73,
      "outputs": []
    },
    {
      "cell_type": "code",
      "source": [
        "# restart-run\n",
        "class AudioList(ItemList):\n",
        "    @classmethod\n",
        "    def from_files(cls, path, extensions = None, recurse=True, include=None, **kwargs):\n",
        "        return cls(get_files(path, extensions, recurse=recurse, include=include), path, **kwargs)\n",
        "    \n",
        "    def get(self, fn):\n",
        "        return torch.load(fn)"
      ],
      "metadata": {
        "id": "fPJ2emMUmglw"
      },
      "execution_count": 74,
      "outputs": []
    },
    {
      "cell_type": "code",
      "source": [
        "al=AudioList.from_files(train_path); al"
      ],
      "metadata": {
        "colab": {
          "base_uri": "https://localhost:8080/"
        },
        "id": "PSfrsOPbmgil",
        "outputId": "6e7e8be1-802f-48e1-cc83-d7e698c7a426"
      },
      "execution_count": 78,
      "outputs": [
        {
          "output_type": "execute_result",
          "data": {
            "text/plain": [
              "AudioList (7800 items)\n",
              "[PosixPath('/gdrive/Shareddrives/Dion-Account/2122WS/8-dl4slp/coding-project/data/ser/v1/train/7760_1_1.pt'), PosixPath('/gdrive/Shareddrives/Dion-Account/2122WS/8-dl4slp/coding-project/data/ser/v1/train/7761_0_0.pt'), PosixPath('/gdrive/Shareddrives/Dion-Account/2122WS/8-dl4slp/coding-project/data/ser/v1/train/7762_0_0.pt'), PosixPath('/gdrive/Shareddrives/Dion-Account/2122WS/8-dl4slp/coding-project/data/ser/v1/train/7763_1_0.pt'), PosixPath('/gdrive/Shareddrives/Dion-Account/2122WS/8-dl4slp/coding-project/data/ser/v1/train/7764_1_1.pt'), PosixPath('/gdrive/Shareddrives/Dion-Account/2122WS/8-dl4slp/coding-project/data/ser/v1/train/7765_1_0.pt'), PosixPath('/gdrive/Shareddrives/Dion-Account/2122WS/8-dl4slp/coding-project/data/ser/v1/train/7766_1_1.pt'), PosixPath('/gdrive/Shareddrives/Dion-Account/2122WS/8-dl4slp/coding-project/data/ser/v1/train/7767_1_0.pt'), PosixPath('/gdrive/Shareddrives/Dion-Account/2122WS/8-dl4slp/coding-project/data/ser/v1/train/7768_1_0.pt'), PosixPath('/gdrive/Shareddrives/Dion-Account/2122WS/8-dl4slp/coding-project/data/ser/v1/train/7769_1_1.pt')...]\n",
              "Path: /gdrive/Shareddrives/Dion-Account/2122WS/8-dl4slp/coding-project/data/ser/v1/train"
            ]
          },
          "metadata": {},
          "execution_count": 78
        }
      ]
    },
    {
      "cell_type": "code",
      "source": [
        "al[0].shape, al[0].type()"
      ],
      "metadata": {
        "colab": {
          "base_uri": "https://localhost:8080/"
        },
        "id": "zAEwNikMmgbp",
        "outputId": "1dab1760-2a59-4d9e-a778-b22335fc0100"
      },
      "execution_count": 26,
      "outputs": [
        {
          "output_type": "execute_result",
          "data": {
            "text/plain": [
              "(torch.Size([614, 26]), 'torch.FloatTensor')"
            ]
          },
          "metadata": {},
          "execution_count": 26
        }
      ]
    },
    {
      "cell_type": "markdown",
      "source": [
        "## Inspect how the image changes thorugh I/O and byte/float conversion"
      ],
      "metadata": {
        "id": "rSdiedug4IqT"
      }
    },
    {
      "cell_type": "code",
      "source": [
        "img = torch.load(al.items[0])\n",
        "plt.imshow(img.t())"
      ],
      "metadata": {
        "colab": {
          "base_uri": "https://localhost:8080/",
          "height": 83
        },
        "id": "4kr0O51mrnN9",
        "outputId": "e539b00b-8516-4169-a7cf-192ac2524ec3"
      },
      "execution_count": 27,
      "outputs": [
        {
          "output_type": "execute_result",
          "data": {
            "text/plain": [
              "<matplotlib.image.AxesImage at 0x7f8c5a21ee10>"
            ]
          },
          "metadata": {},
          "execution_count": 27
        },
        {
          "output_type": "display_data",
          "data": {
            "image/png": "[encoded data removed]",
            "text/plain": [
              "<Figure size 432x288 with 1 Axes>"
            ]
          },
          "metadata": {
            "needs_background": "light"
          }
        }
      ]
    },
    {
      "cell_type": "code",
      "source": [
        "%cd /content/"
      ],
      "metadata": {
        "colab": {
          "base_uri": "https://localhost:8080/"
        },
        "id": "nkdXKIMOr7yG",
        "outputId": "f103a65a-12d5-48b0-94a4-6bee87c1e16c"
      },
      "execution_count": 17,
      "outputs": [
        {
          "output_type": "stream",
          "name": "stdout",
          "text": [
            "/content\n"
          ]
        }
      ]
    },
    {
      "cell_type": "code",
      "source": [
        "!ls"
      ],
      "metadata": {
        "colab": {
          "base_uri": "https://localhost:8080/"
        },
        "id": "JhgGaFIlt-fB",
        "outputId": "2348203b-a88a-4ac9-9a57-199ad7ff4b3f"
      },
      "execution_count": 19,
      "outputs": [
        {
          "output_type": "stream",
          "name": "stdout",
          "text": [
            "course-v3  sample_data\ttest1.png\n"
          ]
        }
      ]
    },
    {
      "cell_type": "code",
      "source": [
        "plt.imsave('/content/test1.png', img.t())"
      ],
      "metadata": {
        "id": "8-iqzQc3rycf"
      },
      "execution_count": 18,
      "outputs": []
    },
    {
      "cell_type": "code",
      "source": [
        "reload_img = PIL.Image.open('test1.png'); reload_img"
      ],
      "metadata": {
        "colab": {
          "base_uri": "https://localhost:8080/",
          "height": 43
        },
        "id": "ye68pHXrr59g",
        "outputId": "e530500f-97cb-49e6-8ef8-d2428759eca9"
      },
      "execution_count": 21,
      "outputs": [
        {
          "output_type": "execute_result",
          "data": {
            "image/png": "[encoded data removed]",
            "text/plain": [
              "<PIL.PngImagePlugin.PngImageFile image mode=RGBA size=614x26 at 0x7F8C5A477BD0>"
            ]
          },
          "metadata": {},
          "execution_count": 21
        }
      ]
    },
    {
      "cell_type": "code",
      "source": [
        "resize_img = reload_img.resize((64, 64)); resize_img"
      ],
      "metadata": {
        "colab": {
          "base_uri": "https://localhost:8080/",
          "height": 81
        },
        "id": "XKE_qvdSuO4V",
        "outputId": "f8a2c1db-9c2c-4fab-f5e2-8af3f1f17efc"
      },
      "execution_count": 22,
      "outputs": [
        {
          "output_type": "execute_result",
          "data": {
            "image/png": "[encoded data removed]",
            "text/plain": [
              "<PIL.Image.Image image mode=RGBA size=64x64 at 0x7F8C5A4518D0>"
            ]
          },
          "metadata": {},
          "execution_count": 22
        }
      ]
    },
    {
      "cell_type": "code",
      "source": [
        "reload_img.resize((128, 128))"
      ],
      "metadata": {
        "colab": {
          "base_uri": "https://localhost:8080/",
          "height": 145
        },
        "id": "TqasNjEkyAzJ",
        "outputId": "8294b1aa-b70b-457a-ba21-b17412527b11"
      },
      "execution_count": 30,
      "outputs": [
        {
          "output_type": "execute_result",
          "data": {
            "image/png": "[encoded data removed]",
            "text/plain": [
              "<PIL.Image.Image image mode=RGBA size=128x128 at 0x7F8C5A1EFB10>"
            ]
          },
          "metadata": {},
          "execution_count": 30
        }
      ]
    },
    {
      "cell_type": "code",
      "source": [
        "rgb_img = resize_img.convert(\"RGB\")"
      ],
      "metadata": {
        "id": "hQaeQjZKuUW7"
      },
      "execution_count": 31,
      "outputs": []
    },
    {
      "cell_type": "code",
      "source": [
        "rgb_img"
      ],
      "metadata": {
        "colab": {
          "base_uri": "https://localhost:8080/",
          "height": 81
        },
        "id": "WliIlobjzpGN",
        "outputId": "64ecbd4f-0a2b-4f9c-fb00-218ec1957136"
      },
      "execution_count": 42,
      "outputs": [
        {
          "output_type": "execute_result",
          "data": {
            "image/png": "[encoded data removed]",
            "text/plain": [
              "<PIL.Image.Image image mode=RGB size=64x64 at 0x7F8C5A416210>"
            ]
          },
          "metadata": {},
          "execution_count": 42
        }
      ]
    },
    {
      "cell_type": "code",
      "source": [
        "import inspect\n",
        "def show_src(module): print(inspect.getsource(module))"
      ],
      "metadata": {
        "id": "l7zZ5dEDy2Cl"
      },
      "execution_count": 32,
      "outputs": []
    },
    {
      "cell_type": "code",
      "source": [
        "show_src(to_float_tensor)"
      ],
      "metadata": {
        "colab": {
          "base_uri": "https://localhost:8080/"
        },
        "id": "69ijztHEzCUC",
        "outputId": "fc14f1ac-9b7e-4b27-f979-4032db55df2a"
      },
      "execution_count": 34,
      "outputs": [
        {
          "output_type": "stream",
          "name": "stdout",
          "text": [
            "def to_float_tensor(item): return item.float().div_(255.)\n",
            "\n"
          ]
        }
      ]
    },
    {
      "cell_type": "code",
      "source": [
        "show_src(to_byte_tensor)"
      ],
      "metadata": {
        "colab": {
          "base_uri": "https://localhost:8080/"
        },
        "id": "rbCYj8yzy9b0",
        "outputId": "3f1a5fe6-7a26-4cb6-9480-98c5619c23e1"
      },
      "execution_count": 33,
      "outputs": [
        {
          "output_type": "stream",
          "name": "stdout",
          "text": [
            "def to_byte_tensor(item):\n",
            "    res = torch.ByteTensor(torch.ByteStorage.from_buffer(item.tobytes()))\n",
            "    w,h = item.size\n",
            "    return res.view(h,w,-1).permute(2,0,1)\n",
            "\n"
          ]
        }
      ]
    },
    {
      "cell_type": "code",
      "source": [
        "res = torch.ByteTensor(torch.ByteStorage.from_buffer(rgb_img.tobytes())); res"
      ],
      "metadata": {
        "colab": {
          "base_uri": "https://localhost:8080/"
        },
        "id": "ZkOUzdg8y0eO",
        "outputId": "5488d2d8-c5be-47d3-96b9-45d93470e543"
      },
      "execution_count": 36,
      "outputs": [
        {
          "output_type": "execute_result",
          "data": {
            "text/plain": [
              "tensor([ 53,  94, 140,  ...,  51,  96, 141], dtype=torch.uint8)"
            ]
          },
          "metadata": {},
          "execution_count": 36
        }
      ]
    },
    {
      "cell_type": "code",
      "source": [
        "h, w = rgb_img.size\n",
        "byte_img = res.view(h,w,-1).permute(2, 0, 1)"
      ],
      "metadata": {
        "id": "jZhspLSizVuc"
      },
      "execution_count": 48,
      "outputs": []
    },
    {
      "cell_type": "code",
      "source": [
        "float_img = byte_img.float().div_(255.); float_img.shape"
      ],
      "metadata": {
        "colab": {
          "base_uri": "https://localhost:8080/"
        },
        "id": "SmYUqWDP0iWX",
        "outputId": "513b1463-72e0-4b5d-d4bf-5344a7907602"
      },
      "execution_count": 51,
      "outputs": [
        {
          "output_type": "execute_result",
          "data": {
            "text/plain": [
              "torch.Size([3, 64, 64])"
            ]
          },
          "metadata": {},
          "execution_count": 51
        }
      ]
    },
    {
      "cell_type": "code",
      "source": [
        "#first channel\n",
        "float_img[0].shape, float_img[0][0], float_img[0][0].type()"
      ],
      "metadata": {
        "colab": {
          "base_uri": "https://localhost:8080/"
        },
        "id": "BsyoiXr_05MF",
        "outputId": "9b51a1f4-ebdf-4c83-989a-ca7e56999bae"
      },
      "execution_count": 56,
      "outputs": [
        {
          "output_type": "execute_result",
          "data": {
            "text/plain": [
              "(torch.Size([64, 64]),\n",
              " tensor([0.2078, 0.2157, 0.2157, 0.1608, 0.1373, 0.1647, 0.2157, 0.2118, 0.2118,\n",
              "         0.2157, 0.2235, 0.1804, 0.1373, 0.1490, 0.1294, 0.1216, 0.1647, 0.2235,\n",
              "         0.2000, 0.1255, 0.1373, 0.1451, 0.1569, 0.1412, 0.1373, 0.1569, 0.1333,\n",
              "         0.2000, 0.2235, 0.2157, 0.1961, 0.2039, 0.1843, 0.2000, 0.1451, 0.1765,\n",
              "         0.1373, 0.1255, 0.1451, 0.1294, 0.1608, 0.1765, 0.1922, 0.1451, 0.1529,\n",
              "         0.1608, 0.1804, 0.2157, 0.2078, 0.2275, 0.2000, 0.1451, 0.2000, 0.2000,\n",
              "         0.1686, 0.1882, 0.1490, 0.1765, 0.1922, 0.2039, 0.1961, 0.2078, 0.2078,\n",
              "         0.2157]),\n",
              " 'torch.FloatTensor')"
            ]
          },
          "metadata": {},
          "execution_count": 56
        }
      ]
    },
    {
      "cell_type": "code",
      "source": [
        "float_img[1][0]"
      ],
      "metadata": {
        "colab": {
          "base_uri": "https://localhost:8080/"
        },
        "id": "SVRxA_0C09MB",
        "outputId": "78d5858e-2a26-46b1-9baf-ba02172b214f"
      },
      "execution_count": 55,
      "outputs": [
        {
          "output_type": "execute_result",
          "data": {
            "text/plain": [
              "tensor([0.3686, 0.3412, 0.3490, 0.4627, 0.5373, 0.4824, 0.3373, 0.3490, 0.3569,\n",
              "        0.3529, 0.3294, 0.4314, 0.5216, 0.4863, 0.5451, 0.5765, 0.4588, 0.3059,\n",
              "        0.3765, 0.5490, 0.5059, 0.5020, 0.4902, 0.5176, 0.5333, 0.4863, 0.5373,\n",
              "        0.3843, 0.3333, 0.3412, 0.3804, 0.3804, 0.4157, 0.3725, 0.5098, 0.4235,\n",
              "        0.5333, 0.5647, 0.4863, 0.5333, 0.4706, 0.4275, 0.3922, 0.5059, 0.4863,\n",
              "        0.4706, 0.4275, 0.3451, 0.3647, 0.3216, 0.3922, 0.5059, 0.3804, 0.3725,\n",
              "        0.4510, 0.3843, 0.4588, 0.4392, 0.3922, 0.3686, 0.3843, 0.3608, 0.3686,\n",
              "        0.3529])"
            ]
          },
          "metadata": {},
          "execution_count": 55
        }
      ]
    },
    {
      "cell_type": "code",
      "source": [
        "plt.imshow(float_img.permute(1,2,0))"
      ],
      "metadata": {
        "colab": {
          "base_uri": "https://localhost:8080/",
          "height": 285
        },
        "id": "WeMwoeyu0m9t",
        "outputId": "a2aeb6f1-7012-4451-d9be-75a32f14dd18"
      },
      "execution_count": 57,
      "outputs": [
        {
          "output_type": "execute_result",
          "data": {
            "text/plain": [
              "<matplotlib.image.AxesImage at 0x7f8c5a179c50>"
            ]
          },
          "metadata": {},
          "execution_count": 57
        },
        {
          "output_type": "display_data",
          "data": {
            "image/png": "[encoded data removed]",
            "text/plain": [
              "<Figure size 432x288 with 1 Axes>"
            ]
          },
          "metadata": {
            "needs_background": "light"
          }
        }
      ]
    },
    {
      "cell_type": "markdown",
      "source": [
        "## Train more epochs and finish the experiment (#closed)\n",
        "\n",
        "1. AudioFileItemList\n",
        "2. convert\n",
        "  1. plt.save\n",
        "  2. PIL.open, PIL.resize, to byte, to tensor"
      ],
      "metadata": {
        "id": "CPJnGaPg4Pdi"
      }
    },
    {
      "cell_type": "code",
      "source": [
        "!mkdir data/"
      ],
      "metadata": {
        "id": "R6ENPUt16LYB"
      },
      "execution_count": 82,
      "outputs": []
    },
    {
      "cell_type": "code",
      "source": [
        "v2_path = Path('/content/data/v2')"
      ],
      "metadata": {
        "id": "uZ7WOyB46UyG"
      },
      "execution_count": 86,
      "outputs": []
    },
    {
      "cell_type": "code",
      "source": [
        "train_v2 = v2_path/'train'; train_v2.mkdir(exist_ok=True, parents=True)"
      ],
      "metadata": {
        "id": "gJvvc9kp6vlw"
      },
      "execution_count": 89,
      "outputs": []
    },
    {
      "cell_type": "code",
      "source": [
        "dev_v2 = v2_path/'dev'; dev_v2.mkdir(exist_ok=True, parents=True)"
      ],
      "metadata": {
        "id": "UoY7ZXLQICoR"
      },
      "execution_count": 94,
      "outputs": []
    },
    {
      "cell_type": "code",
      "source": [
        "for fpath in al.items:\n",
        "    img_tensor = torch.load(fpath)\n",
        "    trg_fname = fpath.stem + '.png'; print(trg_fname)\n",
        "    plt.imsave(train_v2/trg_fname, img_tensor)"
      ],
      "metadata": {
        "id": "gnRMcerR5ppN"
      },
      "execution_count": null,
      "outputs": []
    },
    {
      "cell_type": "code",
      "source": [
        "class ItemList(ListContainer):\n",
        "    def __init__(self, items, path='.', tfms=None):\n",
        "        super().__init__(items)\n",
        "        self.path,self.tfms = Path(path),tfms\n",
        "\n",
        "    def __repr__(self): return f'{super().__repr__()}\\nPath: {self.path}'\n",
        "\n",
        "    def new(self, items, cls=None):\n",
        "        if cls is None: cls=self.__class__\n",
        "        return cls(items, self.path, tfms=self.tfms)\n",
        "\n",
        "    def  get(self, i): return i\n",
        "    def _get(self, i): return compose(self.get(i), self.tfms)\n",
        "\n",
        "    def __getitem__(self, idx):\n",
        "        res = super().__getitem__(idx)\n",
        "        if isinstance(res,list): return [self._get(o) for o in res]\n",
        "        return self._get(res)\n"
      ],
      "metadata": {
        "id": "jhhS_nx1LBpe",
        "outputId": "6d2dd8b1-97b7-4bca-cd81-7c79dc82e836",
        "colab": {
          "base_uri": "https://localhost:8080/"
        }
      },
      "execution_count": 129,
      "outputs": [
        {
          "output_type": "stream",
          "name": "stdout",
          "text": [
            "class ItemList(ListContainer):\n",
            "    def __init__(self, items, path='.', tfms=None):\n",
            "        super().__init__(items)\n",
            "        self.path,self.tfms = Path(path),tfms\n",
            "\n",
            "    def __repr__(self): return f'{super().__repr__()}\\nPath: {self.path}'\n",
            "\n",
            "    def new(self, items, cls=None):\n",
            "        if cls is None: cls=self.__class__\n",
            "        return cls(items, self.path, tfms=self.tfms)\n",
            "\n",
            "    def  get(self, i): return i\n",
            "    def _get(self, i): return compose(self.get(i), self.tfms)\n",
            "\n",
            "    def __getitem__(self, idx):\n",
            "        res = super().__getitem__(idx)\n",
            "        if isinstance(res,list): return [self._get(o) for o in res]\n",
            "        return self._get(res)\n",
            "\n"
          ]
        }
      ]
    },
    {
      "cell_type": "code",
      "source": [
        "class ImageList(ItemList):\n",
        "    @classmethod\n",
        "    def from_files(cls, path, extensions=None, recurse=True, include=None, **kwargs):\n",
        "        if extensions is None: extensions = image_extensions\n",
        "        return cls(get_files(path, extensions, recurse=recurse, include=include), path, **kwargs)\n",
        "\n",
        "    def get(self, fn): return PIL.Image.open(fn)"
      ],
      "metadata": {
        "id": "i9BfSC13K-Sd",
        "outputId": "3aa26b21-f07b-4352-8f99-549379b9e78d",
        "colab": {
          "base_uri": "https://localhost:8080/"
        }
      },
      "execution_count": 128,
      "outputs": [
        {
          "output_type": "stream",
          "name": "stdout",
          "text": [
            "class ImageList(ItemList):\n",
            "    @classmethod\n",
            "    def from_files(cls, path, extensions=None, recurse=True, include=None, **kwargs):\n",
            "        if extensions is None: extensions = image_extensions\n",
            "        return cls(get_files(path, extensions, recurse=recurse, include=include), path, **kwargs)\n",
            "\n",
            "    def get(self, fn): return PIL.Image.open(fn)\n",
            "\n"
          ]
        }
      ]
    },
    {
      "cell_type": "code",
      "source": [
        "# restart-run\n",
        "def re_labeler(fn, pat, subcl='act'):\n",
        "    assert subcl in ['act', 'val', 'all']\n",
        "    if subcl=='all': return ''.join(re.findall(pat, str(fn)))\n",
        "    else:\n",
        "        return re.findall(pat, str(fn))[0] if pat == 'act' else re.findall(pat, str(fn))[1]"
      ],
      "metadata": {
        "id": "Q8aEXcNWmgSL"
      },
      "execution_count": 98,
      "outputs": []
    },
    {
      "cell_type": "code",
      "source": [
        "# restart-run\n",
        "label_pat = r'_(\\d+)'\n",
        "emotion_labeler = partial(re_labeler, pat=label_pat, subcl='all')\n",
        "ll = label_by_func(sd, emotion_labeler, proc_y=CategoryProcessor())"
      ],
      "metadata": {
        "id": "YdJRlaBGsvyH"
      },
      "execution_count": 99,
      "outputs": []
    },
    {
      "cell_type": "code",
      "source": [
        "uniqueify(ll.y.items)"
      ],
      "metadata": {
        "colab": {
          "base_uri": "https://localhost:8080/"
        },
        "id": "cqc4iTHusK86",
        "outputId": "bbed5f95-5adf-4a3a-d85d-17ed20eb2ea4"
      },
      "execution_count": 100,
      "outputs": [
        {
          "output_type": "execute_result",
          "data": {
            "text/plain": [
              "[0, 1, 2, 3]"
            ]
          },
          "metadata": {},
          "execution_count": 100
        }
      ]
    },
    {
      "cell_type": "code",
      "source": [
        "class ToCuda():\n",
        "    _order=20\n",
        "    def __call__(self, ad):\n",
        "        return ad.cuda()"
      ],
      "metadata": {
        "id": "pli2CdzxqC5o"
      },
      "execution_count": 102,
      "outputs": []
    },
    {
      "cell_type": "code",
      "source": [
        "def to_byte_tensor(item):\n",
        "    res = torch.ByteTensor(torch.ByteStorage.from_buffer(item.tobytes()))\n",
        "    w,h = item.size\n",
        "    return res.view(h,w,-1).permute(2,0,1)[0].unsqueeze(0) # return 1, H(LogMel), W(frames)"
      ],
      "metadata": {
        "id": "eRCgjV0vsH5P"
      },
      "execution_count": 146,
      "outputs": []
    },
    {
      "cell_type": "code",
      "source": [
        "class ResizeFixed(Transform):\n",
        "    _order=0\n",
        "    def __init__(self,size):\n",
        "        if isinstance(size,int): size=(size,size)\n",
        "        self.size = size\n",
        "\n",
        "    def __call__(self, item):\n",
        "        print(type(item))\n",
        "        return item.resize(self.size)\n",
        "        # return item.resize(self.size, PIL.Image.BILINEAR)"
      ],
      "metadata": {
        "id": "cfvqSvsYKg_m"
      },
      "execution_count": 147,
      "outputs": []
    },
    {
      "cell_type": "code",
      "source": [
        "il = ImageList.from_files(train_v2); il"
      ],
      "metadata": {
        "id": "8kRBkRzblKws",
        "colab": {
          "base_uri": "https://localhost:8080/"
        },
        "outputId": "abf68b4c-c1d1-4340-b855-3b8ebf1e8bad"
      },
      "execution_count": 148,
      "outputs": [
        {
          "output_type": "execute_result",
          "data": {
            "text/plain": [
              "ImageList (7800 items)\n",
              "[PosixPath('/content/data/v2/train/6819_1_1.png'), PosixPath('/content/data/v2/train/5904_1_1.png'), PosixPath('/content/data/v2/train/5150_1_1.png'), PosixPath('/content/data/v2/train/103_1_0.png'), PosixPath('/content/data/v2/train/261_0_0.png'), PosixPath('/content/data/v2/train/7590_1_0.png'), PosixPath('/content/data/v2/train/3458_1_1.png'), PosixPath('/content/data/v2/train/5225_0_0.png'), PosixPath('/content/data/v2/train/1143_0_1.png'), PosixPath('/content/data/v2/train/2923_1_1.png')...]\n",
              "Path: /content/data/v2/train"
            ]
          },
          "metadata": {},
          "execution_count": 148
        }
      ]
    },
    {
      "cell_type": "code",
      "source": [
        "il[0].resize((64,64))"
      ],
      "metadata": {
        "id": "xo2SbEmULree",
        "outputId": "8199584c-9a56-4aaa-8cfc-65b7953e6333",
        "colab": {
          "base_uri": "https://localhost:8080/",
          "height": 81
        }
      },
      "execution_count": 149,
      "outputs": [
        {
          "output_type": "execute_result",
          "data": {
            "image/png": "[encoded data removed]",
            "text/plain": [
              "<PIL.Image.Image image mode=RGBA size=64x64 at 0x7F8C57486990>"
            ]
          },
          "metadata": {},
          "execution_count": 149
        }
      ]
    },
    {
      "cell_type": "code",
      "source": [
        "def make_rgb(item): return item.convert('RGB')"
      ],
      "metadata": {
        "id": "e2UvLu16Lx_x"
      },
      "execution_count": 150,
      "outputs": []
    },
    {
      "cell_type": "code",
      "source": [
        "tfms = [ResizeFixed(26), make_rgb, to_byte_tensor, to_float_tensor, ToCuda()]\n",
        "il = ImageList.from_files(train_v2, tfms = tfms)\n",
        "sd = SplitData.split_by_func(il, partial(random_splitter, p_valid=0.2))\n",
        "ll = label_by_func(sd, emotion_labeler, proc_y=CategoryProcessor())"
      ],
      "metadata": {
        "id": "Na1O1IaDLmDE"
      },
      "execution_count": 151,
      "outputs": []
    },
    {
      "cell_type": "code",
      "source": [
        "x, y = ll.train[0]"
      ],
      "metadata": {
        "id": "g9xNOAd5lorw",
        "colab": {
          "base_uri": "https://localhost:8080/"
        },
        "outputId": "f8b5a1b4-0fa6-4603-c8ed-fd930a55cc38"
      },
      "execution_count": 152,
      "outputs": [
        {
          "output_type": "stream",
          "name": "stdout",
          "text": [
            "<class 'PIL.PngImagePlugin.PngImageFile'>\n"
          ]
        }
      ]
    },
    {
      "cell_type": "code",
      "source": [
        "bs=64\n",
        "c_in = ll.train[0][0].shape[0]\n",
        "c_out = len(uniqueify(ll.train.y))"
      ],
      "metadata": {
        "id": "oGWK3QRSnQ6_"
      },
      "execution_count": null,
      "outputs": []
    },
    {
      "cell_type": "code",
      "source": [
        "c_in, c_out"
      ],
      "metadata": {
        "id": "ApNflCkXnXTl",
        "outputId": "3e08e70c-173a-4edf-9f36-f2c93dc398c4",
        "colab": {
          "base_uri": "https://localhost:8080/"
        }
      },
      "execution_count": null,
      "outputs": [
        {
          "output_type": "execute_result",
          "data": {
            "text/plain": [
              "(3, 4)"
            ]
          },
          "metadata": {},
          "execution_count": 138
        }
      ]
    },
    {
      "cell_type": "code",
      "source": [
        "data = ll.to_databunch(bs,c_in=c_in,c_out=c_out)"
      ],
      "metadata": {
        "id": "dIgIHL5AnV-9"
      },
      "execution_count": null,
      "outputs": []
    },
    {
      "cell_type": "code",
      "source": [
        "opt_func = adam_opt(mom=0.9, mom_sqr=0.99, eps=1e-6, wd=1e-2)\n",
        "loss_func = LabelSmoothingCrossEntropy()\n",
        "lr = 1e-2\n",
        "pct_start = 0.5\n",
        "phases = create_phases(pct_start)\n",
        "sched_lr = combine_scheds(phases, cos_1cycle_anneal(lr/10., lr, lr/1e5))\n",
        "sched_mom = combine_scheds(phases, cos_1cycle_anneal(0.95,0.85, 0.95))\n",
        "cbscheds = [ParamScheduler('lr', sched_lr),\n",
        "ParamScheduler('mom', sched_mom)]"
      ],
      "metadata": {
        "id": "KiNC3vPEnKuW"
      },
      "execution_count": null,
      "outputs": []
    },
    {
      "cell_type": "code",
      "source": [
        "learn = cnn_learner(xresnet34, data, loss_func, opt_func)"
      ],
      "metadata": {
        "id": "xNbsGjphnKsL"
      },
      "execution_count": null,
      "outputs": []
    },
    {
      "cell_type": "code",
      "source": [
        "!pip install -qq torchmetrics"
      ],
      "metadata": {
        "id": "YqE1Y3aOoWZM",
        "outputId": "a912b16a-4578-478c-e1ba-245daadd23d2",
        "colab": {
          "base_uri": "https://localhost:8080/"
        }
      },
      "execution_count": null,
      "outputs": [
        {
          "output_type": "stream",
          "name": "stdout",
          "text": [
            "\u001b[?25l\r\u001b[K     |█                               | 10 kB 27.5 MB/s eta 0:00:01\r\u001b[K     |██                              | 20 kB 19.7 MB/s eta 0:00:01\r\u001b[K     |███                             | 30 kB 10.9 MB/s eta 0:00:01\r\u001b[K     |████                            | 40 kB 9.0 MB/s eta 0:00:01\r\u001b[K     |█████                           | 51 kB 5.1 MB/s eta 0:00:01\r\u001b[K     |██████                          | 61 kB 5.6 MB/s eta 0:00:01\r\u001b[K     |███████                         | 71 kB 5.4 MB/s eta 0:00:01\r\u001b[K     |███████▉                        | 81 kB 6.1 MB/s eta 0:00:01\r\u001b[K     |████████▉                       | 92 kB 4.7 MB/s eta 0:00:01\r\u001b[K     |█████████▉                      | 102 kB 5.0 MB/s eta 0:00:01\r\u001b[K     |██████████▉                     | 112 kB 5.0 MB/s eta 0:00:01\r\u001b[K     |███████████▉                    | 122 kB 5.0 MB/s eta 0:00:01\r\u001b[K     |████████████▉                   | 133 kB 5.0 MB/s eta 0:00:01\r\u001b[K     |█████████████▉                  | 143 kB 5.0 MB/s eta 0:00:01\r\u001b[K     |██████████████▉                 | 153 kB 5.0 MB/s eta 0:00:01\r\u001b[K     |███████████████▊                | 163 kB 5.0 MB/s eta 0:00:01\r\u001b[K     |████████████████▊               | 174 kB 5.0 MB/s eta 0:00:01\r\u001b[K     |█████████████████▊              | 184 kB 5.0 MB/s eta 0:00:01\r\u001b[K     |██████████████████▊             | 194 kB 5.0 MB/s eta 0:00:01\r\u001b[K     |███████████████████▊            | 204 kB 5.0 MB/s eta 0:00:01\r\u001b[K     |████████████████████▊           | 215 kB 5.0 MB/s eta 0:00:01\r\u001b[K     |█████████████████████▊          | 225 kB 5.0 MB/s eta 0:00:01\r\u001b[K     |██████████████████████▋         | 235 kB 5.0 MB/s eta 0:00:01\r\u001b[K     |███████████████████████▋        | 245 kB 5.0 MB/s eta 0:00:01\r\u001b[K     |████████████████████████▋       | 256 kB 5.0 MB/s eta 0:00:01\r\u001b[K     |█████████████████████████▋      | 266 kB 5.0 MB/s eta 0:00:01\r\u001b[K     |██████████████████████████▋     | 276 kB 5.0 MB/s eta 0:00:01\r\u001b[K     |███████████████████████████▋    | 286 kB 5.0 MB/s eta 0:00:01\r\u001b[K     |████████████████████████████▋   | 296 kB 5.0 MB/s eta 0:00:01\r\u001b[K     |█████████████████████████████▋  | 307 kB 5.0 MB/s eta 0:00:01\r\u001b[K     |██████████████████████████████▌ | 317 kB 5.0 MB/s eta 0:00:01\r\u001b[K     |███████████████████████████████▌| 327 kB 5.0 MB/s eta 0:00:01\r\u001b[K     |████████████████████████████████| 332 kB 5.0 MB/s \n",
            "\u001b[?25h"
          ]
        }
      ]
    },
    {
      "cell_type": "code",
      "source": [
        "from torchmetrics import F1\n",
        "f1 = F1(num_classes=4)"
      ],
      "metadata": {
        "id": "yz1pU7T9nKlF"
      },
      "execution_count": null,
      "outputs": []
    },
    {
      "cell_type": "code",
      "source": [
        "learn.fit(100, cbs=cbscheds)"
      ],
      "metadata": {
        "id": "LbzjaSecnKnM",
        "outputId": "d49fb409-be56-4868-c673-c727c655477b",
        "colab": {
          "base_uri": "https://localhost:8080/",
          "height": 313
        }
      },
      "execution_count": null,
      "outputs": [
        {
          "output_type": "display_data",
          "data": {
            "text/html": [
              "\n",
              "    <div>\n",
              "        <style>\n",
              "            /* Turns off some styling */\n",
              "            progress {\n",
              "                /* gets rid of default border in Firefox and Opera. */\n",
              "                border: none;\n",
              "                /* Needs to be in here for Safari polyfill so background images work as expected. */\n",
              "                background-size: auto;\n",
              "            }\n",
              "            .progress-bar-interrupted, .progress-bar-interrupted::-webkit-progress-bar {\n",
              "                background: #F44336;\n",
              "            }\n",
              "        </style>\n",
              "      <progress value='0' class='' max='5' style='width:300px; height:20px; vertical-align: middle;'></progress>\n",
              "      \n",
              "    </div>\n",
              "    \n"
            ],
            "text/plain": [
              "<IPython.core.display.HTML object>"
            ]
          },
          "metadata": {}
        },
        {
          "output_type": "display_data",
          "data": {
            "text/html": [
              "<table border=\"1\" class=\"dataframe\">\n",
              "  <thead>\n",
              "    <tr style=\"text-align: left;\">\n",
              "      <th>epoch</th>\n",
              "      <th>train_loss</th>\n",
              "      <th>train_accuracy</th>\n",
              "      <th>valid_loss</th>\n",
              "      <th>valid_accuracy</th>\n",
              "      <th>time</th>\n",
              "    </tr>\n",
              "  </thead>\n",
              "  <tbody>\n",
              "    <tr>\n",
              "      <td>0</td>\n",
              "      <td>1.245809</td>\n",
              "      <td>0.445051</td>\n",
              "      <td>1.297476</td>\n",
              "      <td>0.471602</td>\n",
              "      <td>00:19</td>\n",
              "    </tr>\n",
              "    <tr>\n",
              "      <td>1</td>\n",
              "      <td>1.244118</td>\n",
              "      <td>0.449382</td>\n",
              "      <td>1.426913</td>\n",
              "      <td>0.406509</td>\n",
              "      <td>00:19</td>\n",
              "    </tr>\n",
              "    <tr>\n",
              "      <td>2</td>\n",
              "      <td>1.216406</td>\n",
              "      <td>0.462859</td>\n",
              "      <td>1.336968</td>\n",
              "      <td>0.372048</td>\n",
              "      <td>00:19</td>\n",
              "    </tr>\n",
              "    <tr>\n",
              "      <td>3</td>\n",
              "      <td>1.189119</td>\n",
              "      <td>0.486283</td>\n",
              "      <td>1.169613</td>\n",
              "      <td>0.500319</td>\n",
              "      <td>00:19</td>\n",
              "    </tr>\n",
              "    <tr>\n",
              "      <td>4</td>\n",
              "      <td>1.149366</td>\n",
              "      <td>0.515161</td>\n",
              "      <td>1.159650</td>\n",
              "      <td>0.509892</td>\n",
              "      <td>00:20</td>\n",
              "    </tr>\n",
              "  </tbody>\n",
              "</table>"
            ],
            "text/plain": [
              "<IPython.core.display.HTML object>"
            ]
          },
          "metadata": {}
        },
        {
          "output_type": "stream",
          "name": "stderr",
          "text": [
            "/content/course-v3/nbs/dl2/exp/nb_09.py:136: UserWarning: This overload of add_ is deprecated:\n",
            "\tadd_(Number alpha, Tensor other)\n",
            "Consider using one of the following signatures instead:\n",
            "\tadd_(Tensor other, *, Number alpha) (Triggered internally at  ../torch/csrc/utils/python_arg_parser.cpp:1050.)\n",
            "  state['grad_avg'].mul_(mom).add_(state['mom_damp'], p.grad.data)\n"
          ]
        }
      ]
    },
    {
      "cell_type": "markdown",
      "source": [
        "---"
      ],
      "metadata": {
        "id": "dDyvyuiMnKh3"
      }
    },
    {
      "cell_type": "code",
      "source": [
        ""
      ],
      "metadata": {
        "id": "A5eIVmEorR7u"
      },
      "execution_count": null,
      "outputs": []
    },
    {
      "cell_type": "code",
      "source": [
        ""
      ],
      "metadata": {
        "id": "ng5tqOdtrSDR"
      },
      "execution_count": null,
      "outputs": []
    },
    {
      "cell_type": "code",
      "source": [
        ""
      ],
      "metadata": {
        "id": "UmlTr6MQrSJS"
      },
      "execution_count": null,
      "outputs": []
    },
    {
      "cell_type": "code",
      "source": [
        ""
      ],
      "metadata": {
        "id": "KrZula0YrSPk"
      },
      "execution_count": null,
      "outputs": []
    },
    {
      "cell_type": "markdown",
      "source": [
        ""
      ],
      "metadata": {
        "id": "TzVDT0G_Z3Fv"
      }
    }
  ]
}