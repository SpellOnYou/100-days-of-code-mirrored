{
  "nbformat": 4,
  "nbformat_minor": 0,
  "metadata": {
    "kernelspec": {
      "display_name": "Python 3",
      "language": "python",
      "name": "python3"
    },
    "colab": {
      "name": "dl4slp-audio.ipynb",
      "provenance": [],
      "collapsed_sections": []
    },
    "accelerator": "GPU"
  },
  "cells": [
    {
      "cell_type": "markdown",
      "source": [
        "# 2021-12-21 Update Note\n",
        "\n",
        "- Being discouraged by the low performance of transformer, and research, I will move back to \"more\" epoch."
      ],
      "metadata": {
        "id": "7Nfe54aqpQ1R"
      }
    },
    {
      "cell_type": "code",
      "source": [
        "from google.colab import drive\n",
        "drive.mount('/gdrive')"
      ],
      "metadata": {
        "colab": {
          "base_uri": "https://localhost:8080/"
        },
        "id": "nmq1O0Lup1h2",
        "outputId": "536f05ab-da52-483c-b9a7-5fa0643ee4e0"
      },
      "execution_count": 7,
      "outputs": [
        {
          "output_type": "stream",
          "name": "stdout",
          "text": [
            "Mounted at /gdrive\n"
          ]
        }
      ]
    },
    {
      "cell_type": "markdown",
      "source": [
        "- I will use xresnet and their datablock, optimizer from fastai."
      ],
      "metadata": {
        "id": "DxHqVglwqH0W"
      }
    },
    {
      "cell_type": "code",
      "source": [
        "!git clone https://github.com/fastai/course-v3/ /content/course-v3"
      ],
      "metadata": {
        "colab": {
          "base_uri": "https://localhost:8080/"
        },
        "id": "VL3HjY7zp5jZ",
        "outputId": "e0afd918-c24c-4305-ef0b-654e94bf37ac"
      },
      "execution_count": 1,
      "outputs": [
        {
          "output_type": "stream",
          "name": "stdout",
          "text": [
            "Cloning into '/content/course-v3'...\n",
            "remote: Enumerating objects: 5893, done.\u001b[K\n",
            "remote: Counting objects: 100% (3/3), done.\u001b[K\n",
            "remote: Compressing objects: 100% (3/3), done.\u001b[K\n",
            "remote: Total 5893 (delta 0), reused 2 (delta 0), pack-reused 5890\u001b[K\n",
            "Receiving objects: 100% (5893/5893), 263.10 MiB | 13.75 MiB/s, done.\n",
            "Resolving deltas: 100% (3251/3251), done.\n"
          ]
        }
      ]
    },
    {
      "cell_type": "code",
      "source": [
        "# restart-run\n",
        "%cd /content/course-v3/nbs/dl2"
      ],
      "metadata": {
        "colab": {
          "base_uri": "https://localhost:8080/"
        },
        "id": "dLHZgcdjqMj6",
        "outputId": "c8f63a0a-0a8d-4eef-b26f-02660f13384a"
      },
      "execution_count": 5,
      "outputs": [
        {
          "output_type": "stream",
          "name": "stdout",
          "text": [
            "/content/course-v3/nbs/dl2\n"
          ]
        }
      ]
    },
    {
      "cell_type": "markdown",
      "source": [
        "- NOTE: if you do not have installed [nvidia/apex](https://github.com/nvidia/apex),  change `from exp.nb_10c import *` to `from exp.nb_10b import *` in `exp.nb_11`"
      ],
      "metadata": {
        "id": "nb6S4CPyqS_F"
      }
    },
    {
      "cell_type": "code",
      "source": [
        "from exp.nb_12a import *"
      ],
      "metadata": {
        "id": "77V-bw0pqR2J"
      },
      "execution_count": 6,
      "outputs": []
    },
    {
      "cell_type": "markdown",
      "source": [
        "- Local data (which is divided into separate dataset) is saved to `Path('/gdrive/Shareddrives/Dion-Account/2122WS/8-dl4slp/coding-project/data/v1/ser'`\n"
      ],
      "metadata": {
        "id": "_U7CK3KXqnr5"
      }
    },
    {
      "cell_type": "code",
      "source": [
        "root_path = Path('/gdrive/Shareddrives/Dion-Account/2122WS/8-dl4slp/coding-project/ser/data/v1'); root_path.ls()"
      ],
      "metadata": {
        "colab": {
          "base_uri": "https://localhost:8080/"
        },
        "id": "V93zJPFhqnpC",
        "outputId": "2a71af44-64ea-42bd-bf86-94d7bd6384a7"
      },
      "execution_count": 7,
      "outputs": [
        {
          "output_type": "execute_result",
          "data": {
            "text/plain": [
              "[PosixPath('/gdrive/Shareddrives/Dion-Account/2122WS/8-dl4slp/coding-project/ser/data/v1/train'),\n",
              " PosixPath('/gdrive/Shareddrives/Dion-Account/2122WS/8-dl4slp/coding-project/ser/data/v1/dev')]"
            ]
          },
          "metadata": {},
          "execution_count": 7
        }
      ]
    },
    {
      "cell_type": "markdown",
      "metadata": {
        "id": "D1FVouZFT7-5"
      },
      "source": [
        "features-entry contains a list of a list with 26 items.\n",
        "- length of inner list: 26 (float numbers - represent one preprocessed speech frame (logMel))\n",
        "\n",
        "- length of outer list: number of frames per data-point, e.g. 10 or 15, ..."
      ]
    },
    {
      "cell_type": "code",
      "source": [
        "train_path = root_path/'train'"
      ],
      "metadata": {
        "id": "XxRfMtm7UTb_"
      },
      "execution_count": 9,
      "outputs": []
    },
    {
      "cell_type": "code",
      "source": [
        "# restart-run\n",
        "audios = get_files(train_path)\n",
        "class AudioList(ItemList):\n",
        "    @classmethod\n",
        "    def from_files(cls, path, extensions = None, recurse=True, include=None, **kwargs):\n",
        "        return cls(get_files(path, extensions, recurse=recurse, include=include), path, **kwargs)\n",
        "    \n",
        "    def get(self, fn):\n",
        "        return torch.load(fn)\n",
        "        \n",
        "al=AudioList.from_files(train_path); al"
      ],
      "metadata": {
        "colab": {
          "base_uri": "https://localhost:8080/"
        },
        "id": "PSfrsOPbmgil",
        "outputId": "50edc401-c015-4f24-f7ef-b9407444a83a"
      },
      "execution_count": 10,
      "outputs": [
        {
          "output_type": "execute_result",
          "data": {
            "text/plain": [
              "AudioList (7800 items)\n",
              "[PosixPath('/gdrive/Shareddrives/Dion-Account/2122WS/8-dl4slp/coding-project/ser/data/v1/train/7760_1_1.pt'), PosixPath('/gdrive/Shareddrives/Dion-Account/2122WS/8-dl4slp/coding-project/ser/data/v1/train/7761_0_0.pt'), PosixPath('/gdrive/Shareddrives/Dion-Account/2122WS/8-dl4slp/coding-project/ser/data/v1/train/7762_0_0.pt'), PosixPath('/gdrive/Shareddrives/Dion-Account/2122WS/8-dl4slp/coding-project/ser/data/v1/train/7763_1_0.pt'), PosixPath('/gdrive/Shareddrives/Dion-Account/2122WS/8-dl4slp/coding-project/ser/data/v1/train/7764_1_1.pt'), PosixPath('/gdrive/Shareddrives/Dion-Account/2122WS/8-dl4slp/coding-project/ser/data/v1/train/7765_1_0.pt'), PosixPath('/gdrive/Shareddrives/Dion-Account/2122WS/8-dl4slp/coding-project/ser/data/v1/train/7766_1_1.pt'), PosixPath('/gdrive/Shareddrives/Dion-Account/2122WS/8-dl4slp/coding-project/ser/data/v1/train/7767_1_0.pt'), PosixPath('/gdrive/Shareddrives/Dion-Account/2122WS/8-dl4slp/coding-project/ser/data/v1/train/7768_1_0.pt'), PosixPath('/gdrive/Shareddrives/Dion-Account/2122WS/8-dl4slp/coding-project/ser/data/v1/train/7769_1_1.pt')...]\n",
              "Path: /gdrive/Shareddrives/Dion-Account/2122WS/8-dl4slp/coding-project/ser/data/v1/train"
            ]
          },
          "metadata": {},
          "execution_count": 10
        }
      ]
    },
    {
      "cell_type": "code",
      "source": [
        "al[0].shape, al[0].type()"
      ],
      "metadata": {
        "colab": {
          "base_uri": "https://localhost:8080/"
        },
        "id": "zAEwNikMmgbp",
        "outputId": "04098231-81d2-4fc7-8134-827021d3ccbc"
      },
      "execution_count": 11,
      "outputs": [
        {
          "output_type": "execute_result",
          "data": {
            "text/plain": [
              "(torch.Size([614, 26]), 'torch.FloatTensor')"
            ]
          },
          "metadata": {},
          "execution_count": 11
        }
      ]
    },
    {
      "cell_type": "code",
      "source": [
        "class ToCuda():\n",
        "    _order=10\n",
        "    def __call__(self, ad):\n",
        "        return ad.cuda()"
      ],
      "metadata": {
        "id": "0zjtZQv7RxnR"
      },
      "execution_count": 12,
      "outputs": []
    },
    {
      "cell_type": "code",
      "source": [
        "class Reshape():\n",
        "    _order=12\n",
        "    def __call__(self, item):\n",
        "        w, h = item.shape\n",
        "        return item.view(h, w)"
      ],
      "metadata": {
        "id": "pkydd2rsRxq0"
      },
      "execution_count": 13,
      "outputs": []
    },
    {
      "cell_type": "code",
      "source": [
        "# Mutants of input tensor\n",
        "class PadorTrim():\n",
        "    \n",
        "    _order = 20\n",
        "    def __init__(self, max_len):\n",
        "        self.max_len = max_len\n",
        "    def __call__(self, ad):\n",
        "        # h - logmel, here 27, w - frames / various\n",
        "        h, w = ad.shape\n",
        "        pad_size = self.max_len - w\n",
        "        if pad_size >0: return torch.cat((ad, torch.zeros(h, pad_size).to(ad.device)), dim=1)\n",
        "        else: return ad[:, :self.max_len]"
      ],
      "metadata": {
        "id": "kswbnzhkRxvu"
      },
      "execution_count": 54,
      "outputs": []
    },
    {
      "cell_type": "code",
      "source": [
        "class DummyChannel():\n",
        "    _order = 30\n",
        "    def __call__(self, item):\n",
        "        return item.unsqueeze(0)"
      ],
      "metadata": {
        "id": "0_CAJYm3S1XY"
      },
      "execution_count": 15,
      "outputs": []
    },
    {
      "cell_type": "code",
      "source": [
        "tfms = [ToCuda(), Reshape(), PadorTrim(250), DummyChannel()]\n",
        "compose(al[0], tfms).shape"
      ],
      "metadata": {
        "colab": {
          "base_uri": "https://localhost:8080/"
        },
        "id": "T5d81cRpRxzm",
        "outputId": "5e41f2e9-0149-4f8d-c6b7-19d84eece712"
      },
      "execution_count": 16,
      "outputs": [
        {
          "output_type": "execute_result",
          "data": {
            "text/plain": [
              "torch.Size([1, 26, 250])"
            ]
          },
          "metadata": {},
          "execution_count": 16
        }
      ]
    },
    {
      "cell_type": "code",
      "source": [
        "al=AudioList.from_files(train_path, tfms=tfms)"
      ],
      "metadata": {
        "id": "wnyPo8eSUK6w"
      },
      "execution_count": 17,
      "outputs": []
    },
    {
      "cell_type": "code",
      "source": [
        "def re_labeler(fn, pat, subcl='act'):\n",
        "    assert subcl in ['act', 'val', 'all']\n",
        "    if subcl=='all': return ''.join(re.findall(pat, str(fn)))\n",
        "    else:\n",
        "        return re.findall(pat, str(fn))[0] if pat == 'act' else re.findall(pat, str(fn))[1]\n",
        "\n",
        "label_pat = r'_(\\d+)'\n",
        "emotion_labeler = partial(re_labeler, pat=label_pat, subcl='all')"
      ],
      "metadata": {
        "id": "src5ZbMFRx39"
      },
      "execution_count": 18,
      "outputs": []
    },
    {
      "cell_type": "code",
      "source": [
        "sd = SplitData.split_by_func(al, partial(random_splitter, p_valid=0.2))\n",
        "ll = label_by_func(sd, emotion_labeler, proc_y=CategoryProcessor())"
      ],
      "metadata": {
        "id": "DOSpH2pqRyAk"
      },
      "execution_count": 19,
      "outputs": []
    },
    {
      "cell_type": "code",
      "source": [
        "bs=64\n",
        "c_in = ll.train[0][0].shape[0]\n",
        "c_out = len(uniqueify(ll.train.y))\n",
        "data = ll.to_databunch(bs,c_in=c_in,c_out=c_out)"
      ],
      "metadata": {
        "id": "ZkTlju1wRx7S"
      },
      "execution_count": 20,
      "outputs": []
    },
    {
      "cell_type": "code",
      "source": [
        "ll.train[0][0].shape"
      ],
      "metadata": {
        "colab": {
          "base_uri": "https://localhost:8080/"
        },
        "id": "CS5NB5DvUCBN",
        "outputId": "979a59b0-54dc-4eb4-81ba-d575bf187587"
      },
      "execution_count": 21,
      "outputs": [
        {
          "output_type": "execute_result",
          "data": {
            "text/plain": [
              "torch.Size([1, 26, 250])"
            ]
          },
          "metadata": {},
          "execution_count": 21
        }
      ]
    },
    {
      "cell_type": "code",
      "source": [
        "c_in, c_out"
      ],
      "metadata": {
        "colab": {
          "base_uri": "https://localhost:8080/"
        },
        "id": "SUR1bKqURyDQ",
        "outputId": "b4c1c564-4938-4a60-d5a5-f639de9715f0"
      },
      "execution_count": 22,
      "outputs": [
        {
          "output_type": "execute_result",
          "data": {
            "text/plain": [
              "(1, 4)"
            ]
          },
          "metadata": {},
          "execution_count": 22
        }
      ]
    },
    {
      "cell_type": "code",
      "source": [
        "opt_func = adam_opt(mom=0.9, mom_sqr=0.99, eps=1e-6, wd=1e-1, )\n",
        "loss_func = LabelSmoothingCrossEntropy()\n",
        "lr = 1e-2\n",
        "pct_start = 0.5\n",
        "phases = create_phases(pct_start)\n",
        "sched_lr  = combine_scheds(phases, cos_1cycle_anneal(lr/10., lr, lr/1e5))\n",
        "sched_mom = combine_scheds(phases, cos_1cycle_anneal(0.95,0.85, 0.95))\n",
        "cbscheds = [ParamScheduler('lr', sched_lr), \n",
        "            ParamScheduler('mom', sched_mom)]"
      ],
      "metadata": {
        "id": "u7pqps96UTU6"
      },
      "execution_count": 23,
      "outputs": []
    },
    {
      "cell_type": "code",
      "source": [
        "learn = cnn_learner(xresnet50, data, loss_func, opt_func)"
      ],
      "metadata": {
        "id": "HknjfDCWf5_R"
      },
      "execution_count": 24,
      "outputs": []
    },
    {
      "cell_type": "code",
      "source": [
        "learn.fit(30, cbs=cbscheds)"
      ],
      "metadata": {
        "colab": {
          "base_uri": "https://localhost:8080/",
          "height": 1000
        },
        "id": "woDMGh5-V8XX",
        "outputId": "2e88f352-74e8-4739-8733-5a7257a8e891"
      },
      "execution_count": 84,
      "outputs": [
        {
          "output_type": "display_data",
          "data": {
            "text/html": [
              "\n",
              "    <div>\n",
              "        <style>\n",
              "            /* Turns off some styling */\n",
              "            progress {\n",
              "                /* gets rid of default border in Firefox and Opera. */\n",
              "                border: none;\n",
              "                /* Needs to be in here for Safari polyfill so background images work as expected. */\n",
              "                background-size: auto;\n",
              "            }\n",
              "            .progress-bar-interrupted, .progress-bar-interrupted::-webkit-progress-bar {\n",
              "                background: #F44336;\n",
              "            }\n",
              "        </style>\n",
              "      <progress value='0' class='' max='30' style='width:300px; height:20px; vertical-align: middle;'></progress>\n",
              "      \n",
              "    </div>\n",
              "    \n"
            ],
            "text/plain": [
              "<IPython.core.display.HTML object>"
            ]
          },
          "metadata": {}
        },
        {
          "output_type": "display_data",
          "data": {
            "text/html": [
              "<table border=\"1\" class=\"dataframe\">\n",
              "  <thead>\n",
              "    <tr style=\"text-align: left;\">\n",
              "      <th>epoch</th>\n",
              "      <th>train_loss</th>\n",
              "      <th>train_accuracy</th>\n",
              "      <th>valid_loss</th>\n",
              "      <th>valid_accuracy</th>\n",
              "      <th>time</th>\n",
              "    </tr>\n",
              "  </thead>\n",
              "  <tbody>\n",
              "    <tr>\n",
              "      <td>0</td>\n",
              "      <td>1.331281</td>\n",
              "      <td>0.437038</td>\n",
              "      <td>1.234124</td>\n",
              "      <td>0.438374</td>\n",
              "      <td>00:23</td>\n",
              "    </tr>\n",
              "    <tr>\n",
              "      <td>1</td>\n",
              "      <td>1.222390</td>\n",
              "      <td>0.461773</td>\n",
              "      <td>1.317702</td>\n",
              "      <td>0.426302</td>\n",
              "      <td>00:23</td>\n",
              "    </tr>\n",
              "    <tr>\n",
              "      <td>2</td>\n",
              "      <td>1.206245</td>\n",
              "      <td>0.465467</td>\n",
              "      <td>1.215294</td>\n",
              "      <td>0.440915</td>\n",
              "      <td>00:23</td>\n",
              "    </tr>\n",
              "    <tr>\n",
              "      <td>3</td>\n",
              "      <td>1.198860</td>\n",
              "      <td>0.461773</td>\n",
              "      <td>1.194809</td>\n",
              "      <td>0.470140</td>\n",
              "      <td>00:23</td>\n",
              "    </tr>\n",
              "    <tr>\n",
              "      <td>4</td>\n",
              "      <td>1.196813</td>\n",
              "      <td>0.469804</td>\n",
              "      <td>1.184216</td>\n",
              "      <td>0.479670</td>\n",
              "      <td>00:23</td>\n",
              "    </tr>\n",
              "    <tr>\n",
              "      <td>5</td>\n",
              "      <td>1.218045</td>\n",
              "      <td>0.475426</td>\n",
              "      <td>1.200587</td>\n",
              "      <td>0.477128</td>\n",
              "      <td>00:23</td>\n",
              "    </tr>\n",
              "    <tr>\n",
              "      <td>6</td>\n",
              "      <td>1.188055</td>\n",
              "      <td>0.477674</td>\n",
              "      <td>1.208302</td>\n",
              "      <td>0.451715</td>\n",
              "      <td>00:23</td>\n",
              "    </tr>\n",
              "    <tr>\n",
              "      <td>7</td>\n",
              "      <td>1.187711</td>\n",
              "      <td>0.478317</td>\n",
              "      <td>1.206676</td>\n",
              "      <td>0.457433</td>\n",
              "      <td>00:23</td>\n",
              "    </tr>\n",
              "    <tr>\n",
              "      <td>8</td>\n",
              "      <td>1.182942</td>\n",
              "      <td>0.476550</td>\n",
              "      <td>1.348407</td>\n",
              "      <td>0.425032</td>\n",
              "      <td>00:23</td>\n",
              "    </tr>\n",
              "    <tr>\n",
              "      <td>9</td>\n",
              "      <td>1.175299</td>\n",
              "      <td>0.487632</td>\n",
              "      <td>1.509804</td>\n",
              "      <td>0.429479</td>\n",
              "      <td>00:23</td>\n",
              "    </tr>\n",
              "    <tr>\n",
              "      <td>10</td>\n",
              "      <td>1.163662</td>\n",
              "      <td>0.493575</td>\n",
              "      <td>1.530483</td>\n",
              "      <td>0.429479</td>\n",
              "      <td>00:23</td>\n",
              "    </tr>\n",
              "    <tr>\n",
              "      <td>11</td>\n",
              "      <td>1.161031</td>\n",
              "      <td>0.495021</td>\n",
              "      <td>1.203463</td>\n",
              "      <td>0.461881</td>\n",
              "      <td>00:23</td>\n",
              "    </tr>\n",
              "    <tr>\n",
              "      <td>12</td>\n",
              "      <td>1.147115</td>\n",
              "      <td>0.512046</td>\n",
              "      <td>1.217624</td>\n",
              "      <td>0.444091</td>\n",
              "      <td>00:23</td>\n",
              "    </tr>\n",
              "    <tr>\n",
              "      <td>13</td>\n",
              "      <td>1.151708</td>\n",
              "      <td>0.507870</td>\n",
              "      <td>1.236037</td>\n",
              "      <td>0.430750</td>\n",
              "      <td>00:23</td>\n",
              "    </tr>\n",
              "    <tr>\n",
              "      <td>14</td>\n",
              "      <td>1.137399</td>\n",
              "      <td>0.519756</td>\n",
              "      <td>1.464288</td>\n",
              "      <td>0.451715</td>\n",
              "      <td>00:23</td>\n",
              "    </tr>\n",
              "    <tr>\n",
              "      <td>15</td>\n",
              "      <td>1.128686</td>\n",
              "      <td>0.524414</td>\n",
              "      <td>1.220125</td>\n",
              "      <td>0.440280</td>\n",
              "      <td>00:23</td>\n",
              "    </tr>\n",
              "    <tr>\n",
              "      <td>16</td>\n",
              "      <td>1.124495</td>\n",
              "      <td>0.524735</td>\n",
              "      <td>1.291581</td>\n",
              "      <td>0.473952</td>\n",
              "      <td>00:23</td>\n",
              "    </tr>\n",
              "    <tr>\n",
              "      <td>17</td>\n",
              "      <td>1.105933</td>\n",
              "      <td>0.543366</td>\n",
              "      <td>1.313972</td>\n",
              "      <td>0.381194</td>\n",
              "      <td>00:23</td>\n",
              "    </tr>\n",
              "    <tr>\n",
              "      <td>18</td>\n",
              "      <td>1.087560</td>\n",
              "      <td>0.556698</td>\n",
              "      <td>1.426232</td>\n",
              "      <td>0.349428</td>\n",
              "      <td>00:23</td>\n",
              "    </tr>\n",
              "    <tr>\n",
              "      <td>19</td>\n",
              "      <td>1.058329</td>\n",
              "      <td>0.571474</td>\n",
              "      <td>1.240371</td>\n",
              "      <td>0.470140</td>\n",
              "      <td>00:23</td>\n",
              "    </tr>\n",
              "    <tr>\n",
              "      <td>20</td>\n",
              "      <td>1.016826</td>\n",
              "      <td>0.605204</td>\n",
              "      <td>1.496624</td>\n",
              "      <td>0.447268</td>\n",
              "      <td>00:23</td>\n",
              "    </tr>\n",
              "    <tr>\n",
              "      <td>21</td>\n",
              "      <td>0.974309</td>\n",
              "      <td>0.633312</td>\n",
              "      <td>1.393167</td>\n",
              "      <td>0.411055</td>\n",
              "      <td>00:23</td>\n",
              "    </tr>\n",
              "    <tr>\n",
              "      <td>22</td>\n",
              "      <td>0.909159</td>\n",
              "      <td>0.679409</td>\n",
              "      <td>1.397576</td>\n",
              "      <td>0.454892</td>\n",
              "      <td>00:23</td>\n",
              "    </tr>\n",
              "    <tr>\n",
              "      <td>23</td>\n",
              "      <td>0.840025</td>\n",
              "      <td>0.715869</td>\n",
              "      <td>1.401897</td>\n",
              "      <td>0.410419</td>\n",
              "      <td>00:23</td>\n",
              "    </tr>\n",
              "    <tr>\n",
              "      <td>24</td>\n",
              "      <td>0.758092</td>\n",
              "      <td>0.767748</td>\n",
              "      <td>1.845790</td>\n",
              "      <td>0.379288</td>\n",
              "      <td>00:23</td>\n",
              "    </tr>\n",
              "    <tr>\n",
              "      <td>25</td>\n",
              "      <td>0.693616</td>\n",
              "      <td>0.805654</td>\n",
              "      <td>1.506532</td>\n",
              "      <td>0.452351</td>\n",
              "      <td>00:23</td>\n",
              "    </tr>\n",
              "    <tr>\n",
              "      <td>26</td>\n",
              "      <td>0.634636</td>\n",
              "      <td>0.846611</td>\n",
              "      <td>1.571418</td>\n",
              "      <td>0.464422</td>\n",
              "      <td>00:23</td>\n",
              "    </tr>\n",
              "    <tr>\n",
              "      <td>27</td>\n",
              "      <td>0.589369</td>\n",
              "      <td>0.873113</td>\n",
              "      <td>1.617766</td>\n",
              "      <td>0.452351</td>\n",
              "      <td>00:23</td>\n",
              "    </tr>\n",
              "    <tr>\n",
              "      <td>28</td>\n",
              "      <td>0.560619</td>\n",
              "      <td>0.890299</td>\n",
              "      <td>1.635099</td>\n",
              "      <td>0.462516</td>\n",
              "      <td>00:23</td>\n",
              "    </tr>\n",
              "    <tr>\n",
              "      <td>29</td>\n",
              "      <td>0.552561</td>\n",
              "      <td>0.895760</td>\n",
              "      <td>1.629040</td>\n",
              "      <td>0.459975</td>\n",
              "      <td>00:23</td>\n",
              "    </tr>\n",
              "  </tbody>\n",
              "</table>"
            ],
            "text/plain": [
              "<IPython.core.display.HTML object>"
            ]
          },
          "metadata": {}
        }
      ]
    },
    {
      "cell_type": "code",
      "source": [
        "learn.fit(30, cbs=cbscheds)"
      ],
      "metadata": {
        "id": "cWAT7OVYf45k"
      },
      "execution_count": null,
      "outputs": []
    },
    {
      "cell_type": "code",
      "source": [
        "def save_checkpoint(learner, filename):\n",
        "    fname = Path(filename)\n",
        "    fname.parent.mkdir(parents=True, exist_ok = True)\n",
        "    checkpoint_dict = {\n",
        "        'model': learn.model.state_dict(),\n",
        "    }\n",
        "    torch.save(checkpoint_dict, fname)"
      ],
      "metadata": {
        "id": "m74MMR93Wwwj"
      },
      "execution_count": 77,
      "outputs": []
    },
    {
      "cell_type": "code",
      "source": [
        "save_checkpoint(learn, '/content/checkpoints/xtesnet50-20epochs.pt')"
      ],
      "metadata": {
        "id": "2RkTAUCAmnsH"
      },
      "execution_count": 85,
      "outputs": []
    },
    {
      "cell_type": "markdown",
      "source": [
        "---"
      ],
      "metadata": {
        "id": "-TDxL4SxmzBB"
      }
    },
    {
      "cell_type": "markdown",
      "source": [
        "# Let me save the best model\n",
        "1. measure metric and reserve the max values\n",
        "2. when the max value changes, change the checkpoint model"
      ],
      "metadata": {
        "id": "l2-ht7gfzBFk"
      }
    },
    {
      "cell_type": "code",
      "source": [
        "def get_predictions(learn):\n",
        "    learn.model.eval()\n",
        "    targets, outputs = [],[]\n",
        "    with torch.no_grad():\n",
        "        for xb,yb in progress_bar(learn.data.valid_dl):\n",
        "            out = learn.model(xb)\n",
        "            for _,y,z in zip(xb,yb,out):\n",
        "                targets.append(learn.data.train_ds.proc_y.deproc1(y))\n",
        "                outputs.append(learn.data.train_ds.proc_y.deproc1(z.argmax(-1)))\n",
        "    return targets, outputs"
      ],
      "metadata": {
        "id": "htphjqd07Mwl"
      },
      "execution_count": 127,
      "outputs": []
    },
    {
      "cell_type": "code",
      "source": [
        "trg, pred = get_predictions(learn)"
      ],
      "metadata": {
        "colab": {
          "base_uri": "https://localhost:8080/",
          "height": 37
        },
        "id": "gFlOrpAT9NAe",
        "outputId": "d0300799-acc5-4c2b-cbaf-96d504c65050"
      },
      "execution_count": 129,
      "outputs": [
        {
          "output_type": "display_data",
          "data": {
            "text/html": [
              "\n",
              "    <div>\n",
              "        <style>\n",
              "            /* Turns off some styling */\n",
              "            progress {\n",
              "                /* gets rid of default border in Firefox and Opera. */\n",
              "                border: none;\n",
              "                /* Needs to be in here for Safari polyfill so background images work as expected. */\n",
              "                background-size: auto;\n",
              "            }\n",
              "            .progress-bar-interrupted, .progress-bar-interrupted::-webkit-progress-bar {\n",
              "                background: #F44336;\n",
              "            }\n",
              "        </style>\n",
              "      <progress value='13' class='' max='13' style='width:300px; height:20px; vertical-align: middle;'></progress>\n",
              "      100.00% [13/13 00:03<00:00]\n",
              "    </div>\n",
              "    "
            ],
            "text/plain": [
              "<IPython.core.display.HTML object>"
            ]
          },
          "metadata": {}
        }
      ]
    },
    {
      "cell_type": "code",
      "source": [
        ""
      ],
      "metadata": {
        "id": "JwugU7lBgnjK"
      },
      "execution_count": null,
      "outputs": []
    },
    {
      "cell_type": "code",
      "source": [
        "class MultiLabelFscore():\n",
        "    def __init__(self, id2mult):\n",
        "        \"here the y label will change from single label to multi label\"\n",
        "        self.id2mult = id2mult\n",
        "    def __call__(self, pred, targ):\n",
        "        # return activation, valence fscore\n",
        "        preds = np.array([self.id2mult[p] for p in pred])\n",
        "        targets = np.array([self.id2mult[p] for p in targ])\n",
        "        return f1_score(targets[:, 0], preds[:, 0]), f1_score(targets[:, 1], preds[:, 1])"
      ],
      "metadata": {
        "id": "YF9T10fCbYMI"
      },
      "execution_count": null,
      "outputs": []
    },
    {
      "cell_type": "code",
      "source": [
        "label_dicts = {0:(1, 1), 2:(0, 0), 2:(1,0), 3:(0, 1)}"
      ],
      "metadata": {
        "id": "iorskQs29Ppc"
      },
      "execution_count": 131,
      "outputs": []
    },
    {
      "cell_type": "code",
      "source": [
        "from sklearn.metrics import confusion_matrix"
      ],
      "metadata": {
        "id": "E4_2UBlH-TTF"
      },
      "execution_count": 132,
      "outputs": []
    },
    {
      "cell_type": "code",
      "source": [
        "%cd /content"
      ],
      "metadata": {
        "colab": {
          "base_uri": "https://localhost:8080/"
        },
        "id": "6TLhAwYC_ICW",
        "outputId": "acbbc182-76e0-4eb4-d456-42e63d3581c5"
      },
      "execution_count": 138,
      "outputs": [
        {
          "output_type": "stream",
          "name": "stdout",
          "text": [
            "/content\n"
          ]
        }
      ]
    },
    {
      "cell_type": "code",
      "source": [
        "import seaborn as sn\n",
        "import pandas as pd"
      ],
      "metadata": {
        "id": "Gbbu1cgXHyUa"
      },
      "execution_count": 211,
      "outputs": []
    },
    {
      "cell_type": "code",
      "source": [
        "from IPython.display import display,HTML"
      ],
      "metadata": {
        "id": "MZdSDp6hITvX"
      },
      "execution_count": 223,
      "outputs": []
    },
    {
      "cell_type": "code",
      "source": [
        "def cm(true_label, pred_label, clf):\n",
        "    \"\"\"\n",
        "    The function not only calculates confusion matrix, but also visualizes (i.e. sys out write) it as heatmap\n",
        "    Parameters\n",
        "    ----------\n",
        "    true_label : array-like of shape (n_samples,)\n",
        "        Ground truth of target data\n",
        "    pred_label : array-like of shape (n_samples,)\n",
        "        Predictoin from target data\n",
        "    labels: array-like of shape (n_classes), default=None\n",
        "        labels which index confusion matrix\n",
        "    Note\n",
        "    ----------\n",
        "    Please be sure that input is 1-D\n",
        "    \"\"\"\n",
        "    cm_score = confusion_matrix(true_label, pred_label)\n",
        "    df_cm = pd.DataFrame(cm_score, index=clf.labels, columns=clf.labels)\n",
        "    display(HTML(df_cm.to_html()))\n",
        "\n",
        "    plt.figure(figsize=(10, 7))\n",
        "    sn.heatmap(df_cm, annot=True, fmt='d')\n",
        "    img_path = Path('/content/results/cm')\n",
        "    img_path.mkdir(exist_ok=True, parents=True)\n",
        "    fname = img_path / f'ser_{clf.model.name}_epochs:{clf.epochs}'\n",
        "    plt.savefig(fname)\n",
        "    print(f\"Your confusion matrix is saved at : {str(img_path)} named {fname}\")"
      ],
      "metadata": {
        "id": "p1Apfscp-Uy7"
      },
      "execution_count": 226,
      "outputs": []
    },
    {
      "cell_type": "code",
      "source": [
        "cm(trg, pred, learn)"
      ],
      "metadata": {
        "colab": {
          "base_uri": "https://localhost:8080/",
          "height": 606
        },
        "id": "ed87MsbKH3aq",
        "outputId": "b105dace-83e9-4be1-f6cf-746688eea57f"
      },
      "execution_count": 227,
      "outputs": [
        {
          "output_type": "display_data",
          "data": {
            "text/html": [
              "<table border=\"1\" class=\"dataframe\">\n",
              "  <thead>\n",
              "    <tr style=\"text-align: right;\">\n",
              "      <th></th>\n",
              "      <th>(act:0, val:1)</th>\n",
              "      <th>(act:0, val:0)</th>\n",
              "      <th>(act:1, val:1)</th>\n",
              "      <th>(act:1, val:0)</th>\n",
              "    </tr>\n",
              "  </thead>\n",
              "  <tbody>\n",
              "    <tr>\n",
              "      <th>(act:0, val:1)</th>\n",
              "      <td>92</td>\n",
              "      <td>45</td>\n",
              "      <td>45</td>\n",
              "      <td>77</td>\n",
              "    </tr>\n",
              "    <tr>\n",
              "      <th>(act:0, val:0)</th>\n",
              "      <td>42</td>\n",
              "      <td>39</td>\n",
              "      <td>24</td>\n",
              "      <td>96</td>\n",
              "    </tr>\n",
              "    <tr>\n",
              "      <th>(act:1, val:1)</th>\n",
              "      <td>37</td>\n",
              "      <td>47</td>\n",
              "      <td>351</td>\n",
              "      <td>215</td>\n",
              "    </tr>\n",
              "    <tr>\n",
              "      <th>(act:1, val:0)</th>\n",
              "      <td>37</td>\n",
              "      <td>47</td>\n",
              "      <td>138</td>\n",
              "      <td>242</td>\n",
              "    </tr>\n",
              "  </tbody>\n",
              "</table>"
            ],
            "text/plain": [
              "<IPython.core.display.HTML object>"
            ]
          },
          "metadata": {}
        },
        {
          "output_type": "stream",
          "name": "stdout",
          "text": [
            "Your confusion matrix is saved at : /content/results/cm named /content/results/cm/ser_xresnet50_epochs:30\n"
          ]
        },
        {
          "output_type": "display_data",
          "data": {
            "image/png": "[encoded data removed]",
            "text/plain": [
              "<Figure size 720x504 with 2 Axes>"
            ]
          },
          "metadata": {
            "needs_background": "light"
          }
        }
      ]
    },
    {
      "cell_type": "code",
      "source": [
        "learn.model.name = 'xresnet50'"
      ],
      "metadata": {
        "id": "SF1eBfkG_cKA"
      },
      "execution_count": 213,
      "outputs": []
    },
    {
      "cell_type": "code",
      "source": [
        "learn.labels = {'(act:1, val:1)','(act:0, val:0)', '(act:1, val:0)', '(act:0, val:1)'}"
      ],
      "metadata": {
        "id": "O6t7vbKJ-IDH"
      },
      "execution_count": 135,
      "outputs": []
    },
    {
      "cell_type": "code",
      "source": [
        "from sklearn.metrics import classification_report"
      ],
      "metadata": {
        "id": "LRNEuvzq9VE8"
      },
      "execution_count": 149,
      "outputs": []
    },
    {
      "cell_type": "code",
      "source": [
        "print(classification_report(trg, pred))"
      ],
      "metadata": {
        "colab": {
          "base_uri": "https://localhost:8080/"
        },
        "id": "53Vah5DjBPOb",
        "outputId": "d8e00afd-cc18-4a93-eefa-38f75637923d"
      },
      "execution_count": 151,
      "outputs": [
        {
          "output_type": "stream",
          "name": "stdout",
          "text": [
            "              precision    recall  f1-score   support\n",
            "\n",
            "          00       0.44      0.36      0.39       259\n",
            "          01       0.22      0.19      0.21       201\n",
            "          10       0.63      0.54      0.58       650\n",
            "          11       0.38      0.52      0.44       464\n",
            "\n",
            "    accuracy                           0.46      1574\n",
            "   macro avg       0.42      0.40      0.41      1574\n",
            "weighted avg       0.47      0.46      0.46      1574\n",
            "\n"
          ]
        }
      ]
    },
    {
      "cell_type": "code",
      "source": [
        "import numpy as np"
      ],
      "metadata": {
        "id": "IDHwm1fZCjpl"
      },
      "execution_count": 154,
      "outputs": []
    },
    {
      "cell_type": "code",
      "source": [
        "# y0: activation, y1: valence\n",
        "trg_collection = np.array([[int(y[0]), int(y[1])] for y in trg])"
      ],
      "metadata": {
        "id": "rVPnGWdfCS1F"
      },
      "execution_count": 164,
      "outputs": []
    },
    {
      "cell_type": "code",
      "source": [
        "true_act = trg_collection[:, 0]\n",
        "true_val = trg_collection[:, 1]"
      ],
      "metadata": {
        "id": "AkSyVQ81DXkn"
      },
      "execution_count": 167,
      "outputs": []
    },
    {
      "cell_type": "code",
      "source": [
        "pred_collection = np.array([[int(y[0]), int(y[1])] for y in pred])\n",
        "pred_act, pred_val = pred_collection[:, 0], pred_collection[:, 1]"
      ],
      "metadata": {
        "id": "r5J1M77_DUMP"
      },
      "execution_count": 166,
      "outputs": []
    },
    {
      "cell_type": "code",
      "source": [
        "from sklearn.metrics import f1_score\n"
      ],
      "metadata": {
        "colab": {
          "base_uri": "https://localhost:8080/"
        },
        "id": "XOSg-ITy4HdT",
        "outputId": "dbbfb9f8-bb17-4b46-908c-3c6aedd33227"
      },
      "execution_count": 238,
      "outputs": [
        {
          "output_type": "execute_result",
          "data": {
            "text/plain": [
              "0.8218940052128584"
            ]
          },
          "metadata": {},
          "execution_count": 238
        }
      ]
    },
    {
      "cell_type": "code",
      "source": [
        "print(classification_report(true_act, pred_act))"
      ],
      "metadata": {
        "colab": {
          "base_uri": "https://localhost:8080/"
        },
        "id": "6pUl4n4eDn4o",
        "outputId": "c3280de8-19e9-450b-be04-6aeaa0e6a03c"
      },
      "execution_count": 202,
      "outputs": [
        {
          "output_type": "stream",
          "name": "stdout",
          "text": [
            "              precision    recall  f1-score   support\n",
            "\n",
            "           0       0.56      0.47      0.52       460\n",
            "           1       0.80      0.85      0.82      1114\n",
            "\n",
            "    accuracy                           0.74      1574\n",
            "   macro avg       0.68      0.66      0.67      1574\n",
            "weighted avg       0.73      0.74      0.73      1574\n",
            "\n"
          ]
        }
      ]
    },
    {
      "cell_type": "code",
      "source": [
        "print(classification_report(true_val, pred_val))"
      ],
      "metadata": {
        "colab": {
          "base_uri": "https://localhost:8080/"
        },
        "id": "CWmvu5ZFGsOn",
        "outputId": "8bceb249-80ef-4dba-e64f-faa3b6b2bd94"
      },
      "execution_count": 203,
      "outputs": [
        {
          "output_type": "stream",
          "name": "stdout",
          "text": [
            "              precision    recall  f1-score   support\n",
            "\n",
            "           0       0.69      0.58      0.63       909\n",
            "           1       0.52      0.64      0.58       665\n",
            "\n",
            "    accuracy                           0.60      1574\n",
            "   macro avg       0.61      0.61      0.60      1574\n",
            "weighted avg       0.62      0.60      0.61      1574\n",
            "\n"
          ]
        }
      ]
    },
    {
      "cell_type": "code",
      "source": [
        "show_resource(accuracy)"
      ],
      "metadata": {
        "colab": {
          "base_uri": "https://localhost:8080/"
        },
        "id": "vuRA82w0FsFd",
        "outputId": "f1cd6be1-98ce-4bb5-8f72-40504ecf3ea4"
      },
      "execution_count": 192,
      "outputs": [
        {
          "output_type": "stream",
          "name": "stdout",
          "text": [
            "def accuracy(out, yb): return (torch.argmax(out, dim=1)==yb).float().mean()\n",
            "\n"
          ]
        }
      ]
    },
    {
      "cell_type": "code",
      "source": [
        "(f1_score(true_act, pred_act) + f1_score(true_val, pred_val))/2"
      ],
      "metadata": {
        "colab": {
          "base_uri": "https://localhost:8080/"
        },
        "id": "16o1IrbFG_9x",
        "outputId": "75a369b1-e008-40c3-eb5e-511cf2a01cc5"
      },
      "execution_count": 240,
      "outputs": [
        {
          "output_type": "execute_result",
          "data": {
            "text/plain": [
              "0.69879493200222"
            ]
          },
          "metadata": {},
          "execution_count": 240
        }
      ]
    },
    {
      "cell_type": "code",
      "source": [
        "(root_path.parent.parent/'checkpoints').ls()"
      ],
      "metadata": {
        "colab": {
          "base_uri": "https://localhost:8080/"
        },
        "id": "4oLx_8uoDnVd",
        "outputId": "10ef32c2-25f3-43d7-fea7-785fefe912e1"
      },
      "execution_count": 231,
      "outputs": [
        {
          "output_type": "execute_result",
          "data": {
            "text/plain": [
              "[PosixPath('/gdrive/Shareddrives/Dion-Account/2122WS/8-dl4slp/coding-project/ser/checkpoints/v2.1.pkl'),\n",
              " PosixPath('/gdrive/Shareddrives/Dion-Account/2122WS/8-dl4slp/coding-project/ser/checkpoints/.ipynb_checkpoints')]"
            ]
          },
          "metadata": {},
          "execution_count": 231
        }
      ]
    },
    {
      "cell_type": "code",
      "source": [
        "(root_path.parent.parent/'interpret').mkdir()"
      ],
      "metadata": {
        "id": "KvjdfVnQLkV0"
      },
      "execution_count": 237,
      "outputs": []
    },
    {
      "cell_type": "code",
      "source": [
        "model_path = root_path.parent.parent/'checkpoints'"
      ],
      "metadata": {
        "id": "Nhp8Eh23LByr"
      },
      "execution_count": 232,
      "outputs": []
    },
    {
      "cell_type": "code",
      "source": [
        "!cp /content/checkpoints/*.pt {str(model_path)}/."
      ],
      "metadata": {
        "id": "-cnAH2MlzC1F"
      },
      "execution_count": 234,
      "outputs": []
    },
    {
      "cell_type": "code",
      "source": [
        "!ls {model_path}"
      ],
      "metadata": {
        "colab": {
          "base_uri": "https://localhost:8080/"
        },
        "id": "K6lzpJkJLe16",
        "outputId": "ff5edd2c-9719-4fe7-abdf-bff987d510d6"
      },
      "execution_count": 235,
      "outputs": [
        {
          "output_type": "stream",
          "name": "stdout",
          "text": [
            "v2.1.pkl  xtesnet34-20epochs.pt  xtesnet50-20epochs.pt\n"
          ]
        }
      ]
    },
    {
      "cell_type": "markdown",
      "source": [
        "# submission - load and predict"
      ],
      "metadata": {
        "id": "96R0ysRfzC5X"
      }
    },
    {
      "cell_type": "code",
      "source": [
        "path2= Path('/gdrive/Shareddrives/Dion-Account/2122WS/8-dl4slp/coding-project/ser/')\n",
        "upload_path =path2/'uploads'\n",
        "upload_path.mkdir(exist_ok=True)"
      ],
      "metadata": {
        "id": "coMQEDlbO23h"
      },
      "execution_count": 25,
      "outputs": []
    },
    {
      "cell_type": "code",
      "source": [
        "tfms = [Reshape(), PadorTrim(250), DummyChannel()]"
      ],
      "metadata": {
        "id": "mXqFYroHgqWx"
      },
      "execution_count": 55,
      "outputs": []
    },
    {
      "cell_type": "code",
      "source": [
        "st = torch.load('/content/checkpoints/xtesnet50-20epochs-f1:0.698.pt')"
      ],
      "metadata": {
        "id": "BxpOYV0thsjW"
      },
      "execution_count": 35,
      "outputs": []
    },
    {
      "cell_type": "code",
      "source": [
        "st.keys()"
      ],
      "metadata": {
        "id": "rCHOD9EkhtkJ",
        "outputId": "fe104687-95b8-4735-eb7c-765ce9f04370",
        "colab": {
          "base_uri": "https://localhost:8080/"
        }
      },
      "execution_count": 36,
      "outputs": [
        {
          "output_type": "execute_result",
          "data": {
            "text/plain": [
              "dict_keys(['model'])"
            ]
          },
          "metadata": {},
          "execution_count": 36
        }
      ]
    },
    {
      "cell_type": "code",
      "source": [
        "learn.model.load_state_dict(st['model'])"
      ],
      "metadata": {
        "id": "JEhWdRjsgsRf",
        "outputId": "f084dc64-9e44-4654-8abc-4f0e8a8a4576",
        "colab": {
          "base_uri": "https://localhost:8080/"
        }
      },
      "execution_count": 37,
      "outputs": [
        {
          "output_type": "execute_result",
          "data": {
            "text/plain": [
              "<All keys matched successfully>"
            ]
          },
          "metadata": {},
          "execution_count": 37
        }
      ]
    },
    {
      "cell_type": "code",
      "source": [
        "dev_path = (path2/'data/v1/dev')\n",
        "# audios = get_files(dev_path)\n",
        "class AudioList(ItemList):\n",
        "    @classmethod\n",
        "    def from_files(cls, path, extensions = None, recurse=True, include=None, **kwargs):\n",
        "        return cls(get_files(path, extensions, recurse=recurse, include=include), path, **kwargs)\n",
        "    \n",
        "    def get(self, fn):\n",
        "        return torch.load(fn)\n",
        "        \n",
        "al=AudioList.from_files(dev_path, tfms=tfms)"
      ],
      "metadata": {
        "id": "oCUc5zUWQO1_"
      },
      "execution_count": 56,
      "outputs": []
    },
    {
      "cell_type": "code",
      "source": [
        "testset=torch.cat([al[idx] for idx, _ in enumerate(al.items)], dim=0)\n",
        "testset.shape"
      ],
      "metadata": {
        "id": "LiU6rB89jeDW",
        "outputId": "dcb35f0b-f15d-40c8-ac9f-77e059839d2d",
        "colab": {
          "base_uri": "https://localhost:8080/"
        }
      },
      "execution_count": 58,
      "outputs": [
        {
          "output_type": "execute_result",
          "data": {
            "text/plain": [
              "torch.Size([3342, 26, 250])"
            ]
          },
          "metadata": {},
          "execution_count": 58
        }
      ]
    },
    {
      "cell_type": "code",
      "source": [
        "def get_predictions(learn, dev):\n",
        "    test_n = dev.shape[0]\n",
        "    learn.model.eval()\n",
        "    res = []\n",
        "    with torch.no_grad():        \n",
        "        for i in range((test_n-1)//bs + 1):\n",
        "            xb = dev[i*bs:(i+1)*bs]\n",
        "            out = learn.model(xb)\n",
        "            res += [o.item() for o in out.argmax(1)]\n",
        "    return res"
      ],
      "metadata": {
        "id": "WpHqRqexU_Q-"
      },
      "execution_count": 108,
      "outputs": []
    },
    {
      "cell_type": "code",
      "source": [
        "res = get_predictions(learn, testset.unsqueeze(1))"
      ],
      "metadata": {
        "id": "qXtq3XJ_nJIL"
      },
      "execution_count": 109,
      "outputs": []
    },
    {
      "cell_type": "code",
      "source": [
        "len(res)"
      ],
      "metadata": {
        "id": "eQ0naIkkp31-",
        "outputId": "7fed0606-d712-4e3f-83a7-c216c7e72e28",
        "colab": {
          "base_uri": "https://localhost:8080/"
        }
      },
      "execution_count": 110,
      "outputs": [
        {
          "output_type": "execute_result",
          "data": {
            "text/plain": [
              "3342"
            ]
          },
          "metadata": {},
          "execution_count": 110
        }
      ]
    },
    {
      "cell_type": "code",
      "source": [
        "ser_path  =Path(\"/gdrive/Shareddrives/Dion-Account/2122WS/8-dl4slp/coding-project/ser/\")"
      ],
      "metadata": {
        "id": "wg63QQi_rk3Q"
      },
      "execution_count": 95,
      "outputs": []
    },
    {
      "cell_type": "code",
      "source": [
        "(ser_path).exists()"
      ],
      "metadata": {
        "id": "Cd9NjYLYrnxm",
        "outputId": "c8a38f94-6efb-42ec-835d-2613b2bcdaaa",
        "colab": {
          "base_uri": "https://localhost:8080/"
        }
      },
      "execution_count": 116,
      "outputs": [
        {
          "output_type": "execute_result",
          "data": {
            "text/plain": [
              "True"
            ]
          },
          "metadata": {},
          "execution_count": 116
        }
      ]
    },
    {
      "cell_type": "code",
      "source": [
        "import json\n",
        "with open(ser_path/'data/v0/ser-dev.json') as f: dev_json = json.load(f)"
      ],
      "metadata": {
        "id": "s_ObGSLwrTv1"
      },
      "execution_count": 100,
      "outputs": []
    },
    {
      "cell_type": "code",
      "source": [
        "len(dev_json)"
      ],
      "metadata": {
        "id": "EbTjhj_wr8hd",
        "outputId": "49545311-86d4-4f94-9cc6-138062c63166",
        "colab": {
          "base_uri": "https://localhost:8080/"
        }
      },
      "execution_count": 101,
      "outputs": [
        {
          "output_type": "execute_result",
          "data": {
            "text/plain": [
              "3342"
            ]
          },
          "metadata": {},
          "execution_count": 101
        }
      ]
    },
    {
      "cell_type": "code",
      "source": [
        "(ser_path/'checkpoints').ls()"
      ],
      "metadata": {
        "id": "Xh47gV_z4CQc",
        "outputId": "39206531-4cd4-4d9b-dd89-8ea642e6629b",
        "colab": {
          "base_uri": "https://localhost:8080/"
        }
      },
      "execution_count": 155,
      "outputs": [
        {
          "output_type": "execute_result",
          "data": {
            "text/plain": [
              "[PosixPath('/gdrive/Shareddrives/Dion-Account/2122WS/8-dl4slp/coding-project/ser/checkpoints/v2.1.pkl'),\n",
              " PosixPath('/gdrive/Shareddrives/Dion-Account/2122WS/8-dl4slp/coding-project/ser/checkpoints/.ipynb_checkpoints'),\n",
              " PosixPath('/gdrive/Shareddrives/Dion-Account/2122WS/8-dl4slp/coding-project/ser/checkpoints/xtesnet34-20epochs.pt'),\n",
              " PosixPath('/gdrive/Shareddrives/Dion-Account/2122WS/8-dl4slp/coding-project/ser/checkpoints/xtesnet50-20epochs-f1:0.698.pt')]"
            ]
          },
          "metadata": {},
          "execution_count": 155
        }
      ]
    },
    {
      "cell_type": "code",
      "source": [
        "!cp '/content/checkpoints/xtesnet50-20epochs-698f1score.pt' /gdrive/Shareddrives/Dion-Account/2122WS/8-dl4slp/coding-project/ser/checkpoints"
      ],
      "metadata": {
        "id": "G588q6X-qr-O",
        "outputId": "17174e68-4134-4f1b-a10c-09d5cd5de082",
        "colab": {
          "base_uri": "https://localhost:8080/"
        }
      },
      "execution_count": 156,
      "outputs": [
        {
          "output_type": "stream",
          "name": "stdout",
          "text": [
            "cp: cannot stat '/content/checkpoints/xtesnet50-20epochs-698f1score.pt': No such file or directory\n"
          ]
        }
      ]
    },
    {
      "cell_type": "markdown",
      "source": [
        "---"
      ],
      "metadata": {
        "id": "js1RQZDgwsy-"
      }
    },
    {
      "cell_type": "markdown",
      "source": [
        "# Converting the format"
      ],
      "metadata": {
        "id": "pMg0PQnQyFVO"
      }
    },
    {
      "cell_type": "code",
      "source": [
        "def get_serial(): return ''.join(str(i) for i in np.random.randint(0, 9, 10).tolist())"
      ],
      "metadata": {
        "id": "4jAQgrB1zgGw"
      },
      "execution_count": 137,
      "outputs": []
    },
    {
      "cell_type": "code",
      "source": [
        "my_serial = get_serial()"
      ],
      "metadata": {
        "id": "8TZ_0_gR11rc"
      },
      "execution_count": 138,
      "outputs": []
    },
    {
      "cell_type": "code",
      "source": [
        "label_dicts = {0:(1, 1), 1:(0, 0), 2:(1,0), 3:(0, 1)}"
      ],
      "metadata": {
        "id": "hJPtSmBczdlW"
      },
      "execution_count": 130,
      "outputs": []
    },
    {
      "cell_type": "code",
      "source": [
        "res_dict = {str(i): label_dicts[o] for i, o in enumerate(res)}"
      ],
      "metadata": {
        "id": "2LGwHTAR0PgA"
      },
      "execution_count": 132,
      "outputs": []
    }
  ]
}