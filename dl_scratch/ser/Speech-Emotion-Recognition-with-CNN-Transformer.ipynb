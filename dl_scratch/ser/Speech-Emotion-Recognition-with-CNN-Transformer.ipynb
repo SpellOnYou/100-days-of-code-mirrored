{
  "nbformat": 4,
  "nbformat_minor": 0,
  "metadata": {
    "colab": {
      "name": "pooling.ipynb",
      "provenance": [],
      "collapsed_sections": []
    },
    "kernelspec": {
      "name": "python3",
      "display_name": "Python 3"
    },
    "language_info": {
      "name": "python"
    },
    "accelerator": "GPU"
  },
  "cells": [
    {
      "cell_type": "markdown",
      "source": [
        "# Speech Emotion Recognition with `CNN + Transformer`\n",
        "\n",
        "- The major architecture of this model is motivated by this paper [Self-attention for Speech Emotion Recognition](https://publications.idiap.ch/attachments/papers/2019/Tarantino_INTERSPEECH_2019.pdf)\n",
        "\n",
        "- This is my individual notebook to understand transformer and speech emotion recognition task."
      ],
      "metadata": {
        "id": "7kPMSMvg_d-B"
      }
    },
    {
      "cell_type": "code",
      "source": [
        "from google.colab import drive\n",
        "drive.mount('/gdrive')\n",
        "from pathlib import Path\n",
        "drive_path = Path('/gdrive/Shareddrives/Dion-Account/2122WS/4-dl4slp/coding-project/ser/')"
      ],
      "metadata": {
        "id": "4bMB_Fg6l4ub",
        "outputId": "ad0967de-0363-4e1d-f4b0-9de71afa2573",
        "colab": {
          "base_uri": "https://localhost:8080/"
        }
      },
      "execution_count": 1,
      "outputs": [
        {
          "output_type": "stream",
          "name": "stdout",
          "text": [
            "Mounted at /gdrive\n"
          ]
        }
      ]
    },
    {
      "cell_type": "code",
      "source": [
        "from exp.nb_08 import *"
      ],
      "metadata": {
        "id": "dK23Yp19bAT_"
      },
      "execution_count": 2,
      "outputs": []
    },
    {
      "cell_type": "code",
      "source": [
        "drive_data_path = drive_path/'data/v1'\n",
        "(drive_data_path).ls()"
      ],
      "metadata": {
        "id": "xw7rlEPZpuNv",
        "outputId": "9827bdfe-5048-42eb-8615-cf6d88b86b78",
        "colab": {
          "base_uri": "https://localhost:8080/"
        }
      },
      "execution_count": 3,
      "outputs": [
        {
          "output_type": "execute_result",
          "data": {
            "text/plain": [
              "[PosixPath('/gdrive/Shareddrives/Dion-Account/2122WS/4-dl4slp/coding-project/ser/data/v1/train'),\n",
              " PosixPath('/gdrive/Shareddrives/Dion-Account/2122WS/4-dl4slp/coding-project/ser/data/v1/dev'),\n",
              " PosixPath('/gdrive/Shareddrives/Dion-Account/2122WS/4-dl4slp/coding-project/ser/data/v1/ser.tar-v1.gz')]"
            ]
          },
          "metadata": {},
          "execution_count": 3
        }
      ]
    },
    {
      "cell_type": "code",
      "source": [
        "class ItemList(ListContainer):\n",
        "    def __init__(self, items, path='.', tfms=None):\n",
        "        super().__init__(items)\n",
        "        self.path,self.tfms = Path(path),tfms\n",
        "\n",
        "    def __repr__(self): return f'{super().__repr__()}\\nPath: {self.path}'\n",
        "\n",
        "    def new(self, items, cls=None):\n",
        "        if cls is None: cls=self.__class__\n",
        "        return cls(items, self.path, tfms=self.tfms)\n",
        "\n",
        "    def  get(self, i): return i\n",
        "    def _get(self, i): return compose(self.get(i), self.tfms)\n",
        "\n",
        "    def __getitem__(self, idx):\n",
        "        res = super().__getitem__(idx)\n",
        "        if isinstance(res,list): return [self._get(o) for o in res]\n",
        "        return self._get(res)\n"
      ],
      "metadata": {
        "id": "G7UTFPBDeSRS"
      },
      "execution_count": 4,
      "outputs": []
    },
    {
      "cell_type": "code",
      "source": [
        "class AudioList(ItemList):\n",
        "    @classmethod\n",
        "    def from_files(cls, path, extensions = None, recurse=True, include=None, **kwargs):\n",
        "        return cls(get_files(path, extensions, recurse=recurse, include=include), path, **kwargs)\n",
        "    \n",
        "    def get(self, fn):\n",
        "        return torch.load(fn)\n",
        "\n",
        "class Reshape():\n",
        "    \"transpose to [n_features, n_frames]\"\n",
        "    _order=12\n",
        "    def __call__(self, item):\n",
        "        w, h = item.shape\n",
        "        return item.view(h, w)\n",
        "\n",
        "class DummyChannel():\n",
        "    \"insert pseudo axis in height [n_features, 1, n_frames]\"\n",
        "    _order = 30\n",
        "    def __call__(self, item):\n",
        "        return item.unsqueeze(1)\n",
        "\n",
        "def re_labeler(fn, pat, subcl='act'):\n",
        "    assert subcl in ['act', 'val', 'all']\n",
        "    if subcl=='all': return tuple(int(i) for i in re.findall(pat, str(fn)))\n",
        "    else:\n",
        "        return re.findall(pat, str(fn))[0] if pat == 'act' else re.findall(pat, str(fn))[1]\n"
      ],
      "metadata": {
        "id": "PHB8bfNz-KiH"
      },
      "execution_count": 5,
      "outputs": []
    },
    {
      "cell_type": "code",
      "source": [
        "import random\n",
        "def random_splitter(fn, p_valid): return random.random() < p_valid"
      ],
      "metadata": {
        "id": "s72NONpGdFf0"
      },
      "execution_count": 6,
      "outputs": []
    },
    {
      "cell_type": "code",
      "source": [
        "class CategoryProcessor(Processor):\n",
        "    \"convert string to float, which was retrieved from the file name\"\n",
        "    def __init__(self): self.vocab=None\n",
        "\n",
        "    def __call__(self, items):\n",
        "        #The vocab is defined on the first use.\n",
        "        if self.vocab is None:\n",
        "            # set_trace()\n",
        "            self.vocab = uniqueify(items)\n",
        "            # self.otoi  = {v:k for k,v in enumerate(self.vocab)}\n",
        "        return [torch.tensor(o).float() for o in items]\n",
        "    def proc1(self, item):  return self.otoi[item]\n",
        "\n",
        "    def deprocess(self, idxs):\n",
        "        assert self.vocab is not None\n",
        "        return [self.deproc1(idx) for idx in idxs]\n",
        "    def deproc1(self, idx): return self.vocab[idx]\n"
      ],
      "metadata": {
        "id": "Lo9Q2I_gfl-_"
      },
      "execution_count": 7,
      "outputs": []
    },
    {
      "cell_type": "code",
      "source": [
        "def _get_files(p, fs, extensions=None):\n",
        "    p = Path(p)\n",
        "    res = [p/f for f in fs if not f.startswith('.')\n",
        "        #    and '_0_0' in f\n",
        "           and ((not extensions) or f'.{f.split(\".\")[-1].lower()}' in extensions)]\n",
        "    return res\n",
        "\n",
        "def get_files(path, extensions=None, recurse=False, include=None):\n",
        "    path = Path(path)\n",
        "    extensions = setify(extensions)\n",
        "    extensions = {e.lower() for e in extensions}\n",
        "    if recurse:\n",
        "        res = []\n",
        "        for i,(p,d,f) in enumerate(os.walk(path)): # returns (dirpath, dirnames, filenames)\n",
        "            if include is not None and i==0: d[:] = [o for o in d if o in include]\n",
        "            else:                            d[:] = [o for o in d if not o.startswith('.')]\n",
        "            res += _get_files(p, f, extensions)\n",
        "        return res\n",
        "    else:\n",
        "        f = [o.name for o in os.scandir(path) if o.is_file()]\n",
        "        return _get_files(path, f, extensions)"
      ],
      "metadata": {
        "id": "Jb_86tKdlyYU"
      },
      "execution_count": 8,
      "outputs": []
    },
    {
      "cell_type": "code",
      "source": [
        "def get_dls(train_ds, valid_ds, bs, **kwargs):\n",
        "    return (DataLoader(train_ds, batch_size=bs, shuffle=True, **kwargs),\n",
        "            DataLoader(valid_ds, batch_size=bs, **kwargs))"
      ],
      "metadata": {
        "id": "npt7ZXfs59Yo"
      },
      "execution_count": 9,
      "outputs": []
    },
    {
      "cell_type": "code",
      "source": [
        "train_path = drive_data_path/'train'\n",
        "tfms = [Reshape(), DummyChannel()]\n",
        "al=AudioList.from_files(train_path, tfms=tfms)"
      ],
      "metadata": {
        "id": "V1-WeGWbceda"
      },
      "execution_count": 10,
      "outputs": []
    },
    {
      "cell_type": "code",
      "source": [
        "al[0].shape, al.items.__len__()"
      ],
      "metadata": {
        "colab": {
          "base_uri": "https://localhost:8080/"
        },
        "id": "BzgHtq8lcpwG",
        "outputId": "23903229-7195-4ae3-802d-265eabe4e0d7"
      },
      "execution_count": 11,
      "outputs": [
        {
          "output_type": "execute_result",
          "data": {
            "text/plain": [
              "(torch.Size([26, 1, 614]), 7800)"
            ]
          },
          "metadata": {},
          "execution_count": 11
        }
      ]
    },
    {
      "cell_type": "code",
      "source": [
        "def databunchify(sd, bs, c_in=None, c_out=None, **kwargs):\n",
        "    dls = get_dls(sd.train, sd.valid, bs, **kwargs)\n",
        "    return DataBunch(*dls, c_in=c_in, c_out=c_out)\n",
        "\n",
        "SplitData.to_databunch = databunchify"
      ],
      "metadata": {
        "id": "ucopmUtS6Wet"
      },
      "execution_count": 12,
      "outputs": []
    },
    {
      "cell_type": "code",
      "source": [
        "label_pat = r'_(\\d+)'\n",
        "emotion_labeler = partial(re_labeler, pat=label_pat, subcl='all')\n",
        "sd = SplitData.split_by_func(al, partial(random_splitter, p_valid=0.00))\n",
        "ll = label_by_func(sd, emotion_labeler, proc_y=CategoryProcessor())"
      ],
      "metadata": {
        "id": "7t-IrdLscir_"
      },
      "execution_count": 13,
      "outputs": []
    },
    {
      "cell_type": "code",
      "source": [
        "ll.train.y"
      ],
      "metadata": {
        "colab": {
          "base_uri": "https://localhost:8080/"
        },
        "id": "QbBLDyZkc4Rt",
        "outputId": "21fded91-e594-4ed6-b906-3e4ae16d5b28"
      },
      "execution_count": 14,
      "outputs": [
        {
          "output_type": "execute_result",
          "data": {
            "text/plain": [
              "ItemList (7800 items)\n",
              "[tensor([1., 1.]), tensor([0., 0.]), tensor([0., 0.]), tensor([1., 0.]), tensor([1., 1.]), tensor([1., 0.]), tensor([1., 1.]), tensor([1., 0.]), tensor([1., 0.]), tensor([1., 1.])...]\n",
              "Path: /gdrive/Shareddrives/Dion-Account/2122WS/4-dl4slp/coding-project/ser/data/v1/train"
            ]
          },
          "metadata": {},
          "execution_count": 14
        }
      ]
    },
    {
      "cell_type": "code",
      "source": [
        "bs=1"
      ],
      "metadata": {
        "id": "5oN7RbWZCeb6"
      },
      "execution_count": 15,
      "outputs": []
    },
    {
      "cell_type": "code",
      "source": [
        "c_in = ll.train[0][0].shape[0]\n",
        "c_out = 2\n",
        "data = ll.to_databunch(bs,c_in=c_in,c_out=c_out)"
      ],
      "metadata": {
        "id": "DAO3200FesZw"
      },
      "execution_count": 16,
      "outputs": []
    },
    {
      "cell_type": "code",
      "source": [
        "data.train_dl.batch_size, data.valid_dl.batch_size"
      ],
      "metadata": {
        "id": "UDN3bG_o5Zh_",
        "outputId": "d5b7a704-0f72-4140-e0ab-e6445256d05e",
        "colab": {
          "base_uri": "https://localhost:8080/"
        }
      },
      "execution_count": 17,
      "outputs": [
        {
          "output_type": "execute_result",
          "data": {
            "text/plain": [
              "(1, 1)"
            ]
          },
          "metadata": {},
          "execution_count": 17
        }
      ]
    },
    {
      "cell_type": "code",
      "source": [
        "data.c_in, data.c_out"
      ],
      "metadata": {
        "colab": {
          "base_uri": "https://localhost:8080/"
        },
        "id": "SJ5YJvE6e5KW",
        "outputId": "86a164a8-5fc3-4a8f-c71b-9ed9bc9faf1c"
      },
      "execution_count": 18,
      "outputs": [
        {
          "output_type": "execute_result",
          "data": {
            "text/plain": [
              "(26, 2)"
            ]
          },
          "metadata": {},
          "execution_count": 18
        }
      ]
    },
    {
      "cell_type": "code",
      "source": [
        "xb, yb = next(iter(data.train_dl))"
      ],
      "metadata": {
        "id": "9DmN6vGxe8_o"
      },
      "execution_count": 19,
      "outputs": []
    },
    {
      "cell_type": "code",
      "source": [
        "xb.shape"
      ],
      "metadata": {
        "id": "SCtBT8F5892Y",
        "outputId": "27a0d6e6-b11a-4c7d-87c6-e06b28d9cfd3",
        "colab": {
          "base_uri": "https://localhost:8080/"
        }
      },
      "execution_count": 20,
      "outputs": [
        {
          "output_type": "execute_result",
          "data": {
            "text/plain": [
              "torch.Size([1, 26, 1, 736])"
            ]
          },
          "metadata": {},
          "execution_count": 20
        }
      ]
    },
    {
      "cell_type": "code",
      "source": [
        "yb"
      ],
      "metadata": {
        "id": "Y4bcsqEw8-pV",
        "outputId": "3405004b-7868-4dcb-c72e-c986102a57d8",
        "colab": {
          "base_uri": "https://localhost:8080/"
        }
      },
      "execution_count": 21,
      "outputs": [
        {
          "output_type": "execute_result",
          "data": {
            "text/plain": [
              "tensor([[1., 1.]])"
            ]
          },
          "metadata": {},
          "execution_count": 21
        }
      ]
    },
    {
      "cell_type": "markdown",
      "source": [
        "## Investigate label distribution"
      ],
      "metadata": {
        "id": "pa4YQhtFECd2"
      }
    },
    {
      "cell_type": "markdown",
      "source": [
        "![](https://www.researchgate.net/profile/Lung-Hao-Lee-2/publication/304124018/figure/fig1/AS:374864755085312@1466386130906/Two-dimensional-valence-arousal-space.png)"
      ],
      "metadata": {
        "id": "nKxwP1x0EFWc"
      }
    },
    {
      "cell_type": "code",
      "source": [
        "from collections import Counter\n",
        "Counter(str(i.tolist()) for i in data.train_ds.y)"
      ],
      "metadata": {
        "id": "7a2ObaN1CIIr",
        "outputId": "0de60ea5-496f-4ca8-b857-35368d3f2996",
        "colab": {
          "base_uri": "https://localhost:8080/"
        }
      },
      "execution_count": null,
      "outputs": [
        {
          "output_type": "execute_result",
          "data": {
            "text/plain": [
              "Counter({'[0.0, 0.0]': 1240,\n",
              "         '[0.0, 1.0]': 1023,\n",
              "         '[1.0, 0.0]': 3194,\n",
              "         '[1.0, 1.0]': 2343})"
            ]
          },
          "metadata": {},
          "execution_count": 40
        }
      ]
    },
    {
      "cell_type": "markdown",
      "source": [
        "## Model"
      ],
      "metadata": {
        "id": "EsHcnnmQlGo7"
      }
    },
    {
      "cell_type": "code",
      "source": [
        "#@title\n",
        "class RunningBatchNorm(nn.Module):\n",
        "    def __init__(self, nf, mom=0.1, eps=1e-5):\n",
        "        super().__init__()\n",
        "        self.mom, self.eps = mom, eps\n",
        "        self.mults = nn.Parameter(torch.ones (nf,1,1))\n",
        "        self.adds  = nn.Parameter(torch.zeros(nf,1,1))\n",
        "        self.register_buffer('sums', torch.zeros(1,nf,1,1))\n",
        "        self.register_buffer('sqrs', torch.zeros(1,nf,1,1))\n",
        "        self.register_buffer('count', tensor(0.))\n",
        "        self.register_buffer('factor', tensor(0.))\n",
        "        self.register_buffer('offset', tensor(0.))\n",
        "        self.batch = 0\n",
        "\n",
        "    def update_stats(self, x):\n",
        "        bs,nc,*_ = x.shape\n",
        "        self.sums.detach_()\n",
        "        self.sqrs.detach_()\n",
        "        dims = (0,2,3)\n",
        "        s    = x    .sum(dims, keepdim=True)\n",
        "        ss   = (x*x).sum(dims, keepdim=True)\n",
        "        c    = s.new_tensor(x.numel()/nc)\n",
        "        mom1 = s.new_tensor(1 - (1-self.mom)/math.sqrt(bs-1))\n",
        "        self.sums .lerp_(s , mom1)\n",
        "        self.sqrs .lerp_(ss, mom1)\n",
        "        self.count.lerp_(c , mom1)\n",
        "        self.batch += bs\n",
        "        means = self.sums/self.count\n",
        "        varns = (self.sqrs/self.count).sub_(means*means)\n",
        "        if bool(self.batch < 20): varns.clamp_min_(0.01)\n",
        "        self.factor = self.mults / (varns+self.eps).sqrt()\n",
        "        self.offset = self.adds - means*self.factor\n",
        "\n",
        "    def forward(self, x):\n",
        "        if self.training: self.update_stats(x)\n",
        "        return x*self.factor + self.offset"
      ],
      "metadata": {
        "id": "WwIGJW5fs54s",
        "cellView": "form"
      },
      "execution_count": null,
      "outputs": []
    },
    {
      "cell_type": "code",
      "source": [
        "class Optimizer():\n",
        "    def __init__(self, params, steppers, **defaults):\n",
        "        self.steppers = listify(steppers)\n",
        "        maybe_update(self.steppers, defaults, get_defaults)\n",
        "        # might be a generator\n",
        "        self.param_groups = list(params)\n",
        "        # ensure params is a list of lists\n",
        "        if not isinstance(self.param_groups[0], list): self.param_groups = [self.param_groups]\n",
        "        self.hypers = [{**defaults} for p in self.param_groups]\n",
        "\n",
        "    def grad_params(self):\n",
        "        return [(p,hyper) for pg,hyper in zip(self.param_groups,self.hypers)\n",
        "            for p in pg if p.grad is not None]\n",
        "\n",
        "    def zero_grad(self):\n",
        "        for p,hyper in self.grad_params():\n",
        "            p.grad.detach_()\n",
        "            p.grad.zero_()\n",
        "\n",
        "    def step(self):\n",
        "        for p,hyper in self.grad_params(): compose(p, self.steppers, **hyper)\n",
        "def maybe_update(os, dest, f):\n",
        "    for o in os:\n",
        "        for k,v in f(o).items():\n",
        "            if k not in dest: dest[k] = v\n",
        "\n",
        "class Stat():\n",
        "    _defaults = {}\n",
        "    def init_state(self, p): raise NotImplementedError\n",
        "    def update(self, p, state, **kwargs): raise NotImplementedError\n",
        "\n",
        "class AverageGrad(Stat):\n",
        "    _defaults = dict(mom=0.9)\n",
        "\n",
        "    def __init__(self, dampening:bool=False): self.dampening=dampening\n",
        "    def init_state(self, p): return {'grad_avg': torch.zeros_like(p.grad.data)}\n",
        "    def update(self, p, state, mom, **kwargs):\n",
        "        state['mom_damp'] = 1-mom if self.dampening else 1.\n",
        "        state['grad_avg'].mul_(mom).add_(state['mom_damp'], p.grad.data)\n",
        "        return state\n",
        "\n",
        "class AverageSqrGrad(Stat):\n",
        "    _defaults = dict(sqr_mom=0.99)\n",
        "\n",
        "    def __init__(self, dampening:bool=True): self.dampening=dampening\n",
        "    def init_state(self, p): return {'sqr_avg': torch.zeros_like(p.grad.data)}\n",
        "    def update(self, p, state, sqr_mom, **kwargs):\n",
        "        state['sqr_damp'] = 1-sqr_mom if self.dampening else 1.\n",
        "        state['sqr_avg'].mul_(sqr_mom).addcmul_(state['sqr_damp'], p.grad.data, p.grad.data)\n",
        "        return state\n",
        "\n",
        "class StepCount(Stat):\n",
        "    def init_state(self, p): return {'step': 0}\n",
        "    def update(self, p, state, **kwargs):\n",
        "        state['step'] += 1\n",
        "        return state\n",
        "\n",
        "def debias(mom, damp, step): return damp * (1 - mom**step) / (1-mom)\n",
        "\n",
        "class StatefulOptimizer(Optimizer):\n",
        "    def __init__(self, params, steppers, stats=None, **defaults):\n",
        "        self.stats = listify(stats)\n",
        "        maybe_update(self.stats, defaults, get_defaults)\n",
        "        super().__init__(params, steppers, **defaults)\n",
        "        self.state = {}\n",
        "\n",
        "    def step(self):\n",
        "        for p,hyper in self.grad_params():\n",
        "            if p not in self.state:\n",
        "                #Create a state for p and call all the statistics to initialize it.\n",
        "                self.state[p] = {}\n",
        "                maybe_update(self.stats, self.state[p], lambda o: o.init_state(p))\n",
        "            state = self.state[p]\n",
        "            for stat in self.stats: state = stat.update(p, state, **hyper)\n",
        "            compose(p, self.steppers, **state, **hyper)\n",
        "            self.state[p] = state\n",
        "\n",
        "def adam_step(p, lr, mom, mom_damp, step, sqr_mom, sqr_damp, grad_avg, sqr_avg, eps, **kwargs):\n",
        "    debias1 = debias(mom,     mom_damp, step)\n",
        "    debias2 = debias(sqr_mom, sqr_damp, step)\n",
        "    p.data.addcdiv_(-lr / debias1, grad_avg, (sqr_avg/debias2).sqrt() + eps)\n",
        "    return p\n",
        "adam_step._defaults = dict(eps=1e-5)\n",
        "\n",
        "def weight_decay(p, lr, wd, **kwargs):\n",
        "    p.data.mul_(1 - lr*wd)\n",
        "    return p\n",
        "weight_decay._defaults = dict(wd=0.)\n",
        "\n",
        "def adam_opt(xtra_step=None, **kwargs):\n",
        "    return partial(StatefulOptimizer, steppers=[adam_step,weight_decay]+listify(xtra_step),\n",
        "                   stats=[AverageGrad(dampening=True), AverageSqrGrad(), StepCount()], **kwargs)\n",
        "    \n",
        "opt_func = adam_opt(mom=0.9, mom_sqr=0.99, eps=1e-6, wd=1e-1, )    "
      ],
      "metadata": {
        "id": "M1yJTG9lji3X"
      },
      "execution_count": 22,
      "outputs": []
    },
    {
      "cell_type": "code",
      "source": [
        "def get_defaults(d): return getattr(d,'_defaults',{})"
      ],
      "metadata": {
        "id": "bzPopnue3D0t"
      },
      "execution_count": 23,
      "outputs": []
    },
    {
      "cell_type": "code",
      "source": [
        "class Callback():\n",
        "    _order=0\n",
        "    def set_runner(self, run): self.run=run\n",
        "    def __getattr__(self, k): return getattr(self.run, k)\n",
        "\n",
        "    @property\n",
        "    def name(self):\n",
        "        name = re.sub(r'Callback$', '', self.__class__.__name__)\n",
        "        return camel2snake(name or 'callback')\n",
        "\n",
        "    def __call__(self, cb_name):\n",
        "        f = getattr(self, cb_name, None)\n",
        "        if f and f(): return True\n",
        "        return False\n",
        "\n",
        "class TrainEvalCallback(Callback):\n",
        "    def begin_fit(self):\n",
        "        self.run.n_epochs=0.\n",
        "        self.run.n_iter=0\n",
        "\n",
        "    def after_batch(self):\n",
        "        if not self.in_train: return\n",
        "        self.run.n_epochs += 1./self.iters\n",
        "        self.run.n_iter   += 1\n",
        "\n",
        "    def begin_epoch(self):\n",
        "        self.run.n_epochs=self.epoch\n",
        "        self.model.train()\n",
        "        self.run.in_train=True\n",
        "\n",
        "    def begin_validate(self):\n",
        "        self.model.eval()\n",
        "        self.run.in_train=False\n",
        "\n",
        "class CancelTrainException(Exception): pass\n",
        "class CancelEpochException(Exception): pass\n",
        "class CancelBatchException(Exception): pass\n",
        "\n",
        "class Runner():\n",
        "    def __init__(self, cbs=None, cb_funcs=None):\n",
        "        self.in_train = False\n",
        "        cbs = listify(cbs)\n",
        "        for cbf in listify(cb_funcs):\n",
        "            cb = cbf()\n",
        "            setattr(self, cb.name, cb)\n",
        "            cbs.append(cb)\n",
        "        self.stop,self.cbs = False,[TrainEvalCallback()]+cbs\n",
        "\n",
        "    @property\n",
        "    def opt(self):       return self.learn.opt\n",
        "    @property\n",
        "    def model(self):     return self.learn.model\n",
        "    @property\n",
        "    def loss_func(self): return self.learn.loss_func\n",
        "    @property\n",
        "    def data(self):      return self.learn.data\n",
        "\n",
        "    def one_batch(self, xb, yb):\n",
        "        try:\n",
        "            self.xb,self.yb = xb,yb\n",
        "            self('begin_batch')\n",
        "            # print(self.xb.shape)\n",
        "            self.pred = self.model(self.xb)\n",
        "            self('after_pred')\n",
        "            # print(self.pred.shape, self.yb.shape)\n",
        "            self.loss = self.loss_func(self.pred, self.yb)\n",
        "            self('after_loss')\n",
        "            if not self.in_train: return\n",
        "            self.loss.backward()\n",
        "            self('after_backward')\n",
        "            self.opt.step()\n",
        "            self('after_step')\n",
        "            self.opt.zero_grad()\n",
        "        except CancelBatchException: self('after_cancel_batch')\n",
        "        finally: self('after_batch')\n",
        "\n",
        "    def all_batches(self, dl):\n",
        "        self.iters = len(dl)\n",
        "        try:\n",
        "            for xb,yb in dl: self.one_batch(xb, yb)\n",
        "        except CancelEpochException: self('after_cancel_epoch')\n",
        "\n",
        "    def fit(self, epochs, learn):\n",
        "        self.epochs,self.learn,self.loss = epochs,learn,tensor(0.)\n",
        "\n",
        "        try:\n",
        "            for cb in self.cbs: cb.set_runner(self)\n",
        "            self('begin_fit')\n",
        "            for epoch in range(epochs):\n",
        "                self.epoch = epoch\n",
        "                if not self('begin_epoch'): self.all_batches(self.data.train_dl)\n",
        "\n",
        "                with torch.no_grad():\n",
        "                    if not self('begin_validate'): self.all_batches(self.data.valid_dl)\n",
        "                self('after_epoch')\n",
        "\n",
        "        except CancelTrainException: self('after_cancel_train')\n",
        "        finally:\n",
        "            self('after_fit')\n",
        "            self.learn = None\n",
        "\n",
        "    def __call__(self, cb_name):\n",
        "        res = False\n",
        "        for cb in sorted(self.cbs, key=lambda x: x._order):\n",
        "            # print(cb_name, cb)\n",
        "            res = cb(cb_name) and res\n",
        "        return res\n",
        "\n",
        "class AvgStatsCallback(Callback):\n",
        "    def __init__(self, metrics):\n",
        "        self.train_stats,self.valid_stats = AvgStats(metrics,True),AvgStats(metrics,False)\n",
        "\n",
        "    def begin_epoch(self):\n",
        "        self.train_stats.reset()\n",
        "        self.valid_stats.reset()\n",
        "\n",
        "    def after_loss(self):\n",
        "        stats = self.train_stats if self.in_train else self.valid_stats\n",
        "        with torch.no_grad(): stats.accumulate(self.run)\n",
        "        # print stats based on thousand iteration\n",
        "        if (self.run.n_iter % 1000) ==0:\n",
        "            print(f\"iteration: {self.run.n_iter}, accuracy:  {self.train_stats}\")\n",
        "    def after_epoch(self):\n",
        "        print(f\"epoch {self.run.n_epochs} done!\")\n",
        "\n",
        "class Recorder(Callback):\n",
        "    def begin_fit(self): self.lrs,self.losses = [],[]\n",
        "    def after_batch(self):\n",
        "        if not self.in_train: return\n",
        "        self.lrs.append(self.opt.hypers[-1]['lr'])\n",
        "        self.losses.append(self.loss.detach().cpu())\n",
        "\n",
        "    def plot_lr  (self): plt.plot(self.lrs)\n",
        "    def plot_loss(self): plt.plot(self.losses)\n",
        "\n",
        "    def plot(self, skip_last=0):\n",
        "        losses = [o.item() for o in self.losses]\n",
        "        n = len(losses)-skip_last\n",
        "        plt.xscale('log')\n",
        "        plt.plot(self.lrs[:n], losses[:n])\n",
        "\n",
        "class ParamScheduler(Callback):\n",
        "    _order=1\n",
        "    def __init__(self, pname, sched_funcs):\n",
        "        self.pname,self.sched_funcs = pname,listify(sched_funcs)\n",
        "\n",
        "    def begin_batch(self):\n",
        "        if not self.in_train: return\n",
        "        fs = self.sched_funcs\n",
        "        if len(fs)==1: fs = fs*len(self.opt.param_groups)\n",
        "        pos = self.n_epochs/self.epochs\n",
        "        for f,h in zip(fs,self.opt.hypers): h[self.pname] = f(pos)\n",
        "\n",
        "class LR_Find(Callback):\n",
        "    _order=1\n",
        "    def __init__(self, max_iter=100, min_lr=1e-6, max_lr=10):\n",
        "        self.max_iter,self.min_lr,self.max_lr = max_iter,min_lr,max_lr\n",
        "        self.best_loss = 1e9\n",
        "\n",
        "    def begin_batch(self):\n",
        "        if not self.in_train: return\n",
        "        pos = self.n_iter/self.max_iter\n",
        "        lr = self.min_lr * (self.max_lr/self.min_lr) ** pos\n",
        "        for pg in self.opt.hypers: pg['lr'] = lr\n",
        "\n",
        "    def after_step(self):\n",
        "        if self.n_iter>=self.max_iter or self.loss>self.best_loss*10:\n",
        "            raise CancelTrainException()\n",
        "        if self.loss < self.best_loss: self.best_loss = self.loss\n",
        "\n",
        "def get_runner(model, data, lr=0.6, cbs=None, opt_func=None, loss_func = F.cross_entropy):\n",
        "    if opt_func is None: opt_func = optim.SGD\n",
        "    opt = opt_func(model.parameters(), lr=lr)\n",
        "    learn = Learner(model, opt, loss_func, data)\n",
        "    return learn, Runner(cb_funcs=listify(cbs))"
      ],
      "metadata": {
        "id": "Ds8HJcRt4Xv6"
      },
      "execution_count": 25,
      "outputs": []
    },
    {
      "cell_type": "code",
      "source": [
        "class Flatten(nn.Module):\n",
        "    \"remove last (pooled) dimension and reshape tensor tp (seq_len x d_model)\"\n",
        "    def __init__(self): super().__init__()\n",
        "    def forward(self, x):\n",
        "        return x.squeeze(-1).permute(1,0)"
      ],
      "metadata": {
        "id": "OxniMMCvy9qh"
      },
      "execution_count": 26,
      "outputs": []
    },
    {
      "cell_type": "markdown",
      "source": [
        "- Here, the Author mentioned that they use '6-block' for raw data. but in our case, as it is log mel, it's not 100% raw data."
      ],
      "metadata": {
        "id": "TvHhUxCmOrl8"
      }
    },
    {
      "cell_type": "markdown",
      "source": [
        "# TO Fix the length, cnn 1d"
      ],
      "metadata": {
        "id": "PUY5uRaEmxxG"
      }
    },
    {
      "cell_type": "code",
      "source": [
        "class CNN1d(nn.Module):\n",
        "    def __init__(self):\n",
        "        super().__init__()\n",
        "        self.module = nn.Sequential(\n",
        "            nn.Conv1d(1,8, kernel_size=10, stride=1), GeneralRelu(),\n",
        "            nn.Conv1d(8,16, kernel_size=10), GeneralRelu(),\n",
        "            nn.Conv1d(16,32, kernel_size=5), GeneralRelu(),\n",
        "            nn.Conv1d(32,64, kernel_size=5), GeneralRelu(),\n",
        "            nn.Conv1d(64,128, kernel_size=3), GeneralRelu(),\n",
        "            nn.AdaptiveMaxPool1d(1), #26, 128, 1\n",
        "            Flatten()) #128, 26\n",
        "    def forward(self, x):\n",
        "        return self.module(x)"
      ],
      "metadata": {
        "id": "1EwucPjayOua"
      },
      "execution_count": 27,
      "outputs": []
    },
    {
      "cell_type": "code",
      "source": [
        "# dummy_filter = CNN1d()\n",
        "# n_frames = [xb.shape[-1] for xb, yb in iter(data.train_dl)]\n",
        "# len_dist = [sd.train[idx].shape[0] for idx, item in enumerate(sd.train)]"
      ],
      "metadata": {
        "id": "oGl_NHURHCl7"
      },
      "execution_count": null,
      "outputs": []
    },
    {
      "cell_type": "code",
      "source": [
        "# Counter(n_frames)"
      ],
      "metadata": {
        "id": "0wOYHvd4KKF6"
      },
      "execution_count": 30,
      "outputs": []
    },
    {
      "cell_type": "code",
      "source": [
        "xb.shape, CNN1d()(xb.squeeze(0)).shape"
      ],
      "metadata": {
        "id": "Wve9XSpGrvjR",
        "outputId": "3ceed55a-1c5c-4355-f7b9-2e1b5f99786f",
        "colab": {
          "base_uri": "https://localhost:8080/"
        }
      },
      "execution_count": 29,
      "outputs": [
        {
          "output_type": "execute_result",
          "data": {
            "text/plain": [
              "(torch.Size([1, 26, 1, 736]), torch.Size([128, 26]))"
            ]
          },
          "metadata": {},
          "execution_count": 29
        }
      ]
    },
    {
      "cell_type": "markdown",
      "source": [
        "- 128 : Time frame, which corresponds to `seq_len`\n",
        "- 26 : d_model, which corresponds to `d_model` "
      ],
      "metadata": {
        "id": "lc6Fm508utl_"
      }
    },
    {
      "cell_type": "markdown",
      "source": [
        "# Let us introduce transformer\n",
        "- embedding is composed of two parts\n",
        "    - positional encoding - equal to original one\n",
        "    - embedding - learn from CNN 1d model"
      ],
      "metadata": {
        "id": "oExrKQXOwKG_"
      }
    },
    {
      "cell_type": "code",
      "source": [
        "from torch import Tensor"
      ],
      "metadata": {
        "id": "frEqAixDXr7Q"
      },
      "execution_count": 31,
      "outputs": []
    },
    {
      "cell_type": "code",
      "source": [
        "!pip install -qq ipdb\n",
        "from ipdb import set_trace"
      ],
      "metadata": {
        "id": "2C7E9Ge0b7Pw"
      },
      "execution_count": null,
      "outputs": []
    },
    {
      "cell_type": "code",
      "source": [
        "class PositionalEncoding(nn.Module):\n",
        "    \"Encode the position with a sinusoid.\"\n",
        "    def __init__(self, d:int):\n",
        "        super().__init__()\n",
        "        self.register_buffer('freq', 1 / (10000 ** (torch.arange(0., d, 2.)/d)))\n",
        "\n",
        "    def forward(self, pos:Tensor):\n",
        "        inp = torch.ger(pos, self.freq)\n",
        "        enc = torch.cat([inp.sin(), inp.cos()], dim=-1)\n",
        "        return enc\n",
        "\n",
        "class TransformerEmbedding(nn.Module):\n",
        "    \"Embedding from CNN + positional encoding + dropout\"\n",
        "    def __init__(self, emb_sz:int, inp_p:float=0.):\n",
        "        super().__init__()\n",
        "        self.emb_sz = emb_sz\n",
        "        # (seq_len x d_model)\n",
        "        self.embed = CNN1d()\n",
        "        self.pos_enc = PositionalEncoding(emb_sz)\n",
        "        self.drop = nn.Dropout(inp_p)\n",
        "\n",
        "    def forward(self, inp):\n",
        "        # Need to insert the batch dimension as you removed it when it is used for conv1d\n",
        "        # 1,       26,       1,       75 -> 128    , 26\n",
        "        # bs, d_model, seq_len, n_frames -> seq_len, d_model\n",
        "        inp = self.embed(inp)\n",
        "        pos = torch.arange(0, inp.size(0), device=inp.device).float()     \n",
        "        # reconstruct pseudo batch dimension (1 x 128 x 26)\n",
        "        return self.drop(inp * math.sqrt(self.emb_sz) + self.pos_enc(pos)).unsqueeze(0)\n"
      ],
      "metadata": {
        "id": "2YUXXcXKwLxe"
      },
      "execution_count": 32,
      "outputs": []
    },
    {
      "cell_type": "code",
      "source": [
        "dummy_inp = torch.randn(128, 26)\n",
        "dummy_pos_emb = PositionalEncoding(26)\n",
        "dummy_pos = torch.arange(0, dummy_inp.size(0)).float()\n",
        "dummy_pos_emb(dummy_pos)"
      ],
      "metadata": {
        "id": "XIqFVq4Vc5u7",
        "outputId": "d1ed10ce-98ba-4158-8f45-8112f930df22",
        "colab": {
          "base_uri": "https://localhost:8080/"
        }
      },
      "execution_count": 33,
      "outputs": [
        {
          "output_type": "execute_result",
          "data": {
            "text/plain": [
              "tensor([[ 0.0000,  0.0000,  0.0000,  ...,  1.0000,  1.0000,  1.0000],\n",
              "        [ 0.8415,  0.4727,  0.2401,  ...,  1.0000,  1.0000,  1.0000],\n",
              "        [ 0.9093,  0.8331,  0.4661,  ...,  1.0000,  1.0000,  1.0000],\n",
              "        ...,\n",
              "        [-0.6160, -0.9590, -0.8958,  ...,  0.9945,  0.9987,  0.9997],\n",
              "        [ 0.3300, -0.7110, -0.7628,  ...,  0.9944,  0.9986,  0.9997],\n",
              "        [ 0.9726, -0.2941, -0.5853,  ...,  0.9943,  0.9986,  0.9997]])"
            ]
          },
          "metadata": {},
          "execution_count": 33
        }
      ]
    },
    {
      "cell_type": "markdown",
      "source": [
        "- `emb_sz`: 26\n",
        "- Transformer-embedding: 1 x 128 x 26 (bs, seq_len, d_model)\n",
        "\n"
      ],
      "metadata": {
        "id": "gcDh8QESsOAw"
      }
    },
    {
      "cell_type": "code",
      "source": [
        "def feed_forward(d_model:int, d_ff:int, ff_p:float=0., double_drop:bool=True):\n",
        "    layers = [nn.Linear(d_model, d_ff), nn.ReLU()]\n",
        "    if double_drop: layers.append(nn.Dropout(ff_p))\n",
        "    return SequentialEx(*layers, nn.Linear(d_ff, d_model), nn.Dropout(ff_p), MergeLayer(), nn.LayerNorm(d_model))\n",
        "\n",
        "class MergeLayer(nn.Module):\n",
        "    \"Merge a shortcut with the result of the module by adding them or concatenating them if `dense=True`.\"\n",
        "    def __init__(self, dense:bool=False):\n",
        "        super().__init__()\n",
        "        self.dense=dense\n",
        "    def forward(self, x):\n",
        "        return torch.cat([x,x.orig], dim=1) if self.dense else (x+x.orig)\n",
        "\n",
        "class SequentialEx(nn.Module):\n",
        "    \"Like `nn.Sequential`, but with ModuleList semantics, and can access module input\"\n",
        "    def __init__(self, *layers):\n",
        "        super().__init__()\n",
        "        self.layers = nn.ModuleList(layers)\n",
        "\n",
        "    def forward(self, x):\n",
        "        res = x\n",
        "        for l in self.layers:\n",
        "            res.orig = x\n",
        "            nres = l(res)\n",
        "            # We have to remove res.orig to avoid hanging refs and therefore memory leaks\n",
        "            res.orig, nres.orig = None, None\n",
        "            res = nres\n",
        "        return res\n",
        "\n",
        "    def __getitem__(self,i): return self.layers[i]\n",
        "    def append(self,l):      return self.layers.append(l)\n",
        "    def extend(self,l):      return self.layers.extend(l)\n",
        "    def insert(self,i,l):    return self.layers.insert(i,l)\n",
        "\n",
        "class MultiHeadAttention(nn.Module):\n",
        "    \"MutiHeadAttention.\"\n",
        "\n",
        "    def __init__(self, n_heads:int, d_model:int, d_head:int=None, resid_p:float=0., attn_p:float=0., bias:bool=True,\n",
        "                 scale:bool=True):\n",
        "        super().__init__()\n",
        "        # d_head = ifnone(d_head, d_model//n_heads)\n",
        "        self.n_heads,self.d_head,self.scale = n_heads,d_head,scale\n",
        "        self.q_wgt = nn.Linear(d_model, n_heads * d_head, bias=bias)\n",
        "        self.k_wgt = nn.Linear(d_model, n_heads * d_head, bias=bias)\n",
        "        self.v_wgt = nn.Linear(d_model, n_heads * d_head, bias=bias)\n",
        "        self.out = nn.Linear(n_heads * d_head, d_model, bias=bias)\n",
        "        self.drop_att,self.drop_res = nn.Dropout(attn_p),nn.Dropout(resid_p)\n",
        "        self.ln = nn.LayerNorm(d_model)\n",
        "\n",
        "    def forward(self, q:Tensor, k:Tensor, v:Tensor, mask:Tensor=None):\n",
        "        return self.ln(q + self.drop_res(self.out(self._apply_attention(q, k, v, mask=mask))))\n",
        "\n",
        "    def _apply_attention(self, q:Tensor, k:Tensor, v:Tensor, mask:Tensor=None):\n",
        "        bs,seq_len = q.size(0),q.size(1)\n",
        "        wq,wk,wv = self.q_wgt(q),self.k_wgt(k),self.v_wgt(v)\n",
        "        wq,wk,wv = map(lambda x:x.view(bs, x.size(1), self.n_heads, self.d_head), (wq,wk,wv))\n",
        "        wq,wk,wv = wq.permute(0, 2, 1, 3),wk.permute(0, 2, 3, 1),wv.permute(0, 2, 1, 3)\n",
        "        attn_score = torch.matmul(wq, wk)\n",
        "        if self.scale: attn_score = attn_score.div_(self.d_head ** 0.5)\n",
        "        if mask is not None:\n",
        "            attn_score = attn_score.float().masked_fill(mask, -float('inf')).type_as(attn_score)\n",
        "        attn_prob = self.drop_att(F.softmax(attn_score, dim=-1))\n",
        "        attn_vec = torch.matmul(attn_prob, wv)\n",
        "        return attn_vec.permute(0, 2, 1, 3).contiguous().contiguous().view(bs, seq_len, -1)\n",
        "\n",
        "class EncoderBlock(nn.Module):\n",
        "    \"Encoder block of a Transformer model.\"\n",
        "    #Can't use Sequential directly cause more than one input...\n",
        "    def __init__(self, n_heads:int, d_model:int, d_head:int, d_inner:int, resid_p:float=0., attn_p:float=0., ff_p:float=0.,\n",
        "                 bias:bool=True, scale:bool=True, double_drop:bool=True):\n",
        "        super().__init__()\n",
        "        self.mha = MultiHeadAttention(n_heads, d_model, d_head, resid_p=resid_p, attn_p=attn_p, bias=bias, scale=scale)\n",
        "        self.ff  = feed_forward(d_model, d_inner, ff_p=ff_p, double_drop=double_drop)\n",
        "\n",
        "    def forward(self, x:Tensor, mask:Tensor=None): return self.ff(self.mha(x, x, x, mask=mask))"
      ],
      "metadata": {
        "id": "t6DdCZWvb1MB"
      },
      "execution_count": 34,
      "outputs": []
    },
    {
      "cell_type": "code",
      "source": [
        "from torch import nn"
      ],
      "metadata": {
        "id": "pA8dCOmKNn4_"
      },
      "execution_count": 35,
      "outputs": []
    },
    {
      "cell_type": "code",
      "source": [
        "class OutLayer(nn.Module):\n",
        "    def __init__(self):\n",
        "        super().__init__()\n",
        "        # Tarantino (2019) applied 2d-convolution here.\n",
        "        self.conv = nn.Conv2d(1, 5, 20)\n",
        "        self.pool = nn.AdaptiveMaxPool1d(1) # (bs, 5, 109, 1)\n",
        "        self.lin_out1 = nn.Linear(5*109, 2) # activation out layer\n",
        "        self.lin_out2 = nn.Linear(5*109, 2) # valence out layer\n",
        "    \n",
        "    def forward(self, inp):\n",
        "        conv_out = self.conv(inp.unsqueeze(1)) # (bs, 128, 26) -> (bs, 1, 128, 26) -> (bs, 5, 109, 7), insert dummy channel, channel 1 to 5, kerner size = 20\n",
        "        pool_out = self.pool(conv_out.squeeze(0)) # (bs, 5, 109, 7) -> (5, 109, 7) -> (5, 109, 1)\n",
        "        out = pool_out.squeeze(-1).unsqueeze(0) # (5, 109, 1) -> (5, 109) -> (1, 5, 109)\n",
        "        return self.lin_out1(out.view(1, -1)), self.lin_out2(out.view(1, -1)) # (1, 5*109) -> (1, 2)    "
      ],
      "metadata": {
        "id": "Ii_1JOnyM2Z9"
      },
      "execution_count": 36,
      "outputs": []
    },
    {
      "cell_type": "code",
      "source": [
        "class CNNTransformer(nn.Module):\n",
        "    \"CNN Transformer model\"\n",
        "    \n",
        "    def __init__(self, out_vsz:int=4, n_layers:int=1, n_heads:int=3, d_model:int=26, d_head:int=9, \n",
        "                 d_inner:int=3 * 9,\n",
        "                 inp_p:float=0.1, resid_p:float=0.1, attn_p:float=0.1,\n",
        "                 ff_p:float=0.1,\n",
        "                 bias:bool=True, \n",
        "                 scale:bool=True, double_drop:bool=True):\n",
        "        super().__init__()\n",
        "        self.enc_emb = TransformerEmbedding(d_model, inp_p)\n",
        "        self.encoder = nn.ModuleList([EncoderBlock(n_heads, d_model, d_head, d_inner, resid_p, attn_p, ff_p, bias, scale, double_drop) for _ in range(0, n_layers)])\n",
        "        self.out_layer = OutLayer()\n",
        "        \n",
        "    def forward(self, inp):\n",
        "        # torch.Size([1, 26, 1, 75]) => torch.Size([1, 128, 26])\n",
        "        enc = self.enc_emb(inp.squeeze(0))\n",
        "        # torch.Size([1, 128, 26])\n",
        "        for enc_block in self.encoder: enc = enc_block(enc)\n",
        "        \n",
        "        return self.out_layer(enc)"
      ],
      "metadata": {
        "id": "tXXWpd88wq4i"
      },
      "execution_count": 37,
      "outputs": []
    },
    {
      "cell_type": "code",
      "source": [
        "m1 = CNNTransformer()"
      ],
      "metadata": {
        "id": "8TgmEL4PPhxN"
      },
      "execution_count": 38,
      "outputs": []
    },
    {
      "cell_type": "code",
      "source": [
        "z1 = xb.squeeze(0); z1.shape"
      ],
      "metadata": {
        "id": "4kYK46FiPv3m",
        "outputId": "33423e92-ba93-4f3e-ae48-6d70ba71e20c",
        "colab": {
          "base_uri": "https://localhost:8080/"
        }
      },
      "execution_count": 39,
      "outputs": [
        {
          "output_type": "execute_result",
          "data": {
            "text/plain": [
              "torch.Size([26, 1, 736])"
            ]
          },
          "metadata": {},
          "execution_count": 39
        }
      ]
    },
    {
      "cell_type": "code",
      "source": [
        "z2 = m1.enc_emb(z1); z2.shape # embedding. i.e., cnn feature extraction -> add with PE"
      ],
      "metadata": {
        "id": "ruvH8IZmQAPS",
        "outputId": "3a8fd06e-2692-47ea-9e9e-bf9076f08b21",
        "colab": {
          "base_uri": "https://localhost:8080/"
        }
      },
      "execution_count": 42,
      "outputs": [
        {
          "output_type": "execute_result",
          "data": {
            "text/plain": [
              "torch.Size([1, 128, 26])"
            ]
          },
          "metadata": {},
          "execution_count": 42
        }
      ]
    },
    {
      "cell_type": "code",
      "source": [
        "# encoder block\n",
        "for enc_block in m1.encoder:\n",
        "    print(\"n_block\")\n",
        "    z3 = enc_block(z2)"
      ],
      "metadata": {
        "id": "4tMGODz4QL8M",
        "outputId": "82dcb5dc-b27a-4667-aa4a-5d96653f9102",
        "colab": {
          "base_uri": "https://localhost:8080/"
        }
      },
      "execution_count": 43,
      "outputs": [
        {
          "output_type": "stream",
          "name": "stdout",
          "text": [
            "n_block\n"
          ]
        }
      ]
    },
    {
      "cell_type": "code",
      "source": [
        "z3.shape"
      ],
      "metadata": {
        "id": "foyyqWVDQTV1",
        "outputId": "3b02844a-b7b3-4f2e-acee-3288c8a1267d",
        "colab": {
          "base_uri": "https://localhost:8080/"
        }
      },
      "execution_count": 44,
      "outputs": [
        {
          "output_type": "execute_result",
          "data": {
            "text/plain": [
              "torch.Size([1, 128, 26])"
            ]
          },
          "metadata": {},
          "execution_count": 44
        }
      ]
    },
    {
      "cell_type": "code",
      "source": [
        "# out layer. projection (dim * n_frames -> n_out)\n",
        "out = m1.out_layer(z3)"
      ],
      "metadata": {
        "id": "mCx-HWmrQ-Tk"
      },
      "execution_count": 47,
      "outputs": []
    },
    {
      "cell_type": "code",
      "source": [
        "out[0].squeeze()"
      ],
      "metadata": {
        "id": "AAE0O8IrVY5K",
        "outputId": "2746c335-55a6-49be-e1e5-7f6bad492524",
        "colab": {
          "base_uri": "https://localhost:8080/"
        }
      },
      "execution_count": 50,
      "outputs": [
        {
          "output_type": "execute_result",
          "data": {
            "text/plain": [
              "tensor([ 0.3310, -1.4644], grad_fn=<SqueezeBackward0>)"
            ]
          },
          "metadata": {},
          "execution_count": 50
        }
      ]
    },
    {
      "cell_type": "code",
      "source": [
        "out"
      ],
      "metadata": {
        "id": "PpGbbFpMXUop",
        "outputId": "b3cb3809-4189-4563-fa0f-1f074b8adf9a",
        "colab": {
          "base_uri": "https://localhost:8080/"
        }
      },
      "execution_count": 65,
      "outputs": [
        {
          "output_type": "execute_result",
          "data": {
            "text/plain": [
              "(tensor([[ 0.3310, -1.4644]], grad_fn=<AddmmBackward0>),\n",
              " tensor([[ 0.0136, -0.3965]], grad_fn=<AddmmBackward0>))"
            ]
          },
          "metadata": {},
          "execution_count": 65
        }
      ]
    },
    {
      "cell_type": "code",
      "source": [
        "yb"
      ],
      "metadata": {
        "id": "AGmG5QEmVjnZ",
        "outputId": "c55ca188-e8f1-4f86-a4bb-cf1b93630b3c",
        "colab": {
          "base_uri": "https://localhost:8080/"
        }
      },
      "execution_count": 61,
      "outputs": [
        {
          "output_type": "execute_result",
          "data": {
            "text/plain": [
              "tensor([[1., 1.]])"
            ]
          },
          "metadata": {},
          "execution_count": 61
        }
      ]
    },
    {
      "cell_type": "code",
      "source": [
        "y1= torch.zeros_like(out[0])\n",
        "y1[0][int(yb.squeeze()[0].item())] = 1.\n",
        "y1"
      ],
      "metadata": {
        "id": "HsL-QJpCVyS-",
        "outputId": "83bf9459-82de-4401-a97a-97a01cfe6b51",
        "colab": {
          "base_uri": "https://localhost:8080/"
        }
      },
      "execution_count": 63,
      "outputs": [
        {
          "output_type": "execute_result",
          "data": {
            "text/plain": [
              "tensor([[0., 1.]])"
            ]
          },
          "metadata": {},
          "execution_count": 63
        }
      ]
    },
    {
      "cell_type": "code",
      "source": [
        "F.cross_entropy(out[0], y1)"
      ],
      "metadata": {
        "id": "h9mZGTkaVK2X",
        "outputId": "8158a939-cde4-4bf4-a124-d45a25c5282b",
        "colab": {
          "base_uri": "https://localhost:8080/"
        }
      },
      "execution_count": 64,
      "outputs": [
        {
          "output_type": "execute_result",
          "data": {
            "text/plain": [
              "tensor(1.9490, grad_fn=<DivBackward1>)"
            ]
          },
          "metadata": {},
          "execution_count": 64
        }
      ]
    },
    {
      "cell_type": "code",
      "source": [
        "yb"
      ],
      "metadata": {
        "id": "P_Cl9wbScJWw",
        "outputId": "b643db7f-5ac3-49c8-dc06-fbdb3eabcdc3",
        "colab": {
          "base_uri": "https://localhost:8080/"
        }
      },
      "execution_count": 98,
      "outputs": [
        {
          "output_type": "execute_result",
          "data": {
            "text/plain": [
              "tensor([[1., 1.]])"
            ]
          },
          "metadata": {},
          "execution_count": 98
        }
      ]
    },
    {
      "cell_type": "code",
      "source": [
        "yb.squeeze()"
      ],
      "metadata": {
        "id": "w_1Ky6Tper4C",
        "outputId": "b031c9f5-2204-4679-92f0-aa9a62e304d6",
        "colab": {
          "base_uri": "https://localhost:8080/"
        }
      },
      "execution_count": 100,
      "outputs": [
        {
          "output_type": "execute_result",
          "data": {
            "text/plain": [
              "tensor([1., 1.])"
            ]
          },
          "metadata": {},
          "execution_count": 100
        }
      ]
    },
    {
      "cell_type": "code",
      "source": [
        "t1, t2 = yb.detach().cpu().squeeze(); t1, t2"
      ],
      "metadata": {
        "id": "-wvmpLPycFjU",
        "outputId": "aaa3a7e9-bb06-4c97-b563-ce930a3e738a",
        "colab": {
          "base_uri": "https://localhost:8080/"
        }
      },
      "execution_count": 103,
      "outputs": [
        {
          "output_type": "execute_result",
          "data": {
            "text/plain": [
              "(tensor(1.), tensor(1.))"
            ]
          },
          "metadata": {},
          "execution_count": 103
        }
      ]
    },
    {
      "cell_type": "code",
      "source": [
        "p1, p2 = map(lambda x: x.detach().cpu(), out); p1, p2"
      ],
      "metadata": {
        "id": "E9VaDz83dtna",
        "outputId": "fb4287e0-73f1-4ba9-d45c-808b03d94780",
        "colab": {
          "base_uri": "https://localhost:8080/"
        }
      },
      "execution_count": 105,
      "outputs": [
        {
          "output_type": "execute_result",
          "data": {
            "text/plain": [
              "(tensor([[ 0.3310, -1.4644]]), tensor([[ 0.0136, -0.3965]]))"
            ]
          },
          "metadata": {},
          "execution_count": 105
        }
      ]
    },
    {
      "cell_type": "code",
      "source": [
        "p1, p2 = map(lambda x: x.detach().cpu().argmax(-1), out); p1, p2"
      ],
      "metadata": {
        "id": "5zkLPThneP-W",
        "outputId": "d3b59f89-5153-4799-e549-bd7fb0c6ea67",
        "colab": {
          "base_uri": "https://localhost:8080/"
        }
      },
      "execution_count": 106,
      "outputs": [
        {
          "output_type": "execute_result",
          "data": {
            "text/plain": [
              "(tensor([0]), tensor([0]))"
            ]
          },
          "metadata": {},
          "execution_count": 106
        }
      ]
    },
    {
      "cell_type": "code",
      "source": [
        "class Fscore(nn.Module):\n",
        "    def fscore(inp, trg):\n",
        "        tp, tn, fp, fn = 0, 0, 0, 0\n",
        "        if (inp==1) and (trg==1): tp += 1\n",
        "        elif (inp==1) and (trg==0): fp += 1\n",
        "        elif (inp==0) and (trg==1): fn += 1\n",
        "        elif (inp==0) and (trg==0): tn += 1\n",
        "        else:\n",
        "            raise Exception(\"Not defined case of scoring\")\n",
        "    def forward(self, inp, trg):\n",
        "        out_act, out_val = map(lambda x: x.detach().cpu(), out)\n",
        "        trg_act, trg_val = map(lambda x: x.detach().cpu(), trg)"
      ],
      "metadata": {
        "id": "4IDTgoMMbtvw"
      },
      "execution_count": 88,
      "outputs": []
    },
    {
      "cell_type": "code",
      "source": [
        "# import torch\n",
        "# import torch.nn as nn\n",
        "# import torch.nn.functional as F\n",
        "\n",
        "class FocalLoss(nn.modules.loss._WeightedLoss):\n",
        "    def __init__(self, weight=None, gamma=2,reduction='mean'):\n",
        "        super(FocalLoss, self).__init__(weight,reduction=reduction)\n",
        "        self.gamma = gamma\n",
        "        self.weight = weight #weight parameter will act as the alpha parameter to balance class weights\n",
        "\n",
        "    def forward(self, input, target):\n",
        "        # ground-truth to one-hot encoded tensor\n",
        "        \"\"\"\n",
        "        out_act - output of the model, e.g.,  tensor([[ 0.0136, -0.3965]], grad_fn=<AddmmBackward0>))\n",
        "        trg_act - target label       , e.g.,  tensor([[0., 1.]]))\n",
        "        \"\"\"\n",
        "        out_act, out_val = input\n",
        "        trg_act = torch.zeros_like(out_act)\n",
        "        trg_act[0][int(target.squeeze()[0].item())] = 1. #assign one-hot encoding to the corresponding position\n",
        "        trg_val = torch.zeros_like(out_val)\n",
        "        trg_val[0][int(target.squeeze()[1].item())] = 1. #assign one-hot encoding to the corresponding position\n",
        "\n",
        "        # loss of activation, vanila cross entropy\n",
        "        ce_act_loss = F.cross_entropy(out_act, trg_act)\n",
        "\n",
        "        # loss of valence, focal applied\n",
        "        ce_val_loss = F.cross_entropy(out_val, trg_val, reduction=self.reduction, weight=self.weight) \n",
        "        pt = torch.exp(-ce_val_loss)\n",
        "        focal_val_loss = ((1 - pt) ** self.gamma * ce_val_loss).mean()\n",
        "\n",
        "\n",
        "        return ce_act_loss + focal_val_loss"
      ],
      "metadata": {
        "id": "030LU6V7tKJB"
      },
      "execution_count": 75,
      "outputs": []
    },
    {
      "cell_type": "code",
      "source": [
        "cbfs = [partial(AvgStatsCallback,accuracy),\n",
        "        CudaCallback]"
      ],
      "metadata": {
        "id": "NMqTlV_2kvsn"
      },
      "execution_count": 67,
      "outputs": []
    },
    {
      "cell_type": "code",
      "source": [
        "def normalize_chan(x, mean, std):\n",
        "    return (x-mean[...,None,None]) / std[...,None,None]\n",
        "\n",
        "_m = tensor([4.6458, 5.4130, 6.5964, 6.8884, 6.8241, 7.1415, 7.2152, 7.1492, 6.6828,\n",
        "        6.7434, 6.8610, 6.9456, 7.2149, 7.3144, 7.3993, 7.1714, 7.3913, 7.5860,\n",
        "        7.3430, 7.3854, 7.4977, 7.4650, 7.3808, 7.0497, 6.7768, 6.4319])\n",
        "_s = tensor([1.6839, 2.3302, 2.6372, 2.6552, 2.7861, 2.7495, 2.7446, 2.6085, 2.5018,\n",
        "        2.3586, 2.3367, 2.3888, 2.4452, 2.4944, 2.4172, 2.4300, 2.3737, 2.4037,\n",
        "        2.4891, 2.4774, 2.4399, 2.3689, 2.2110, 2.2310, 2.2802, 2.2686])\n",
        "norm_ser = partial(normalize_chan, mean=_m.cuda(), std=_s.cuda())\n",
        "\n",
        "class BatchTransformXCallback(Callback):\n",
        "    _order=2\n",
        "    def __init__(self, tfm): self.tfm = tfm\n",
        "    def begin_batch(self):\n",
        "        self.run.xb = self.tfm(self.xb).squeeze(0)\n",
        "        # self.run.yb = self.yb.squeeze(0)"
      ],
      "metadata": {
        "id": "eAce3l3fkefR"
      },
      "execution_count": 68,
      "outputs": []
    },
    {
      "cell_type": "code",
      "source": [
        "cbfs.append(partial(BatchTransformXCallback, norm_ser))"
      ],
      "metadata": {
        "id": "40BHfbmWsfBE"
      },
      "execution_count": 69,
      "outputs": []
    },
    {
      "cell_type": "code",
      "source": [
        "sched = combine_scheds([0.3,0.7], cos_1cycle_anneal(0.1,0.3,0.05))"
      ],
      "metadata": {
        "id": "VDx9rJ1S7evB"
      },
      "execution_count": 70,
      "outputs": []
    },
    {
      "cell_type": "code",
      "source": [
        "def get_learn_run(model, data, lr, cbs=None, opt_func=None, **kwargs):\n",
        "    init_cnn(model)\n",
        "    return get_runner(model, data, lr=lr, cbs=cbs, opt_func=opt_func, **kwargs)"
      ],
      "metadata": {
        "id": "YRndPhvA10xj"
      },
      "execution_count": 80,
      "outputs": []
    },
    {
      "cell_type": "code",
      "source": [
        "model = CNNTransformer()"
      ],
      "metadata": {
        "id": "1eE97evZS09y"
      },
      "execution_count": 81,
      "outputs": []
    },
    {
      "cell_type": "code",
      "source": [
        "learn,run = get_learn_run(model, data, 0.2, cbs=cbfs+[\n",
        "    partial(ParamScheduler, 'lr', sched)], opt_func=opt_func, loss_func = FocalLoss()\n",
        ")"
      ],
      "metadata": {
        "id": "D_CtaxjgIxIg"
      },
      "execution_count": 82,
      "outputs": []
    },
    {
      "cell_type": "code",
      "source": [
        "run.fit(1, learn)"
      ],
      "metadata": {
        "id": "bV8Qls7_S7Ov",
        "outputId": "1fc12ffc-7146-4102-e769-c4f775948b8e",
        "colab": {
          "base_uri": "https://localhost:8080/",
          "height": 1000
        }
      },
      "execution_count": 83,
      "outputs": [
        {
          "output_type": "error",
          "ename": "TypeError",
          "evalue": "ignored",
          "traceback": [
            "\u001b[0;31m---------------------------------------------------------------------------\u001b[0m",
            "\u001b[0;31mTypeError\u001b[0m                                 Traceback (most recent call last)",
            "\u001b[0;32m<ipython-input-83-82a289ee3567>\u001b[0m in \u001b[0;36m<module>\u001b[0;34m()\u001b[0m\n\u001b[0;32m----> 1\u001b[0;31m \u001b[0mrun\u001b[0m\u001b[0;34m.\u001b[0m\u001b[0mfit\u001b[0m\u001b[0;34m(\u001b[0m\u001b[0;36m1\u001b[0m\u001b[0;34m,\u001b[0m \u001b[0mlearn\u001b[0m\u001b[0;34m)\u001b[0m\u001b[0;34m\u001b[0m\u001b[0;34m\u001b[0m\u001b[0m\n\u001b[0m",
            "\u001b[0;32m<ipython-input-25-64f1d24d4184>\u001b[0m in \u001b[0;36mfit\u001b[0;34m(self, epochs, learn)\u001b[0m\n\u001b[1;32m     89\u001b[0m             \u001b[0;32mfor\u001b[0m \u001b[0mepoch\u001b[0m \u001b[0;32min\u001b[0m \u001b[0mrange\u001b[0m\u001b[0;34m(\u001b[0m\u001b[0mepochs\u001b[0m\u001b[0;34m)\u001b[0m\u001b[0;34m:\u001b[0m\u001b[0;34m\u001b[0m\u001b[0;34m\u001b[0m\u001b[0m\n\u001b[1;32m     90\u001b[0m                 \u001b[0mself\u001b[0m\u001b[0;34m.\u001b[0m\u001b[0mepoch\u001b[0m \u001b[0;34m=\u001b[0m \u001b[0mepoch\u001b[0m\u001b[0;34m\u001b[0m\u001b[0;34m\u001b[0m\u001b[0m\n\u001b[0;32m---> 91\u001b[0;31m                 \u001b[0;32mif\u001b[0m \u001b[0;32mnot\u001b[0m \u001b[0mself\u001b[0m\u001b[0;34m(\u001b[0m\u001b[0;34m'begin_epoch'\u001b[0m\u001b[0;34m)\u001b[0m\u001b[0;34m:\u001b[0m \u001b[0mself\u001b[0m\u001b[0;34m.\u001b[0m\u001b[0mall_batches\u001b[0m\u001b[0;34m(\u001b[0m\u001b[0mself\u001b[0m\u001b[0;34m.\u001b[0m\u001b[0mdata\u001b[0m\u001b[0;34m.\u001b[0m\u001b[0mtrain_dl\u001b[0m\u001b[0;34m)\u001b[0m\u001b[0;34m\u001b[0m\u001b[0;34m\u001b[0m\u001b[0m\n\u001b[0m\u001b[1;32m     92\u001b[0m \u001b[0;34m\u001b[0m\u001b[0m\n\u001b[1;32m     93\u001b[0m                 \u001b[0;32mwith\u001b[0m \u001b[0mtorch\u001b[0m\u001b[0;34m.\u001b[0m\u001b[0mno_grad\u001b[0m\u001b[0;34m(\u001b[0m\u001b[0;34m)\u001b[0m\u001b[0;34m:\u001b[0m\u001b[0;34m\u001b[0m\u001b[0;34m\u001b[0m\u001b[0m\n",
            "\u001b[0;32m<ipython-input-25-64f1d24d4184>\u001b[0m in \u001b[0;36mall_batches\u001b[0;34m(self, dl)\u001b[0m\n\u001b[1;32m     78\u001b[0m         \u001b[0mself\u001b[0m\u001b[0;34m.\u001b[0m\u001b[0miters\u001b[0m \u001b[0;34m=\u001b[0m \u001b[0mlen\u001b[0m\u001b[0;34m(\u001b[0m\u001b[0mdl\u001b[0m\u001b[0;34m)\u001b[0m\u001b[0;34m\u001b[0m\u001b[0;34m\u001b[0m\u001b[0m\n\u001b[1;32m     79\u001b[0m         \u001b[0;32mtry\u001b[0m\u001b[0;34m:\u001b[0m\u001b[0;34m\u001b[0m\u001b[0;34m\u001b[0m\u001b[0m\n\u001b[0;32m---> 80\u001b[0;31m             \u001b[0;32mfor\u001b[0m \u001b[0mxb\u001b[0m\u001b[0;34m,\u001b[0m\u001b[0myb\u001b[0m \u001b[0;32min\u001b[0m \u001b[0mdl\u001b[0m\u001b[0;34m:\u001b[0m \u001b[0mself\u001b[0m\u001b[0;34m.\u001b[0m\u001b[0mone_batch\u001b[0m\u001b[0;34m(\u001b[0m\u001b[0mxb\u001b[0m\u001b[0;34m,\u001b[0m \u001b[0myb\u001b[0m\u001b[0;34m)\u001b[0m\u001b[0;34m\u001b[0m\u001b[0;34m\u001b[0m\u001b[0m\n\u001b[0m\u001b[1;32m     81\u001b[0m         \u001b[0;32mexcept\u001b[0m \u001b[0mCancelEpochException\u001b[0m\u001b[0;34m:\u001b[0m \u001b[0mself\u001b[0m\u001b[0;34m(\u001b[0m\u001b[0;34m'after_cancel_epoch'\u001b[0m\u001b[0;34m)\u001b[0m\u001b[0;34m\u001b[0m\u001b[0;34m\u001b[0m\u001b[0m\n\u001b[1;32m     82\u001b[0m \u001b[0;34m\u001b[0m\u001b[0m\n",
            "\u001b[0;32m<ipython-input-25-64f1d24d4184>\u001b[0m in \u001b[0;36mone_batch\u001b[0;34m(self, xb, yb)\u001b[0m\n\u001b[1;32m     65\u001b[0m             \u001b[0;31m# print(self.pred.shape, self.yb.shape)\u001b[0m\u001b[0;34m\u001b[0m\u001b[0;34m\u001b[0m\u001b[0;34m\u001b[0m\u001b[0m\n\u001b[1;32m     66\u001b[0m             \u001b[0mself\u001b[0m\u001b[0;34m.\u001b[0m\u001b[0mloss\u001b[0m \u001b[0;34m=\u001b[0m \u001b[0mself\u001b[0m\u001b[0;34m.\u001b[0m\u001b[0mloss_func\u001b[0m\u001b[0;34m(\u001b[0m\u001b[0mself\u001b[0m\u001b[0;34m.\u001b[0m\u001b[0mpred\u001b[0m\u001b[0;34m,\u001b[0m \u001b[0mself\u001b[0m\u001b[0;34m.\u001b[0m\u001b[0myb\u001b[0m\u001b[0;34m)\u001b[0m\u001b[0;34m\u001b[0m\u001b[0;34m\u001b[0m\u001b[0m\n\u001b[0;32m---> 67\u001b[0;31m             \u001b[0mself\u001b[0m\u001b[0;34m(\u001b[0m\u001b[0;34m'after_loss'\u001b[0m\u001b[0;34m)\u001b[0m\u001b[0;34m\u001b[0m\u001b[0;34m\u001b[0m\u001b[0m\n\u001b[0m\u001b[1;32m     68\u001b[0m             \u001b[0;32mif\u001b[0m \u001b[0;32mnot\u001b[0m \u001b[0mself\u001b[0m\u001b[0;34m.\u001b[0m\u001b[0min_train\u001b[0m\u001b[0;34m:\u001b[0m \u001b[0;32mreturn\u001b[0m\u001b[0;34m\u001b[0m\u001b[0;34m\u001b[0m\u001b[0m\n\u001b[1;32m     69\u001b[0m             \u001b[0mself\u001b[0m\u001b[0;34m.\u001b[0m\u001b[0mloss\u001b[0m\u001b[0;34m.\u001b[0m\u001b[0mbackward\u001b[0m\u001b[0;34m(\u001b[0m\u001b[0;34m)\u001b[0m\u001b[0;34m\u001b[0m\u001b[0;34m\u001b[0m\u001b[0m\n",
            "\u001b[0;32m<ipython-input-25-64f1d24d4184>\u001b[0m in \u001b[0;36m__call__\u001b[0;34m(self, cb_name)\u001b[0m\n\u001b[1;32m    104\u001b[0m         \u001b[0;32mfor\u001b[0m \u001b[0mcb\u001b[0m \u001b[0;32min\u001b[0m \u001b[0msorted\u001b[0m\u001b[0;34m(\u001b[0m\u001b[0mself\u001b[0m\u001b[0;34m.\u001b[0m\u001b[0mcbs\u001b[0m\u001b[0;34m,\u001b[0m \u001b[0mkey\u001b[0m\u001b[0;34m=\u001b[0m\u001b[0;32mlambda\u001b[0m \u001b[0mx\u001b[0m\u001b[0;34m:\u001b[0m \u001b[0mx\u001b[0m\u001b[0;34m.\u001b[0m\u001b[0m_order\u001b[0m\u001b[0;34m)\u001b[0m\u001b[0;34m:\u001b[0m\u001b[0;34m\u001b[0m\u001b[0;34m\u001b[0m\u001b[0m\n\u001b[1;32m    105\u001b[0m             \u001b[0;31m# print(cb_name, cb)\u001b[0m\u001b[0;34m\u001b[0m\u001b[0;34m\u001b[0m\u001b[0;34m\u001b[0m\u001b[0m\n\u001b[0;32m--> 106\u001b[0;31m             \u001b[0mres\u001b[0m \u001b[0;34m=\u001b[0m \u001b[0mcb\u001b[0m\u001b[0;34m(\u001b[0m\u001b[0mcb_name\u001b[0m\u001b[0;34m)\u001b[0m \u001b[0;32mand\u001b[0m \u001b[0mres\u001b[0m\u001b[0;34m\u001b[0m\u001b[0;34m\u001b[0m\u001b[0m\n\u001b[0m\u001b[1;32m    107\u001b[0m         \u001b[0;32mreturn\u001b[0m \u001b[0mres\u001b[0m\u001b[0;34m\u001b[0m\u001b[0;34m\u001b[0m\u001b[0m\n\u001b[1;32m    108\u001b[0m \u001b[0;34m\u001b[0m\u001b[0m\n",
            "\u001b[0;32m<ipython-input-25-64f1d24d4184>\u001b[0m in \u001b[0;36m__call__\u001b[0;34m(self, cb_name)\u001b[0m\n\u001b[1;32m     11\u001b[0m     \u001b[0;32mdef\u001b[0m \u001b[0m__call__\u001b[0m\u001b[0;34m(\u001b[0m\u001b[0mself\u001b[0m\u001b[0;34m,\u001b[0m \u001b[0mcb_name\u001b[0m\u001b[0;34m)\u001b[0m\u001b[0;34m:\u001b[0m\u001b[0;34m\u001b[0m\u001b[0;34m\u001b[0m\u001b[0m\n\u001b[1;32m     12\u001b[0m         \u001b[0mf\u001b[0m \u001b[0;34m=\u001b[0m \u001b[0mgetattr\u001b[0m\u001b[0;34m(\u001b[0m\u001b[0mself\u001b[0m\u001b[0;34m,\u001b[0m \u001b[0mcb_name\u001b[0m\u001b[0;34m,\u001b[0m \u001b[0;32mNone\u001b[0m\u001b[0;34m)\u001b[0m\u001b[0;34m\u001b[0m\u001b[0;34m\u001b[0m\u001b[0m\n\u001b[0;32m---> 13\u001b[0;31m         \u001b[0;32mif\u001b[0m \u001b[0mf\u001b[0m \u001b[0;32mand\u001b[0m \u001b[0mf\u001b[0m\u001b[0;34m(\u001b[0m\u001b[0;34m)\u001b[0m\u001b[0;34m:\u001b[0m \u001b[0;32mreturn\u001b[0m \u001b[0;32mTrue\u001b[0m\u001b[0;34m\u001b[0m\u001b[0;34m\u001b[0m\u001b[0m\n\u001b[0m\u001b[1;32m     14\u001b[0m         \u001b[0;32mreturn\u001b[0m \u001b[0;32mFalse\u001b[0m\u001b[0;34m\u001b[0m\u001b[0;34m\u001b[0m\u001b[0m\n\u001b[1;32m     15\u001b[0m \u001b[0;34m\u001b[0m\u001b[0m\n",
            "\u001b[0;32m<ipython-input-25-64f1d24d4184>\u001b[0m in \u001b[0;36mafter_loss\u001b[0;34m(self)\u001b[0m\n\u001b[1;32m    117\u001b[0m     \u001b[0;32mdef\u001b[0m \u001b[0mafter_loss\u001b[0m\u001b[0;34m(\u001b[0m\u001b[0mself\u001b[0m\u001b[0;34m)\u001b[0m\u001b[0;34m:\u001b[0m\u001b[0;34m\u001b[0m\u001b[0;34m\u001b[0m\u001b[0m\n\u001b[1;32m    118\u001b[0m         \u001b[0mstats\u001b[0m \u001b[0;34m=\u001b[0m \u001b[0mself\u001b[0m\u001b[0;34m.\u001b[0m\u001b[0mtrain_stats\u001b[0m \u001b[0;32mif\u001b[0m \u001b[0mself\u001b[0m\u001b[0;34m.\u001b[0m\u001b[0min_train\u001b[0m \u001b[0;32melse\u001b[0m \u001b[0mself\u001b[0m\u001b[0;34m.\u001b[0m\u001b[0mvalid_stats\u001b[0m\u001b[0;34m\u001b[0m\u001b[0;34m\u001b[0m\u001b[0m\n\u001b[0;32m--> 119\u001b[0;31m         \u001b[0;32mwith\u001b[0m \u001b[0mtorch\u001b[0m\u001b[0;34m.\u001b[0m\u001b[0mno_grad\u001b[0m\u001b[0;34m(\u001b[0m\u001b[0;34m)\u001b[0m\u001b[0;34m:\u001b[0m \u001b[0mstats\u001b[0m\u001b[0;34m.\u001b[0m\u001b[0maccumulate\u001b[0m\u001b[0;34m(\u001b[0m\u001b[0mself\u001b[0m\u001b[0;34m.\u001b[0m\u001b[0mrun\u001b[0m\u001b[0;34m)\u001b[0m\u001b[0;34m\u001b[0m\u001b[0;34m\u001b[0m\u001b[0m\n\u001b[0m\u001b[1;32m    120\u001b[0m         \u001b[0;31m# print stats based on thousand iteration\u001b[0m\u001b[0;34m\u001b[0m\u001b[0;34m\u001b[0m\u001b[0;34m\u001b[0m\u001b[0m\n\u001b[1;32m    121\u001b[0m         \u001b[0;32mif\u001b[0m \u001b[0;34m(\u001b[0m\u001b[0mself\u001b[0m\u001b[0;34m.\u001b[0m\u001b[0mrun\u001b[0m\u001b[0;34m.\u001b[0m\u001b[0mn_iter\u001b[0m \u001b[0;34m%\u001b[0m \u001b[0;36m1000\u001b[0m\u001b[0;34m)\u001b[0m \u001b[0;34m==\u001b[0m\u001b[0;36m0\u001b[0m\u001b[0;34m:\u001b[0m\u001b[0;34m\u001b[0m\u001b[0;34m\u001b[0m\u001b[0m\n",
            "\u001b[0;32m/content/exp/nb_04.py\u001b[0m in \u001b[0;36maccumulate\u001b[0;34m(self, run)\u001b[0m\n\u001b[1;32m    155\u001b[0m         \u001b[0mself\u001b[0m\u001b[0;34m.\u001b[0m\u001b[0mcount\u001b[0m \u001b[0;34m+=\u001b[0m \u001b[0mbn\u001b[0m\u001b[0;34m\u001b[0m\u001b[0;34m\u001b[0m\u001b[0m\n\u001b[1;32m    156\u001b[0m         \u001b[0;32mfor\u001b[0m \u001b[0mi\u001b[0m\u001b[0;34m,\u001b[0m\u001b[0mm\u001b[0m \u001b[0;32min\u001b[0m \u001b[0menumerate\u001b[0m\u001b[0;34m(\u001b[0m\u001b[0mself\u001b[0m\u001b[0;34m.\u001b[0m\u001b[0mmetrics\u001b[0m\u001b[0;34m)\u001b[0m\u001b[0;34m:\u001b[0m\u001b[0;34m\u001b[0m\u001b[0;34m\u001b[0m\u001b[0m\n\u001b[0;32m--> 157\u001b[0;31m             \u001b[0mself\u001b[0m\u001b[0;34m.\u001b[0m\u001b[0mtot_mets\u001b[0m\u001b[0;34m[\u001b[0m\u001b[0mi\u001b[0m\u001b[0;34m]\u001b[0m \u001b[0;34m+=\u001b[0m \u001b[0mtorch\u001b[0m\u001b[0;34m.\u001b[0m\u001b[0mtensor\u001b[0m\u001b[0;34m(\u001b[0m\u001b[0mm\u001b[0m\u001b[0;34m(\u001b[0m\u001b[0mrun\u001b[0m\u001b[0;34m.\u001b[0m\u001b[0mpred\u001b[0m\u001b[0;34m,\u001b[0m \u001b[0mrun\u001b[0m\u001b[0;34m.\u001b[0m\u001b[0myb\u001b[0m\u001b[0;34m)\u001b[0m\u001b[0;34m)\u001b[0m \u001b[0;34m*\u001b[0m \u001b[0mbn\u001b[0m\u001b[0;34m\u001b[0m\u001b[0;34m\u001b[0m\u001b[0m\n\u001b[0m\u001b[1;32m    158\u001b[0m \u001b[0;34m\u001b[0m\u001b[0m\n\u001b[1;32m    159\u001b[0m \u001b[0;34m\u001b[0m\u001b[0m\n",
            "\u001b[0;32m/content/exp/nb_03.py\u001b[0m in \u001b[0;36maccuracy\u001b[0;34m(out, yb)\u001b[0m\n\u001b[1;32m      8\u001b[0m \u001b[0;32mimport\u001b[0m \u001b[0mtorch\u001b[0m\u001b[0;34m.\u001b[0m\u001b[0mnn\u001b[0m\u001b[0;34m.\u001b[0m\u001b[0mfunctional\u001b[0m \u001b[0;32mas\u001b[0m \u001b[0mF\u001b[0m\u001b[0;34m\u001b[0m\u001b[0;34m\u001b[0m\u001b[0m\n\u001b[1;32m      9\u001b[0m \u001b[0;34m\u001b[0m\u001b[0m\n\u001b[0;32m---> 10\u001b[0;31m \u001b[0;32mdef\u001b[0m \u001b[0maccuracy\u001b[0m\u001b[0;34m(\u001b[0m\u001b[0mout\u001b[0m\u001b[0;34m,\u001b[0m \u001b[0myb\u001b[0m\u001b[0;34m)\u001b[0m\u001b[0;34m:\u001b[0m \u001b[0;32mreturn\u001b[0m \u001b[0;34m(\u001b[0m\u001b[0mtorch\u001b[0m\u001b[0;34m.\u001b[0m\u001b[0margmax\u001b[0m\u001b[0;34m(\u001b[0m\u001b[0mout\u001b[0m\u001b[0;34m,\u001b[0m \u001b[0mdim\u001b[0m\u001b[0;34m=\u001b[0m\u001b[0;36m1\u001b[0m\u001b[0;34m)\u001b[0m\u001b[0;34m==\u001b[0m\u001b[0myb\u001b[0m\u001b[0;34m)\u001b[0m\u001b[0;34m.\u001b[0m\u001b[0mfloat\u001b[0m\u001b[0;34m(\u001b[0m\u001b[0;34m)\u001b[0m\u001b[0;34m.\u001b[0m\u001b[0mmean\u001b[0m\u001b[0;34m(\u001b[0m\u001b[0;34m)\u001b[0m\u001b[0;34m\u001b[0m\u001b[0;34m\u001b[0m\u001b[0m\n\u001b[0m\u001b[1;32m     11\u001b[0m \u001b[0;34m\u001b[0m\u001b[0m\n\u001b[1;32m     12\u001b[0m \u001b[0;32mfrom\u001b[0m \u001b[0mtorch\u001b[0m \u001b[0;32mimport\u001b[0m \u001b[0moptim\u001b[0m\u001b[0;34m\u001b[0m\u001b[0;34m\u001b[0m\u001b[0m\n",
            "\u001b[0;31mTypeError\u001b[0m: argmax(): argument 'input' (position 1) must be Tensor, not tuple"
          ]
        }
      ]
    },
    {
      "cell_type": "code",
      "source": [
        "learn.loss_func"
      ],
      "metadata": {
        "id": "z_n2KDALZWCp",
        "outputId": "b91e02ca-207d-4975-aa15-1d366c549ada",
        "colab": {
          "base_uri": "https://localhost:8080/"
        }
      },
      "execution_count": 84,
      "outputs": [
        {
          "output_type": "execute_result",
          "data": {
            "text/plain": [
              "FocalLoss()"
            ]
          },
          "metadata": {},
          "execution_count": 84
        }
      ]
    },
    {
      "cell_type": "code",
      "source": [
        "def model_summary(run, learn, data, find_all=False):\n",
        "    xb,yb = get_batch(data.valid_dl, run)\n",
        "    device = next(learn.model.parameters()).device#Model may not be on the GPU yet\n",
        "    xb,yb = xb.to(device),yb.to(device)\n",
        "    mods = learn.model.children()\n",
        "    f = lambda hook,mod,inp,out: print(f\"{mod}\\n{out.shape}\\n\")\n",
        "    with Hooks(mods, f) as hooks: learn.model(xb)"
      ],
      "metadata": {
        "id": "ZhGMUtaJ3JP1"
      },
      "execution_count": null,
      "outputs": []
    },
    {
      "cell_type": "code",
      "source": [
        "run.cbs"
      ],
      "metadata": {
        "id": "Ly5Uu4pSJLDk",
        "outputId": "7072ba33-013d-4efd-9bb7-5499874e9441",
        "colab": {
          "base_uri": "https://localhost:8080/"
        }
      },
      "execution_count": null,
      "outputs": [
        {
          "output_type": "execute_result",
          "data": {
            "text/plain": [
              "[<__main__.TrainEvalCallback at 0x7f4cc4c13f90>,\n",
              " <__main__.AvgStatsCallback at 0x7f4cc4c13450>,\n",
              " <exp.nb_06.CudaCallback at 0x7f4cc7ae7a90>,\n",
              " <__main__.BatchTransformXCallback at 0x7f4cc7ae7210>,\n",
              " <__main__.ParamScheduler at 0x7f4cc4c15c90>]"
            ]
          },
          "metadata": {},
          "execution_count": 167
        }
      ]
    }
  ]
}