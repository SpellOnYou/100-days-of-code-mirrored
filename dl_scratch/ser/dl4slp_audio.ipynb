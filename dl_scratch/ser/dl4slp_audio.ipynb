{
  "nbformat": 4,
  "nbformat_minor": 0,
  "metadata": {
    "kernelspec": {
      "display_name": "Python 3",
      "language": "python",
      "name": "python3"
    },
    "colab": {
      "name": "dl4slp-audio.ipynb",
      "provenance": [],
      "collapsed_sections": []
    },
    "accelerator": "GPU"
  },
  "cells": [
    {
      "cell_type": "markdown",
      "metadata": {
        "id": "BvFuWIUcT96F"
      },
      "source": [
        "## Machine config"
      ]
    },
    {
      "cell_type": "markdown",
      "metadata": {
        "id": "D1FVouZFT7-5"
      },
      "source": [
        "features-entry contains a list of a list with 26 items.\n",
        "- length of inner list: 26 (float numbers - represent one preprocessed speech frame (logMel))\n",
        "\n",
        "- length of outer list: number of frames per data-point, e.g. 10 or 15, ..."
      ]
    },
    {
      "cell_type": "markdown",
      "metadata": {
        "id": "yJk5cql1Y4-5"
      },
      "source": [
        "# Audio classification the from-scratch way"
      ]
    },
    {
      "cell_type": "markdown",
      "metadata": {
        "id": "BYO0fsJ0Y4--"
      },
      "source": [
        "We're going to demonstrate the technique of classifying audio samples by first converting the audio into spectrograms, then treating the spectrograms as images. Once we've converted the spectrograms to images, the workflow is just the same as using imagenette or any other image classification task.\n",
        "\n",
        "What do we need to do?\n",
        "* Download the data\n",
        "* Load the data\n",
        "    - split the data to each element\n",
        "    - split to train / valid\n",
        "    - get label\n",
        "    - zero pad\n",
        "* Transform the data into spectrograms (skip)\n",
        "* Load the audio data into a databunch such that we can use our previously-defined `learner` object\n",
        "\n",
        "Still to come - 1D convolutional models, RNNs with audio… and more, with your contribution :)"
      ]
    },
    {
      "cell_type": "markdown",
      "metadata": {
        "id": "bAlwR99YY4--"
      },
      "source": [
        "# Download the data"
      ]
    },
    {
      "cell_type": "code",
      "source": [
        "from google.colab import drive\n",
        "drive.mount('/gdrive')"
      ],
      "metadata": {
        "colab": {
          "base_uri": "https://localhost:8080/"
        },
        "id": "xRiotknrYPlR",
        "outputId": "f26f5228-ccdf-42d8-bb97-f6177e328297"
      },
      "execution_count": 1,
      "outputs": [
        {
          "output_type": "stream",
          "name": "stdout",
          "text": [
            "Mounted at /gdrive\n"
          ]
        }
      ]
    },
    {
      "cell_type": "code",
      "source": [
        "# !cp /gdrive/Shareddrives/Dion-Account/2122WS/dl4slp/coding-project/ser_traindev.tar.gz /content/.\n",
        "# !mkdir /content/data\n",
        "# !mv /content/ser_traindev.tar.gz /content/data\n",
        "# %cd /content/data\n",
        "# !tar -xf /content/data/ser_traindev.tar.gz\n",
        "# %cd /content"
      ],
      "metadata": {
        "id": "NfW7x2ENYfwk",
        "outputId": "b8bc16f1-87ea-4fa9-c6f6-c95f6062e11f",
        "colab": {
          "base_uri": "https://localhost:8080/"
        }
      },
      "execution_count": null,
      "outputs": [
        {
          "output_type": "stream",
          "name": "stdout",
          "text": [
            "/content/data\n",
            "/content\n"
          ]
        }
      ]
    },
    {
      "cell_type": "code",
      "metadata": {
        "id": "W-wsrtZxY75X",
        "outputId": "409007f5-de33-4ec2-ee4b-77fcb3594b4b",
        "colab": {
          "base_uri": "https://localhost:8080/"
        }
      },
      "source": [
        "!git clone https://github.com/fastai/course-v3/ /content/course-v3"
      ],
      "execution_count": 2,
      "outputs": [
        {
          "output_type": "stream",
          "name": "stdout",
          "text": [
            "Cloning into '/content/course-v3'...\n",
            "remote: Enumerating objects: 5893, done.\u001b[K\n",
            "remote: Counting objects: 100% (3/3), done.\u001b[K\n",
            "remote: Compressing objects: 100% (3/3), done.\u001b[K\n",
            "remote: Total 5893 (delta 0), reused 2 (delta 0), pack-reused 5890\u001b[K\n",
            "Receiving objects: 100% (5893/5893), 263.03 MiB | 39.42 MiB/s, done.\n",
            "Resolving deltas: 100% (3249/3249), done.\n"
          ]
        }
      ]
    },
    {
      "cell_type": "markdown",
      "source": [
        "- after cloning, if you want to import other modules, you shouyld fix the file `exp.nb_11`\n",
        "\n",
        "`from exp.nb_10c import *` to `from exp.nb_10b import *`\n"
      ],
      "metadata": {
        "id": "FeBrKvJbSCRM"
      }
    },
    {
      "cell_type": "code",
      "metadata": {
        "id": "m54dJjeDZADw",
        "colab": {
          "base_uri": "https://localhost:8080/"
        },
        "outputId": "e005f8c1-beda-43c2-be78-bb314137c61f"
      },
      "source": [
        "# restart-run\n",
        "%cd /content/course-v3/nbs/dl2"
      ],
      "execution_count": 4,
      "outputs": [
        {
          "output_type": "stream",
          "name": "stdout",
          "text": [
            "/content/course-v3/nbs/dl2\n"
          ]
        }
      ]
    },
    {
      "cell_type": "code",
      "metadata": {
        "id": "E8jMWhLwY4_C"
      },
      "source": [
        "# restart-run\n",
        "from exp.nb_12a import *"
      ],
      "execution_count": 170,
      "outputs": []
    },
    {
      "cell_type": "code",
      "source": [
        "# restart-run\n",
        "%cd /content"
      ],
      "metadata": {
        "colab": {
          "base_uri": "https://localhost:8080/"
        },
        "id": "kkrWjIS4Z3vx",
        "outputId": "8548a0bb-76f5-4481-b9d5-09dc16749bf3"
      },
      "execution_count": 6,
      "outputs": [
        {
          "output_type": "stream",
          "name": "stdout",
          "text": [
            "/content\n"
          ]
        }
      ]
    },
    {
      "cell_type": "code",
      "source": [
        "root_path = Path('/gdrive/Shareddrives/Dion-Account/2122WS/8-dl4slp/coding-project/data/v1/ser');"
      ],
      "metadata": {
        "id": "YzB03GgdSsBW"
      },
      "execution_count": 21,
      "outputs": []
    },
    {
      "cell_type": "code",
      "source": [
        "train_path = root_path/'train'"
      ],
      "metadata": {
        "id": "XxRfMtm7UTb_"
      },
      "execution_count": 22,
      "outputs": []
    },
    {
      "cell_type": "code",
      "source": [
        "audios = get_files(train_path)"
      ],
      "metadata": {
        "id": "vR7U0z1HmgoR"
      },
      "execution_count": 23,
      "outputs": []
    },
    {
      "cell_type": "code",
      "source": [
        "# restart-run\n",
        "class AudioList(ItemList):\n",
        "    @classmethod\n",
        "    def from_files(cls, path, extensions = None, recurse=True, include=None, **kwargs):\n",
        "        return cls(get_files(path, extensions, recurse=recurse, include=include), path, **kwargs)\n",
        "    \n",
        "    def get(self, fn):\n",
        "        return torch.load(fn)"
      ],
      "metadata": {
        "id": "fPJ2emMUmglw"
      },
      "execution_count": 24,
      "outputs": []
    },
    {
      "cell_type": "code",
      "source": [
        "al=AudioList.from_files(train_path); al"
      ],
      "metadata": {
        "colab": {
          "base_uri": "https://localhost:8080/"
        },
        "id": "PSfrsOPbmgil",
        "outputId": "63a38abb-9c87-4498-f0c1-35ad9a942cb7"
      },
      "execution_count": 25,
      "outputs": [
        {
          "output_type": "execute_result",
          "data": {
            "text/plain": [
              "AudioList (7800 items)\n",
              "[PosixPath('/gdrive/Shareddrives/Dion-Account/2122WS/8-dl4slp/coding-project/data/v1/ser/train/7760_1_1.pt'), PosixPath('/gdrive/Shareddrives/Dion-Account/2122WS/8-dl4slp/coding-project/data/v1/ser/train/7761_0_0.pt'), PosixPath('/gdrive/Shareddrives/Dion-Account/2122WS/8-dl4slp/coding-project/data/v1/ser/train/7762_0_0.pt'), PosixPath('/gdrive/Shareddrives/Dion-Account/2122WS/8-dl4slp/coding-project/data/v1/ser/train/7763_1_0.pt'), PosixPath('/gdrive/Shareddrives/Dion-Account/2122WS/8-dl4slp/coding-project/data/v1/ser/train/7764_1_1.pt'), PosixPath('/gdrive/Shareddrives/Dion-Account/2122WS/8-dl4slp/coding-project/data/v1/ser/train/7765_1_0.pt'), PosixPath('/gdrive/Shareddrives/Dion-Account/2122WS/8-dl4slp/coding-project/data/v1/ser/train/7766_1_1.pt'), PosixPath('/gdrive/Shareddrives/Dion-Account/2122WS/8-dl4slp/coding-project/data/v1/ser/train/7767_1_0.pt'), PosixPath('/gdrive/Shareddrives/Dion-Account/2122WS/8-dl4slp/coding-project/data/v1/ser/train/7768_1_0.pt'), PosixPath('/gdrive/Shareddrives/Dion-Account/2122WS/8-dl4slp/coding-project/data/v1/ser/train/7769_1_1.pt')...]\n",
              "Path: /gdrive/Shareddrives/Dion-Account/2122WS/8-dl4slp/coding-project/data/v1/ser/train"
            ]
          },
          "metadata": {},
          "execution_count": 25
        }
      ]
    },
    {
      "cell_type": "code",
      "source": [
        "al_dev=AudioList.from_files(dev_path); al_dev"
      ],
      "metadata": {
        "id": "0epbejCGbGnU"
      },
      "execution_count": null,
      "outputs": []
    },
    {
      "cell_type": "code",
      "source": [
        "al[0].shape"
      ],
      "metadata": {
        "colab": {
          "base_uri": "https://localhost:8080/"
        },
        "id": "zAEwNikMmgbp",
        "outputId": "cc5bacd2-9510-4aaa-dfe3-0614230535d5"
      },
      "execution_count": 26,
      "outputs": [
        {
          "output_type": "execute_result",
          "data": {
            "text/plain": [
              "torch.Size([614, 26])"
            ]
          },
          "metadata": {},
          "execution_count": 26
        }
      ]
    },
    {
      "cell_type": "markdown",
      "source": [
        "# v2 - save as an image"
      ],
      "metadata": {
        "id": "6ynm3O_A0lPQ"
      }
    },
    {
      "cell_type": "code",
      "source": [
        "plt_path = Path('/content/v3/ser')"
      ],
      "metadata": {
        "id": "5kzAtRwBYbTS"
      },
      "execution_count": 69,
      "outputs": []
    },
    {
      "cell_type": "code",
      "source": [
        "train_path = plt_path/'train'"
      ],
      "metadata": {
        "id": "a2Q-005Zi8bf"
      },
      "execution_count": 70,
      "outputs": []
    },
    {
      "cell_type": "markdown",
      "source": [
        "- load tensor and save it to ....... image"
      ],
      "metadata": {
        "id": "i90rXfVThUZx"
      }
    },
    {
      "cell_type": "code",
      "source": [
        "for idx, fpath in enumerate(al):\n",
        "    fname = str(plt_train_path/fpath.stem) + '.png'\n",
        "    # print(fname); break\n",
        "    plt.imsave(fname, torch.load(fpath))"
      ],
      "metadata": {
        "collapsed": true,
        "id": "__i2PvcDYGvL"
      },
      "execution_count": 58,
      "outputs": []
    },
    {
      "cell_type": "markdown",
      "source": [
        "- save"
      ],
      "metadata": {
        "id": "At2WYuVgfxLX"
      }
    },
    {
      "cell_type": "code",
      "source": [
        "%cd /content/v3\n",
        "!tar -zcf ser-img.tar.gz ser/"
      ],
      "metadata": {
        "id": "JGxsW3JLhcOa",
        "outputId": "ae5f074b-aa88-4d01-905d-fc08097a335d",
        "colab": {
          "base_uri": "https://localhost:8080/"
        }
      },
      "execution_count": 67,
      "outputs": [
        {
          "output_type": "stream",
          "name": "stdout",
          "text": [
            "/content/v3\n"
          ]
        }
      ]
    },
    {
      "cell_type": "code",
      "source": [
        "# plt.imshow(item2.permute(1,2,0))"
      ],
      "metadata": {
        "id": "5EZMQkbL30Q4",
        "outputId": "dbcddc72-9370-4d44-af05-5f4a7fff056b",
        "colab": {
          "base_uri": "https://localhost:8080/",
          "height": 286
        },
        "collapsed": true
      },
      "execution_count": null,
      "outputs": [
        {
          "output_type": "execute_result",
          "data": {
            "text/plain": [
              "<matplotlib.image.AxesImage at 0x7f42f54d2610>"
            ]
          },
          "metadata": {},
          "execution_count": 66
        },
        {
          "output_type": "display_data",
          "data": {
            "image/png": "[encoded data removed]",
            "text/plain": [
              "<Figure size 432x288 with 1 Axes>"
            ]
          },
          "metadata": {
            "needs_background": "light"
          }
        }
      ]
    },
    {
      "cell_type": "code",
      "source": [
        "train_path"
      ],
      "metadata": {
        "id": "tiHf2o5vjIL7",
        "outputId": "98593371-b7f4-4552-85e9-348956dad7d8",
        "colab": {
          "base_uri": "https://localhost:8080/"
        }
      },
      "execution_count": 76,
      "outputs": [
        {
          "output_type": "execute_result",
          "data": {
            "text/plain": [
              "PosixPath('/content/v3/ser/train')"
            ]
          },
          "metadata": {},
          "execution_count": 76
        }
      ]
    },
    {
      "cell_type": "code",
      "source": [
        "il = ImageList.from_files(train_path, tfms=make_rgb)"
      ],
      "metadata": {
        "id": "GGogm6b1gRO3"
      },
      "execution_count": 173,
      "outputs": []
    },
    {
      "cell_type": "code",
      "source": [
        "il[0].save('plt-imsave-and-pil-open.png')"
      ],
      "metadata": {
        "collapsed": true,
        "id": "iwu-dnjxi3ll"
      },
      "execution_count": 169,
      "outputs": []
    },
    {
      "cell_type": "code",
      "source": [
        "il"
      ],
      "metadata": {
        "id": "vMLI-KiS2wQe",
        "outputId": "0da2b962-5d74-442d-b23e-277a432b8404",
        "colab": {
          "base_uri": "https://localhost:8080/"
        }
      },
      "execution_count": 79,
      "outputs": [
        {
          "output_type": "execute_result",
          "data": {
            "text/plain": [
              "ImageList (7800 items)\n",
              "[PosixPath('/content/v3/ser/train/6819_1_1.png'), PosixPath('/content/v3/ser/train/5904_1_1.png'), PosixPath('/content/v3/ser/train/5150_1_1.png'), PosixPath('/content/v3/ser/train/103_1_0.png'), PosixPath('/content/v3/ser/train/261_0_0.png'), PosixPath('/content/v3/ser/train/7590_1_0.png'), PosixPath('/content/v3/ser/train/3458_1_1.png'), PosixPath('/content/v3/ser/train/5225_0_0.png'), PosixPath('/content/v3/ser/train/1143_0_1.png'), PosixPath('/content/v3/ser/train/2923_1_1.png')...]\n",
              "Path: /content/v3/ser/train"
            ]
          },
          "metadata": {},
          "execution_count": 79
        }
      ]
    },
    {
      "cell_type": "code",
      "source": [
        "sd = SplitData.split_by_func(al, partial(random_splitter, p_valid=0.2))"
      ],
      "metadata": {
        "id": "fszedZGq2wV8"
      },
      "execution_count": 82,
      "outputs": []
    },
    {
      "cell_type": "code",
      "source": [
        "# restart-run\n",
        "def re_labeler(fn, pat, subcl='act'):\n",
        "    assert subcl in ['act', 'val', 'all']\n",
        "    if subcl=='all': return ''.join(re.findall(pat, str(fn)))\n",
        "    else:\n",
        "        return re.findall(pat, str(fn))[0] if pat == 'act' else re.findall(pat, str(fn))[1]"
      ],
      "metadata": {
        "id": "Q8aEXcNWmgSL"
      },
      "execution_count": 80,
      "outputs": []
    },
    {
      "cell_type": "code",
      "source": [
        "# restart-run\n",
        "label_pat = r'_(\\d+)'\n",
        "emotion_labeler = partial(re_labeler, pat=label_pat, subcl='all')\n",
        "ll = label_by_func(sd, emotion_labeler, proc_y=CategoryProcessor())"
      ],
      "metadata": {
        "id": "YdJRlaBGsvyH"
      },
      "execution_count": 92,
      "outputs": []
    },
    {
      "cell_type": "code",
      "source": [
        "uniqueify(ll.y.items)"
      ],
      "metadata": {
        "colab": {
          "base_uri": "https://localhost:8080/"
        },
        "id": "cqc4iTHusK86",
        "outputId": "1e89f842-85ef-400c-f019-d7df1bb9e6a1"
      },
      "execution_count": 98,
      "outputs": [
        {
          "output_type": "execute_result",
          "data": {
            "text/plain": [
              "[0, 1, 2, 3]"
            ]
          },
          "metadata": {},
          "execution_count": 98
        }
      ]
    },
    {
      "cell_type": "code",
      "source": [
        "class ToCuda():\n",
        "    _order=20\n",
        "    def __call__(self, ad):\n",
        "        return ad.cuda()"
      ],
      "metadata": {
        "id": "pli2CdzxqC5o"
      },
      "execution_count": 131,
      "outputs": []
    },
    {
      "cell_type": "code",
      "source": [
        "print(inspect.getsource(ResizeFixed))"
      ],
      "metadata": {
        "id": "LNHcX7ZnrpBB",
        "outputId": "e6746928-db7f-4a5b-8c9e-f5e0b36b7091",
        "colab": {
          "base_uri": "https://localhost:8080/"
        }
      },
      "execution_count": 145,
      "outputs": [
        {
          "output_type": "stream",
          "name": "stdout",
          "text": [
            "class ResizeFixed(Transform):\n",
            "    _order=10\n",
            "    def __init__(self,size):\n",
            "        if isinstance(size,int): size=(size,size)\n",
            "        self.size = size\n",
            "\n",
            "    def __call__(self, item): return item.resize(self.size, PIL.Image.BILINEAR)\n",
            "\n"
          ]
        }
      ]
    },
    {
      "cell_type": "code",
      "source": [
        "print(inspect.getsource(to_byte_tensor))"
      ],
      "metadata": {
        "id": "CceIypPkrxbo",
        "outputId": "20076819-bb09-4f3a-978e-4bca8c47644a",
        "colab": {
          "base_uri": "https://localhost:8080/"
        }
      },
      "execution_count": 146,
      "outputs": [
        {
          "output_type": "stream",
          "name": "stdout",
          "text": [
            "def to_byte_tensor(item):\n",
            "    res = torch.ByteTensor(torch.ByteStorage.from_buffer(item.tobytes()))\n",
            "    w,h = item.size\n",
            "    return res.view(h,w,-1).permute(2,0,1)\n",
            "\n"
          ]
        }
      ]
    },
    {
      "cell_type": "code",
      "source": [
        "def to_byte_tensor(item):\n",
        "    res = torch.ByteTensor(torch.ByteStorage.from_buffer(item.tobytes()))\n",
        "    c,h = item.size\n",
        "    return res.view(h,w,-1).permute(2,0,1)"
      ],
      "metadata": {
        "id": "eRCgjV0vsH5P"
      },
      "execution_count": null,
      "outputs": []
    },
    {
      "cell_type": "code",
      "source": [
        "il[0].size"
      ],
      "metadata": {
        "id": "LdxCg5PpsjRP",
        "outputId": "3851d307-88cc-487f-a7c4-2828586c73da",
        "colab": {
          "base_uri": "https://localhost:8080/"
        }
      },
      "execution_count": 174,
      "outputs": [
        {
          "output_type": "execute_result",
          "data": {
            "text/plain": [
              "(26, 260)"
            ]
          },
          "metadata": {},
          "execution_count": 174
        }
      ]
    },
    {
      "cell_type": "code",
      "source": [
        "tfms[:2]"
      ],
      "metadata": {
        "id": "51Yyt8FPtMH2",
        "outputId": "e131469f-63dc-4c04-87cb-a740028412fe",
        "colab": {
          "base_uri": "https://localhost:8080/"
        }
      },
      "execution_count": 159,
      "outputs": [
        {
          "output_type": "execute_result",
          "data": {
            "text/plain": [
              "[<function exp.nb_08.make_rgb>, <exp.nb_08.ResizeFixed at 0x7f005f6445d0>]"
            ]
          },
          "metadata": {},
          "execution_count": 159
        }
      ]
    },
    {
      "cell_type": "code",
      "source": [
        "def to_byte_tensor(item):\n",
        "    res = torch.ByteTensor(torch.ByteStorage.from_buffer(item.tobytes()))\n",
        "    c,h = item.size\n",
        "    return res.view(c, h).unsqueeze(0)\n",
        "    # return res.view(h,w,-1).permute(2,0,1)"
      ],
      "metadata": {
        "id": "U_Zmdobrs3Iq"
      },
      "execution_count": 163,
      "outputs": []
    },
    {
      "cell_type": "code",
      "source": [
        "tmp = compose(il[0], tfms[:2])"
      ],
      "metadata": {
        "id": "MJkWDn7CsUqn"
      },
      "execution_count": 164,
      "outputs": []
    },
    {
      "cell_type": "code",
      "source": [
        "tfms = [make_rgb, ResizeFixed(128), to_byte_tensor, to_float_tensor, ToCuda()]\n",
        "il = ImageList.from_files(train_path, tfms = tfms)\n",
        "sd = SplitData.split_by_func(il, partial(random_splitter, p_valid=0.2))\n",
        "ll = label_by_func(sd, emotion_labeler, proc_y=CategoryProcessor())"
      ],
      "metadata": {
        "id": "8kRBkRzblKws"
      },
      "execution_count": 132,
      "outputs": []
    },
    {
      "cell_type": "code",
      "source": [
        "x, y = ll.train[0]"
      ],
      "metadata": {
        "id": "g9xNOAd5lorw"
      },
      "execution_count": 133,
      "outputs": []
    },
    {
      "cell_type": "code",
      "source": [
        "x.shape"
      ],
      "metadata": {
        "id": "2zvZlelQmHiU",
        "outputId": "8bde8448-972b-49e4-c57b-f69e3deaec72",
        "colab": {
          "base_uri": "https://localhost:8080/"
        }
      },
      "execution_count": 134,
      "outputs": [
        {
          "output_type": "execute_result",
          "data": {
            "text/plain": [
              "torch.Size([3, 128, 128])"
            ]
          },
          "metadata": {},
          "execution_count": 134
        }
      ]
    },
    {
      "cell_type": "code",
      "source": [
        "print(inspect.getsource(show_image))"
      ],
      "metadata": {
        "id": "rHjNbEZMqqYw",
        "outputId": "54cdb7fb-21be-49e8-8820-da8d91e64f85",
        "colab": {
          "base_uri": "https://localhost:8080/"
        }
      },
      "execution_count": 135,
      "outputs": [
        {
          "output_type": "stream",
          "name": "stdout",
          "text": [
            "def show_image(im, ax=None, figsize=(3,3)):\n",
            "    if ax is None: _,ax = plt.subplots(1, 1, figsize=figsize)\n",
            "    ax.axis('off')\n",
            "    ax.imshow(im.permute(1,2,0))\n",
            "\n"
          ]
        }
      ]
    },
    {
      "cell_type": "code",
      "source": [
        "show_image(x.cpu())"
      ],
      "metadata": {
        "id": "ukw5nvFRmIeK",
        "outputId": "32cd3529-cdc0-42fb-fcfe-b09ac61067ab",
        "colab": {
          "base_uri": "https://localhost:8080/",
          "height": 194
        }
      },
      "execution_count": 136,
      "outputs": [
        {
          "output_type": "display_data",
          "data": {
            "image/png": "[encoded data removed]",
            "text/plain": [
              "<Figure size 216x216 with 1 Axes>"
            ]
          },
          "metadata": {
            "needs_background": "light"
          }
        }
      ]
    },
    {
      "cell_type": "code",
      "source": [
        "bs=64\n",
        "c_in = ll.train[0][0].shape[0]\n",
        "c_out = len(uniqueify(ll.train.y))"
      ],
      "metadata": {
        "id": "oGWK3QRSnQ6_"
      },
      "execution_count": 137,
      "outputs": []
    },
    {
      "cell_type": "code",
      "source": [
        "c_in, c_out"
      ],
      "metadata": {
        "id": "ApNflCkXnXTl",
        "outputId": "3e08e70c-173a-4edf-9f36-f2c93dc398c4",
        "colab": {
          "base_uri": "https://localhost:8080/"
        }
      },
      "execution_count": 138,
      "outputs": [
        {
          "output_type": "execute_result",
          "data": {
            "text/plain": [
              "(3, 4)"
            ]
          },
          "metadata": {},
          "execution_count": 138
        }
      ]
    },
    {
      "cell_type": "code",
      "source": [
        "data = ll.to_databunch(bs,c_in=c_in,c_out=c_out)"
      ],
      "metadata": {
        "id": "dIgIHL5AnV-9"
      },
      "execution_count": 139,
      "outputs": []
    },
    {
      "cell_type": "code",
      "source": [
        "opt_func = adam_opt(mom=0.9, mom_sqr=0.99, eps=1e-6, wd=1e-2)\n",
        "loss_func = LabelSmoothingCrossEntropy()\n",
        "lr = 1e-2\n",
        "pct_start = 0.5\n",
        "phases = create_phases(pct_start)\n",
        "sched_lr = combine_scheds(phases, cos_1cycle_anneal(lr/10., lr, lr/1e5))\n",
        "sched_mom = combine_scheds(phases, cos_1cycle_anneal(0.95,0.85, 0.95))\n",
        "cbscheds = [ParamScheduler('lr', sched_lr),\n",
        "ParamScheduler('mom', sched_mom)]"
      ],
      "metadata": {
        "id": "KiNC3vPEnKuW"
      },
      "execution_count": 140,
      "outputs": []
    },
    {
      "cell_type": "code",
      "source": [
        "learn = cnn_learner(xresnet34, data, loss_func, opt_func)"
      ],
      "metadata": {
        "id": "xNbsGjphnKsL"
      },
      "execution_count": 141,
      "outputs": []
    },
    {
      "cell_type": "code",
      "source": [
        "!pip install -qq torchmetrics"
      ],
      "metadata": {
        "id": "YqE1Y3aOoWZM",
        "outputId": "a912b16a-4578-478c-e1ba-245daadd23d2",
        "colab": {
          "base_uri": "https://localhost:8080/"
        }
      },
      "execution_count": 117,
      "outputs": [
        {
          "output_type": "stream",
          "name": "stdout",
          "text": [
            "\u001b[?25l\r\u001b[K     |█                               | 10 kB 27.5 MB/s eta 0:00:01\r\u001b[K     |██                              | 20 kB 19.7 MB/s eta 0:00:01\r\u001b[K     |███                             | 30 kB 10.9 MB/s eta 0:00:01\r\u001b[K     |████                            | 40 kB 9.0 MB/s eta 0:00:01\r\u001b[K     |█████                           | 51 kB 5.1 MB/s eta 0:00:01\r\u001b[K     |██████                          | 61 kB 5.6 MB/s eta 0:00:01\r\u001b[K     |███████                         | 71 kB 5.4 MB/s eta 0:00:01\r\u001b[K     |███████▉                        | 81 kB 6.1 MB/s eta 0:00:01\r\u001b[K     |████████▉                       | 92 kB 4.7 MB/s eta 0:00:01\r\u001b[K     |█████████▉                      | 102 kB 5.0 MB/s eta 0:00:01\r\u001b[K     |██████████▉                     | 112 kB 5.0 MB/s eta 0:00:01\r\u001b[K     |███████████▉                    | 122 kB 5.0 MB/s eta 0:00:01\r\u001b[K     |████████████▉                   | 133 kB 5.0 MB/s eta 0:00:01\r\u001b[K     |█████████████▉                  | 143 kB 5.0 MB/s eta 0:00:01\r\u001b[K     |██████████████▉                 | 153 kB 5.0 MB/s eta 0:00:01\r\u001b[K     |███████████████▊                | 163 kB 5.0 MB/s eta 0:00:01\r\u001b[K     |████████████████▊               | 174 kB 5.0 MB/s eta 0:00:01\r\u001b[K     |█████████████████▊              | 184 kB 5.0 MB/s eta 0:00:01\r\u001b[K     |██████████████████▊             | 194 kB 5.0 MB/s eta 0:00:01\r\u001b[K     |███████████████████▊            | 204 kB 5.0 MB/s eta 0:00:01\r\u001b[K     |████████████████████▊           | 215 kB 5.0 MB/s eta 0:00:01\r\u001b[K     |█████████████████████▊          | 225 kB 5.0 MB/s eta 0:00:01\r\u001b[K     |██████████████████████▋         | 235 kB 5.0 MB/s eta 0:00:01\r\u001b[K     |███████████████████████▋        | 245 kB 5.0 MB/s eta 0:00:01\r\u001b[K     |████████████████████████▋       | 256 kB 5.0 MB/s eta 0:00:01\r\u001b[K     |█████████████████████████▋      | 266 kB 5.0 MB/s eta 0:00:01\r\u001b[K     |██████████████████████████▋     | 276 kB 5.0 MB/s eta 0:00:01\r\u001b[K     |███████████████████████████▋    | 286 kB 5.0 MB/s eta 0:00:01\r\u001b[K     |████████████████████████████▋   | 296 kB 5.0 MB/s eta 0:00:01\r\u001b[K     |█████████████████████████████▋  | 307 kB 5.0 MB/s eta 0:00:01\r\u001b[K     |██████████████████████████████▌ | 317 kB 5.0 MB/s eta 0:00:01\r\u001b[K     |███████████████████████████████▌| 327 kB 5.0 MB/s eta 0:00:01\r\u001b[K     |████████████████████████████████| 332 kB 5.0 MB/s \n",
            "\u001b[?25h"
          ]
        }
      ]
    },
    {
      "cell_type": "code",
      "source": [
        "from torchmetrics import F1\n",
        "f1 = F1(num_classes=4)"
      ],
      "metadata": {
        "id": "yz1pU7T9nKlF"
      },
      "execution_count": 142,
      "outputs": []
    },
    {
      "cell_type": "code",
      "source": [
        "learn.fit(5, cbs=cbscheds)"
      ],
      "metadata": {
        "id": "LbzjaSecnKnM",
        "outputId": "d49fb409-be56-4868-c673-c727c655477b",
        "colab": {
          "base_uri": "https://localhost:8080/",
          "height": 313
        }
      },
      "execution_count": 143,
      "outputs": [
        {
          "output_type": "display_data",
          "data": {
            "text/html": [
              "\n",
              "    <div>\n",
              "        <style>\n",
              "            /* Turns off some styling */\n",
              "            progress {\n",
              "                /* gets rid of default border in Firefox and Opera. */\n",
              "                border: none;\n",
              "                /* Needs to be in here for Safari polyfill so background images work as expected. */\n",
              "                background-size: auto;\n",
              "            }\n",
              "            .progress-bar-interrupted, .progress-bar-interrupted::-webkit-progress-bar {\n",
              "                background: #F44336;\n",
              "            }\n",
              "        </style>\n",
              "      <progress value='0' class='' max='5' style='width:300px; height:20px; vertical-align: middle;'></progress>\n",
              "      \n",
              "    </div>\n",
              "    \n"
            ],
            "text/plain": [
              "<IPython.core.display.HTML object>"
            ]
          },
          "metadata": {}
        },
        {
          "output_type": "display_data",
          "data": {
            "text/html": [
              "<table border=\"1\" class=\"dataframe\">\n",
              "  <thead>\n",
              "    <tr style=\"text-align: left;\">\n",
              "      <th>epoch</th>\n",
              "      <th>train_loss</th>\n",
              "      <th>train_accuracy</th>\n",
              "      <th>valid_loss</th>\n",
              "      <th>valid_accuracy</th>\n",
              "      <th>time</th>\n",
              "    </tr>\n",
              "  </thead>\n",
              "  <tbody>\n",
              "    <tr>\n",
              "      <td>0</td>\n",
              "      <td>1.245809</td>\n",
              "      <td>0.445051</td>\n",
              "      <td>1.297476</td>\n",
              "      <td>0.471602</td>\n",
              "      <td>00:19</td>\n",
              "    </tr>\n",
              "    <tr>\n",
              "      <td>1</td>\n",
              "      <td>1.244118</td>\n",
              "      <td>0.449382</td>\n",
              "      <td>1.426913</td>\n",
              "      <td>0.406509</td>\n",
              "      <td>00:19</td>\n",
              "    </tr>\n",
              "    <tr>\n",
              "      <td>2</td>\n",
              "      <td>1.216406</td>\n",
              "      <td>0.462859</td>\n",
              "      <td>1.336968</td>\n",
              "      <td>0.372048</td>\n",
              "      <td>00:19</td>\n",
              "    </tr>\n",
              "    <tr>\n",
              "      <td>3</td>\n",
              "      <td>1.189119</td>\n",
              "      <td>0.486283</td>\n",
              "      <td>1.169613</td>\n",
              "      <td>0.500319</td>\n",
              "      <td>00:19</td>\n",
              "    </tr>\n",
              "    <tr>\n",
              "      <td>4</td>\n",
              "      <td>1.149366</td>\n",
              "      <td>0.515161</td>\n",
              "      <td>1.159650</td>\n",
              "      <td>0.509892</td>\n",
              "      <td>00:20</td>\n",
              "    </tr>\n",
              "  </tbody>\n",
              "</table>"
            ],
            "text/plain": [
              "<IPython.core.display.HTML object>"
            ]
          },
          "metadata": {}
        },
        {
          "output_type": "stream",
          "name": "stderr",
          "text": [
            "/content/course-v3/nbs/dl2/exp/nb_09.py:136: UserWarning: This overload of add_ is deprecated:\n",
            "\tadd_(Number alpha, Tensor other)\n",
            "Consider using one of the following signatures instead:\n",
            "\tadd_(Tensor other, *, Number alpha) (Triggered internally at  ../torch/csrc/utils/python_arg_parser.cpp:1050.)\n",
            "  state['grad_avg'].mul_(mom).add_(state['mom_damp'], p.grad.data)\n"
          ]
        }
      ]
    },
    {
      "cell_type": "markdown",
      "source": [
        "---"
      ],
      "metadata": {
        "id": "dDyvyuiMnKh3"
      }
    },
    {
      "cell_type": "code",
      "source": [
        ""
      ],
      "metadata": {
        "id": "A5eIVmEorR7u"
      },
      "execution_count": null,
      "outputs": []
    },
    {
      "cell_type": "code",
      "source": [
        ""
      ],
      "metadata": {
        "id": "ng5tqOdtrSDR"
      },
      "execution_count": null,
      "outputs": []
    },
    {
      "cell_type": "code",
      "source": [
        ""
      ],
      "metadata": {
        "id": "UmlTr6MQrSJS"
      },
      "execution_count": null,
      "outputs": []
    },
    {
      "cell_type": "code",
      "source": [
        ""
      ],
      "metadata": {
        "id": "KrZula0YrSPk"
      },
      "execution_count": null,
      "outputs": []
    },
    {
      "cell_type": "markdown",
      "source": [
        ""
      ],
      "metadata": {
        "id": "TzVDT0G_Z3Fv"
      }
    }
  ]
}