{
  "nbformat": 4,
  "nbformat_minor": 0,
  "metadata": {
    "colab": {
      "name": "02b_copy.ipynb",
      "provenance": []
    },
    "kernelspec": {
      "name": "python3",
      "display_name": "Python 3"
    }
  },
  "cells": [
    {
      "cell_type": "markdown",
      "metadata": {
        "id": "giKuvytc-nPr",
        "colab_type": "text"
      },
      "source": [
        "Why you need good init\n",
        "---\n",
        "\n",
        "Original material [link](https://github.com/fastai/course-v3/blob/master/nbs/dl2/02b_initializing.ipynb)"
      ]
    },
    {
      "cell_type": "markdown",
      "metadata": {
        "id": "jcpyzAz0xrVl",
        "colab_type": "text"
      },
      "source": [
        "1. Suppose you have two tensors, one for data and the other for efficient. To the calculation for 100 times recursively\n",
        "2. check mean and standard deviation\n",
        "3. check when your value reaches none.(how many loops)\n",
        "4. multiply activation by 0.01 and see what happens\n"
      ]
    },
    {
      "cell_type": "code",
      "metadata": {
        "id": "F_OssQZgould",
        "colab_type": "code",
        "colab": {}
      },
      "source": [
        "import torch"
      ],
      "execution_count": 1,
      "outputs": []
    },
    {
      "cell_type": "code",
      "metadata": {
        "id": "RozTG2LRoxv2",
        "colab_type": "code",
        "colab": {}
      },
      "source": [
        "n = 512\n",
        "x = torch.randn(n)\n",
        "a = torch.randn(n,n)"
      ],
      "execution_count": 2,
      "outputs": []
    },
    {
      "cell_type": "code",
      "metadata": {
        "id": "HXlaK0ospV8K",
        "colab_type": "code",
        "colab": {}
      },
      "source": [
        "def describe(x): return(x.type(), f\"mean: {x.mean()}, std: {x.std()}\")"
      ],
      "execution_count": 10,
      "outputs": []
    },
    {
      "cell_type": "code",
      "metadata": {
        "id": "rjOCRNi3pn9T",
        "colab_type": "code",
        "colab": {}
      },
      "source": [
        "for i in range(100): x = a @ x"
      ],
      "execution_count": 5,
      "outputs": []
    },
    {
      "cell_type": "code",
      "metadata": {
        "id": "Py4_HhJ9p7mb",
        "colab_type": "code",
        "colab": {
          "base_uri": "https://localhost:8080/",
          "height": 35
        },
        "outputId": "65950870-c578-4477-adbf-bc60ff8397a5"
      },
      "source": [
        "describe(x)"
      ],
      "execution_count": 11,
      "outputs": [
        {
          "output_type": "execute_result",
          "data": {
            "text/plain": [
              "('torch.FloatTensor', 'mean: nan, std: nan')"
            ]
          },
          "metadata": {
            "tags": []
          },
          "execution_count": 11
        }
      ]
    },
    {
      "cell_type": "code",
      "metadata": {
        "id": "bhisQuIZqLFi",
        "colab_type": "code",
        "colab": {
          "base_uri": "https://localhost:8080/",
          "height": 35
        },
        "outputId": "b3e9e79f-8ed6-4c1e-f5fe-b3994ee211c8"
      },
      "source": [
        "x = torch.randn(n)\n",
        "a = torch.randn(n,n)\n",
        "\n",
        "for i in range(100):\n",
        "    x = a @ x\n",
        "    if not x.std() == x.std(): print(i); break"
      ],
      "execution_count": 16,
      "outputs": [
        {
          "output_type": "stream",
          "text": [
            "28\n"
          ],
          "name": "stdout"
        }
      ]
    },
    {
      "cell_type": "markdown",
      "metadata": {
        "id": "cGJSQRgEwL63",
        "colab_type": "text"
      },
      "source": [
        "[^2]: WHY DID THEY CHECK WITH STD? NOT A MEAN?"
      ]
    },
    {
      "cell_type": "code",
      "metadata": {
        "id": "ZkpJya1Uqzsl",
        "colab_type": "code",
        "colab": {
          "base_uri": "https://localhost:8080/",
          "height": 35
        },
        "outputId": "03bf423d-efdf-418c-9327-fd7b9e3f6f8d"
      },
      "source": [
        "x = torch.randn(n)\n",
        "a = torch.randn(n,n)\n",
        "\n",
        "for i in range(100):\n",
        "    x = a @ x\n",
        "    if not x.mean() == x.mean(): print(i); break"
      ],
      "execution_count": 17,
      "outputs": [
        {
          "output_type": "stream",
          "text": [
            "27\n"
          ],
          "name": "stdout"
        }
      ]
    },
    {
      "cell_type": "markdown",
      "metadata": {
        "id": "bSuBNTRqq6JC",
        "colab_type": "text"
      },
      "source": [
        "---\n",
        "\n",
        "Wait, how we do we compaer variables if we have \"Nan\"?"
      ]
    },
    {
      "cell_type": "code",
      "metadata": {
        "id": "5eCuZgdJncle",
        "colab_type": "code",
        "colab": {}
      },
      "source": [
        "a = float('NaN')"
      ],
      "execution_count": null,
      "outputs": []
    },
    {
      "cell_type": "code",
      "metadata": {
        "id": "tTObHLN8ngm0",
        "colab_type": "code",
        "colab": {
          "base_uri": "https://localhost:8080/",
          "height": 35
        },
        "outputId": "6549f7ab-c53b-4852-96e2-4c70dc7000e0"
      },
      "source": [
        "b = a\n",
        "a == b"
      ],
      "execution_count": null,
      "outputs": [
        {
          "output_type": "execute_result",
          "data": {
            "text/plain": [
              "False"
            ]
          },
          "metadata": {
            "tags": []
          },
          "execution_count": 2
        }
      ]
    },
    {
      "cell_type": "code",
      "metadata": {
        "id": "t800y67mrFXp",
        "colab_type": "code",
        "colab": {}
      },
      "source": [
        "a = torch.randn(n, n) * 0.1\n",
        "x = torch.randn(n)\n",
        "\n",
        "for i in range(100):\n",
        "    x = a @ x\n",
        "    if not x.mean()==x.mean(): print(i); break"
      ],
      "execution_count": 18,
      "outputs": []
    },
    {
      "cell_type": "code",
      "metadata": {
        "id": "YKeGELrOrUA6",
        "colab_type": "code",
        "colab": {
          "base_uri": "https://localhost:8080/",
          "height": 52
        },
        "outputId": "1fd34c3f-814d-4d64-ccd1-bdb543cab83c"
      },
      "source": [
        "describe(x)"
      ],
      "execution_count": 19,
      "outputs": [
        {
          "output_type": "execute_result",
          "data": {
            "text/plain": [
              "('torch.FloatTensor',\n",
              " 'mean: 7.452759524637429e+34, std: 2.1790210271840137e+36')"
            ]
          },
          "metadata": {
            "tags": []
          },
          "execution_count": 19
        }
      ]
    },
    {
      "cell_type": "markdown",
      "metadata": {
        "id": "9dqxX734-3Rv",
        "colab_type": "text"
      },
      "source": [
        "Write-out Answer\n",
        "---\n",
        "\n",
        "1. write down 3 strategies to initialize weight matrix\n",
        "2. explain which one Xavier did use"
      ]
    },
    {
      "cell_type": "markdown",
      "metadata": {
        "id": "ucVaOt9Ire85",
        "colab_type": "text"
      },
      "source": [
        "1. Answer\n",
        "- Orthgonal\n",
        "- make x and a@x have same scale (xavier used)\n",
        "- ???\n",
        "\n",
        "2. Xavier divided initialized value with number of scales(i.e. dimensions)"
      ]
    },
    {
      "cell_type": "markdown",
      "metadata": {
        "id": "zNKBgUH8-lnK",
        "colab_type": "text"
      },
      "source": [
        "\n",
        "The magic number for scaling\n",
        "---\n",
        "\n",
        "5. scale activation by xavier magic number, see what happens with 100 loop\n",
        "6. suppose you have $$y_{i} = a_{i,0} x_{0} + a_{i,1} x_{1} + \\cdots + a_{i,n-1} x_{n-1} = \\sum_{k=0}^{n-1} a_{i,k} x_{k}$$\n",
        " equation, and represent $y_i$ by code\n"
      ]
    },
    {
      "cell_type": "code",
      "metadata": {
        "id": "gqwI2dTHseL9",
        "colab_type": "code",
        "colab": {}
      },
      "source": [
        "from math import sqrt"
      ],
      "execution_count": 21,
      "outputs": []
    },
    {
      "cell_type": "code",
      "metadata": {
        "id": "71pyeahtsq1a",
        "colab_type": "code",
        "colab": {
          "base_uri": "https://localhost:8080/",
          "height": 35
        },
        "outputId": "d5cf59ad-3612-4711-b47d-0fc6d0bea30b"
      },
      "source": [
        "a = torch.randn(n, n) / sqrt(n)\n",
        "x = torch.randn(n)\n",
        "\n",
        "for i in range(100):\n",
        "    x = a @ x\n",
        "describe(x)"
      ],
      "execution_count": 27,
      "outputs": [
        {
          "output_type": "execute_result",
          "data": {
            "text/plain": [
              "('torch.FloatTensor', 'mean: 0.07117890566587448, std: 1.7585952281951904')"
            ]
          },
          "metadata": {
            "tags": []
          },
          "execution_count": 27
        }
      ]
    },
    {
      "cell_type": "code",
      "metadata": {
        "id": "RsMo14hNtOPS",
        "colab_type": "code",
        "colab": {}
      },
      "source": [
        "y_1 = sum([a*x for a, x in zip(a[1,],x)])"
      ],
      "execution_count": 28,
      "outputs": []
    },
    {
      "cell_type": "code",
      "metadata": {
        "id": "2MB2kKbLuFOJ",
        "colab_type": "code",
        "colab": {
          "base_uri": "https://localhost:8080/",
          "height": 35
        },
        "outputId": "b7641800-eb5b-410d-c6ea-af1d8ae26792"
      },
      "source": [
        "(a @ x)[1]"
      ],
      "execution_count": 29,
      "outputs": [
        {
          "output_type": "execute_result",
          "data": {
            "text/plain": [
              "tensor(-1.8616)"
            ]
          },
          "metadata": {
            "tags": []
          },
          "execution_count": 29
        }
      ]
    },
    {
      "cell_type": "code",
      "metadata": {
        "id": "K6tLakdvuH4G",
        "colab_type": "code",
        "colab": {
          "base_uri": "https://localhost:8080/",
          "height": 35
        },
        "outputId": "0dcd6867-aa29-403f-9c4e-a6a0a748d2dc"
      },
      "source": [
        "y_1"
      ],
      "execution_count": 30,
      "outputs": [
        {
          "output_type": "execute_result",
          "data": {
            "text/plain": [
              "tensor(-1.8616)"
            ]
          },
          "metadata": {
            "tags": []
          },
          "execution_count": 30
        }
      ]
    },
    {
      "cell_type": "markdown",
      "metadata": {
        "id": "cEQnO0Qc7j2B",
        "colab_type": "text"
      },
      "source": [
        "7. suppose you do the $y = a @ x$ for 100 times, initializing a and x for every computation. Get the average mean and average variance of the $y$\n",
        "8. get the average of mean and variance for $a_{i,k} x_{k}$"
      ]
    },
    {
      "cell_type": "code",
      "metadata": {
        "id": "4QF91EItuLWF",
        "colab_type": "code",
        "colab": {
          "base_uri": "https://localhost:8080/",
          "height": 35
        },
        "outputId": "49bdb845-1333-4e4f-f9e5-e154fdbca0b1"
      },
      "source": [
        "mean, std = 0., 0.\n",
        "for i in range(100):\n",
        "    x, a = torch.randn(n), torch.randn(n,n)\n",
        "    y = a @ x\n",
        "    mean += y.mean()\n",
        "    std += y.std()\n",
        "mean / 100, std / 100    "
      ],
      "execution_count": 31,
      "outputs": [
        {
          "output_type": "execute_result",
          "data": {
            "text/plain": [
              "(tensor(-0.0004), tensor(22.6223))"
            ]
          },
          "metadata": {
            "tags": []
          },
          "execution_count": 31
        }
      ]
    },
    {
      "cell_type": "code",
      "metadata": {
        "id": "cPIxW9-AvKjj",
        "colab_type": "code",
        "colab": {
          "base_uri": "https://localhost:8080/",
          "height": 35
        },
        "outputId": "f3aa50ed-84fc-489d-fecc-a8d5309ad2a2"
      },
      "source": [
        "std.pow(2)"
      ],
      "execution_count": 32,
      "outputs": [
        {
          "output_type": "execute_result",
          "data": {
            "text/plain": [
              "tensor(5117677.)"
            ]
          },
          "metadata": {
            "tags": []
          },
          "execution_count": 32
        }
      ]
    },
    {
      "cell_type": "code",
      "metadata": {
        "id": "EC6NtwfwvPmU",
        "colab_type": "code",
        "colab": {
          "base_uri": "https://localhost:8080/",
          "height": 35
        },
        "outputId": "b6855207-7d80-4e12-95ab-4d9a21028249"
      },
      "source": [
        "mean, std, var = 0., 0., 0.\n",
        "for i in range(100):\n",
        "    x, a = torch.randn(1), torch.randn(1)\n",
        "    y = a * x\n",
        "    mean += y.mean()\n",
        "    std += y.std()\n",
        "    var += y.pow(2).mean()\n",
        "\n",
        "mean / 100, std / 100, var/100"
      ],
      "execution_count": 42,
      "outputs": [
        {
          "output_type": "execute_result",
          "data": {
            "text/plain": [
              "(tensor(-0.2147), tensor(nan), tensor(0.8951))"
            ]
          },
          "metadata": {
            "tags": []
          },
          "execution_count": 42
        }
      ]
    },
    {
      "cell_type": "markdown",
      "metadata": {
        "id": "HTMYEjTdwFrR",
        "colab_type": "text"
      },
      "source": [
        "[^1]: why standard deviation is not a number?"
      ]
    },
    {
      "cell_type": "markdown",
      "metadata": {
        "id": "OnIu56hLnica",
        "colab_type": "text"
      },
      "source": [
        "Adding ReLU in the mix\n",
        "---"
      ]
    },
    {
      "cell_type": "markdown",
      "metadata": {
        "id": "iXaGzKKG-s1Y",
        "colab_type": "text"
      },
      "source": [
        "9. do the same thing with No.8, except this time we apply relu\n",
        "    - Can you explain why that number came out? (hint: you can appy kaiming initialization)\n",
        "\n",
        "10. same with No.9, but this time use the whole matrix (i.e. $y$, when $y_i = \\sum_{k=0}^{n-1} a_{i,k} x_{k}$)\n",
        "\n",
        "11. same with No.10, but this time use Kaiming scaling(initialization)"
      ]
    },
    {
      "cell_type": "markdown",
      "metadata": {
        "id": "BG1kpSmfxsaI",
        "colab_type": "text"
      },
      "source": [
        "No. 8\n",
        "\n",
        "$a_{i,j} * x_i$ without kaiming"
      ]
    },
    {
      "cell_type": "code",
      "metadata": {
        "id": "l3C7EONYxLY2",
        "colab_type": "code",
        "colab": {
          "base_uri": "https://localhost:8080/",
          "height": 35
        },
        "outputId": "99420c4d-96de-4b2b-d7b1-08d8b7d6c6bc"
      },
      "source": [
        "mean, std, var = 0., 0., 0.\n",
        "for i in range(100):\n",
        "    x = torch.randn(1)\n",
        "    a = torch.randn(1) # * sqrt(2) without kaiming\n",
        "    y = (a * x).clamp_min(0.)\n",
        "    mean += y.mean()\n",
        "    std += y.std()\n",
        "    var += y.pow(2).mean()\n",
        "mean / 100, std / 100, var / 100    "
      ],
      "execution_count": 52,
      "outputs": [
        {
          "output_type": "execute_result",
          "data": {
            "text/plain": [
              "(tensor(0.2762), tensor(nan), tensor(0.3445))"
            ]
          },
          "metadata": {
            "tags": []
          },
          "execution_count": 52
        }
      ]
    },
    {
      "cell_type": "markdown",
      "metadata": {
        "id": "e4-5t0XIx4dm",
        "colab_type": "text"
      },
      "source": [
        "with kaiming"
      ]
    },
    {
      "cell_type": "code",
      "metadata": {
        "id": "66F22aK4wSQX",
        "colab_type": "code",
        "colab": {
          "base_uri": "https://localhost:8080/",
          "height": 35
        },
        "outputId": "7e4a9043-26fe-4f9f-8256-17d02e5013e7"
      },
      "source": [
        "mean, std, var = 0., 0., 0.\n",
        "for i in range(100):\n",
        "    x = torch.randn(1)\n",
        "    a = torch.randn(1) * sqrt(2)\n",
        "    y = (a * x).clamp_min(0.)\n",
        "    mean += y.mean()\n",
        "    std += y.std()\n",
        "    var += y.pow(2).mean()\n",
        "mean / 100, std / 100, var / 100    "
      ],
      "execution_count": 53,
      "outputs": [
        {
          "output_type": "execute_result",
          "data": {
            "text/plain": [
              "(tensor(0.4582), tensor(nan), tensor(1.1150))"
            ]
          },
          "metadata": {
            "tags": []
          },
          "execution_count": 53
        }
      ]
    },
    {
      "cell_type": "markdown",
      "metadata": {
        "id": "NOcwXJavyYAe",
        "colab_type": "text"
      },
      "source": [
        "No. 9"
      ]
    },
    {
      "cell_type": "code",
      "metadata": {
        "id": "vIHM0HjRyT9X",
        "colab_type": "code",
        "colab": {
          "base_uri": "https://localhost:8080/",
          "height": 35
        },
        "outputId": "f950aef0-e97c-40b0-db33-f192cb60379b"
      },
      "source": [
        "mean, std, var = 0., 0., 0.\n",
        "for i in range(100):\n",
        "    x = torch.randn(n)\n",
        "    a = torch.randn(n, n)\n",
        "    y = (a * x).clamp_min(0.)\n",
        "    mean += y.mean()\n",
        "    std += y.std()\n",
        "    var += y.pow(2).mean()\n",
        "mean / 100, std / 100, var / 100    "
      ],
      "execution_count": 54,
      "outputs": [
        {
          "output_type": "execute_result",
          "data": {
            "text/plain": [
              "(tensor(0.3193), tensor(0.6327), tensor(0.5027))"
            ]
          },
          "metadata": {
            "tags": []
          },
          "execution_count": 54
        }
      ]
    },
    {
      "cell_type": "markdown",
      "metadata": {
        "id": "0jJd5Lkzx54T",
        "colab_type": "text"
      },
      "source": [
        "No. 10"
      ]
    },
    {
      "cell_type": "code",
      "metadata": {
        "id": "9z0yVHSWw9Mm",
        "colab_type": "code",
        "colab": {
          "base_uri": "https://localhost:8080/",
          "height": 35
        },
        "outputId": "36c4a0a5-1016-467e-9547-c1ff146938fc"
      },
      "source": [
        "mean, std, var = 0., 0., 0.\n",
        "for i in range(100):\n",
        "    x = torch.randn(n)\n",
        "    a = torch.randn(n, n) * sqrt(2/n)\n",
        "    y = (a@x).clamp_min(0.)\n",
        "    mean += y.mean()\n",
        "    std += y.std()\n",
        "    var += y.pow(2).mean()\n",
        "mean / 100, std / 100, var / 100"
      ],
      "execution_count": 51,
      "outputs": [
        {
          "output_type": "execute_result",
          "data": {
            "text/plain": [
              "(tensor(0.5656), tensor(0.8269), tensor(1.0061))"
            ]
          },
          "metadata": {
            "tags": []
          },
          "execution_count": 51
        }
      ]
    },
    {
      "cell_type": "code",
      "metadata": {
        "id": "VsgXOJfKxl8J",
        "colab_type": "code",
        "colab": {}
      },
      "source": [
        ""
      ],
      "execution_count": null,
      "outputs": []
    }
  ]
}