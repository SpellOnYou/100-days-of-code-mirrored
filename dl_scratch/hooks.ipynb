{
  "nbformat": 4,
  "nbformat_minor": 0,
  "metadata": {
    "colab": {
      "name": "2022-05-04-hooks.ipynb",
      "provenance": [],
      "collapsed_sections": []
    },
    "kernelspec": {
      "name": "python3",
      "display_name": "Python 3"
    },
    "language_info": {
      "name": "python"
    }
  },
  "cells": [
    {
      "cell_type": "code",
      "source": [
        "%cd /content/\n",
        "%load_ext autoreload\n",
        "%autoreload 2\n",
        "%matplotlib inline\n",
        "from exp.nb_06 import *"
      ],
      "metadata": {
        "colab": {
          "base_uri": "https://localhost:8080/"
        },
        "id": "fV6QNlN8gAmm",
        "outputId": "11a9f6e3-c8c3-48c2-a088-232810a135ae"
      },
      "execution_count": 11,
      "outputs": [
        {
          "output_type": "stream",
          "name": "stdout",
          "text": [
            "/content\n"
          ]
        }
      ]
    },
    {
      "cell_type": "code",
      "source": [
        "def get_data():\n",
        "    path=Path('/content/mnist.pkl.gz')\n",
        "    with gzip.open(path) as f:\n",
        "        ((x_train, y_train), (x_valid, y_valid), _) = pickle.load(f, encoding='latin-1')\n",
        "    return map(tensor, (x_train, y_train, x_valid, y_valid))"
      ],
      "metadata": {
        "id": "cRBlmb6vgK4_"
      },
      "execution_count": 12,
      "outputs": []
    },
    {
      "cell_type": "code",
      "source": [
        "x_train, y_train, x_valid, y_valid = get_data()"
      ],
      "metadata": {
        "id": "tRo9Z6QxglH-"
      },
      "execution_count": 13,
      "outputs": []
    },
    {
      "cell_type": "code",
      "source": [
        "x_train.shape, y_train.shape, x_valid.shape, y_valid.shape"
      ],
      "metadata": {
        "colab": {
          "base_uri": "https://localhost:8080/"
        },
        "id": "e4NKW9upgoL3",
        "outputId": "67ca7a27-d878-440c-e785-766486857f2f"
      },
      "execution_count": 14,
      "outputs": [
        {
          "output_type": "execute_result",
          "data": {
            "text/plain": [
              "(torch.Size([50000, 784]),\n",
              " torch.Size([50000]),\n",
              " torch.Size([10000, 784]),\n",
              " torch.Size([10000]))"
            ]
          },
          "metadata": {},
          "execution_count": 14
        }
      ]
    },
    {
      "cell_type": "code",
      "source": [
        "import inspect\n",
        "print(inspect.getsource(view_tfm))\n",
        "print(inspect.getsource(DataBunch))\n",
        "print(inspect.getsource(get_dls))"
      ],
      "metadata": {
        "colab": {
          "base_uri": "https://localhost:8080/"
        },
        "id": "Ub4ipWJwgtcf",
        "outputId": "f9159620-225e-4eaf-b220-4b3731f823bd"
      },
      "execution_count": null,
      "outputs": [
        {
          "output_type": "stream",
          "name": "stdout",
          "text": [
            "def view_tfm(*size):\n",
            "    def _inner(x): return x.view(*((-1,)+size))\n",
            "    return _inner\n",
            "\n",
            "class DataBunch():\n",
            "    def __init__(self, train_dl, valid_dl, c=None):\n",
            "        self.train_dl,self.valid_dl,self.c = train_dl,valid_dl,c\n",
            "\n",
            "    @property\n",
            "    def train_ds(self): return self.train_dl.dataset\n",
            "\n",
            "    @property\n",
            "    def valid_ds(self): return self.valid_dl.dataset\n",
            "\n",
            "def get_dls(train_ds, valid_ds, bs, **kwargs):\n",
            "    return (DataLoader(train_ds, batch_size=bs, shuffle=True, **kwargs),\n",
            "            DataLoader(valid_ds, batch_size=bs*2, **kwargs))\n",
            "\n"
          ]
        }
      ]
    },
    {
      "cell_type": "code",
      "source": [
        "train_ds, valid_ds = Dataset(x_train, y_train), Dataset(x_valid, y_valid)\n",
        "bs, nh = 512, 50\n",
        "c = y_train.max()+1\n",
        "loss_func = F.cross_entropy\n",
        "data = DataBunch(*get_dls(train_ds, valid_ds, bs), c)"
      ],
      "metadata": {
        "id": "pC475kMOhIa8"
      },
      "execution_count": 15,
      "outputs": []
    },
    {
      "cell_type": "code",
      "source": [
        "mnist_view = view_tfm(1, 28, 28)"
      ],
      "metadata": {
        "id": "KpHZFlgsiKMH"
      },
      "execution_count": 32,
      "outputs": []
    },
    {
      "cell_type": "code",
      "source": [
        "# make view_tfm2 using functools.partial\n",
        "from functools import partial\n",
        "def view_tfm2(size, x): return x.view(*((-1,) + size))\n",
        "partial(view_tfm2, (1, 28, 28)) # this has same functionality with `view_tfm(1, 28, 28)`"
      ],
      "metadata": {
        "colab": {
          "base_uri": "https://localhost:8080/"
        },
        "id": "UFdpghuHOx-K",
        "outputId": "8d0b8cfe-21f6-4cc8-ae66-6bab859cfe92"
      },
      "execution_count": 40,
      "outputs": [
        {
          "output_type": "execute_result",
          "data": {
            "text/plain": [
              "torch.Size([1, 1, 28, 28])"
            ]
          },
          "metadata": {},
          "execution_count": 40
        }
      ]
    },
    {
      "cell_type": "code",
      "source": [
        "cbfs = [Recorder,\n",
        "        partial(AvgStatsCallback, accuracy),\n",
        "        partial(BatchTransformXCallback, mnist_view)]\n",
        "\n",
        "nfs = [8, 16, 32, 64, 64]\n",
        "\n",
        "learn, run = get_learn_run(nfs, data, 0.4, conv_layer, cbs=cbfs)"
      ],
      "metadata": {
        "id": "f46_AMSxoNcz"
      },
      "execution_count": 41,
      "outputs": []
    },
    {
      "cell_type": "code",
      "source": [
        "run.fit(5, learn)"
      ],
      "metadata": {
        "colab": {
          "base_uri": "https://localhost:8080/"
        },
        "id": "WooDxMoVptBE",
        "outputId": "5cc41631-dc82-43ab-f38b-b04b5ebbf189"
      },
      "execution_count": null,
      "outputs": [
        {
          "output_type": "stream",
          "name": "stdout",
          "text": [
            "train: [1.518158125, tensor(0.5078)]\n",
            "valid: [0.385849609375, tensor(0.8831)]\n",
            "train: [0.25443435546875, tensor(0.9206)]\n",
            "valid: [0.1566339599609375, tensor(0.9541)]\n",
            "train: [0.138890654296875, tensor(0.9570)]\n",
            "valid: [0.12315595703125, tensor(0.9618)]\n",
            "train: [0.103854560546875, tensor(0.9673)]\n",
            "valid: [0.0992807861328125, tensor(0.9702)]\n",
            "train: [0.08531361328125, tensor(0.9734)]\n",
            "valid: [0.0877613037109375, tensor(0.9732)]\n"
          ]
        }
      ]
    },
    {
      "cell_type": "code",
      "source": [
        "print(inspect.getsource(conv_layer))\n",
        "print(inspect.getsource(get_cnn_model))\n",
        "print(inspect.getsource(get_cnn_layers))\n",
        "print(inspect.getsource(get_learn_run))"
      ],
      "metadata": {
        "colab": {
          "base_uri": "https://localhost:8080/"
        },
        "id": "L_lEgQvto8Ne",
        "outputId": "857db1bd-b60b-46e7-bc7d-925b41758eb5"
      },
      "execution_count": null,
      "outputs": [
        {
          "output_type": "stream",
          "name": "stdout",
          "text": [
            "def conv_layer(ni, nf, ks=3, stride=2, **kwargs):\n",
            "    return nn.Sequential(\n",
            "        nn.Conv2d(ni, nf, ks, padding=ks//2, stride=stride), GeneralRelu(**kwargs))\n",
            "\n",
            "def get_cnn_model(data, nfs, layer, **kwargs):\n",
            "    return nn.Sequential(*get_cnn_layers(data, nfs, layer, **kwargs))\n",
            "\n",
            "def get_cnn_layers(data, nfs, layer, **kwargs):\n",
            "    nfs = [1] + nfs\n",
            "    return [layer(nfs[i], nfs[i+1], 5 if i==0 else 3, **kwargs)\n",
            "            for i in range(len(nfs)-1)] + [\n",
            "        nn.AdaptiveAvgPool2d(1), Lambda(flatten), nn.Linear(nfs[-1], data.c)]\n",
            "\n",
            "def get_learn_run(nfs, data, lr, layer, cbs=None, opt_func=None, uniform=False, **kwargs):\n",
            "    model = get_cnn_model(data, nfs, layer, **kwargs)\n",
            "    init_cnn(model, uniform=uniform)\n",
            "    return get_runner(model, data, lr=lr, cbs=cbs, opt_func=opt_func)\n",
            "\n"
          ]
        }
      ]
    },
    {
      "cell_type": "code",
      "source": [
        "print(inspect.getsource(flatten))"
      ],
      "metadata": {
        "colab": {
          "base_uri": "https://localhost:8080/"
        },
        "id": "HD3fUJM5vlzP",
        "outputId": "1e3d5b7a-f220-4112-ab7e-9fc57d16fd63"
      },
      "execution_count": null,
      "outputs": [
        {
          "output_type": "stream",
          "name": "stdout",
          "text": [
            "def flatten(x):      return x.view(x.shape[0], -1)\n",
            "\n"
          ]
        }
      ]
    },
    {
      "cell_type": "code",
      "source": [
        "learn.model"
      ],
      "metadata": {
        "colab": {
          "base_uri": "https://localhost:8080/"
        },
        "id": "GF2o9PVlhXf-",
        "outputId": "c5286d6a-0709-4174-c65a-dafe78057412"
      },
      "execution_count": null,
      "outputs": [
        {
          "output_type": "execute_result",
          "data": {
            "text/plain": [
              "Sequential(\n",
              "  (0): Sequential(\n",
              "    (0): Conv2d(1, 8, kernel_size=(5, 5), stride=(2, 2), padding=(2, 2))\n",
              "    (1): GeneralRelu()\n",
              "  )\n",
              "  (1): Sequential(\n",
              "    (0): Conv2d(8, 16, kernel_size=(3, 3), stride=(2, 2), padding=(1, 1))\n",
              "    (1): GeneralRelu()\n",
              "  )\n",
              "  (2): Sequential(\n",
              "    (0): Conv2d(16, 32, kernel_size=(3, 3), stride=(2, 2), padding=(1, 1))\n",
              "    (1): GeneralRelu()\n",
              "  )\n",
              "  (3): Sequential(\n",
              "    (0): Conv2d(32, 64, kernel_size=(3, 3), stride=(2, 2), padding=(1, 1))\n",
              "    (1): GeneralRelu()\n",
              "  )\n",
              "  (4): Sequential(\n",
              "    (0): Conv2d(64, 64, kernel_size=(3, 3), stride=(2, 2), padding=(1, 1))\n",
              "    (1): GeneralRelu()\n",
              "  )\n",
              "  (5): AdaptiveAvgPool2d(output_size=1)\n",
              "  (6): Lambda()\n",
              "  (7): Linear(in_features=64, out_features=10, bias=True)\n",
              ")"
            ]
          },
          "metadata": {},
          "execution_count": 19
        }
      ]
    },
    {
      "cell_type": "markdown",
      "source": [
        "---\n",
        "\n",
        "- A1"
      ],
      "metadata": {
        "id": "yWD2kjzxtkPK"
      }
    },
    {
      "cell_type": "code",
      "source": [
        "class Lambda(nn.Module):\n",
        "    def __init__(self, func):\n",
        "        self.func=func\n",
        "    def forward(self, x):\n",
        "        return self.func(x)"
      ],
      "metadata": {
        "id": "qIyAS0nWtlVI"
      },
      "execution_count": null,
      "outputs": []
    },
    {
      "cell_type": "markdown",
      "source": [
        "- A2"
      ],
      "metadata": {
        "id": "0OrWShk3ufjR"
      }
    },
    {
      "cell_type": "code",
      "source": [
        "def mnist_resize(x): return x.view(-1, 1, 28, 28)\n",
        "\n",
        "def flatten(x): return x.view(x.shape[0], -1)\n"
      ],
      "metadata": {
        "id": "peVQGaw8v5G4"
      },
      "execution_count": null,
      "outputs": []
    }
  ]
}