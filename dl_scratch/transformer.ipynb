{
  "nbformat": 4,
  "nbformat_minor": 0,
  "metadata": {
    "colab": {
      "name": "Untitled14.ipynb",
      "provenance": [],
      "collapsed_sections": []
    },
    "kernelspec": {
      "name": "python3",
      "display_name": "Python 3"
    },
    "language_info": {
      "name": "python"
    }
  },
  "cells": [
    {
      "cell_type": "code",
      "execution_count": null,
      "metadata": {
        "id": "0KZaslhGm6XY"
      },
      "outputs": [],
      "source": [
        "# Translation with Transformer"
      ]
    },
    {
      "cell_type": "code",
      "source": [
        "- Download Dataset"
      ],
      "metadata": {
        "id": "83COra3HoBuV"
      },
      "execution_count": null,
      "outputs": []
    },
    {
      "cell_type": "code",
      "source": [
        "from google.colab import drive\n",
        "drive.mount('/gdrive')"
      ],
      "metadata": {
        "colab": {
          "base_uri": "https://localhost:8080/"
        },
        "id": "01ME0qnJnAvp",
        "outputId": "46dc4a48-7419-42aa-d739-9ec67d8c1c7b"
      },
      "execution_count": 1,
      "outputs": [
        {
          "output_type": "stream",
          "name": "stdout",
          "text": [
            "Mounted at /gdrive\n"
          ]
        }
      ]
    },
    {
      "cell_type": "code",
      "source": [
        "from pathlib import Path\n",
        "trg_path = Path('/gdrive/Shareddrives/Dion-Account/data')"
      ],
      "metadata": {
        "id": "f6P8PNevnZzE"
      },
      "execution_count": 2,
      "outputs": []
    },
    {
      "cell_type": "code",
      "source": [
        "!wget https://s3.amazonaws.com/fast-ai-nlp/giga-fren.tgz -P {trg_path}"
      ],
      "metadata": {
        "colab": {
          "base_uri": "https://localhost:8080/"
        },
        "id": "Vw1vwDUvnGma",
        "outputId": "98453933-3b56-49f2-e730-5acb74e2af02"
      },
      "execution_count": 5,
      "outputs": [
        {
          "output_type": "stream",
          "name": "stdout",
          "text": [
            "--2021-12-21 01:32:47--  https://s3.amazonaws.com/fast-ai-nlp/giga-fren.tgz\n",
            "Resolving s3.amazonaws.com (s3.amazonaws.com)... 52.216.78.142\n",
            "Connecting to s3.amazonaws.com (s3.amazonaws.com)|52.216.78.142|:443... connected.\n",
            "HTTP request sent, awaiting response... 200 OK\n",
            "Length: 2598183296 (2.4G) [application/x-tar]\n",
            "Saving to: ‘/gdrive/Shareddrives/Dion-Account/data/giga-fren.tgz’\n",
            "\n",
            "giga-fren.tgz       100%[===================>]   2.42G  35.7MB/s    in 77s     \n",
            "\n",
            "2021-12-21 01:34:05 (32.0 MB/s) - ‘/gdrive/Shareddrives/Dion-Account/data/giga-fren.tgz’ saved [2598183296/2598183296]\n",
            "\n"
          ]
        }
      ]
    },
    {
      "cell_type": "code",
      "source": [
        "!tar -xf {trg_path}/giga-fren.tgz -C {trg_path}"
      ],
      "metadata": {
        "id": "tqTCCl8Unpj5"
      },
      "execution_count": 6,
      "outputs": []
    },
    {
      "cell_type": "code",
      "source": [
        "Path.ls = lambda x: list(x.iterdir())"
      ],
      "metadata": {
        "id": "kJIe7938sOqm"
      },
      "execution_count": 3,
      "outputs": []
    },
    {
      "cell_type": "code",
      "source": [
        "(trg_path/'giga-fren').ls()"
      ],
      "metadata": {
        "colab": {
          "base_uri": "https://localhost:8080/"
        },
        "id": "FB2-RWHynz7-",
        "outputId": "50d84701-3990-4abc-8ecc-71995e2b1e4e"
      },
      "execution_count": 4,
      "outputs": [
        {
          "output_type": "execute_result",
          "data": {
            "text/plain": [
              "[PosixPath('/gdrive/Shareddrives/Dion-Account/data/giga-fren/giga-fren.release2.fixed.en'),\n",
              " PosixPath('/gdrive/Shareddrives/Dion-Account/data/giga-fren/giga-fren.release2.fixed.fr')]"
            ]
          },
          "metadata": {},
          "execution_count": 4
        }
      ]
    },
    {
      "cell_type": "code",
      "source": [
        "path = trg_path/'giga-fren'"
      ],
      "metadata": {
        "id": "QX5qJIKWscFM"
      },
      "execution_count": 5,
      "outputs": []
    },
    {
      "cell_type": "code",
      "source": [
        "with open(path/'giga-fren.release2.fixed.fr') as f: fr = f.read().split('\\n')"
      ],
      "metadata": {
        "id": "HVf69N87oVDZ"
      },
      "execution_count": null,
      "outputs": []
    },
    {
      "cell_type": "markdown",
      "source": [
        "---"
      ],
      "metadata": {
        "id": "rtydm3Fpva0P"
      }
    },
    {
      "cell_type": "code",
      "source": [
        "import torch"
      ],
      "metadata": {
        "id": "e_lhqCn8wCrS"
      },
      "execution_count": 1,
      "outputs": []
    },
    {
      "cell_type": "code",
      "source": [
        "d_model = 20\n",
        "freq_ls = 1/(10000**(torch.arange(0., d_model, 2.) / d_model))"
      ],
      "metadata": {
        "id": "mTrlNw0QwCis"
      },
      "execution_count": 7,
      "outputs": []
    },
    {
      "cell_type": "code",
      "source": [
        "# Positional encoding"
      ],
      "metadata": {
        "id": "Lakic4Sqv98y"
      },
      "execution_count": null,
      "outputs": []
    },
    {
      "cell_type": "code",
      "source": [
        "# we have these positions\n",
        "ps = torch.arange(0, 100).float()"
      ],
      "metadata": {
        "id": "9S4BYnlLwAhR"
      },
      "execution_count": 9,
      "outputs": []
    },
    {
      "cell_type": "code",
      "source": [
        "inp=torch.outer(ps, freq_ls)\n",
        "inp.shape"
      ],
      "metadata": {
        "colab": {
          "base_uri": "https://localhost:8080/"
        },
        "id": "mA6Rzve6wwO7",
        "outputId": "69e299bc-ae95-4f30-fed5-5d0d63f3e08d"
      },
      "execution_count": 12,
      "outputs": [
        {
          "output_type": "execute_result",
          "data": {
            "text/plain": [
              "torch.Size([100, 10])"
            ]
          },
          "metadata": {},
          "execution_count": 12
        }
      ]
    },
    {
      "cell_type": "code",
      "source": [
        "res = torch.cat([inp.sin(), inp.cos()], dim=-1)\n",
        "res.shape"
      ],
      "metadata": {
        "colab": {
          "base_uri": "https://localhost:8080/"
        },
        "id": "qI_iJC4gw1pI",
        "outputId": "24f7a0b3-b558-4d89-9cb4-1883aeaa5ba4"
      },
      "execution_count": 14,
      "outputs": [
        {
          "output_type": "execute_result",
          "data": {
            "text/plain": [
              "torch.Size([100, 20])"
            ]
          },
          "metadata": {},
          "execution_count": 14
        }
      ]
    },
    {
      "cell_type": "markdown",
      "source": [
        "$$PE(pos,2i) =sin(pos/10000^{2i/d_{model}})$$  \n",
        "$$PE(pos,2i+1) =cos(pos/10000^{2i/d_{model}})$$"
      ],
      "metadata": {
        "id": "wsEOdUO7x2i7"
      }
    },
    {
      "cell_type": "code",
      "source": [
        "# even -> sin, odd -> cos\n",
        "\n",
        "_, ax = plt.subplots(1,1)\n",
        "for i in range(1,5):\n",
        "    if i%2 ==0:\n",
        "        ax.plot(res[:,i])\n",
        "    else:\n"
      ],
      "metadata": {
        "id": "7Rx0LOnexOXZ"
      },
      "execution_count": null,
      "outputs": []
    },
    {
      "cell_type": "code",
      "source": [
        ""
      ],
      "metadata": {
        "id": "t7-iVq_RxMXp"
      },
      "execution_count": null,
      "outputs": []
    },
    {
      "cell_type": "code",
      "source": [
        "class PositionalEncoding(nn.Module):\n",
        "    def __init__(self, d:int):\n",
        "        super().__init__()\n",
        "        self.register_buffer('freq', 1 / (10000 ** (torch.arange(0., d, 2.)/d)))"
      ],
      "metadata": {
        "id": "4lLiymE9oeCV"
      },
      "execution_count": null,
      "outputs": []
    },
    {
      "cell_type": "code",
      "source": [
        ""
      ],
      "metadata": {
        "id": "pm81V2pYod_k"
      },
      "execution_count": null,
      "outputs": []
    },
    {
      "cell_type": "code",
      "source": [
        ""
      ],
      "metadata": {
        "id": "PMvIE2xVod81"
      },
      "execution_count": null,
      "outputs": []
    },
    {
      "cell_type": "code",
      "source": [
        ""
      ],
      "metadata": {
        "id": "_N0LmEXpod1z"
      },
      "execution_count": null,
      "outputs": []
    },
    {
      "cell_type": "code",
      "source": [
        ""
      ],
      "metadata": {
        "id": "KyzeKq9Eodxq"
      },
      "execution_count": null,
      "outputs": []
    },
    {
      "cell_type": "code",
      "source": [
        ""
      ],
      "metadata": {
        "id": "kY8c122DodrM"
      },
      "execution_count": null,
      "outputs": []
    },
    {
      "cell_type": "code",
      "source": [
        ""
      ],
      "metadata": {
        "id": "41OcQrUBodlt"
      },
      "execution_count": null,
      "outputs": []
    },
    {
      "cell_type": "code",
      "source": [
        ""
      ],
      "metadata": {
        "id": "Lb4ijl9bodf6"
      },
      "execution_count": null,
      "outputs": []
    },
    {
      "cell_type": "code",
      "source": [
        ""
      ],
      "metadata": {
        "id": "uuhzhS39odYb"
      },
      "execution_count": null,
      "outputs": []
    },
    {
      "cell_type": "code",
      "source": [
        ""
      ],
      "metadata": {
        "id": "q1KHr07podRW"
      },
      "execution_count": null,
      "outputs": []
    },
    {
      "cell_type": "code",
      "source": [
        ""
      ],
      "metadata": {
        "id": "79LS45pRodHb"
      },
      "execution_count": null,
      "outputs": []
    },
    {
      "cell_type": "code",
      "source": [
        ""
      ],
      "metadata": {
        "id": "OucGpbImoc5J"
      },
      "execution_count": null,
      "outputs": []
    }
  ]
}