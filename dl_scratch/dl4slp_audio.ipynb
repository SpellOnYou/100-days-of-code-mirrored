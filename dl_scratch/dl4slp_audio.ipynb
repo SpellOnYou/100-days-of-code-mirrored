{
  "nbformat": 4,
  "nbformat_minor": 0,
  "metadata": {
    "kernelspec": {
      "display_name": "Python 3",
      "language": "python",
      "name": "python3"
    },
    "colab": {
      "name": "dl4slp-audio.ipynb",
      "provenance": [],
      "collapsed_sections": []
    },
    "accelerator": "GPU"
  },
  "cells": [
    {
      "cell_type": "markdown",
      "metadata": {
        "id": "BvFuWIUcT96F"
      },
      "source": [
        "## Machine config"
      ]
    },
    {
      "cell_type": "markdown",
      "metadata": {
        "id": "D1FVouZFT7-5"
      },
      "source": [
        "features-entry contains a list of a list with 26 items.\n",
        "- length of inner list: 26 (float numbers - represent one preprocessed speech frame (logMel))\n",
        "\n",
        "- length of outer list: number of frames per data-point, e.g. 10 or 15, ..."
      ]
    },
    {
      "cell_type": "code",
      "metadata": {
        "collapsed": true,
        "id": "1KXKIgFjc0lN"
      },
      "source": [
        "!git clone https://github.com/NVIDIA/apex\n",
        "%cd apex\n",
        "!pip install -v --disable-pip-version-check --no-cache-dir --global-option=\"--cpp_ext\" --global-option=\"--cuda_ext\" ./"
      ],
      "execution_count": null,
      "outputs": []
    },
    {
      "cell_type": "markdown",
      "metadata": {
        "id": "yJk5cql1Y4-5"
      },
      "source": [
        "# Audio classification the from-scratch way"
      ]
    },
    {
      "cell_type": "markdown",
      "metadata": {
        "id": "zQK925MBY4-9"
      },
      "source": [
        "Thanks to the SF Study Group practitioners & participants in the [Deep Learning for Audio fastai forum thread](https://forums.fast.ai/t/deep-learning-with-audio-thread/), especially: [Molly Beavers](https://forums.fast.ai/u/marii/summary), [Simon Grest](https://forums.fast.ai/u/simonjhb/), [Stefano Giomo](https://forums.fast.ai/u/ste), [Thom Mackey](https://forums.fast.ai/u/ThomM), [Zach Caceres](https://forums.fast.ai/u/zachcaceres), [Harry Coultas Blum](https://forums.fast.ai/u/baz), & [Robert Bracco](https://forums.fast.ai/u/madeupmasters)."
      ]
    },
    {
      "cell_type": "markdown",
      "metadata": {
        "id": "BYO0fsJ0Y4--"
      },
      "source": [
        "We're going to demonstrate the technique of classifying audio samples by first converting the audio into spectrograms, then treating the spectrograms as images. Once we've converted the spectrograms to images, the workflow is just the same as using imagenette or any other image classification task.\n",
        "\n",
        "What do we need to do?\n",
        "* Download the data\n",
        "* Load the data\n",
        "    - split the data to each element\n",
        "    - split to train / valid\n",
        "    - get label\n",
        "    - zero pad\n",
        "* Transform the data into spectrograms (skip)\n",
        "* Load the audio data into a databunch such that we can use our previously-defined `learner` object\n",
        "\n",
        "Still to come - 1D convolutional models, RNNs with audio… and more, with your contribution :)"
      ]
    },
    {
      "cell_type": "markdown",
      "metadata": {
        "id": "bAlwR99YY4--"
      },
      "source": [
        "# Download the data"
      ]
    },
    {
      "cell_type": "code",
      "source": [
        "from google.colab import drive\n",
        "drive.mount('/gdrive')"
      ],
      "metadata": {
        "colab": {
          "base_uri": "https://localhost:8080/"
        },
        "id": "xRiotknrYPlR",
        "outputId": "53d3c491-0b2e-47a6-a2f9-cc32417aa01b"
      },
      "execution_count": null,
      "outputs": [
        {
          "output_type": "stream",
          "name": "stdout",
          "text": [
            "Mounted at /gdrive\n"
          ]
        }
      ]
    },
    {
      "cell_type": "code",
      "source": [
        "!cp /gdrive/Shareddrives/Dion-Account/2122WS/dl4slp/coding-project/ser_traindev.tar.gz /content/.\n",
        "!mkdir /content/data\n",
        "!mv /content/ser_traindev.tar.gz /content/data\n",
        "%cd /content/data\n",
        "!tar -xf /content/data/ser_traindev.tar.gz\n",
        "%cd /content"
      ],
      "metadata": {
        "id": "NfW7x2ENYfwk"
      },
      "execution_count": null,
      "outputs": []
    },
    {
      "cell_type": "code",
      "metadata": {
        "id": "W-wsrtZxY75X"
      },
      "source": [
        "!git clone https://github.com/fastai/course-v3/ /content/course-v3"
      ],
      "execution_count": null,
      "outputs": []
    },
    {
      "cell_type": "code",
      "metadata": {
        "id": "m54dJjeDZADw",
        "colab": {
          "base_uri": "https://localhost:8080/"
        },
        "outputId": "fc48c89d-edba-42d9-e827-5a5ef229812d"
      },
      "source": [
        "# restart-run\n",
        "%cd /content/course-v3/nbs/dl2"
      ],
      "execution_count": null,
      "outputs": [
        {
          "output_type": "stream",
          "name": "stdout",
          "text": [
            "/content/course-v3/nbs/dl2\n"
          ]
        }
      ]
    },
    {
      "cell_type": "code",
      "metadata": {
        "id": "E8jMWhLwY4_C"
      },
      "source": [
        "# restart-run\n",
        "from exp.nb_12a import *"
      ],
      "execution_count": null,
      "outputs": []
    },
    {
      "cell_type": "code",
      "source": [
        "# restart-run\n",
        "%cd /content"
      ],
      "metadata": {
        "colab": {
          "base_uri": "https://localhost:8080/"
        },
        "id": "kkrWjIS4Z3vx",
        "outputId": "6c60549a-33b6-4f5b-d43b-cfedbfa30292"
      },
      "execution_count": null,
      "outputs": [
        {
          "output_type": "stream",
          "name": "stdout",
          "text": [
            "/content\n"
          ]
        }
      ]
    },
    {
      "cell_type": "code",
      "source": [
        "import json"
      ],
      "metadata": {
        "id": "z33vRez7Z3uQ"
      },
      "execution_count": null,
      "outputs": []
    },
    {
      "cell_type": "code",
      "source": [
        "with open('/content/data/data-v0/train.json') as f: train_json = json.load(f)"
      ],
      "metadata": {
        "id": "v7waDeIbaL2A"
      },
      "execution_count": null,
      "outputs": []
    },
    {
      "cell_type": "code",
      "source": [
        "with open('/content/data/data-v0/dev.json') as f: dev_json = json.load(f)"
      ],
      "metadata": {
        "id": "D7_0489Wat1u"
      },
      "execution_count": null,
      "outputs": []
    },
    {
      "cell_type": "markdown",
      "source": [
        "- AUDIO\n",
        "    - number of train (and valid) data: 7799\n",
        "    - number of test data: 3341\n",
        "- NLU\n",
        "    - number of train (and valid) data: 10097\n",
        "    - number of test data: 2886"
      ],
      "metadata": {
        "id": "zwUbJ3xXakSK"
      }
    },
    {
      "cell_type": "code",
      "source": [
        "!cp /gdrive/Shareddrives/Dion-Account/2122WS/dl4slp/coding-project/nlu_traindev.tar.gz /content/tmp\n",
        "%cd /content/tmp"
      ],
      "metadata": {
        "colab": {
          "base_uri": "https://localhost:8080/"
        },
        "id": "_CppY7zdaXuO",
        "outputId": "9293e3df-ed7b-477b-e744-e96dd77432a3"
      },
      "execution_count": null,
      "outputs": [
        {
          "output_type": "stream",
          "name": "stdout",
          "text": [
            "/content/tmp\n"
          ]
        }
      ]
    },
    {
      "cell_type": "code",
      "source": [
        "!tar -xf /content/tmp/nlu_traindev.tar.gz"
      ],
      "metadata": {
        "id": "M2zUeu8HbJ3d"
      },
      "execution_count": null,
      "outputs": []
    },
    {
      "cell_type": "code",
      "source": [
        "# export\n",
        "def get_jsons(d):\n",
        "    d = Path(d)\n",
        "    with (d/'train.json').open() as f: train_json = json.load(f)\n",
        "    with (d/'dev.json').open() as f: dev_json = json.load(f)\n",
        "    return train_json, dev_json"
      ],
      "metadata": {
        "id": "9ll0aUlCZ3r4"
      },
      "execution_count": null,
      "outputs": []
    },
    {
      "cell_type": "code",
      "source": [
        "nlu_train, nlu_dev = get_jsons('/content/tmp')\n",
        "list(nlu_train.keys())[-1], list(nlu_dev.keys())[-1]"
      ],
      "metadata": {
        "id": "cs91J2aKZ3lo"
      },
      "execution_count": null,
      "outputs": []
    },
    {
      "cell_type": "code",
      "source": [
        "del nlu_train, nlu_dev; gc.collect()"
      ],
      "metadata": {
        "colab": {
          "base_uri": "https://localhost:8080/"
        },
        "id": "PC6ky_POZ3aM",
        "outputId": "59c81d91-2bbf-4a2f-f927-ad398b4339e0"
      },
      "execution_count": null,
      "outputs": [
        {
          "output_type": "execute_result",
          "data": {
            "text/plain": [
              "809"
            ]
          },
          "metadata": {},
          "execution_count": 31
        }
      ]
    },
    {
      "cell_type": "markdown",
      "source": [
        "# Load the data\n",
        "- ~~split the data to each element~~\n",
        "- split to train / valid (using DataBlock of fastai)\n",
        "- get label\n",
        "- zero pad"
      ],
      "metadata": {
        "id": "TwR3oPdvcb19"
      }
    },
    {
      "cell_type": "code",
      "source": [
        "data_root = Path('/content/data/ser')"
      ],
      "metadata": {
        "id": "59Kzm-oReAqC"
      },
      "execution_count": null,
      "outputs": []
    },
    {
      "cell_type": "code",
      "source": [
        "train_path = data_root/'train'\n",
        "(train_path).mkdir(parents=True, exist_ok=True)\n",
        "\n",
        "dev_path = data_root/'dev'\n",
        "(dev_path).mkdir(parents=True, exist_ok=True)"
      ],
      "metadata": {
        "id": "4nChOIXneuQE"
      },
      "execution_count": null,
      "outputs": []
    },
    {
      "cell_type": "code",
      "source": [
        "data_root.ls()"
      ],
      "metadata": {
        "colab": {
          "base_uri": "https://localhost:8080/"
        },
        "id": "D08blhyRoI5A",
        "outputId": "66e5b4de-3024-4fbd-a9cb-5ea42ccbaa21"
      },
      "execution_count": null,
      "outputs": [
        {
          "output_type": "execute_result",
          "data": {
            "text/plain": [
              "[PosixPath('/content/data/ser/train'), PosixPath('/content/data/ser/dev')]"
            ]
          },
          "metadata": {},
          "execution_count": 9
        }
      ]
    },
    {
      "cell_type": "markdown",
      "source": [
        "- The rule of naming\n",
        "    - 'data/ser/train/{index}_y1_y2'\n",
        "        - y1 : activation\n",
        "        - y2 : valence"
      ],
      "metadata": {
        "id": "zWUecAUeeN4_"
      }
    },
    {
      "cell_type": "code",
      "source": [
        "for data_id, vals in train_json.items():\n",
        "    v = tensor(vals['features'])\n",
        "    torch.save(v, train_path/f\"{data_id}_{vals['activation']}_{vals['valence']}.pt\")"
      ],
      "metadata": {
        "id": "uCishFHye_HN"
      },
      "execution_count": null,
      "outputs": []
    },
    {
      "cell_type": "code",
      "source": [
        "for data_id, vals in dev_json.items():\n",
        "    v = tensor(vals['features'])\n",
        "    torch.save(v, dev_path/f\"{data_id}.pt\")"
      ],
      "metadata": {
        "id": "UuOxcg2ngFzn"
      },
      "execution_count": null,
      "outputs": []
    },
    {
      "cell_type": "code",
      "source": [
        "del train_json, dev_json"
      ],
      "metadata": {
        "id": "0i_1A5lCglWr"
      },
      "execution_count": null,
      "outputs": []
    },
    {
      "cell_type": "code",
      "source": [
        "import gc\n",
        "gc.collect()"
      ],
      "metadata": {
        "colab": {
          "base_uri": "https://localhost:8080/"
        },
        "id": "9Gl5ej9DoPi2",
        "outputId": "cc54e532-ef07-4358-b093-cc917b24fdba"
      },
      "execution_count": null,
      "outputs": [
        {
          "output_type": "execute_result",
          "data": {
            "text/plain": [
              "619"
            ]
          },
          "metadata": {},
          "execution_count": 14
        }
      ]
    },
    {
      "cell_type": "code",
      "source": [
        "# save for later\n",
        "\n",
        "!cp -R /content/data /gdrive/Shareddrives/Dion-Account/2122WS/dl4slp/coding-project/data"
      ],
      "metadata": {
        "id": "yXl5cXJuoUu4"
      },
      "execution_count": null,
      "outputs": []
    },
    {
      "cell_type": "code",
      "source": [
        "train_path.ls().__len__(), dev_path.ls().__len__()"
      ],
      "metadata": {
        "colab": {
          "base_uri": "https://localhost:8080/"
        },
        "id": "RNulovwKgnAU",
        "outputId": "8bb47d4d-6703-46c5-a3b8-a98ee651d22a"
      },
      "execution_count": null,
      "outputs": [
        {
          "output_type": "execute_result",
          "data": {
            "text/plain": [
              "(7800, 3342)"
            ]
          },
          "metadata": {},
          "execution_count": 59
        }
      ]
    },
    {
      "cell_type": "markdown",
      "metadata": {
        "id": "oykmSI8zY4_B"
      },
      "source": [
        "We rely heavily on [torchaudio](https://github.com/pytorch/audio) - which you'll have to compile to install."
      ]
    },
    {
      "cell_type": "code",
      "source": [
        "audios = get_files(train_path)"
      ],
      "metadata": {
        "id": "vR7U0z1HmgoR"
      },
      "execution_count": null,
      "outputs": []
    },
    {
      "cell_type": "code",
      "source": [
        "# restart-run\n",
        "class AudioList(ItemList):\n",
        "    @classmethod\n",
        "    def from_files(cls, path, extensions = None, recurse=True, include=None, **kwargs):\n",
        "        return cls(get_files(path, extensions, recurse=recurse, include=include), path, **kwargs)\n",
        "    \n",
        "    def get(self, fn):\n",
        "        return torch.load(fn)"
      ],
      "metadata": {
        "id": "fPJ2emMUmglw"
      },
      "execution_count": null,
      "outputs": []
    },
    {
      "cell_type": "code",
      "source": [
        "al=AudioList.from_files(train_path); al"
      ],
      "metadata": {
        "colab": {
          "base_uri": "https://localhost:8080/"
        },
        "id": "PSfrsOPbmgil",
        "outputId": "115ffe9b-d089-4c8c-da4e-8ce0a44cd134"
      },
      "execution_count": null,
      "outputs": [
        {
          "output_type": "execute_result",
          "data": {
            "text/plain": [
              "AudioList (7800 items)\n",
              "[PosixPath('/content/data/ser/train/1734_1_0.pt'), PosixPath('/content/data/ser/train/7264_1_1.pt'), PosixPath('/content/data/ser/train/4310_0_0.pt'), PosixPath('/content/data/ser/train/5159_1_0.pt'), PosixPath('/content/data/ser/train/4662_1_0.pt'), PosixPath('/content/data/ser/train/5083_1_1.pt'), PosixPath('/content/data/ser/train/2247_1_1.pt'), PosixPath('/content/data/ser/train/1744_1_1.pt'), PosixPath('/content/data/ser/train/2330_0_0.pt'), PosixPath('/content/data/ser/train/2696_1_0.pt')...]\n",
              "Path: /content/data/ser/train"
            ]
          },
          "metadata": {},
          "execution_count": 38
        }
      ]
    },
    {
      "cell_type": "code",
      "source": [
        "al[0].shape"
      ],
      "metadata": {
        "colab": {
          "base_uri": "https://localhost:8080/"
        },
        "id": "zAEwNikMmgbp",
        "outputId": "b726d795-8f52-4e31-d224-fa3279b2530e"
      },
      "execution_count": null,
      "outputs": [
        {
          "output_type": "execute_result",
          "data": {
            "text/plain": [
              "torch.Size([197, 26])"
            ]
          },
          "metadata": {},
          "execution_count": 42
        }
      ]
    },
    {
      "cell_type": "code",
      "source": [
        "sd = SplitData.split_by_func(al, partial(random_splitter, p_valid=0.2))"
      ],
      "metadata": {
        "id": "1cIxW3y9mgYt"
      },
      "execution_count": null,
      "outputs": []
    },
    {
      "cell_type": "code",
      "source": [
        ""
      ],
      "metadata": {
        "colab": {
          "base_uri": "https://localhost:8080/"
        },
        "id": "XMH4xhUbmgVx",
        "outputId": "8668ffa1-6bb8-4f59-ef82-db4e6a1f5c87"
      },
      "execution_count": null,
      "outputs": [
        {
          "output_type": "execute_result",
          "data": {
            "text/plain": [
              "PosixPath('/content/data/ser/train/1734_1_0.pt')"
            ]
          },
          "metadata": {},
          "execution_count": 51
        }
      ]
    },
    {
      "cell_type": "markdown",
      "source": [
        "- we have two labels, which are activation and valence. I will first try to classify them separately."
      ],
      "metadata": {
        "id": "WtIoXMETrLiz"
      }
    },
    {
      "cell_type": "code",
      "source": [
        "# restart-run\n",
        "def re_labeler(fn, pat, subcl='act'):\n",
        "    assert subcl in ['act', 'val', 'all']\n",
        "    if subcl=='all': return re.findall(pat, str(fn))\n",
        "    else:\n",
        "        return re.findall(pat, str(fn))[0] if pat == 'act' else re.findall(pat, str(fn))[1]"
      ],
      "metadata": {
        "id": "Q8aEXcNWmgSL"
      },
      "execution_count": null,
      "outputs": []
    },
    {
      "cell_type": "code",
      "source": [
        "# restart-run\n",
        "label_pat = r'_(\\d+)'\n",
        "emotion_labeler = partial(re_labeler, pat=label_pat)\n",
        "ll = label_by_func(sd, emotion_labeler, proc_y=CategoryProcessor())"
      ],
      "metadata": {
        "id": "YdJRlaBGsvyH"
      },
      "execution_count": null,
      "outputs": []
    },
    {
      "cell_type": "code",
      "source": [
        "re.findall(label_pat, str(list(sd.train)[0]))"
      ],
      "metadata": {
        "colab": {
          "base_uri": "https://localhost:8080/"
        },
        "id": "ALmWrNjxsO1c",
        "outputId": "93a135c8-62ab-45a3-fdfd-e1ba4ca46238"
      },
      "execution_count": null,
      "outputs": [
        {
          "output_type": "execute_result",
          "data": {
            "text/plain": [
              "['1', '0']"
            ]
          },
          "metadata": {},
          "execution_count": 54
        }
      ]
    },
    {
      "cell_type": "code",
      "source": [
        "ll"
      ],
      "metadata": {
        "colab": {
          "base_uri": "https://localhost:8080/"
        },
        "id": "cqc4iTHusK86",
        "outputId": "206b8cdf-07d0-4eb4-ddb8-3718d5918fb1"
      },
      "execution_count": null,
      "outputs": [
        {
          "output_type": "execute_result",
          "data": {
            "text/plain": [
              "SplitData\n",
              "Train: LabeledData\n",
              "x: AudioList (6193 items)\n",
              "[PosixPath('/content/data/ser/train/1734_1_0.pt'), PosixPath('/content/data/ser/train/7264_1_1.pt'), PosixPath('/content/data/ser/train/5083_1_1.pt'), PosixPath('/content/data/ser/train/2247_1_1.pt'), PosixPath('/content/data/ser/train/1744_1_1.pt'), PosixPath('/content/data/ser/train/4635_1_0.pt'), PosixPath('/content/data/ser/train/4747_0_1.pt'), PosixPath('/content/data/ser/train/3828_1_1.pt'), PosixPath('/content/data/ser/train/529_1_1.pt'), PosixPath('/content/data/ser/train/2975_1_1.pt')...]\n",
              "Path: /content/data/ser/train\n",
              "y: ItemList (6193 items)\n",
              "[0, 1, 1, 1, 1, 0, 1, 1, 1, 1...]\n",
              "Path: /content/data/ser/train\n",
              "\n",
              "Valid: LabeledData\n",
              "x: AudioList (1607 items)\n",
              "[PosixPath('/content/data/ser/train/4310_0_0.pt'), PosixPath('/content/data/ser/train/5159_1_0.pt'), PosixPath('/content/data/ser/train/4662_1_0.pt'), PosixPath('/content/data/ser/train/2330_0_0.pt'), PosixPath('/content/data/ser/train/2696_1_0.pt'), PosixPath('/content/data/ser/train/662_0_0.pt'), PosixPath('/content/data/ser/train/1982_1_1.pt'), PosixPath('/content/data/ser/train/6779_0_1.pt'), PosixPath('/content/data/ser/train/1272_1_0.pt'), PosixPath('/content/data/ser/train/4371_1_1.pt')...]\n",
              "Path: /content/data/ser/train\n",
              "y: ItemList (1607 items)\n",
              "[0, 0, 0, 0, 0, 0, 1, 1, 0, 1...]\n",
              "Path: /content/data/ser/train\n"
            ]
          },
          "metadata": {},
          "execution_count": 57
        }
      ]
    },
    {
      "cell_type": "code",
      "source": [
        "emotion_labeler = partial(re_labeler, pat=label_pat)\n",
        "ll = label_by_func(sd, emotion_labeler, proc_y=CategoryProcessor())\n",
        "class ToCuda(Transform):\n",
        "    _order=10\n",
        "    def __call__(self, ad): return ad.cuda()"
      ],
      "metadata": {
        "id": "Zl_pLCVcsxHn"
      },
      "execution_count": null,
      "outputs": []
    },
    {
      "cell_type": "code",
      "source": [
        "ToCuda()(ll.train[0][0]).type()"
      ],
      "metadata": {
        "colab": {
          "base_uri": "https://localhost:8080/",
          "height": 35
        },
        "id": "CStYml1DsxMf",
        "outputId": "c1a435b3-4a3f-46b0-ea3b-bfaf76815f42"
      },
      "execution_count": null,
      "outputs": [
        {
          "output_type": "execute_result",
          "data": {
            "application/vnd.google.colaboratory.intrinsic+json": {
              "type": "string"
            },
            "text/plain": [
              "'torch.cuda.FloatTensor'"
            ]
          },
          "metadata": {},
          "execution_count": 63
        }
      ]
    },
    {
      "cell_type": "code",
      "source": [
        "import torchaudio\n",
        "from torchaudio import transforms\n",
        "dir(transforms)"
      ],
      "metadata": {
        "colab": {
          "base_uri": "https://localhost:8080/"
        },
        "collapsed": true,
        "id": "2Lum6h5vtGOy",
        "outputId": "1dbeb53d-495e-4813-d000-7a9056f82f98"
      },
      "execution_count": null,
      "outputs": [
        {
          "output_type": "execute_result",
          "data": {
            "text/plain": [
              "['AmplitudeToDB',\n",
              " 'Callable',\n",
              " 'ComplexNorm',\n",
              " 'ComputeDeltas',\n",
              " 'F',\n",
              " 'Fade',\n",
              " 'FrequencyMasking',\n",
              " 'GriffinLim',\n",
              " 'InverseMelScale',\n",
              " 'InverseSpectrogram',\n",
              " 'LFCC',\n",
              " 'MFCC',\n",
              " 'MVDR',\n",
              " 'MelScale',\n",
              " 'MelSpectrogram',\n",
              " 'MuLawDecoding',\n",
              " 'MuLawEncoding',\n",
              " 'Optional',\n",
              " 'PSD',\n",
              " 'PitchShift',\n",
              " 'RNNTLoss',\n",
              " 'Resample',\n",
              " 'SlidingWindowCmn',\n",
              " 'SpectralCentroid',\n",
              " 'Spectrogram',\n",
              " 'Tensor',\n",
              " 'TimeMasking',\n",
              " 'TimeStretch',\n",
              " 'Vad',\n",
              " 'Vol',\n",
              " '_AxisMasking',\n",
              " '__all__',\n",
              " '__builtins__',\n",
              " '__cached__',\n",
              " '__doc__',\n",
              " '__file__',\n",
              " '__loader__',\n",
              " '__name__',\n",
              " '__package__',\n",
              " '__spec__',\n",
              " '_apply_sinc_resample_kernel',\n",
              " '_get_mat_trace',\n",
              " '_get_sinc_resample_kernel',\n",
              " 'math',\n",
              " 'torch',\n",
              " 'warnings']"
            ]
          },
          "metadata": {},
          "execution_count": 66
        }
      ]
    },
    {
      "cell_type": "markdown",
      "source": [
        "- let's see the distribution of frames to pad"
      ],
      "metadata": {
        "id": "GJLgUYwdu7VS"
      }
    },
    {
      "cell_type": "code",
      "source": [
        "len_dist = [sd.train[idx].shape[0] for idx, item in enumerate(sd.train)]"
      ],
      "metadata": {
        "id": "XCpAoJH8tGmD"
      },
      "execution_count": null,
      "outputs": []
    },
    {
      "cell_type": "code",
      "source": [
        "max(len_dist)"
      ],
      "metadata": {
        "colab": {
          "base_uri": "https://localhost:8080/"
        },
        "id": "iV4quEZGvFO-",
        "outputId": "549a3fd7-abf6-4060-ce03-7c55567eadbc"
      },
      "execution_count": null,
      "outputs": [
        {
          "output_type": "execute_result",
          "data": {
            "text/plain": [
              "1707"
            ]
          },
          "metadata": {},
          "execution_count": 76
        }
      ]
    },
    {
      "cell_type": "code",
      "source": [
        "plt.hist(len_dist)"
      ],
      "metadata": {
        "colab": {
          "base_uri": "https://localhost:8080/",
          "height": 317
        },
        "id": "H_45wT86vO5Z",
        "outputId": "35d28b03-7574-426f-dbf3-3814cf21e924"
      },
      "execution_count": null,
      "outputs": [
        {
          "output_type": "execute_result",
          "data": {
            "text/plain": [
              "(array([3.490e+03, 1.812e+03, 6.000e+02, 1.860e+02, 7.700e+01, 1.600e+01, 5.000e+00, 4.000e+00, 2.000e+00, 1.000e+00]),\n",
              " array([  30. ,  197.7,  365.4,  533.1,  700.8,  868.5, 1036.2, 1203.9, 1371.6, 1539.3, 1707. ]),\n",
              " <a list of 10 Patch objects>)"
            ]
          },
          "metadata": {},
          "execution_count": 77
        },
        {
          "output_type": "display_data",
          "data": {
            "image/png": "[encoded data removed]",
            "text/plain": [
              "<Figure size 432x288 with 1 Axes>"
            ]
          },
          "metadata": {
            "needs_background": "light"
          }
        }
      ]
    },
    {
      "cell_type": "markdown",
      "source": [
        "- let me see the 80 percent point"
      ],
      "metadata": {
        "id": "BXbMMAS8vkof"
      }
    },
    {
      "cell_type": "code",
      "source": [
        "get_pct = lambda ls, n: sorted(ls)[int(len(ls)*n)]"
      ],
      "metadata": {
        "id": "Aa1c4PKJupae"
      },
      "execution_count": null,
      "outputs": []
    },
    {
      "cell_type": "code",
      "source": [
        "get_pct(len_dist, 0.90)"
      ],
      "metadata": {
        "colab": {
          "base_uri": "https://localhost:8080/"
        },
        "id": "pq0JpwXTtGqn",
        "outputId": "51abf75c-6117-4428-8db0-78ffeeee9bd7"
      },
      "execution_count": null,
      "outputs": [
        {
          "output_type": "execute_result",
          "data": {
            "text/plain": [
              "421"
            ]
          },
          "metadata": {},
          "execution_count": 93
        }
      ]
    },
    {
      "cell_type": "code",
      "source": [
        "# number of time frames and filter banks\n",
        "t, fb = sd.train[0].shape; t, fb"
      ],
      "metadata": {
        "colab": {
          "base_uri": "https://localhost:8080/"
        },
        "id": "xUuo82qDwftX",
        "outputId": "8c0db84c-a9b2-4f90-d116-68a74186ff75"
      },
      "execution_count": null,
      "outputs": [
        {
          "output_type": "execute_result",
          "data": {
            "text/plain": [
              "(197, 26)"
            ]
          },
          "metadata": {},
          "execution_count": 105
        }
      ]
    },
    {
      "cell_type": "code",
      "source": [
        "pad_size = 422 - t; pad_size"
      ],
      "metadata": {
        "colab": {
          "base_uri": "https://localhost:8080/"
        },
        "id": "fyxAV_9iyUpR",
        "outputId": "b79d2479-454e-4760-a25e-86c96e8b2ab1"
      },
      "execution_count": null,
      "outputs": [
        {
          "output_type": "execute_result",
          "data": {
            "text/plain": [
              "225"
            ]
          },
          "metadata": {},
          "execution_count": 106
        }
      ]
    },
    {
      "cell_type": "code",
      "source": [
        "class PadProcessor(Processor):\n",
        "    def __init__(self): self.max_len = max_len\n",
        "\n",
        "    def __call__(self, items):\n",
        "        #The vocab is defined on the first use.\n",
        "        if self.vocab is None:\n",
        "            # save original length of frames\n",
        "            self.itov  = {k: items[k].shape[0] for k,v in enumerate(items)}\n",
        "        return [self.proc1(o) for o in items]\n",
        "    def proc1(self, item):\n",
        "        t, fb = ad.shape\n",
        "        pad_size = self.max_len - t\n",
        "        return torch.concat((item, torch.zeros(pad_size, fb)))\n",
        "\n",
        "    # def deprocess(self, idxs):\n",
        "    #     assert self.vocab is not None\n",
        "    #     return [self.deproc1(idx) for idx in idxs]\n",
        "    # def deproc1(self, idx): return self.vocab[idx]"
      ],
      "metadata": {
        "id": "phBq3Gds0iFi"
      },
      "execution_count": null,
      "outputs": []
    },
    {
      "cell_type": "code",
      "source": [
        "torch.concat((sd.train[0],torch.zeros(pad_size, fb))).shape"
      ],
      "metadata": {
        "colab": {
          "base_uri": "https://localhost:8080/"
        },
        "id": "oCYDqWOCxRBp",
        "outputId": "18882062-3856-42f7-c1bf-6a3424aacc7e"
      },
      "execution_count": null,
      "outputs": [
        {
          "output_type": "execute_result",
          "data": {
            "text/plain": [
              "torch.Size([422, 26])"
            ]
          },
          "metadata": {},
          "execution_count": 112
        }
      ]
    },
    {
      "cell_type": "code",
      "source": [
        "class Pad():\n",
        "    _order = 11\n",
        "    def __init__(self, max_len):\n",
        "        self.max_len = max_len\n",
        "    def __call__(self, ad):\n",
        "        # number of time frames and filter banks\n",
        "        t, fb = ad.shape\n",
        "        pad_size = self.max_len - t\n",
        "        torch.zeros(pad_size, fb)\n",
        "        return torch.concat((ad, torch.zeros(pad_size, fb)))"
      ],
      "metadata": {
        "id": "peFmUfxNtGuH"
      },
      "execution_count": null,
      "outputs": []
    },
    {
      "cell_type": "markdown",
      "source": [
        ""
      ],
      "metadata": {
        "id": "YkoJhkcH542U"
      }
    },
    {
      "cell_type": "code",
      "source": [
        "Pad(422)(sd.train[0]).shape"
      ],
      "metadata": {
        "colab": {
          "base_uri": "https://localhost:8080/"
        },
        "id": "CmTDE1hZsxRG",
        "outputId": "9dcc8747-dfac-4872-fe12-e36078c5d604"
      },
      "execution_count": null,
      "outputs": [
        {
          "output_type": "execute_result",
          "data": {
            "text/plain": [
              "torch.Size([422, 26])"
            ]
          },
          "metadata": {},
          "execution_count": 114
        }
      ]
    },
    {
      "cell_type": "code",
      "source": [
        "pad_90 = Pad(get_pct(len_dist, 0.9))\n",
        "tfms = [ToCuda(), pad_90]\n",
        "al = AudioList.from_files(train_path, tfms=tfms)\n",
        "sd = SplitData.split_by_func(al, partial(random_splitter, p_valid=0.2))\n",
        "ll = label_by_func(sd, emotion_labeler, proc_y=CategoryProcessor())"
      ],
      "metadata": {
        "id": "a44D1ord2ciX"
      },
      "execution_count": null,
      "outputs": []
    },
    {
      "cell_type": "code",
      "source": [
        "tfms = [ToCuda()]\n",
        "al = AudioList.from_files(train_path, tfms=tfms)\n",
        "sd = SplitData.split_by_func(al, partial(random_splitter, p_valid=0.2))\n",
        "ll = label_by_func(sd, emotion_labeler, proc_y=CategoryProcessor(), proc_x = partial(Pad(get_pct(len_dist, 0.9))))"
      ],
      "metadata": {
        "id": "NCCdpmS032n2"
      },
      "execution_count": null,
      "outputs": []
    },
    {
      "cell_type": "code",
      "source": [
        "bs=64\n",
        "c_in = ll.train[0][0].shape[0]\n",
        "c_out = len(uniqueify(ll.train.y))"
      ],
      "metadata": {
        "colab": {
          "base_uri": "https://localhost:8080/",
          "height": 312
        },
        "id": "n3TsT9ZtsxUz",
        "outputId": "a1e14498-92a9-4282-f49a-dd036faa489c"
      },
      "execution_count": null,
      "outputs": [
        {
          "output_type": "error",
          "ename": "RuntimeError",
          "evalue": "ignored",
          "traceback": [
            "\u001b[0;31m---------------------------------------------------------------------------\u001b[0m",
            "\u001b[0;31mRuntimeError\u001b[0m                              Traceback (most recent call last)",
            "\u001b[0;32m<ipython-input-126-777558c08d42>\u001b[0m in \u001b[0;36m<module>\u001b[0;34m()\u001b[0m\n\u001b[1;32m      1\u001b[0m \u001b[0mbs\u001b[0m\u001b[0;34m=\u001b[0m\u001b[0;36m64\u001b[0m\u001b[0;34m\u001b[0m\u001b[0;34m\u001b[0m\u001b[0m\n\u001b[0;32m----> 2\u001b[0;31m \u001b[0mc_in\u001b[0m \u001b[0;34m=\u001b[0m \u001b[0mll\u001b[0m\u001b[0;34m.\u001b[0m\u001b[0mtrain\u001b[0m\u001b[0;34m[\u001b[0m\u001b[0;36m0\u001b[0m\u001b[0;34m]\u001b[0m\u001b[0;34m[\u001b[0m\u001b[0;36m0\u001b[0m\u001b[0;34m]\u001b[0m\u001b[0;34m.\u001b[0m\u001b[0mshape\u001b[0m\u001b[0;34m[\u001b[0m\u001b[0;36m0\u001b[0m\u001b[0;34m]\u001b[0m\u001b[0;34m\u001b[0m\u001b[0;34m\u001b[0m\u001b[0m\n\u001b[0m\u001b[1;32m      3\u001b[0m \u001b[0mc_out\u001b[0m \u001b[0;34m=\u001b[0m \u001b[0mlen\u001b[0m\u001b[0;34m(\u001b[0m\u001b[0muniqueify\u001b[0m\u001b[0;34m(\u001b[0m\u001b[0mll\u001b[0m\u001b[0;34m.\u001b[0m\u001b[0mtrain\u001b[0m\u001b[0;34m.\u001b[0m\u001b[0my\u001b[0m\u001b[0;34m)\u001b[0m\u001b[0;34m)\u001b[0m\u001b[0;34m\u001b[0m\u001b[0;34m\u001b[0m\u001b[0m\n",
            "\u001b[0;32m/content/course-v3/nbs/dl2/exp/nb_08.py\u001b[0m in \u001b[0;36m__getitem__\u001b[0;34m(self, idx)\u001b[0m\n\u001b[1;32m    139\u001b[0m \u001b[0;34m\u001b[0m\u001b[0m\n\u001b[1;32m    140\u001b[0m     \u001b[0;32mdef\u001b[0m \u001b[0m__repr__\u001b[0m\u001b[0;34m(\u001b[0m\u001b[0mself\u001b[0m\u001b[0;34m)\u001b[0m\u001b[0;34m:\u001b[0m \u001b[0;32mreturn\u001b[0m \u001b[0;34mf'{self.__class__.__name__}\\nx: {self.x}\\ny: {self.y}\\n'\u001b[0m\u001b[0;34m\u001b[0m\u001b[0;34m\u001b[0m\u001b[0m\n\u001b[0;32m--> 141\u001b[0;31m     \u001b[0;32mdef\u001b[0m \u001b[0m__getitem__\u001b[0m\u001b[0;34m(\u001b[0m\u001b[0mself\u001b[0m\u001b[0;34m,\u001b[0m\u001b[0midx\u001b[0m\u001b[0;34m)\u001b[0m\u001b[0;34m:\u001b[0m \u001b[0;32mreturn\u001b[0m \u001b[0mself\u001b[0m\u001b[0;34m.\u001b[0m\u001b[0mx\u001b[0m\u001b[0;34m[\u001b[0m\u001b[0midx\u001b[0m\u001b[0;34m]\u001b[0m\u001b[0;34m,\u001b[0m\u001b[0mself\u001b[0m\u001b[0;34m.\u001b[0m\u001b[0my\u001b[0m\u001b[0;34m[\u001b[0m\u001b[0midx\u001b[0m\u001b[0;34m]\u001b[0m\u001b[0;34m\u001b[0m\u001b[0;34m\u001b[0m\u001b[0m\n\u001b[0m\u001b[1;32m    142\u001b[0m     \u001b[0;32mdef\u001b[0m \u001b[0m__len__\u001b[0m\u001b[0;34m(\u001b[0m\u001b[0mself\u001b[0m\u001b[0;34m)\u001b[0m\u001b[0;34m:\u001b[0m \u001b[0;32mreturn\u001b[0m \u001b[0mlen\u001b[0m\u001b[0;34m(\u001b[0m\u001b[0mself\u001b[0m\u001b[0;34m.\u001b[0m\u001b[0mx\u001b[0m\u001b[0;34m)\u001b[0m\u001b[0;34m\u001b[0m\u001b[0;34m\u001b[0m\u001b[0m\n\u001b[1;32m    143\u001b[0m \u001b[0;34m\u001b[0m\u001b[0m\n",
            "\u001b[0;32m/content/course-v3/nbs/dl2/exp/nb_08.py\u001b[0m in \u001b[0;36m__getitem__\u001b[0;34m(self, idx)\u001b[0m\n\u001b[1;32m     57\u001b[0m         \u001b[0mres\u001b[0m \u001b[0;34m=\u001b[0m \u001b[0msuper\u001b[0m\u001b[0;34m(\u001b[0m\u001b[0;34m)\u001b[0m\u001b[0;34m.\u001b[0m\u001b[0m__getitem__\u001b[0m\u001b[0;34m(\u001b[0m\u001b[0midx\u001b[0m\u001b[0;34m)\u001b[0m\u001b[0;34m\u001b[0m\u001b[0;34m\u001b[0m\u001b[0m\n\u001b[1;32m     58\u001b[0m         \u001b[0;32mif\u001b[0m \u001b[0misinstance\u001b[0m\u001b[0;34m(\u001b[0m\u001b[0mres\u001b[0m\u001b[0;34m,\u001b[0m\u001b[0mlist\u001b[0m\u001b[0;34m)\u001b[0m\u001b[0;34m:\u001b[0m \u001b[0;32mreturn\u001b[0m \u001b[0;34m[\u001b[0m\u001b[0mself\u001b[0m\u001b[0;34m.\u001b[0m\u001b[0m_get\u001b[0m\u001b[0;34m(\u001b[0m\u001b[0mo\u001b[0m\u001b[0;34m)\u001b[0m \u001b[0;32mfor\u001b[0m \u001b[0mo\u001b[0m \u001b[0;32min\u001b[0m \u001b[0mres\u001b[0m\u001b[0;34m]\u001b[0m\u001b[0;34m\u001b[0m\u001b[0;34m\u001b[0m\u001b[0m\n\u001b[0;32m---> 59\u001b[0;31m         \u001b[0;32mreturn\u001b[0m \u001b[0mself\u001b[0m\u001b[0;34m.\u001b[0m\u001b[0m_get\u001b[0m\u001b[0;34m(\u001b[0m\u001b[0mres\u001b[0m\u001b[0;34m)\u001b[0m\u001b[0;34m\u001b[0m\u001b[0;34m\u001b[0m\u001b[0m\n\u001b[0m\u001b[1;32m     60\u001b[0m \u001b[0;34m\u001b[0m\u001b[0m\n\u001b[1;32m     61\u001b[0m \u001b[0;32mclass\u001b[0m \u001b[0mImageList\u001b[0m\u001b[0;34m(\u001b[0m\u001b[0mItemList\u001b[0m\u001b[0;34m)\u001b[0m\u001b[0;34m:\u001b[0m\u001b[0;34m\u001b[0m\u001b[0;34m\u001b[0m\u001b[0m\n",
            "\u001b[0;32m/content/course-v3/nbs/dl2/exp/nb_08.py\u001b[0m in \u001b[0;36m_get\u001b[0;34m(self, i)\u001b[0m\n\u001b[1;32m     52\u001b[0m \u001b[0;34m\u001b[0m\u001b[0m\n\u001b[1;32m     53\u001b[0m     \u001b[0;32mdef\u001b[0m  \u001b[0mget\u001b[0m\u001b[0;34m(\u001b[0m\u001b[0mself\u001b[0m\u001b[0;34m,\u001b[0m \u001b[0mi\u001b[0m\u001b[0;34m)\u001b[0m\u001b[0;34m:\u001b[0m \u001b[0;32mreturn\u001b[0m \u001b[0mi\u001b[0m\u001b[0;34m\u001b[0m\u001b[0;34m\u001b[0m\u001b[0m\n\u001b[0;32m---> 54\u001b[0;31m     \u001b[0;32mdef\u001b[0m \u001b[0m_get\u001b[0m\u001b[0;34m(\u001b[0m\u001b[0mself\u001b[0m\u001b[0;34m,\u001b[0m \u001b[0mi\u001b[0m\u001b[0;34m)\u001b[0m\u001b[0;34m:\u001b[0m \u001b[0;32mreturn\u001b[0m \u001b[0mcompose\u001b[0m\u001b[0;34m(\u001b[0m\u001b[0mself\u001b[0m\u001b[0;34m.\u001b[0m\u001b[0mget\u001b[0m\u001b[0;34m(\u001b[0m\u001b[0mi\u001b[0m\u001b[0;34m)\u001b[0m\u001b[0;34m,\u001b[0m \u001b[0mself\u001b[0m\u001b[0;34m.\u001b[0m\u001b[0mtfms\u001b[0m\u001b[0;34m)\u001b[0m\u001b[0;34m\u001b[0m\u001b[0;34m\u001b[0m\u001b[0m\n\u001b[0m\u001b[1;32m     55\u001b[0m \u001b[0;34m\u001b[0m\u001b[0m\n\u001b[1;32m     56\u001b[0m     \u001b[0;32mdef\u001b[0m \u001b[0m__getitem__\u001b[0m\u001b[0;34m(\u001b[0m\u001b[0mself\u001b[0m\u001b[0;34m,\u001b[0m \u001b[0midx\u001b[0m\u001b[0;34m)\u001b[0m\u001b[0;34m:\u001b[0m\u001b[0;34m\u001b[0m\u001b[0;34m\u001b[0m\u001b[0m\n",
            "\u001b[0;32m/content/course-v3/nbs/dl2/exp/nb_08.py\u001b[0m in \u001b[0;36mcompose\u001b[0;34m(x, funcs, order_key, *args, **kwargs)\u001b[0m\n\u001b[1;32m     37\u001b[0m \u001b[0;32mdef\u001b[0m \u001b[0mcompose\u001b[0m\u001b[0;34m(\u001b[0m\u001b[0mx\u001b[0m\u001b[0;34m,\u001b[0m \u001b[0mfuncs\u001b[0m\u001b[0;34m,\u001b[0m \u001b[0;34m*\u001b[0m\u001b[0margs\u001b[0m\u001b[0;34m,\u001b[0m \u001b[0morder_key\u001b[0m\u001b[0;34m=\u001b[0m\u001b[0;34m'_order'\u001b[0m\u001b[0;34m,\u001b[0m \u001b[0;34m**\u001b[0m\u001b[0mkwargs\u001b[0m\u001b[0;34m)\u001b[0m\u001b[0;34m:\u001b[0m\u001b[0;34m\u001b[0m\u001b[0;34m\u001b[0m\u001b[0m\n\u001b[1;32m     38\u001b[0m     \u001b[0mkey\u001b[0m \u001b[0;34m=\u001b[0m \u001b[0;32mlambda\u001b[0m \u001b[0mo\u001b[0m\u001b[0;34m:\u001b[0m \u001b[0mgetattr\u001b[0m\u001b[0;34m(\u001b[0m\u001b[0mo\u001b[0m\u001b[0;34m,\u001b[0m \u001b[0morder_key\u001b[0m\u001b[0;34m,\u001b[0m \u001b[0;36m0\u001b[0m\u001b[0;34m)\u001b[0m\u001b[0;34m\u001b[0m\u001b[0;34m\u001b[0m\u001b[0m\n\u001b[0;32m---> 39\u001b[0;31m     \u001b[0;32mfor\u001b[0m \u001b[0mf\u001b[0m \u001b[0;32min\u001b[0m \u001b[0msorted\u001b[0m\u001b[0;34m(\u001b[0m\u001b[0mlistify\u001b[0m\u001b[0;34m(\u001b[0m\u001b[0mfuncs\u001b[0m\u001b[0;34m)\u001b[0m\u001b[0;34m,\u001b[0m \u001b[0mkey\u001b[0m\u001b[0;34m=\u001b[0m\u001b[0mkey\u001b[0m\u001b[0;34m)\u001b[0m\u001b[0;34m:\u001b[0m \u001b[0mx\u001b[0m \u001b[0;34m=\u001b[0m \u001b[0mf\u001b[0m\u001b[0;34m(\u001b[0m\u001b[0mx\u001b[0m\u001b[0;34m,\u001b[0m \u001b[0;34m**\u001b[0m\u001b[0mkwargs\u001b[0m\u001b[0;34m)\u001b[0m\u001b[0;34m\u001b[0m\u001b[0;34m\u001b[0m\u001b[0m\n\u001b[0m\u001b[1;32m     40\u001b[0m     \u001b[0;32mreturn\u001b[0m \u001b[0mx\u001b[0m\u001b[0;34m\u001b[0m\u001b[0;34m\u001b[0m\u001b[0m\n\u001b[1;32m     41\u001b[0m \u001b[0;34m\u001b[0m\u001b[0m\n",
            "\u001b[0;32m<ipython-input-113-35ccf630d445>\u001b[0m in \u001b[0;36m__call__\u001b[0;34m(self, ad)\u001b[0m\n\u001b[1;32m      8\u001b[0m         \u001b[0mpad_size\u001b[0m \u001b[0;34m=\u001b[0m \u001b[0mself\u001b[0m\u001b[0;34m.\u001b[0m\u001b[0mmax_len\u001b[0m \u001b[0;34m-\u001b[0m \u001b[0mt\u001b[0m\u001b[0;34m\u001b[0m\u001b[0;34m\u001b[0m\u001b[0m\n\u001b[1;32m      9\u001b[0m         \u001b[0mtorch\u001b[0m\u001b[0;34m.\u001b[0m\u001b[0mzeros\u001b[0m\u001b[0;34m(\u001b[0m\u001b[0mpad_size\u001b[0m\u001b[0;34m,\u001b[0m \u001b[0mfb\u001b[0m\u001b[0;34m)\u001b[0m\u001b[0;34m\u001b[0m\u001b[0;34m\u001b[0m\u001b[0m\n\u001b[0;32m---> 10\u001b[0;31m         \u001b[0;32mreturn\u001b[0m \u001b[0mtorch\u001b[0m\u001b[0;34m.\u001b[0m\u001b[0mconcat\u001b[0m\u001b[0;34m(\u001b[0m\u001b[0;34m(\u001b[0m\u001b[0mad\u001b[0m\u001b[0;34m,\u001b[0m \u001b[0mtorch\u001b[0m\u001b[0;34m.\u001b[0m\u001b[0mzeros\u001b[0m\u001b[0;34m(\u001b[0m\u001b[0mpad_size\u001b[0m\u001b[0;34m,\u001b[0m \u001b[0mfb\u001b[0m\u001b[0;34m)\u001b[0m\u001b[0;34m)\u001b[0m\u001b[0;34m)\u001b[0m\u001b[0;34m\u001b[0m\u001b[0;34m\u001b[0m\u001b[0m\n\u001b[0m",
            "\u001b[0;31mRuntimeError\u001b[0m: Expected all tensors to be on the same device, but found at least two devices, cuda:0 and cpu! (when checking argument for argument tensors in method wrapper___cat)"
          ]
        }
      ]
    },
    {
      "cell_type": "code",
      "source": [
        "data = ll.to_databunch(bs,c_in=c_in,c_out=c_out)"
      ],
      "metadata": {
        "id": "4gN9gKb_0IsG"
      },
      "execution_count": null,
      "outputs": []
    },
    {
      "cell_type": "code",
      "source": [
        "# x,y = next(iter(data.train_dl))\n",
        "# I can not run this as the size of batcehs are different. "
      ],
      "metadata": {
        "id": "TsFuTayU0LIX"
      },
      "execution_count": null,
      "outputs": []
    },
    {
      "cell_type": "code",
      "source": [
        "opt_func = adam_opt(mom=0.9, mom_sqr=0.99, eps=1e-6, wd=1e-2)\n",
        "loss_func = LabelSmoothingCrossEntropy()\n",
        "lr = 1e-2\n",
        "pct_start = 0.5\n",
        "phases = create_phases(pct_start)\n",
        "sched_lr = combine_scheds(phases, cos_1cycle_anneal(lr/10., lr, lr/1e5))\n",
        "sched_mom = combine_scheds(phases, cos_1cycle_anneal(0.95,0.85, 0.95))\n",
        "cbscheds = [ParamScheduler('lr', sched_lr),\n",
        "ParamScheduler('mom', sched_mom)]"
      ],
      "metadata": {
        "id": "izheMHyk0Nz7"
      },
      "execution_count": null,
      "outputs": []
    },
    {
      "cell_type": "code",
      "source": [
        "learn = cnn_learner(xresnet34, data, loss_func, opt_func)"
      ],
      "metadata": {
        "id": "TzVDT0G_Z3Fv"
      },
      "execution_count": null,
      "outputs": []
    }
  ]
}