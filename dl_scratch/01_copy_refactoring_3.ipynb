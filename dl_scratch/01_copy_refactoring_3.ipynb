{
  "nbformat": 4,
  "nbformat_minor": 0,
  "metadata": {
    "colab": {
      "name": "01_copy_refactoring_3.ipynb",
      "provenance": []
    },
    "kernelspec": {
      "name": "python3",
      "display_name": "Python 3"
    }
  },
  "cells": [
    {
      "cell_type": "code",
      "metadata": {
        "id": "mEN-9yx75ynp",
        "colab_type": "code",
        "colab": {}
      },
      "source": [
        "from fastai import datasets\n",
        "import pickle, gzip"
      ],
      "execution_count": 1,
      "outputs": []
    },
    {
      "cell_type": "code",
      "metadata": {
        "id": "IsY9lLKM-CDU",
        "colab_type": "code",
        "colab": {}
      },
      "source": [
        "import torch"
      ],
      "execution_count": 2,
      "outputs": []
    },
    {
      "cell_type": "markdown",
      "metadata": {
        "id": "qGT_Sftr8VXu",
        "colab_type": "text"
      },
      "source": [
        "[^1]: what is gzip module? And How do I know this is file which has extension\" .gz?"
      ]
    },
    {
      "cell_type": "code",
      "metadata": {
        "id": "WYcIu5vf6TFT",
        "colab_type": "code",
        "colab": {}
      },
      "source": [
        "MNIST_URL = \"http://deeplearning.net/data/mnist/mnist.pkl\""
      ],
      "execution_count": 3,
      "outputs": []
    },
    {
      "cell_type": "code",
      "metadata": {
        "id": "P_x3meHF6SEs",
        "colab_type": "code",
        "colab": {
          "base_uri": "https://localhost:8080/",
          "height": 35
        },
        "outputId": "dfca5872-0695-481c-b6c4-78efb6b6a658"
      },
      "source": [
        "def init_data():\n",
        "    f = datasets.download_data(MNIST_URL, ext='.gz')\n",
        "    with gzip.open(f, 'rb') as tmp:\n",
        "        (train_x, train_y), (valid_x, valid_y), _ = pickle.load(tmp, encoding = 'latin-1')\n",
        "    return map(torch.tensor,(train_x, train_y, valid_x, valid_y))\n",
        "train_x, train_y, valid_x, valid_y = init_data()"
      ],
      "execution_count": 4,
      "outputs": [
        {
          "output_type": "stream",
          "text": [
            "Downloading http://deeplearning.net/data/mnist/mnist.pkl.gz\n"
          ],
          "name": "stdout"
        },
        {
          "output_type": "display_data",
          "data": {
            "text/html": [
              ""
            ],
            "text/plain": [
              "<IPython.core.display.HTML object>"
            ]
          },
          "metadata": {
            "tags": []
          }
        }
      ]
    },
    {
      "cell_type": "code",
      "metadata": {
        "id": "MmdQIkG27CrG",
        "colab_type": "code",
        "colab": {}
      },
      "source": [
        "mu, sigma = train_x.mean(), train_x.std()\n",
        "def normalize(x, m, s): return (x-m)/s"
      ],
      "execution_count": 5,
      "outputs": []
    },
    {
      "cell_type": "code",
      "metadata": {
        "id": "ZQva8A6K9Z1V",
        "colab_type": "code",
        "colab": {}
      },
      "source": [
        "train_x, valid_x = normalize(train_x, mu, sigma), normalize(valid_x, mu, sigma)"
      ],
      "execution_count": 6,
      "outputs": []
    },
    {
      "cell_type": "code",
      "metadata": {
        "id": "8sFDZgYT9oXb",
        "colab_type": "code",
        "colab": {}
      },
      "source": [
        "def describe(x): return x.mean(), x.std(), x.type()"
      ],
      "execution_count": 7,
      "outputs": []
    },
    {
      "cell_type": "code",
      "metadata": {
        "id": "8R9htDKY9v5Z",
        "colab_type": "code",
        "colab": {
          "base_uri": "https://localhost:8080/",
          "height": 52
        },
        "outputId": "364e9944-a950-4c93-c22c-6e4dcdab79ef"
      },
      "source": [
        "describe(train_x), describe(valid_x)"
      ],
      "execution_count": 8,
      "outputs": [
        {
          "output_type": "execute_result",
          "data": {
            "text/plain": [
              "((tensor(0.0001), tensor(1.), 'torch.FloatTensor'),\n",
              " (tensor(-0.0057), tensor(0.9924), 'torch.FloatTensor'))"
            ]
          },
          "metadata": {
            "tags": []
          },
          "execution_count": 8
        }
      ]
    },
    {
      "cell_type": "markdown",
      "metadata": {
        "id": "gjqc2_qh9zAw",
        "colab_type": "text"
      },
      "source": [
        "1. with einsum\n",
        "2. with torch module"
      ]
    },
    {
      "cell_type": "code",
      "metadata": {
        "id": "RM61RLKy-jON",
        "colab_type": "code",
        "colab": {}
      },
      "source": [
        "class Module():\n",
        "    def __call__(self, *args):\n",
        "        self.args = args\n",
        "        self.out = self.fwd(*args)\n",
        "        return(self.out)\n",
        "    def backward(self):\n",
        "        self.bwd(self.out, *self.args)"
      ],
      "execution_count": 37,
      "outputs": []
    },
    {
      "cell_type": "code",
      "metadata": {
        "id": "40R0eyqj_NDl",
        "colab_type": "code",
        "colab": {}
      },
      "source": [
        "class Lin(Module):\n",
        "    def __init__(self, w, b):\n",
        "        self.w = w\n",
        "        self.b = b\n",
        "    def fwd(self, x): return(x @ self.w + self.b)\n",
        "    def bwd(self, y, x):\n",
        "        self.w.g = torch.einsum(\"ij, ik -> jk\", x, y)\n",
        "        self.b.g = y.sum(0)\n",
        "        x.g = torch.einsum(\"ik, jk -> ij\", y, self.w)"
      ],
      "execution_count": 58,
      "outputs": []
    },
    {
      "cell_type": "code",
      "metadata": {
        "id": "t1Y7SjGD_M8L",
        "colab_type": "code",
        "colab": {}
      },
      "source": [
        "class ReLU(Module):\n",
        "    def fwd(self, x): return x.clamp_min(0.) - 0.5\n",
        "        # self.x = x # we don't have to save this since it's saved at Module().args\n",
        "    def bwd(self, y, x):\n",
        "        x.g = (y>0).float()"
      ],
      "execution_count": 68,
      "outputs": []
    },
    {
      "cell_type": "code",
      "metadata": {
        "id": "mFP4JcJ8_PtN",
        "colab_type": "code",
        "colab": {}
      },
      "source": [
        "class Mse(Module):\n",
        "    def fwd(self, x, trg): return (x.squeeze() - trg).pow(2).mean().unsqueeze(-1)\n",
        "    def bwd(self, y, x, trg):\n",
        "        x.g = 2* (x.squeeze() - trg) / x.shape[0]"
      ],
      "execution_count": 69,
      "outputs": []
    },
    {
      "cell_type": "code",
      "metadata": {
        "id": "gMClW0M--Suo",
        "colab_type": "code",
        "colab": {}
      },
      "source": [
        "class Model():\n",
        "    def __init__(self, w1, b1, w2, b2):\n",
        "        self.layers = [Lin(w1, b1), ReLU(), Lin(w2, b2)]\n",
        "        self.loss = Mse()\n",
        "    def __call__(self, x, y):\n",
        "        for l in self.layers:\n",
        "            x = l(x)\n",
        "            #x = l.fwd(x)\n",
        "        return self.loss.fwd(x, y)\n",
        "    def backward(self):\n",
        "        for l in reversed(self.layers): l.backward()"
      ],
      "execution_count": 70,
      "outputs": []
    },
    {
      "cell_type": "code",
      "metadata": {
        "id": "w4lp29ghDk8k",
        "colab_type": "code",
        "colab": {}
      },
      "source": [
        "m, nh, n = train_x.shape[1], 64, 1"
      ],
      "execution_count": 71,
      "outputs": []
    },
    {
      "cell_type": "code",
      "metadata": {
        "id": "SCxt6dHnDho9",
        "colab_type": "code",
        "colab": {}
      },
      "source": [
        "from math import sqrt\n",
        "w1, w2 = torch.randn(m, nh) * sqrt(2/m), torch.randn(nh, 1) * sqrt(2/nh)\n",
        "b1, b2 = torch.zeros(nh), torch.zeros(1)"
      ],
      "execution_count": 72,
      "outputs": []
    },
    {
      "cell_type": "code",
      "metadata": {
        "id": "Nb8SLcGQD4cn",
        "colab_type": "code",
        "colab": {}
      },
      "source": [
        "m = Model(w1, b1, w2, b2)"
      ],
      "execution_count": 73,
      "outputs": []
    },
    {
      "cell_type": "code",
      "metadata": {
        "id": "-vnlzkykEBrx",
        "colab_type": "code",
        "colab": {}
      },
      "source": [
        "# %timeit -n 10 m(train_x, train_y)"
      ],
      "execution_count": 74,
      "outputs": []
    },
    {
      "cell_type": "code",
      "metadata": {
        "id": "x3lFt5iqEEOW",
        "colab_type": "code",
        "colab": {}
      },
      "source": [
        "loss = m(train_x, train_y)\n",
        "m.backward()"
      ],
      "execution_count": 75,
      "outputs": []
    },
    {
      "cell_type": "code",
      "metadata": {
        "id": "WCJLN7AaFFLK",
        "colab_type": "code",
        "colab": {
          "base_uri": "https://localhost:8080/",
          "height": 35
        },
        "outputId": "fa9d299c-b92a-44f4-ad81-81d1488705a1"
      },
      "source": [
        "loss"
      ],
      "execution_count": 76,
      "outputs": [
        {
          "output_type": "execute_result",
          "data": {
            "text/plain": [
              "tensor([33.9851])"
            ]
          },
          "metadata": {
            "tags": []
          },
          "execution_count": 76
        }
      ]
    },
    {
      "cell_type": "code",
      "metadata": {
        "id": "S8UbrBhQHNu2",
        "colab_type": "code",
        "colab": {}
      },
      "source": [
        "w1.stat, w2.stat, b1.stat, b2.stat, train_x.stat = map(describe, (w1.g, w2.g, b1.g, b2.g, train_x.g))"
      ],
      "execution_count": 79,
      "outputs": []
    },
    {
      "cell_type": "code",
      "metadata": {
        "id": "aqrV3EN_HQW9",
        "colab_type": "code",
        "colab": {
          "base_uri": "https://localhost:8080/",
          "height": 104
        },
        "outputId": "d996c6d0-932f-462a-ab8a-b9571ff89f36"
      },
      "source": [
        "w1.stat, w2.stat, b1.stat, b2.stat, train_x.stat"
      ],
      "execution_count": 80,
      "outputs": [
        {
          "output_type": "execute_result",
          "data": {
            "text/plain": [
              "((tensor(6.5712), tensor(24845.4062), 'torch.FloatTensor'),\n",
              " (tensor(-2745.2048), tensor(14009.0879), 'torch.FloatTensor'),\n",
              " (tensor(-432.0642), tensor(40397.9258), 'torch.FloatTensor'),\n",
              " (tensor(-23525.9473), tensor(nan), 'torch.FloatTensor'),\n",
              " (tensor(-0.0186), tensor(0.6076), 'torch.FloatTensor'))"
            ]
          },
          "metadata": {
            "tags": []
          },
          "execution_count": 80
        }
      ]
    },
    {
      "cell_type": "code",
      "metadata": {
        "id": "Iy0yhr4nHlYA",
        "colab_type": "code",
        "colab": {}
      },
      "source": [
        ""
      ],
      "execution_count": null,
      "outputs": []
    }
  ]
}