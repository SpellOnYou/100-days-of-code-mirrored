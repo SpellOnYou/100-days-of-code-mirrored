{
  "nbformat": 4,
  "nbformat_minor": 0,
  "metadata": {
    "colab": {
      "name": "decompose_hanguel_segment.ipynb",
      "version": "0.3.2",
      "provenance": [],
      "include_colab_link": true
    },
    "kernelspec": {
      "name": "python3",
      "display_name": "Python 3"
    }
  },
  "cells": [
    {
      "cell_type": "markdown",
      "metadata": {
        "id": "view-in-github",
        "colab_type": "text"
      },
      "source": [
        "<a href=\"https://colab.research.google.com/github/SpellOnYou/100_Days_of_ML_Code/blob/master/code/decompose_hanguel_segment.ipynb\" target=\"_parent\"><img src=\"https://colab.research.google.com/assets/colab-badge.svg\" alt=\"Open In Colab\"/></a>"
      ]
    },
    {
      "metadata": {
        "id": "C0z6aiKW9lCP",
        "colab_type": "code",
        "colab": {}
      },
      "cell_type": "code",
      "source": [
        "import re\n",
        "LEADING = 'ㄱㄲㄴㄷㄸㄹㅁㅂㅃㅅㅆㅇㅈㅉㅊㅋㅌㅍㅎ'\n",
        "VOWEL = 'ㅏㅐㅑㅒㅓㅔㅕㅖㅗㅘㅙㅚㅛㅜㅝㅞㅟㅠㅡㅢㅣ'\n",
        "TRAILING = 'ㄱㄲㄳㄴㄵㄶㄷㄹㄺㄻㄼㄽㄾㄿㅀㅁㅂㅄㅅㅆㅇㅈㅊㅋㅌㅍㅎ'\n",
        "SEP_TRAILING = [\"ㄱ\", \"ㄲ\", \"ㄱㅅ\", \"ㄴ\", \"ㄴㅈ\", \"ㄴㅎ\", \"ㄷ\", \"ㄹ\", \"ㄹㄱ\", \"ㄹㅁ\", \"ㄹㅂ\", \"ㄹㅅ\", \"ㄹㅌ\", \"ㄹㅍ\", \"ㄹㅎ\", \"ㅁ\", \"ㅂ\", \"ㅂㅅ\", \"ㅅ\", \"ㅆ\", \"ㅇ\", \"ㅈ\", \"ㅊ\", \"ㅋ\", \"ㅌ\", \"ㅍ\", \"ㅎ\"]\n",
        "TCount = len(TRAILING) + 1\n",
        "VTCount = len(VOWEL) * TCount\n",
        "\n",
        "def decompose(text, s_null_coda_replacer = \"\", b_remove_non_hangeul=True,\n",
        " b_remove_onset_ieung=False, s_ieung_replacer = \"\", b_sep_trailing = True, b_return_tuple=False):\n",
        "\t# Try to return only if the type of the argument is a string\n",
        "\tif type(text) == str:\n",
        "\t\ttry:\n",
        "\t\t\tif ord('가') <= ord(text) <= ord('힣'):\n",
        "\t\t\t\t# 한글 한 음절인 경우\n",
        "\t\t\t\tind = ord(text) - ord('가')\n",
        "\t\t\t\tL = LEADING[ind // VTCount] # 초성\n",
        "\t\t\t\tif b_remove_onset_ieung and L == \"ㅇ\":\n",
        "\t\t\t\t\tL = s_ieung_replacer\n",
        "\t\t\t\tV = VOWEL[ind % VTCount // TCount] # 중성\n",
        "\t\t\t\tif b_sep_trailing:\n",
        "\t\t\t\t\tT = SEP_TRAILING[ind % TCount - 1] if ind % TCount else s_null_coda_replacer\n",
        "\t\t\t\telse:\n",
        "\t\t\t\t\tT = TRAILING[ind % TCount - 1] if ind % TCount else s_null_coda_replacer\n",
        "\t\t\t\tif b_return_tuple:\n",
        "\t\t\t\t\treturn (L,V,T)\n",
        "\t\t\t\telse:\n",
        "\t\t\t\t\treturn ''.join((L,V,T))\n",
        "\t\t\telse:\n",
        "\t\t\t\t# 한글 음절이 아닌 문자열인 경우\n",
        "\t\t\t\treturn '' if b_remove_non_hangeul else text\n",
        "\t\texcept:\n",
        "\t\t\t# 길이 2 이상의 문자열인 경우 ord()에서 TypeError 발생\n",
        "\t\t\treturn ''.join(\n",
        "\t\t\t\tdecompose(char, s_null_coda_replacer, b_remove_non_hangeul, b_remove_onset_ieung, s_ieung_replacer, b_sep_trailing)\n",
        "\t\t\t\t\tfor char in text)\n",
        "\telse:\n",
        "\t\treturn\n",
        "\n",
        "\n",
        "def find_choseong(text):\n",
        "\ttry:\n",
        "\t\tif ord('가') <= ord(text) <= ord('힣'):\n",
        "\t\t\t# 한글 한 음절인 경우\n",
        "\t\t\tind = ord(text) - ord('가')\n",
        "\t\t\tL = LEADING[ind // VTCount] # 초성\n",
        "\t\t\treturn L\n",
        "\texcept:\n",
        "\t\tpass # 한글 한 음절이 아닌 경우\n",
        "\t\t\t\n",
        "def find_jongseong(text):\n",
        "\ttry:\n",
        "\t\tif ord('가') <= ord(text) <= ord('힣'):\n",
        "\t\t\t# 한글 한 음절인 경우\n",
        "\t\t\tind = ord(text) - ord('가')\n",
        "\t\t\tif ind % TCount == 0:\n",
        "\t\t\t\tT = '' # 종성이 없을 경우\n",
        "\t\t\telse:\n",
        "\t\t\t\tT = TRAILING[ind % TCount - 1] # 종성\n",
        "\t\t\treturn T\n",
        "\texcept:\n",
        "\t\tpass # 한글 한 음절이 아닌 경우"
      ],
      "execution_count": 0,
      "outputs": []
    },
    {
      "metadata": {
        "id": "QfIasIjc9r1R",
        "colab_type": "code",
        "colab": {}
      },
      "cell_type": "code",
      "source": [
        "sentences = [\"있잖아, 여기서 일 년 전 이때쯤에 우린 세계 일주에 대해 말했고 캣파워를 듣고 있었지\",\n",
        "            \"지금은 그때도 우리도 남지 않고 거리를 지나는 수많은 발자국만이 세차게 울리고 있어\",\n",
        "            \"이제야 깨달았지 세상에게 난 견뎌내거나 파멸하거나 할 수밖에\",\n",
        "            \"불확실한 나에게 이미 정해진 것은 방황 하나뿐이라는 걸\"]\n"
      ],
      "execution_count": 0,
      "outputs": []
    },
    {
      "metadata": {
        "id": "Rndebw3w9pJ3",
        "colab_type": "code",
        "colab": {
          "base_uri": "https://localhost:8080/",
          "height": 54
        },
        "outputId": "8ddeede8-9383-4a93-ade0-29b1245e20f8"
      },
      "cell_type": "code",
      "source": [
        "decompose(\" \".join(sentences))"
      ],
      "execution_count": 9,
      "outputs": [
        {
          "output_type": "execute_result",
          "data": {
            "text/plain": [
              "'ㅇㅣㅆㅈㅏㄴㅎㅇㅏㅇㅕㄱㅣㅅㅓㅇㅣㄹㄴㅕㄴㅈㅓㄴㅇㅣㄸㅐㅉㅡㅁㅇㅔㅇㅜㄹㅣㄴㅅㅔㄱㅖㅇㅣㄹㅈㅜㅇㅔㄷㅐㅎㅐㅁㅏㄹㅎㅐㅆㄱㅗㅋㅐㅅㅍㅏㅇㅝㄹㅡㄹㄷㅡㄷㄱㅗㅇㅣㅆㅇㅓㅆㅈㅣㅈㅣㄱㅡㅁㅇㅡㄴㄱㅡㄸㅐㄷㅗㅇㅜㄹㅣㄷㅗㄴㅏㅁㅈㅣㅇㅏㄴㅎㄱㅗㄱㅓㄹㅣㄹㅡㄹㅈㅣㄴㅏㄴㅡㄴㅅㅜㅁㅏㄴㅎㅇㅡㄴㅂㅏㄹㅈㅏㄱㅜㄱㅁㅏㄴㅇㅣㅅㅔㅊㅏㄱㅔㅇㅜㄹㄹㅣㄱㅗㅇㅣㅆㅇㅓㅇㅣㅈㅔㅇㅑㄲㅐㄷㅏㄹㅇㅏㅆㅈㅣㅅㅔㅅㅏㅇㅇㅔㄱㅔㄴㅏㄴㄱㅕㄴㄷㅕㄴㅐㄱㅓㄴㅏㅍㅏㅁㅕㄹㅎㅏㄱㅓㄴㅏㅎㅏㄹㅅㅜㅂㅏㄲㅇㅔㅂㅜㄹㅎㅘㄱㅅㅣㄹㅎㅏㄴㄴㅏㅇㅔㄱㅔㅇㅣㅁㅣㅈㅓㅇㅎㅐㅈㅣㄴㄱㅓㅅㅇㅡㄴㅂㅏㅇㅎㅘㅇㅎㅏㄴㅏㅃㅜㄴㅇㅣㄹㅏㄴㅡㄴㄱㅓㄹ'"
            ]
          },
          "metadata": {
            "tags": []
          },
          "execution_count": 9
        }
      ]
    },
    {
      "metadata": {
        "id": "SjvA7cgb9115",
        "colab_type": "code",
        "colab": {
          "base_uri": "https://localhost:8080/",
          "height": 54
        },
        "outputId": "1c4f6dc8-dc65-4ea6-b92b-a23c4c280e39"
      },
      "cell_type": "code",
      "source": [
        "decompose(\" \".join(sentences),\n",
        "          b_remove_non_hangeul=False)"
      ],
      "execution_count": 10,
      "outputs": [
        {
          "output_type": "execute_result",
          "data": {
            "text/plain": [
              "'ㅇㅣㅆㅈㅏㄴㅎㅇㅏ, ㅇㅕㄱㅣㅅㅓ ㅇㅣㄹ ㄴㅕㄴ ㅈㅓㄴ ㅇㅣㄸㅐㅉㅡㅁㅇㅔ ㅇㅜㄹㅣㄴ ㅅㅔㄱㅖ ㅇㅣㄹㅈㅜㅇㅔ ㄷㅐㅎㅐ ㅁㅏㄹㅎㅐㅆㄱㅗ ㅋㅐㅅㅍㅏㅇㅝㄹㅡㄹ ㄷㅡㄷㄱㅗ ㅇㅣㅆㅇㅓㅆㅈㅣ ㅈㅣㄱㅡㅁㅇㅡㄴ ㄱㅡㄸㅐㄷㅗ ㅇㅜㄹㅣㄷㅗ ㄴㅏㅁㅈㅣ ㅇㅏㄴㅎㄱㅗ ㄱㅓㄹㅣㄹㅡㄹ ㅈㅣㄴㅏㄴㅡㄴ ㅅㅜㅁㅏㄴㅎㅇㅡㄴ ㅂㅏㄹㅈㅏㄱㅜㄱㅁㅏㄴㅇㅣ ㅅㅔㅊㅏㄱㅔ ㅇㅜㄹㄹㅣㄱㅗ ㅇㅣㅆㅇㅓ ㅇㅣㅈㅔㅇㅑ ㄲㅐㄷㅏㄹㅇㅏㅆㅈㅣ ㅅㅔㅅㅏㅇㅇㅔㄱㅔ ㄴㅏㄴ ㄱㅕㄴㄷㅕㄴㅐㄱㅓㄴㅏ ㅍㅏㅁㅕㄹㅎㅏㄱㅓㄴㅏ ㅎㅏㄹ ㅅㅜㅂㅏㄲㅇㅔ ㅂㅜㄹㅎㅘㄱㅅㅣㄹㅎㅏㄴ ㄴㅏㅇㅔㄱㅔ ㅇㅣㅁㅣ ㅈㅓㅇㅎㅐㅈㅣㄴ ㄱㅓㅅㅇㅡㄴ ㅂㅏㅇㅎㅘㅇ ㅎㅏㄴㅏㅃㅜㄴㅇㅣㄹㅏㄴㅡㄴ ㄱㅓㄹ'"
            ]
          },
          "metadata": {
            "tags": []
          },
          "execution_count": 10
        }
      ]
    },
    {
      "metadata": {
        "id": "-hiL-xulOX7M",
        "colab_type": "code",
        "colab": {
          "base_uri": "https://localhost:8080/",
          "height": 54
        },
        "outputId": "45e10b03-5b02-45fc-a9ec-7fe3bf142a0f"
      },
      "cell_type": "code",
      "source": [
        "decompose(\" \".join(sentences),\n",
        "          b_remove_non_hangeul=False,\n",
        "          b_sep_trailing = False\n",
        "         )"
      ],
      "execution_count": 11,
      "outputs": [
        {
          "output_type": "execute_result",
          "data": {
            "text/plain": [
              "'ㅇㅣㅆㅈㅏㄶㅇㅏ, ㅇㅕㄱㅣㅅㅓ ㅇㅣㄹ ㄴㅕㄴ ㅈㅓㄴ ㅇㅣㄸㅐㅉㅡㅁㅇㅔ ㅇㅜㄹㅣㄴ ㅅㅔㄱㅖ ㅇㅣㄹㅈㅜㅇㅔ ㄷㅐㅎㅐ ㅁㅏㄹㅎㅐㅆㄱㅗ ㅋㅐㅅㅍㅏㅇㅝㄹㅡㄹ ㄷㅡㄷㄱㅗ ㅇㅣㅆㅇㅓㅆㅈㅣ ㅈㅣㄱㅡㅁㅇㅡㄴ ㄱㅡㄸㅐㄷㅗ ㅇㅜㄹㅣㄷㅗ ㄴㅏㅁㅈㅣ ㅇㅏㄶㄱㅗ ㄱㅓㄹㅣㄹㅡㄹ ㅈㅣㄴㅏㄴㅡㄴ ㅅㅜㅁㅏㄶㅇㅡㄴ ㅂㅏㄹㅈㅏㄱㅜㄱㅁㅏㄴㅇㅣ ㅅㅔㅊㅏㄱㅔ ㅇㅜㄹㄹㅣㄱㅗ ㅇㅣㅆㅇㅓ ㅇㅣㅈㅔㅇㅑ ㄲㅐㄷㅏㄹㅇㅏㅆㅈㅣ ㅅㅔㅅㅏㅇㅇㅔㄱㅔ ㄴㅏㄴ ㄱㅕㄴㄷㅕㄴㅐㄱㅓㄴㅏ ㅍㅏㅁㅕㄹㅎㅏㄱㅓㄴㅏ ㅎㅏㄹ ㅅㅜㅂㅏㄲㅇㅔ ㅂㅜㄹㅎㅘㄱㅅㅣㄹㅎㅏㄴ ㄴㅏㅇㅔㄱㅔ ㅇㅣㅁㅣ ㅈㅓㅇㅎㅐㅈㅣㄴ ㄱㅓㅅㅇㅡㄴ ㅂㅏㅇㅎㅘㅇ ㅎㅏㄴㅏㅃㅜㄴㅇㅣㄹㅏㄴㅡㄴ ㄱㅓㄹ'"
            ]
          },
          "metadata": {
            "tags": []
          },
          "execution_count": 11
        }
      ]
    },
    {
      "metadata": {
        "id": "3DvfmyzDPFbJ",
        "colab_type": "code",
        "colab": {}
      },
      "cell_type": "code",
      "source": [
        ""
      ],
      "execution_count": 0,
      "outputs": []
    }
  ]
}