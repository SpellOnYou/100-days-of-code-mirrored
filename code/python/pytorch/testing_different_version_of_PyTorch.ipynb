{
  "nbformat": 4,
  "nbformat_minor": 0,
  "metadata": {
    "colab": {
      "name": "testing different version of PyTorch.ipynb",
      "provenance": [],
      "toc_visible": true,
      "machine_shape": "hm"
    },
    "kernelspec": {
      "name": "python3",
      "display_name": "Python 3"
    },
    "accelerator": "GPU"
  },
  "cells": [
    {
      "cell_type": "markdown",
      "metadata": {
        "id": "mC5v4s1PlBn6",
        "colab_type": "text"
      },
      "source": [
        "**CUDA version: 10.1**\n",
        "\n",
        "[timezone](https://www.zeitverschiebung.net/en/timezone/africa--casablanca) of GPU is casablanca/africa\n",
        "\n",
        "**Python version 3.6.9**\n",
        "\n",
        "refer [this site](https://pytorch.org/get-started/previous-versions/) when you have trouble with using different version of pytorch"
      ]
    },
    {
      "cell_type": "code",
      "metadata": {
        "id": "71B_GRvbk7HI",
        "colab_type": "code",
        "outputId": "5c9243af-b416-4e4f-fae0-b55313c810a6",
        "colab": {
          "base_uri": "https://localhost:8080/",
          "height": 311
        }
      },
      "source": [
        "!nvidia-smi"
      ],
      "execution_count": 1,
      "outputs": [
        {
          "output_type": "stream",
          "text": [
            "Wed Jun 10 05:25:22 2020       \n",
            "+-----------------------------------------------------------------------------+\n",
            "| NVIDIA-SMI 440.82       Driver Version: 418.67       CUDA Version: 10.1     |\n",
            "|-------------------------------+----------------------+----------------------+\n",
            "| GPU  Name        Persistence-M| Bus-Id        Disp.A | Volatile Uncorr. ECC |\n",
            "| Fan  Temp  Perf  Pwr:Usage/Cap|         Memory-Usage | GPU-Util  Compute M. |\n",
            "|===============================+======================+======================|\n",
            "|   0  Tesla P100-PCIE...  Off  | 00000000:00:04.0 Off |                    0 |\n",
            "| N/A   36C    P0    25W / 250W |      0MiB / 16280MiB |      0%      Default |\n",
            "+-------------------------------+----------------------+----------------------+\n",
            "                                                                               \n",
            "+-----------------------------------------------------------------------------+\n",
            "| Processes:                                                       GPU Memory |\n",
            "|  GPU       PID   Type   Process name                             Usage      |\n",
            "|=============================================================================|\n",
            "|  No running processes found                                                 |\n",
            "+-----------------------------------------------------------------------------+\n"
          ],
          "name": "stdout"
        }
      ]
    },
    {
      "cell_type": "code",
      "metadata": {
        "id": "pPmZZinBpYAM",
        "colab_type": "code",
        "outputId": "d9063575-78fa-41fa-ddea-bb7a4dca305c",
        "colab": {
          "base_uri": "https://localhost:8080/",
          "height": 52
        }
      },
      "source": [
        "!python -c \"import sys; print(sys.version)\""
      ],
      "execution_count": 2,
      "outputs": [
        {
          "output_type": "stream",
          "text": [
            "3.6.9 (default, Apr 18 2020, 01:56:04) \n",
            "[GCC 8.4.0]\n"
          ],
          "name": "stdout"
        }
      ]
    },
    {
      "cell_type": "markdown",
      "metadata": {
        "id": "y0YPTr9apwhx",
        "colab_type": "text"
      },
      "source": [
        "## pytorch: 1.5.0+cu101"
      ]
    },
    {
      "cell_type": "code",
      "metadata": {
        "id": "GyNh78MJmV3g",
        "colab_type": "code",
        "outputId": "5e890db4-260b-48c2-a56e-2e62879fbdd5",
        "colab": {
          "base_uri": "https://localhost:8080/",
          "height": 35
        }
      },
      "source": [
        "!python -c \"import torch; print(torch.__version__)\""
      ],
      "execution_count": 3,
      "outputs": [
        {
          "output_type": "stream",
          "text": [
            "1.5.0+cu101\n"
          ],
          "name": "stdout"
        }
      ]
    },
    {
      "cell_type": "code",
      "metadata": {
        "id": "M8b2roWrnIVq",
        "colab_type": "code",
        "colab": {}
      },
      "source": [
        "import torch\n",
        "a = torch.arange(0, 100)\n",
        "p = torch.linspace(0.01,1,100)\n",
        "# a, p"
      ],
      "execution_count": 0,
      "outputs": []
    },
    {
      "cell_type": "code",
      "metadata": {
        "id": "QLlD3w_joJxR",
        "colab_type": "code",
        "outputId": "8f388798-3cc7-4059-b9b1-85b51b83427d",
        "colab": {
          "base_uri": "https://localhost:8080/",
          "height": 35
        }
      },
      "source": [
        "len(a), len(p)"
      ],
      "execution_count": 5,
      "outputs": [
        {
          "output_type": "execute_result",
          "data": {
            "text/plain": [
              "(100, 100)"
            ]
          },
          "metadata": {
            "tags": []
          },
          "execution_count": 5
        }
      ]
    },
    {
      "cell_type": "code",
      "metadata": {
        "id": "-jU83iY-hOMI",
        "colab_type": "code",
        "outputId": "cb9a149f-3a2f-4a0e-d2e0-efc02a2e2d26",
        "colab": {
          "base_uri": "https://localhost:8080/",
          "height": 35
        }
      },
      "source": [
        "p[99], p[-1]"
      ],
      "execution_count": 0,
      "outputs": [
        {
          "output_type": "execute_result",
          "data": {
            "text/plain": [
              "(tensor(1.), tensor(1.))"
            ]
          },
          "metadata": {
            "tags": []
          },
          "execution_count": 4
        }
      ]
    },
    {
      "cell_type": "code",
      "metadata": {
        "id": "3PoZ8wyZsYcx",
        "colab_type": "code",
        "colab": {
          "base_uri": "https://localhost:8080/",
          "height": 35
        },
        "outputId": "1fdebdff-9b7e-4531-d9cb-5ca3f8daac3d"
      },
      "source": [
        "p[99].item()"
      ],
      "execution_count": 6,
      "outputs": [
        {
          "output_type": "execute_result",
          "data": {
            "text/plain": [
              "1.0"
            ]
          },
          "metadata": {
            "tags": []
          },
          "execution_count": 6
        }
      ]
    },
    {
      "cell_type": "markdown",
      "metadata": {
        "id": "GCEzvNeQoMTE",
        "colab_type": "text"
      },
      "source": [
        "---"
      ]
    },
    {
      "cell_type": "markdown",
      "metadata": {
        "colab_type": "text",
        "id": "ohp7EFDwrfAo"
      },
      "source": [
        "## pytorch: 1.4.0+cu101"
      ]
    },
    {
      "cell_type": "markdown",
      "metadata": {
        "id": "X_jQ9ZgBoUaG",
        "colab_type": "text"
      },
      "source": [
        "* [wheel pytorch](https://download.pytorch.org/whl/torch_stable.html)\n",
        "* [Issues torch==1.4.0 is broken when using CUDA 10.1](https://github.com/pytorch/pytorch/issues/37113)\n",
        "* `https://download.pytorch.org/whl/cu101/torch-1.4.0-cp36-cp36m-linux_x86_64.whl`"
      ]
    },
    {
      "cell_type": "code",
      "metadata": {
        "id": "Q9fPA16Jr2uT",
        "colab_type": "code",
        "outputId": "15920b8e-a17c-4208-e338-71c271c98417",
        "colab": {
          "base_uri": "https://localhost:8080/",
          "height": 193
        }
      },
      "source": [
        "!pip install https://download.pytorch.org/whl/cu101/torch-1.4.0-cp36-cp36m-linux_x86_64.whl"
      ],
      "execution_count": 1,
      "outputs": [
        {
          "output_type": "stream",
          "text": [
            "Collecting torch==1.4.0\n",
            "\u001b[?25l  Downloading https://download.pytorch.org/whl/cu101/torch-1.4.0-cp36-cp36m-linux_x86_64.whl (753.4MB)\n",
            "\u001b[K     |████████████████████████████████| 753.4MB 19kB/s \n",
            "\u001b[31mERROR: torchvision 0.6.0+cu101 has requirement torch==1.5.0, but you'll have torch 1.4.0 which is incompatible.\u001b[0m\n",
            "\u001b[?25hInstalling collected packages: torch\n",
            "  Found existing installation: torch 1.5.0+cu101\n",
            "    Uninstalling torch-1.5.0+cu101:\n",
            "      Successfully uninstalled torch-1.5.0+cu101\n",
            "Successfully installed torch-1.4.0\n"
          ],
          "name": "stdout"
        }
      ]
    },
    {
      "cell_type": "markdown",
      "metadata": {
        "id": "vMEM_yNXtxkn",
        "colab_type": "text"
      },
      "source": [
        "It warns me I couldn't be able to use torchvision"
      ]
    },
    {
      "cell_type": "code",
      "metadata": {
        "id": "R8TTMqOBuCld",
        "colab_type": "code",
        "outputId": "2211a5b0-c24e-4345-d35d-3811da6da668",
        "colab": {
          "base_uri": "https://localhost:8080/",
          "height": 35
        }
      },
      "source": [
        "import torch\n",
        "torch.__version__"
      ],
      "execution_count": 2,
      "outputs": [
        {
          "output_type": "execute_result",
          "data": {
            "text/plain": [
              "'1.4.0'"
            ]
          },
          "metadata": {
            "tags": []
          },
          "execution_count": 2
        }
      ]
    },
    {
      "cell_type": "code",
      "metadata": {
        "id": "JdkMzxr3uEtD",
        "colab_type": "code",
        "colab": {}
      },
      "source": [
        "a = torch.arange(0, 100)\n",
        "p = torch.linspace(0.01,1,100)\n",
        "# a, p"
      ],
      "execution_count": 0,
      "outputs": []
    },
    {
      "cell_type": "code",
      "metadata": {
        "id": "UIpmsfmuuKab",
        "colab_type": "code",
        "outputId": "59e9b2f0-154b-49bb-c6f4-e10761ff4ef9",
        "colab": {
          "base_uri": "https://localhost:8080/",
          "height": 35
        }
      },
      "source": [
        "len(a), len(p)"
      ],
      "execution_count": 4,
      "outputs": [
        {
          "output_type": "execute_result",
          "data": {
            "text/plain": [
              "(100, 100)"
            ]
          },
          "metadata": {
            "tags": []
          },
          "execution_count": 4
        }
      ]
    },
    {
      "cell_type": "code",
      "metadata": {
        "id": "Kvcd5TQguUJH",
        "colab_type": "code",
        "outputId": "ae7b5766-986a-46f1-f5c7-dd97ab1a60cc",
        "colab": {
          "base_uri": "https://localhost:8080/",
          "height": 35
        }
      },
      "source": [
        "p[99], p[-1]"
      ],
      "execution_count": 0,
      "outputs": [
        {
          "output_type": "execute_result",
          "data": {
            "text/plain": [
              "(tensor(1.0000), tensor(1.0000))"
            ]
          },
          "metadata": {
            "tags": []
          },
          "execution_count": 7
        }
      ]
    },
    {
      "cell_type": "code",
      "metadata": {
        "id": "lXABOL__tEZO",
        "colab_type": "code",
        "colab": {
          "base_uri": "https://localhost:8080/",
          "height": 35
        },
        "outputId": "b084ca47-a2c9-4b08-e479-f4e236ff149f"
      },
      "source": [
        "p[99].item()"
      ],
      "execution_count": 5,
      "outputs": [
        {
          "output_type": "execute_result",
          "data": {
            "text/plain": [
              "0.9999999403953552"
            ]
          },
          "metadata": {
            "tags": []
          },
          "execution_count": 5
        }
      ]
    },
    {
      "cell_type": "code",
      "metadata": {
        "id": "twMSbvDhtJYu",
        "colab_type": "code",
        "colab": {
          "base_uri": "https://localhost:8080/",
          "height": 35
        },
        "outputId": "dd6e1b5f-a99a-49b4-f054-51014020d6e4"
      },
      "source": [
        "p[-1].item()"
      ],
      "execution_count": 6,
      "outputs": [
        {
          "output_type": "execute_result",
          "data": {
            "text/plain": [
              "0.9999999403953552"
            ]
          },
          "metadata": {
            "tags": []
          },
          "execution_count": 6
        }
      ]
    },
    {
      "cell_type": "markdown",
      "metadata": {
        "id": "LlTnsusUyOvE",
        "colab_type": "text"
      },
      "source": [
        "## Reference\n",
        "\n",
        "API, which is pytorch compile internally\n",
        "- Library API > [Function torch::linspace](https://pytorch.org/cppdocs/api/function_namespacetorch_1a28ee7a461a70fd65a6ad3ab3ede48e66.html)\n",
        "\n",
        "pytorch official document of linspace\n",
        "\n",
        "- [v1.3.1](https://pytorch.org/docs/1.3.1/torch.html?highlight=linspace#torch.linspace)\n",
        "- [v1.4.0](https://pytorch.org/docs/1.4.0/torch.html?highlight=linspace#torch.linspace)\n",
        "- [v1.5.0](https://pytorch.org/docs/stable/torch.html#torch.linspace)"
      ]
    }
  ]
}