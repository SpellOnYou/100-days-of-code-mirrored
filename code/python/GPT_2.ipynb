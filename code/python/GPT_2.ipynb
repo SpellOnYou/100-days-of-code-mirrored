{
  "nbformat": 4,
  "nbformat_minor": 0,
  "metadata": {
    "colab": {
      "name": "GPT-2.ipynb",
      "version": "0.3.2",
      "provenance": [],
      "include_colab_link": true
    },
    "kernelspec": {
      "name": "python3",
      "display_name": "Python 3"
    }
  },
  "cells": [
    {
      "cell_type": "markdown",
      "metadata": {
        "id": "view-in-github",
        "colab_type": "text"
      },
      "source": [
        "<a href=\"https://colab.research.google.com/github/SpellOnYou/100_Days_of_ML_Code/blob/master/code/GPT_2.ipynb\" target=\"_parent\"><img src=\"https://colab.research.google.com/assets/colab-badge.svg\" alt=\"Open In Colab\"/></a>"
      ]
    },
    {
      "metadata": {
        "id": "JKO6ZvPKYo0g",
        "colab_type": "code",
        "colab": {}
      },
      "cell_type": "code",
      "source": [
        "#!pip install pytorch-pretrained-bert>=0.6"
      ],
      "execution_count": 0,
      "outputs": []
    },
    {
      "metadata": {
        "id": "r8AqFYToYp95",
        "colab_type": "code",
        "outputId": "ad252b54-edfc-423c-8218-fef18b19d3a5",
        "colab": {
          "base_uri": "https://localhost:8080/",
          "height": 205
        }
      },
      "cell_type": "code",
      "source": [
        "from pytorch_pretrained_bert.tokenization_gpt2 import GPT2Tokenizer\n",
        "from pytorch_pretrained_bert.modeling_gpt2 import GPT2LMHeadModel\n",
        "import torch\n",
        "\n",
        "tokenizer = GPT2Tokenizer.from_pretrained('gpt2')\n",
        "model = GPT2LMHeadModel.from_pretrained('gpt2')\n",
        "\n",
        "# The end of text marker.\n",
        "END_OF_TEXT = tokenizer.encoder[\"<|endoftext|>\"]\n",
        "\n",
        "SEED = \"김사월이 올해 9월 발표한 새 앨범\"\n",
        "\n",
        "\n",
        "def generate(seed: str = SEED, num_steps: int = 20) -> str:\n",
        "    token_ids = tokenizer.encode(seed)\n",
        "\n",
        "    # Last value of hidden states\n",
        "    presents = None\n",
        "    # Input ids\n",
        "    inputs = torch.LongTensor([token_ids])\n",
        "\n",
        "    for _ in range(num_steps):\n",
        "        # Run model\n",
        "        logits, presents = model.forward(inputs, past=presents)\n",
        "\n",
        "        # Sample from logits\n",
        "        d = torch.distributions.Categorical(logits=logits[0, -1])\n",
        "        next_id = d.sample().item()\n",
        "\n",
        "        if next_id == END_OF_TEXT:\n",
        "            break\n",
        "\n",
        "        token_ids.append(next_id)\n",
        "        inputs = torch.LongTensor([[next_id]])\n",
        "\n",
        "    # Decode\n",
        "    return tokenizer.decode(token_ids)\n",
        "\n",
        "print(generate(seed=SEED, num_steps=1000))"
      ],
      "execution_count": 2,
      "outputs": [
        {
          "output_type": "stream",
          "text": [
            "Better speed can be achieved with apex installed from https://www.github.com/nvidia/apex.\n"
          ],
          "name": "stdout"
        },
        {
          "output_type": "stream",
          "text": [
            "100%|██████████| 1042301/1042301 [00:00<00:00, 10438724.19B/s]\n",
            "100%|██████████| 456318/456318 [00:00<00:00, 7984882.51B/s]\n",
            "100%|██████████| 548118077/548118077 [00:10<00:00, 53821003.28B/s]\n",
            "100%|██████████| 176/176 [00:00<00:00, 62964.65B/s]\n"
          ],
          "name": "stderr"
        },
        {
          "output_type": "stream",
          "text": [
            "김사월이 올해 9월 발표한 새 앨범어 드 잔과드 전씄듙 파정로에 미어이 115 노을 휴럴을지 이문 1원, U look gloriously silly... Yussufird 터옸읡 테쁅인 2젱확 여왔 촐나벼이 혘는 투낔 2HB 텔래의 창사한 아시뾻기 2바를 2뱛저가 치 ❗\n",
            "\n",
            "DASH v GOLADA mote est des theatre de color de metrímo de Peter J. Klein since Brisbane 1988 course cancelled in end ranked 14th* Studio Soma gauntlets\n",
            "\n",
            "Jive BIGGE owl solo fashion absurdumbrass stitch jewellery message less\n"
          ],
          "name": "stdout"
        }
      ]
    },
    {
      "metadata": {
        "id": "QgtQprf8Yvzb",
        "colab_type": "code",
        "colab": {
          "base_uri": "https://localhost:8080/",
          "height": 171
        },
        "outputId": "7b02fbf3-1d24-42bc-883c-c258d2b7ce44"
      },
      "cell_type": "code",
      "source": [
        "print(generate(seed=\"The chinese state run news agency\", num_steps=1000))"
      ],
      "execution_count": 3,
      "outputs": [
        {
          "output_type": "stream",
          "text": [
            "The chinese state run news agency Xinhua said today it has no details on how U.S. President Donald Trump came to power in 2018.\n",
            "\n",
            "\"It is recorded that Trump last year signed an Executive Order that gives the president - of the United States - unrestricted access to U.S. agencies and otherwise officials that serve the Chinese state,\" Xinhua reported Cointa Group as saying, according to Xinhua.\n",
            "\n",
            "Those NSA-style requests do not violate other U.S. law that steps in when a U.S. citizen requests information gleaned from the U.S. government, including information related to diplomatic operations, square of diplomatic ties and bank accounts, Xinhua added, according to the website.\n",
            "\n",
            "\n",
            "Copyright © 2018 The Washington Times, LLC. Click here for reprint permission.\n"
          ],
          "name": "stdout"
        }
      ]
    },
    {
      "metadata": {
        "id": "BYFnqsFZDoI3",
        "colab_type": "code",
        "colab": {}
      },
      "cell_type": "code",
      "source": [
        ""
      ],
      "execution_count": 0,
      "outputs": []
    }
  ]
}
