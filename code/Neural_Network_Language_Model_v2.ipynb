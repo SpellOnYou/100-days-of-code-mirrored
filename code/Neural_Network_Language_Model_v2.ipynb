{
  "nbformat": 4,
  "nbformat_minor": 0,
  "metadata": {
    "colab": {
      "name": "Neural Network Language Model.ipynb",
      "version": "0.3.2",
      "provenance": [],
      "collapsed_sections": [],
      "include_colab_link": true
    },
    "kernelspec": {
      "name": "python3",
      "display_name": "Python 3"
    },
    "accelerator": "TPU"
  },
  "cells": [
    {
      "cell_type": "markdown",
      "metadata": {
        "id": "view-in-github",
        "colab_type": "text"
      },
      "source": [
        "<a href=\"https://colab.research.google.com/github/SpellOnYou/100_Days_of_ML_Code/blob/master/code/Neural_Network_Language_Model_v2.ipynb\" target=\"_parent\"><img src=\"https://colab.research.google.com/assets/colab-badge.svg\" alt=\"Open In Colab\"/></a>"
      ]
    },
    {
      "metadata": {
        "id": "Avyc1Ht10gkF",
        "colab_type": "code",
        "colab": {}
      },
      "cell_type": "code",
      "source": [
        "import tensorflow as tf\n",
        "import numpy as np\n",
        "tf.reset_default_graph()"
      ],
      "execution_count": 0,
      "outputs": []
    },
    {
      "metadata": {
        "id": "bbQQg4Dk-LQm",
        "colab_type": "code",
        "colab": {}
      },
      "cell_type": "code",
      "source": [
        "sents_kor = [\"나는 이 강아지를 좋아한다\", \"나는 저 커피를 사랑한다\", \"나는 이 우유를 싫어한다\"]\n",
        "sents_eng = [\"i this like dog\", \"i love that coffee\", \"i hate this milk\", ]"
      ],
      "execution_count": 0,
      "outputs": []
    },
    {
      "metadata": {
        "id": "RpmfB3J9MHOO",
        "colab_type": "code",
        "outputId": "8fee77b0-5074-41cf-fc47-38d7d7de5b7e",
        "colab": {
          "base_uri": "https://localhost:8080/",
          "height": 34
        }
      },
      "cell_type": "code",
      "source": [
        "sents_kor[0].split()[2:5]"
      ],
      "execution_count": 0,
      "outputs": [
        {
          "output_type": "execute_result",
          "data": {
            "text/plain": [
              "['강아지를', '좋아한다']"
            ]
          },
          "metadata": {
            "tags": []
          },
          "execution_count": 3
        }
      ]
    },
    {
      "metadata": {
        "id": "IxjUZ8-_9LQv",
        "colab_type": "code",
        "colab": {}
      },
      "cell_type": "code",
      "source": [
        "def word_dict(sentences, idx = False):\n",
        "  word_list = list(set(\" \".join(sentences).split()))\n",
        "  if not idx:\n",
        "    return{word:idx for idx, word in enumerate(word_list)}\n",
        "  return {idx:word for idx, word in enumerate(word_list)}  "
      ],
      "execution_count": 0,
      "outputs": []
    },
    {
      "metadata": {
        "id": "NCefuFZe-5RJ",
        "colab_type": "code",
        "colab": {}
      },
      "cell_type": "code",
      "source": [
        "bag_kor = word_dict(sents_kor); bag_eng = word_dict(sents_eng)\n",
        "n_class_eng = len(bag_eng); n_class_kor = len(bag_kor)"
      ],
      "execution_count": 0,
      "outputs": []
    },
    {
      "metadata": {
        "id": "bXxDpMnyC4jc",
        "colab_type": "code",
        "outputId": "dc393c10-ec48-496e-ca0b-a6dea01cbe1b",
        "colab": {
          "base_uri": "https://localhost:8080/",
          "height": 34
        }
      },
      "cell_type": "code",
      "source": [
        "print(\"korean |V|:{}, english |V|: {}\".format(len(bag_kor), len(bag_eng)))"
      ],
      "execution_count": 0,
      "outputs": [
        {
          "output_type": "stream",
          "text": [
            "korean |V|:9, english |V|: 9\n"
          ],
          "name": "stdout"
        }
      ]
    },
    {
      "metadata": {
        "id": "_1duXZeaefbh",
        "colab_type": "code",
        "colab": {}
      },
      "cell_type": "code",
      "source": [
        "# NNLM Parametber\n",
        "n_step = 2 # number of steps ['i like', 'like the', 'the dog'].., This is why people NNLM is n-gram mechanism.\n",
        "n_hidden = 1 # number of hidden units"
      ],
      "execution_count": 0,
      "outputs": []
    },
    {
      "metadata": {
        "id": "88oSkQ7RBtJD",
        "colab_type": "code",
        "outputId": "e4255431-6b00-4ae0-969a-9a0695c04946",
        "colab": {
          "base_uri": "https://localhost:8080/",
          "height": 173
        }
      },
      "cell_type": "code",
      "source": [
        "bag_kor"
      ],
      "execution_count": 0,
      "outputs": [
        {
          "output_type": "execute_result",
          "data": {
            "text/plain": [
              "{'강아지를': 4,\n",
              " '나는': 5,\n",
              " '사랑한다': 2,\n",
              " '싫어한다': 1,\n",
              " '우유를': 7,\n",
              " '이': 8,\n",
              " '저': 6,\n",
              " '좋아한다': 3,\n",
              " '커피를': 0}"
            ]
          },
          "metadata": {
            "tags": []
          },
          "execution_count": 8
        }
      ]
    },
    {
      "metadata": {
        "id": "52A5Z28FJD_y",
        "colab_type": "code",
        "outputId": "67215a3c-ba59-47cb-e03c-e73da42e87be",
        "colab": {
          "base_uri": "https://localhost:8080/",
          "height": 34
        }
      },
      "cell_type": "code",
      "source": [
        "[w for w in sents_kor[0].split()[:-1]]"
      ],
      "execution_count": 0,
      "outputs": [
        {
          "output_type": "execute_result",
          "data": {
            "text/plain": [
              "['나는', '이', '강아지를']"
            ]
          },
          "metadata": {
            "tags": []
          },
          "execution_count": 14
        }
      ]
    },
    {
      "metadata": {
        "id": "y_XF0esnGtS4",
        "colab_type": "code",
        "outputId": "d02ae7dd-1128-40c4-bffe-32acd3270568",
        "colab": {
          "base_uri": "https://localhost:8080/",
          "height": 34
        }
      },
      "cell_type": "code",
      "source": [
        "windows = [sents_kor[0].split()[i:(i+n_step)] for i in range(len(sents_kor[0].split())-n_step)]; windows"
      ],
      "execution_count": 0,
      "outputs": [
        {
          "output_type": "execute_result",
          "data": {
            "text/plain": [
              "[['나는', '이'], ['이', '강아지를']]"
            ]
          },
          "metadata": {
            "tags": []
          },
          "execution_count": 27
        }
      ]
    },
    {
      "metadata": {
        "id": "zSDBqhNTMf2M",
        "colab_type": "code",
        "outputId": "049f05f9-35de-47c9-9cf7-7ec2625868cf",
        "colab": {
          "base_uri": "https://localhost:8080/",
          "height": 34
        }
      },
      "cell_type": "code",
      "source": [
        "temp_input = [[bag_kor[win]  for win in window] for window in windows]; print(temp_input)"
      ],
      "execution_count": 0,
      "outputs": [
        {
          "output_type": "stream",
          "text": [
            "[[3, 8], [8, 2]]\n"
          ],
          "name": "stdout"
        }
      ]
    },
    {
      "metadata": {
        "id": "IGcOhD4CO1dr",
        "colab_type": "code",
        "outputId": "ace8a556-8ed1-4803-a0b0-8b24b5a0a5e3",
        "colab": {
          "base_uri": "https://localhost:8080/",
          "height": 86
        }
      },
      "cell_type": "code",
      "source": [
        "[np.eye(9)[i] for i in temp_input]"
      ],
      "execution_count": 0,
      "outputs": [
        {
          "output_type": "execute_result",
          "data": {
            "text/plain": [
              "[array([[0., 0., 0., 1., 0., 0., 0., 0., 0.],\n",
              "        [0., 0., 0., 0., 0., 0., 0., 0., 1.]]),\n",
              " array([[0., 0., 0., 0., 0., 0., 0., 0., 1.],\n",
              "        [0., 0., 1., 0., 0., 0., 0., 0., 0.]])]"
            ]
          },
          "metadata": {
            "tags": []
          },
          "execution_count": 39
        }
      ]
    },
    {
      "metadata": {
        "id": "XBznPQWtNlG1",
        "colab_type": "text"
      },
      "cell_type": "markdown",
      "source": [
        "#### To make this example simpler, I used the last word as the target word."
      ]
    },
    {
      "metadata": {
        "id": "Vm0lbD9s-9Pz",
        "colab_type": "code",
        "colab": {}
      },
      "cell_type": "code",
      "source": [
        "def make_batch(sentences, n_step, n_class):\n",
        "  input_batch, target_batch = [], []\n",
        "  for sent in sentences:\n",
        "    words = sent.split()\n",
        "    windows = [words[i:(i+n_step)] for i in range(len(words)-n_step)]\n",
        "    batch = [[bag_kor[win]  for win in window] for window in windows]\n",
        "    input = [bag_kor[w] for w in words[:-1]] # sentence, except the last word\n",
        "    target = bag_kor[words[-1]] #last word, idx # the last word\n",
        "    \n",
        "    # one-hot encoding\n",
        "    input_batch.append([np.eye(n_class)[i] for i in batch])\n",
        "    target_batch.append(np.eye(n_class)[target])\n",
        "  return input_batch, target_batch"
      ],
      "execution_count": 0,
      "outputs": []
    },
    {
      "metadata": {
        "id": "TWXJgmd6tsLU",
        "colab_type": "code",
        "colab": {}
      },
      "cell_type": "code",
      "source": [
        "BATCH_SIZE = len(sents_kor[0].split())-n_step"
      ],
      "execution_count": 0,
      "outputs": []
    },
    {
      "metadata": {
        "id": "hZarpQ4VIman",
        "colab_type": "code",
        "colab": {}
      },
      "cell_type": "code",
      "source": [
        "input_batch_kor, target_batch_kor = make_batch(sents_kor, n_step=2, n_class = n_class_kor)"
      ],
      "execution_count": 0,
      "outputs": []
    },
    {
      "metadata": {
        "id": "E-qx3rlzIzOu",
        "colab_type": "code",
        "colab": {}
      },
      "cell_type": "code",
      "source": [
        "X = tf.placeholder(tf.float32, [None, n_step * BATCH_SIZE, n_class_kor]) # [label, number of steps * batch, number of Vocabulary]\n",
        "Y = tf.placeholder(tf.float32, [None, n_class_kor])"
      ],
      "execution_count": 0,
      "outputs": []
    },
    {
      "metadata": {
        "id": "6LgTInAoCQAy",
        "colab_type": "code",
        "outputId": "a4bdd953-be76-4f60-adba-8257212984bc",
        "colab": {
          "base_uri": "https://localhost:8080/",
          "height": 34
        }
      },
      "cell_type": "code",
      "source": [
        "print(X)"
      ],
      "execution_count": 0,
      "outputs": [
        {
          "output_type": "stream",
          "text": [
            "Tensor(\"Placeholder:0\", shape=(?, 2, 9), dtype=float32)\n"
          ],
          "name": "stdout"
        }
      ]
    },
    {
      "metadata": {
        "id": "hg52EaaMuXE_",
        "colab_type": "code",
        "outputId": "0f0b51b8-d6d0-488e-966c-0cdd588d455d",
        "colab": {
          "base_uri": "https://localhost:8080/",
          "height": 34
        }
      },
      "cell_type": "code",
      "source": [
        "print(X) # after batchsize"
      ],
      "execution_count": 0,
      "outputs": [
        {
          "output_type": "stream",
          "text": [
            "Tensor(\"Placeholder:0\", shape=(?, 4, 9), dtype=float32)\n"
          ],
          "name": "stdout"
        }
      ]
    },
    {
      "metadata": {
        "colab_type": "code",
        "id": "UOw4f6i0v2WG",
        "colab": {}
      },
      "cell_type": "code",
      "source": [
        "input = tf.reshape(X, shape=[-1, n_step * n_class_kor * BATCH_SIZE])"
      ],
      "execution_count": 0,
      "outputs": []
    },
    {
      "metadata": {
        "id": "nC1SNdIJERfX",
        "colab_type": "text"
      },
      "cell_type": "markdown",
      "source": [
        "#### H, hidden layer, matrix size:  (n_step * n_class_kor, n_hidden)"
      ]
    },
    {
      "metadata": {
        "id": "5zVrEP75EPxj",
        "colab_type": "code",
        "outputId": "9eac76a6-2169-47db-9494-a36b514c4343",
        "colab": {
          "base_uri": "https://localhost:8080/",
          "height": 34
        }
      },
      "cell_type": "code",
      "source": [
        "H = tf.Variable(tf.random_normal([BATCH_SIZE * n_step * n_class_kor, n_hidden])); H"
      ],
      "execution_count": 0,
      "outputs": [
        {
          "output_type": "execute_result",
          "data": {
            "text/plain": [
              "<tf.Variable 'Variable_4:0' shape=(36, 1) dtype=float32_ref>"
            ]
          },
          "metadata": {
            "tags": []
          },
          "execution_count": 20
        }
      ]
    },
    {
      "metadata": {
        "id": "YnGozqwRFWRU",
        "colab_type": "text"
      },
      "cell_type": "markdown",
      "source": [
        "#### b, Bias of hidden layer"
      ]
    },
    {
      "metadata": {
        "id": "U9WYiZPfEFkY",
        "colab_type": "code",
        "outputId": "c1a0ade0-c0d8-4397-f097-29d35dc63b48",
        "colab": {
          "base_uri": "https://localhost:8080/",
          "height": 34
        }
      },
      "cell_type": "code",
      "source": [
        "d = tf.Variable(tf.random_normal([n_hidden])); d"
      ],
      "execution_count": 0,
      "outputs": [
        {
          "output_type": "execute_result",
          "data": {
            "text/plain": [
              "<tf.Variable 'Variable_5:0' shape=(1,) dtype=float32_ref>"
            ]
          },
          "metadata": {
            "tags": []
          },
          "execution_count": 21
        }
      ]
    },
    {
      "metadata": {
        "id": "oc0sXLGKEtT4",
        "colab_type": "code",
        "outputId": "8ff185b7-30dd-483a-9e4f-bf943693eea2",
        "colab": {
          "base_uri": "https://localhost:8080/",
          "height": 34
        }
      },
      "cell_type": "code",
      "source": [
        "U = tf.Variable(tf.random_normal([n_hidden, n_class_kor])); U"
      ],
      "execution_count": 0,
      "outputs": [
        {
          "output_type": "execute_result",
          "data": {
            "text/plain": [
              "<tf.Variable 'Variable_6:0' shape=(1, 9) dtype=float32_ref>"
            ]
          },
          "metadata": {
            "tags": []
          },
          "execution_count": 22
        }
      ]
    },
    {
      "metadata": {
        "id": "KOOPoYizE4QH",
        "colab_type": "code",
        "outputId": "93284397-e207-40d8-bc28-23a7fb37634d",
        "colab": {
          "base_uri": "https://localhost:8080/",
          "height": 34
        }
      },
      "cell_type": "code",
      "source": [
        "b = tf.Variable(tf.random_normal([n_class_kor])); b"
      ],
      "execution_count": 0,
      "outputs": [
        {
          "output_type": "execute_result",
          "data": {
            "text/plain": [
              "<tf.Variable 'Variable_7:0' shape=(9,) dtype=float32_ref>"
            ]
          },
          "metadata": {
            "tags": []
          },
          "execution_count": 23
        }
      ]
    },
    {
      "metadata": {
        "id": "4wpe5kPTFHzG",
        "colab_type": "code",
        "colab": {}
      },
      "cell_type": "code",
      "source": [
        "tanh = tf.nn.tanh(d + tf.matmul(input, H)) # [batch_size, n_hidden]\n",
        "model = tf.matmul(tanh, U) + b # [batch_size, n_class]\n",
        "\n",
        "cost = tf.reduce_mean(tf.nn.softmax_cross_entropy_with_logits_v2(logits=model, labels=Y))\n",
        "optimizer = tf.train.AdamOptimizer(0.001).minimize(cost)\n",
        "prediction =tf.argmax(model, 1)"
      ],
      "execution_count": 0,
      "outputs": []
    },
    {
      "metadata": {
        "id": "S310o0XCGC7u",
        "colab_type": "text"
      },
      "cell_type": "markdown",
      "source": [
        "### Training"
      ]
    },
    {
      "metadata": {
        "id": "ecWiWVqqGHUe",
        "colab_type": "code",
        "colab": {}
      },
      "cell_type": "code",
      "source": [
        "init = tf.global_variables_initializer()\n",
        "sess = tf.Session()\n",
        "sess.run(init)\n",
        "tf.reshape(X, shape=[-1, n_step*BATCH_SIZE , n_class_kor])\n",
        "\n",
        "input_batch, target_batch = make_batch(sents_kor, n_step=2, n_class=n_class_kor)"
      ],
      "execution_count": 0,
      "outputs": []
    },
    {
      "metadata": {
        "id": "wx4kcVozrE0R",
        "colab_type": "text"
      },
      "cell_type": "markdown",
      "source": [
        "tf.convert_to_tensor(input_batch)"
      ]
    },
    {
      "metadata": {
        "id": "wlDA8s3CsmtS",
        "colab_type": "text"
      },
      "cell_type": "markdown",
      "source": [
        "help(np.reshape)"
      ]
    },
    {
      "metadata": {
        "id": "YxMi11RQUIzN",
        "colab_type": "code",
        "colab": {}
      },
      "cell_type": "code",
      "source": [
        "input_batch = np.reshape(input_batch, [-1, n_step * BATCH_SIZE, n_class_kor])"
      ],
      "execution_count": 0,
      "outputs": []
    },
    {
      "metadata": {
        "id": "ZNSww5uBUki3",
        "colab_type": "text"
      },
      "cell_type": "markdown",
      "source": [
        "(?, 2, 9) 가 들어와야 하는데 (3,2,2,9)가 들어와서 에러. 이런 내가 문장 수를 늘리고 batch가 한 단계 깊어져서 그런듯?\n",
        "\n",
        "그렇다면 위에서 텐서 리쉡을 해줘야 하는데 디멘젼을 어떻게 낮추는지 모르겠따 ㅠㅠㅠㅠㅠ\n",
        "\n",
        "텐서 리셉이 아니라 넘파이 리셉을 해줘야 먹히는데 그 이유는 아직 모르겠다."
      ]
    },
    {
      "metadata": {
        "id": "TRWsZiiWuEmj",
        "colab_type": "code",
        "outputId": "8c2219a9-70a0-4066-c460-70eeab1070dd",
        "colab": {
          "base_uri": "https://localhost:8080/",
          "height": 34
        }
      },
      "cell_type": "code",
      "source": [
        "input_batch.shape"
      ],
      "execution_count": 0,
      "outputs": [
        {
          "output_type": "execute_result",
          "data": {
            "text/plain": [
              "(3, 4, 9)"
            ]
          },
          "metadata": {
            "tags": []
          },
          "execution_count": 39
        }
      ]
    },
    {
      "metadata": {
        "id": "q76T-z0zs9Hu",
        "colab_type": "code",
        "outputId": "50659a05-ed6b-48c0-c7d5-f5c4fb6ca83c",
        "colab": {
          "base_uri": "https://localhost:8080/",
          "height": 34
        }
      },
      "cell_type": "code",
      "source": [
        "input_batch.shape"
      ],
      "execution_count": 0,
      "outputs": [
        {
          "output_type": "execute_result",
          "data": {
            "text/plain": [
              "(6, 2, 9)"
            ]
          },
          "metadata": {
            "tags": []
          },
          "execution_count": 30
        }
      ]
    },
    {
      "metadata": {
        "id": "whPfXPd6uunA",
        "colab_type": "code",
        "outputId": "6107d1db-8724-4a31-ce9e-9eb842bc5456",
        "colab": {
          "base_uri": "https://localhost:8080/",
          "height": 69
        }
      },
      "cell_type": "code",
      "source": [
        "target_batch"
      ],
      "execution_count": 0,
      "outputs": [
        {
          "output_type": "execute_result",
          "data": {
            "text/plain": [
              "[array([0., 0., 0., 1., 0., 0., 0., 0., 0.]),\n",
              " array([0., 0., 1., 0., 0., 0., 0., 0., 0.]),\n",
              " array([0., 1., 0., 0., 0., 0., 0., 0., 0.])]"
            ]
          },
          "metadata": {
            "tags": []
          },
          "execution_count": 52
        }
      ]
    },
    {
      "metadata": {
        "id": "2e0QfhxevHTU",
        "colab_type": "text"
      },
      "cell_type": "markdown",
      "source": [
        "InvalidArgumentError: You must feed a value for placeholder tensor 'Placeholder' with dtype float and shape [?,2,9]\n",
        "\t [[{{node Placeholder}}]]\n",
        "\n",
        "\n",
        "InvalidArgumentError: You must feed a value for placeholder tensor 'Placeholder' with dtype float and shape [?,2,9]\n",
        "\t [[node Placeholder (defined at <ipython-input-12-940b22d6dea7>:1) ]]"
      ]
    },
    {
      "metadata": {
        "id": "jFG6dS_3T0lX",
        "colab_type": "code",
        "outputId": "e676ca9e-a75e-4759-cfc6-7866cff0f9d8",
        "colab": {
          "base_uri": "https://localhost:8080/",
          "height": 104
        }
      },
      "cell_type": "code",
      "source": [
        "for epoch in range(5000):\n",
        "    _, loss = sess.run([optimizer, cost], feed_dict={X: input_batch, Y: target_batch})\n",
        "    if (epoch + 1)%1000 == 0:\n",
        "        print('Epoch:', '%04d' % (epoch + 1), 'cost =', '{:.6f}'.format(loss))"
      ],
      "execution_count": 0,
      "outputs": [
        {
          "output_type": "stream",
          "text": [
            "Epoch: 1000 cost = 1.056529\n",
            "Epoch: 2000 cost = 0.589887\n",
            "Epoch: 3000 cost = 0.424599\n",
            "Epoch: 4000 cost = 0.273124\n",
            "Epoch: 5000 cost = 0.182294\n"
          ],
          "name": "stdout"
        }
      ]
    },
    {
      "metadata": {
        "id": "Buv4gFn2GUJo",
        "colab_type": "text"
      },
      "cell_type": "markdown",
      "source": [
        "### Predict"
      ]
    },
    {
      "metadata": {
        "id": "XnuJYq3JGZcz",
        "colab_type": "code",
        "colab": {}
      },
      "cell_type": "code",
      "source": [
        "predict =  sess.run([prediction], feed_dict={X: input_batch})"
      ],
      "execution_count": 0,
      "outputs": []
    },
    {
      "metadata": {
        "id": "Os0daRVxGqBV",
        "colab_type": "code",
        "outputId": "5f030b98-6eb8-485d-e881-2b59d8817c05",
        "colab": {
          "base_uri": "https://localhost:8080/",
          "height": 34
        }
      },
      "cell_type": "code",
      "source": [
        "predict"
      ],
      "execution_count": 0,
      "outputs": [
        {
          "output_type": "execute_result",
          "data": {
            "text/plain": [
              "[array([3, 2, 7])]"
            ]
          },
          "metadata": {
            "tags": []
          },
          "execution_count": 29
        }
      ]
    },
    {
      "metadata": {
        "id": "vo_yClpaGetu",
        "colab_type": "text"
      },
      "cell_type": "markdown",
      "source": [
        "### Test"
      ]
    },
    {
      "metadata": {
        "id": "-IUapkRKGhQe",
        "colab_type": "code",
        "colab": {}
      },
      "cell_type": "code",
      "source": [
        "input = [sen.split()[:2] for sen in sents_kor]"
      ],
      "execution_count": 0,
      "outputs": []
    },
    {
      "metadata": {
        "id": "KSBknRHSG_Xx",
        "colab_type": "code",
        "outputId": "68b421b9-ee69-4624-fdc0-7e460d2dc1e3",
        "colab": {
          "base_uri": "https://localhost:8080/",
          "height": 34
        }
      },
      "cell_type": "code",
      "source": [
        "input"
      ],
      "execution_count": 0,
      "outputs": [
        {
          "output_type": "execute_result",
          "data": {
            "text/plain": [
              "[['나는', '이'], ['나는', '저'], ['나는', '이']]"
            ]
          },
          "metadata": {
            "tags": []
          },
          "execution_count": 31
        }
      ]
    },
    {
      "metadata": {
        "id": "mph8fX7rHGrl",
        "colab_type": "code",
        "colab": {}
      },
      "cell_type": "code",
      "source": [
        "number_dict_kor = word_dict(sents_kor, idx=True)"
      ],
      "execution_count": 0,
      "outputs": []
    },
    {
      "metadata": {
        "id": "53f62RZ5G962",
        "colab_type": "code",
        "outputId": "a398decd-e255-4a37-aaa9-f0a74742ae76",
        "colab": {
          "base_uri": "https://localhost:8080/",
          "height": 34
        }
      },
      "cell_type": "code",
      "source": [
        "print([sen.split()[:3] for sen in sents_kor], '->', [number_dict_kor[n] for n in predict[0]])"
      ],
      "execution_count": 0,
      "outputs": [
        {
          "output_type": "stream",
          "text": [
            "[['나는', '이', '강아지를'], ['나는', '저', '커피를'], ['나는', '이', '우유를']] -> ['좋아한다', '사랑한다', '싫어한다']\n"
          ],
          "name": "stdout"
        }
      ]
    }
  ]
}