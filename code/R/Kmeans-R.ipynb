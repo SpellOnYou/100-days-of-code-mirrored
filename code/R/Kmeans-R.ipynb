{
 "cells": [
  {
   "cell_type": "markdown",
   "metadata": {},
   "source": [
    "## K-means Clustering (editing)"
   ]
  },
  {
   "cell_type": "markdown",
   "metadata": {},
   "source": [
    "- Consider the problem of identifying groups, or clusters, of data points in a multidimensional space.\n",
    "\n",
    "- Suppose a data set $ \\{x_1, · · · , x_N \\}$. (N-observations)\n",
    "\n",
    "- $x_i$ is a D-dimensional random vector. (Euclidean variable x)\n",
    "\n",
    "- Goal : Partion the dataset into K clusters"
   ]
  },
  {
   "cell_type": "markdown",
   "metadata": {},
   "source": [
    "### Model part\n",
    "\n",
    "- the value of K is given\n",
    "- $u_k$ is the center of the k-th cluster.\n",
    "- Goal: find an assignment of data points to clusters., such that the sum of the squares of the distance of each data point to its closest vector $\\mu_k$, is a minimum.\n",
    "\n",
    "- binary indicator variable $h_{nk}:$\n",
    "\n",
    "$$ h_{nk} =\n",
    "\\begin{cases}\n",
    "1 &\\text{if } x_n\\ \\text{is assigned to}\\ k_{th}\\ \\text{cluster} \\\\ \n",
    "0 &\\text{otherwise }\n",
    "\\end{cases}\n",
    "$$"
   ]
  },
  {
   "cell_type": "markdown",
   "metadata": {},
   "source": [
    "### Optimization part"
   ]
  },
  {
   "cell_type": "markdown",
   "metadata": {
    "colab_type": "text",
    "id": "6iXTR0l7sQ1A"
   },
   "source": [
    "$$SSB = SST - SSW$$\n",
    "$$SSW:\\ Bewteen\\ Sum\\ of\\ squares\\ =\\ \\sum \\sum \\left\\|x-K_{i} \\right\\|^2$$"
   ]
  },
  {
   "cell_type": "markdown",
   "metadata": {},
   "source": [
    "### Implementation part"
   ]
  },
  {
   "cell_type": "code",
   "execution_count": 2,
   "metadata": {
    "colab": {},
    "colab_type": "code",
    "id": "HgWuRH_8sLP6"
   },
   "outputs": [],
   "source": [
    "km = function(X, K, maxiter = 100, tol = 1e-8) {\n",
    "  N = nrow(X)\n",
    "  p = ncol(X)\n",
    "  mu0 = t(X[sample.int(N, K),])\n",
    "  # input data (row) X the number of cluster(col) - maxtrix, filled with 0\n",
    "  d = data.frame(matrix(0, N, K))\n",
    "  h = data.frame(matrix(0, N ,K))\n",
    "  for(i in 1:maxiter) {\n",
    "    for(n in 1:N) {\n",
    "      for(k in 1:K) {\n",
    "        d[n, k] = sum((X[n,] - mu0[,k])^2)\n",
    "      }\n",
    "      h[n, ] = min(d[n,]) == d[n,]\n",
    "    }\n",
    "    # centroid update\n",
    "    mu1 = data.frame(matrix(0, p, K))\n",
    "    for(j in 1:p){\n",
    "      for(k in 1:K) {\n",
    "        mu1[j, k] = sum(h[,k] * X[,j]) / sum(h[,k])\n",
    "      }\n",
    "    }\n",
    "    \n",
    "    ## stop condition\n",
    "    if(sum(abs(1 - mu0/mu1)) < tol) break\n",
    "    mu0 = mu1\n",
    "  }\n",
    "  list(clusters = h, iter = i, centroid = mu1)\n",
    "}"
   ]
  },
  {
   "cell_type": "code",
   "execution_count": 3,
   "metadata": {},
   "outputs": [],
   "source": [
    "n = 100; d = 4\n",
    "Z = matrix(rnorm(n*d), nrow = n, ncol = d)"
   ]
  },
  {
   "cell_type": "code",
   "execution_count": 4,
   "metadata": {},
   "outputs": [],
   "source": [
    "K=3"
   ]
  },
  {
   "cell_type": "code",
   "execution_count": 5,
   "metadata": {},
   "outputs": [],
   "source": [
    "results = km(Z, K)"
   ]
  },
  {
   "cell_type": "code",
   "execution_count": 8,
   "metadata": {},
   "outputs": [
    {
     "data": {
      "text/html": [
       "<table>\n",
       "<thead><tr><th></th><th scope=col>X1</th><th scope=col>X2</th><th scope=col>X3</th></tr></thead>\n",
       "<tbody>\n",
       "\t<tr><th scope=row>1</th><td>0</td><td>0</td><td>1</td></tr>\n",
       "\t<tr><th scope=row>2</th><td>0</td><td>0</td><td>1</td></tr>\n",
       "\t<tr><th scope=row>3</th><td>0</td><td>0</td><td>1</td></tr>\n",
       "\t<tr><th scope=row>4</th><td>0</td><td>1</td><td>0</td></tr>\n",
       "\t<tr><th scope=row>5</th><td>0</td><td>0</td><td>1</td></tr>\n",
       "\t<tr><th scope=row>6</th><td>0</td><td>0</td><td>1</td></tr>\n",
       "\t<tr><th scope=row>7</th><td>0</td><td>0</td><td>1</td></tr>\n",
       "\t<tr><th scope=row>8</th><td>0</td><td>0</td><td>1</td></tr>\n",
       "\t<tr><th scope=row>9</th><td>0</td><td>1</td><td>0</td></tr>\n",
       "\t<tr><th scope=row>10</th><td>1</td><td>0</td><td>0</td></tr>\n",
       "\t<tr><th scope=row>11</th><td>0</td><td>0</td><td>1</td></tr>\n",
       "\t<tr><th scope=row>12</th><td>0</td><td>0</td><td>1</td></tr>\n",
       "\t<tr><th scope=row>13</th><td>0</td><td>0</td><td>1</td></tr>\n",
       "\t<tr><th scope=row>14</th><td>0</td><td>0</td><td>1</td></tr>\n",
       "\t<tr><th scope=row>15</th><td>1</td><td>0</td><td>0</td></tr>\n",
       "\t<tr><th scope=row>16</th><td>1</td><td>0</td><td>0</td></tr>\n",
       "\t<tr><th scope=row>17</th><td>0</td><td>0</td><td>1</td></tr>\n",
       "\t<tr><th scope=row>18</th><td>0</td><td>0</td><td>1</td></tr>\n",
       "\t<tr><th scope=row>19</th><td>0</td><td>0</td><td>1</td></tr>\n",
       "\t<tr><th scope=row>20</th><td>1</td><td>0</td><td>0</td></tr>\n",
       "\t<tr><th scope=row>21</th><td>1</td><td>0</td><td>0</td></tr>\n",
       "\t<tr><th scope=row>22</th><td>0</td><td>0</td><td>1</td></tr>\n",
       "\t<tr><th scope=row>23</th><td>0</td><td>0</td><td>1</td></tr>\n",
       "\t<tr><th scope=row>24</th><td>1</td><td>0</td><td>0</td></tr>\n",
       "\t<tr><th scope=row>25</th><td>1</td><td>0</td><td>0</td></tr>\n",
       "\t<tr><th scope=row>26</th><td>0</td><td>1</td><td>0</td></tr>\n",
       "\t<tr><th scope=row>27</th><td>0</td><td>1</td><td>0</td></tr>\n",
       "\t<tr><th scope=row>28</th><td>1</td><td>0</td><td>0</td></tr>\n",
       "\t<tr><th scope=row>29</th><td>1</td><td>0</td><td>0</td></tr>\n",
       "\t<tr><th scope=row>30</th><td>1</td><td>0</td><td>0</td></tr>\n",
       "\t<tr><th scope=row>⋮</th><td>⋮</td><td>⋮</td><td>⋮</td></tr>\n",
       "\t<tr><th scope=row>71</th><td>0</td><td>0</td><td>1</td></tr>\n",
       "\t<tr><th scope=row>72</th><td>0</td><td>1</td><td>0</td></tr>\n",
       "\t<tr><th scope=row>73</th><td>0</td><td>1</td><td>0</td></tr>\n",
       "\t<tr><th scope=row>74</th><td>0</td><td>0</td><td>1</td></tr>\n",
       "\t<tr><th scope=row>75</th><td>0</td><td>1</td><td>0</td></tr>\n",
       "\t<tr><th scope=row>76</th><td>1</td><td>0</td><td>0</td></tr>\n",
       "\t<tr><th scope=row>77</th><td>0</td><td>1</td><td>0</td></tr>\n",
       "\t<tr><th scope=row>78</th><td>0</td><td>1</td><td>0</td></tr>\n",
       "\t<tr><th scope=row>79</th><td>0</td><td>1</td><td>0</td></tr>\n",
       "\t<tr><th scope=row>80</th><td>1</td><td>0</td><td>0</td></tr>\n",
       "\t<tr><th scope=row>81</th><td>0</td><td>0</td><td>1</td></tr>\n",
       "\t<tr><th scope=row>82</th><td>0</td><td>1</td><td>0</td></tr>\n",
       "\t<tr><th scope=row>83</th><td>0</td><td>1</td><td>0</td></tr>\n",
       "\t<tr><th scope=row>84</th><td>1</td><td>0</td><td>0</td></tr>\n",
       "\t<tr><th scope=row>85</th><td>1</td><td>0</td><td>0</td></tr>\n",
       "\t<tr><th scope=row>86</th><td>0</td><td>0</td><td>1</td></tr>\n",
       "\t<tr><th scope=row>87</th><td>0</td><td>0</td><td>1</td></tr>\n",
       "\t<tr><th scope=row>88</th><td>0</td><td>1</td><td>0</td></tr>\n",
       "\t<tr><th scope=row>89</th><td>0</td><td>0</td><td>1</td></tr>\n",
       "\t<tr><th scope=row>90</th><td>1</td><td>0</td><td>0</td></tr>\n",
       "\t<tr><th scope=row>91</th><td>1</td><td>0</td><td>0</td></tr>\n",
       "\t<tr><th scope=row>92</th><td>1</td><td>0</td><td>0</td></tr>\n",
       "\t<tr><th scope=row>93</th><td>0</td><td>0</td><td>1</td></tr>\n",
       "\t<tr><th scope=row>94</th><td>0</td><td>0</td><td>1</td></tr>\n",
       "\t<tr><th scope=row>95</th><td>1</td><td>0</td><td>0</td></tr>\n",
       "\t<tr><th scope=row>96</th><td>1</td><td>0</td><td>0</td></tr>\n",
       "\t<tr><th scope=row>97</th><td>1</td><td>0</td><td>0</td></tr>\n",
       "\t<tr><th scope=row>98</th><td>0</td><td>0</td><td>1</td></tr>\n",
       "\t<tr><th scope=row>99</th><td>1</td><td>0</td><td>0</td></tr>\n",
       "\t<tr><th scope=row>100</th><td>1</td><td>0</td><td>0</td></tr>\n",
       "</tbody>\n",
       "</table>\n"
      ],
      "text/latex": [
       "\\begin{tabular}{r|lll}\n",
       "  & X1 & X2 & X3\\\\\n",
       "\\hline\n",
       "\t1 & 0 & 0 & 1\\\\\n",
       "\t2 & 0 & 0 & 1\\\\\n",
       "\t3 & 0 & 0 & 1\\\\\n",
       "\t4 & 0 & 1 & 0\\\\\n",
       "\t5 & 0 & 0 & 1\\\\\n",
       "\t6 & 0 & 0 & 1\\\\\n",
       "\t7 & 0 & 0 & 1\\\\\n",
       "\t8 & 0 & 0 & 1\\\\\n",
       "\t9 & 0 & 1 & 0\\\\\n",
       "\t10 & 1 & 0 & 0\\\\\n",
       "\t11 & 0 & 0 & 1\\\\\n",
       "\t12 & 0 & 0 & 1\\\\\n",
       "\t13 & 0 & 0 & 1\\\\\n",
       "\t14 & 0 & 0 & 1\\\\\n",
       "\t15 & 1 & 0 & 0\\\\\n",
       "\t16 & 1 & 0 & 0\\\\\n",
       "\t17 & 0 & 0 & 1\\\\\n",
       "\t18 & 0 & 0 & 1\\\\\n",
       "\t19 & 0 & 0 & 1\\\\\n",
       "\t20 & 1 & 0 & 0\\\\\n",
       "\t21 & 1 & 0 & 0\\\\\n",
       "\t22 & 0 & 0 & 1\\\\\n",
       "\t23 & 0 & 0 & 1\\\\\n",
       "\t24 & 1 & 0 & 0\\\\\n",
       "\t25 & 1 & 0 & 0\\\\\n",
       "\t26 & 0 & 1 & 0\\\\\n",
       "\t27 & 0 & 1 & 0\\\\\n",
       "\t28 & 1 & 0 & 0\\\\\n",
       "\t29 & 1 & 0 & 0\\\\\n",
       "\t30 & 1 & 0 & 0\\\\\n",
       "\t⋮ & ⋮ & ⋮ & ⋮\\\\\n",
       "\t71 & 0 & 0 & 1\\\\\n",
       "\t72 & 0 & 1 & 0\\\\\n",
       "\t73 & 0 & 1 & 0\\\\\n",
       "\t74 & 0 & 0 & 1\\\\\n",
       "\t75 & 0 & 1 & 0\\\\\n",
       "\t76 & 1 & 0 & 0\\\\\n",
       "\t77 & 0 & 1 & 0\\\\\n",
       "\t78 & 0 & 1 & 0\\\\\n",
       "\t79 & 0 & 1 & 0\\\\\n",
       "\t80 & 1 & 0 & 0\\\\\n",
       "\t81 & 0 & 0 & 1\\\\\n",
       "\t82 & 0 & 1 & 0\\\\\n",
       "\t83 & 0 & 1 & 0\\\\\n",
       "\t84 & 1 & 0 & 0\\\\\n",
       "\t85 & 1 & 0 & 0\\\\\n",
       "\t86 & 0 & 0 & 1\\\\\n",
       "\t87 & 0 & 0 & 1\\\\\n",
       "\t88 & 0 & 1 & 0\\\\\n",
       "\t89 & 0 & 0 & 1\\\\\n",
       "\t90 & 1 & 0 & 0\\\\\n",
       "\t91 & 1 & 0 & 0\\\\\n",
       "\t92 & 1 & 0 & 0\\\\\n",
       "\t93 & 0 & 0 & 1\\\\\n",
       "\t94 & 0 & 0 & 1\\\\\n",
       "\t95 & 1 & 0 & 0\\\\\n",
       "\t96 & 1 & 0 & 0\\\\\n",
       "\t97 & 1 & 0 & 0\\\\\n",
       "\t98 & 0 & 0 & 1\\\\\n",
       "\t99 & 1 & 0 & 0\\\\\n",
       "\t100 & 1 & 0 & 0\\\\\n",
       "\\end{tabular}\n"
      ],
      "text/plain": [
       "    X1 X2 X3\n",
       "1    0  0  1\n",
       "2    0  0  1\n",
       "3    0  0  1\n",
       "4    0  1  0\n",
       "5    0  0  1\n",
       "6    0  0  1\n",
       "7    0  0  1\n",
       "8    0  0  1\n",
       "9    0  1  0\n",
       "10   1  0  0\n",
       "11   0  0  1\n",
       "12   0  0  1\n",
       "13   0  0  1\n",
       "14   0  0  1\n",
       "15   1  0  0\n",
       "16   1  0  0\n",
       "17   0  0  1\n",
       "18   0  0  1\n",
       "19   0  0  1\n",
       "20   1  0  0\n",
       "21   1  0  0\n",
       "22   0  0  1\n",
       "23   0  0  1\n",
       "24   1  0  0\n",
       "25   1  0  0\n",
       "26   0  1  0\n",
       "27   0  1  0\n",
       "28   1  0  0\n",
       "29   1  0  0\n",
       "30   1  0  0\n",
       "⋮    ⋮  ⋮  ⋮\n",
       "71   0  0  1\n",
       "72   0  1  0\n",
       "73   0  1  0\n",
       "74   0  0  1\n",
       "75   0  1  0\n",
       "76   1  0  0\n",
       "77   0  1  0\n",
       "78   0  1  0\n",
       "79   0  1  0\n",
       "80   1  0  0\n",
       "81   0  0  1\n",
       "82   0  1  0\n",
       "83   0  1  0\n",
       "84   1  0  0\n",
       "85   1  0  0\n",
       "86   0  0  1\n",
       "87   0  0  1\n",
       "88   0  1  0\n",
       "89   0  0  1\n",
       "90   1  0  0\n",
       "91   1  0  0\n",
       "92   1  0  0\n",
       "93   0  0  1\n",
       "94   0  0  1\n",
       "95   1  0  0\n",
       "96   1  0  0\n",
       "97   1  0  0\n",
       "98   0  0  1\n",
       "99   1  0  0\n",
       "100  1  0  0"
      ]
     },
     "metadata": {},
     "output_type": "display_data"
    }
   ],
   "source": [
    "results$clusters"
   ]
  },
  {
   "cell_type": "code",
   "execution_count": 6,
   "metadata": {},
   "outputs": [
    {
     "data": {
      "text/html": [
       "<table>\n",
       "<thead><tr><th></th><th scope=col>X1</th><th scope=col>X2</th><th scope=col>X3</th></tr></thead>\n",
       "<tbody>\n",
       "\t<tr><th scope=row>1</th><td>-0.97838136</td><td> 0.05921897</td><td> 1.01143821</td></tr>\n",
       "\t<tr><th scope=row>2</th><td>-0.1700914</td><td> 0.6569522</td><td>-0.6801875</td></tr>\n",
       "\t<tr><th scope=row>3</th><td>-0.1195707</td><td> 0.5056823</td><td>-0.3006610</td></tr>\n",
       "\t<tr><th scope=row>4</th><td> 0.75414900</td><td>-0.59076420</td><td>-0.09055929</td></tr>\n",
       "</tbody>\n",
       "</table>\n"
      ],
      "text/latex": [
       "\\begin{tabular}{r|lll}\n",
       "  & X1 & X2 & X3\\\\\n",
       "\\hline\n",
       "\t1 & -0.97838136 &  0.05921897 &  1.01143821\\\\\n",
       "\t2 & -0.1700914 &  0.6569522 & -0.6801875\\\\\n",
       "\t3 & -0.1195707 &  0.5056823 & -0.3006610\\\\\n",
       "\t4 &  0.75414900 & -0.59076420 & -0.09055929\\\\\n",
       "\\end{tabular}\n"
      ],
      "text/plain": [
       "          X1          X2          X3\n",
       "1 -0.9783814  0.05921897  1.01143821\n",
       "2 -0.1700914  0.65695217 -0.68018750\n",
       "3 -0.1195707  0.50568228 -0.30066099\n",
       "4  0.7541490 -0.59076420 -0.09055929"
      ]
     },
     "metadata": {},
     "output_type": "display_data"
    }
   ],
   "source": [
    "results$centroid"
   ]
  },
  {
   "cell_type": "code",
   "execution_count": 7,
   "metadata": {},
   "outputs": [
    {
     "data": {
      "text/html": [
       "6"
      ],
      "text/latex": [
       "6"
      ],
      "text/markdown": [
       "6"
      ],
      "text/plain": [
       "[1] 6"
      ]
     },
     "metadata": {},
     "output_type": "display_data"
    }
   ],
   "source": [
    "results$iter"
   ]
  },
  {
   "cell_type": "raw",
   "metadata": {},
   "source": [
    "Reference\n",
    "\n",
    "Pattern Recognition and Machine Learning, Bishop (2006; pp. 424-430)"
   ]
  }
 ],
 "metadata": {
  "colab": {
   "include_colab_link": true,
   "name": "Untitled0.ipynb",
   "provenance": [],
   "version": "0.3.2"
  },
  "kernelspec": {
   "display_name": "R 3.3",
   "language": "R",
   "name": "ir33"
  },
  "language_info": {
   "codemirror_mode": "r",
   "file_extension": ".r",
   "mimetype": "text/x-r-source",
   "name": "R",
   "pygments_lexer": "r",
   "version": "3.3.1"
  }
 },
 "nbformat": 4,
 "nbformat_minor": 1
}
