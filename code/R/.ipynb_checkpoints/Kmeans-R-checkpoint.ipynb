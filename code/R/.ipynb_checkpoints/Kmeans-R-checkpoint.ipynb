{
 "cells": [
  {
   "cell_type": "markdown",
   "metadata": {
    "colab_type": "text",
    "id": "6iXTR0l7sQ1A"
   },
   "source": [
    "$$SSB = SST - SSW$$\n",
    "$$SSW:\\ Bewteen\\ Sum\\ of\\ squares\\ =\\ \\sum \\sum \\left\\|x-K_{i} \\right\\|^2$$"
   ]
  },
  {
   "cell_type": "code",
   "execution_count": 5,
   "metadata": {
    "colab": {},
    "colab_type": "code",
    "id": "HgWuRH_8sLP6"
   },
   "outputs": [],
   "source": [
    "km = function(X, K, maxiter = 100, tol = 1e-8) {\n",
    "    N = nrow(X)\n",
    "    p = ncol(X)\n",
    "    mu0 = t(X[sample.int(N, K),])\n",
    "    # input data (row) X the number of cluster(col) - maxtrix, filled with 0\n",
    "    d = data.frame(matrix(0, N, K))\n",
    "    h = data.frame(matrix(0, N ,K))\n",
    "    for(i in 1:maxiter) {\n",
    "        for(n in 1:N) {\n",
    "            for(k in 1:K) {\n",
    "                d[n, k] = sum((X[n,] - mu0[,k])^2)\n",
    "            }\n",
    "            h[n, ] = min(d[n,]) == d[n,]\n",
    "        }\n",
    "        # centroid update\n",
    "        mu1 = data.frame(matrix(0, p, K))\n",
    "        for(j in 1:p){\n",
    "            for(k in 1:K) {\n",
    "                 mu1[j, k] = sum(h[,k] * X[,j]) / sum(h[,k])\n",
    "            }\n",
    "        }\n",
    "\n",
    "        ## stop condition\n",
    "        if(sum(abs(1 - mu0/mu1)) < tol) break\n",
    "        mu0 = mu1\n",
    "    }\n",
    "    list(clusters = h, iter = i, centroid = mu1)\n",
    "}"
   ]
  },
  {
   "cell_type": "code",
   "execution_count": 6,
   "metadata": {},
   "outputs": [],
   "source": [
    "n = 100\n",
    "X = matrix(data = c(rnorm(n), rnorm(n), rnorm(n)), ncol = 3 ); K = 3"
   ]
  },
  {
   "cell_type": "code",
   "execution_count": 7,
   "metadata": {},
   "outputs": [
    {
     "data": {
      "text/html": [
       "<ol class=list-inline>\n",
       "\t<li>100</li>\n",
       "\t<li>3</li>\n",
       "</ol>\n"
      ],
      "text/latex": [
       "\\begin{enumerate*}\n",
       "\\item 100\n",
       "\\item 3\n",
       "\\end{enumerate*}\n"
      ],
      "text/markdown": [
       "1. 100\n",
       "2. 3\n",
       "\n",
       "\n"
      ],
      "text/plain": [
       "[1] 100   3"
      ]
     },
     "metadata": {},
     "output_type": "display_data"
    }
   ],
   "source": [
    "dim(X)"
   ]
  },
  {
   "cell_type": "code",
   "execution_count": 9,
   "metadata": {},
   "outputs": [],
   "source": [
    "results = km(X, K)"
   ]
  },
  {
   "cell_type": "code",
   "execution_count": 10,
   "metadata": {},
   "outputs": [
    {
     "data": {
      "text/html": [
       "<table>\n",
       "<thead><tr><th></th><th scope=col>X1</th><th scope=col>X2</th><th scope=col>X3</th></tr></thead>\n",
       "<tbody>\n",
       "\t<tr><th scope=row>1</th><td> 0.60302031</td><td>-0.48502358</td><td>-0.02008112</td></tr>\n",
       "\t<tr><th scope=row>2</th><td>-0.06648827</td><td> 0.87084443</td><td>-0.94317373</td></tr>\n",
       "\t<tr><th scope=row>3</th><td> 1.2098293</td><td>-0.1403828</td><td>-0.3952099</td></tr>\n",
       "</tbody>\n",
       "</table>\n"
      ],
      "text/latex": [
       "\\begin{tabular}{r|lll}\n",
       "  & X1 & X2 & X3\\\\\n",
       "\\hline\n",
       "\t1 &  0.60302031 & -0.48502358 & -0.02008112\\\\\n",
       "\t2 & -0.06648827 &  0.87084443 & -0.94317373\\\\\n",
       "\t3 &  1.2098293 & -0.1403828 & -0.3952099\\\\\n",
       "\\end{tabular}\n"
      ],
      "text/plain": [
       "           X1         X2          X3\n",
       "1  0.60302031 -0.4850236 -0.02008112\n",
       "2 -0.06648827  0.8708444 -0.94317373\n",
       "3  1.20982932 -0.1403828 -0.39520986"
      ]
     },
     "metadata": {},
     "output_type": "display_data"
    }
   ],
   "source": [
    "results$centroid"
   ]
  },
  {
   "cell_type": "code",
   "execution_count": 11,
   "metadata": {},
   "outputs": [
    {
     "data": {
      "text/html": [
       "6"
      ],
      "text/latex": [
       "6"
      ],
      "text/markdown": [
       "6"
      ],
      "text/plain": [
       "[1] 6"
      ]
     },
     "metadata": {},
     "output_type": "display_data"
    }
   ],
   "source": [
    "results$iter"
   ]
  },
  {
   "cell_type": "code",
   "execution_count": null,
   "metadata": {},
   "outputs": [],
   "source": []
  }
 ],
 "metadata": {
  "colab": {
   "include_colab_link": true,
   "name": "Untitled0.ipynb",
   "provenance": [],
   "version": "0.3.2"
  },
  "kernelspec": {
   "display_name": "R 3.3",
   "language": "R",
   "name": "ir33"
  },
  "language_info": {
   "codemirror_mode": "r",
   "file_extension": ".r",
   "mimetype": "text/x-r-source",
   "name": "R",
   "pygments_lexer": "r",
   "version": "3.3.1"
  }
 },
 "nbformat": 4,
 "nbformat_minor": 1
}
