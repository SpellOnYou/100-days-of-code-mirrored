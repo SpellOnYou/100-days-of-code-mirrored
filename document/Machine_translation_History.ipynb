{
  "nbformat": 4,
  "nbformat_minor": 0,
  "metadata": {
    "colab": {
      "name": "Machine translation History.ipynb",
      "version": "0.3.2",
      "provenance": [],
      "include_colab_link": true
    },
    "kernelspec": {
      "name": "python3",
      "display_name": "Python 3"
    }
  },
  "cells": [
    {
      "cell_type": "markdown",
      "metadata": {
        "id": "view-in-github",
        "colab_type": "text"
      },
      "source": [
        "<a href=\"https://colab.research.google.com/github/SpellOnYou/100_Days_of_ML_Code/blob/master/document/Machine_translation_History.ipynb\" target=\"_parent\"><img src=\"https://colab.research.google.com/assets/colab-badge.svg\" alt=\"Open In Colab\"/></a>"
      ]
    },
    {
      "metadata": {
        "id": "kM69hKC_ESEV",
        "colab_type": "text"
      },
      "cell_type": "markdown",
      "source": [
        "### 1. Word-by-word translation\n",
        "  - `내맘 주어도 내 맘 갖고 싶진 않았지`\n",
        "  - [My mind give but my mom have want do not](https://)\n",
        "\n",
        "### 2. Language-specific rule\n",
        "\n",
        "Statistical Machine Translation was a Huge Milestone\n",
        "Statistical machine translation systems perform much better than rule-based systems if you give them enough training data. Franz Josef Och improved on these ideas and used them to build Google Translate in the early 2000s. Machine Translation was finally available to the world.\n",
        "\n",
        "In the early days, it was surprising to everyone that the “dumb” approach to translating based on probability worked better than rule-based systems designed by linguists. This led to a (somewhat mean) saying among researchers in the 80s:\n",
        "\n",
        "“Every time I fire a linguist, my accuracy goes up.”\n",
        "— Frederick Jelinek\n",
        "\n",
        "### 3.  Statistical Machine Translation Systems\n",
        "\n",
        "- Much better than rule-based systems if you have enough training data.\n",
        "- [Franz Josef Och](https://en.wikipedia.org/wiki/Franz_Josef_Och) used SMTS and used it to develope Google Translate in the early 2000s.\n",
        "- `Machine Translation was finally available to the world`\n",
        "\n",
        "**Threshold** \n",
        "- New pair of language pairs (ex) Telegu-Uganda) does not have parelell corpus/data. \n",
        "- So they need intermediate step. A language that has parallel corpus for almost all languages in the world :: ENGLISH!!!!!!!!!!!!!!!!!!!!!!\n",
        "\n",
        "![내가 만든 짤을 넣어 봅시다~~~~](근데 아직 드라이브에 업서요~~~~~)\n",
        "\n",
        "### 4. Making Computers Translate Better Using Statistics\n",
        "\n",
        "### Paper : \n",
        "(1)  Sequence to Sequence Learning with Neural Network, 2014.\n",
        "\n",
        "(2) Learning Phrase Representations using RNN Encoder-Decoder for Statistical Machine Translation, 2014.\n",
        "\n",
        "\n",
        "<h4>1) used RNN</h4> : the previous calculations change the results of future calculations. So it can learn the pattern of the sequence.\n",
        "\n",
        "2) encodings : 블라블라블라 적어야 합니다~~~~\n",
        "\n",
        "\n",
        "![original sentence](https://cdn-images-1.medium.com/max/1800/1*B24hDD3nGjfI4y3eNLNOgw.png)\n",
        "\n",
        "\n",
        "![translation](https://cdn-images-1.medium.com/max/1800/1*fGzLsEwnEwFo2Wo9kzIvBw.png)\n",
        "\n",
        "- What if we could train the second RNN to decode the sentence into Spanish instead of English? (We can use our parallel corpora)\n",
        "\n",
        "  - They don’t try to generate one exact translation. Instead, they generate thousands of possible translations and then they rank those translations by likely each is to be correct.\n",
        "\n",
        "\n",
        "\n",
        "[need to more summary](http)  "
      ]
    },
    {
      "metadata": {
        "id": "QHOt15haEUB0",
        "colab_type": "text"
      },
      "cell_type": "markdown",
      "source": [
        "That worked! If we just keep adding more rules until we can handle every part of grammar, our program should be able to translate any sentence, right?\n",
        "\n",
        "This is how the earliest machine translation systems worked. Linguists came up with complicated rules and programmed them in one-by-one."
      ]
    },
    {
      "metadata": {
        "id": "JMvp3EqbiEIT",
        "colab_type": "text"
      },
      "cell_type": "markdown",
      "source": [
        "---"
      ]
    },
    {
      "metadata": {
        "id": "rHPdCopoiEy6",
        "colab_type": "text"
      },
      "cell_type": "markdown",
      "source": [
        "---"
      ]
    }
  ]
}