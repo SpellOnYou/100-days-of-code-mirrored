{
  "nbformat": 4,
  "nbformat_minor": 0,
  "metadata": {
    "colab": {
      "name": "Neural Network Language Model.ipynb",
      "version": "0.3.2",
      "provenance": [],
      "collapsed_sections": [],
      "include_colab_link": true
    },
    "kernelspec": {
      "name": "python3",
      "display_name": "Python 3"
    },
    "accelerator": "TPU"
  },
  "cells": [
    {
      "cell_type": "markdown",
      "metadata": {
        "id": "view-in-github",
        "colab_type": "text"
      },
      "source": [
        "<a href=\"https://colab.research.google.com/github/SpellOnYou/100_Days_of_ML_Code/blob/master/code/Neural_Network_Language_Model.ipynb\" target=\"_parent\"><img src=\"https://colab.research.google.com/assets/colab-badge.svg\" alt=\"Open In Colab\"/></a>"
      ]
    },
    {
      "metadata": {
        "id": "Avyc1Ht10gkF",
        "colab_type": "code",
        "colab": {}
      },
      "cell_type": "code",
      "source": [
        "import tensorflow as tf\n",
        "import numpy as np\n",
        "tf.reset_default_graph()"
      ],
      "execution_count": 0,
      "outputs": []
    },
    {
      "metadata": {
        "id": "bbQQg4Dk-LQm",
        "colab_type": "code",
        "colab": {}
      },
      "cell_type": "code",
      "source": [
        "sents_kor = [\"나는 강아지를 좋아한다\", \"나는 커피를 사랑한다\", \"나는 우유를 싫어한다\"]\n",
        "sents_eng = [\"i like dog\", \"i love coffee\", \"i hate milk\", ]"
      ],
      "execution_count": 0,
      "outputs": []
    },
    {
      "metadata": {
        "id": "QNFR9xUP8vLd",
        "colab_type": "code",
        "colab": {}
      },
      "cell_type": "code",
      "source": [
        "words_kor = list(set(\" \".join(sents_kor).split()))\n",
        "words_eng = list(set(\" \".join(sents_eng).split()))"
      ],
      "execution_count": 0,
      "outputs": []
    },
    {
      "metadata": {
        "id": "IxjUZ8-_9LQv",
        "colab_type": "code",
        "colab": {}
      },
      "cell_type": "code",
      "source": [
        "def word_dict(word_list, idx = False):\n",
        "  if not idx:\n",
        "    return{word:idx for idx, word in enumerate(word_list)}\n",
        "  return {idx:word for idx, word in enumerate(word_list)}  "
      ],
      "execution_count": 0,
      "outputs": []
    },
    {
      "metadata": {
        "id": "NCefuFZe-5RJ",
        "colab_type": "code",
        "colab": {}
      },
      "cell_type": "code",
      "source": [
        "bag_kor = word_dict(words_kor)\n",
        "bag_eng = word_dict(words_eng)\n",
        "n_class_eng = len(bag_eng)\n",
        "n_class_kor = len(bag_kor)"
      ],
      "execution_count": 0,
      "outputs": []
    },
    {
      "metadata": {
        "id": "bXxDpMnyC4jc",
        "colab_type": "code",
        "colab": {
          "base_uri": "https://localhost:8080/",
          "height": 34
        },
        "outputId": "a246074c-dfdb-485f-b1ed-aeb749e8ddc6"
      },
      "cell_type": "code",
      "source": [
        "len(bag_kor)"
      ],
      "execution_count": 56,
      "outputs": [
        {
          "output_type": "execute_result",
          "data": {
            "text/plain": [
              "7"
            ]
          },
          "metadata": {
            "tags": []
          },
          "execution_count": 56
        }
      ]
    },
    {
      "metadata": {
        "id": "_1duXZeaefbh",
        "colab_type": "code",
        "colab": {}
      },
      "cell_type": "code",
      "source": [
        "# NNLM Parametber\n",
        "n_step = 2 # number of steps ['i like', 'like dog']\n",
        "n_hidden = 1 # number of hidden units"
      ],
      "execution_count": 0,
      "outputs": []
    },
    {
      "metadata": {
        "id": "Vm0lbD9s-9Pz",
        "colab_type": "code",
        "colab": {}
      },
      "cell_type": "code",
      "source": [
        "def make_batch(sentences):\n",
        "  input_batch, target_batch = [], []\n",
        "  for sent in sentences:\n",
        "    words = sent.split()\n",
        "    input = [bag_kor[w] for w in words[:-1]] #except the last word, list of idx\n",
        "#     print(input)\n",
        "    target = bag_kor[words[-1]] #last word, idx\n",
        "#     print(target)\n",
        "    \n",
        "    # one-hot encoding\n",
        "    input_batch.append(np.eye(n_class_kor)[input])\n",
        "    target_batch.append(np.eye(n_class_kor)[target])\n",
        "  return input_batch, target_batch"
      ],
      "execution_count": 0,
      "outputs": []
    },
    {
      "metadata": {
        "id": "hZarpQ4VIman",
        "colab_type": "code",
        "colab": {
          "base_uri": "https://localhost:8080/",
          "height": 156
        },
        "outputId": "6a9ac08d-2dea-411f-d980-b01adc2272fd"
      },
      "cell_type": "code",
      "source": [
        "make_batch(sents_kor)"
      ],
      "execution_count": 61,
      "outputs": [
        {
          "output_type": "execute_result",
          "data": {
            "text/plain": [
              "([array([[0., 1., 0., 0., 0., 0., 0.],\n",
              "         [0., 0., 0., 0., 0., 0., 1.]]), array([[0., 1., 0., 0., 0., 0., 0.],\n",
              "         [0., 0., 0., 0., 0., 1., 0.]]), array([[0., 1., 0., 0., 0., 0., 0.],\n",
              "         [0., 0., 0., 1., 0., 0., 0.]])],\n",
              " [array([0., 0., 0., 0., 1., 0., 0.]),\n",
              "  array([0., 0., 1., 0., 0., 0., 0.]),\n",
              "  array([1., 0., 0., 0., 0., 0., 0.])])"
            ]
          },
          "metadata": {
            "tags": []
          },
          "execution_count": 61
        }
      ]
    },
    {
      "metadata": {
        "id": "E-qx3rlzIzOu",
        "colab_type": "code",
        "colab": {}
      },
      "cell_type": "code",
      "source": [
        "X = tf.placeholder(tf.float32, [None, n_step, n_class_kor]) # [batch_size, number of steps, number of Vocabulary]\n",
        "Y = tf.placeholder(tf.float32, [None, n_class_kor])"
      ],
      "execution_count": 0,
      "outputs": []
    },
    {
      "metadata": {
        "id": "zTT_KOdUD4KF",
        "colab_type": "text"
      },
      "cell_type": "markdown",
      "source": [
        "[batch_size, number of steps, number of Vocabulary]"
      ]
    },
    {
      "metadata": {
        "id": "F_tq1yXaB5ta",
        "colab_type": "code",
        "colab": {
          "base_uri": "https://localhost:8080/",
          "height": 88
        },
        "outputId": "a3b95998-5a83-49b5-b29e-48d8742f06fe"
      },
      "cell_type": "code",
      "source": [
        "input = tf.reshape(X, shape=[-1, n_step * n_class_kor])"
      ],
      "execution_count": 66,
      "outputs": [
        {
          "output_type": "stream",
          "text": [
            "WARNING:tensorflow:From /usr/local/lib/python3.6/dist-packages/tensorflow/python/framework/op_def_library.py:263: colocate_with (from tensorflow.python.framework.ops) is deprecated and will be removed in a future version.\n",
            "Instructions for updating:\n",
            "Colocations handled automatically by placer.\n"
          ],
          "name": "stdout"
        }
      ]
    },
    {
      "metadata": {
        "id": "nC1SNdIJERfX",
        "colab_type": "text"
      },
      "cell_type": "markdown",
      "source": [
        "#### H, hidden layer, matrix size:  (n_step * n_class_kor, n_hidden)"
      ]
    },
    {
      "metadata": {
        "id": "5zVrEP75EPxj",
        "colab_type": "code",
        "colab": {
          "base_uri": "https://localhost:8080/",
          "height": 34
        },
        "outputId": "61f4bb02-a1ee-4e4c-a25b-96c649b89a42"
      },
      "cell_type": "code",
      "source": [
        "H = tf.Variable(tf.random_normal([n_step * n_class_kor, n_hidden])); H"
      ],
      "execution_count": 75,
      "outputs": [
        {
          "output_type": "execute_result",
          "data": {
            "text/plain": [
              "<tf.Variable 'Variable_6:0' shape=(14, 1) dtype=float32_ref>"
            ]
          },
          "metadata": {
            "tags": []
          },
          "execution_count": 75
        }
      ]
    },
    {
      "metadata": {
        "id": "YnGozqwRFWRU",
        "colab_type": "text"
      },
      "cell_type": "markdown",
      "source": [
        "#### b, Bias of hidden layer"
      ]
    },
    {
      "metadata": {
        "id": "U9WYiZPfEFkY",
        "colab_type": "code",
        "colab": {
          "base_uri": "https://localhost:8080/",
          "height": 34
        },
        "outputId": "4501d819-0011-4fa5-9c90-04a45c23c4cc"
      },
      "cell_type": "code",
      "source": [
        "d = tf.Variable(tf.random_normal([n_hidden])); d"
      ],
      "execution_count": 70,
      "outputs": [
        {
          "output_type": "execute_result",
          "data": {
            "text/plain": [
              "<tf.Variable 'Variable_3:0' shape=(1,) dtype=float32_ref>"
            ]
          },
          "metadata": {
            "tags": []
          },
          "execution_count": 70
        }
      ]
    },
    {
      "metadata": {
        "id": "oc0sXLGKEtT4",
        "colab_type": "code",
        "colab": {
          "base_uri": "https://localhost:8080/",
          "height": 34
        },
        "outputId": "7cef3477-9b20-4d13-c43f-a765924f8005"
      },
      "cell_type": "code",
      "source": [
        "U = tf.Variable(tf.random_normal([n_hidden, n_class_kor])); U"
      ],
      "execution_count": 72,
      "outputs": [
        {
          "output_type": "execute_result",
          "data": {
            "text/plain": [
              "<tf.Variable 'Variable_4:0' shape=(1, 7) dtype=float32_ref>"
            ]
          },
          "metadata": {
            "tags": []
          },
          "execution_count": 72
        }
      ]
    },
    {
      "metadata": {
        "id": "KOOPoYizE4QH",
        "colab_type": "code",
        "colab": {
          "base_uri": "https://localhost:8080/",
          "height": 34
        },
        "outputId": "1371265e-5eef-4f7f-914b-9a767acd99a6"
      },
      "cell_type": "code",
      "source": [
        "b = tf.Variable(tf.random_normal([n_class_kor])); b"
      ],
      "execution_count": 74,
      "outputs": [
        {
          "output_type": "execute_result",
          "data": {
            "text/plain": [
              "<tf.Variable 'Variable_5:0' shape=(7,) dtype=float32_ref>"
            ]
          },
          "metadata": {
            "tags": []
          },
          "execution_count": 74
        }
      ]
    },
    {
      "metadata": {
        "id": "4wpe5kPTFHzG",
        "colab_type": "code",
        "colab": {}
      },
      "cell_type": "code",
      "source": [
        "tanh = tf.nn.tanh(d + tf.matmul(input, H)) # [batch_size, n_hidden]\n",
        "model = tf.matmul(tanh, U) + b # [batch_size, n_class]\n",
        "\n",
        "cost = tf.reduce_mean(tf.nn.softmax_cross_entropy_with_logits_v2(logits=model, labels=Y))\n",
        "optimizer = tf.train.AdamOptimizer(0.001).minimize(cost)\n",
        "prediction =tf.argmax(model, 1)"
      ],
      "execution_count": 0,
      "outputs": []
    },
    {
      "metadata": {
        "id": "S310o0XCGC7u",
        "colab_type": "text"
      },
      "cell_type": "markdown",
      "source": [
        "### Training"
      ]
    },
    {
      "metadata": {
        "id": "ecWiWVqqGHUe",
        "colab_type": "code",
        "colab": {
          "base_uri": "https://localhost:8080/",
          "height": 102
        },
        "outputId": "03168be3-1eeb-43d7-da79-68fb6c9175bd"
      },
      "cell_type": "code",
      "source": [
        "init = tf.global_variables_initializer()\n",
        "sess = tf.Session()\n",
        "sess.run(init)\n",
        "\n",
        "input_batch, target_batch = make_batch(sents_kor)\n",
        "\n",
        "for epoch in range(5000):\n",
        "    _, loss = sess.run([optimizer, cost], feed_dict={X: input_batch, Y: target_batch})\n",
        "    if (epoch + 1)%1000 == 0:\n",
        "        print('Epoch:', '%04d' % (epoch + 1), 'cost =', '{:.6f}'.format(loss))"
      ],
      "execution_count": 77,
      "outputs": [
        {
          "output_type": "stream",
          "text": [
            "Epoch: 1000 cost = 1.554112\n",
            "Epoch: 2000 cost = 1.189193\n",
            "Epoch: 3000 cost = 1.021053\n",
            "Epoch: 4000 cost = 0.558948\n",
            "Epoch: 5000 cost = 0.340857\n"
          ],
          "name": "stdout"
        }
      ]
    },
    {
      "metadata": {
        "id": "Buv4gFn2GUJo",
        "colab_type": "text"
      },
      "cell_type": "markdown",
      "source": [
        "### Predict"
      ]
    },
    {
      "metadata": {
        "id": "XnuJYq3JGZcz",
        "colab_type": "code",
        "colab": {}
      },
      "cell_type": "code",
      "source": [
        "predict =  sess.run([prediction], feed_dict={X: input_batch})"
      ],
      "execution_count": 0,
      "outputs": []
    },
    {
      "metadata": {
        "id": "Os0daRVxGqBV",
        "colab_type": "code",
        "colab": {
          "base_uri": "https://localhost:8080/",
          "height": 34
        },
        "outputId": "191205fa-ff02-4dfb-f84e-533dd6f864b2"
      },
      "cell_type": "code",
      "source": [
        "predict"
      ],
      "execution_count": 79,
      "outputs": [
        {
          "output_type": "execute_result",
          "data": {
            "text/plain": [
              "[array([4, 2, 0])]"
            ]
          },
          "metadata": {
            "tags": []
          },
          "execution_count": 79
        }
      ]
    },
    {
      "metadata": {
        "id": "vo_yClpaGetu",
        "colab_type": "text"
      },
      "cell_type": "markdown",
      "source": [
        "### Test"
      ]
    },
    {
      "metadata": {
        "id": "-IUapkRKGhQe",
        "colab_type": "code",
        "colab": {}
      },
      "cell_type": "code",
      "source": [
        "input = [sen.split()[:2] for sen in sents_kor]"
      ],
      "execution_count": 0,
      "outputs": []
    },
    {
      "metadata": {
        "id": "KSBknRHSG_Xx",
        "colab_type": "code",
        "colab": {
          "base_uri": "https://localhost:8080/",
          "height": 34
        },
        "outputId": "657a8b29-050b-43d7-e65f-e74fa1da755e"
      },
      "cell_type": "code",
      "source": [
        "input"
      ],
      "execution_count": 82,
      "outputs": [
        {
          "output_type": "execute_result",
          "data": {
            "text/plain": [
              "[['나는', '강아지를'], ['나는', '커피를'], ['나는', '우유를']]"
            ]
          },
          "metadata": {
            "tags": []
          },
          "execution_count": 82
        }
      ]
    },
    {
      "metadata": {
        "id": "mph8fX7rHGrl",
        "colab_type": "code",
        "colab": {}
      },
      "cell_type": "code",
      "source": [
        "number_dict_kor = word_dict(words_kor, idx=True)"
      ],
      "execution_count": 0,
      "outputs": []
    },
    {
      "metadata": {
        "id": "53f62RZ5G962",
        "colab_type": "code",
        "colab": {
          "base_uri": "https://localhost:8080/",
          "height": 54
        },
        "outputId": "38e5f4f5-d6e7-432a-e021-d735eecfb5ae"
      },
      "cell_type": "code",
      "source": [
        "print([sen.split()[:2] for sen in sents_kor], '->', [number_dict_kor[n] for n in predict[0]])"
      ],
      "execution_count": 86,
      "outputs": [
        {
          "output_type": "stream",
          "text": [
            "[['나는', '강아지를'], ['나는', '커피를'], ['나는', '우유를']] -> ['좋아한다', '사랑한다', '싫어한다']\n"
          ],
          "name": "stdout"
        }
      ]
    },
    {
      "metadata": {
        "id": "woM8dV7qHEjf",
        "colab_type": "code",
        "colab": {}
      },
      "cell_type": "code",
      "source": [
        ""
      ],
      "execution_count": 0,
      "outputs": []
    }
  ]
}